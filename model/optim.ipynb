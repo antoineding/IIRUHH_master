{
 "cells": [
  {
   "cell_type": "code",
   "execution_count": 1,
   "metadata": {},
   "outputs": [
    {
     "data": {
      "text/plain": [
       "-1.0"
      ]
     },
     "metadata": {},
     "output_type": "display_data"
    }
   ],
   "source": [
    "struct Calibration\n",
    "    σ::Float64           # elasticity of relative demand with respect to price         \n",
    "    γ::Vector{Float64}   # intensity in each good\n",
    "    ϵ::Vector{Float64}   # elasticity of relative demand with respect to income in luxury good sector\n",
    "    κ::Vector{Float64}   # For Stone and Geary\n",
    "    g::Vector{Float64}\n",
    "end\n",
    "\n",
    "cal = Calibration(\n",
    "    0.5,                    # sigma=0.5 completementary goods\n",
    "    [1/3, 1/3, 1/3],        #intensity\n",
    "    [0.6, 1.0, 1.65],       #ELASTICITIES\n",
    "    [0.05, 0.03, 0.02],     #For Stone and Geary\n",
    "    [1.05, 1.02, 1.01]      # price dynamics\n",
    ")\n",
    "\n",
    "ρ=(cal.σ-1)/cal.σ"
   ]
  },
  {
   "cell_type": "code",
   "execution_count": 51,
   "metadata": {},
   "outputs": [
    {
     "data": {
      "text/plain": [
       "3-element Vector{Float64}:\n",
       "  5.0\n",
       "  1.0\n",
       " 10.0"
      ]
     },
     "metadata": {},
     "output_type": "display_data"
    }
   ],
   "source": [
    "p=[5.0, 10.0, 15.0]\n",
    "Co=[5.0, 1.0, 10.0]\n"
   ]
  },
  {
   "cell_type": "code",
   "execution_count": 166,
   "metadata": {},
   "outputs": [
    {
     "data": {
      "text/plain": [
       "185.0"
      ]
     },
     "metadata": {},
     "output_type": "display_data"
    }
   ],
   "source": [
    "using JuMP, Ipopt\n",
    "m=Model(Ipopt.Optimizer)\n",
    "@variable(m, C[1:3])\n",
    "@variable(m, U)\n",
    "E=sum(p[i]*C[i] for i=1:length(C))\n",
    "Exp=sum(p[i]*Co[i] for i=1:length(Co))"
   ]
  },
  {
   "cell_type": "code",
   "execution_count": 167,
   "metadata": {},
   "outputs": [
    {
     "data": {
      "text/plain": [
       "(1.0 - (0.3333333333333333 ^ (1.0 / 0.5) * (C[1] / U ^ ((1.0 - 0.5) * 0.5 * 0.6)) ^ -1.0 + 0.3333333333333333 ^ (1.0 / 0.5) * (C[2] / U ^ ((1.0 - 0.5) * 0.5 * 1.0)) ^ -1.0 + 0.3333333333333333 ^ (1.0 / 0.5) * (C[3] / U ^ ((1.0 - 0.5) * 0.5 * 1.65)) ^ -1.0) = 0, 185.0 - (5.0 * C[1] + 10.0 * C[2] + 15.0 * C[3]) = 0, 0 ≤ C[1] ≤ 10, 0.0 - C[2] ≤ 0, 0.0 - C[3] ≤ 0)"
      ]
     },
     "metadata": {},
     "output_type": "display_data"
    }
   ],
   "source": [
    "@NLobjective(m, Max, U)\n",
    "@NLconstraints m begin\n",
    "    Utility, 1==sum(cal.γ[i]^(1/cal.σ)*(C[i]/U^((1-cal.σ)*cal.σ*cal.ϵ[i]))^ρ for i=1:length(C))\n",
    "    Expenditure, Exp==sum(p[i]*C[i] for i = 1:length(C))   \n",
    "    P1, 0<=C[1]<=10\n",
    "    P2, 0<=C[2]\n",
    "    P3, 0<=C[3] \n",
    "end"
   ]
  },
  {
   "cell_type": "code",
   "execution_count": 168,
   "metadata": {},
   "outputs": [
    {
     "name": "stdout",
     "output_type": "stream",
     "text": [
      "Max U\n",
      "Subject to\n",
      " 1.0 - (0.3333333333333333 ^ (1.0 / 0.5) * (C[1] / U ^ ((1.0 - 0.5) * 0.5 * 0.6)) ^ -1.0 + 0.3333333333333333 ^ (1.0 / 0.5) * (C[2] / U ^ ((1.0 - 0.5) * 0.5 * 1.0)) ^ -1.0 + 0.3333333333333333 ^ (1.0 / 0.5) * (C[3] / U ^ ((1.0 - 0.5) * 0.5 * 1.65)) ^ -1.0) = 0\n",
      " 185.0 - (5.0 * C[1] + 10.0 * C[2] + 15.0 * C[3]) = 0\n",
      " 0 ≤ C[1] ≤ 10\n",
      " 0.0 - C[2] ≤ 0\n",
      " 0.0 - C[3] ≤ 0\n"
     ]
    }
   ],
   "source": [
    "print(m)"
   ]
  },
  {
   "cell_type": "code",
   "execution_count": 169,
   "metadata": {},
   "outputs": [
    {
     "name": "stdout",
     "output_type": "stream",
     "text": [
      "This is Ipopt version 3.14.4, running with linear solver MUMPS 5.4.1.\n",
      "\n",
      "Number of nonzeros in equality constraint Jacobian...:        7\n",
      "Number of nonzeros in inequality constraint Jacobian.:        3\n",
      "Number of nonzeros in Lagrangian Hessian.............:        7\n",
      "\n",
      "The Jacobian for the equality constraints contains an invalid number\n",
      "\n",
      "Number of Iterations....: 0\n",
      "\n",
      "Number of objective function evaluations             = 0\n",
      "Number of objective gradient evaluations             = 0\n",
      "Number of equality constraint evaluations            = 0\n",
      "Number of inequality constraint evaluations          = 1\n",
      "Number of equality constraint Jacobian evaluations   = 1\n",
      "Number of inequality constraint Jacobian evaluations = 0\n",
      "Number of Lagrangian Hessian evaluations             = 0\n",
      "Total seconds in IPOPT                               = 0.000\n",
      "\n",
      "EXIT: Invalid number in NLP function or derivative detected.\n"
     ]
    }
   ],
   "source": [
    "optimize!(m)"
   ]
  },
  {
   "cell_type": "code",
   "execution_count": 156,
   "metadata": {},
   "outputs": [
    {
     "data": {
      "text/plain": [
       "3-element Vector{Float64}:\n",
       " 10.000000099681763\n",
       "  6.749999975079559\n",
       "  4.499999983386374"
      ]
     },
     "metadata": {},
     "output_type": "display_data"
    }
   ],
   "source": [
    "value.(C)"
   ]
  },
  {
   "cell_type": "code",
   "execution_count": 28,
   "metadata": {},
   "outputs": [
    {
     "name": "stdout",
     "output_type": "stream",
     "text": [
      "This is Ipopt version 3.14.4, running with linear solver MUMPS 5.4.1.\n",
      "\n",
      "Number of nonzeros in equality constraint Jacobian...:        0\n",
      "Number of nonzeros in inequality constraint Jacobian.:        2\n",
      "Number of nonzeros in Lagrangian Hessian.............:        4\n",
      "\n",
      "Total number of variables............................:        2\n",
      "                     variables with only lower bounds:        0\n",
      "                variables with lower and upper bounds:        0\n",
      "                     variables with only upper bounds:        0\n",
      "Total number of equality constraints.................:        0\n",
      "Total number of inequality constraints...............:        1\n",
      "        inequality constraints with only lower bounds:        0\n",
      "   inequality constraints with lower and upper bounds:        0\n",
      "        inequality constraints with only upper bounds:        1\n",
      "\n",
      "iter    objective    inf_pr   inf_du lg(mu)  ||d||  lg(rg) alpha_du alpha_pr  ls\n",
      "   0 -1.1000000e+01 2.00e+00 1.03e+01  -1.0 0.00e+00    -  0.00e+00 0.00e+00   0\n",
      "   1 -2.7940943e+00 7.05e-01 3.15e+00  -1.0 5.31e-01    -  1.00e+00 1.00e+00h  1\n",
      "   2  3.0252074e+00 1.24e-01 1.20e+00  -1.0 2.96e-01    -  1.00e+00 1.00e+00h  1\n",
      "   3  4.4351082e+00 0.00e+00 1.50e-01  -1.0 5.43e-02    -  1.00e+00 1.00e+00h  1\n",
      "   4  4.4112067e+00 0.00e+00 2.19e-04  -2.5 8.60e-03    -  1.00e+00 1.00e+00h  1\n",
      "   5  4.4092612e+00 0.00e+00 2.49e-07  -3.8 1.69e-04    -  1.00e+00 1.00e+00f  1\n",
      "   6  4.4091126e+00 0.00e+00 1.24e-09  -5.7 1.28e-05    -  1.00e+00 1.00e+00h  1\n",
      "   7  4.4091108e+00 0.00e+00 1.95e-13  -8.6 1.59e-07    -  1.00e+00 1.00e+00h  1\n",
      "\n",
      "Number of Iterations....: 7\n",
      "\n",
      "                                   (scaled)                 (unscaled)\n",
      "Objective...............:   4.4091107643665541e+00    4.4091107643665541e+00\n",
      "Dual infeasibility......:   1.9539925233402755e-13    1.9539925233402755e-13\n",
      "Constraint violation....:   0.0000000000000000e+00    0.0000000000000000e+00\n",
      "Variable bound violation:   0.0000000000000000e+00    0.0000000000000000e+00\n",
      "Complementarity.........:   2.5060365853569629e-09    2.5060365853569629e-09\n",
      "Overall NLP error.......:   2.5060365853569629e-09    2.5060365853569629e-09\n",
      "\n",
      "\n",
      "Number of objective function evaluations             = 8\n",
      "Number of objective gradient evaluations             = 8\n",
      "Number of equality constraint evaluations            = 0\n",
      "Number of inequality constraint evaluations          = 8\n",
      "Number of equality constraint Jacobian evaluations   = 0\n",
      "Number of inequality constraint Jacobian evaluations = 8\n",
      "Number of Lagrangian Hessian evaluations             = 7\n",
      "Total seconds in IPOPT                               = 0.963\n",
      "\n",
      "EXIT: Optimal Solution Found.\n",
      "** Optimal objective function value = 4.409110764366554\n",
      "** Optimal solution = "
     ]
    },
    {
     "name": "stdout",
     "output_type": "stream",
     "text": [
      "[0.49239864764413793, -0.4918893479728137]\n"
     ]
    }
   ],
   "source": [
    "using JuMP, Ipopt\n",
    "m = Model(Ipopt.Optimizer)\n",
    "\n",
    "@variable(m, x[1:2])\n",
    "@NLobjective(m, Min, (x[1]-3)^3 + (x[2]-4)^2)\n",
    "@NLconstraint(m, (x[1]-1)^2 + (x[2]+1)^3 + exp(-x[1]) <= 1)\n",
    "\n",
    "JuMP.optimize!(m)\n",
    "\n",
    "println(\"** Optimal objective function value = \", JuMP.objective_value(m))\n",
    "println(\"** Optimal solution = \", JuMP.value.(x))"
   ]
  },
  {
   "cell_type": "code",
   "execution_count": 29,
   "metadata": {},
   "outputs": [
    {
     "name": "stdout",
     "output_type": "stream",
     "text": [
      "Min (x[1] - 3.0) ^ 3.0 + (x[2] - 4.0) ^ 2.0\n",
      "Subject to\n",
      " ((x[1] - 1.0) ^ 2.0 + (x[2] + 1.0) ^ 3.0 + exp(-x[1])) - 1.0 ≤ 0\n"
     ]
    }
   ],
   "source": [
    "print(m)"
   ]
  },
  {
   "cell_type": "code",
   "execution_count": null,
   "metadata": {},
   "outputs": [],
   "source": []
  }
 ],
 "metadata": {
  "kernelspec": {
   "display_name": "Julia 1.7.3",
   "language": "julia",
   "name": "julia-1.7"
  },
  "language_info": {
   "file_extension": ".jl",
   "mimetype": "application/julia",
   "name": "julia",
   "version": "1.7.3"
  },
  "orig_nbformat": 4,
  "vscode": {
   "interpreter": {
    "hash": "aee8b7b246df8f9039afb4144a1f6fd8d2ca17a180786b69acc140d282b71a49"
   }
  }
 },
 "nbformat": 4,
 "nbformat_minor": 2
}
