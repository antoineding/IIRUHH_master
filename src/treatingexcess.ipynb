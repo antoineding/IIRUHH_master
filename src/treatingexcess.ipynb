{
 "cells": [
  {
   "cell_type": "code",
   "execution_count": 1,
   "metadata": {},
   "outputs": [
    {
     "data": {
      "text/plain": [
       "-1.0"
      ]
     },
     "metadata": {},
     "output_type": "display_data"
    }
   ],
   "source": [
    "using NLsolve, Plots, Distributions, ProgressMeter, Statistics, StatsPlots\n",
    "\n",
    "struct Calibration\n",
    "    σ::Float64           # elasticity of relative demand with respect to price         \n",
    "    γ::Vector{Float64}   # intensity in each good\n",
    "    ϵ::Vector{Float64}   # elasticity of relative demand with respect to income in luxury good sector\n",
    "end\n",
    "\n",
    "cal = Calibration(\n",
    "    0.5,                    # sigma=0.5 completementary goods\n",
    "    [1/3, 1/3, 1/3],        #intensity\n",
    "    [0.6, 1.0, 1.65],       #ELASTICITIES\n",
    ")\n",
    "\n",
    "ρ=(cal.σ-1)/cal.σ"
   ]
  },
  {
   "cell_type": "code",
   "execution_count": 2,
   "metadata": {},
   "outputs": [
    {
     "data": {
      "text/plain": [
       "NHUtility (generic function with 1 method)"
      ]
     },
     "metadata": {},
     "output_type": "display_data"
    }
   ],
   "source": [
    "#NH Utility Function\n",
    "function solvingNH(u, C::Vector{Float64}, p::Vector{Float64}; cal=cal)\n",
    "    E=sum(p[i]*C[i] for i=1:length(C))\n",
    "    out=1-sum(cal.γ[i]^(1/cal.σ)*(((p[i]/E)^(-cal.σ)*cal.γ[i])/u^((1-cal.σ)*cal.σ*cal.ϵ[i]))^ρ for i=1:length(C))\n",
    "    return out\n",
    "end\n",
    "\n",
    "function NHUtility(C::Vector{Float64}, p::Vector{Float64} ;cal=cal,tol=1e-10,T=100)\n",
    "    res = nlsolve(u->[solvingNH(u[1], C, p)], [1.0])\n",
    "    #Utility level for given C endowment\n",
    "    U=res.zero[1]\n",
    "\n",
    "    #Wealth and Minimum expenditure for the utility at given endowment level\n",
    "    E=sum(p[i]*C[i] for i=1:length(C))\n",
    "    ExpNH=sum(cal.γ[i]*U^(cal.ϵ[i]*cal.σ*(1-cal.σ)) * (p[i]^(1-cal.σ)) for i = 1:length(C))^(1/(1-cal.σ))\n",
    "    \n",
    "    #Optimal Demand with income effect\n",
    "    C1=cal.γ[1]*U^(cal.ϵ[1]*cal.σ*(1-cal.σ))  * (p[1]/E)^(-cal.σ)\n",
    "    C2=cal.γ[2]*U^(cal.ϵ[2]*cal.σ*(1-cal.σ))  * (p[2]/E)^(-cal.σ)\n",
    "    C3=cal.γ[3]*U^(cal.ϵ[3]*cal.σ*(1-cal.σ))  * (p[3]/E)^(-cal.σ)\n",
    "\n",
    "    #Expenditure share with income effect\n",
    "    ω_p=cal.γ[1]*U^(cal.ϵ[1]*cal.σ*(1-cal.σ))  * (p[1]/E)^(1-cal.σ)\n",
    "    ω_n=cal.γ[2]*U^(cal.ϵ[2]*cal.σ*(1-cal.σ))  * (p[2]/E)^(1-cal.σ)\n",
    "    ω_l=cal.γ[3]*U^(cal.ϵ[3]*cal.σ*(1-cal.σ))  * (p[3]/E)^(1-cal.σ)\n",
    "\n",
    "    #Optimal update for demand\n",
    "    C=[C1,C2,C3]\n",
    "    ω=[ω_p, ω_n, ω_l]\n",
    "\n",
    "    return [C1, C2, C3, U]#, U, E, ω]\n",
    "\n",
    "end"
   ]
  },
  {
   "cell_type": "markdown",
   "metadata": {},
   "source": [
    "## Environment"
   ]
  },
  {
   "cell_type": "markdown",
   "metadata": {},
   "source": [
    "In this example, prices were first given at p=[4.0, 5.0, 10.0].\n",
    "\n",
    "However, this price level does not clear the market, we have demand that takes over endowment level in our economy. Hence we update the price level such that non homothetic is exactly equal to the endowment level.\n",
    "\n",
    "We set 3 sectors with 300 agents.\n",
    "\n",
    "### Random endowments\n",
    "\n",
    "- Lognormal for luxury products\n",
    "- Normal distribution for Primary and Normal, higher quantity for primary quantity\n",
    "\n",
    "In terms of aggregate quantity : $ Q_P>Q_N>Q_L$"
   ]
  },
  {
   "cell_type": "code",
   "execution_count": 6,
   "metadata": {},
   "outputs": [
    {
     "data": {
      "image/png": "[encoded data removed]",
      "image/svg+xml": "<?xml version=\"1.0\" encoding=\"utf-8\"?>\n<svg xmlns=\"http://www.w3.org/2000/svg\" xmlns:xlink=\"http://www.w3.org/1999/xlink\" width=\"600\" height=\"400\" viewBox=\"0 0 2400 1600\">\n<defs>\n  <clipPath id=\"clip620\">\n    <rect x=\"0\" y=\"0\" width=\"2400\" height=\"1600\"/>\n  </clipPath>\n</defs>\n<path clip-path=\"url(#clip620)\" d=\"\nM0 1600 L2400 1600 L2400 0 L0 0  Z\n  \" fill=\"#ffffff\" fill-rule=\"evenodd\" fill-opacity=\"1\"/>\n<defs>\n  <clipPath id=\"clip621\">\n    <rect x=\"480\" y=\"0\" width=\"1681\" height=\"1600\"/>\n  </clipPath>\n</defs>\n<path clip-path=\"url(#clip620)\" d=\"\nM156.598 1486.45 L2352.76 1486.45 L2352.76 123.472 L156.598 123.472  Z\n  \" fill=\"#ffffff\" fill-rule=\"evenodd\" fill-opacity=\"1\"/>\n<defs>\n  <clipPath id=\"clip622\">\n    <rect x=\"156\" y=\"123\" width=\"2197\" height=\"1364\"/>\n  </clipPath>\n</defs>\n<polyline clip-path=\"url(#clip622)\" style=\"stroke:#000000; stroke-linecap:butt; stroke-linejoin:round; stroke-width:2; stroke-opacity:0.1; fill:none\" points=\"\n  218.754,1486.45 218.754,123.472 \n  \"/>\n<polyline clip-path=\"url(#clip622)\" style=\"stroke:#000000; stroke-linecap:butt; stroke-linejoin:round; stroke-width:2; stroke-opacity:0.1; fill:none\" points=\"\n  711.387,1486.45 711.387,123.472 \n  \"/>\n<polyline clip-path=\"url(#clip622)\" style=\"stroke:#000000; stroke-linecap:butt; stroke-linejoin:round; stroke-width:2; stroke-opacity:0.1; fill:none\" points=\"\n  1204.02,1486.45 1204.02,123.472 \n  \"/>\n<polyline clip-path=\"url(#clip622)\" style=\"stroke:#000000; stroke-linecap:butt; stroke-linejoin:round; stroke-width:2; stroke-opacity:0.1; fill:none\" points=\"\n  1696.65,1486.45 1696.65,123.472 \n  \"/>\n<polyline clip-path=\"url(#clip622)\" style=\"stroke:#000000; stroke-linecap:butt; stroke-linejoin:round; stroke-width:2; stroke-opacity:0.1; fill:none\" points=\"\n  2189.29,1486.45 2189.29,123.472 \n  \"/>\n<polyline clip-path=\"url(#clip620)\" style=\"stroke:#000000; stroke-linecap:butt; stroke-linejoin:round; stroke-width:4; stroke-opacity:1; fill:none\" points=\"\n  156.598,1486.45 2352.76,1486.45 \n  \"/>\n<polyline clip-path=\"url(#clip620)\" style=\"stroke:#000000; stroke-linecap:butt; stroke-linejoin:round; stroke-width:4; stroke-opacity:1; fill:none\" points=\"\n  218.754,1486.45 218.754,1467.55 \n  \"/>\n<polyline clip-path=\"url(#clip620)\" style=\"stroke:#000000; stroke-linecap:butt; stroke-linejoin:round; stroke-width:4; stroke-opacity:1; fill:none\" points=\"\n  711.387,1486.45 711.387,1467.55 \n  \"/>\n<polyline clip-path=\"url(#clip620)\" style=\"stroke:#000000; stroke-linecap:butt; stroke-linejoin:round; stroke-width:4; stroke-opacity:1; fill:none\" points=\"\n  1204.02,1486.45 1204.02,1467.55 \n  \"/>\n<polyline clip-path=\"url(#clip620)\" style=\"stroke:#000000; stroke-linecap:butt; stroke-linejoin:round; stroke-width:4; stroke-opacity:1; fill:none\" points=\"\n  1696.65,1486.45 1696.65,1467.55 \n  \"/>\n<polyline clip-path=\"url(#clip620)\" style=\"stroke:#000000; stroke-linecap:butt; stroke-linejoin:round; stroke-width:4; stroke-opacity:1; fill:none\" points=\"\n  2189.29,1486.45 2189.29,1467.55 \n  \"/>\n<path clip-path=\"url(#clip620)\" d=\"M218.754 1517.37 Q215.143 1517.37 213.314 1520.93 Q211.508 1524.47 211.508 1531.6 Q211.508 1538.71 213.314 1542.27 Q215.143 1545.82 218.754 1545.82 Q222.388 1545.82 224.193 1542.27 Q226.022 1538.71 226.022 1531.6 Q226.022 1524.47 224.193 1520.93 Q222.388 1517.37 218.754 1517.37 M218.754 1513.66 Q224.564 1513.66 227.619 1518.27 Q230.698 1522.85 230.698 1531.6 Q230.698 1540.33 227.619 1544.94 Q224.564 1549.52 218.754 1549.52 Q212.943 1549.52 209.865 1544.94 Q206.809 1540.33 206.809 1531.6 Q206.809 1522.85 209.865 1518.27 Q212.943 1513.66 218.754 1513.66 Z\" fill=\"#000000\" fill-rule=\"evenodd\" fill-opacity=\"1\" /><path clip-path=\"url(#clip620)\" d=\"M686.074 1544.91 L693.713 1544.91 L693.713 1518.55 L685.403 1520.21 L685.403 1515.95 L693.667 1514.29 L698.343 1514.29 L698.343 1544.91 L705.981 1544.91 L705.981 1548.85 L686.074 1548.85 L686.074 1544.91 Z\" fill=\"#000000\" fill-rule=\"evenodd\" fill-opacity=\"1\" /><path clip-path=\"url(#clip620)\" d=\"M725.426 1517.37 Q721.815 1517.37 719.986 1520.93 Q718.18 1524.47 718.18 1531.6 Q718.18 1538.71 719.986 1542.27 Q721.815 1545.82 725.426 1545.82 Q729.06 1545.82 730.866 1542.27 Q732.694 1538.71 732.694 1531.6 Q732.694 1524.47 730.866 1520.93 Q729.06 1517.37 725.426 1517.37 M725.426 1513.66 Q731.236 1513.66 734.292 1518.27 Q737.37 1522.85 737.37 1531.6 Q737.37 1540.33 734.292 1544.94 Q731.236 1549.52 725.426 1549.52 Q719.616 1549.52 716.537 1544.94 Q713.481 1540.33 713.481 1531.6 Q713.481 1522.85 716.537 1518.27 Q719.616 1513.66 725.426 1513.66 Z\" fill=\"#000000\" fill-rule=\"evenodd\" fill-opacity=\"1\" /><path clip-path=\"url(#clip620)\" d=\"M1182.79 1544.91 L1199.11 1544.91 L1199.11 1548.85 L1177.17 1548.85 L1177.17 1544.91 Q1179.83 1542.16 1184.41 1537.53 Q1189.02 1532.88 1190.2 1531.53 Q1192.45 1529.01 1193.33 1527.27 Q1194.23 1525.51 1194.23 1523.82 Q1194.23 1521.07 1192.28 1519.33 Q1190.36 1517.6 1187.26 1517.6 Q1185.06 1517.6 1182.61 1518.36 Q1180.18 1519.13 1177.4 1520.68 L1177.4 1515.95 Q1180.22 1514.82 1182.68 1514.24 Q1185.13 1513.66 1187.17 1513.66 Q1192.54 1513.66 1195.73 1516.35 Q1198.93 1519.03 1198.93 1523.52 Q1198.93 1525.65 1198.12 1527.57 Q1197.33 1529.47 1195.22 1532.07 Q1194.64 1532.74 1191.54 1535.95 Q1188.44 1539.15 1182.79 1544.91 Z\" fill=\"#000000\" fill-rule=\"evenodd\" fill-opacity=\"1\" /><path clip-path=\"url(#clip620)\" d=\"M1218.93 1517.37 Q1215.32 1517.37 1213.49 1520.93 Q1211.68 1524.47 1211.68 1531.6 Q1211.68 1538.71 1213.49 1542.27 Q1215.32 1545.82 1218.93 1545.82 Q1222.56 1545.82 1224.37 1542.27 Q1226.2 1538.71 1226.2 1531.6 Q1226.2 1524.47 1224.37 1520.93 Q1222.56 1517.37 1218.93 1517.37 M1218.93 1513.66 Q1224.74 1513.66 1227.79 1518.27 Q1230.87 1522.85 1230.87 1531.6 Q1230.87 1540.33 1227.79 1544.94 Q1224.74 1549.52 1218.93 1549.52 Q1213.12 1549.52 1210.04 1544.94 Q1206.98 1540.33 1206.98 1531.6 Q1206.98 1522.85 1210.04 1518.27 Q1213.12 1513.66 1218.93 1513.66 Z\" fill=\"#000000\" fill-rule=\"evenodd\" fill-opacity=\"1\" /><path clip-path=\"url(#clip620)\" d=\"M1685.5 1530.21 Q1688.85 1530.93 1690.73 1533.2 Q1692.62 1535.47 1692.62 1538.8 Q1692.62 1543.92 1689.11 1546.72 Q1685.59 1549.52 1679.11 1549.52 Q1676.93 1549.52 1674.62 1549.08 Q1672.32 1548.66 1669.87 1547.81 L1669.87 1543.29 Q1671.81 1544.43 1674.13 1545.01 Q1676.44 1545.58 1678.97 1545.58 Q1683.37 1545.58 1685.66 1543.85 Q1687.97 1542.11 1687.97 1538.8 Q1687.97 1535.75 1685.82 1534.03 Q1683.69 1532.3 1679.87 1532.3 L1675.84 1532.3 L1675.84 1528.45 L1680.06 1528.45 Q1683.5 1528.45 1685.33 1527.09 Q1687.16 1525.7 1687.16 1523.11 Q1687.16 1520.45 1685.26 1519.03 Q1683.39 1517.6 1679.87 1517.6 Q1677.95 1517.6 1675.75 1518.01 Q1673.55 1518.43 1670.91 1519.31 L1670.91 1515.14 Q1673.57 1514.4 1675.89 1514.03 Q1678.23 1513.66 1680.29 1513.66 Q1685.61 1513.66 1688.71 1516.09 Q1691.81 1518.5 1691.81 1522.62 Q1691.81 1525.49 1690.17 1527.48 Q1688.53 1529.45 1685.5 1530.21 Z\" fill=\"#000000\" fill-rule=\"evenodd\" fill-opacity=\"1\" /><path clip-path=\"url(#clip620)\" d=\"M1711.49 1517.37 Q1707.88 1517.37 1706.05 1520.93 Q1704.24 1524.47 1704.24 1531.6 Q1704.24 1538.71 1706.05 1542.27 Q1707.88 1545.82 1711.49 1545.82 Q1715.12 1545.82 1716.93 1542.27 Q1718.76 1538.71 1718.76 1531.6 Q1718.76 1524.47 1716.93 1520.93 Q1715.12 1517.37 1711.49 1517.37 M1711.49 1513.66 Q1717.3 1513.66 1720.36 1518.27 Q1723.43 1522.85 1723.43 1531.6 Q1723.43 1540.33 1720.36 1544.94 Q1717.3 1549.52 1711.49 1549.52 Q1705.68 1549.52 1702.6 1544.94 Q1699.55 1540.33 1699.55 1531.6 Q1699.55 1522.85 1702.6 1518.27 Q1705.68 1513.66 1711.49 1513.66 Z\" fill=\"#000000\" fill-rule=\"evenodd\" fill-opacity=\"1\" /><path clip-path=\"url(#clip620)\" d=\"M2177.46 1518.36 L2165.65 1536.81 L2177.46 1536.81 L2177.46 1518.36 M2176.23 1514.29 L2182.11 1514.29 L2182.11 1536.81 L2187.04 1536.81 L2187.04 1540.7 L2182.11 1540.7 L2182.11 1548.85 L2177.46 1548.85 L2177.46 1540.7 L2161.85 1540.7 L2161.85 1536.19 L2176.23 1514.29 Z\" fill=\"#000000\" fill-rule=\"evenodd\" fill-opacity=\"1\" /><path clip-path=\"url(#clip620)\" d=\"M2204.77 1517.37 Q2201.16 1517.37 2199.33 1520.93 Q2197.53 1524.47 2197.53 1531.6 Q2197.53 1538.71 2199.33 1542.27 Q2201.16 1545.82 2204.77 1545.82 Q2208.41 1545.82 2210.21 1542.27 Q2212.04 1538.71 2212.04 1531.6 Q2212.04 1524.47 2210.21 1520.93 Q2208.41 1517.37 2204.77 1517.37 M2204.77 1513.66 Q2210.58 1513.66 2213.64 1518.27 Q2216.72 1522.85 2216.72 1531.6 Q2216.72 1540.33 2213.64 1544.94 Q2210.58 1549.52 2204.77 1549.52 Q2198.96 1549.52 2195.88 1544.94 Q2192.83 1540.33 2192.83 1531.6 Q2192.83 1522.85 2195.88 1518.27 Q2198.96 1513.66 2204.77 1513.66 Z\" fill=\"#000000\" fill-rule=\"evenodd\" fill-opacity=\"1\" /><polyline clip-path=\"url(#clip622)\" style=\"stroke:#000000; stroke-linecap:butt; stroke-linejoin:round; stroke-width:2; stroke-opacity:0.1; fill:none\" points=\"\n  156.598,1447.87 2352.76,1447.87 \n  \"/>\n<polyline clip-path=\"url(#clip622)\" style=\"stroke:#000000; stroke-linecap:butt; stroke-linejoin:round; stroke-width:2; stroke-opacity:0.1; fill:none\" points=\"\n  156.598,1248.43 2352.76,1248.43 \n  \"/>\n<polyline clip-path=\"url(#clip622)\" style=\"stroke:#000000; stroke-linecap:butt; stroke-linejoin:round; stroke-width:2; stroke-opacity:0.1; fill:none\" points=\"\n  156.598,1048.98 2352.76,1048.98 \n  \"/>\n<polyline clip-path=\"url(#clip622)\" style=\"stroke:#000000; stroke-linecap:butt; stroke-linejoin:round; stroke-width:2; stroke-opacity:0.1; fill:none\" points=\"\n  156.598,849.541 2352.76,849.541 \n  \"/>\n<polyline clip-path=\"url(#clip622)\" style=\"stroke:#000000; stroke-linecap:butt; stroke-linejoin:round; stroke-width:2; stroke-opacity:0.1; fill:none\" points=\"\n  156.598,650.096 2352.76,650.096 \n  \"/>\n<polyline clip-path=\"url(#clip622)\" style=\"stroke:#000000; stroke-linecap:butt; stroke-linejoin:round; stroke-width:2; stroke-opacity:0.1; fill:none\" points=\"\n  156.598,450.652 2352.76,450.652 \n  \"/>\n<polyline clip-path=\"url(#clip622)\" style=\"stroke:#000000; stroke-linecap:butt; stroke-linejoin:round; stroke-width:2; stroke-opacity:0.1; fill:none\" points=\"\n  156.598,251.208 2352.76,251.208 \n  \"/>\n<polyline clip-path=\"url(#clip620)\" style=\"stroke:#000000; stroke-linecap:butt; stroke-linejoin:round; stroke-width:4; stroke-opacity:1; fill:none\" points=\"\n  156.598,1486.45 156.598,123.472 \n  \"/>\n<polyline clip-path=\"url(#clip620)\" style=\"stroke:#000000; stroke-linecap:butt; stroke-linejoin:round; stroke-width:4; stroke-opacity:1; fill:none\" points=\"\n  156.598,1447.87 175.496,1447.87 \n  \"/>\n<polyline clip-path=\"url(#clip620)\" style=\"stroke:#000000; stroke-linecap:butt; stroke-linejoin:round; stroke-width:4; stroke-opacity:1; fill:none\" points=\"\n  156.598,1248.43 175.496,1248.43 \n  \"/>\n<polyline clip-path=\"url(#clip620)\" style=\"stroke:#000000; stroke-linecap:butt; stroke-linejoin:round; stroke-width:4; stroke-opacity:1; fill:none\" points=\"\n  156.598,1048.98 175.496,1048.98 \n  \"/>\n<polyline clip-path=\"url(#clip620)\" style=\"stroke:#000000; stroke-linecap:butt; stroke-linejoin:round; stroke-width:4; stroke-opacity:1; fill:none\" points=\"\n  156.598,849.541 175.496,849.541 \n  \"/>\n<polyline clip-path=\"url(#clip620)\" style=\"stroke:#000000; stroke-linecap:butt; stroke-linejoin:round; stroke-width:4; stroke-opacity:1; fill:none\" points=\"\n  156.598,650.096 175.496,650.096 \n  \"/>\n<polyline clip-path=\"url(#clip620)\" style=\"stroke:#000000; stroke-linecap:butt; stroke-linejoin:round; stroke-width:4; stroke-opacity:1; fill:none\" points=\"\n  156.598,450.652 175.496,450.652 \n  \"/>\n<polyline clip-path=\"url(#clip620)\" style=\"stroke:#000000; stroke-linecap:butt; stroke-linejoin:round; stroke-width:4; stroke-opacity:1; fill:none\" points=\"\n  156.598,251.208 175.496,251.208 \n  \"/>\n<path clip-path=\"url(#clip620)\" d=\"M63.4226 1433.67 Q59.8115 1433.67 57.9828 1437.24 Q56.1773 1440.78 56.1773 1447.91 Q56.1773 1455.01 57.9828 1458.58 Q59.8115 1462.12 63.4226 1462.12 Q67.0569 1462.12 68.8624 1458.58 Q70.6911 1455.01 70.6911 1447.91 Q70.6911 1440.78 68.8624 1437.24 Q67.0569 1433.67 63.4226 1433.67 M63.4226 1429.97 Q69.2328 1429.97 72.2883 1434.57 Q75.367 1439.16 75.367 1447.91 Q75.367 1456.63 72.2883 1461.24 Q69.2328 1465.82 63.4226 1465.82 Q57.6125 1465.82 54.5338 1461.24 Q51.4782 1456.63 51.4782 1447.91 Q51.4782 1439.16 54.5338 1434.57 Q57.6125 1429.97 63.4226 1429.97 Z\" fill=\"#000000\" fill-rule=\"evenodd\" fill-opacity=\"1\" /><path clip-path=\"url(#clip620)\" d=\"M83.5845 1459.27 L88.4688 1459.27 L88.4688 1465.15 L83.5845 1465.15 L83.5845 1459.27 Z\" fill=\"#000000\" fill-rule=\"evenodd\" fill-opacity=\"1\" /><path clip-path=\"url(#clip620)\" d=\"M108.654 1433.67 Q105.043 1433.67 103.214 1437.24 Q101.409 1440.78 101.409 1447.91 Q101.409 1455.01 103.214 1458.58 Q105.043 1462.12 108.654 1462.12 Q112.288 1462.12 114.094 1458.58 Q115.922 1455.01 115.922 1447.91 Q115.922 1440.78 114.094 1437.24 Q112.288 1433.67 108.654 1433.67 M108.654 1429.97 Q114.464 1429.97 117.52 1434.57 Q120.598 1439.16 120.598 1447.91 Q120.598 1456.63 117.52 1461.24 Q114.464 1465.82 108.654 1465.82 Q102.844 1465.82 99.765 1461.24 Q96.7095 1456.63 96.7095 1447.91 Q96.7095 1439.16 99.765 1434.57 Q102.844 1429.97 108.654 1429.97 Z\" fill=\"#000000\" fill-rule=\"evenodd\" fill-opacity=\"1\" /><path clip-path=\"url(#clip620)\" d=\"M64.6495 1234.23 Q61.0384 1234.23 59.2097 1237.79 Q57.4041 1241.33 57.4041 1248.46 Q57.4041 1255.57 59.2097 1259.13 Q61.0384 1262.68 64.6495 1262.68 Q68.2837 1262.68 70.0892 1259.13 Q71.9179 1255.57 71.9179 1248.46 Q71.9179 1241.33 70.0892 1237.79 Q68.2837 1234.23 64.6495 1234.23 M64.6495 1230.52 Q70.4596 1230.52 73.5152 1235.13 Q76.5938 1239.71 76.5938 1248.46 Q76.5938 1257.19 73.5152 1261.8 Q70.4596 1266.38 64.6495 1266.38 Q58.8393 1266.38 55.7606 1261.8 Q52.7051 1257.19 52.7051 1248.46 Q52.7051 1239.71 55.7606 1235.13 Q58.8393 1230.52 64.6495 1230.52 Z\" fill=\"#000000\" fill-rule=\"evenodd\" fill-opacity=\"1\" /><path clip-path=\"url(#clip620)\" d=\"M84.8114 1259.83 L89.6956 1259.83 L89.6956 1265.71 L84.8114 1265.71 L84.8114 1259.83 Z\" fill=\"#000000\" fill-rule=\"evenodd\" fill-opacity=\"1\" /><path clip-path=\"url(#clip620)\" d=\"M100.691 1261.77 L108.33 1261.77 L108.33 1235.41 L100.02 1237.07 L100.02 1232.82 L108.283 1231.15 L112.959 1231.15 L112.959 1261.77 L120.598 1261.77 L120.598 1265.71 L100.691 1265.71 L100.691 1261.77 Z\" fill=\"#000000\" fill-rule=\"evenodd\" fill-opacity=\"1\" /><path clip-path=\"url(#clip620)\" d=\"M65.0198 1034.78 Q61.4087 1034.78 59.58 1038.35 Q57.7745 1041.89 57.7745 1049.02 Q57.7745 1056.13 59.58 1059.69 Q61.4087 1063.23 65.0198 1063.23 Q68.6541 1063.23 70.4596 1059.69 Q72.2883 1056.13 72.2883 1049.02 Q72.2883 1041.89 70.4596 1038.35 Q68.6541 1034.78 65.0198 1034.78 M65.0198 1031.08 Q70.83 1031.08 73.8855 1035.69 Q76.9642 1040.27 76.9642 1049.02 Q76.9642 1057.75 73.8855 1062.35 Q70.83 1066.94 65.0198 1066.94 Q59.2097 1066.94 56.131 1062.35 Q53.0754 1057.75 53.0754 1049.02 Q53.0754 1040.27 56.131 1035.69 Q59.2097 1031.08 65.0198 1031.08 Z\" fill=\"#000000\" fill-rule=\"evenodd\" fill-opacity=\"1\" /><path clip-path=\"url(#clip620)\" d=\"M85.1818 1060.39 L90.066 1060.39 L90.066 1066.26 L85.1818 1066.26 L85.1818 1060.39 Z\" fill=\"#000000\" fill-rule=\"evenodd\" fill-opacity=\"1\" /><path clip-path=\"url(#clip620)\" d=\"M104.279 1062.33 L120.598 1062.33 L120.598 1066.26 L98.6539 1066.26 L98.6539 1062.33 Q101.316 1059.57 105.899 1054.95 Q110.506 1050.29 111.686 1048.95 Q113.932 1046.43 114.811 1044.69 Q115.714 1042.93 115.714 1041.24 Q115.714 1038.49 113.77 1036.75 Q111.848 1035.01 108.746 1035.01 Q106.547 1035.01 104.094 1035.78 Q101.663 1036.54 98.8854 1038.09 L98.8854 1033.37 Q101.709 1032.24 104.163 1031.66 Q106.617 1031.08 108.654 1031.08 Q114.024 1031.08 117.219 1033.76 Q120.413 1036.45 120.413 1040.94 Q120.413 1043.07 119.603 1044.99 Q118.816 1046.89 116.709 1049.48 Q116.131 1050.15 113.029 1053.37 Q109.927 1056.57 104.279 1062.33 Z\" fill=\"#000000\" fill-rule=\"evenodd\" fill-opacity=\"1\" /><path clip-path=\"url(#clip620)\" d=\"M64.0708 835.339 Q60.4597 835.339 58.631 838.904 Q56.8254 842.446 56.8254 849.575 Q56.8254 856.682 58.631 860.247 Q60.4597 863.788 64.0708 863.788 Q67.705 863.788 69.5105 860.247 Q71.3392 856.682 71.3392 849.575 Q71.3392 842.446 69.5105 838.904 Q67.705 835.339 64.0708 835.339 M64.0708 831.636 Q69.8809 831.636 72.9365 836.242 Q76.0151 840.825 76.0151 849.575 Q76.0151 858.302 72.9365 862.909 Q69.8809 867.492 64.0708 867.492 Q58.2606 867.492 55.1819 862.909 Q52.1264 858.302 52.1264 849.575 Q52.1264 840.825 55.1819 836.242 Q58.2606 831.636 64.0708 831.636 Z\" fill=\"#000000\" fill-rule=\"evenodd\" fill-opacity=\"1\" /><path clip-path=\"url(#clip620)\" d=\"M84.2327 860.941 L89.1169 860.941 L89.1169 866.821 L84.2327 866.821 L84.2327 860.941 Z\" fill=\"#000000\" fill-rule=\"evenodd\" fill-opacity=\"1\" /><path clip-path=\"url(#clip620)\" d=\"M113.469 848.186 Q116.825 848.904 118.7 851.173 Q120.598 853.441 120.598 856.774 Q120.598 861.89 117.08 864.691 Q113.561 867.492 107.08 867.492 Q104.904 867.492 102.589 867.052 Q100.297 866.635 97.8437 865.779 L97.8437 861.265 Q99.7882 862.399 102.103 862.978 Q104.418 863.557 106.941 863.557 Q111.339 863.557 113.631 861.821 Q115.945 860.084 115.945 856.774 Q115.945 853.719 113.793 852.006 Q111.663 850.27 107.844 850.27 L103.816 850.27 L103.816 846.427 L108.029 846.427 Q111.478 846.427 113.307 845.061 Q115.135 843.673 115.135 841.08 Q115.135 838.418 113.237 837.006 Q111.362 835.571 107.844 835.571 Q105.922 835.571 103.723 835.987 Q101.524 836.404 98.8854 837.284 L98.8854 833.117 Q101.547 832.376 103.862 832.006 Q106.2 831.636 108.26 831.636 Q113.584 831.636 116.686 834.066 Q119.788 836.474 119.788 840.594 Q119.788 843.464 118.145 845.455 Q116.501 847.423 113.469 848.186 Z\" fill=\"#000000\" fill-rule=\"evenodd\" fill-opacity=\"1\" /><path clip-path=\"url(#clip620)\" d=\"M62.9365 635.895 Q59.3254 635.895 57.4967 639.46 Q55.6912 643.002 55.6912 650.131 Q55.6912 657.238 57.4967 660.802 Q59.3254 664.344 62.9365 664.344 Q66.5707 664.344 68.3763 660.802 Q70.205 657.238 70.205 650.131 Q70.205 643.002 68.3763 639.46 Q66.5707 635.895 62.9365 635.895 M62.9365 632.191 Q68.7467 632.191 71.8022 636.798 Q74.8809 641.381 74.8809 650.131 Q74.8809 658.858 71.8022 663.464 Q68.7467 668.048 62.9365 668.048 Q57.1264 668.048 54.0477 663.464 Q50.9921 658.858 50.9921 650.131 Q50.9921 641.381 54.0477 636.798 Q57.1264 632.191 62.9365 632.191 Z\" fill=\"#000000\" fill-rule=\"evenodd\" fill-opacity=\"1\" /><path clip-path=\"url(#clip620)\" d=\"M83.0984 661.497 L87.9827 661.497 L87.9827 667.376 L83.0984 667.376 L83.0984 661.497 Z\" fill=\"#000000\" fill-rule=\"evenodd\" fill-opacity=\"1\" /><path clip-path=\"url(#clip620)\" d=\"M111.015 636.89 L99.2095 655.339 L111.015 655.339 L111.015 636.89 M109.788 632.816 L115.668 632.816 L115.668 655.339 L120.598 655.339 L120.598 659.228 L115.668 659.228 L115.668 667.376 L111.015 667.376 L111.015 659.228 L95.4132 659.228 L95.4132 654.714 L109.788 632.816 Z\" fill=\"#000000\" fill-rule=\"evenodd\" fill-opacity=\"1\" /><path clip-path=\"url(#clip620)\" d=\"M64.418 436.451 Q60.8069 436.451 58.9782 440.016 Q57.1726 443.557 57.1726 450.687 Q57.1726 457.793 58.9782 461.358 Q60.8069 464.9 64.418 464.9 Q68.0522 464.9 69.8578 461.358 Q71.6865 457.793 71.6865 450.687 Q71.6865 443.557 69.8578 440.016 Q68.0522 436.451 64.418 436.451 M64.418 432.747 Q70.2281 432.747 73.2837 437.354 Q76.3624 441.937 76.3624 450.687 Q76.3624 459.414 73.2837 464.02 Q70.2281 468.604 64.418 468.604 Q58.6078 468.604 55.5291 464.02 Q52.4736 459.414 52.4736 450.687 Q52.4736 441.937 55.5291 437.354 Q58.6078 432.747 64.418 432.747 Z\" fill=\"#000000\" fill-rule=\"evenodd\" fill-opacity=\"1\" /><path clip-path=\"url(#clip620)\" d=\"M84.5799 462.053 L89.4641 462.053 L89.4641 467.932 L84.5799 467.932 L84.5799 462.053 Z\" fill=\"#000000\" fill-rule=\"evenodd\" fill-opacity=\"1\" /><path clip-path=\"url(#clip620)\" d=\"M99.6956 433.372 L118.052 433.372 L118.052 437.307 L103.978 437.307 L103.978 445.78 Q104.996 445.432 106.015 445.27 Q107.033 445.085 108.052 445.085 Q113.839 445.085 117.219 448.256 Q120.598 451.428 120.598 456.844 Q120.598 462.423 117.126 465.525 Q113.654 468.604 107.334 468.604 Q105.159 468.604 102.89 468.233 Q100.645 467.863 98.2372 467.122 L98.2372 462.423 Q100.321 463.557 102.543 464.113 Q104.765 464.668 107.242 464.668 Q111.246 464.668 113.584 462.562 Q115.922 460.455 115.922 456.844 Q115.922 453.233 113.584 451.127 Q111.246 449.02 107.242 449.02 Q105.367 449.02 103.492 449.437 Q101.64 449.854 99.6956 450.733 L99.6956 433.372 Z\" fill=\"#000000\" fill-rule=\"evenodd\" fill-opacity=\"1\" /><path clip-path=\"url(#clip620)\" d=\"M63.2606 237.007 Q59.6495 237.007 57.8208 240.572 Q56.0152 244.113 56.0152 251.243 Q56.0152 258.349 57.8208 261.914 Q59.6495 265.456 63.2606 265.456 Q66.8948 265.456 68.7004 261.914 Q70.5291 258.349 70.5291 251.243 Q70.5291 244.113 68.7004 240.572 Q66.8948 237.007 63.2606 237.007 M63.2606 233.303 Q69.0707 233.303 72.1263 237.91 Q75.205 242.493 75.205 251.243 Q75.205 259.97 72.1263 264.576 Q69.0707 269.159 63.2606 269.159 Q57.4504 269.159 54.3717 264.576 Q51.3162 259.97 51.3162 251.243 Q51.3162 242.493 54.3717 237.91 Q57.4504 233.303 63.2606 233.303 Z\" fill=\"#000000\" fill-rule=\"evenodd\" fill-opacity=\"1\" /><path clip-path=\"url(#clip620)\" d=\"M83.4225 262.608 L88.3067 262.608 L88.3067 268.488 L83.4225 268.488 L83.4225 262.608 Z\" fill=\"#000000\" fill-rule=\"evenodd\" fill-opacity=\"1\" /><path clip-path=\"url(#clip620)\" d=\"M109.071 249.345 Q105.922 249.345 104.071 251.497 Q102.242 253.65 102.242 257.4 Q102.242 261.127 104.071 263.303 Q105.922 265.456 109.071 265.456 Q112.219 265.456 114.047 263.303 Q115.899 261.127 115.899 257.4 Q115.899 253.65 114.047 251.497 Q112.219 249.345 109.071 249.345 M118.353 234.692 L118.353 238.951 Q116.594 238.118 114.788 237.678 Q113.006 237.238 111.246 237.238 Q106.617 237.238 104.163 240.363 Q101.733 243.488 101.385 249.808 Q102.751 247.794 104.811 246.729 Q106.871 245.641 109.348 245.641 Q114.557 245.641 117.566 248.812 Q120.598 251.96 120.598 257.4 Q120.598 262.724 117.45 265.942 Q114.302 269.159 109.071 269.159 Q103.075 269.159 99.9039 264.576 Q96.7326 259.97 96.7326 251.243 Q96.7326 243.048 100.621 238.187 Q104.51 233.303 111.061 233.303 Q112.82 233.303 114.603 233.65 Q116.408 233.997 118.353 234.692 Z\" fill=\"#000000\" fill-rule=\"evenodd\" fill-opacity=\"1\" /><path clip-path=\"url(#clip620)\" d=\"M825.626 17.6457 Q816.714 17.6457 811.447 24.2892 Q806.222 30.9327 806.222 42.3968 Q806.222 53.8203 811.447 60.4638 Q816.714 67.1073 825.626 67.1073 Q834.538 67.1073 839.723 60.4638 Q844.948 53.8203 844.948 42.3968 Q844.948 30.9327 839.723 24.2892 Q834.538 17.6457 825.626 17.6457 M837.09 71.4823 L847.865 83.2704 L837.981 83.2704 L829.028 73.5887 Q827.692 73.6697 826.962 73.7103 Q826.274 73.7508 825.626 73.7508 Q812.865 73.7508 805.209 65.2439 Q797.593 56.6965 797.593 42.3968 Q797.593 28.0566 805.209 19.5497 Q812.865 11.0023 825.626 11.0023 Q838.345 11.0023 845.961 19.5497 Q853.577 28.0566 853.577 42.3968 Q853.577 52.9291 849.323 60.4233 Q845.11 67.9175 837.09 71.4823 Z\" fill=\"#000000\" fill-rule=\"evenodd\" fill-opacity=\"1\" /><path clip-path=\"url(#clip620)\" d=\"M865.284 54.671 L865.284 27.2059 L872.738 27.2059 L872.738 54.3874 Q872.738 60.8284 875.249 64.0691 Q877.761 67.2693 882.784 67.2693 Q888.82 67.2693 892.303 63.421 Q895.828 59.5726 895.828 52.9291 L895.828 27.2059 L903.281 27.2059 L903.281 72.576 L895.828 72.576 L895.828 65.6084 Q893.114 69.7404 889.508 71.7658 Q885.944 73.7508 881.204 73.7508 Q873.386 73.7508 869.335 68.8897 Q865.284 64.0286 865.284 54.671 M884.04 26.1121 L884.04 26.1121 Z\" fill=\"#000000\" fill-rule=\"evenodd\" fill-opacity=\"1\" /><path clip-path=\"url(#clip620)\" d=\"M939.253 49.7694 Q930.22 49.7694 926.736 51.8354 Q923.252 53.9013 923.252 58.8839 Q923.252 62.8538 925.845 65.2034 Q928.478 67.5124 932.975 67.5124 Q939.172 67.5124 942.899 63.1374 Q946.667 58.7219 946.667 51.4303 L946.667 49.7694 L939.253 49.7694 M954.12 46.6907 L954.12 72.576 L946.667 72.576 L946.667 65.6895 Q944.114 69.8214 940.307 71.8063 Q936.499 73.7508 930.99 73.7508 Q924.022 73.7508 919.89 69.8619 Q915.799 65.9325 915.799 59.3701 Q915.799 51.7138 920.903 47.825 Q926.047 43.9361 936.215 43.9361 L946.667 43.9361 L946.667 43.2069 Q946.667 38.0623 943.264 35.2672 Q939.902 32.4315 933.785 32.4315 Q929.896 32.4315 926.21 33.3632 Q922.523 34.295 919.12 36.1584 L919.12 29.2718 Q923.212 27.692 927.06 26.9223 Q930.909 26.1121 934.554 26.1121 Q944.398 26.1121 949.259 31.2163 Q954.12 36.3204 954.12 46.6907 Z\" fill=\"#000000\" fill-rule=\"evenodd\" fill-opacity=\"1\" /><path clip-path=\"url(#clip620)\" d=\"M1007.19 45.1919 L1007.19 72.576 L999.733 72.576 L999.733 45.4349 Q999.733 38.994 997.222 35.7938 Q994.71 32.5936 989.687 32.5936 Q983.651 32.5936 980.168 36.4419 Q976.684 40.2903 976.684 46.9338 L976.684 72.576 L969.19 72.576 L969.19 27.2059 L976.684 27.2059 L976.684 34.2544 Q979.357 30.163 982.963 28.1376 Q986.608 26.1121 991.348 26.1121 Q999.166 26.1121 1003.18 30.9732 Q1007.19 35.7938 1007.19 45.1919 Z\" fill=\"#000000\" fill-rule=\"evenodd\" fill-opacity=\"1\" /><path clip-path=\"url(#clip620)\" d=\"M1029.43 14.324 L1029.43 27.2059 L1044.78 27.2059 L1044.78 32.9987 L1029.43 32.9987 L1029.43 57.6282 Q1029.43 63.1779 1030.93 64.7578 Q1032.46 66.3376 1037.12 66.3376 L1044.78 66.3376 L1044.78 72.576 L1037.12 72.576 Q1028.49 72.576 1025.21 69.3758 Q1021.93 66.1351 1021.93 57.6282 L1021.93 32.9987 L1016.46 32.9987 L1016.46 27.2059 L1021.93 27.2059 L1021.93 14.324 L1029.43 14.324 Z\" fill=\"#000000\" fill-rule=\"evenodd\" fill-opacity=\"1\" /><path clip-path=\"url(#clip620)\" d=\"M1054.58 27.2059 L1062.04 27.2059 L1062.04 72.576 L1054.58 72.576 L1054.58 27.2059 M1054.58 9.54393 L1062.04 9.54393 L1062.04 18.9825 L1054.58 18.9825 L1054.58 9.54393 Z\" fill=\"#000000\" fill-rule=\"evenodd\" fill-opacity=\"1\" /><path clip-path=\"url(#clip620)\" d=\"M1085 14.324 L1085 27.2059 L1100.36 27.2059 L1100.36 32.9987 L1085 32.9987 L1085 57.6282 Q1085 63.1779 1086.5 64.7578 Q1088.04 66.3376 1092.7 66.3376 L1100.36 66.3376 L1100.36 72.576 L1092.7 72.576 Q1084.07 72.576 1080.79 69.3758 Q1077.51 66.1351 1077.51 57.6282 L1077.51 32.9987 L1072.04 32.9987 L1072.04 27.2059 L1077.51 27.2059 L1077.51 14.324 L1085 14.324 Z\" fill=\"#000000\" fill-rule=\"evenodd\" fill-opacity=\"1\" /><path clip-path=\"url(#clip620)\" d=\"M1110.16 27.2059 L1117.61 27.2059 L1117.61 72.576 L1110.16 72.576 L1110.16 27.2059 M1110.16 9.54393 L1117.61 9.54393 L1117.61 18.9825 L1110.16 18.9825 L1110.16 9.54393 Z\" fill=\"#000000\" fill-rule=\"evenodd\" fill-opacity=\"1\" /><path clip-path=\"url(#clip620)\" d=\"M1172.02 48.0275 L1172.02 51.6733 L1137.75 51.6733 Q1138.23 59.3701 1142.37 63.421 Q1146.54 67.4314 1153.95 67.4314 Q1158.25 67.4314 1162.26 66.3781 Q1166.31 65.3249 1170.28 63.2184 L1170.28 70.267 Q1166.27 71.9684 1162.05 72.8596 Q1157.84 73.7508 1153.51 73.7508 Q1142.65 73.7508 1136.29 67.4314 Q1129.97 61.1119 1129.97 50.3365 Q1129.97 39.1965 1135.97 32.6746 Q1142 26.1121 1152.21 26.1121 Q1161.36 26.1121 1166.67 32.0264 Q1172.02 37.9003 1172.02 48.0275 M1164.56 45.84 Q1164.48 39.7232 1161.12 36.0774 Q1157.8 32.4315 1152.29 32.4315 Q1146.05 32.4315 1142.28 35.9558 Q1138.56 39.4801 1137.99 45.8805 L1164.56 45.84 Z\" fill=\"#000000\" fill-rule=\"evenodd\" fill-opacity=\"1\" /><path clip-path=\"url(#clip620)\" d=\"M1213.18 28.5427 L1213.18 35.5912 Q1210.02 33.9709 1206.61 33.1607 Q1203.21 32.3505 1199.56 32.3505 Q1194.01 32.3505 1191.22 34.0519 Q1188.47 35.7533 1188.47 39.156 Q1188.47 41.7486 1190.45 43.2475 Q1192.43 44.7058 1198.43 46.0426 L1200.98 46.6097 Q1208.92 48.3111 1212.24 51.4303 Q1215.61 54.509 1215.61 60.0587 Q1215.61 66.3781 1210.58 70.0644 Q1205.6 73.7508 1196.85 73.7508 Q1193.2 73.7508 1189.23 73.0216 Q1185.31 72.3329 1180.93 70.9151 L1180.93 63.2184 Q1185.06 65.3654 1189.07 66.4591 Q1193.08 67.5124 1197.01 67.5124 Q1202.28 67.5124 1205.11 65.73 Q1207.95 63.9071 1207.95 60.6258 Q1207.95 57.5877 1205.88 55.9673 Q1203.86 54.3469 1196.93 52.8481 L1194.34 52.2405 Q1187.41 50.7821 1184.33 47.7845 Q1181.25 44.7463 1181.25 39.4801 Q1181.25 33.0797 1185.79 29.5959 Q1190.33 26.1121 1198.67 26.1121 Q1202.81 26.1121 1206.45 26.7198 Q1210.1 27.3274 1213.18 28.5427 Z\" fill=\"#000000\" fill-rule=\"evenodd\" fill-opacity=\"1\" /><path clip-path=\"url(#clip620)\" d=\"M1283.7 34.0924 L1283.7 9.54393 L1291.16 9.54393 L1291.16 72.576 L1283.7 72.576 L1283.7 65.7705 Q1281.35 69.8214 1277.75 71.8063 Q1274.18 73.7508 1269.16 73.7508 Q1260.94 73.7508 1255.75 67.1883 Q1250.61 60.6258 1250.61 49.9314 Q1250.61 39.2371 1255.75 32.6746 Q1260.94 26.1121 1269.16 26.1121 Q1274.18 26.1121 1277.75 28.0971 Q1281.35 30.0415 1283.7 34.0924 M1258.3 49.9314 Q1258.3 58.1548 1261.66 62.8538 Q1265.07 67.5124 1270.98 67.5124 Q1276.9 67.5124 1280.3 62.8538 Q1283.7 58.1548 1283.7 49.9314 Q1283.7 41.7081 1280.3 37.0496 Q1276.9 32.3505 1270.98 32.3505 Q1265.07 32.3505 1261.66 37.0496 Q1258.3 41.7081 1258.3 49.9314 Z\" fill=\"#000000\" fill-rule=\"evenodd\" fill-opacity=\"1\" /><path clip-path=\"url(#clip620)\" d=\"M1306.51 27.2059 L1313.96 27.2059 L1313.96 72.576 L1306.51 72.576 L1306.51 27.2059 M1306.51 9.54393 L1313.96 9.54393 L1313.96 18.9825 L1306.51 18.9825 L1306.51 9.54393 Z\" fill=\"#000000\" fill-rule=\"evenodd\" fill-opacity=\"1\" /><path clip-path=\"url(#clip620)\" d=\"M1358.48 28.5427 L1358.48 35.5912 Q1355.32 33.9709 1351.92 33.1607 Q1348.52 32.3505 1344.87 32.3505 Q1339.32 32.3505 1336.53 34.0519 Q1333.77 35.7533 1333.77 39.156 Q1333.77 41.7486 1335.76 43.2475 Q1337.74 44.7058 1343.74 46.0426 L1346.29 46.6097 Q1354.23 48.3111 1357.55 51.4303 Q1360.91 54.509 1360.91 60.0587 Q1360.91 66.3781 1355.89 70.0644 Q1350.91 73.7508 1342.16 73.7508 Q1338.51 73.7508 1334.54 73.0216 Q1330.61 72.3329 1326.24 70.9151 L1326.24 63.2184 Q1330.37 65.3654 1334.38 66.4591 Q1338.39 67.5124 1342.32 67.5124 Q1347.58 67.5124 1350.42 65.73 Q1353.26 63.9071 1353.26 60.6258 Q1353.26 57.5877 1351.19 55.9673 Q1349.16 54.3469 1342.24 52.8481 L1339.64 52.2405 Q1332.72 50.7821 1329.64 47.7845 Q1326.56 44.7463 1326.56 39.4801 Q1326.56 33.0797 1331.1 29.5959 Q1335.63 26.1121 1343.98 26.1121 Q1348.11 26.1121 1351.76 26.7198 Q1355.4 27.3274 1358.48 28.5427 Z\" fill=\"#000000\" fill-rule=\"evenodd\" fill-opacity=\"1\" /><path clip-path=\"url(#clip620)\" d=\"M1380.15 14.324 L1380.15 27.2059 L1395.51 27.2059 L1395.51 32.9987 L1380.15 32.9987 L1380.15 57.6282 Q1380.15 63.1779 1381.65 64.7578 Q1383.19 66.3376 1387.85 66.3376 L1395.51 66.3376 L1395.51 72.576 L1387.85 72.576 Q1379.22 72.576 1375.94 69.3758 Q1372.66 66.1351 1372.66 57.6282 L1372.66 32.9987 L1367.19 32.9987 L1367.19 27.2059 L1372.66 27.2059 L1372.66 14.324 L1380.15 14.324 Z\" fill=\"#000000\" fill-rule=\"evenodd\" fill-opacity=\"1\" /><path clip-path=\"url(#clip620)\" d=\"M1431.6 34.1734 Q1430.34 33.4443 1428.85 33.1202 Q1427.39 32.7556 1425.6 32.7556 Q1419.29 32.7556 1415.88 36.8875 Q1412.52 40.9789 1412.52 48.6757 L1412.52 72.576 L1405.03 72.576 L1405.03 27.2059 L1412.52 27.2059 L1412.52 34.2544 Q1414.87 30.1225 1418.64 28.1376 Q1422.4 26.1121 1427.79 26.1121 Q1428.56 26.1121 1429.49 26.2337 Q1430.43 26.3147 1431.56 26.5172 L1431.6 34.1734 Z\" fill=\"#000000\" fill-rule=\"evenodd\" fill-opacity=\"1\" /><path clip-path=\"url(#clip620)\" d=\"M1439.42 27.2059 L1446.87 27.2059 L1446.87 72.576 L1439.42 72.576 L1439.42 27.2059 M1439.42 9.54393 L1446.87 9.54393 L1446.87 18.9825 L1439.42 18.9825 L1439.42 9.54393 Z\" fill=\"#000000\" fill-rule=\"evenodd\" fill-opacity=\"1\" /><path clip-path=\"url(#clip620)\" d=\"M1495.04 49.9314 Q1495.04 41.7081 1491.63 37.0496 Q1488.27 32.3505 1482.36 32.3505 Q1476.44 32.3505 1473.04 37.0496 Q1469.68 41.7081 1469.68 49.9314 Q1469.68 58.1548 1473.04 62.8538 Q1476.44 67.5124 1482.36 67.5124 Q1488.27 67.5124 1491.63 62.8538 Q1495.04 58.1548 1495.04 49.9314 M1469.68 34.0924 Q1472.03 30.0415 1475.59 28.0971 Q1479.2 26.1121 1484.18 26.1121 Q1492.44 26.1121 1497.59 32.6746 Q1502.77 39.2371 1502.77 49.9314 Q1502.77 60.6258 1497.59 67.1883 Q1492.44 73.7508 1484.18 73.7508 Q1479.2 73.7508 1475.59 71.8063 Q1472.03 69.8214 1469.68 65.7705 L1469.68 72.576 L1462.18 72.576 L1462.18 9.54393 L1469.68 9.54393 L1469.68 34.0924 Z\" fill=\"#000000\" fill-rule=\"evenodd\" fill-opacity=\"1\" /><path clip-path=\"url(#clip620)\" d=\"M1514.36 54.671 L1514.36 27.2059 L1521.81 27.2059 L1521.81 54.3874 Q1521.81 60.8284 1524.33 64.0691 Q1526.84 67.2693 1531.86 67.2693 Q1537.9 67.2693 1541.38 63.421 Q1544.9 59.5726 1544.9 52.9291 L1544.9 27.2059 L1552.36 27.2059 L1552.36 72.576 L1544.9 72.576 L1544.9 65.6084 Q1542.19 69.7404 1538.58 71.7658 Q1535.02 73.7508 1530.28 73.7508 Q1522.46 73.7508 1518.41 68.8897 Q1514.36 64.0286 1514.36 54.671 M1533.12 26.1121 L1533.12 26.1121 Z\" fill=\"#000000\" fill-rule=\"evenodd\" fill-opacity=\"1\" /><path clip-path=\"url(#clip620)\" d=\"M1575.08 14.324 L1575.08 27.2059 L1590.44 27.2059 L1590.44 32.9987 L1575.08 32.9987 L1575.08 57.6282 Q1575.08 63.1779 1576.58 64.7578 Q1578.12 66.3376 1582.78 66.3376 L1590.44 66.3376 L1590.44 72.576 L1582.78 72.576 Q1574.15 72.576 1570.87 69.3758 Q1567.59 66.1351 1567.59 57.6282 L1567.59 32.9987 L1562.12 32.9987 L1562.12 27.2059 L1567.59 27.2059 L1567.59 14.324 L1575.08 14.324 Z\" fill=\"#000000\" fill-rule=\"evenodd\" fill-opacity=\"1\" /><path clip-path=\"url(#clip620)\" d=\"M1600.24 27.2059 L1607.69 27.2059 L1607.69 72.576 L1600.24 72.576 L1600.24 27.2059 M1600.24 9.54393 L1607.69 9.54393 L1607.69 18.9825 L1600.24 18.9825 L1600.24 9.54393 Z\" fill=\"#000000\" fill-rule=\"evenodd\" fill-opacity=\"1\" /><path clip-path=\"url(#clip620)\" d=\"M1640.87 32.4315 Q1634.87 32.4315 1631.39 37.1306 Q1627.91 41.7891 1627.91 49.9314 Q1627.91 58.0738 1631.35 62.7728 Q1634.83 67.4314 1640.87 67.4314 Q1646.82 67.4314 1650.31 62.7323 Q1653.79 58.0333 1653.79 49.9314 Q1653.79 41.8701 1650.31 37.1711 Q1646.82 32.4315 1640.87 32.4315 M1640.87 26.1121 Q1650.59 26.1121 1656.14 32.4315 Q1661.69 38.7509 1661.69 49.9314 Q1661.69 61.0714 1656.14 67.4314 Q1650.59 73.7508 1640.87 73.7508 Q1631.11 73.7508 1625.56 67.4314 Q1620.05 61.0714 1620.05 49.9314 Q1620.05 38.7509 1625.56 32.4315 Q1631.11 26.1121 1640.87 26.1121 Z\" fill=\"#000000\" fill-rule=\"evenodd\" fill-opacity=\"1\" /><path clip-path=\"url(#clip620)\" d=\"M1711.76 45.1919 L1711.76 72.576 L1704.31 72.576 L1704.31 45.4349 Q1704.31 38.994 1701.8 35.7938 Q1699.28 32.5936 1694.26 32.5936 Q1688.23 32.5936 1684.74 36.4419 Q1681.26 40.2903 1681.26 46.9338 L1681.26 72.576 L1673.76 72.576 L1673.76 27.2059 L1681.26 27.2059 L1681.26 34.2544 Q1683.93 30.163 1687.54 28.1376 Q1691.18 26.1121 1695.92 26.1121 Q1703.74 26.1121 1707.75 30.9732 Q1711.76 35.7938 1711.76 45.1919 Z\" fill=\"#000000\" fill-rule=\"evenodd\" fill-opacity=\"1\" /><polyline clip-path=\"url(#clip622)\" style=\"stroke:#009af9; stroke-linecap:butt; stroke-linejoin:round; stroke-width:4; stroke-opacity:1; fill:none\" points=\"\n  218.754,1337.68 219.213,1335.62 219.672,1333.52 220.131,1331.39 220.59,1329.24 222.712,1318.89 224.834,1307.9 226.956,1296.26 229.079,1283.95 231.201,1270.97 \n  233.323,1257.32 235.445,1242.99 237.567,1227.99 240.118,1209.1 242.669,1189.28 245.22,1168.55 247.77,1146.98 249.927,1128.12 252.083,1108.72 254.24,1088.83 \n  256.397,1068.51 265.767,976.577 274.406,890.362 276.722,867.725 279.037,845.501 281.353,823.806 283.668,802.756 286.351,779.328 289.034,757.101 291.716,736.247 \n  294.399,716.936 296.783,701.195 299.167,686.899 301.551,674.144 303.935,663.015 306.026,654.655 308.116,647.648 310.207,642.032 312.298,637.837 314.577,634.908 \n  316.856,633.713 319.136,634.26 321.415,636.546 323.708,640.584 326.001,646.34 328.293,653.777 330.586,662.848 333.121,674.708 335.656,688.403 338.192,703.828 \n  340.727,720.867 343.139,738.464 345.551,757.292 347.963,777.23 350.375,798.152 352.883,820.81 355.391,844.245 357.899,868.307 360.407,892.851 364.629,934.86 \n  368.851,977.16 374.006,1028.3 379.161,1077.96 381.523,1099.98 383.884,1121.43 386.245,1142.26 388.606,1162.42 390.787,1180.41 392.967,1197.75 395.148,1214.42 \n  397.329,1230.41 399.538,1245.9 401.747,1260.65 403.956,1274.68 406.165,1287.98 408.64,1302.03 411.116,1315.17 413.592,1327.44 416.067,1338.85 418.311,1348.46 \n  420.554,1357.42 422.797,1365.74 425.041,1373.45 427.609,1381.56 430.178,1388.95 432.746,1395.66 435.315,1401.73 437.693,1406.82 440.071,1411.43 442.449,1415.6 \n  444.827,1419.36 449.517,1425.69 454.206,1430.77 458.759,1434.7 463.312,1437.81 472.646,1442.24 482.873,1445.01 490.301,1446.17 497.73,1446.88 499.253,1446.99 \n  500.777,1447.08 \n  \"/>\n<polyline clip-path=\"url(#clip622)\" style=\"stroke:#e26f46; stroke-linecap:butt; stroke-linejoin:round; stroke-width:4; stroke-opacity:1; fill:none\" points=\"\n  218.754,874.272 219.136,869.826 219.517,865.38 219.899,860.935 220.281,856.492 223.812,815.586 227.343,775.315 230.874,736.144 234.405,698.551 236.527,676.918 \n  238.649,656.131 240.77,636.29 242.892,617.495 244.686,602.489 246.48,588.352 248.275,575.137 250.069,562.894 252.017,550.748 253.966,539.858 255.915,530.273 \n  257.864,522.037 259.661,515.672 261.457,510.511 263.254,506.574 265.051,503.877 266.977,502.375 268.903,502.317 270.829,503.704 272.755,506.529 274.987,511.583 \n  277.219,518.52 279.451,527.296 281.682,537.858 283.666,548.693 285.649,560.838 287.632,574.236 289.615,588.825 291.355,602.546 293.094,617.084 294.833,632.389 \n  296.572,648.409 300.364,685.56 304.157,725.279 307.971,767.228 311.786,810.575 320.222,908.483 328.248,999.999 332.421,1045.51 336.594,1088.97 340.106,1123.71 \n  343.619,1156.57 345.763,1175.65 347.907,1193.96 350.051,1211.49 352.195,1228.22 354.16,1242.85 356.124,1256.81 358.088,1270.1 360.052,1282.73 363.681,1304.35 \n  367.309,1323.82 370.984,1341.43 374.659,1357.05 378.778,1372.35 382.897,1385.51 386.63,1395.76 390.362,1404.58 394.636,1413.1 398.909,1420.15 402.866,1425.55 \n  406.822,1430.02 414.624,1436.59 422.199,1440.81 429.965,1443.62 438.472,1445.5 450.831,1446.91 453.367,1447.08 \n  \"/>\n<polyline clip-path=\"url(#clip622)\" style=\"stroke:#3da44d; stroke-linecap:butt; stroke-linejoin:round; stroke-width:4; stroke-opacity:1; fill:none\" points=\"\n  218.754,1447.87 218.964,1447.82 219.175,1446.86 219.386,1443.56 219.597,1436.94 219.702,1432.26 219.807,1426.64 219.913,1420.09 220.018,1412.66 220.229,1395.26 \n  220.44,1374.78 220.651,1351.63 220.861,1326.21 221.072,1298.92 221.283,1270.09 221.704,1209.15 222.126,1145.57 222.547,1081.03 222.969,1016.81 223.39,953.831 \n  223.812,892.753 224.233,834.036 224.655,777.988 225.077,724.796 225.498,674.561 225.92,627.317 226.341,583.049 226.763,541.709 227.184,503.22 227.606,467.49 \n  228.027,434.414 228.449,403.879 228.87,375.77 229.292,349.967 229.713,326.353 230.135,304.813 230.556,285.232 230.978,267.502 231.399,251.516 231.61,244.145 \n  231.821,237.173 232.032,230.587 232.242,224.375 233.217,200.208 234.191,182.763 235.166,171.113 236.14,164.444 237.115,162.047 238.089,163.303 239.063,167.674 \n  240.038,174.695 241.012,183.96 241.987,195.119 242.961,207.866 243.935,221.938 244.91,237.106 245.884,253.171 246.859,269.961 247.833,287.328 251.731,360.223 \n  255.628,434.648 257.577,471.334 259.526,507.307 261.475,542.391 263.423,576.462 265.372,609.441 267.321,641.279 269.27,671.951 271.219,701.453 273.168,729.79 \n  275.116,756.982 277.065,783.053 279.014,808.034 280.963,831.961 282.912,854.868 284.86,876.795 286.809,897.78 288.758,917.863 290.707,937.081 292.656,955.473 \n  294.604,973.075 298.502,1006.05 302.4,1036.29 306.297,1064.03 310.195,1089.51 314.093,1112.93 317.99,1134.49 321.888,1154.35 325.785,1172.67 329.683,1189.59 \n  333.581,1205.23 337.478,1219.71 341.376,1233.12 349.171,1257.12 356.966,1277.86 361.651,1288.97 366.336,1299.19 371.02,1308.61 375.705,1317.29 385.074,1332.71 \n  394.443,1345.92 403.813,1357.3 413.182,1367.14 422.551,1375.68 431.92,1383.13 447.763,1393.68 463.607,1402.18 479.45,1409.09 495.293,1414.75 529.713,1423.92 \n  564.133,1430.16 595.866,1434.23 627.598,1437.22 695.639,1441.34 774.471,1443.94 844.528,1445.27 905.961,1446.01 972.94,1446.55 1040.32,1446.91 1114.81,1447.18 \n  1185.69,1447.36 1259.39,1447.49 1321.42,1447.57 1397.17,1447.64 1466.55,1447.69 1530.63,1447.73 1595.54,1447.75 1668.29,1447.78 1734.21,1447.79 1809.69,1447.81 \n  1879.57,1447.82 1948.47,1447.83 2015.36,1447.84 2083.94,1447.84 2159.07,1447.85 2268.21,1447.85 2290.6,1447.85 \n  \"/>\n<path clip-path=\"url(#clip620)\" d=\"\nM1858.4 376.265 L2279.55 376.265 L2279.55 168.905 L1858.4 168.905  Z\n  \" fill=\"#ffffff\" fill-rule=\"evenodd\" fill-opacity=\"1\"/>\n<polyline clip-path=\"url(#clip620)\" style=\"stroke:#000000; stroke-linecap:butt; stroke-linejoin:round; stroke-width:4; stroke-opacity:1; fill:none\" points=\"\n  1858.4,376.265 2279.55,376.265 2279.55,168.905 1858.4,168.905 1858.4,376.265 \n  \"/>\n<polyline clip-path=\"url(#clip620)\" style=\"stroke:#009af9; stroke-linecap:butt; stroke-linejoin:round; stroke-width:4; stroke-opacity:1; fill:none\" points=\"\n  1882.81,220.745 2029.22,220.745 \n  \"/>\n<path clip-path=\"url(#clip620)\" d=\"M2058.29 207.307 L2058.29 220.293 L2064.17 220.293 Q2067.44 220.293 2069.22 218.603 Q2071 216.914 2071 213.789 Q2071 210.687 2069.22 208.997 Q2067.44 207.307 2064.17 207.307 L2058.29 207.307 M2053.62 203.465 L2064.17 203.465 Q2069.98 203.465 2072.95 206.104 Q2075.93 208.719 2075.93 213.789 Q2075.93 218.904 2072.95 221.52 Q2069.98 224.136 2064.17 224.136 L2058.29 224.136 L2058.29 238.025 L2053.62 238.025 L2053.62 203.465 Z\" fill=\"#000000\" fill-rule=\"evenodd\" fill-opacity=\"1\" /><path clip-path=\"url(#clip620)\" d=\"M2096.21 216.08 Q2095.49 215.664 2094.64 215.478 Q2093.8 215.27 2092.78 215.27 Q2089.17 215.27 2087.23 217.631 Q2085.31 219.969 2085.31 224.367 L2085.31 238.025 L2081.03 238.025 L2081.03 212.099 L2085.31 212.099 L2085.31 216.127 Q2086.65 213.766 2088.8 212.631 Q2090.96 211.474 2094.03 211.474 Q2094.47 211.474 2095.01 211.543 Q2095.54 211.59 2096.19 211.705 L2096.21 216.08 Z\" fill=\"#000000\" fill-rule=\"evenodd\" fill-opacity=\"1\" /><path clip-path=\"url(#clip620)\" d=\"M2100.68 212.099 L2104.94 212.099 L2104.94 238.025 L2100.68 238.025 L2100.68 212.099 M2100.68 202.006 L2104.94 202.006 L2104.94 207.4 L2100.68 207.4 L2100.68 202.006 Z\" fill=\"#000000\" fill-rule=\"evenodd\" fill-opacity=\"1\" /><path clip-path=\"url(#clip620)\" d=\"M2134.03 217.076 Q2135.63 214.205 2137.85 212.84 Q2140.08 211.474 2143.09 211.474 Q2147.14 211.474 2149.34 214.321 Q2151.53 217.145 2151.53 222.377 L2151.53 238.025 L2147.25 238.025 L2147.25 222.515 Q2147.25 218.789 2145.93 216.983 Q2144.61 215.178 2141.91 215.178 Q2138.59 215.178 2136.67 217.377 Q2134.75 219.576 2134.75 223.372 L2134.75 238.025 L2130.47 238.025 L2130.47 222.515 Q2130.47 218.765 2129.15 216.983 Q2127.83 215.178 2125.08 215.178 Q2121.81 215.178 2119.89 217.4 Q2117.97 219.599 2117.97 223.372 L2117.97 238.025 L2113.69 238.025 L2113.69 212.099 L2117.97 212.099 L2117.97 216.127 Q2119.43 213.742 2121.47 212.608 Q2123.5 211.474 2126.3 211.474 Q2129.13 211.474 2131.09 212.909 Q2133.09 214.344 2134.03 217.076 Z\" fill=\"#000000\" fill-rule=\"evenodd\" fill-opacity=\"1\" /><path clip-path=\"url(#clip620)\" d=\"M2171.81 224.992 Q2166.65 224.992 2164.66 226.173 Q2162.67 227.353 2162.67 230.201 Q2162.67 232.469 2164.15 233.812 Q2165.65 235.131 2168.22 235.131 Q2171.77 235.131 2173.9 232.631 Q2176.05 230.108 2176.05 225.941 L2176.05 224.992 L2171.81 224.992 M2180.31 223.233 L2180.31 238.025 L2176.05 238.025 L2176.05 234.089 Q2174.59 236.451 2172.41 237.585 Q2170.24 238.696 2167.09 238.696 Q2163.11 238.696 2160.75 236.474 Q2158.41 234.228 2158.41 230.478 Q2158.41 226.103 2161.33 223.881 Q2164.27 221.659 2170.08 221.659 L2176.05 221.659 L2176.05 221.242 Q2176.05 218.303 2174.1 216.705 Q2172.18 215.085 2168.69 215.085 Q2166.47 215.085 2164.36 215.617 Q2162.25 216.15 2160.31 217.215 L2160.31 213.279 Q2162.65 212.377 2164.84 211.937 Q2167.04 211.474 2169.13 211.474 Q2174.75 211.474 2177.53 214.391 Q2180.31 217.307 2180.31 223.233 Z\" fill=\"#000000\" fill-rule=\"evenodd\" fill-opacity=\"1\" /><path clip-path=\"url(#clip620)\" d=\"M2204.1 216.08 Q2203.39 215.664 2202.53 215.478 Q2201.7 215.27 2200.68 215.27 Q2197.07 215.27 2195.12 217.631 Q2193.2 219.969 2193.2 224.367 L2193.2 238.025 L2188.92 238.025 L2188.92 212.099 L2193.2 212.099 L2193.2 216.127 Q2194.54 213.766 2196.7 212.631 Q2198.85 211.474 2201.93 211.474 Q2202.37 211.474 2202.9 211.543 Q2203.43 211.59 2204.08 211.705 L2204.1 216.08 Z\" fill=\"#000000\" fill-rule=\"evenodd\" fill-opacity=\"1\" /><path clip-path=\"url(#clip620)\" d=\"M2219.36 240.432 Q2217.55 245.062 2215.84 246.474 Q2214.13 247.886 2211.26 247.886 L2207.85 247.886 L2207.85 244.321 L2210.35 244.321 Q2212.11 244.321 2213.09 243.488 Q2214.06 242.654 2215.24 239.552 L2216 237.608 L2205.52 212.099 L2210.03 212.099 L2218.13 232.377 L2226.23 212.099 L2230.75 212.099 L2219.36 240.432 Z\" fill=\"#000000\" fill-rule=\"evenodd\" fill-opacity=\"1\" /><polyline clip-path=\"url(#clip620)\" style=\"stroke:#e26f46; stroke-linecap:butt; stroke-linejoin:round; stroke-width:4; stroke-opacity:1; fill:none\" points=\"\n  1882.81,272.585 2029.22,272.585 \n  \"/>\n<path clip-path=\"url(#clip620)\" d=\"M2053.62 255.305 L2059.91 255.305 L2075.24 284.217 L2075.24 255.305 L2079.78 255.305 L2079.78 289.865 L2073.48 289.865 L2058.16 260.953 L2058.16 289.865 L2053.62 289.865 L2053.62 255.305 Z\" fill=\"#000000\" fill-rule=\"evenodd\" fill-opacity=\"1\" /><path clip-path=\"url(#clip620)\" d=\"M2098.94 266.925 Q2095.52 266.925 2093.53 269.61 Q2091.53 272.272 2091.53 276.925 Q2091.53 281.578 2093.5 284.263 Q2095.49 286.925 2098.94 286.925 Q2102.35 286.925 2104.34 284.24 Q2106.33 281.555 2106.33 276.925 Q2106.33 272.318 2104.34 269.633 Q2102.35 266.925 2098.94 266.925 M2098.94 263.314 Q2104.5 263.314 2107.67 266.925 Q2110.84 270.536 2110.84 276.925 Q2110.84 283.291 2107.67 286.925 Q2104.5 290.536 2098.94 290.536 Q2093.36 290.536 2090.19 286.925 Q2087.04 283.291 2087.04 276.925 Q2087.04 270.536 2090.19 266.925 Q2093.36 263.314 2098.94 263.314 Z\" fill=\"#000000\" fill-rule=\"evenodd\" fill-opacity=\"1\" /><path clip-path=\"url(#clip620)\" d=\"M2132.92 267.92 Q2132.21 267.504 2131.35 267.318 Q2130.52 267.11 2129.5 267.11 Q2125.89 267.11 2123.94 269.471 Q2122.02 271.809 2122.02 276.207 L2122.02 289.865 L2117.74 289.865 L2117.74 263.939 L2122.02 263.939 L2122.02 267.967 Q2123.36 265.606 2125.52 264.471 Q2127.67 263.314 2130.75 263.314 Q2131.19 263.314 2131.72 263.383 Q2132.25 263.43 2132.9 263.545 L2132.92 267.92 Z\" fill=\"#000000\" fill-rule=\"evenodd\" fill-opacity=\"1\" /><path clip-path=\"url(#clip620)\" d=\"M2156.74 268.916 Q2158.34 266.045 2160.56 264.68 Q2162.78 263.314 2165.79 263.314 Q2169.84 263.314 2172.04 266.161 Q2174.24 268.985 2174.24 274.217 L2174.24 289.865 L2169.96 289.865 L2169.96 274.355 Q2169.96 270.629 2168.64 268.823 Q2167.32 267.018 2164.61 267.018 Q2161.3 267.018 2159.38 269.217 Q2157.46 271.416 2157.46 275.212 L2157.46 289.865 L2153.18 289.865 L2153.18 274.355 Q2153.18 270.605 2151.86 268.823 Q2150.54 267.018 2147.78 267.018 Q2144.52 267.018 2142.6 269.24 Q2140.68 271.439 2140.68 275.212 L2140.68 289.865 L2136.4 289.865 L2136.4 263.939 L2140.68 263.939 L2140.68 267.967 Q2142.14 265.582 2144.17 264.448 Q2146.21 263.314 2149.01 263.314 Q2151.84 263.314 2153.8 264.749 Q2155.79 266.184 2156.74 268.916 Z\" fill=\"#000000\" fill-rule=\"evenodd\" fill-opacity=\"1\" /><path clip-path=\"url(#clip620)\" d=\"M2194.52 276.832 Q2189.36 276.832 2187.37 278.013 Q2185.38 279.193 2185.38 282.041 Q2185.38 284.309 2186.86 285.652 Q2188.36 286.971 2190.93 286.971 Q2194.47 286.971 2196.6 284.471 Q2198.76 281.948 2198.76 277.781 L2198.76 276.832 L2194.52 276.832 M2203.02 275.073 L2203.02 289.865 L2198.76 289.865 L2198.76 285.929 Q2197.3 288.291 2195.12 289.425 Q2192.95 290.536 2189.8 290.536 Q2185.82 290.536 2183.46 288.314 Q2181.12 286.068 2181.12 282.318 Q2181.12 277.943 2184.03 275.721 Q2186.97 273.499 2192.78 273.499 L2198.76 273.499 L2198.76 273.082 Q2198.76 270.143 2196.81 268.545 Q2194.89 266.925 2191.4 266.925 Q2189.17 266.925 2187.07 267.457 Q2184.96 267.99 2183.02 269.055 L2183.02 265.119 Q2185.35 264.217 2187.55 263.777 Q2189.75 263.314 2191.84 263.314 Q2197.46 263.314 2200.24 266.231 Q2203.02 269.147 2203.02 275.073 Z\" fill=\"#000000\" fill-rule=\"evenodd\" fill-opacity=\"1\" /><path clip-path=\"url(#clip620)\" d=\"M2211.79 253.846 L2216.05 253.846 L2216.05 289.865 L2211.79 289.865 L2211.79 253.846 Z\" fill=\"#000000\" fill-rule=\"evenodd\" fill-opacity=\"1\" /><polyline clip-path=\"url(#clip620)\" style=\"stroke:#3da44d; stroke-linecap:butt; stroke-linejoin:round; stroke-width:4; stroke-opacity:1; fill:none\" points=\"\n  1882.81,324.425 2029.22,324.425 \n  \"/>\n<path clip-path=\"url(#clip620)\" d=\"M2053.62 307.145 L2058.29 307.145 L2058.29 337.769 L2075.12 337.769 L2075.12 341.705 L2053.62 341.705 L2053.62 307.145 Z\" fill=\"#000000\" fill-rule=\"evenodd\" fill-opacity=\"1\" /><path clip-path=\"url(#clip620)\" d=\"M2078.57 331.473 L2078.57 315.779 L2082.83 315.779 L2082.83 331.311 Q2082.83 334.992 2084.27 336.844 Q2085.7 338.672 2088.57 338.672 Q2092.02 338.672 2094.01 336.473 Q2096.03 334.274 2096.03 330.478 L2096.03 315.779 L2100.28 315.779 L2100.28 341.705 L2096.03 341.705 L2096.03 337.723 Q2094.47 340.084 2092.41 341.242 Q2090.38 342.376 2087.67 342.376 Q2083.2 342.376 2080.89 339.598 Q2078.57 336.82 2078.57 331.473 M2089.29 315.154 L2089.29 315.154 Z\" fill=\"#000000\" fill-rule=\"evenodd\" fill-opacity=\"1\" /><path clip-path=\"url(#clip620)\" d=\"M2130.61 315.779 L2121.23 328.395 L2131.09 341.705 L2126.07 341.705 L2118.53 331.52 L2110.98 341.705 L2105.96 341.705 L2116.03 328.14 L2106.81 315.779 L2111.84 315.779 L2118.71 325.015 L2125.59 315.779 L2130.61 315.779 Z\" fill=\"#000000\" fill-rule=\"evenodd\" fill-opacity=\"1\" /><path clip-path=\"url(#clip620)\" d=\"M2136.67 331.473 L2136.67 315.779 L2140.93 315.779 L2140.93 331.311 Q2140.93 334.992 2142.37 336.844 Q2143.8 338.672 2146.67 338.672 Q2150.12 338.672 2152.11 336.473 Q2154.13 334.274 2154.13 330.478 L2154.13 315.779 L2158.39 315.779 L2158.39 341.705 L2154.13 341.705 L2154.13 337.723 Q2152.58 340.084 2150.52 341.242 Q2148.48 342.376 2145.77 342.376 Q2141.3 342.376 2138.99 339.598 Q2136.67 336.82 2136.67 331.473 M2147.39 315.154 L2147.39 315.154 Z\" fill=\"#000000\" fill-rule=\"evenodd\" fill-opacity=\"1\" /><path clip-path=\"url(#clip620)\" d=\"M2182.18 319.76 Q2181.47 319.344 2180.61 319.158 Q2179.78 318.95 2178.76 318.95 Q2175.15 318.95 2173.2 321.311 Q2171.28 323.649 2171.28 328.047 L2171.28 341.705 L2167 341.705 L2167 315.779 L2171.28 315.779 L2171.28 319.807 Q2172.62 317.446 2174.78 316.311 Q2176.93 315.154 2180.01 315.154 Q2180.45 315.154 2180.98 315.223 Q2181.51 315.27 2182.16 315.385 L2182.18 319.76 Z\" fill=\"#000000\" fill-rule=\"evenodd\" fill-opacity=\"1\" /><path clip-path=\"url(#clip620)\" d=\"M2197.44 344.112 Q2195.63 348.742 2193.92 350.154 Q2192.21 351.566 2189.34 351.566 L2185.93 351.566 L2185.93 348.001 L2188.43 348.001 Q2190.19 348.001 2191.16 347.168 Q2192.14 346.334 2193.32 343.232 L2194.08 341.288 L2183.59 315.779 L2188.11 315.779 L2196.21 336.057 L2204.31 315.779 L2208.83 315.779 L2197.44 344.112 Z\" fill=\"#000000\" fill-rule=\"evenodd\" fill-opacity=\"1\" /></svg>\n",
      "text/html": [
       "<?xml version=\"1.0\" encoding=\"utf-8\"?>\n",
       "<svg xmlns=\"http://www.w3.org/2000/svg\" xmlns:xlink=\"http://www.w3.org/1999/xlink\" width=\"600\" height=\"400\" viewBox=\"0 0 2400 1600\">\n",
       "<defs>\n",
       "  <clipPath id=\"clip670\">\n",
       "    <rect x=\"0\" y=\"0\" width=\"2400\" height=\"1600\"/>\n",
       "  </clipPath>\n",
       "</defs>\n",
       "<path clip-path=\"url(#clip670)\" d=\"\n",
       "M0 1600 L2400 1600 L2400 0 L0 0  Z\n",
       "  \" fill=\"#ffffff\" fill-rule=\"evenodd\" fill-opacity=\"1\"/>\n",
       "<defs>\n",
       "  <clipPath id=\"clip671\">\n",
       "    <rect x=\"480\" y=\"0\" width=\"1681\" height=\"1600\"/>\n",
       "  </clipPath>\n",
       "</defs>\n",
       "<path clip-path=\"url(#clip670)\" d=\"\n",
       "M156.598 1486.45 L2352.76 1486.45 L2352.76 123.472 L156.598 123.472  Z\n",
       "  \" fill=\"#ffffff\" fill-rule=\"evenodd\" fill-opacity=\"1\"/>\n",
       "<defs>\n",
       "  <clipPath id=\"clip672\">\n",
       "    <rect x=\"156\" y=\"123\" width=\"2197\" height=\"1364\"/>\n",
       "  </clipPath>\n",
       "</defs>\n",
       "<polyline clip-path=\"url(#clip672)\" style=\"stroke:#000000; stroke-linecap:butt; stroke-linejoin:round; stroke-width:2; stroke-opacity:0.1; fill:none\" points=\"\n",
       "  218.754,1486.45 218.754,123.472 \n",
       "  \"/>\n",
       "<polyline clip-path=\"url(#clip672)\" style=\"stroke:#000000; stroke-linecap:butt; stroke-linejoin:round; stroke-width:2; stroke-opacity:0.1; fill:none\" points=\"\n",
       "  711.387,1486.45 711.387,123.472 \n",
       "  \"/>\n",
       "<polyline clip-path=\"url(#clip672)\" style=\"stroke:#000000; stroke-linecap:butt; stroke-linejoin:round; stroke-width:2; stroke-opacity:0.1; fill:none\" points=\"\n",
       "  1204.02,1486.45 1204.02,123.472 \n",
       "  \"/>\n",
       "<polyline clip-path=\"url(#clip672)\" style=\"stroke:#000000; stroke-linecap:butt; stroke-linejoin:round; stroke-width:2; stroke-opacity:0.1; fill:none\" points=\"\n",
       "  1696.65,1486.45 1696.65,123.472 \n",
       "  \"/>\n",
       "<polyline clip-path=\"url(#clip672)\" style=\"stroke:#000000; stroke-linecap:butt; stroke-linejoin:round; stroke-width:2; stroke-opacity:0.1; fill:none\" points=\"\n",
       "  2189.29,1486.45 2189.29,123.472 \n",
       "  \"/>\n",
       "<polyline clip-path=\"url(#clip670)\" style=\"stroke:#000000; stroke-linecap:butt; stroke-linejoin:round; stroke-width:4; stroke-opacity:1; fill:none\" points=\"\n",
       "  156.598,1486.45 2352.76,1486.45 \n",
       "  \"/>\n",
       "<polyline clip-path=\"url(#clip670)\" style=\"stroke:#000000; stroke-linecap:butt; stroke-linejoin:round; stroke-width:4; stroke-opacity:1; fill:none\" points=\"\n",
       "  218.754,1486.45 218.754,1467.55 \n",
       "  \"/>\n",
       "<polyline clip-path=\"url(#clip670)\" style=\"stroke:#000000; stroke-linecap:butt; stroke-linejoin:round; stroke-width:4; stroke-opacity:1; fill:none\" points=\"\n",
       "  711.387,1486.45 711.387,1467.55 \n",
       "  \"/>\n",
       "<polyline clip-path=\"url(#clip670)\" style=\"stroke:#000000; stroke-linecap:butt; stroke-linejoin:round; stroke-width:4; stroke-opacity:1; fill:none\" points=\"\n",
       "  1204.02,1486.45 1204.02,1467.55 \n",
       "  \"/>\n",
       "<polyline clip-path=\"url(#clip670)\" style=\"stroke:#000000; stroke-linecap:butt; stroke-linejoin:round; stroke-width:4; stroke-opacity:1; fill:none\" points=\"\n",
       "  1696.65,1486.45 1696.65,1467.55 \n",
       "  \"/>\n",
       "<polyline clip-path=\"url(#clip670)\" style=\"stroke:#000000; stroke-linecap:butt; stroke-linejoin:round; stroke-width:4; stroke-opacity:1; fill:none\" points=\"\n",
       "  2189.29,1486.45 2189.29,1467.55 \n",
       "  \"/>\n",
       "<path clip-path=\"url(#clip670)\" d=\"M218.754 1517.37 Q215.143 1517.37 213.314 1520.93 Q211.508 1524.47 211.508 1531.6 Q211.508 1538.71 213.314 1542.27 Q215.143 1545.82 218.754 1545.82 Q222.388 1545.82 224.193 1542.27 Q226.022 1538.71 226.022 1531.6 Q226.022 1524.47 224.193 1520.93 Q222.388 1517.37 218.754 1517.37 M218.754 1513.66 Q224.564 1513.66 227.619 1518.27 Q230.698 1522.85 230.698 1531.6 Q230.698 1540.33 227.619 1544.94 Q224.564 1549.52 218.754 1549.52 Q212.943 1549.52 209.865 1544.94 Q206.809 1540.33 206.809 1531.6 Q206.809 1522.85 209.865 1518.27 Q212.943 1513.66 218.754 1513.66 Z\" fill=\"#000000\" fill-rule=\"evenodd\" fill-opacity=\"1\" /><path clip-path=\"url(#clip670)\" d=\"M686.074 1544.91 L693.713 1544.91 L693.713 1518.55 L685.403 1520.21 L685.403 1515.95 L693.667 1514.29 L698.343 1514.29 L698.343 1544.91 L705.981 1544.91 L705.981 1548.85 L686.074 1548.85 L686.074 1544.91 Z\" fill=\"#000000\" fill-rule=\"evenodd\" fill-opacity=\"1\" /><path clip-path=\"url(#clip670)\" d=\"M725.426 1517.37 Q721.815 1517.37 719.986 1520.93 Q718.18 1524.47 718.18 1531.6 Q718.18 1538.71 719.986 1542.27 Q721.815 1545.82 725.426 1545.82 Q729.06 1545.82 730.866 1542.27 Q732.694 1538.71 732.694 1531.6 Q732.694 1524.47 730.866 1520.93 Q729.06 1517.37 725.426 1517.37 M725.426 1513.66 Q731.236 1513.66 734.292 1518.27 Q737.37 1522.85 737.37 1531.6 Q737.37 1540.33 734.292 1544.94 Q731.236 1549.52 725.426 1549.52 Q719.616 1549.52 716.537 1544.94 Q713.481 1540.33 713.481 1531.6 Q713.481 1522.85 716.537 1518.27 Q719.616 1513.66 725.426 1513.66 Z\" fill=\"#000000\" fill-rule=\"evenodd\" fill-opacity=\"1\" /><path clip-path=\"url(#clip670)\" d=\"M1182.79 1544.91 L1199.11 1544.91 L1199.11 1548.85 L1177.17 1548.85 L1177.17 1544.91 Q1179.83 1542.16 1184.41 1537.53 Q1189.02 1532.88 1190.2 1531.53 Q1192.45 1529.01 1193.33 1527.27 Q1194.23 1525.51 1194.23 1523.82 Q1194.23 1521.07 1192.28 1519.33 Q1190.36 1517.6 1187.26 1517.6 Q1185.06 1517.6 1182.61 1518.36 Q1180.18 1519.13 1177.4 1520.68 L1177.4 1515.95 Q1180.22 1514.82 1182.68 1514.24 Q1185.13 1513.66 1187.17 1513.66 Q1192.54 1513.66 1195.73 1516.35 Q1198.93 1519.03 1198.93 1523.52 Q1198.93 1525.65 1198.12 1527.57 Q1197.33 1529.47 1195.22 1532.07 Q1194.64 1532.74 1191.54 1535.95 Q1188.44 1539.15 1182.79 1544.91 Z\" fill=\"#000000\" fill-rule=\"evenodd\" fill-opacity=\"1\" /><path clip-path=\"url(#clip670)\" d=\"M1218.93 1517.37 Q1215.32 1517.37 1213.49 1520.93 Q1211.68 1524.47 1211.68 1531.6 Q1211.68 1538.71 1213.49 1542.27 Q1215.32 1545.82 1218.93 1545.82 Q1222.56 1545.82 1224.37 1542.27 Q1226.2 1538.71 1226.2 1531.6 Q1226.2 1524.47 1224.37 1520.93 Q1222.56 1517.37 1218.93 1517.37 M1218.93 1513.66 Q1224.74 1513.66 1227.79 1518.27 Q1230.87 1522.85 1230.87 1531.6 Q1230.87 1540.33 1227.79 1544.94 Q1224.74 1549.52 1218.93 1549.52 Q1213.12 1549.52 1210.04 1544.94 Q1206.98 1540.33 1206.98 1531.6 Q1206.98 1522.85 1210.04 1518.27 Q1213.12 1513.66 1218.93 1513.66 Z\" fill=\"#000000\" fill-rule=\"evenodd\" fill-opacity=\"1\" /><path clip-path=\"url(#clip670)\" d=\"M1685.5 1530.21 Q1688.85 1530.93 1690.73 1533.2 Q1692.62 1535.47 1692.62 1538.8 Q1692.62 1543.92 1689.11 1546.72 Q1685.59 1549.52 1679.11 1549.52 Q1676.93 1549.52 1674.62 1549.08 Q1672.32 1548.66 1669.87 1547.81 L1669.87 1543.29 Q1671.81 1544.43 1674.13 1545.01 Q1676.44 1545.58 1678.97 1545.58 Q1683.37 1545.58 1685.66 1543.85 Q1687.97 1542.11 1687.97 1538.8 Q1687.97 1535.75 1685.82 1534.03 Q1683.69 1532.3 1679.87 1532.3 L1675.84 1532.3 L1675.84 1528.45 L1680.06 1528.45 Q1683.5 1528.45 1685.33 1527.09 Q1687.16 1525.7 1687.16 1523.11 Q1687.16 1520.45 1685.26 1519.03 Q1683.39 1517.6 1679.87 1517.6 Q1677.95 1517.6 1675.75 1518.01 Q1673.55 1518.43 1670.91 1519.31 L1670.91 1515.14 Q1673.57 1514.4 1675.89 1514.03 Q1678.23 1513.66 1680.29 1513.66 Q1685.61 1513.66 1688.71 1516.09 Q1691.81 1518.5 1691.81 1522.62 Q1691.81 1525.49 1690.17 1527.48 Q1688.53 1529.45 1685.5 1530.21 Z\" fill=\"#000000\" fill-rule=\"evenodd\" fill-opacity=\"1\" /><path clip-path=\"url(#clip670)\" d=\"M1711.49 1517.37 Q1707.88 1517.37 1706.05 1520.93 Q1704.24 1524.47 1704.24 1531.6 Q1704.24 1538.71 1706.05 1542.27 Q1707.88 1545.82 1711.49 1545.82 Q1715.12 1545.82 1716.93 1542.27 Q1718.76 1538.71 1718.76 1531.6 Q1718.76 1524.47 1716.93 1520.93 Q1715.12 1517.37 1711.49 1517.37 M1711.49 1513.66 Q1717.3 1513.66 1720.36 1518.27 Q1723.43 1522.85 1723.43 1531.6 Q1723.43 1540.33 1720.36 1544.94 Q1717.3 1549.52 1711.49 1549.52 Q1705.68 1549.52 1702.6 1544.94 Q1699.55 1540.33 1699.55 1531.6 Q1699.55 1522.85 1702.6 1518.27 Q1705.68 1513.66 1711.49 1513.66 Z\" fill=\"#000000\" fill-rule=\"evenodd\" fill-opacity=\"1\" /><path clip-path=\"url(#clip670)\" d=\"M2177.46 1518.36 L2165.65 1536.81 L2177.46 1536.81 L2177.46 1518.36 M2176.23 1514.29 L2182.11 1514.29 L2182.11 1536.81 L2187.04 1536.81 L2187.04 1540.7 L2182.11 1540.7 L2182.11 1548.85 L2177.46 1548.85 L2177.46 1540.7 L2161.85 1540.7 L2161.85 1536.19 L2176.23 1514.29 Z\" fill=\"#000000\" fill-rule=\"evenodd\" fill-opacity=\"1\" /><path clip-path=\"url(#clip670)\" d=\"M2204.77 1517.37 Q2201.16 1517.37 2199.33 1520.93 Q2197.53 1524.47 2197.53 1531.6 Q2197.53 1538.71 2199.33 1542.27 Q2201.16 1545.82 2204.77 1545.82 Q2208.41 1545.82 2210.21 1542.27 Q2212.04 1538.71 2212.04 1531.6 Q2212.04 1524.47 2210.21 1520.93 Q2208.41 1517.37 2204.77 1517.37 M2204.77 1513.66 Q2210.58 1513.66 2213.64 1518.27 Q2216.72 1522.85 2216.72 1531.6 Q2216.72 1540.33 2213.64 1544.94 Q2210.58 1549.52 2204.77 1549.52 Q2198.96 1549.52 2195.88 1544.94 Q2192.83 1540.33 2192.83 1531.6 Q2192.83 1522.85 2195.88 1518.27 Q2198.96 1513.66 2204.77 1513.66 Z\" fill=\"#000000\" fill-rule=\"evenodd\" fill-opacity=\"1\" /><polyline clip-path=\"url(#clip672)\" style=\"stroke:#000000; stroke-linecap:butt; stroke-linejoin:round; stroke-width:2; stroke-opacity:0.1; fill:none\" points=\"\n",
       "  156.598,1447.87 2352.76,1447.87 \n",
       "  \"/>\n",
       "<polyline clip-path=\"url(#clip672)\" style=\"stroke:#000000; stroke-linecap:butt; stroke-linejoin:round; stroke-width:2; stroke-opacity:0.1; fill:none\" points=\"\n",
       "  156.598,1248.43 2352.76,1248.43 \n",
       "  \"/>\n",
       "<polyline clip-path=\"url(#clip672)\" style=\"stroke:#000000; stroke-linecap:butt; stroke-linejoin:round; stroke-width:2; stroke-opacity:0.1; fill:none\" points=\"\n",
       "  156.598,1048.98 2352.76,1048.98 \n",
       "  \"/>\n",
       "<polyline clip-path=\"url(#clip672)\" style=\"stroke:#000000; stroke-linecap:butt; stroke-linejoin:round; stroke-width:2; stroke-opacity:0.1; fill:none\" points=\"\n",
       "  156.598,849.541 2352.76,849.541 \n",
       "  \"/>\n",
       "<polyline clip-path=\"url(#clip672)\" style=\"stroke:#000000; stroke-linecap:butt; stroke-linejoin:round; stroke-width:2; stroke-opacity:0.1; fill:none\" points=\"\n",
       "  156.598,650.096 2352.76,650.096 \n",
       "  \"/>\n",
       "<polyline clip-path=\"url(#clip672)\" style=\"stroke:#000000; stroke-linecap:butt; stroke-linejoin:round; stroke-width:2; stroke-opacity:0.1; fill:none\" points=\"\n",
       "  156.598,450.652 2352.76,450.652 \n",
       "  \"/>\n",
       "<polyline clip-path=\"url(#clip672)\" style=\"stroke:#000000; stroke-linecap:butt; stroke-linejoin:round; stroke-width:2; stroke-opacity:0.1; fill:none\" points=\"\n",
       "  156.598,251.208 2352.76,251.208 \n",
       "  \"/>\n",
       "<polyline clip-path=\"url(#clip670)\" style=\"stroke:#000000; stroke-linecap:butt; stroke-linejoin:round; stroke-width:4; stroke-opacity:1; fill:none\" points=\"\n",
       "  156.598,1486.45 156.598,123.472 \n",
       "  \"/>\n",
       "<polyline clip-path=\"url(#clip670)\" style=\"stroke:#000000; stroke-linecap:butt; stroke-linejoin:round; stroke-width:4; stroke-opacity:1; fill:none\" points=\"\n",
       "  156.598,1447.87 175.496,1447.87 \n",
       "  \"/>\n",
       "<polyline clip-path=\"url(#clip670)\" style=\"stroke:#000000; stroke-linecap:butt; stroke-linejoin:round; stroke-width:4; stroke-opacity:1; fill:none\" points=\"\n",
       "  156.598,1248.43 175.496,1248.43 \n",
       "  \"/>\n",
       "<polyline clip-path=\"url(#clip670)\" style=\"stroke:#000000; stroke-linecap:butt; stroke-linejoin:round; stroke-width:4; stroke-opacity:1; fill:none\" points=\"\n",
       "  156.598,1048.98 175.496,1048.98 \n",
       "  \"/>\n",
       "<polyline clip-path=\"url(#clip670)\" style=\"stroke:#000000; stroke-linecap:butt; stroke-linejoin:round; stroke-width:4; stroke-opacity:1; fill:none\" points=\"\n",
       "  156.598,849.541 175.496,849.541 \n",
       "  \"/>\n",
       "<polyline clip-path=\"url(#clip670)\" style=\"stroke:#000000; stroke-linecap:butt; stroke-linejoin:round; stroke-width:4; stroke-opacity:1; fill:none\" points=\"\n",
       "  156.598,650.096 175.496,650.096 \n",
       "  \"/>\n",
       "<polyline clip-path=\"url(#clip670)\" style=\"stroke:#000000; stroke-linecap:butt; stroke-linejoin:round; stroke-width:4; stroke-opacity:1; fill:none\" points=\"\n",
       "  156.598,450.652 175.496,450.652 \n",
       "  \"/>\n",
       "<polyline clip-path=\"url(#clip670)\" style=\"stroke:#000000; stroke-linecap:butt; stroke-linejoin:round; stroke-width:4; stroke-opacity:1; fill:none\" points=\"\n",
       "  156.598,251.208 175.496,251.208 \n",
       "  \"/>\n",
       "<path clip-path=\"url(#clip670)\" d=\"M63.4226 1433.67 Q59.8115 1433.67 57.9828 1437.24 Q56.1773 1440.78 56.1773 1447.91 Q56.1773 1455.01 57.9828 1458.58 Q59.8115 1462.12 63.4226 1462.12 Q67.0569 1462.12 68.8624 1458.58 Q70.6911 1455.01 70.6911 1447.91 Q70.6911 1440.78 68.8624 1437.24 Q67.0569 1433.67 63.4226 1433.67 M63.4226 1429.97 Q69.2328 1429.97 72.2883 1434.57 Q75.367 1439.16 75.367 1447.91 Q75.367 1456.63 72.2883 1461.24 Q69.2328 1465.82 63.4226 1465.82 Q57.6125 1465.82 54.5338 1461.24 Q51.4782 1456.63 51.4782 1447.91 Q51.4782 1439.16 54.5338 1434.57 Q57.6125 1429.97 63.4226 1429.97 Z\" fill=\"#000000\" fill-rule=\"evenodd\" fill-opacity=\"1\" /><path clip-path=\"url(#clip670)\" d=\"M83.5845 1459.27 L88.4688 1459.27 L88.4688 1465.15 L83.5845 1465.15 L83.5845 1459.27 Z\" fill=\"#000000\" fill-rule=\"evenodd\" fill-opacity=\"1\" /><path clip-path=\"url(#clip670)\" d=\"M108.654 1433.67 Q105.043 1433.67 103.214 1437.24 Q101.409 1440.78 101.409 1447.91 Q101.409 1455.01 103.214 1458.58 Q105.043 1462.12 108.654 1462.12 Q112.288 1462.12 114.094 1458.58 Q115.922 1455.01 115.922 1447.91 Q115.922 1440.78 114.094 1437.24 Q112.288 1433.67 108.654 1433.67 M108.654 1429.97 Q114.464 1429.97 117.52 1434.57 Q120.598 1439.16 120.598 1447.91 Q120.598 1456.63 117.52 1461.24 Q114.464 1465.82 108.654 1465.82 Q102.844 1465.82 99.765 1461.24 Q96.7095 1456.63 96.7095 1447.91 Q96.7095 1439.16 99.765 1434.57 Q102.844 1429.97 108.654 1429.97 Z\" fill=\"#000000\" fill-rule=\"evenodd\" fill-opacity=\"1\" /><path clip-path=\"url(#clip670)\" d=\"M64.6495 1234.23 Q61.0384 1234.23 59.2097 1237.79 Q57.4041 1241.33 57.4041 1248.46 Q57.4041 1255.57 59.2097 1259.13 Q61.0384 1262.68 64.6495 1262.68 Q68.2837 1262.68 70.0892 1259.13 Q71.9179 1255.57 71.9179 1248.46 Q71.9179 1241.33 70.0892 1237.79 Q68.2837 1234.23 64.6495 1234.23 M64.6495 1230.52 Q70.4596 1230.52 73.5152 1235.13 Q76.5938 1239.71 76.5938 1248.46 Q76.5938 1257.19 73.5152 1261.8 Q70.4596 1266.38 64.6495 1266.38 Q58.8393 1266.38 55.7606 1261.8 Q52.7051 1257.19 52.7051 1248.46 Q52.7051 1239.71 55.7606 1235.13 Q58.8393 1230.52 64.6495 1230.52 Z\" fill=\"#000000\" fill-rule=\"evenodd\" fill-opacity=\"1\" /><path clip-path=\"url(#clip670)\" d=\"M84.8114 1259.83 L89.6956 1259.83 L89.6956 1265.71 L84.8114 1265.71 L84.8114 1259.83 Z\" fill=\"#000000\" fill-rule=\"evenodd\" fill-opacity=\"1\" /><path clip-path=\"url(#clip670)\" d=\"M100.691 1261.77 L108.33 1261.77 L108.33 1235.41 L100.02 1237.07 L100.02 1232.82 L108.283 1231.15 L112.959 1231.15 L112.959 1261.77 L120.598 1261.77 L120.598 1265.71 L100.691 1265.71 L100.691 1261.77 Z\" fill=\"#000000\" fill-rule=\"evenodd\" fill-opacity=\"1\" /><path clip-path=\"url(#clip670)\" d=\"M65.0198 1034.78 Q61.4087 1034.78 59.58 1038.35 Q57.7745 1041.89 57.7745 1049.02 Q57.7745 1056.13 59.58 1059.69 Q61.4087 1063.23 65.0198 1063.23 Q68.6541 1063.23 70.4596 1059.69 Q72.2883 1056.13 72.2883 1049.02 Q72.2883 1041.89 70.4596 1038.35 Q68.6541 1034.78 65.0198 1034.78 M65.0198 1031.08 Q70.83 1031.08 73.8855 1035.69 Q76.9642 1040.27 76.9642 1049.02 Q76.9642 1057.75 73.8855 1062.35 Q70.83 1066.94 65.0198 1066.94 Q59.2097 1066.94 56.131 1062.35 Q53.0754 1057.75 53.0754 1049.02 Q53.0754 1040.27 56.131 1035.69 Q59.2097 1031.08 65.0198 1031.08 Z\" fill=\"#000000\" fill-rule=\"evenodd\" fill-opacity=\"1\" /><path clip-path=\"url(#clip670)\" d=\"M85.1818 1060.39 L90.066 1060.39 L90.066 1066.26 L85.1818 1066.26 L85.1818 1060.39 Z\" fill=\"#000000\" fill-rule=\"evenodd\" fill-opacity=\"1\" /><path clip-path=\"url(#clip670)\" d=\"M104.279 1062.33 L120.598 1062.33 L120.598 1066.26 L98.6539 1066.26 L98.6539 1062.33 Q101.316 1059.57 105.899 1054.95 Q110.506 1050.29 111.686 1048.95 Q113.932 1046.43 114.811 1044.69 Q115.714 1042.93 115.714 1041.24 Q115.714 1038.49 113.77 1036.75 Q111.848 1035.01 108.746 1035.01 Q106.547 1035.01 104.094 1035.78 Q101.663 1036.54 98.8854 1038.09 L98.8854 1033.37 Q101.709 1032.24 104.163 1031.66 Q106.617 1031.08 108.654 1031.08 Q114.024 1031.08 117.219 1033.76 Q120.413 1036.45 120.413 1040.94 Q120.413 1043.07 119.603 1044.99 Q118.816 1046.89 116.709 1049.48 Q116.131 1050.15 113.029 1053.37 Q109.927 1056.57 104.279 1062.33 Z\" fill=\"#000000\" fill-rule=\"evenodd\" fill-opacity=\"1\" /><path clip-path=\"url(#clip670)\" d=\"M64.0708 835.339 Q60.4597 835.339 58.631 838.904 Q56.8254 842.446 56.8254 849.575 Q56.8254 856.682 58.631 860.247 Q60.4597 863.788 64.0708 863.788 Q67.705 863.788 69.5105 860.247 Q71.3392 856.682 71.3392 849.575 Q71.3392 842.446 69.5105 838.904 Q67.705 835.339 64.0708 835.339 M64.0708 831.636 Q69.8809 831.636 72.9365 836.242 Q76.0151 840.825 76.0151 849.575 Q76.0151 858.302 72.9365 862.909 Q69.8809 867.492 64.0708 867.492 Q58.2606 867.492 55.1819 862.909 Q52.1264 858.302 52.1264 849.575 Q52.1264 840.825 55.1819 836.242 Q58.2606 831.636 64.0708 831.636 Z\" fill=\"#000000\" fill-rule=\"evenodd\" fill-opacity=\"1\" /><path clip-path=\"url(#clip670)\" d=\"M84.2327 860.941 L89.1169 860.941 L89.1169 866.821 L84.2327 866.821 L84.2327 860.941 Z\" fill=\"#000000\" fill-rule=\"evenodd\" fill-opacity=\"1\" /><path clip-path=\"url(#clip670)\" d=\"M113.469 848.186 Q116.825 848.904 118.7 851.173 Q120.598 853.441 120.598 856.774 Q120.598 861.89 117.08 864.691 Q113.561 867.492 107.08 867.492 Q104.904 867.492 102.589 867.052 Q100.297 866.635 97.8437 865.779 L97.8437 861.265 Q99.7882 862.399 102.103 862.978 Q104.418 863.557 106.941 863.557 Q111.339 863.557 113.631 861.821 Q115.945 860.084 115.945 856.774 Q115.945 853.719 113.793 852.006 Q111.663 850.27 107.844 850.27 L103.816 850.27 L103.816 846.427 L108.029 846.427 Q111.478 846.427 113.307 845.061 Q115.135 843.673 115.135 841.08 Q115.135 838.418 113.237 837.006 Q111.362 835.571 107.844 835.571 Q105.922 835.571 103.723 835.987 Q101.524 836.404 98.8854 837.284 L98.8854 833.117 Q101.547 832.376 103.862 832.006 Q106.2 831.636 108.26 831.636 Q113.584 831.636 116.686 834.066 Q119.788 836.474 119.788 840.594 Q119.788 843.464 118.145 845.455 Q116.501 847.423 113.469 848.186 Z\" fill=\"#000000\" fill-rule=\"evenodd\" fill-opacity=\"1\" /><path clip-path=\"url(#clip670)\" d=\"M62.9365 635.895 Q59.3254 635.895 57.4967 639.46 Q55.6912 643.002 55.6912 650.131 Q55.6912 657.238 57.4967 660.802 Q59.3254 664.344 62.9365 664.344 Q66.5707 664.344 68.3763 660.802 Q70.205 657.238 70.205 650.131 Q70.205 643.002 68.3763 639.46 Q66.5707 635.895 62.9365 635.895 M62.9365 632.191 Q68.7467 632.191 71.8022 636.798 Q74.8809 641.381 74.8809 650.131 Q74.8809 658.858 71.8022 663.464 Q68.7467 668.048 62.9365 668.048 Q57.1264 668.048 54.0477 663.464 Q50.9921 658.858 50.9921 650.131 Q50.9921 641.381 54.0477 636.798 Q57.1264 632.191 62.9365 632.191 Z\" fill=\"#000000\" fill-rule=\"evenodd\" fill-opacity=\"1\" /><path clip-path=\"url(#clip670)\" d=\"M83.0984 661.497 L87.9827 661.497 L87.9827 667.376 L83.0984 667.376 L83.0984 661.497 Z\" fill=\"#000000\" fill-rule=\"evenodd\" fill-opacity=\"1\" /><path clip-path=\"url(#clip670)\" d=\"M111.015 636.89 L99.2095 655.339 L111.015 655.339 L111.015 636.89 M109.788 632.816 L115.668 632.816 L115.668 655.339 L120.598 655.339 L120.598 659.228 L115.668 659.228 L115.668 667.376 L111.015 667.376 L111.015 659.228 L95.4132 659.228 L95.4132 654.714 L109.788 632.816 Z\" fill=\"#000000\" fill-rule=\"evenodd\" fill-opacity=\"1\" /><path clip-path=\"url(#clip670)\" d=\"M64.418 436.451 Q60.8069 436.451 58.9782 440.016 Q57.1726 443.557 57.1726 450.687 Q57.1726 457.793 58.9782 461.358 Q60.8069 464.9 64.418 464.9 Q68.0522 464.9 69.8578 461.358 Q71.6865 457.793 71.6865 450.687 Q71.6865 443.557 69.8578 440.016 Q68.0522 436.451 64.418 436.451 M64.418 432.747 Q70.2281 432.747 73.2837 437.354 Q76.3624 441.937 76.3624 450.687 Q76.3624 459.414 73.2837 464.02 Q70.2281 468.604 64.418 468.604 Q58.6078 468.604 55.5291 464.02 Q52.4736 459.414 52.4736 450.687 Q52.4736 441.937 55.5291 437.354 Q58.6078 432.747 64.418 432.747 Z\" fill=\"#000000\" fill-rule=\"evenodd\" fill-opacity=\"1\" /><path clip-path=\"url(#clip670)\" d=\"M84.5799 462.053 L89.4641 462.053 L89.4641 467.932 L84.5799 467.932 L84.5799 462.053 Z\" fill=\"#000000\" fill-rule=\"evenodd\" fill-opacity=\"1\" /><path clip-path=\"url(#clip670)\" d=\"M99.6956 433.372 L118.052 433.372 L118.052 437.307 L103.978 437.307 L103.978 445.78 Q104.996 445.432 106.015 445.27 Q107.033 445.085 108.052 445.085 Q113.839 445.085 117.219 448.256 Q120.598 451.428 120.598 456.844 Q120.598 462.423 117.126 465.525 Q113.654 468.604 107.334 468.604 Q105.159 468.604 102.89 468.233 Q100.645 467.863 98.2372 467.122 L98.2372 462.423 Q100.321 463.557 102.543 464.113 Q104.765 464.668 107.242 464.668 Q111.246 464.668 113.584 462.562 Q115.922 460.455 115.922 456.844 Q115.922 453.233 113.584 451.127 Q111.246 449.02 107.242 449.02 Q105.367 449.02 103.492 449.437 Q101.64 449.854 99.6956 450.733 L99.6956 433.372 Z\" fill=\"#000000\" fill-rule=\"evenodd\" fill-opacity=\"1\" /><path clip-path=\"url(#clip670)\" d=\"M63.2606 237.007 Q59.6495 237.007 57.8208 240.572 Q56.0152 244.113 56.0152 251.243 Q56.0152 258.349 57.8208 261.914 Q59.6495 265.456 63.2606 265.456 Q66.8948 265.456 68.7004 261.914 Q70.5291 258.349 70.5291 251.243 Q70.5291 244.113 68.7004 240.572 Q66.8948 237.007 63.2606 237.007 M63.2606 233.303 Q69.0707 233.303 72.1263 237.91 Q75.205 242.493 75.205 251.243 Q75.205 259.97 72.1263 264.576 Q69.0707 269.159 63.2606 269.159 Q57.4504 269.159 54.3717 264.576 Q51.3162 259.97 51.3162 251.243 Q51.3162 242.493 54.3717 237.91 Q57.4504 233.303 63.2606 233.303 Z\" fill=\"#000000\" fill-rule=\"evenodd\" fill-opacity=\"1\" /><path clip-path=\"url(#clip670)\" d=\"M83.4225 262.608 L88.3067 262.608 L88.3067 268.488 L83.4225 268.488 L83.4225 262.608 Z\" fill=\"#000000\" fill-rule=\"evenodd\" fill-opacity=\"1\" /><path clip-path=\"url(#clip670)\" d=\"M109.071 249.345 Q105.922 249.345 104.071 251.497 Q102.242 253.65 102.242 257.4 Q102.242 261.127 104.071 263.303 Q105.922 265.456 109.071 265.456 Q112.219 265.456 114.047 263.303 Q115.899 261.127 115.899 257.4 Q115.899 253.65 114.047 251.497 Q112.219 249.345 109.071 249.345 M118.353 234.692 L118.353 238.951 Q116.594 238.118 114.788 237.678 Q113.006 237.238 111.246 237.238 Q106.617 237.238 104.163 240.363 Q101.733 243.488 101.385 249.808 Q102.751 247.794 104.811 246.729 Q106.871 245.641 109.348 245.641 Q114.557 245.641 117.566 248.812 Q120.598 251.96 120.598 257.4 Q120.598 262.724 117.45 265.942 Q114.302 269.159 109.071 269.159 Q103.075 269.159 99.9039 264.576 Q96.7326 259.97 96.7326 251.243 Q96.7326 243.048 100.621 238.187 Q104.51 233.303 111.061 233.303 Q112.82 233.303 114.603 233.65 Q116.408 233.997 118.353 234.692 Z\" fill=\"#000000\" fill-rule=\"evenodd\" fill-opacity=\"1\" /><path clip-path=\"url(#clip670)\" d=\"M825.626 17.6457 Q816.714 17.6457 811.447 24.2892 Q806.222 30.9327 806.222 42.3968 Q806.222 53.8203 811.447 60.4638 Q816.714 67.1073 825.626 67.1073 Q834.538 67.1073 839.723 60.4638 Q844.948 53.8203 844.948 42.3968 Q844.948 30.9327 839.723 24.2892 Q834.538 17.6457 825.626 17.6457 M837.09 71.4823 L847.865 83.2704 L837.981 83.2704 L829.028 73.5887 Q827.692 73.6697 826.962 73.7103 Q826.274 73.7508 825.626 73.7508 Q812.865 73.7508 805.209 65.2439 Q797.593 56.6965 797.593 42.3968 Q797.593 28.0566 805.209 19.5497 Q812.865 11.0023 825.626 11.0023 Q838.345 11.0023 845.961 19.5497 Q853.577 28.0566 853.577 42.3968 Q853.577 52.9291 849.323 60.4233 Q845.11 67.9175 837.09 71.4823 Z\" fill=\"#000000\" fill-rule=\"evenodd\" fill-opacity=\"1\" /><path clip-path=\"url(#clip670)\" d=\"M865.284 54.671 L865.284 27.2059 L872.738 27.2059 L872.738 54.3874 Q872.738 60.8284 875.249 64.0691 Q877.761 67.2693 882.784 67.2693 Q888.82 67.2693 892.303 63.421 Q895.828 59.5726 895.828 52.9291 L895.828 27.2059 L903.281 27.2059 L903.281 72.576 L895.828 72.576 L895.828 65.6084 Q893.114 69.7404 889.508 71.7658 Q885.944 73.7508 881.204 73.7508 Q873.386 73.7508 869.335 68.8897 Q865.284 64.0286 865.284 54.671 M884.04 26.1121 L884.04 26.1121 Z\" fill=\"#000000\" fill-rule=\"evenodd\" fill-opacity=\"1\" /><path clip-path=\"url(#clip670)\" d=\"M939.253 49.7694 Q930.22 49.7694 926.736 51.8354 Q923.252 53.9013 923.252 58.8839 Q923.252 62.8538 925.845 65.2034 Q928.478 67.5124 932.975 67.5124 Q939.172 67.5124 942.899 63.1374 Q946.667 58.7219 946.667 51.4303 L946.667 49.7694 L939.253 49.7694 M954.12 46.6907 L954.12 72.576 L946.667 72.576 L946.667 65.6895 Q944.114 69.8214 940.307 71.8063 Q936.499 73.7508 930.99 73.7508 Q924.022 73.7508 919.89 69.8619 Q915.799 65.9325 915.799 59.3701 Q915.799 51.7138 920.903 47.825 Q926.047 43.9361 936.215 43.9361 L946.667 43.9361 L946.667 43.2069 Q946.667 38.0623 943.264 35.2672 Q939.902 32.4315 933.785 32.4315 Q929.896 32.4315 926.21 33.3632 Q922.523 34.295 919.12 36.1584 L919.12 29.2718 Q923.212 27.692 927.06 26.9223 Q930.909 26.1121 934.554 26.1121 Q944.398 26.1121 949.259 31.2163 Q954.12 36.3204 954.12 46.6907 Z\" fill=\"#000000\" fill-rule=\"evenodd\" fill-opacity=\"1\" /><path clip-path=\"url(#clip670)\" d=\"M1007.19 45.1919 L1007.19 72.576 L999.733 72.576 L999.733 45.4349 Q999.733 38.994 997.222 35.7938 Q994.71 32.5936 989.687 32.5936 Q983.651 32.5936 980.168 36.4419 Q976.684 40.2903 976.684 46.9338 L976.684 72.576 L969.19 72.576 L969.19 27.2059 L976.684 27.2059 L976.684 34.2544 Q979.357 30.163 982.963 28.1376 Q986.608 26.1121 991.348 26.1121 Q999.166 26.1121 1003.18 30.9732 Q1007.19 35.7938 1007.19 45.1919 Z\" fill=\"#000000\" fill-rule=\"evenodd\" fill-opacity=\"1\" /><path clip-path=\"url(#clip670)\" d=\"M1029.43 14.324 L1029.43 27.2059 L1044.78 27.2059 L1044.78 32.9987 L1029.43 32.9987 L1029.43 57.6282 Q1029.43 63.1779 1030.93 64.7578 Q1032.46 66.3376 1037.12 66.3376 L1044.78 66.3376 L1044.78 72.576 L1037.12 72.576 Q1028.49 72.576 1025.21 69.3758 Q1021.93 66.1351 1021.93 57.6282 L1021.93 32.9987 L1016.46 32.9987 L1016.46 27.2059 L1021.93 27.2059 L1021.93 14.324 L1029.43 14.324 Z\" fill=\"#000000\" fill-rule=\"evenodd\" fill-opacity=\"1\" /><path clip-path=\"url(#clip670)\" d=\"M1054.58 27.2059 L1062.04 27.2059 L1062.04 72.576 L1054.58 72.576 L1054.58 27.2059 M1054.58 9.54393 L1062.04 9.54393 L1062.04 18.9825 L1054.58 18.9825 L1054.58 9.54393 Z\" fill=\"#000000\" fill-rule=\"evenodd\" fill-opacity=\"1\" /><path clip-path=\"url(#clip670)\" d=\"M1085 14.324 L1085 27.2059 L1100.36 27.2059 L1100.36 32.9987 L1085 32.9987 L1085 57.6282 Q1085 63.1779 1086.5 64.7578 Q1088.04 66.3376 1092.7 66.3376 L1100.36 66.3376 L1100.36 72.576 L1092.7 72.576 Q1084.07 72.576 1080.79 69.3758 Q1077.51 66.1351 1077.51 57.6282 L1077.51 32.9987 L1072.04 32.9987 L1072.04 27.2059 L1077.51 27.2059 L1077.51 14.324 L1085 14.324 Z\" fill=\"#000000\" fill-rule=\"evenodd\" fill-opacity=\"1\" /><path clip-path=\"url(#clip670)\" d=\"M1110.16 27.2059 L1117.61 27.2059 L1117.61 72.576 L1110.16 72.576 L1110.16 27.2059 M1110.16 9.54393 L1117.61 9.54393 L1117.61 18.9825 L1110.16 18.9825 L1110.16 9.54393 Z\" fill=\"#000000\" fill-rule=\"evenodd\" fill-opacity=\"1\" /><path clip-path=\"url(#clip670)\" d=\"M1172.02 48.0275 L1172.02 51.6733 L1137.75 51.6733 Q1138.23 59.3701 1142.37 63.421 Q1146.54 67.4314 1153.95 67.4314 Q1158.25 67.4314 1162.26 66.3781 Q1166.31 65.3249 1170.28 63.2184 L1170.28 70.267 Q1166.27 71.9684 1162.05 72.8596 Q1157.84 73.7508 1153.51 73.7508 Q1142.65 73.7508 1136.29 67.4314 Q1129.97 61.1119 1129.97 50.3365 Q1129.97 39.1965 1135.97 32.6746 Q1142 26.1121 1152.21 26.1121 Q1161.36 26.1121 1166.67 32.0264 Q1172.02 37.9003 1172.02 48.0275 M1164.56 45.84 Q1164.48 39.7232 1161.12 36.0774 Q1157.8 32.4315 1152.29 32.4315 Q1146.05 32.4315 1142.28 35.9558 Q1138.56 39.4801 1137.99 45.8805 L1164.56 45.84 Z\" fill=\"#000000\" fill-rule=\"evenodd\" fill-opacity=\"1\" /><path clip-path=\"url(#clip670)\" d=\"M1213.18 28.5427 L1213.18 35.5912 Q1210.02 33.9709 1206.61 33.1607 Q1203.21 32.3505 1199.56 32.3505 Q1194.01 32.3505 1191.22 34.0519 Q1188.47 35.7533 1188.47 39.156 Q1188.47 41.7486 1190.45 43.2475 Q1192.43 44.7058 1198.43 46.0426 L1200.98 46.6097 Q1208.92 48.3111 1212.24 51.4303 Q1215.61 54.509 1215.61 60.0587 Q1215.61 66.3781 1210.58 70.0644 Q1205.6 73.7508 1196.85 73.7508 Q1193.2 73.7508 1189.23 73.0216 Q1185.31 72.3329 1180.93 70.9151 L1180.93 63.2184 Q1185.06 65.3654 1189.07 66.4591 Q1193.08 67.5124 1197.01 67.5124 Q1202.28 67.5124 1205.11 65.73 Q1207.95 63.9071 1207.95 60.6258 Q1207.95 57.5877 1205.88 55.9673 Q1203.86 54.3469 1196.93 52.8481 L1194.34 52.2405 Q1187.41 50.7821 1184.33 47.7845 Q1181.25 44.7463 1181.25 39.4801 Q1181.25 33.0797 1185.79 29.5959 Q1190.33 26.1121 1198.67 26.1121 Q1202.81 26.1121 1206.45 26.7198 Q1210.1 27.3274 1213.18 28.5427 Z\" fill=\"#000000\" fill-rule=\"evenodd\" fill-opacity=\"1\" /><path clip-path=\"url(#clip670)\" d=\"M1283.7 34.0924 L1283.7 9.54393 L1291.16 9.54393 L1291.16 72.576 L1283.7 72.576 L1283.7 65.7705 Q1281.35 69.8214 1277.75 71.8063 Q1274.18 73.7508 1269.16 73.7508 Q1260.94 73.7508 1255.75 67.1883 Q1250.61 60.6258 1250.61 49.9314 Q1250.61 39.2371 1255.75 32.6746 Q1260.94 26.1121 1269.16 26.1121 Q1274.18 26.1121 1277.75 28.0971 Q1281.35 30.0415 1283.7 34.0924 M1258.3 49.9314 Q1258.3 58.1548 1261.66 62.8538 Q1265.07 67.5124 1270.98 67.5124 Q1276.9 67.5124 1280.3 62.8538 Q1283.7 58.1548 1283.7 49.9314 Q1283.7 41.7081 1280.3 37.0496 Q1276.9 32.3505 1270.98 32.3505 Q1265.07 32.3505 1261.66 37.0496 Q1258.3 41.7081 1258.3 49.9314 Z\" fill=\"#000000\" fill-rule=\"evenodd\" fill-opacity=\"1\" /><path clip-path=\"url(#clip670)\" d=\"M1306.51 27.2059 L1313.96 27.2059 L1313.96 72.576 L1306.51 72.576 L1306.51 27.2059 M1306.51 9.54393 L1313.96 9.54393 L1313.96 18.9825 L1306.51 18.9825 L1306.51 9.54393 Z\" fill=\"#000000\" fill-rule=\"evenodd\" fill-opacity=\"1\" /><path clip-path=\"url(#clip670)\" d=\"M1358.48 28.5427 L1358.48 35.5912 Q1355.32 33.9709 1351.92 33.1607 Q1348.52 32.3505 1344.87 32.3505 Q1339.32 32.3505 1336.53 34.0519 Q1333.77 35.7533 1333.77 39.156 Q1333.77 41.7486 1335.76 43.2475 Q1337.74 44.7058 1343.74 46.0426 L1346.29 46.6097 Q1354.23 48.3111 1357.55 51.4303 Q1360.91 54.509 1360.91 60.0587 Q1360.91 66.3781 1355.89 70.0644 Q1350.91 73.7508 1342.16 73.7508 Q1338.51 73.7508 1334.54 73.0216 Q1330.61 72.3329 1326.24 70.9151 L1326.24 63.2184 Q1330.37 65.3654 1334.38 66.4591 Q1338.39 67.5124 1342.32 67.5124 Q1347.58 67.5124 1350.42 65.73 Q1353.26 63.9071 1353.26 60.6258 Q1353.26 57.5877 1351.19 55.9673 Q1349.16 54.3469 1342.24 52.8481 L1339.64 52.2405 Q1332.72 50.7821 1329.64 47.7845 Q1326.56 44.7463 1326.56 39.4801 Q1326.56 33.0797 1331.1 29.5959 Q1335.63 26.1121 1343.98 26.1121 Q1348.11 26.1121 1351.76 26.7198 Q1355.4 27.3274 1358.48 28.5427 Z\" fill=\"#000000\" fill-rule=\"evenodd\" fill-opacity=\"1\" /><path clip-path=\"url(#clip670)\" d=\"M1380.15 14.324 L1380.15 27.2059 L1395.51 27.2059 L1395.51 32.9987 L1380.15 32.9987 L1380.15 57.6282 Q1380.15 63.1779 1381.65 64.7578 Q1383.19 66.3376 1387.85 66.3376 L1395.51 66.3376 L1395.51 72.576 L1387.85 72.576 Q1379.22 72.576 1375.94 69.3758 Q1372.66 66.1351 1372.66 57.6282 L1372.66 32.9987 L1367.19 32.9987 L1367.19 27.2059 L1372.66 27.2059 L1372.66 14.324 L1380.15 14.324 Z\" fill=\"#000000\" fill-rule=\"evenodd\" fill-opacity=\"1\" /><path clip-path=\"url(#clip670)\" d=\"M1431.6 34.1734 Q1430.34 33.4443 1428.85 33.1202 Q1427.39 32.7556 1425.6 32.7556 Q1419.29 32.7556 1415.88 36.8875 Q1412.52 40.9789 1412.52 48.6757 L1412.52 72.576 L1405.03 72.576 L1405.03 27.2059 L1412.52 27.2059 L1412.52 34.2544 Q1414.87 30.1225 1418.64 28.1376 Q1422.4 26.1121 1427.79 26.1121 Q1428.56 26.1121 1429.49 26.2337 Q1430.43 26.3147 1431.56 26.5172 L1431.6 34.1734 Z\" fill=\"#000000\" fill-rule=\"evenodd\" fill-opacity=\"1\" /><path clip-path=\"url(#clip670)\" d=\"M1439.42 27.2059 L1446.87 27.2059 L1446.87 72.576 L1439.42 72.576 L1439.42 27.2059 M1439.42 9.54393 L1446.87 9.54393 L1446.87 18.9825 L1439.42 18.9825 L1439.42 9.54393 Z\" fill=\"#000000\" fill-rule=\"evenodd\" fill-opacity=\"1\" /><path clip-path=\"url(#clip670)\" d=\"M1495.04 49.9314 Q1495.04 41.7081 1491.63 37.0496 Q1488.27 32.3505 1482.36 32.3505 Q1476.44 32.3505 1473.04 37.0496 Q1469.68 41.7081 1469.68 49.9314 Q1469.68 58.1548 1473.04 62.8538 Q1476.44 67.5124 1482.36 67.5124 Q1488.27 67.5124 1491.63 62.8538 Q1495.04 58.1548 1495.04 49.9314 M1469.68 34.0924 Q1472.03 30.0415 1475.59 28.0971 Q1479.2 26.1121 1484.18 26.1121 Q1492.44 26.1121 1497.59 32.6746 Q1502.77 39.2371 1502.77 49.9314 Q1502.77 60.6258 1497.59 67.1883 Q1492.44 73.7508 1484.18 73.7508 Q1479.2 73.7508 1475.59 71.8063 Q1472.03 69.8214 1469.68 65.7705 L1469.68 72.576 L1462.18 72.576 L1462.18 9.54393 L1469.68 9.54393 L1469.68 34.0924 Z\" fill=\"#000000\" fill-rule=\"evenodd\" fill-opacity=\"1\" /><path clip-path=\"url(#clip670)\" d=\"M1514.36 54.671 L1514.36 27.2059 L1521.81 27.2059 L1521.81 54.3874 Q1521.81 60.8284 1524.33 64.0691 Q1526.84 67.2693 1531.86 67.2693 Q1537.9 67.2693 1541.38 63.421 Q1544.9 59.5726 1544.9 52.9291 L1544.9 27.2059 L1552.36 27.2059 L1552.36 72.576 L1544.9 72.576 L1544.9 65.6084 Q1542.19 69.7404 1538.58 71.7658 Q1535.02 73.7508 1530.28 73.7508 Q1522.46 73.7508 1518.41 68.8897 Q1514.36 64.0286 1514.36 54.671 M1533.12 26.1121 L1533.12 26.1121 Z\" fill=\"#000000\" fill-rule=\"evenodd\" fill-opacity=\"1\" /><path clip-path=\"url(#clip670)\" d=\"M1575.08 14.324 L1575.08 27.2059 L1590.44 27.2059 L1590.44 32.9987 L1575.08 32.9987 L1575.08 57.6282 Q1575.08 63.1779 1576.58 64.7578 Q1578.12 66.3376 1582.78 66.3376 L1590.44 66.3376 L1590.44 72.576 L1582.78 72.576 Q1574.15 72.576 1570.87 69.3758 Q1567.59 66.1351 1567.59 57.6282 L1567.59 32.9987 L1562.12 32.9987 L1562.12 27.2059 L1567.59 27.2059 L1567.59 14.324 L1575.08 14.324 Z\" fill=\"#000000\" fill-rule=\"evenodd\" fill-opacity=\"1\" /><path clip-path=\"url(#clip670)\" d=\"M1600.24 27.2059 L1607.69 27.2059 L1607.69 72.576 L1600.24 72.576 L1600.24 27.2059 M1600.24 9.54393 L1607.69 9.54393 L1607.69 18.9825 L1600.24 18.9825 L1600.24 9.54393 Z\" fill=\"#000000\" fill-rule=\"evenodd\" fill-opacity=\"1\" /><path clip-path=\"url(#clip670)\" d=\"M1640.87 32.4315 Q1634.87 32.4315 1631.39 37.1306 Q1627.91 41.7891 1627.91 49.9314 Q1627.91 58.0738 1631.35 62.7728 Q1634.83 67.4314 1640.87 67.4314 Q1646.82 67.4314 1650.31 62.7323 Q1653.79 58.0333 1653.79 49.9314 Q1653.79 41.8701 1650.31 37.1711 Q1646.82 32.4315 1640.87 32.4315 M1640.87 26.1121 Q1650.59 26.1121 1656.14 32.4315 Q1661.69 38.7509 1661.69 49.9314 Q1661.69 61.0714 1656.14 67.4314 Q1650.59 73.7508 1640.87 73.7508 Q1631.11 73.7508 1625.56 67.4314 Q1620.05 61.0714 1620.05 49.9314 Q1620.05 38.7509 1625.56 32.4315 Q1631.11 26.1121 1640.87 26.1121 Z\" fill=\"#000000\" fill-rule=\"evenodd\" fill-opacity=\"1\" /><path clip-path=\"url(#clip670)\" d=\"M1711.76 45.1919 L1711.76 72.576 L1704.31 72.576 L1704.31 45.4349 Q1704.31 38.994 1701.8 35.7938 Q1699.28 32.5936 1694.26 32.5936 Q1688.23 32.5936 1684.74 36.4419 Q1681.26 40.2903 1681.26 46.9338 L1681.26 72.576 L1673.76 72.576 L1673.76 27.2059 L1681.26 27.2059 L1681.26 34.2544 Q1683.93 30.163 1687.54 28.1376 Q1691.18 26.1121 1695.92 26.1121 Q1703.74 26.1121 1707.75 30.9732 Q1711.76 35.7938 1711.76 45.1919 Z\" fill=\"#000000\" fill-rule=\"evenodd\" fill-opacity=\"1\" /><polyline clip-path=\"url(#clip672)\" style=\"stroke:#009af9; stroke-linecap:butt; stroke-linejoin:round; stroke-width:4; stroke-opacity:1; fill:none\" points=\"\n",
       "  218.754,1337.68 219.213,1335.62 219.672,1333.52 220.131,1331.39 220.59,1329.24 222.712,1318.89 224.834,1307.9 226.956,1296.26 229.079,1283.95 231.201,1270.97 \n",
       "  233.323,1257.32 235.445,1242.99 237.567,1227.99 240.118,1209.1 242.669,1189.28 245.22,1168.55 247.77,1146.98 249.927,1128.12 252.083,1108.72 254.24,1088.83 \n",
       "  256.397,1068.51 265.767,976.577 274.406,890.362 276.722,867.725 279.037,845.501 281.353,823.806 283.668,802.756 286.351,779.328 289.034,757.101 291.716,736.247 \n",
       "  294.399,716.936 296.783,701.195 299.167,686.899 301.551,674.144 303.935,663.015 306.026,654.655 308.116,647.648 310.207,642.032 312.298,637.837 314.577,634.908 \n",
       "  316.856,633.713 319.136,634.26 321.415,636.546 323.708,640.584 326.001,646.34 328.293,653.777 330.586,662.848 333.121,674.708 335.656,688.403 338.192,703.828 \n",
       "  340.727,720.867 343.139,738.464 345.551,757.292 347.963,777.23 350.375,798.152 352.883,820.81 355.391,844.245 357.899,868.307 360.407,892.851 364.629,934.86 \n",
       "  368.851,977.16 374.006,1028.3 379.161,1077.96 381.523,1099.98 383.884,1121.43 386.245,1142.26 388.606,1162.42 390.787,1180.41 392.967,1197.75 395.148,1214.42 \n",
       "  397.329,1230.41 399.538,1245.9 401.747,1260.65 403.956,1274.68 406.165,1287.98 408.64,1302.03 411.116,1315.17 413.592,1327.44 416.067,1338.85 418.311,1348.46 \n",
       "  420.554,1357.42 422.797,1365.74 425.041,1373.45 427.609,1381.56 430.178,1388.95 432.746,1395.66 435.315,1401.73 437.693,1406.82 440.071,1411.43 442.449,1415.6 \n",
       "  444.827,1419.36 449.517,1425.69 454.206,1430.77 458.759,1434.7 463.312,1437.81 472.646,1442.24 482.873,1445.01 490.301,1446.17 497.73,1446.88 499.253,1446.99 \n",
       "  500.777,1447.08 \n",
       "  \"/>\n",
       "<polyline clip-path=\"url(#clip672)\" style=\"stroke:#e26f46; stroke-linecap:butt; stroke-linejoin:round; stroke-width:4; stroke-opacity:1; fill:none\" points=\"\n",
       "  218.754,874.272 219.136,869.826 219.517,865.38 219.899,860.935 220.281,856.492 223.812,815.586 227.343,775.315 230.874,736.144 234.405,698.551 236.527,676.918 \n",
       "  238.649,656.131 240.77,636.29 242.892,617.495 244.686,602.489 246.48,588.352 248.275,575.137 250.069,562.894 252.017,550.748 253.966,539.858 255.915,530.273 \n",
       "  257.864,522.037 259.661,515.672 261.457,510.511 263.254,506.574 265.051,503.877 266.977,502.375 268.903,502.317 270.829,503.704 272.755,506.529 274.987,511.583 \n",
       "  277.219,518.52 279.451,527.296 281.682,537.858 283.666,548.693 285.649,560.838 287.632,574.236 289.615,588.825 291.355,602.546 293.094,617.084 294.833,632.389 \n",
       "  296.572,648.409 300.364,685.56 304.157,725.279 307.971,767.228 311.786,810.575 320.222,908.483 328.248,999.999 332.421,1045.51 336.594,1088.97 340.106,1123.71 \n",
       "  343.619,1156.57 345.763,1175.65 347.907,1193.96 350.051,1211.49 352.195,1228.22 354.16,1242.85 356.124,1256.81 358.088,1270.1 360.052,1282.73 363.681,1304.35 \n",
       "  367.309,1323.82 370.984,1341.43 374.659,1357.05 378.778,1372.35 382.897,1385.51 386.63,1395.76 390.362,1404.58 394.636,1413.1 398.909,1420.15 402.866,1425.55 \n",
       "  406.822,1430.02 414.624,1436.59 422.199,1440.81 429.965,1443.62 438.472,1445.5 450.831,1446.91 453.367,1447.08 \n",
       "  \"/>\n",
       "<polyline clip-path=\"url(#clip672)\" style=\"stroke:#3da44d; stroke-linecap:butt; stroke-linejoin:round; stroke-width:4; stroke-opacity:1; fill:none\" points=\"\n",
       "  218.754,1447.87 218.964,1447.82 219.175,1446.86 219.386,1443.56 219.597,1436.94 219.702,1432.26 219.807,1426.64 219.913,1420.09 220.018,1412.66 220.229,1395.26 \n",
       "  220.44,1374.78 220.651,1351.63 220.861,1326.21 221.072,1298.92 221.283,1270.09 221.704,1209.15 222.126,1145.57 222.547,1081.03 222.969,1016.81 223.39,953.831 \n",
       "  223.812,892.753 224.233,834.036 224.655,777.988 225.077,724.796 225.498,674.561 225.92,627.317 226.341,583.049 226.763,541.709 227.184,503.22 227.606,467.49 \n",
       "  228.027,434.414 228.449,403.879 228.87,375.77 229.292,349.967 229.713,326.353 230.135,304.813 230.556,285.232 230.978,267.502 231.399,251.516 231.61,244.145 \n",
       "  231.821,237.173 232.032,230.587 232.242,224.375 233.217,200.208 234.191,182.763 235.166,171.113 236.14,164.444 237.115,162.047 238.089,163.303 239.063,167.674 \n",
       "  240.038,174.695 241.012,183.96 241.987,195.119 242.961,207.866 243.935,221.938 244.91,237.106 245.884,253.171 246.859,269.961 247.833,287.328 251.731,360.223 \n",
       "  255.628,434.648 257.577,471.334 259.526,507.307 261.475,542.391 263.423,576.462 265.372,609.441 267.321,641.279 269.27,671.951 271.219,701.453 273.168,729.79 \n",
       "  275.116,756.982 277.065,783.053 279.014,808.034 280.963,831.961 282.912,854.868 284.86,876.795 286.809,897.78 288.758,917.863 290.707,937.081 292.656,955.473 \n",
       "  294.604,973.075 298.502,1006.05 302.4,1036.29 306.297,1064.03 310.195,1089.51 314.093,1112.93 317.99,1134.49 321.888,1154.35 325.785,1172.67 329.683,1189.59 \n",
       "  333.581,1205.23 337.478,1219.71 341.376,1233.12 349.171,1257.12 356.966,1277.86 361.651,1288.97 366.336,1299.19 371.02,1308.61 375.705,1317.29 385.074,1332.71 \n",
       "  394.443,1345.92 403.813,1357.3 413.182,1367.14 422.551,1375.68 431.92,1383.13 447.763,1393.68 463.607,1402.18 479.45,1409.09 495.293,1414.75 529.713,1423.92 \n",
       "  564.133,1430.16 595.866,1434.23 627.598,1437.22 695.639,1441.34 774.471,1443.94 844.528,1445.27 905.961,1446.01 972.94,1446.55 1040.32,1446.91 1114.81,1447.18 \n",
       "  1185.69,1447.36 1259.39,1447.49 1321.42,1447.57 1397.17,1447.64 1466.55,1447.69 1530.63,1447.73 1595.54,1447.75 1668.29,1447.78 1734.21,1447.79 1809.69,1447.81 \n",
       "  1879.57,1447.82 1948.47,1447.83 2015.36,1447.84 2083.94,1447.84 2159.07,1447.85 2268.21,1447.85 2290.6,1447.85 \n",
       "  \"/>\n",
       "<path clip-path=\"url(#clip670)\" d=\"\n",
       "M1858.4 376.265 L2279.55 376.265 L2279.55 168.905 L1858.4 168.905  Z\n",
       "  \" fill=\"#ffffff\" fill-rule=\"evenodd\" fill-opacity=\"1\"/>\n",
       "<polyline clip-path=\"url(#clip670)\" style=\"stroke:#000000; stroke-linecap:butt; stroke-linejoin:round; stroke-width:4; stroke-opacity:1; fill:none\" points=\"\n",
       "  1858.4,376.265 2279.55,376.265 2279.55,168.905 1858.4,168.905 1858.4,376.265 \n",
       "  \"/>\n",
       "<polyline clip-path=\"url(#clip670)\" style=\"stroke:#009af9; stroke-linecap:butt; stroke-linejoin:round; stroke-width:4; stroke-opacity:1; fill:none\" points=\"\n",
       "  1882.81,220.745 2029.22,220.745 \n",
       "  \"/>\n",
       "<path clip-path=\"url(#clip670)\" d=\"M2058.29 207.307 L2058.29 220.293 L2064.17 220.293 Q2067.44 220.293 2069.22 218.603 Q2071 216.914 2071 213.789 Q2071 210.687 2069.22 208.997 Q2067.44 207.307 2064.17 207.307 L2058.29 207.307 M2053.62 203.465 L2064.17 203.465 Q2069.98 203.465 2072.95 206.104 Q2075.93 208.719 2075.93 213.789 Q2075.93 218.904 2072.95 221.52 Q2069.98 224.136 2064.17 224.136 L2058.29 224.136 L2058.29 238.025 L2053.62 238.025 L2053.62 203.465 Z\" fill=\"#000000\" fill-rule=\"evenodd\" fill-opacity=\"1\" /><path clip-path=\"url(#clip670)\" d=\"M2096.21 216.08 Q2095.49 215.664 2094.64 215.478 Q2093.8 215.27 2092.78 215.27 Q2089.17 215.27 2087.23 217.631 Q2085.31 219.969 2085.31 224.367 L2085.31 238.025 L2081.03 238.025 L2081.03 212.099 L2085.31 212.099 L2085.31 216.127 Q2086.65 213.766 2088.8 212.631 Q2090.96 211.474 2094.03 211.474 Q2094.47 211.474 2095.01 211.543 Q2095.54 211.59 2096.19 211.705 L2096.21 216.08 Z\" fill=\"#000000\" fill-rule=\"evenodd\" fill-opacity=\"1\" /><path clip-path=\"url(#clip670)\" d=\"M2100.68 212.099 L2104.94 212.099 L2104.94 238.025 L2100.68 238.025 L2100.68 212.099 M2100.68 202.006 L2104.94 202.006 L2104.94 207.4 L2100.68 207.4 L2100.68 202.006 Z\" fill=\"#000000\" fill-rule=\"evenodd\" fill-opacity=\"1\" /><path clip-path=\"url(#clip670)\" d=\"M2134.03 217.076 Q2135.63 214.205 2137.85 212.84 Q2140.08 211.474 2143.09 211.474 Q2147.14 211.474 2149.34 214.321 Q2151.53 217.145 2151.53 222.377 L2151.53 238.025 L2147.25 238.025 L2147.25 222.515 Q2147.25 218.789 2145.93 216.983 Q2144.61 215.178 2141.91 215.178 Q2138.59 215.178 2136.67 217.377 Q2134.75 219.576 2134.75 223.372 L2134.75 238.025 L2130.47 238.025 L2130.47 222.515 Q2130.47 218.765 2129.15 216.983 Q2127.83 215.178 2125.08 215.178 Q2121.81 215.178 2119.89 217.4 Q2117.97 219.599 2117.97 223.372 L2117.97 238.025 L2113.69 238.025 L2113.69 212.099 L2117.97 212.099 L2117.97 216.127 Q2119.43 213.742 2121.47 212.608 Q2123.5 211.474 2126.3 211.474 Q2129.13 211.474 2131.09 212.909 Q2133.09 214.344 2134.03 217.076 Z\" fill=\"#000000\" fill-rule=\"evenodd\" fill-opacity=\"1\" /><path clip-path=\"url(#clip670)\" d=\"M2171.81 224.992 Q2166.65 224.992 2164.66 226.173 Q2162.67 227.353 2162.67 230.201 Q2162.67 232.469 2164.15 233.812 Q2165.65 235.131 2168.22 235.131 Q2171.77 235.131 2173.9 232.631 Q2176.05 230.108 2176.05 225.941 L2176.05 224.992 L2171.81 224.992 M2180.31 223.233 L2180.31 238.025 L2176.05 238.025 L2176.05 234.089 Q2174.59 236.451 2172.41 237.585 Q2170.24 238.696 2167.09 238.696 Q2163.11 238.696 2160.75 236.474 Q2158.41 234.228 2158.41 230.478 Q2158.41 226.103 2161.33 223.881 Q2164.27 221.659 2170.08 221.659 L2176.05 221.659 L2176.05 221.242 Q2176.05 218.303 2174.1 216.705 Q2172.18 215.085 2168.69 215.085 Q2166.47 215.085 2164.36 215.617 Q2162.25 216.15 2160.31 217.215 L2160.31 213.279 Q2162.65 212.377 2164.84 211.937 Q2167.04 211.474 2169.13 211.474 Q2174.75 211.474 2177.53 214.391 Q2180.31 217.307 2180.31 223.233 Z\" fill=\"#000000\" fill-rule=\"evenodd\" fill-opacity=\"1\" /><path clip-path=\"url(#clip670)\" d=\"M2204.1 216.08 Q2203.39 215.664 2202.53 215.478 Q2201.7 215.27 2200.68 215.27 Q2197.07 215.27 2195.12 217.631 Q2193.2 219.969 2193.2 224.367 L2193.2 238.025 L2188.92 238.025 L2188.92 212.099 L2193.2 212.099 L2193.2 216.127 Q2194.54 213.766 2196.7 212.631 Q2198.85 211.474 2201.93 211.474 Q2202.37 211.474 2202.9 211.543 Q2203.43 211.59 2204.08 211.705 L2204.1 216.08 Z\" fill=\"#000000\" fill-rule=\"evenodd\" fill-opacity=\"1\" /><path clip-path=\"url(#clip670)\" d=\"M2219.36 240.432 Q2217.55 245.062 2215.84 246.474 Q2214.13 247.886 2211.26 247.886 L2207.85 247.886 L2207.85 244.321 L2210.35 244.321 Q2212.11 244.321 2213.09 243.488 Q2214.06 242.654 2215.24 239.552 L2216 237.608 L2205.52 212.099 L2210.03 212.099 L2218.13 232.377 L2226.23 212.099 L2230.75 212.099 L2219.36 240.432 Z\" fill=\"#000000\" fill-rule=\"evenodd\" fill-opacity=\"1\" /><polyline clip-path=\"url(#clip670)\" style=\"stroke:#e26f46; stroke-linecap:butt; stroke-linejoin:round; stroke-width:4; stroke-opacity:1; fill:none\" points=\"\n",
       "  1882.81,272.585 2029.22,272.585 \n",
       "  \"/>\n",
       "<path clip-path=\"url(#clip670)\" d=\"M2053.62 255.305 L2059.91 255.305 L2075.24 284.217 L2075.24 255.305 L2079.78 255.305 L2079.78 289.865 L2073.48 289.865 L2058.16 260.953 L2058.16 289.865 L2053.62 289.865 L2053.62 255.305 Z\" fill=\"#000000\" fill-rule=\"evenodd\" fill-opacity=\"1\" /><path clip-path=\"url(#clip670)\" d=\"M2098.94 266.925 Q2095.52 266.925 2093.53 269.61 Q2091.53 272.272 2091.53 276.925 Q2091.53 281.578 2093.5 284.263 Q2095.49 286.925 2098.94 286.925 Q2102.35 286.925 2104.34 284.24 Q2106.33 281.555 2106.33 276.925 Q2106.33 272.318 2104.34 269.633 Q2102.35 266.925 2098.94 266.925 M2098.94 263.314 Q2104.5 263.314 2107.67 266.925 Q2110.84 270.536 2110.84 276.925 Q2110.84 283.291 2107.67 286.925 Q2104.5 290.536 2098.94 290.536 Q2093.36 290.536 2090.19 286.925 Q2087.04 283.291 2087.04 276.925 Q2087.04 270.536 2090.19 266.925 Q2093.36 263.314 2098.94 263.314 Z\" fill=\"#000000\" fill-rule=\"evenodd\" fill-opacity=\"1\" /><path clip-path=\"url(#clip670)\" d=\"M2132.92 267.92 Q2132.21 267.504 2131.35 267.318 Q2130.52 267.11 2129.5 267.11 Q2125.89 267.11 2123.94 269.471 Q2122.02 271.809 2122.02 276.207 L2122.02 289.865 L2117.74 289.865 L2117.74 263.939 L2122.02 263.939 L2122.02 267.967 Q2123.36 265.606 2125.52 264.471 Q2127.67 263.314 2130.75 263.314 Q2131.19 263.314 2131.72 263.383 Q2132.25 263.43 2132.9 263.545 L2132.92 267.92 Z\" fill=\"#000000\" fill-rule=\"evenodd\" fill-opacity=\"1\" /><path clip-path=\"url(#clip670)\" d=\"M2156.74 268.916 Q2158.34 266.045 2160.56 264.68 Q2162.78 263.314 2165.79 263.314 Q2169.84 263.314 2172.04 266.161 Q2174.24 268.985 2174.24 274.217 L2174.24 289.865 L2169.96 289.865 L2169.96 274.355 Q2169.96 270.629 2168.64 268.823 Q2167.32 267.018 2164.61 267.018 Q2161.3 267.018 2159.38 269.217 Q2157.46 271.416 2157.46 275.212 L2157.46 289.865 L2153.18 289.865 L2153.18 274.355 Q2153.18 270.605 2151.86 268.823 Q2150.54 267.018 2147.78 267.018 Q2144.52 267.018 2142.6 269.24 Q2140.68 271.439 2140.68 275.212 L2140.68 289.865 L2136.4 289.865 L2136.4 263.939 L2140.68 263.939 L2140.68 267.967 Q2142.14 265.582 2144.17 264.448 Q2146.21 263.314 2149.01 263.314 Q2151.84 263.314 2153.8 264.749 Q2155.79 266.184 2156.74 268.916 Z\" fill=\"#000000\" fill-rule=\"evenodd\" fill-opacity=\"1\" /><path clip-path=\"url(#clip670)\" d=\"M2194.52 276.832 Q2189.36 276.832 2187.37 278.013 Q2185.38 279.193 2185.38 282.041 Q2185.38 284.309 2186.86 285.652 Q2188.36 286.971 2190.93 286.971 Q2194.47 286.971 2196.6 284.471 Q2198.76 281.948 2198.76 277.781 L2198.76 276.832 L2194.52 276.832 M2203.02 275.073 L2203.02 289.865 L2198.76 289.865 L2198.76 285.929 Q2197.3 288.291 2195.12 289.425 Q2192.95 290.536 2189.8 290.536 Q2185.82 290.536 2183.46 288.314 Q2181.12 286.068 2181.12 282.318 Q2181.12 277.943 2184.03 275.721 Q2186.97 273.499 2192.78 273.499 L2198.76 273.499 L2198.76 273.082 Q2198.76 270.143 2196.81 268.545 Q2194.89 266.925 2191.4 266.925 Q2189.17 266.925 2187.07 267.457 Q2184.96 267.99 2183.02 269.055 L2183.02 265.119 Q2185.35 264.217 2187.55 263.777 Q2189.75 263.314 2191.84 263.314 Q2197.46 263.314 2200.24 266.231 Q2203.02 269.147 2203.02 275.073 Z\" fill=\"#000000\" fill-rule=\"evenodd\" fill-opacity=\"1\" /><path clip-path=\"url(#clip670)\" d=\"M2211.79 253.846 L2216.05 253.846 L2216.05 289.865 L2211.79 289.865 L2211.79 253.846 Z\" fill=\"#000000\" fill-rule=\"evenodd\" fill-opacity=\"1\" /><polyline clip-path=\"url(#clip670)\" style=\"stroke:#3da44d; stroke-linecap:butt; stroke-linejoin:round; stroke-width:4; stroke-opacity:1; fill:none\" points=\"\n",
       "  1882.81,324.425 2029.22,324.425 \n",
       "  \"/>\n",
       "<path clip-path=\"url(#clip670)\" d=\"M2053.62 307.145 L2058.29 307.145 L2058.29 337.769 L2075.12 337.769 L2075.12 341.705 L2053.62 341.705 L2053.62 307.145 Z\" fill=\"#000000\" fill-rule=\"evenodd\" fill-opacity=\"1\" /><path clip-path=\"url(#clip670)\" d=\"M2078.57 331.473 L2078.57 315.779 L2082.83 315.779 L2082.83 331.311 Q2082.83 334.992 2084.27 336.844 Q2085.7 338.672 2088.57 338.672 Q2092.02 338.672 2094.01 336.473 Q2096.03 334.274 2096.03 330.478 L2096.03 315.779 L2100.28 315.779 L2100.28 341.705 L2096.03 341.705 L2096.03 337.723 Q2094.47 340.084 2092.41 341.242 Q2090.38 342.376 2087.67 342.376 Q2083.2 342.376 2080.89 339.598 Q2078.57 336.82 2078.57 331.473 M2089.29 315.154 L2089.29 315.154 Z\" fill=\"#000000\" fill-rule=\"evenodd\" fill-opacity=\"1\" /><path clip-path=\"url(#clip670)\" d=\"M2130.61 315.779 L2121.23 328.395 L2131.09 341.705 L2126.07 341.705 L2118.53 331.52 L2110.98 341.705 L2105.96 341.705 L2116.03 328.14 L2106.81 315.779 L2111.84 315.779 L2118.71 325.015 L2125.59 315.779 L2130.61 315.779 Z\" fill=\"#000000\" fill-rule=\"evenodd\" fill-opacity=\"1\" /><path clip-path=\"url(#clip670)\" d=\"M2136.67 331.473 L2136.67 315.779 L2140.93 315.779 L2140.93 331.311 Q2140.93 334.992 2142.37 336.844 Q2143.8 338.672 2146.67 338.672 Q2150.12 338.672 2152.11 336.473 Q2154.13 334.274 2154.13 330.478 L2154.13 315.779 L2158.39 315.779 L2158.39 341.705 L2154.13 341.705 L2154.13 337.723 Q2152.58 340.084 2150.52 341.242 Q2148.48 342.376 2145.77 342.376 Q2141.3 342.376 2138.99 339.598 Q2136.67 336.82 2136.67 331.473 M2147.39 315.154 L2147.39 315.154 Z\" fill=\"#000000\" fill-rule=\"evenodd\" fill-opacity=\"1\" /><path clip-path=\"url(#clip670)\" d=\"M2182.18 319.76 Q2181.47 319.344 2180.61 319.158 Q2179.78 318.95 2178.76 318.95 Q2175.15 318.95 2173.2 321.311 Q2171.28 323.649 2171.28 328.047 L2171.28 341.705 L2167 341.705 L2167 315.779 L2171.28 315.779 L2171.28 319.807 Q2172.62 317.446 2174.78 316.311 Q2176.93 315.154 2180.01 315.154 Q2180.45 315.154 2180.98 315.223 Q2181.51 315.27 2182.16 315.385 L2182.18 319.76 Z\" fill=\"#000000\" fill-rule=\"evenodd\" fill-opacity=\"1\" /><path clip-path=\"url(#clip670)\" d=\"M2197.44 344.112 Q2195.63 348.742 2193.92 350.154 Q2192.21 351.566 2189.34 351.566 L2185.93 351.566 L2185.93 348.001 L2188.43 348.001 Q2190.19 348.001 2191.16 347.168 Q2192.14 346.334 2193.32 343.232 L2194.08 341.288 L2183.59 315.779 L2188.11 315.779 L2196.21 336.057 L2204.31 315.779 L2208.83 315.779 L2197.44 344.112 Z\" fill=\"#000000\" fill-rule=\"evenodd\" fill-opacity=\"1\" /></svg>\n"
      ]
     },
     "metadata": {},
     "output_type": "display_data"
    }
   ],
   "source": [
    "#Economy size\n",
    "ng=3        #number of sector\n",
    "na=300   #number of people\n",
    "p=[4.0, 5.0, 10.0]\n",
    "\n",
    "#Good matrix\n",
    "G=zeros(na,ng)\n",
    "\n",
    "#Quantities distribution for each person\n",
    "D_P=Normal(2,1)\n",
    "D_P = truncated(D_P, 0.0, Inf)\n",
    "D_N=Normal(1,1)\n",
    "D_N = truncated(D_N, 0.0, Inf)\n",
    "D_L=LogNormal(0.02,1)\n",
    "D_L = truncated(D_L, 0.0, Inf)\n",
    "\n",
    "\n",
    "qdist=plot(D_P, title=\"Quantities distribution\", label=\"Primary\")\n",
    "plot!(D_N, label=\"Normal\")\n",
    "plot!(D_L, label=\"Luxury\")\n",
    "\n",
    "savefig(qdist, \"q_dist.png\") # save the most recent fig as filename_string (such as \"output.png\")\n",
    "qdist"
   ]
  },
  {
   "cell_type": "code",
   "execution_count": 7,
   "metadata": {},
   "outputs": [
    {
     "data": {
      "text/plain": [
       "300×3 Matrix{Float64}:\n",
       " 2.05408   1.82426   0.543557\n",
       " 2.27272   0.941542  0.170589\n",
       " 2.83959   0.22131   0.655798\n",
       " 2.81532   0.468572  1.18576\n",
       " 1.76552   1.91014   0.767369\n",
       " 2.8136    2.72258   0.655932\n",
       " 3.54251   0.722171  0.601435\n",
       " 0.294352  2.42158   0.128675\n",
       " 0.38809   2.65996   1.88598\n",
       " 2.46632   0.424702  0.471754\n",
       " ⋮                   \n",
       " 1.43605   4.01414   0.416413\n",
       " 1.95176   1.92289   1.14639\n",
       " 2.59515   0.715689  1.22348\n",
       " 3.96035   1.1597    7.10857\n",
       " 2.14291   3.28383   0.769165\n",
       " 2.55596   0.844183  0.587535\n",
       " 1.73713   2.01656   2.02993\n",
       " 1.55314   2.06327   0.411546\n",
       " 1.46304   0.233796  1.40859"
      ]
     },
     "metadata": {},
     "output_type": "display_data"
    }
   ],
   "source": [
    "#leading to a Expenditure vector evaluated by a distribution of good\n",
    "p=[4.0, 5.0, 10.0]\n",
    "Exp=[]\n",
    "\n",
    "for j=1:na\n",
    "    G[j,1]=rand(D_P)\n",
    "    G[j,2]=rand(D_N)\n",
    "    G[j,3]=rand(D_L)\n",
    "end\n",
    "\n",
    "G"
   ]
  },
  {
   "cell_type": "code",
   "execution_count": 8,
   "metadata": {},
   "outputs": [
    {
     "name": "stderr",
     "output_type": "stream",
     "text": [
      "\r\u001b[32mProgress:   0%|▏                                        |  ETA: 0:13:55\u001b[39m"
     ]
    },
    {
     "name": "stderr",
     "output_type": "stream",
     "text": [
      "\u001b[K"
     ]
    },
    {
     "name": "stderr",
     "output_type": "stream",
     "text": [
      "\r\u001b[32mProgress:   4%|█▋                                       |  ETA: 0:02:20\u001b[39m\u001b[K"
     ]
    },
    {
     "name": "stderr",
     "output_type": "stream",
     "text": [
      "\r\u001b[32mProgress:   5%|██                                       |  ETA: 0:02:02\u001b[39m\u001b[K"
     ]
    },
    {
     "name": "stderr",
     "output_type": "stream",
     "text": [
      "\r\u001b[32mProgress:   5%|██▏                                      |  ETA: 0:01:55\u001b[39m\u001b[K"
     ]
    },
    {
     "name": "stderr",
     "output_type": "stream",
     "text": [
      "\r\u001b[32mProgress:   6%|██▎                                      |  ETA: 0:01:49\u001b[39m\u001b[K"
     ]
    },
    {
     "name": "stderr",
     "output_type": "stream",
     "text": [
      "\r\u001b[32mProgress:   6%|██▌                                      |  ETA: 0:01:44\u001b[39m\u001b[K"
     ]
    },
    {
     "name": "stderr",
     "output_type": "stream",
     "text": [
      "\r\u001b[32mProgress:   6%|██▋                                      |  ETA: 0:01:39\u001b[39m\u001b[K"
     ]
    },
    {
     "name": "stderr",
     "output_type": "stream",
     "text": [
      "\r\u001b[32mProgress:   7%|██▊                                      |  ETA: 0:01:35\u001b[39m\u001b[K"
     ]
    },
    {
     "name": "stderr",
     "output_type": "stream",
     "text": [
      "\r\u001b[32mProgress:   7%|███                                      |  ETA: 0:01:31\u001b[39m\u001b[K"
     ]
    },
    {
     "name": "stderr",
     "output_type": "stream",
     "text": [
      "\r\u001b[32mProgress:   8%|███▏                                     |  ETA: 0:01:28\u001b[39m\u001b[K"
     ]
    },
    {
     "name": "stderr",
     "output_type": "stream",
     "text": [
      "\r\u001b[32mProgress:   8%|███▎                                     |  ETA: 0:01:25\u001b[39m\u001b[K"
     ]
    },
    {
     "name": "stderr",
     "output_type": "stream",
     "text": [
      "\r\u001b[32mProgress:   8%|███▌                                     |  ETA: 0:01:22\u001b[39m\u001b[K"
     ]
    },
    {
     "name": "stderr",
     "output_type": "stream",
     "text": [
      "\r\u001b[32mProgress:   9%|███▋                                     |  ETA: 0:01:19\u001b[39m\u001b[K"
     ]
    },
    {
     "name": "stderr",
     "output_type": "stream",
     "text": [
      "\r\u001b[32mProgress:   9%|███▊                                     |  ETA: 0:01:17\u001b[39m\u001b[K"
     ]
    },
    {
     "name": "stderr",
     "output_type": "stream",
     "text": [
      "\r\u001b[32mProgress:  10%|███▉                                     |  ETA: 0:01:16\u001b[39m\u001b[K"
     ]
    },
    {
     "name": "stderr",
     "output_type": "stream",
     "text": [
      "\r\u001b[32mProgress:  10%|████▏                                    |  ETA: 0:01:14\u001b[39m\u001b[K"
     ]
    },
    {
     "name": "stderr",
     "output_type": "stream",
     "text": [
      "\r\u001b[32mProgress:  10%|████▎                                    |  ETA: 0:01:12\u001b[39m\u001b[K"
     ]
    },
    {
     "name": "stderr",
     "output_type": "stream",
     "text": [
      "\r\u001b[32mProgress:  11%|████▍                                    |  ETA: 0:01:10\u001b[39m\u001b[K"
     ]
    },
    {
     "name": "stderr",
     "output_type": "stream",
     "text": [
      "\r\u001b[32mProgress:  11%|████▋                                    |  ETA: 0:01:09\u001b[39m\u001b[K"
     ]
    },
    {
     "name": "stderr",
     "output_type": "stream",
     "text": [
      "\r\u001b[32mProgress:  12%|████▊                                    |  ETA: 0:01:07\u001b[39m\u001b[K"
     ]
    },
    {
     "name": "stderr",
     "output_type": "stream",
     "text": [
      "\r\u001b[32mProgress:  12%|████▉                                    |  ETA: 0:01:05\u001b[39m\u001b[K"
     ]
    },
    {
     "name": "stderr",
     "output_type": "stream",
     "text": [
      "\r\u001b[32mProgress:  12%|█████▏                                   |  ETA: 0:01:04\u001b[39m\u001b[K"
     ]
    },
    {
     "name": "stderr",
     "output_type": "stream",
     "text": [
      "\r\u001b[32mProgress:  13%|█████▍                                   |  ETA: 0:01:02\u001b[39m\u001b[K"
     ]
    },
    {
     "name": "stderr",
     "output_type": "stream",
     "text": [
      "\r\u001b[32mProgress:  13%|█████▌                                   |  ETA: 0:01:00\u001b[39m\u001b[K"
     ]
    },
    {
     "name": "stderr",
     "output_type": "stream",
     "text": [
      "\r\u001b[32mProgress:  14%|█████▋                                   |  ETA: 0:00:59\u001b[39m\u001b[K"
     ]
    },
    {
     "name": "stderr",
     "output_type": "stream",
     "text": [
      "\r\u001b[32mProgress:  14%|█████▉                                   |  ETA: 0:00:57\u001b[39m\u001b[K"
     ]
    },
    {
     "name": "stderr",
     "output_type": "stream",
     "text": [
      "\r\u001b[32mProgress:  15%|██████▏                                  |  ETA: 0:00:56\u001b[39m\u001b[K"
     ]
    },
    {
     "name": "stderr",
     "output_type": "stream",
     "text": [
      "\r\u001b[32mProgress:  15%|██████▎                                  |  ETA: 0:00:55\u001b[39m\u001b[K"
     ]
    },
    {
     "name": "stderr",
     "output_type": "stream",
     "text": [
      "\r\u001b[32mProgress:  16%|██████▍                                  |  ETA: 0:00:54\u001b[39m\u001b[K"
     ]
    },
    {
     "name": "stderr",
     "output_type": "stream",
     "text": [
      "\r\u001b[32mProgress:  16%|██████▌                                  |  ETA: 0:00:53\u001b[39m\u001b[K"
     ]
    },
    {
     "name": "stderr",
     "output_type": "stream",
     "text": [
      "\r\u001b[32mProgress:  16%|██████▊                                  |  ETA: 0:00:52\u001b[39m\u001b[K"
     ]
    },
    {
     "name": "stderr",
     "output_type": "stream",
     "text": [
      "\r\u001b[32mProgress:  17%|███████                                  |  ETA: 0:00:51\u001b[39m\u001b[K"
     ]
    },
    {
     "name": "stderr",
     "output_type": "stream",
     "text": [
      "\r\u001b[32mProgress:  17%|███████▏                                 |  ETA: 0:00:50\u001b[39m\u001b[K"
     ]
    },
    {
     "name": "stderr",
     "output_type": "stream",
     "text": [
      "\r\u001b[32mProgress:  18%|███████▎                                 |  ETA: 0:00:49\u001b[39m\u001b[K"
     ]
    },
    {
     "name": "stderr",
     "output_type": "stream",
     "text": [
      "\r\u001b[32mProgress:  18%|███████▌                                 |  ETA: 0:00:49\u001b[39m\u001b[K"
     ]
    },
    {
     "name": "stderr",
     "output_type": "stream",
     "text": [
      "\r\u001b[32mProgress:  19%|███████▋                                 |  ETA: 0:00:48\u001b[39m\u001b[K"
     ]
    },
    {
     "name": "stderr",
     "output_type": "stream",
     "text": [
      "\r\u001b[32mProgress:  19%|███████▊                                 |  ETA: 0:00:48\u001b[39m\u001b[K"
     ]
    },
    {
     "name": "stderr",
     "output_type": "stream",
     "text": [
      "\r\u001b[32mProgress:  19%|████████                                 |  ETA: 0:00:47\u001b[39m\u001b[K"
     ]
    },
    {
     "name": "stderr",
     "output_type": "stream",
     "text": [
      "\r\u001b[32mProgress:  20%|████████▏                                |  ETA: 0:00:46\u001b[39m\u001b[K"
     ]
    },
    {
     "name": "stderr",
     "output_type": "stream",
     "text": [
      "\r\u001b[32mProgress:  20%|████████▎                                |  ETA: 0:00:46\u001b[39m\u001b[K"
     ]
    },
    {
     "name": "stderr",
     "output_type": "stream",
     "text": [
      "\r\u001b[32mProgress:  21%|████████▌                                |  ETA: 0:00:45\u001b[39m\u001b[K"
     ]
    },
    {
     "name": "stderr",
     "output_type": "stream",
     "text": [
      "\r\u001b[32mProgress:  21%|████████▋                                |  ETA: 0:00:44\u001b[39m\u001b[K"
     ]
    },
    {
     "name": "stderr",
     "output_type": "stream",
     "text": [
      "\r\u001b[32mProgress:  21%|████████▊                                |  ETA: 0:00:44\u001b[39m\u001b[K"
     ]
    },
    {
     "name": "stderr",
     "output_type": "stream",
     "text": [
      "\r\u001b[32mProgress:  22%|█████████                                |  ETA: 0:00:43\u001b[39m\u001b[K"
     ]
    },
    {
     "name": "stderr",
     "output_type": "stream",
     "text": [
      "\r\u001b[32mProgress:  22%|█████████▏                               |  ETA: 0:00:43\u001b[39m\u001b[K"
     ]
    },
    {
     "name": "stderr",
     "output_type": "stream",
     "text": [
      "\r\u001b[32mProgress:  23%|█████████▎                               |  ETA: 0:00:42\u001b[39m\u001b[K"
     ]
    },
    {
     "name": "stderr",
     "output_type": "stream",
     "text": [
      "\r\u001b[32mProgress:  23%|█████████▍                               |  ETA: 0:00:41\u001b[39m\u001b[K"
     ]
    },
    {
     "name": "stderr",
     "output_type": "stream",
     "text": [
      "\r\u001b[32mProgress:  23%|█████████▋                               |  ETA: 0:00:41\u001b[39m\u001b[K"
     ]
    },
    {
     "name": "stderr",
     "output_type": "stream",
     "text": [
      "\r\u001b[32mProgress:  24%|█████████▊                               |  ETA: 0:00:41\u001b[39m\u001b[K"
     ]
    },
    {
     "name": "stderr",
     "output_type": "stream",
     "text": [
      "\r\u001b[32mProgress:  24%|█████████▉                               |  ETA: 0:00:40\u001b[39m\u001b[K"
     ]
    },
    {
     "name": "stderr",
     "output_type": "stream",
     "text": [
      "\r\u001b[32mProgress:  25%|██████████▏                              |  ETA: 0:00:40\u001b[39m\u001b[K"
     ]
    },
    {
     "name": "stderr",
     "output_type": "stream",
     "text": [
      "\r\u001b[32mProgress:  25%|██████████▎                              |  ETA: 0:00:39\u001b[39m\u001b[K"
     ]
    },
    {
     "name": "stderr",
     "output_type": "stream",
     "text": [
      "\r\u001b[32mProgress:  25%|██████████▍                              |  ETA: 0:00:39\u001b[39m\u001b[K"
     ]
    },
    {
     "name": "stderr",
     "output_type": "stream",
     "text": [
      "\r\u001b[32mProgress:  26%|██████████▋                              |  ETA: 0:00:38\u001b[39m\u001b[K"
     ]
    },
    {
     "name": "stderr",
     "output_type": "stream",
     "text": [
      "\r\u001b[32mProgress:  26%|██████████▊                              |  ETA: 0:00:38\u001b[39m\u001b[K"
     ]
    },
    {
     "name": "stderr",
     "output_type": "stream",
     "text": [
      "\r\u001b[32mProgress:  27%|██████████▉                              |  ETA: 0:00:38\u001b[39m\u001b[K"
     ]
    },
    {
     "name": "stderr",
     "output_type": "stream",
     "text": [
      "\r\u001b[32mProgress:  27%|███████████▏                             |  ETA: 0:00:37\u001b[39m\u001b[K"
     ]
    },
    {
     "name": "stderr",
     "output_type": "stream",
     "text": [
      "\r\u001b[32mProgress:  27%|███████████▎                             |  ETA: 0:00:37\u001b[39m\u001b[K"
     ]
    },
    {
     "name": "stderr",
     "output_type": "stream",
     "text": [
      "\r\u001b[32mProgress:  28%|███████████▍                             |  ETA: 0:00:37\u001b[39m\u001b[K"
     ]
    },
    {
     "name": "stderr",
     "output_type": "stream",
     "text": [
      "\r\u001b[32mProgress:  28%|███████████▌                             |  ETA: 0:00:36\u001b[39m\u001b[K"
     ]
    },
    {
     "name": "stderr",
     "output_type": "stream",
     "text": [
      "\r\u001b[32mProgress:  29%|███████████▊                             |  ETA: 0:00:36\u001b[39m\u001b[K"
     ]
    },
    {
     "name": "stderr",
     "output_type": "stream",
     "text": [
      "\r\u001b[32mProgress:  29%|███████████▉                             |  ETA: 0:00:35\u001b[39m\u001b[K"
     ]
    },
    {
     "name": "stderr",
     "output_type": "stream",
     "text": [
      "\r\u001b[32mProgress:  29%|████████████                             |  ETA: 0:00:35\u001b[39m\u001b[K"
     ]
    },
    {
     "name": "stderr",
     "output_type": "stream",
     "text": [
      "\r\u001b[32mProgress:  30%|████████████▎                            |  ETA: 0:00:35\u001b[39m\u001b[K"
     ]
    },
    {
     "name": "stderr",
     "output_type": "stream",
     "text": [
      "\r\u001b[32mProgress:  30%|████████████▍                            |  ETA: 0:00:34\u001b[39m\u001b[K"
     ]
    },
    {
     "name": "stderr",
     "output_type": "stream",
     "text": [
      "\r\u001b[32mProgress:  31%|████████████▌                            |  ETA: 0:00:34\u001b[39m\u001b[K"
     ]
    },
    {
     "name": "stderr",
     "output_type": "stream",
     "text": [
      "\r\u001b[32mProgress:  31%|████████████▊                            |  ETA: 0:00:33\u001b[39m\u001b[K"
     ]
    },
    {
     "name": "stderr",
     "output_type": "stream",
     "text": [
      "\r\u001b[32mProgress:  32%|█████████████                            |  ETA: 0:00:33\u001b[39m\u001b[K"
     ]
    },
    {
     "name": "stderr",
     "output_type": "stream",
     "text": [
      "\r\u001b[32mProgress:  32%|█████████████▏                           |  ETA: 0:00:32\u001b[39m\u001b[K"
     ]
    },
    {
     "name": "stderr",
     "output_type": "stream",
     "text": [
      "\r\u001b[32mProgress:  32%|█████████████▎                           |  ETA: 0:00:32\u001b[39m\u001b[K"
     ]
    },
    {
     "name": "stderr",
     "output_type": "stream",
     "text": [
      "\r\u001b[32mProgress:  33%|█████████████▌                           |  ETA: 0:00:32\u001b[39m\u001b[K"
     ]
    },
    {
     "name": "stderr",
     "output_type": "stream",
     "text": [
      "\r\u001b[32mProgress:  33%|█████████████▊                           |  ETA: 0:00:31\u001b[39m\u001b[K"
     ]
    },
    {
     "name": "stderr",
     "output_type": "stream",
     "text": [
      "\r\u001b[32mProgress:  34%|█████████████▉                           |  ETA: 0:00:31\u001b[39m\u001b[K"
     ]
    },
    {
     "name": "stderr",
     "output_type": "stream",
     "text": [
      "\r\u001b[32mProgress:  34%|██████████████                           |  ETA: 0:00:31\u001b[39m\u001b[K"
     ]
    },
    {
     "name": "stderr",
     "output_type": "stream",
     "text": [
      "\r\u001b[32mProgress:  35%|██████████████▏                          |  ETA: 0:00:31\u001b[39m\u001b[K"
     ]
    },
    {
     "name": "stderr",
     "output_type": "stream",
     "text": [
      "\r\u001b[32mProgress:  35%|██████████████▍                          |  ETA: 0:00:30\u001b[39m\u001b[K"
     ]
    },
    {
     "name": "stderr",
     "output_type": "stream",
     "text": [
      "\r\u001b[32mProgress:  36%|██████████████▋                          |  ETA: 0:00:30\u001b[39m\u001b[K"
     ]
    },
    {
     "name": "stderr",
     "output_type": "stream",
     "text": [
      "\r\u001b[32mProgress:  36%|██████████████▉                          |  ETA: 0:00:29\u001b[39m\u001b[K"
     ]
    },
    {
     "name": "stderr",
     "output_type": "stream",
     "text": [
      "\r\u001b[32mProgress:  37%|███████████████                          |  ETA: 0:00:29\u001b[39m\u001b[K"
     ]
    },
    {
     "name": "stderr",
     "output_type": "stream",
     "text": [
      "\r\u001b[32mProgress:  37%|███████████████▏                         |  ETA: 0:00:29\u001b[39m\u001b[K"
     ]
    },
    {
     "name": "stderr",
     "output_type": "stream",
     "text": [
      "\r\u001b[32mProgress:  37%|███████████████▍                         |  ETA: 0:00:28\u001b[39m\u001b[K"
     ]
    },
    {
     "name": "stderr",
     "output_type": "stream",
     "text": [
      "\r\u001b[32mProgress:  38%|███████████████▌                         |  ETA: 0:00:28\u001b[39m\u001b[K"
     ]
    },
    {
     "name": "stderr",
     "output_type": "stream",
     "text": [
      "\r\u001b[32mProgress:  38%|███████████████▋                         |  ETA: 0:00:28\u001b[39m\u001b[K"
     ]
    },
    {
     "name": "stderr",
     "output_type": "stream",
     "text": [
      "\r\u001b[32mProgress:  39%|███████████████▉                         |  ETA: 0:00:28\u001b[39m\u001b[K"
     ]
    },
    {
     "name": "stderr",
     "output_type": "stream",
     "text": [
      "\r\u001b[32mProgress:  39%|████████████████                         |  ETA: 0:00:27\u001b[39m\u001b[K"
     ]
    },
    {
     "name": "stderr",
     "output_type": "stream",
     "text": [
      "\r\u001b[32mProgress:  39%|████████████████▏                        |  ETA: 0:00:27\u001b[39m\u001b[K"
     ]
    },
    {
     "name": "stderr",
     "output_type": "stream",
     "text": [
      "\r\u001b[32mProgress:  40%|████████████████▍                        |  ETA: 0:00:27\u001b[39m\u001b[K"
     ]
    },
    {
     "name": "stderr",
     "output_type": "stream",
     "text": [
      "\r\u001b[32mProgress:  40%|████████████████▌                        |  ETA: 0:00:27\u001b[39m\u001b[K"
     ]
    },
    {
     "name": "stderr",
     "output_type": "stream",
     "text": [
      "\r\u001b[32mProgress:  41%|████████████████▋                        |  ETA: 0:00:26\u001b[39m\u001b[K"
     ]
    },
    {
     "name": "stderr",
     "output_type": "stream",
     "text": [
      "\r\u001b[32mProgress:  41%|████████████████▊                        |  ETA: 0:00:26\u001b[39m\u001b[K"
     ]
    },
    {
     "name": "stderr",
     "output_type": "stream",
     "text": [
      "\r\u001b[32mProgress:  41%|█████████████████                        |  ETA: 0:00:26\u001b[39m\u001b[K"
     ]
    },
    {
     "name": "stderr",
     "output_type": "stream",
     "text": [
      "\r\u001b[32mProgress:  42%|█████████████████▏                       |  ETA: 0:00:25\u001b[39m\u001b[K"
     ]
    },
    {
     "name": "stderr",
     "output_type": "stream",
     "text": [
      "\r\u001b[32mProgress:  42%|█████████████████▎                       |  ETA: 0:00:25\u001b[39m\u001b[K"
     ]
    },
    {
     "name": "stderr",
     "output_type": "stream",
     "text": [
      "\r\u001b[32mProgress:  43%|█████████████████▌                       |  ETA: 0:00:25\u001b[39m\u001b[K"
     ]
    },
    {
     "name": "stderr",
     "output_type": "stream",
     "text": [
      "\r\u001b[32mProgress:  43%|█████████████████▋                       |  ETA: 0:00:25\u001b[39m\u001b[K"
     ]
    },
    {
     "name": "stderr",
     "output_type": "stream",
     "text": [
      "\r\u001b[32mProgress:  43%|█████████████████▊                       |  ETA: 0:00:25\u001b[39m\u001b[K"
     ]
    },
    {
     "name": "stderr",
     "output_type": "stream",
     "text": [
      "\r\u001b[32mProgress:  44%|██████████████████                       |  ETA: 0:00:24\u001b[39m\u001b[K"
     ]
    },
    {
     "name": "stderr",
     "output_type": "stream",
     "text": [
      "\r\u001b[32mProgress:  44%|██████████████████▏                      |  ETA: 0:00:24\u001b[39m\u001b[K"
     ]
    },
    {
     "name": "stderr",
     "output_type": "stream",
     "text": [
      "\r\u001b[32mProgress:  45%|██████████████████▎                      |  ETA: 0:00:24\u001b[39m\u001b[K"
     ]
    },
    {
     "name": "stderr",
     "output_type": "stream",
     "text": [
      "\r\u001b[32mProgress:  45%|██████████████████▌                      |  ETA: 0:00:24\u001b[39m\u001b[K"
     ]
    },
    {
     "name": "stderr",
     "output_type": "stream",
     "text": [
      "\r\u001b[32mProgress:  45%|██████████████████▋                      |  ETA: 0:00:23\u001b[39m\u001b[K"
     ]
    },
    {
     "name": "stderr",
     "output_type": "stream",
     "text": [
      "\r\u001b[32mProgress:  46%|██████████████████▊                      |  ETA: 0:00:23\u001b[39m\u001b[K"
     ]
    },
    {
     "name": "stderr",
     "output_type": "stream",
     "text": [
      "\r\u001b[32mProgress:  46%|███████████████████                      |  ETA: 0:00:23\u001b[39m\u001b[K"
     ]
    },
    {
     "name": "stderr",
     "output_type": "stream",
     "text": [
      "\r\u001b[32mProgress:  47%|███████████████████▏                     |  ETA: 0:00:23\u001b[39m\u001b[K"
     ]
    },
    {
     "name": "stderr",
     "output_type": "stream",
     "text": [
      "\r\u001b[32mProgress:  47%|███████████████████▎                     |  ETA: 0:00:23\u001b[39m\u001b[K"
     ]
    },
    {
     "name": "stderr",
     "output_type": "stream",
     "text": [
      "\r\u001b[32mProgress:  47%|███████████████████▍                     |  ETA: 0:00:22\u001b[39m\u001b[K"
     ]
    },
    {
     "name": "stderr",
     "output_type": "stream",
     "text": [
      "\r\u001b[32mProgress:  48%|███████████████████▋                     |  ETA: 0:00:22\u001b[39m\u001b[K"
     ]
    },
    {
     "name": "stderr",
     "output_type": "stream",
     "text": [
      "\r\u001b[32mProgress:  48%|███████████████████▊                     |  ETA: 0:00:22\u001b[39m\u001b[K"
     ]
    },
    {
     "name": "stderr",
     "output_type": "stream",
     "text": [
      "\r\u001b[32mProgress:  49%|███████████████████▉                     |  ETA: 0:00:22\u001b[39m\u001b[K"
     ]
    },
    {
     "name": "stderr",
     "output_type": "stream",
     "text": [
      "\r\u001b[32mProgress:  49%|████████████████████▏                    |  ETA: 0:00:21\u001b[39m\u001b[K"
     ]
    },
    {
     "name": "stderr",
     "output_type": "stream",
     "text": [
      "\r\u001b[32mProgress:  49%|████████████████████▎                    |  ETA: 0:00:21\u001b[39m\u001b[K"
     ]
    },
    {
     "name": "stderr",
     "output_type": "stream",
     "text": [
      "\r\u001b[32mProgress:  50%|████████████████████▍                    |  ETA: 0:00:21\u001b[39m\u001b[K"
     ]
    },
    {
     "name": "stderr",
     "output_type": "stream",
     "text": [
      "\r\u001b[32mProgress:  50%|████████████████████▋                    |  ETA: 0:00:21\u001b[39m\u001b[K"
     ]
    },
    {
     "name": "stderr",
     "output_type": "stream",
     "text": [
      "\r\u001b[32mProgress:  51%|████████████████████▊                    |  ETA: 0:00:21\u001b[39m\u001b[K"
     ]
    },
    {
     "name": "stderr",
     "output_type": "stream",
     "text": [
      "\r\u001b[32mProgress:  51%|████████████████████▉                    |  ETA: 0:00:20\u001b[39m\u001b[K"
     ]
    },
    {
     "name": "stderr",
     "output_type": "stream",
     "text": [
      "\r\u001b[32mProgress:  51%|█████████████████████                    |  ETA: 0:00:21\u001b[39m\u001b[K"
     ]
    },
    {
     "name": "stderr",
     "output_type": "stream",
     "text": [
      "\r\u001b[32mProgress:  52%|█████████████████████▏                   |  ETA: 0:00:20\u001b[39m\u001b[K"
     ]
    },
    {
     "name": "stderr",
     "output_type": "stream",
     "text": [
      "\r\u001b[32mProgress:  52%|█████████████████████▍                   |  ETA: 0:00:20\u001b[39m\u001b[K"
     ]
    },
    {
     "name": "stderr",
     "output_type": "stream",
     "text": [
      "\r\u001b[32mProgress:  52%|█████████████████████▌                   |  ETA: 0:00:20\u001b[39m\u001b[K"
     ]
    },
    {
     "name": "stderr",
     "output_type": "stream",
     "text": [
      "\r\u001b[32mProgress:  53%|█████████████████████▋                   |  ETA: 0:00:20\u001b[39m\u001b[K"
     ]
    },
    {
     "name": "stderr",
     "output_type": "stream",
     "text": [
      "\r\u001b[32mProgress:  53%|█████████████████████▊                   |  ETA: 0:00:20\u001b[39m\u001b[K"
     ]
    },
    {
     "name": "stderr",
     "output_type": "stream",
     "text": [
      "\r\u001b[32mProgress:  54%|██████████████████████                   |  ETA: 0:00:19\u001b[39m\u001b[K"
     ]
    },
    {
     "name": "stderr",
     "output_type": "stream",
     "text": [
      "\r\u001b[32mProgress:  54%|██████████████████████▏                  |  ETA: 0:00:19\u001b[39m\u001b[K"
     ]
    },
    {
     "name": "stderr",
     "output_type": "stream",
     "text": [
      "\r\u001b[32mProgress:  54%|██████████████████████▎                  |  ETA: 0:00:19\u001b[39m\u001b[K"
     ]
    },
    {
     "name": "stderr",
     "output_type": "stream",
     "text": [
      "\r\u001b[32mProgress:  55%|██████████████████████▌                  |  ETA: 0:00:19\u001b[39m\u001b[K"
     ]
    },
    {
     "name": "stderr",
     "output_type": "stream",
     "text": [
      "\r\u001b[32mProgress:  55%|██████████████████████▋                  |  ETA: 0:00:19\u001b[39m\u001b[K"
     ]
    },
    {
     "name": "stderr",
     "output_type": "stream",
     "text": [
      "\r\u001b[32mProgress:  56%|██████████████████████▊                  |  ETA: 0:00:18\u001b[39m\u001b[K"
     ]
    },
    {
     "name": "stderr",
     "output_type": "stream",
     "text": [
      "\r\u001b[32mProgress:  56%|███████████████████████                  |  ETA: 0:00:18\u001b[39m\u001b[K"
     ]
    },
    {
     "name": "stderr",
     "output_type": "stream",
     "text": [
      "\r\u001b[32mProgress:  56%|███████████████████████▏                 |  ETA: 0:00:18\u001b[39m\u001b[K"
     ]
    },
    {
     "name": "stderr",
     "output_type": "stream",
     "text": [
      "\r\u001b[32mProgress:  57%|███████████████████████▎                 |  ETA: 0:00:18\u001b[39m\u001b[K"
     ]
    },
    {
     "name": "stderr",
     "output_type": "stream",
     "text": [
      "\r\u001b[32mProgress:  57%|███████████████████████▌                 |  ETA: 0:00:18\u001b[39m\u001b[K"
     ]
    },
    {
     "name": "stderr",
     "output_type": "stream",
     "text": [
      "\r\u001b[32mProgress:  58%|███████████████████████▋                 |  ETA: 0:00:18\u001b[39m\u001b[K"
     ]
    },
    {
     "name": "stderr",
     "output_type": "stream",
     "text": [
      "\r\u001b[32mProgress:  58%|███████████████████████▊                 |  ETA: 0:00:17\u001b[39m\u001b[K"
     ]
    },
    {
     "name": "stderr",
     "output_type": "stream",
     "text": [
      "\r\u001b[32mProgress:  58%|████████████████████████                 |  ETA: 0:00:17\u001b[39m\u001b[K"
     ]
    },
    {
     "name": "stderr",
     "output_type": "stream",
     "text": [
      "\r\u001b[32mProgress:  59%|████████████████████████▏                |  ETA: 0:00:17\u001b[39m\u001b[K"
     ]
    },
    {
     "name": "stderr",
     "output_type": "stream",
     "text": [
      "\r\u001b[32mProgress:  59%|████████████████████████▎                |  ETA: 0:00:17\u001b[39m\u001b[K"
     ]
    },
    {
     "name": "stderr",
     "output_type": "stream",
     "text": [
      "\r\u001b[32mProgress:  60%|████████████████████████▍                |  ETA: 0:00:17\u001b[39m\u001b[K"
     ]
    },
    {
     "name": "stderr",
     "output_type": "stream",
     "text": [
      "\r\u001b[32mProgress:  60%|████████████████████████▋                |  ETA: 0:00:16\u001b[39m\u001b[K"
     ]
    },
    {
     "name": "stderr",
     "output_type": "stream",
     "text": [
      "\r\u001b[32mProgress:  61%|████████████████████████▉                |  ETA: 0:00:16\u001b[39m\u001b[K"
     ]
    },
    {
     "name": "stderr",
     "output_type": "stream",
     "text": [
      "\r\u001b[32mProgress:  61%|█████████████████████████                |  ETA: 0:00:16\u001b[39m\u001b[K"
     ]
    },
    {
     "name": "stderr",
     "output_type": "stream",
     "text": [
      "\r\u001b[32mProgress:  61%|█████████████████████████▏               |  ETA: 0:00:16\u001b[39m\u001b[K"
     ]
    },
    {
     "name": "stderr",
     "output_type": "stream",
     "text": [
      "\r\u001b[32mProgress:  62%|█████████████████████████▍               |  ETA: 0:00:16\u001b[39m\u001b[K"
     ]
    },
    {
     "name": "stderr",
     "output_type": "stream",
     "text": [
      "\r\u001b[32mProgress:  62%|█████████████████████████▌               |  ETA: 0:00:15\u001b[39m\u001b[K"
     ]
    },
    {
     "name": "stderr",
     "output_type": "stream",
     "text": [
      "\r\u001b[32mProgress:  63%|█████████████████████████▋               |  ETA: 0:00:15\u001b[39m\u001b[K"
     ]
    },
    {
     "name": "stderr",
     "output_type": "stream",
     "text": [
      "\r\u001b[32mProgress:  63%|█████████████████████████▉               |  ETA: 0:00:15\u001b[39m\u001b[K"
     ]
    },
    {
     "name": "stderr",
     "output_type": "stream",
     "text": [
      "\r\u001b[32mProgress:  63%|██████████████████████████               |  ETA: 0:00:15\u001b[39m\u001b[K"
     ]
    },
    {
     "name": "stderr",
     "output_type": "stream",
     "text": [
      "\r\u001b[32mProgress:  64%|██████████████████████████▏              |  ETA: 0:00:15\u001b[39m\u001b[K"
     ]
    },
    {
     "name": "stderr",
     "output_type": "stream",
     "text": [
      "\r\u001b[32mProgress:  64%|██████████████████████████▍              |  ETA: 0:00:14\u001b[39m\u001b[K"
     ]
    },
    {
     "name": "stderr",
     "output_type": "stream",
     "text": [
      "\r\u001b[32mProgress:  65%|██████████████████████████▌              |  ETA: 0:00:14\u001b[39m\u001b[K"
     ]
    },
    {
     "name": "stderr",
     "output_type": "stream",
     "text": [
      "\r\u001b[32mProgress:  65%|██████████████████████████▋              |  ETA: 0:00:14\u001b[39m\u001b[K"
     ]
    },
    {
     "name": "stderr",
     "output_type": "stream",
     "text": [
      "\r\u001b[32mProgress:  66%|██████████████████████████▉              |  ETA: 0:00:14\u001b[39m\u001b[K"
     ]
    },
    {
     "name": "stderr",
     "output_type": "stream",
     "text": [
      "\r\u001b[32mProgress:  66%|███████████████████████████              |  ETA: 0:00:14\u001b[39m\u001b[K"
     ]
    },
    {
     "name": "stderr",
     "output_type": "stream",
     "text": [
      "\r\u001b[32mProgress:  66%|███████████████████████████▎             |  ETA: 0:00:13\u001b[39m\u001b[K"
     ]
    },
    {
     "name": "stderr",
     "output_type": "stream",
     "text": [
      "\r\u001b[32mProgress:  67%|███████████████████████████▍             |  ETA: 0:00:13\u001b[39m\u001b[K"
     ]
    },
    {
     "name": "stderr",
     "output_type": "stream",
     "text": [
      "\r\u001b[32mProgress:  67%|███████████████████████████▌             |  ETA: 0:00:13\u001b[39m\u001b[K"
     ]
    },
    {
     "name": "stderr",
     "output_type": "stream",
     "text": [
      "\r\u001b[32mProgress:  68%|███████████████████████████▊             |  ETA: 0:00:13\u001b[39m\u001b[K"
     ]
    },
    {
     "name": "stderr",
     "output_type": "stream",
     "text": [
      "\r\u001b[32mProgress:  68%|████████████████████████████             |  ETA: 0:00:13\u001b[39m\u001b[K"
     ]
    },
    {
     "name": "stderr",
     "output_type": "stream",
     "text": [
      "\r\u001b[32mProgress:  69%|████████████████████████████▏            |  ETA: 0:00:12\u001b[39m\u001b[K"
     ]
    },
    {
     "name": "stderr",
     "output_type": "stream",
     "text": [
      "\r\u001b[32mProgress:  69%|████████████████████████████▍            |  ETA: 0:00:12\u001b[39m\u001b[K"
     ]
    },
    {
     "name": "stderr",
     "output_type": "stream",
     "text": [
      "\r\u001b[32mProgress:  70%|████████████████████████████▌            |  ETA: 0:00:12\u001b[39m\u001b[K"
     ]
    },
    {
     "name": "stderr",
     "output_type": "stream",
     "text": [
      "\r\u001b[32mProgress:  70%|████████████████████████████▊            |  ETA: 0:00:12\u001b[39m\u001b[K"
     ]
    },
    {
     "name": "stderr",
     "output_type": "stream",
     "text": [
      "\r\u001b[32mProgress:  71%|█████████████████████████████            |  ETA: 0:00:11\u001b[39m\u001b[K"
     ]
    },
    {
     "name": "stderr",
     "output_type": "stream",
     "text": [
      "\r\u001b[32mProgress:  71%|█████████████████████████████▏           |  ETA: 0:00:11\u001b[39m\u001b[K"
     ]
    },
    {
     "name": "stderr",
     "output_type": "stream",
     "text": [
      "\r\u001b[32mProgress:  71%|█████████████████████████████▎           |  ETA: 0:00:11\u001b[39m\u001b[K"
     ]
    },
    {
     "name": "stderr",
     "output_type": "stream",
     "text": [
      "\r\u001b[32mProgress:  72%|█████████████████████████████▌           |  ETA: 0:00:11\u001b[39m\u001b[K"
     ]
    },
    {
     "name": "stderr",
     "output_type": "stream",
     "text": [
      "\r\u001b[32mProgress:  72%|█████████████████████████████▋           |  ETA: 0:00:11\u001b[39m\u001b[K"
     ]
    },
    {
     "name": "stderr",
     "output_type": "stream",
     "text": [
      "\r\u001b[32mProgress:  73%|█████████████████████████████▉           |  ETA: 0:00:10\u001b[39m\u001b[K"
     ]
    },
    {
     "name": "stderr",
     "output_type": "stream",
     "text": [
      "\r\u001b[32mProgress:  73%|██████████████████████████████▏          |  ETA: 0:00:10\u001b[39m\u001b[K"
     ]
    },
    {
     "name": "stderr",
     "output_type": "stream",
     "text": [
      "\r\u001b[32mProgress:  74%|██████████████████████████████▎          |  ETA: 0:00:10\u001b[39m\u001b[K"
     ]
    },
    {
     "name": "stderr",
     "output_type": "stream",
     "text": [
      "\r\u001b[32mProgress:  74%|██████████████████████████████▍          |  ETA: 0:00:10\u001b[39m\u001b[K"
     ]
    },
    {
     "name": "stderr",
     "output_type": "stream",
     "text": [
      "\r\u001b[32mProgress:  75%|██████████████████████████████▋          |  ETA: 0:00:10\u001b[39m\u001b[K"
     ]
    },
    {
     "name": "stderr",
     "output_type": "stream",
     "text": [
      "\r\u001b[32mProgress:  75%|██████████████████████████████▉          |  ETA: 0:00:09\u001b[39m\u001b[K"
     ]
    },
    {
     "name": "stderr",
     "output_type": "stream",
     "text": [
      "\r\u001b[32mProgress:  76%|███████████████████████████████          |  ETA: 0:00:09\u001b[39m\u001b[K"
     ]
    },
    {
     "name": "stderr",
     "output_type": "stream",
     "text": [
      "\r\u001b[32mProgress:  76%|███████████████████████████████▏         |  ETA: 0:00:09\u001b[39m\u001b[K"
     ]
    },
    {
     "name": "stderr",
     "output_type": "stream",
     "text": [
      "\r\u001b[32mProgress:  76%|███████████████████████████████▍         |  ETA: 0:00:09\u001b[39m\u001b[K"
     ]
    },
    {
     "name": "stderr",
     "output_type": "stream",
     "text": [
      "\r\u001b[32mProgress:  77%|███████████████████████████████▌         |  ETA: 0:00:09\u001b[39m\u001b[K"
     ]
    },
    {
     "name": "stderr",
     "output_type": "stream",
     "text": [
      "\r\u001b[32mProgress:  77%|███████████████████████████████▋         |  ETA: 0:00:09\u001b[39m\u001b[K"
     ]
    },
    {
     "name": "stderr",
     "output_type": "stream",
     "text": [
      "\r\u001b[32mProgress:  78%|███████████████████████████████▉         |  ETA: 0:00:08\u001b[39m\u001b[K"
     ]
    },
    {
     "name": "stderr",
     "output_type": "stream",
     "text": [
      "\r\u001b[32mProgress:  78%|████████████████████████████████         |  ETA: 0:00:08\u001b[39m\u001b[K"
     ]
    },
    {
     "name": "stderr",
     "output_type": "stream",
     "text": [
      "\r\u001b[32mProgress:  79%|████████████████████████████████▎        |  ETA: 0:00:08\u001b[39m\u001b[K"
     ]
    },
    {
     "name": "stderr",
     "output_type": "stream",
     "text": [
      "\r\u001b[32mProgress:  79%|████████████████████████████████▌        |  ETA: 0:00:08\u001b[39m\u001b[K"
     ]
    },
    {
     "name": "stderr",
     "output_type": "stream",
     "text": [
      "\r\u001b[32mProgress:  80%|████████████████████████████████▊        |  ETA: 0:00:08\u001b[39m\u001b[K"
     ]
    },
    {
     "name": "stderr",
     "output_type": "stream",
     "text": [
      "\r\u001b[32mProgress:  80%|█████████████████████████████████        |  ETA: 0:00:07\u001b[39m\u001b[K"
     ]
    },
    {
     "name": "stderr",
     "output_type": "stream",
     "text": [
      "\r\u001b[32mProgress:  81%|█████████████████████████████████▎       |  ETA: 0:00:07\u001b[39m\u001b[K"
     ]
    },
    {
     "name": "stderr",
     "output_type": "stream",
     "text": [
      "\r\u001b[32mProgress:  81%|█████████████████████████████████▍       |  ETA: 0:00:07\u001b[39m\u001b[K"
     ]
    },
    {
     "name": "stderr",
     "output_type": "stream",
     "text": [
      "\r\u001b[32mProgress:  82%|█████████████████████████████████▌       |  ETA: 0:00:07\u001b[39m\u001b[K"
     ]
    },
    {
     "name": "stderr",
     "output_type": "stream",
     "text": [
      "\r\u001b[32mProgress:  82%|█████████████████████████████████▊       |  ETA: 0:00:07\u001b[39m\u001b[K"
     ]
    },
    {
     "name": "stderr",
     "output_type": "stream",
     "text": [
      "\r\u001b[32mProgress:  83%|██████████████████████████████████       |  ETA: 0:00:06\u001b[39m\u001b[K"
     ]
    },
    {
     "name": "stderr",
     "output_type": "stream",
     "text": [
      "\r\u001b[32mProgress:  84%|██████████████████████████████████▎      |  ETA: 0:00:06\u001b[39m\u001b[K"
     ]
    },
    {
     "name": "stderr",
     "output_type": "stream",
     "text": [
      "\r\u001b[32mProgress:  84%|██████████████████████████████████▌      |  ETA: 0:00:06\u001b[39m\u001b[K"
     ]
    },
    {
     "name": "stderr",
     "output_type": "stream",
     "text": [
      "\r\u001b[32mProgress:  84%|██████████████████████████████████▋      |  ETA: 0:00:06\u001b[39m\u001b[K"
     ]
    },
    {
     "name": "stderr",
     "output_type": "stream",
     "text": [
      "\r\u001b[32mProgress:  85%|██████████████████████████████████▊      |  ETA: 0:00:06\u001b[39m\u001b[K"
     ]
    },
    {
     "name": "stderr",
     "output_type": "stream",
     "text": [
      "\r\u001b[32mProgress:  85%|██████████████████████████████████▉      |  ETA: 0:00:05\u001b[39m\u001b[K"
     ]
    },
    {
     "name": "stderr",
     "output_type": "stream",
     "text": [
      "\r\u001b[32mProgress:  86%|███████████████████████████████████▏     |  ETA: 0:00:05\u001b[39m\u001b[K"
     ]
    },
    {
     "name": "stderr",
     "output_type": "stream",
     "text": [
      "\r\u001b[32mProgress:  86%|███████████████████████████████████▍     |  ETA: 0:00:05\u001b[39m\u001b[K"
     ]
    },
    {
     "name": "stderr",
     "output_type": "stream",
     "text": [
      "\r\u001b[32mProgress:  87%|███████████████████████████████████▌     |  ETA: 0:00:05\u001b[39m\u001b[K"
     ]
    },
    {
     "name": "stderr",
     "output_type": "stream",
     "text": [
      "\r\u001b[32mProgress:  87%|███████████████████████████████████▊     |  ETA: 0:00:05\u001b[39m\u001b[K"
     ]
    },
    {
     "name": "stderr",
     "output_type": "stream",
     "text": [
      "\r\u001b[32mProgress:  88%|███████████████████████████████████▉     |  ETA: 0:00:05\u001b[39m\u001b[K"
     ]
    },
    {
     "name": "stderr",
     "output_type": "stream",
     "text": [
      "\r\u001b[32mProgress:  88%|████████████████████████████████████▏    |  ETA: 0:00:04\u001b[39m\u001b[K"
     ]
    },
    {
     "name": "stderr",
     "output_type": "stream",
     "text": [
      "\r\u001b[32mProgress:  89%|████████████████████████████████████▍    |  ETA: 0:00:04\u001b[39m\u001b[K"
     ]
    },
    {
     "name": "stderr",
     "output_type": "stream",
     "text": [
      "\r\u001b[32mProgress:  89%|████████████████████████████████████▋    |  ETA: 0:00:04\u001b[39m\u001b[K"
     ]
    },
    {
     "name": "stderr",
     "output_type": "stream",
     "text": [
      "\r\u001b[32mProgress:  90%|████████████████████████████████████▊    |  ETA: 0:00:04\u001b[39m\u001b[K"
     ]
    },
    {
     "name": "stderr",
     "output_type": "stream",
     "text": [
      "\r\u001b[32mProgress:  90%|████████████████████████████████████▉    |  ETA: 0:00:04\u001b[39m\u001b[K"
     ]
    },
    {
     "name": "stderr",
     "output_type": "stream",
     "text": [
      "\r\u001b[32mProgress:  91%|█████████████████████████████████████▏   |  ETA: 0:00:03\u001b[39m\u001b[K"
     ]
    },
    {
     "name": "stderr",
     "output_type": "stream",
     "text": [
      "\r\u001b[32mProgress:  91%|█████████████████████████████████████▍   |  ETA: 0:00:03\u001b[39m\u001b[K"
     ]
    },
    {
     "name": "stderr",
     "output_type": "stream",
     "text": [
      "\r\u001b[32mProgress:  92%|█████████████████████████████████████▌   |  ETA: 0:00:03\u001b[39m\u001b[K"
     ]
    },
    {
     "name": "stderr",
     "output_type": "stream",
     "text": [
      "\r\u001b[32mProgress:  92%|█████████████████████████████████████▊   |  ETA: 0:00:03\u001b[39m\u001b[K"
     ]
    },
    {
     "name": "stderr",
     "output_type": "stream",
     "text": [
      "\r\u001b[32mProgress:  92%|█████████████████████████████████████▉   |  ETA: 0:00:03\u001b[39m\u001b[K"
     ]
    },
    {
     "name": "stderr",
     "output_type": "stream",
     "text": [
      "\r\u001b[32mProgress:  93%|██████████████████████████████████████   |  ETA: 0:00:03\u001b[39m\u001b[K"
     ]
    },
    {
     "name": "stderr",
     "output_type": "stream",
     "text": [
      "\r\u001b[32mProgress:  93%|██████████████████████████████████████▎  |  ETA: 0:00:02\u001b[39m\u001b[K"
     ]
    },
    {
     "name": "stderr",
     "output_type": "stream",
     "text": [
      "\r\u001b[32mProgress:  94%|██████████████████████████████████████▌  |  ETA: 0:00:02\u001b[39m\u001b[K"
     ]
    },
    {
     "name": "stderr",
     "output_type": "stream",
     "text": [
      "\r\u001b[32mProgress:  94%|██████████████████████████████████████▋  |  ETA: 0:00:02\u001b[39m\u001b[K"
     ]
    },
    {
     "name": "stderr",
     "output_type": "stream",
     "text": [
      "\r\u001b[32mProgress:  95%|██████████████████████████████████████▉  |  ETA: 0:00:02\u001b[39m\u001b[K"
     ]
    },
    {
     "name": "stderr",
     "output_type": "stream",
     "text": [
      "\r\u001b[32mProgress:  95%|███████████████████████████████████████  |  ETA: 0:00:02\u001b[39m\u001b[K"
     ]
    },
    {
     "name": "stderr",
     "output_type": "stream",
     "text": [
      "\r\u001b[32mProgress:  96%|███████████████████████████████████████▎ |  ETA: 0:00:02\u001b[39m\u001b[K"
     ]
    },
    {
     "name": "stderr",
     "output_type": "stream",
     "text": [
      "\r\u001b[32mProgress:  96%|███████████████████████████████████████▌ |  ETA: 0:00:01\u001b[39m\u001b[K"
     ]
    },
    {
     "name": "stderr",
     "output_type": "stream",
     "text": [
      "\r\u001b[32mProgress:  97%|███████████████████████████████████████▊ |  ETA: 0:00:01\u001b[39m\u001b[K"
     ]
    },
    {
     "name": "stderr",
     "output_type": "stream",
     "text": [
      "\r\u001b[32mProgress:  97%|███████████████████████████████████████▉ |  ETA: 0:00:01\u001b[39m\u001b[K"
     ]
    },
    {
     "name": "stderr",
     "output_type": "stream",
     "text": [
      "\r\u001b[32mProgress:  98%|████████████████████████████████████████▏|  ETA: 0:00:01\u001b[39m\u001b[K"
     ]
    },
    {
     "name": "stderr",
     "output_type": "stream",
     "text": [
      "\r\u001b[32mProgress:  98%|████████████████████████████████████████▍|  ETA: 0:00:01\u001b[39m\u001b[K"
     ]
    },
    {
     "name": "stderr",
     "output_type": "stream",
     "text": [
      "\r\u001b[32mProgress:  99%|████████████████████████████████████████▌|  ETA: 0:00:00\u001b[39m\u001b[K"
     ]
    },
    {
     "name": "stderr",
     "output_type": "stream",
     "text": [
      "\r\u001b[32mProgress:  99%|████████████████████████████████████████▋|  ETA: 0:00:00\u001b[39m\u001b[K"
     ]
    },
    {
     "name": "stderr",
     "output_type": "stream",
     "text": [
      "\r\u001b[32mProgress: 100%|████████████████████████████████████████▉|  ETA: 0:00:00\u001b[39m\u001b[K"
     ]
    },
    {
     "name": "stderr",
     "output_type": "stream",
     "text": [
      "\r\u001b[32mProgress: 100%|█████████████████████████████████████████| Time: 0:00:35\u001b[39m\u001b[K\n"
     ]
    },
    {
     "name": "stdout",
     "output_type": "stream",
     "text": [
      "(W, D, Excess, p) = ([611.7973784191961, 398.27092016672066, 466.5083677496227], [611.7973784249216, 398.27092112933155, 466.50836673267185], [5.7254965213360265e-9, 9.62610897659033e-7, -1.0169508755097922e-6], [1.3941986991796433, 5.656385622940437, 10.361859383397466])\n"
     ]
    },
    {
     "data": {
      "image/png": "[encoded data removed]",
      "image/svg+xml": "<?xml version=\"1.0\" encoding=\"utf-8\"?>\n<svg xmlns=\"http://www.w3.org/2000/svg\" xmlns:xlink=\"http://www.w3.org/1999/xlink\" width=\"600\" height=\"400\" viewBox=\"0 0 2400 1600\">\n<defs>\n  <clipPath id=\"clip710\">\n    <rect x=\"0\" y=\"0\" width=\"2400\" height=\"1600\"/>\n  </clipPath>\n</defs>\n<path clip-path=\"url(#clip710)\" d=\"\nM0 1600 L2400 1600 L2400 0 L0 0  Z\n  \" fill=\"#ffffff\" fill-rule=\"evenodd\" fill-opacity=\"1\"/>\n<defs>\n  <clipPath id=\"clip711\">\n    <rect x=\"480\" y=\"0\" width=\"1681\" height=\"1600\"/>\n  </clipPath>\n</defs>\n<path clip-path=\"url(#clip710)\" d=\"\nM138.959 1486.45 L2352.76 1486.45 L2352.76 123.472 L138.959 123.472  Z\n  \" fill=\"#ffffff\" fill-rule=\"evenodd\" fill-opacity=\"1\"/>\n<defs>\n  <clipPath id=\"clip712\">\n    <rect x=\"138\" y=\"123\" width=\"2215\" height=\"1364\"/>\n  </clipPath>\n</defs>\n<polyline clip-path=\"url(#clip712)\" style=\"stroke:#000000; stroke-linecap:butt; stroke-linejoin:round; stroke-width:2; stroke-opacity:0.1; fill:none\" points=\"\n  197.429,1486.45 197.429,123.472 \n  \"/>\n<polyline clip-path=\"url(#clip712)\" style=\"stroke:#000000; stroke-linecap:butt; stroke-linejoin:round; stroke-width:2; stroke-opacity:0.1; fill:none\" points=\"\n  615.963,1486.45 615.963,123.472 \n  \"/>\n<polyline clip-path=\"url(#clip712)\" style=\"stroke:#000000; stroke-linecap:butt; stroke-linejoin:round; stroke-width:2; stroke-opacity:0.1; fill:none\" points=\"\n  1034.5,1486.45 1034.5,123.472 \n  \"/>\n<polyline clip-path=\"url(#clip712)\" style=\"stroke:#000000; stroke-linecap:butt; stroke-linejoin:round; stroke-width:2; stroke-opacity:0.1; fill:none\" points=\"\n  1453.03,1486.45 1453.03,123.472 \n  \"/>\n<polyline clip-path=\"url(#clip712)\" style=\"stroke:#000000; stroke-linecap:butt; stroke-linejoin:round; stroke-width:2; stroke-opacity:0.1; fill:none\" points=\"\n  1871.57,1486.45 1871.57,123.472 \n  \"/>\n<polyline clip-path=\"url(#clip712)\" style=\"stroke:#000000; stroke-linecap:butt; stroke-linejoin:round; stroke-width:2; stroke-opacity:0.1; fill:none\" points=\"\n  2290.1,1486.45 2290.1,123.472 \n  \"/>\n<polyline clip-path=\"url(#clip710)\" style=\"stroke:#000000; stroke-linecap:butt; stroke-linejoin:round; stroke-width:4; stroke-opacity:1; fill:none\" points=\"\n  138.959,1486.45 2352.76,1486.45 \n  \"/>\n<polyline clip-path=\"url(#clip710)\" style=\"stroke:#000000; stroke-linecap:butt; stroke-linejoin:round; stroke-width:4; stroke-opacity:1; fill:none\" points=\"\n  197.429,1486.45 197.429,1467.55 \n  \"/>\n<polyline clip-path=\"url(#clip710)\" style=\"stroke:#000000; stroke-linecap:butt; stroke-linejoin:round; stroke-width:4; stroke-opacity:1; fill:none\" points=\"\n  615.963,1486.45 615.963,1467.55 \n  \"/>\n<polyline clip-path=\"url(#clip710)\" style=\"stroke:#000000; stroke-linecap:butt; stroke-linejoin:round; stroke-width:4; stroke-opacity:1; fill:none\" points=\"\n  1034.5,1486.45 1034.5,1467.55 \n  \"/>\n<polyline clip-path=\"url(#clip710)\" style=\"stroke:#000000; stroke-linecap:butt; stroke-linejoin:round; stroke-width:4; stroke-opacity:1; fill:none\" points=\"\n  1453.03,1486.45 1453.03,1467.55 \n  \"/>\n<polyline clip-path=\"url(#clip710)\" style=\"stroke:#000000; stroke-linecap:butt; stroke-linejoin:round; stroke-width:4; stroke-opacity:1; fill:none\" points=\"\n  1871.57,1486.45 1871.57,1467.55 \n  \"/>\n<polyline clip-path=\"url(#clip710)\" style=\"stroke:#000000; stroke-linecap:butt; stroke-linejoin:round; stroke-width:4; stroke-opacity:1; fill:none\" points=\"\n  2290.1,1486.45 2290.1,1467.55 \n  \"/>\n<path clip-path=\"url(#clip710)\" d=\"M197.429 1517.37 Q193.818 1517.37 191.989 1520.93 Q190.183 1524.47 190.183 1531.6 Q190.183 1538.71 191.989 1542.27 Q193.818 1545.82 197.429 1545.82 Q201.063 1545.82 202.868 1542.27 Q204.697 1538.71 204.697 1531.6 Q204.697 1524.47 202.868 1520.93 Q201.063 1517.37 197.429 1517.37 M197.429 1513.66 Q203.239 1513.66 206.294 1518.27 Q209.373 1522.85 209.373 1531.6 Q209.373 1540.33 206.294 1544.94 Q203.239 1549.52 197.429 1549.52 Q191.619 1549.52 188.54 1544.94 Q185.484 1540.33 185.484 1531.6 Q185.484 1522.85 188.54 1518.27 Q191.619 1513.66 197.429 1513.66 Z\" fill=\"#000000\" fill-rule=\"evenodd\" fill-opacity=\"1\" /><path clip-path=\"url(#clip710)\" d=\"M575.57 1544.91 L583.209 1544.91 L583.209 1518.55 L574.899 1520.21 L574.899 1515.95 L583.162 1514.29 L587.838 1514.29 L587.838 1544.91 L595.477 1544.91 L595.477 1548.85 L575.57 1548.85 L575.57 1544.91 Z\" fill=\"#000000\" fill-rule=\"evenodd\" fill-opacity=\"1\" /><path clip-path=\"url(#clip710)\" d=\"M614.922 1517.37 Q611.31 1517.37 609.482 1520.93 Q607.676 1524.47 607.676 1531.6 Q607.676 1538.71 609.482 1542.27 Q611.31 1545.82 614.922 1545.82 Q618.556 1545.82 620.361 1542.27 Q622.19 1538.71 622.19 1531.6 Q622.19 1524.47 620.361 1520.93 Q618.556 1517.37 614.922 1517.37 M614.922 1513.66 Q620.732 1513.66 623.787 1518.27 Q626.866 1522.85 626.866 1531.6 Q626.866 1540.33 623.787 1544.94 Q620.732 1549.52 614.922 1549.52 Q609.111 1549.52 606.033 1544.94 Q602.977 1540.33 602.977 1531.6 Q602.977 1522.85 606.033 1518.27 Q609.111 1513.66 614.922 1513.66 Z\" fill=\"#000000\" fill-rule=\"evenodd\" fill-opacity=\"1\" /><path clip-path=\"url(#clip710)\" d=\"M645.083 1517.37 Q641.472 1517.37 639.644 1520.93 Q637.838 1524.47 637.838 1531.6 Q637.838 1538.71 639.644 1542.27 Q641.472 1545.82 645.083 1545.82 Q648.718 1545.82 650.523 1542.27 Q652.352 1538.71 652.352 1531.6 Q652.352 1524.47 650.523 1520.93 Q648.718 1517.37 645.083 1517.37 M645.083 1513.66 Q650.894 1513.66 653.949 1518.27 Q657.028 1522.85 657.028 1531.6 Q657.028 1540.33 653.949 1544.94 Q650.894 1549.52 645.083 1549.52 Q639.273 1549.52 636.195 1544.94 Q633.139 1540.33 633.139 1531.6 Q633.139 1522.85 636.195 1518.27 Q639.273 1513.66 645.083 1513.66 Z\" fill=\"#000000\" fill-rule=\"evenodd\" fill-opacity=\"1\" /><path clip-path=\"url(#clip710)\" d=\"M998.19 1544.91 L1014.51 1544.91 L1014.51 1548.85 L992.565 1548.85 L992.565 1544.91 Q995.227 1542.16 999.81 1537.53 Q1004.42 1532.88 1005.6 1531.53 Q1007.84 1529.01 1008.72 1527.27 Q1009.63 1525.51 1009.63 1523.82 Q1009.63 1521.07 1007.68 1519.33 Q1005.76 1517.6 1002.66 1517.6 Q1000.46 1517.6 998.005 1518.36 Q995.574 1519.13 992.797 1520.68 L992.797 1515.95 Q995.621 1514.82 998.074 1514.24 Q1000.53 1513.66 1002.57 1513.66 Q1007.94 1513.66 1011.13 1516.35 Q1014.32 1519.03 1014.32 1523.52 Q1014.32 1525.65 1013.51 1527.57 Q1012.73 1529.47 1010.62 1532.07 Q1010.04 1532.74 1006.94 1535.95 Q1003.84 1539.15 998.19 1544.91 Z\" fill=\"#000000\" fill-rule=\"evenodd\" fill-opacity=\"1\" /><path clip-path=\"url(#clip710)\" d=\"M1034.32 1517.37 Q1030.71 1517.37 1028.88 1520.93 Q1027.08 1524.47 1027.08 1531.6 Q1027.08 1538.71 1028.88 1542.27 Q1030.71 1545.82 1034.32 1545.82 Q1037.96 1545.82 1039.76 1542.27 Q1041.59 1538.71 1041.59 1531.6 Q1041.59 1524.47 1039.76 1520.93 Q1037.96 1517.37 1034.32 1517.37 M1034.32 1513.66 Q1040.13 1513.66 1043.19 1518.27 Q1046.27 1522.85 1046.27 1531.6 Q1046.27 1540.33 1043.19 1544.94 Q1040.13 1549.52 1034.32 1549.52 Q1028.51 1549.52 1025.44 1544.94 Q1022.38 1540.33 1022.38 1531.6 Q1022.38 1522.85 1025.44 1518.27 Q1028.51 1513.66 1034.32 1513.66 Z\" fill=\"#000000\" fill-rule=\"evenodd\" fill-opacity=\"1\" /><path clip-path=\"url(#clip710)\" d=\"M1064.49 1517.37 Q1060.87 1517.37 1059.05 1520.93 Q1057.24 1524.47 1057.24 1531.6 Q1057.24 1538.71 1059.05 1542.27 Q1060.87 1545.82 1064.49 1545.82 Q1068.12 1545.82 1069.93 1542.27 Q1071.75 1538.71 1071.75 1531.6 Q1071.75 1524.47 1069.93 1520.93 Q1068.12 1517.37 1064.49 1517.37 M1064.49 1513.66 Q1070.3 1513.66 1073.35 1518.27 Q1076.43 1522.85 1076.43 1531.6 Q1076.43 1540.33 1073.35 1544.94 Q1070.3 1549.52 1064.49 1549.52 Q1058.68 1549.52 1055.6 1544.94 Q1052.54 1540.33 1052.54 1531.6 Q1052.54 1522.85 1055.6 1518.27 Q1058.68 1513.66 1064.49 1513.66 Z\" fill=\"#000000\" fill-rule=\"evenodd\" fill-opacity=\"1\" /><path clip-path=\"url(#clip710)\" d=\"M1426.79 1530.21 Q1430.15 1530.93 1432.03 1533.2 Q1433.92 1535.47 1433.92 1538.8 Q1433.92 1543.92 1430.41 1546.72 Q1426.89 1549.52 1420.41 1549.52 Q1418.23 1549.52 1415.91 1549.08 Q1413.62 1548.66 1411.17 1547.81 L1411.17 1543.29 Q1413.11 1544.43 1415.43 1545.01 Q1417.74 1545.58 1420.27 1545.58 Q1424.66 1545.58 1426.96 1543.85 Q1429.27 1542.11 1429.27 1538.8 Q1429.27 1535.75 1427.12 1534.03 Q1424.99 1532.3 1421.17 1532.3 L1417.14 1532.3 L1417.14 1528.45 L1421.35 1528.45 Q1424.8 1528.45 1426.63 1527.09 Q1428.46 1525.7 1428.46 1523.11 Q1428.46 1520.45 1426.56 1519.03 Q1424.69 1517.6 1421.17 1517.6 Q1419.25 1517.6 1417.05 1518.01 Q1414.85 1518.43 1412.21 1519.31 L1412.21 1515.14 Q1414.87 1514.4 1417.19 1514.03 Q1419.53 1513.66 1421.59 1513.66 Q1426.91 1513.66 1430.01 1516.09 Q1433.11 1518.5 1433.11 1522.62 Q1433.11 1525.49 1431.47 1527.48 Q1429.83 1529.45 1426.79 1530.21 Z\" fill=\"#000000\" fill-rule=\"evenodd\" fill-opacity=\"1\" /><path clip-path=\"url(#clip710)\" d=\"M1452.79 1517.37 Q1449.18 1517.37 1447.35 1520.93 Q1445.54 1524.47 1445.54 1531.6 Q1445.54 1538.71 1447.35 1542.27 Q1449.18 1545.82 1452.79 1545.82 Q1456.42 1545.82 1458.23 1542.27 Q1460.06 1538.71 1460.06 1531.6 Q1460.06 1524.47 1458.23 1520.93 Q1456.42 1517.37 1452.79 1517.37 M1452.79 1513.66 Q1458.6 1513.66 1461.65 1518.27 Q1464.73 1522.85 1464.73 1531.6 Q1464.73 1540.33 1461.65 1544.94 Q1458.6 1549.52 1452.79 1549.52 Q1446.98 1549.52 1443.9 1544.94 Q1440.84 1540.33 1440.84 1531.6 Q1440.84 1522.85 1443.9 1518.27 Q1446.98 1513.66 1452.79 1513.66 Z\" fill=\"#000000\" fill-rule=\"evenodd\" fill-opacity=\"1\" /><path clip-path=\"url(#clip710)\" d=\"M1482.95 1517.37 Q1479.34 1517.37 1477.51 1520.93 Q1475.71 1524.47 1475.71 1531.6 Q1475.71 1538.71 1477.51 1542.27 Q1479.34 1545.82 1482.95 1545.82 Q1486.59 1545.82 1488.39 1542.27 Q1490.22 1538.71 1490.22 1531.6 Q1490.22 1524.47 1488.39 1520.93 Q1486.59 1517.37 1482.95 1517.37 M1482.95 1513.66 Q1488.76 1513.66 1491.82 1518.27 Q1494.9 1522.85 1494.9 1531.6 Q1494.9 1540.33 1491.82 1544.94 Q1488.76 1549.52 1482.95 1549.52 Q1477.14 1549.52 1474.06 1544.94 Q1471.01 1540.33 1471.01 1531.6 Q1471.01 1522.85 1474.06 1518.27 Q1477.14 1513.66 1482.95 1513.66 Z\" fill=\"#000000\" fill-rule=\"evenodd\" fill-opacity=\"1\" /><path clip-path=\"url(#clip710)\" d=\"M1844.66 1518.36 L1832.85 1536.81 L1844.66 1536.81 L1844.66 1518.36 M1843.43 1514.29 L1849.31 1514.29 L1849.31 1536.81 L1854.24 1536.81 L1854.24 1540.7 L1849.31 1540.7 L1849.31 1548.85 L1844.66 1548.85 L1844.66 1540.7 L1829.06 1540.7 L1829.06 1536.19 L1843.43 1514.29 Z\" fill=\"#000000\" fill-rule=\"evenodd\" fill-opacity=\"1\" /><path clip-path=\"url(#clip710)\" d=\"M1871.97 1517.37 Q1868.36 1517.37 1866.53 1520.93 Q1864.73 1524.47 1864.73 1531.6 Q1864.73 1538.71 1866.53 1542.27 Q1868.36 1545.82 1871.97 1545.82 Q1875.61 1545.82 1877.41 1542.27 Q1879.24 1538.71 1879.24 1531.6 Q1879.24 1524.47 1877.41 1520.93 Q1875.61 1517.37 1871.97 1517.37 M1871.97 1513.66 Q1877.78 1513.66 1880.84 1518.27 Q1883.92 1522.85 1883.92 1531.6 Q1883.92 1540.33 1880.84 1544.94 Q1877.78 1549.52 1871.97 1549.52 Q1866.16 1549.52 1863.08 1544.94 Q1860.03 1540.33 1860.03 1531.6 Q1860.03 1522.85 1863.08 1518.27 Q1866.16 1513.66 1871.97 1513.66 Z\" fill=\"#000000\" fill-rule=\"evenodd\" fill-opacity=\"1\" /><path clip-path=\"url(#clip710)\" d=\"M1902.13 1517.37 Q1898.52 1517.37 1896.69 1520.93 Q1894.89 1524.47 1894.89 1531.6 Q1894.89 1538.71 1896.69 1542.27 Q1898.52 1545.82 1902.13 1545.82 Q1905.77 1545.82 1907.57 1542.27 Q1909.4 1538.71 1909.4 1531.6 Q1909.4 1524.47 1907.57 1520.93 Q1905.77 1517.37 1902.13 1517.37 M1902.13 1513.66 Q1907.94 1513.66 1911 1518.27 Q1914.08 1522.85 1914.08 1531.6 Q1914.08 1540.33 1911 1544.94 Q1907.94 1549.52 1902.13 1549.52 Q1896.32 1549.52 1893.24 1544.94 Q1890.19 1540.33 1890.19 1531.6 Q1890.19 1522.85 1893.24 1518.27 Q1896.32 1513.66 1902.13 1513.66 Z\" fill=\"#000000\" fill-rule=\"evenodd\" fill-opacity=\"1\" /><path clip-path=\"url(#clip710)\" d=\"M2249.72 1514.29 L2268.08 1514.29 L2268.08 1518.22 L2254 1518.22 L2254 1526.7 Q2255.02 1526.35 2256.04 1526.19 Q2257.06 1526 2258.08 1526 Q2263.86 1526 2267.24 1529.17 Q2270.62 1532.34 2270.62 1537.76 Q2270.62 1543.34 2267.15 1546.44 Q2263.68 1549.52 2257.36 1549.52 Q2255.18 1549.52 2252.91 1549.15 Q2250.67 1548.78 2248.26 1548.04 L2248.26 1543.34 Q2250.34 1544.47 2252.57 1545.03 Q2254.79 1545.58 2257.27 1545.58 Q2261.27 1545.58 2263.61 1543.48 Q2265.95 1541.37 2265.95 1537.76 Q2265.95 1534.15 2263.61 1532.04 Q2261.27 1529.94 2257.27 1529.94 Q2255.39 1529.94 2253.52 1530.35 Q2251.66 1530.77 2249.72 1531.65 L2249.72 1514.29 Z\" fill=\"#000000\" fill-rule=\"evenodd\" fill-opacity=\"1\" /><path clip-path=\"url(#clip710)\" d=\"M2289.84 1517.37 Q2286.22 1517.37 2284.4 1520.93 Q2282.59 1524.47 2282.59 1531.6 Q2282.59 1538.71 2284.4 1542.27 Q2286.22 1545.82 2289.84 1545.82 Q2293.47 1545.82 2295.27 1542.27 Q2297.1 1538.71 2297.1 1531.6 Q2297.1 1524.47 2295.27 1520.93 Q2293.47 1517.37 2289.84 1517.37 M2289.84 1513.66 Q2295.65 1513.66 2298.7 1518.27 Q2301.78 1522.85 2301.78 1531.6 Q2301.78 1540.33 2298.7 1544.94 Q2295.65 1549.52 2289.84 1549.52 Q2284.02 1549.52 2280.95 1544.94 Q2277.89 1540.33 2277.89 1531.6 Q2277.89 1522.85 2280.95 1518.27 Q2284.02 1513.66 2289.84 1513.66 Z\" fill=\"#000000\" fill-rule=\"evenodd\" fill-opacity=\"1\" /><path clip-path=\"url(#clip710)\" d=\"M2320 1517.37 Q2316.39 1517.37 2314.56 1520.93 Q2312.75 1524.47 2312.75 1531.6 Q2312.75 1538.71 2314.56 1542.27 Q2316.39 1545.82 2320 1545.82 Q2323.63 1545.82 2325.44 1542.27 Q2327.27 1538.71 2327.27 1531.6 Q2327.27 1524.47 2325.44 1520.93 Q2323.63 1517.37 2320 1517.37 M2320 1513.66 Q2325.81 1513.66 2328.86 1518.27 Q2331.94 1522.85 2331.94 1531.6 Q2331.94 1540.33 2328.86 1544.94 Q2325.81 1549.52 2320 1549.52 Q2314.19 1549.52 2311.11 1544.94 Q2308.05 1540.33 2308.05 1531.6 Q2308.05 1522.85 2311.11 1518.27 Q2314.19 1513.66 2320 1513.66 Z\" fill=\"#000000\" fill-rule=\"evenodd\" fill-opacity=\"1\" /><polyline clip-path=\"url(#clip712)\" style=\"stroke:#000000; stroke-linecap:butt; stroke-linejoin:round; stroke-width:2; stroke-opacity:0.1; fill:none\" points=\"\n  138.959,1361.19 2352.76,1361.19 \n  \"/>\n<polyline clip-path=\"url(#clip712)\" style=\"stroke:#000000; stroke-linecap:butt; stroke-linejoin:round; stroke-width:2; stroke-opacity:0.1; fill:none\" points=\"\n  138.959,1075.77 2352.76,1075.77 \n  \"/>\n<polyline clip-path=\"url(#clip712)\" style=\"stroke:#000000; stroke-linecap:butt; stroke-linejoin:round; stroke-width:2; stroke-opacity:0.1; fill:none\" points=\"\n  138.959,790.345 2352.76,790.345 \n  \"/>\n<polyline clip-path=\"url(#clip712)\" style=\"stroke:#000000; stroke-linecap:butt; stroke-linejoin:round; stroke-width:2; stroke-opacity:0.1; fill:none\" points=\"\n  138.959,504.924 2352.76,504.924 \n  \"/>\n<polyline clip-path=\"url(#clip712)\" style=\"stroke:#000000; stroke-linecap:butt; stroke-linejoin:round; stroke-width:2; stroke-opacity:0.1; fill:none\" points=\"\n  138.959,219.503 2352.76,219.503 \n  \"/>\n<polyline clip-path=\"url(#clip710)\" style=\"stroke:#000000; stroke-linecap:butt; stroke-linejoin:round; stroke-width:4; stroke-opacity:1; fill:none\" points=\"\n  138.959,1486.45 138.959,123.472 \n  \"/>\n<polyline clip-path=\"url(#clip710)\" style=\"stroke:#000000; stroke-linecap:butt; stroke-linejoin:round; stroke-width:4; stroke-opacity:1; fill:none\" points=\"\n  138.959,1361.19 157.857,1361.19 \n  \"/>\n<polyline clip-path=\"url(#clip710)\" style=\"stroke:#000000; stroke-linecap:butt; stroke-linejoin:round; stroke-width:4; stroke-opacity:1; fill:none\" points=\"\n  138.959,1075.77 157.857,1075.77 \n  \"/>\n<polyline clip-path=\"url(#clip710)\" style=\"stroke:#000000; stroke-linecap:butt; stroke-linejoin:round; stroke-width:4; stroke-opacity:1; fill:none\" points=\"\n  138.959,790.345 157.857,790.345 \n  \"/>\n<polyline clip-path=\"url(#clip710)\" style=\"stroke:#000000; stroke-linecap:butt; stroke-linejoin:round; stroke-width:4; stroke-opacity:1; fill:none\" points=\"\n  138.959,504.924 157.857,504.924 \n  \"/>\n<polyline clip-path=\"url(#clip710)\" style=\"stroke:#000000; stroke-linecap:butt; stroke-linejoin:round; stroke-width:4; stroke-opacity:1; fill:none\" points=\"\n  138.959,219.503 157.857,219.503 \n  \"/>\n<path clip-path=\"url(#clip710)\" d=\"M86.6401 1374.53 L102.959 1374.53 L102.959 1378.47 L81.0151 1378.47 L81.0151 1374.53 Q83.6771 1371.78 88.2604 1367.15 Q92.8669 1362.5 94.0475 1361.15 Q96.2928 1358.63 97.1724 1356.89 Q98.0752 1355.13 98.0752 1353.44 Q98.0752 1350.69 96.1308 1348.95 Q94.2095 1347.22 91.1077 1347.22 Q88.9086 1347.22 86.4549 1347.98 Q84.0244 1348.75 81.2466 1350.3 L81.2466 1345.57 Q84.0707 1344.44 86.5243 1343.86 Q88.978 1343.28 91.0151 1343.28 Q96.3854 1343.28 99.5798 1345.97 Q102.774 1348.65 102.774 1353.14 Q102.774 1355.27 101.964 1357.19 Q101.177 1359.09 99.0706 1361.69 Q98.4919 1362.36 95.39 1365.57 Q92.2882 1368.77 86.6401 1374.53 Z\" fill=\"#000000\" fill-rule=\"evenodd\" fill-opacity=\"1\" /><path clip-path=\"url(#clip710)\" d=\"M93.3762 1062.56 L81.5707 1081.01 L93.3762 1081.01 L93.3762 1062.56 M92.1493 1058.49 L98.0289 1058.49 L98.0289 1081.01 L102.959 1081.01 L102.959 1084.9 L98.0289 1084.9 L98.0289 1093.05 L93.3762 1093.05 L93.3762 1084.9 L77.7744 1084.9 L77.7744 1080.38 L92.1493 1058.49 Z\" fill=\"#000000\" fill-rule=\"evenodd\" fill-opacity=\"1\" /><path clip-path=\"url(#clip710)\" d=\"M91.4317 788.482 Q88.2836 788.482 86.4318 790.635 Q84.6031 792.787 84.6031 796.537 Q84.6031 800.264 86.4318 802.44 Q88.2836 804.593 91.4317 804.593 Q94.5799 804.593 96.4085 802.44 Q98.2604 800.264 98.2604 796.537 Q98.2604 792.787 96.4085 790.635 Q94.5799 788.482 91.4317 788.482 M100.714 773.829 L100.714 778.088 Q98.9548 777.255 97.1493 776.815 Q95.3669 776.375 93.6076 776.375 Q88.978 776.375 86.5243 779.5 Q84.0938 782.625 83.7466 788.945 Q85.1123 786.931 87.1725 785.866 Q89.2327 784.778 91.7095 784.778 Q96.9178 784.778 99.927 787.949 Q102.959 791.098 102.959 796.537 Q102.959 801.861 99.8113 805.079 Q96.6632 808.297 91.4317 808.297 Q85.4364 808.297 82.2651 803.713 Q79.0938 799.107 79.0938 790.38 Q79.0938 782.186 82.9827 777.325 Q86.8716 772.44 93.4225 772.44 Q95.1817 772.44 96.9641 772.788 Q98.7696 773.135 100.714 773.829 Z\" fill=\"#000000\" fill-rule=\"evenodd\" fill-opacity=\"1\" /><path clip-path=\"url(#clip710)\" d=\"M91.1077 505.792 Q87.7743 505.792 85.8531 507.574 Q83.9549 509.357 83.9549 512.482 Q83.9549 515.607 85.8531 517.389 Q87.7743 519.172 91.1077 519.172 Q94.441 519.172 96.3623 517.389 Q98.2835 515.584 98.2835 512.482 Q98.2835 509.357 96.3623 507.574 Q94.4641 505.792 91.1077 505.792 M86.4318 503.801 Q83.4225 503.061 81.7327 501 Q80.066 498.94 80.066 495.977 Q80.066 491.834 83.0058 489.426 Q85.9688 487.019 91.1077 487.019 Q96.2697 487.019 99.2095 489.426 Q102.149 491.834 102.149 495.977 Q102.149 498.94 100.459 501 Q98.7928 503.061 95.8067 503.801 Q99.1863 504.588 101.061 506.88 Q102.959 509.172 102.959 512.482 Q102.959 517.505 99.8808 520.19 Q96.8252 522.875 91.1077 522.875 Q85.3901 522.875 82.3114 520.19 Q79.2559 517.505 79.2559 512.482 Q79.2559 509.172 81.154 506.88 Q83.0521 504.588 86.4318 503.801 M84.7188 496.417 Q84.7188 499.102 86.3855 500.607 Q88.0753 502.112 91.1077 502.112 Q94.1169 502.112 95.8067 500.607 Q97.5197 499.102 97.5197 496.417 Q97.5197 493.732 95.8067 492.227 Q94.1169 490.723 91.1077 490.723 Q88.0753 490.723 86.3855 492.227 Q84.7188 493.732 84.7188 496.417 Z\" fill=\"#000000\" fill-rule=\"evenodd\" fill-opacity=\"1\" /><path clip-path=\"url(#clip710)\" d=\"M51.6634 232.847 L59.3023 232.847 L59.3023 206.482 L50.9921 208.149 L50.9921 203.889 L59.256 202.223 L63.9319 202.223 L63.9319 232.847 L71.5707 232.847 L71.5707 236.783 L51.6634 236.783 L51.6634 232.847 Z\" fill=\"#000000\" fill-rule=\"evenodd\" fill-opacity=\"1\" /><path clip-path=\"url(#clip710)\" d=\"M91.0151 205.301 Q87.404 205.301 85.5753 208.866 Q83.7697 212.408 83.7697 219.537 Q83.7697 226.644 85.5753 230.209 Q87.404 233.75 91.0151 233.75 Q94.6493 233.75 96.4548 230.209 Q98.2835 226.644 98.2835 219.537 Q98.2835 212.408 96.4548 208.866 Q94.6493 205.301 91.0151 205.301 M91.0151 201.598 Q96.8252 201.598 99.8808 206.204 Q102.959 210.787 102.959 219.537 Q102.959 228.264 99.8808 232.871 Q96.8252 237.454 91.0151 237.454 Q85.2049 237.454 82.1262 232.871 Q79.0707 228.264 79.0707 219.537 Q79.0707 210.787 82.1262 206.204 Q85.2049 201.598 91.0151 201.598 Z\" fill=\"#000000\" fill-rule=\"evenodd\" fill-opacity=\"1\" /><path clip-path=\"url(#clip710)\" d=\"M750.371 63.9476 L750.371 47.7034 L737.003 47.7034 L737.003 40.9789 L758.473 40.9789 L758.473 66.9452 Q753.734 70.3075 748.022 72.0494 Q742.31 73.7508 735.829 73.7508 Q721.65 73.7508 713.63 65.4869 Q705.649 57.1826 705.649 42.3968 Q705.649 27.5705 713.63 19.3066 Q721.65 11.0023 735.829 11.0023 Q741.743 11.0023 747.05 12.4606 Q752.397 13.9189 756.893 16.7545 L756.893 25.464 Q752.356 21.6156 747.252 19.6712 Q742.148 17.7268 736.517 17.7268 Q725.418 17.7268 719.828 23.9246 Q714.278 30.1225 714.278 42.3968 Q714.278 54.6305 719.828 60.8284 Q725.418 67.0263 736.517 67.0263 Q740.852 67.0263 744.254 66.2971 Q747.657 65.5274 750.371 63.9476 Z\" fill=\"#000000\" fill-rule=\"evenodd\" fill-opacity=\"1\" /><path clip-path=\"url(#clip710)\" d=\"M773.421 12.096 L811.662 12.096 L811.662 18.9825 L781.604 18.9825 L781.604 36.8875 L810.406 36.8875 L810.406 43.7741 L781.604 43.7741 L781.604 65.6895 L812.391 65.6895 L812.391 72.576 L773.421 72.576 L773.421 12.096 Z\" fill=\"#000000\" fill-rule=\"evenodd\" fill-opacity=\"1\" /><path clip-path=\"url(#clip710)\" d=\"M859.098 65.7705 L859.098 89.8329 L851.603 89.8329 L851.603 27.2059 L859.098 27.2059 L859.098 34.0924 Q861.447 30.0415 865.012 28.0971 Q868.617 26.1121 873.6 26.1121 Q881.864 26.1121 887.008 32.6746 Q892.193 39.2371 892.193 49.9314 Q892.193 60.6258 887.008 67.1883 Q881.864 73.7508 873.6 73.7508 Q868.617 73.7508 865.012 71.8063 Q861.447 69.8214 859.098 65.7705 M884.456 49.9314 Q884.456 41.7081 881.053 37.0496 Q877.691 32.3505 871.777 32.3505 Q865.863 32.3505 862.46 37.0496 Q859.098 41.7081 859.098 49.9314 Q859.098 58.1548 862.46 62.8538 Q865.863 67.5124 871.777 67.5124 Q877.691 67.5124 881.053 62.8538 Q884.456 58.1548 884.456 49.9314 Z\" fill=\"#000000\" fill-rule=\"evenodd\" fill-opacity=\"1\" /><path clip-path=\"url(#clip710)\" d=\"M930.839 34.1734 Q929.583 33.4443 928.084 33.1202 Q926.626 32.7556 924.844 32.7556 Q918.524 32.7556 915.122 36.8875 Q911.759 40.9789 911.759 48.6757 L911.759 72.576 L904.265 72.576 L904.265 27.2059 L911.759 27.2059 L911.759 34.2544 Q914.109 30.1225 917.876 28.1376 Q921.644 26.1121 927.031 26.1121 Q927.801 26.1121 928.733 26.2337 Q929.664 26.3147 930.799 26.5172 L930.839 34.1734 Z\" fill=\"#000000\" fill-rule=\"evenodd\" fill-opacity=\"1\" /><path clip-path=\"url(#clip710)\" d=\"M938.657 27.2059 L946.111 27.2059 L946.111 72.576 L938.657 72.576 L938.657 27.2059 M938.657 9.54393 L946.111 9.54393 L946.111 18.9825 L938.657 18.9825 L938.657 9.54393 Z\" fill=\"#000000\" fill-rule=\"evenodd\" fill-opacity=\"1\" /><path clip-path=\"url(#clip710)\" d=\"M994.357 28.9478 L994.357 35.9153 Q991.198 34.1734 987.997 33.3227 Q984.838 32.4315 981.597 32.4315 Q974.346 32.4315 970.335 37.0496 Q966.325 41.6271 966.325 49.9314 Q966.325 58.2358 970.335 62.8538 Q974.346 67.4314 981.597 67.4314 Q984.838 67.4314 987.997 66.5807 Q991.198 65.6895 994.357 63.9476 L994.357 70.8341 Q991.238 72.2924 987.876 73.0216 Q984.554 73.7508 980.787 73.7508 Q970.538 73.7508 964.502 67.3098 Q958.466 60.8689 958.466 49.9314 Q958.466 38.832 964.543 32.472 Q970.659 26.1121 981.273 26.1121 Q984.716 26.1121 987.997 26.8413 Q991.279 27.5299 994.357 28.9478 Z\" fill=\"#000000\" fill-rule=\"evenodd\" fill-opacity=\"1\" /><path clip-path=\"url(#clip710)\" d=\"M1046.13 48.0275 L1046.13 51.6733 L1011.86 51.6733 Q1012.34 59.3701 1016.48 63.421 Q1020.65 67.4314 1028.06 67.4314 Q1032.35 67.4314 1036.37 66.3781 Q1040.42 65.3249 1044.39 63.2184 L1044.39 70.267 Q1040.38 71.9684 1036.16 72.8596 Q1031.95 73.7508 1027.62 73.7508 Q1016.76 73.7508 1010.4 67.4314 Q1004.08 61.1119 1004.08 50.3365 Q1004.08 39.1965 1010.07 32.6746 Q1016.11 26.1121 1026.32 26.1121 Q1035.47 26.1121 1040.78 32.0264 Q1046.13 37.9003 1046.13 48.0275 M1038.67 45.84 Q1038.59 39.7232 1035.23 36.0774 Q1031.91 32.4315 1026.4 32.4315 Q1020.16 32.4315 1016.39 35.9558 Q1012.67 39.4801 1012.1 45.8805 L1038.67 45.84 Z\" fill=\"#000000\" fill-rule=\"evenodd\" fill-opacity=\"1\" /><path clip-path=\"url(#clip710)\" d=\"M1087.29 28.5427 L1087.29 35.5912 Q1084.13 33.9709 1080.72 33.1607 Q1077.32 32.3505 1073.67 32.3505 Q1068.12 32.3505 1065.33 34.0519 Q1062.57 35.7533 1062.57 39.156 Q1062.57 41.7486 1064.56 43.2475 Q1066.54 44.7058 1072.54 46.0426 L1075.09 46.6097 Q1083.03 48.3111 1086.35 51.4303 Q1089.72 54.509 1089.72 60.0587 Q1089.72 66.3781 1084.69 70.0644 Q1079.71 73.7508 1070.96 73.7508 Q1067.31 73.7508 1063.34 73.0216 Q1059.41 72.3329 1055.04 70.9151 L1055.04 63.2184 Q1059.17 65.3654 1063.18 66.4591 Q1067.19 67.5124 1071.12 67.5124 Q1076.39 67.5124 1079.22 65.73 Q1082.06 63.9071 1082.06 60.6258 Q1082.06 57.5877 1079.99 55.9673 Q1077.97 54.3469 1071.04 52.8481 L1068.45 52.2405 Q1061.52 50.7821 1058.44 47.7845 Q1055.36 44.7463 1055.36 39.4801 Q1055.36 33.0797 1059.9 29.5959 Q1064.44 26.1121 1072.78 26.1121 Q1076.91 26.1121 1080.56 26.7198 Q1084.21 27.3274 1087.29 28.5427 Z\" fill=\"#000000\" fill-rule=\"evenodd\" fill-opacity=\"1\" /><path clip-path=\"url(#clip710)\" d=\"M1123.62 27.2059 L1131.08 27.2059 L1140.39 62.6108 L1149.67 27.2059 L1158.46 27.2059 L1167.78 62.6108 L1177.05 27.2059 L1184.51 27.2059 L1172.64 72.576 L1163.85 72.576 L1154.08 35.3887 L1144.28 72.576 L1135.49 72.576 L1123.62 27.2059 Z\" fill=\"#000000\" fill-rule=\"evenodd\" fill-opacity=\"1\" /><path clip-path=\"url(#clip710)\" d=\"M1195.81 27.2059 L1203.26 27.2059 L1203.26 72.576 L1195.81 72.576 L1195.81 27.2059 M1195.81 9.54393 L1203.26 9.54393 L1203.26 18.9825 L1195.81 18.9825 L1195.81 9.54393 Z\" fill=\"#000000\" fill-rule=\"evenodd\" fill-opacity=\"1\" /><path clip-path=\"url(#clip710)\" d=\"M1226.23 14.324 L1226.23 27.2059 L1241.58 27.2059 L1241.58 32.9987 L1226.23 32.9987 L1226.23 57.6282 Q1226.23 63.1779 1227.73 64.7578 Q1229.27 66.3376 1233.93 66.3376 L1241.58 66.3376 L1241.58 72.576 L1233.93 72.576 Q1225.3 72.576 1222.02 69.3758 Q1218.74 66.1351 1218.74 57.6282 L1218.74 32.9987 L1213.27 32.9987 L1213.27 27.2059 L1218.74 27.2059 L1218.74 14.324 L1226.23 14.324 Z\" fill=\"#000000\" fill-rule=\"evenodd\" fill-opacity=\"1\" /><path clip-path=\"url(#clip710)\" d=\"M1289.1 45.1919 L1289.1 72.576 L1281.65 72.576 L1281.65 45.4349 Q1281.65 38.994 1279.14 35.7938 Q1276.62 32.5936 1271.6 32.5936 Q1265.57 32.5936 1262.08 36.4419 Q1258.6 40.2903 1258.6 46.9338 L1258.6 72.576 L1251.1 72.576 L1251.1 9.54393 L1258.6 9.54393 L1258.6 34.2544 Q1261.27 30.163 1264.88 28.1376 Q1268.52 26.1121 1273.26 26.1121 Q1281.08 26.1121 1285.09 30.9732 Q1289.1 35.7938 1289.1 45.1919 Z\" fill=\"#000000\" fill-rule=\"evenodd\" fill-opacity=\"1\" /><path clip-path=\"url(#clip710)\" d=\"M1356.18 39.9662 Q1362.06 41.222 1365.34 45.1919 Q1368.66 49.1618 1368.66 54.9951 Q1368.66 63.9476 1362.5 68.8492 Q1356.35 73.7508 1345 73.7508 Q1341.2 73.7508 1337.14 72.9811 Q1333.13 72.2519 1328.84 70.7531 L1328.84 62.8538 Q1332.24 64.8388 1336.29 65.8515 Q1340.35 66.8642 1344.76 66.8642 Q1352.46 66.8642 1356.47 63.826 Q1360.52 60.7879 1360.52 54.9951 Q1360.52 49.6479 1356.75 46.6502 Q1353.02 43.612 1346.34 43.612 L1339.29 43.612 L1339.29 36.8875 L1346.66 36.8875 Q1352.7 36.8875 1355.9 34.4975 Q1359.1 32.067 1359.1 27.5299 Q1359.1 22.8714 1355.78 20.4004 Q1352.5 17.8888 1346.34 17.8888 Q1342.98 17.8888 1339.13 18.618 Q1335.28 19.3471 1330.66 20.8865 L1330.66 13.5948 Q1335.32 12.2985 1339.37 11.6504 Q1343.46 11.0023 1347.07 11.0023 Q1356.39 11.0023 1361.81 15.2557 Q1367.24 19.4686 1367.24 26.6793 Q1367.24 31.7024 1364.37 35.1862 Q1361.49 38.6294 1356.18 39.9662 Z\" fill=\"#000000\" fill-rule=\"evenodd\" fill-opacity=\"1\" /><path clip-path=\"url(#clip710)\" d=\"M1401.68 17.4837 Q1395.36 17.4837 1392.16 23.7221 Q1389 29.92 1389 42.3968 Q1389 54.833 1392.16 61.0714 Q1395.36 67.2693 1401.68 67.2693 Q1408.04 67.2693 1411.2 61.0714 Q1414.4 54.833 1414.4 42.3968 Q1414.4 29.92 1411.2 23.7221 Q1408.04 17.4837 1401.68 17.4837 M1401.68 11.0023 Q1411.84 11.0023 1417.19 19.0636 Q1422.58 27.0843 1422.58 42.3968 Q1422.58 57.6687 1417.19 65.73 Q1411.84 73.7508 1401.68 73.7508 Q1391.51 73.7508 1386.12 65.73 Q1380.77 57.6687 1380.77 42.3968 Q1380.77 27.0843 1386.12 19.0636 Q1391.51 11.0023 1401.68 11.0023 Z\" fill=\"#000000\" fill-rule=\"evenodd\" fill-opacity=\"1\" /><path clip-path=\"url(#clip710)\" d=\"M1454.46 17.4837 Q1448.14 17.4837 1444.94 23.7221 Q1441.78 29.92 1441.78 42.3968 Q1441.78 54.833 1444.94 61.0714 Q1448.14 67.2693 1454.46 67.2693 Q1460.82 67.2693 1463.98 61.0714 Q1467.18 54.833 1467.18 42.3968 Q1467.18 29.92 1463.98 23.7221 Q1460.82 17.4837 1454.46 17.4837 M1454.46 11.0023 Q1464.63 11.0023 1469.97 19.0636 Q1475.36 27.0843 1475.36 42.3968 Q1475.36 57.6687 1469.97 65.73 Q1464.63 73.7508 1454.46 73.7508 Q1444.29 73.7508 1438.9 65.73 Q1433.56 57.6687 1433.56 42.3968 Q1433.56 27.0843 1438.9 19.0636 Q1444.29 11.0023 1454.46 11.0023 Z\" fill=\"#000000\" fill-rule=\"evenodd\" fill-opacity=\"1\" /><path clip-path=\"url(#clip710)\" d=\"M1535.68 49.7694 Q1526.65 49.7694 1523.16 51.8354 Q1519.68 53.9013 1519.68 58.8839 Q1519.68 62.8538 1522.27 65.2034 Q1524.9 67.5124 1529.4 67.5124 Q1535.6 67.5124 1539.33 63.1374 Q1543.09 58.7219 1543.09 51.4303 L1543.09 49.7694 L1535.68 49.7694 M1550.55 46.6907 L1550.55 72.576 L1543.09 72.576 L1543.09 65.6895 Q1540.54 69.8214 1536.73 71.8063 Q1532.93 73.7508 1527.42 73.7508 Q1520.45 73.7508 1516.32 69.8619 Q1512.22 65.9325 1512.22 59.3701 Q1512.22 51.7138 1517.33 47.825 Q1522.47 43.9361 1532.64 43.9361 L1543.09 43.9361 L1543.09 43.2069 Q1543.09 38.0623 1539.69 35.2672 Q1536.33 32.4315 1530.21 32.4315 Q1526.32 32.4315 1522.64 33.3632 Q1518.95 34.295 1515.55 36.1584 L1515.55 29.2718 Q1519.64 27.692 1523.49 26.9223 Q1527.33 26.1121 1530.98 26.1121 Q1540.82 26.1121 1545.69 31.2163 Q1550.55 36.3204 1550.55 46.6907 Z\" fill=\"#000000\" fill-rule=\"evenodd\" fill-opacity=\"1\" /><path clip-path=\"url(#clip710)\" d=\"M1595.75 49.3643 Q1595.75 41.2625 1592.39 36.8065 Q1589.07 32.3505 1583.03 32.3505 Q1577.04 32.3505 1573.68 36.8065 Q1570.36 41.2625 1570.36 49.3643 Q1570.36 57.4256 1573.68 61.8816 Q1577.04 66.3376 1583.03 66.3376 Q1589.07 66.3376 1592.39 61.8816 Q1595.75 57.4256 1595.75 49.3643 M1603.21 66.9452 Q1603.21 78.5308 1598.06 84.1616 Q1592.92 89.8329 1582.31 89.8329 Q1578.38 89.8329 1574.89 89.2252 Q1571.41 88.6581 1568.13 87.4428 L1568.13 80.1917 Q1571.41 81.9741 1574.61 82.8248 Q1577.81 83.6755 1581.13 83.6755 Q1588.46 83.6755 1592.11 79.8271 Q1595.75 76.0193 1595.75 68.282 L1595.75 64.5957 Q1593.45 68.6061 1589.84 70.5911 Q1586.23 72.576 1581.21 72.576 Q1572.87 72.576 1567.76 66.2161 Q1562.66 59.8562 1562.66 49.3643 Q1562.66 38.832 1567.76 32.472 Q1572.87 26.1121 1581.21 26.1121 Q1586.23 26.1121 1589.84 28.0971 Q1593.45 30.082 1595.75 34.0924 L1595.75 27.2059 L1603.21 27.2059 L1603.21 66.9452 Z\" fill=\"#000000\" fill-rule=\"evenodd\" fill-opacity=\"1\" /><path clip-path=\"url(#clip710)\" d=\"M1657.37 48.0275 L1657.37 51.6733 L1623.1 51.6733 Q1623.58 59.3701 1627.72 63.421 Q1631.89 67.4314 1639.3 67.4314 Q1643.6 67.4314 1647.61 66.3781 Q1651.66 65.3249 1655.63 63.2184 L1655.63 70.267 Q1651.62 71.9684 1647.4 72.8596 Q1643.19 73.7508 1638.86 73.7508 Q1628 73.7508 1621.64 67.4314 Q1615.32 61.1119 1615.32 50.3365 Q1615.32 39.1965 1621.32 32.6746 Q1627.35 26.1121 1637.56 26.1121 Q1646.71 26.1121 1652.02 32.0264 Q1657.37 37.9003 1657.37 48.0275 M1649.92 45.84 Q1649.83 39.7232 1646.47 36.0774 Q1643.15 32.4315 1637.64 32.4315 Q1631.4 32.4315 1627.64 35.9558 Q1623.91 39.4801 1623.34 45.8805 L1649.92 45.84 Z\" fill=\"#000000\" fill-rule=\"evenodd\" fill-opacity=\"1\" /><path clip-path=\"url(#clip710)\" d=\"M1707.32 45.1919 L1707.32 72.576 L1699.86 72.576 L1699.86 45.4349 Q1699.86 38.994 1697.35 35.7938 Q1694.84 32.5936 1689.82 32.5936 Q1683.78 32.5936 1680.3 36.4419 Q1676.81 40.2903 1676.81 46.9338 L1676.81 72.576 L1669.32 72.576 L1669.32 27.2059 L1676.81 27.2059 L1676.81 34.2544 Q1679.49 30.163 1683.09 28.1376 Q1686.74 26.1121 1691.48 26.1121 Q1699.3 26.1121 1703.31 30.9732 Q1707.32 35.7938 1707.32 45.1919 Z\" fill=\"#000000\" fill-rule=\"evenodd\" fill-opacity=\"1\" /><path clip-path=\"url(#clip710)\" d=\"M1729.56 14.324 L1729.56 27.2059 L1744.91 27.2059 L1744.91 32.9987 L1729.56 32.9987 L1729.56 57.6282 Q1729.56 63.1779 1731.05 64.7578 Q1732.59 66.3376 1737.25 66.3376 L1744.91 66.3376 L1744.91 72.576 L1737.25 72.576 Q1728.62 72.576 1725.34 69.3758 Q1722.06 66.1351 1722.06 57.6282 L1722.06 32.9987 L1716.59 32.9987 L1716.59 27.2059 L1722.06 27.2059 L1722.06 14.324 L1729.56 14.324 Z\" fill=\"#000000\" fill-rule=\"evenodd\" fill-opacity=\"1\" /><path clip-path=\"url(#clip710)\" d=\"M1783.64 28.5427 L1783.64 35.5912 Q1780.48 33.9709 1777.07 33.1607 Q1773.67 32.3505 1770.02 32.3505 Q1764.47 32.3505 1761.68 34.0519 Q1758.92 35.7533 1758.92 39.156 Q1758.92 41.7486 1760.91 43.2475 Q1762.89 44.7058 1768.89 46.0426 L1771.44 46.6097 Q1779.38 48.3111 1782.7 51.4303 Q1786.07 54.509 1786.07 60.0587 Q1786.07 66.3781 1781.04 70.0644 Q1776.06 73.7508 1767.31 73.7508 Q1763.66 73.7508 1759.69 73.0216 Q1755.77 72.3329 1751.39 70.9151 L1751.39 63.2184 Q1755.52 65.3654 1759.53 66.4591 Q1763.54 67.5124 1767.47 67.5124 Q1772.74 67.5124 1775.57 65.73 Q1778.41 63.9071 1778.41 60.6258 Q1778.41 57.5877 1776.34 55.9673 Q1774.32 54.3469 1767.39 52.8481 L1764.8 52.2405 Q1757.87 50.7821 1754.79 47.7845 Q1751.71 44.7463 1751.71 39.4801 Q1751.71 33.0797 1756.25 29.5959 Q1760.79 26.1121 1769.13 26.1121 Q1773.27 26.1121 1776.91 26.7198 Q1780.56 27.3274 1783.64 28.5427 Z\" fill=\"#000000\" fill-rule=\"evenodd\" fill-opacity=\"1\" /><polyline clip-path=\"url(#clip712)\" style=\"stroke:#009af9; stroke-linecap:butt; stroke-linejoin:round; stroke-width:4; stroke-opacity:1; fill:none\" points=\"\n  201.614,1075.77 205.799,1106.8 209.985,1136.77 214.17,1165.44 218.355,1192.75 222.541,1218.66 226.726,1243.09 230.911,1266.01 235.097,1287.36 239.282,1307.13 \n  243.468,1325.28 247.653,1341.82 251.838,1356.76 256.024,1370.13 260.209,1381.99 264.394,1392.4 268.58,1401.46 272.765,1409.27 276.95,1415.95 281.136,1421.6 \n  285.321,1426.35 289.506,1430.32 293.692,1433.61 297.877,1436.33 302.062,1438.55 306.248,1440.37 310.433,1441.86 314.618,1443.06 318.804,1444.03 322.989,1444.82 \n  327.174,1445.45 331.36,1445.96 335.545,1446.37 339.73,1446.69 343.916,1446.95 348.101,1447.16 352.286,1447.32 356.472,1447.45 360.657,1447.56 364.843,1447.64 \n  369.028,1447.7 373.213,1447.75 377.399,1447.79 381.584,1447.81 385.769,1447.83 389.955,1447.85 394.14,1447.86 398.325,1447.87 402.511,1447.87 406.696,1447.87 \n  410.881,1447.87 415.067,1447.87 419.252,1447.87 423.437,1447.87 427.623,1447.86 431.808,1447.86 435.993,1447.85 440.179,1447.85 444.364,1447.84 448.549,1447.84 \n  452.735,1447.83 456.92,1447.83 461.105,1447.82 465.291,1447.82 469.476,1447.81 473.661,1447.81 477.847,1447.8 482.032,1447.8 486.218,1447.79 490.403,1447.79 \n  494.588,1447.78 498.774,1447.78 502.959,1447.78 507.144,1447.77 511.33,1447.77 515.515,1447.76 519.7,1447.76 523.886,1447.76 528.071,1447.75 532.256,1447.75 \n  536.442,1447.75 540.627,1447.74 544.812,1447.74 548.998,1447.74 553.183,1447.73 557.368,1447.73 561.554,1447.73 565.739,1447.73 569.924,1447.72 574.11,1447.72 \n  578.295,1447.72 582.48,1447.72 586.666,1447.71 590.851,1447.71 595.037,1447.71 599.222,1447.71 603.407,1447.71 607.593,1447.7 611.778,1447.7 615.963,1447.7 \n  620.149,1447.7 624.334,1447.7 628.519,1447.7 632.705,1447.69 636.89,1447.69 641.075,1447.69 645.261,1447.69 649.446,1447.69 653.631,1447.69 657.817,1447.69 \n  662.002,1447.68 666.187,1447.68 670.373,1447.68 674.558,1447.68 678.743,1447.68 682.929,1447.68 687.114,1447.68 691.299,1447.68 695.485,1447.67 699.67,1447.67 \n  703.855,1447.67 708.041,1447.67 712.226,1447.67 716.412,1447.67 720.597,1447.67 724.782,1447.67 728.968,1447.67 733.153,1447.67 737.338,1447.67 741.524,1447.67 \n  745.709,1447.66 749.894,1447.66 754.08,1447.66 758.265,1447.66 762.45,1447.66 766.636,1447.66 770.821,1447.66 775.006,1447.66 779.192,1447.66 783.377,1447.66 \n  787.562,1447.66 791.748,1447.66 795.933,1447.66 800.118,1447.66 804.304,1447.66 808.489,1447.66 812.674,1447.66 816.86,1447.66 821.045,1447.66 825.23,1447.65 \n  829.416,1447.65 833.601,1447.65 837.787,1447.65 841.972,1447.65 846.157,1447.65 850.343,1447.65 854.528,1447.65 858.713,1447.65 862.899,1447.65 867.084,1447.65 \n  871.269,1447.65 875.455,1447.65 879.64,1447.65 883.825,1447.65 888.011,1447.65 892.196,1447.65 896.381,1447.65 900.567,1447.65 904.752,1447.65 908.937,1447.65 \n  913.123,1447.65 917.308,1447.65 921.493,1447.65 925.679,1447.65 929.864,1447.65 934.049,1447.65 938.235,1447.65 942.42,1447.65 946.605,1447.65 950.791,1447.65 \n  954.976,1447.65 959.162,1447.65 963.347,1447.65 967.532,1447.65 971.718,1447.65 975.903,1447.65 980.088,1447.65 984.274,1447.65 988.459,1447.65 992.644,1447.65 \n  996.83,1447.65 1001.01,1447.65 1005.2,1447.65 1009.39,1447.65 1013.57,1447.65 1017.76,1447.65 1021.94,1447.65 1026.13,1447.65 1030.31,1447.65 1034.5,1447.64 \n  1038.68,1447.64 1042.87,1447.64 1047.05,1447.64 1051.24,1447.64 1055.42,1447.64 1059.61,1447.64 1063.8,1447.64 1067.98,1447.64 1072.17,1447.64 1076.35,1447.64 \n  1080.54,1447.64 1084.72,1447.64 1088.91,1447.64 1093.09,1447.64 1097.28,1447.64 1101.46,1447.64 1105.65,1447.64 1109.83,1447.64 1114.02,1447.64 1118.2,1447.64 \n  1122.39,1447.64 1126.58,1447.64 1130.76,1447.64 1134.95,1447.64 1139.13,1447.64 1143.32,1447.64 1147.5,1447.64 1151.69,1447.64 1155.87,1447.64 1160.06,1447.64 \n  1164.24,1447.64 1168.43,1447.64 1172.61,1447.64 1176.8,1447.64 1180.98,1447.64 1185.17,1447.64 1189.36,1447.64 1193.54,1447.64 1197.73,1447.64 1201.91,1447.64 \n  1206.1,1447.64 1210.28,1447.64 1214.47,1447.64 1218.65,1447.64 1222.84,1447.64 1227.02,1447.64 1231.21,1447.64 1235.39,1447.64 1239.58,1447.64 1243.77,1447.64 \n  1247.95,1447.64 1252.14,1447.64 1256.32,1447.64 1260.51,1447.64 1264.69,1447.64 1268.88,1447.64 1273.06,1447.64 1277.25,1447.64 1281.43,1447.64 1285.62,1447.64 \n  1289.8,1447.64 1293.99,1447.64 1298.17,1447.64 1302.36,1447.64 1306.55,1447.64 1310.73,1447.64 1314.92,1447.64 1319.1,1447.64 1323.29,1447.64 1327.47,1447.64 \n  1331.66,1447.64 1335.84,1447.64 1340.03,1447.64 1344.21,1447.64 1348.4,1447.64 1352.58,1447.64 1356.77,1447.64 1360.95,1447.64 1365.14,1447.64 1369.33,1447.64 \n  1373.51,1447.64 1377.7,1447.64 1381.88,1447.64 1386.07,1447.64 1390.25,1447.64 1394.44,1447.64 1398.62,1447.64 1402.81,1447.64 1406.99,1447.64 1411.18,1447.64 \n  1415.36,1447.64 1419.55,1447.64 1423.73,1447.64 1427.92,1447.64 1432.11,1447.64 1436.29,1447.64 1440.48,1447.64 1444.66,1447.64 1448.85,1447.64 1453.03,1447.64 \n  1457.22,1447.64 1461.4,1447.64 1465.59,1447.64 1469.77,1447.64 1473.96,1447.64 1478.14,1447.64 1482.33,1447.64 1486.52,1447.64 1490.7,1447.64 1494.89,1447.64 \n  1499.07,1447.64 1503.26,1447.64 1507.44,1447.64 1511.63,1447.64 1515.81,1447.64 1520,1447.64 1524.18,1447.64 1528.37,1447.64 1532.55,1447.64 1536.74,1447.64 \n  1540.92,1447.64 1545.11,1447.64 1549.3,1447.64 1553.48,1447.64 1557.67,1447.64 1561.85,1447.64 1566.04,1447.64 1570.22,1447.64 1574.41,1447.64 1578.59,1447.64 \n  1582.78,1447.64 1586.96,1447.64 1591.15,1447.64 1595.33,1447.64 1599.52,1447.64 1603.7,1447.64 1607.89,1447.64 1612.08,1447.64 1616.26,1447.64 1620.45,1447.64 \n  1624.63,1447.64 1628.82,1447.64 1633,1447.64 1637.19,1447.64 1641.37,1447.64 1645.56,1447.64 1649.74,1447.64 1653.93,1447.64 1658.11,1447.64 1662.3,1447.64 \n  1666.48,1447.64 1670.67,1447.64 1674.86,1447.64 1679.04,1447.64 1683.23,1447.64 1687.41,1447.64 1691.6,1447.64 1695.78,1447.64 1699.97,1447.64 1704.15,1447.64 \n  1708.34,1447.64 1712.52,1447.64 1716.71,1447.64 1720.89,1447.64 1725.08,1447.64 1729.27,1447.64 1733.45,1447.64 1737.64,1447.64 1741.82,1447.64 1746.01,1447.64 \n  1750.19,1447.64 1754.38,1447.64 1758.56,1447.64 1762.75,1447.64 1766.93,1447.64 1771.12,1447.64 1775.3,1447.64 1779.49,1447.64 1783.67,1447.64 1787.86,1447.64 \n  1792.05,1447.64 1796.23,1447.64 1800.42,1447.64 1804.6,1447.64 1808.79,1447.64 1812.97,1447.64 1817.16,1447.64 1821.34,1447.64 1825.53,1447.64 1829.71,1447.64 \n  1833.9,1447.64 1838.08,1447.64 1842.27,1447.64 1846.45,1447.64 1850.64,1447.64 1854.83,1447.64 1859.01,1447.64 1863.2,1447.64 1867.38,1447.64 1871.57,1447.64 \n  1875.75,1447.64 1879.94,1447.64 1884.12,1447.64 1888.31,1447.64 1892.49,1447.64 1896.68,1447.64 1900.86,1447.64 1905.05,1447.64 1909.23,1447.64 1913.42,1447.64 \n  1917.61,1447.64 1921.79,1447.64 1925.98,1447.64 1930.16,1447.64 1934.35,1447.64 1938.53,1447.64 1942.72,1447.64 1946.9,1447.64 1951.09,1447.64 1955.27,1447.64 \n  1959.46,1447.64 1963.64,1447.64 1967.83,1447.64 1972.02,1447.64 1976.2,1447.64 1980.39,1447.64 1984.57,1447.64 1988.76,1447.64 1992.94,1447.64 1997.13,1447.64 \n  2001.31,1447.64 2005.5,1447.64 2009.68,1447.64 2013.87,1447.64 2018.05,1447.64 2022.24,1447.64 2026.42,1447.64 2030.61,1447.64 2034.8,1447.64 2038.98,1447.64 \n  2043.17,1447.64 2047.35,1447.64 2051.54,1447.64 2055.72,1447.64 2059.91,1447.64 2064.09,1447.64 2068.28,1447.64 2072.46,1447.64 2076.65,1447.64 2080.83,1447.64 \n  2085.02,1447.64 2089.2,1447.64 2093.39,1447.64 2097.58,1447.64 2101.76,1447.64 2105.95,1447.64 2110.13,1447.64 2114.32,1447.64 2118.5,1447.64 2122.69,1447.64 \n  2126.87,1447.64 2131.06,1447.64 2135.24,1447.64 2139.43,1447.64 2143.61,1447.64 2147.8,1447.64 2151.98,1447.64 2156.17,1447.64 2160.36,1447.64 2164.54,1447.64 \n  2168.73,1447.64 2172.91,1447.64 2177.1,1447.64 2181.28,1447.64 2185.47,1447.64 2189.65,1447.64 2193.84,1447.64 2198.02,1447.64 2202.21,1447.64 2206.39,1447.64 \n  2210.58,1447.64 2214.77,1447.64 2218.95,1447.64 2223.14,1447.64 2227.32,1447.64 2231.51,1447.64 2235.69,1447.64 2239.88,1447.64 2244.06,1447.64 2248.25,1447.64 \n  2252.43,1447.64 2256.62,1447.64 2260.8,1447.64 2264.99,1447.64 2269.17,1447.64 2273.36,1447.64 2277.55,1447.64 2281.73,1447.64 2285.92,1447.64 2290.1,1447.64 \n  \n  \"/>\n<polyline clip-path=\"url(#clip712)\" style=\"stroke:#e26f46; stroke-linecap:butt; stroke-linejoin:round; stroke-width:4; stroke-opacity:1; fill:none\" points=\"\n  201.614,933.056 205.799,923.696 209.985,915.311 214.17,907.747 218.355,900.941 222.541,894.834 226.726,889.373 230.911,884.504 235.097,880.178 239.282,876.346 \n  243.468,872.963 247.653,869.984 251.838,867.369 256.024,865.077 260.209,863.071 264.394,861.316 268.58,859.781 272.765,858.436 276.95,857.255 281.136,856.214 \n  285.321,855.293 289.506,854.473 293.692,853.74 297.877,853.08 302.062,852.482 306.248,851.937 310.433,851.436 314.618,850.973 318.804,850.542 322.989,850.14 \n  327.174,849.762 331.36,849.406 335.545,849.068 339.73,848.747 343.916,848.441 348.101,848.149 352.286,847.868 356.472,847.599 360.657,847.341 364.843,847.092 \n  369.028,846.852 373.213,846.62 377.399,846.397 381.584,846.181 385.769,845.972 389.955,845.77 394.14,845.574 398.325,845.385 402.511,845.202 406.696,845.024 \n  410.881,844.852 415.067,844.686 419.252,844.525 423.437,844.368 427.623,844.217 431.808,844.07 435.993,843.928 440.179,843.79 444.364,843.656 448.549,843.526 \n  452.735,843.401 456.92,843.279 461.105,843.161 465.291,843.046 469.476,842.935 473.661,842.828 477.847,842.723 482.032,842.622 486.218,842.524 490.403,842.429 \n  494.588,842.336 498.774,842.247 502.959,842.16 507.144,842.076 511.33,841.995 515.515,841.916 519.7,841.839 523.886,841.765 528.071,841.692 532.256,841.623 \n  536.442,841.555 540.627,841.489 544.812,841.425 548.998,841.363 553.183,841.304 557.368,841.245 561.554,841.189 565.739,841.134 569.924,841.081 574.11,841.03 \n  578.295,840.98 582.48,840.932 586.666,840.885 590.851,840.84 595.037,840.796 599.222,840.753 603.407,840.711 607.593,840.671 611.778,840.632 615.963,840.594 \n  620.149,840.558 624.334,840.522 628.519,840.488 632.705,840.454 636.89,840.422 641.075,840.391 645.261,840.36 649.446,840.331 653.631,840.302 657.817,840.274 \n  662.002,840.247 666.187,840.221 670.373,840.196 674.558,840.171 678.743,840.147 682.929,840.124 687.114,840.102 691.299,840.08 695.485,840.059 699.67,840.039 \n  703.855,840.019 708.041,840 712.226,839.981 716.412,839.963 720.597,839.945 724.782,839.928 728.968,839.912 733.153,839.896 737.338,839.88 741.524,839.865 \n  745.709,839.851 749.894,839.837 754.08,839.823 758.265,839.81 762.45,839.797 766.636,839.784 770.821,839.772 775.006,839.76 779.192,839.749 783.377,839.738 \n  787.562,839.727 791.748,839.717 795.933,839.707 800.118,839.697 804.304,839.687 808.489,839.678 812.674,839.669 816.86,839.661 821.045,839.652 825.23,839.644 \n  829.416,839.636 833.601,839.628 837.787,839.621 841.972,839.614 846.157,839.607 850.343,839.6 854.528,839.593 858.713,839.587 862.899,839.581 867.084,839.575 \n  871.269,839.569 875.455,839.564 879.64,839.558 883.825,839.553 888.011,839.548 892.196,839.543 896.381,839.538 900.567,839.533 904.752,839.529 908.937,839.524 \n  913.123,839.52 917.308,839.516 921.493,839.512 925.679,839.508 929.864,839.504 934.049,839.5 938.235,839.497 942.42,839.493 946.605,839.49 950.791,839.487 \n  954.976,839.484 959.162,839.481 963.347,839.478 967.532,839.475 971.718,839.472 975.903,839.469 980.088,839.467 984.274,839.464 988.459,839.462 992.644,839.459 \n  996.83,839.457 1001.01,839.455 1005.2,839.453 1009.39,839.45 1013.57,839.448 1017.76,839.446 1021.94,839.445 1026.13,839.443 1030.31,839.441 1034.5,839.439 \n  1038.68,839.437 1042.87,839.436 1047.05,839.434 1051.24,839.433 1055.42,839.431 1059.61,839.43 1063.8,839.428 1067.98,839.427 1072.17,839.426 1076.35,839.424 \n  1080.54,839.423 1084.72,839.422 1088.91,839.421 1093.09,839.419 1097.28,839.418 1101.46,839.417 1105.65,839.416 1109.83,839.415 1114.02,839.414 1118.2,839.413 \n  1122.39,839.412 1126.58,839.411 1130.76,839.411 1134.95,839.41 1139.13,839.409 1143.32,839.408 1147.5,839.407 1151.69,839.407 1155.87,839.406 1160.06,839.405 \n  1164.24,839.405 1168.43,839.404 1172.61,839.403 1176.8,839.403 1180.98,839.402 1185.17,839.401 1189.36,839.401 1193.54,839.4 1197.73,839.4 1201.91,839.399 \n  1206.1,839.399 1210.28,839.398 1214.47,839.398 1218.65,839.397 1222.84,839.397 1227.02,839.396 1231.21,839.396 1235.39,839.396 1239.58,839.395 1243.77,839.395 \n  1247.95,839.395 1252.14,839.394 1256.32,839.394 1260.51,839.393 1264.69,839.393 1268.88,839.393 1273.06,839.393 1277.25,839.392 1281.43,839.392 1285.62,839.392 \n  1289.8,839.391 1293.99,839.391 1298.17,839.391 1302.36,839.391 1306.55,839.39 1310.73,839.39 1314.92,839.39 1319.1,839.39 1323.29,839.39 1327.47,839.389 \n  1331.66,839.389 1335.84,839.389 1340.03,839.389 1344.21,839.389 1348.4,839.388 1352.58,839.388 1356.77,839.388 1360.95,839.388 1365.14,839.388 1369.33,839.388 \n  1373.51,839.387 1377.7,839.387 1381.88,839.387 1386.07,839.387 1390.25,839.387 1394.44,839.387 1398.62,839.387 1402.81,839.387 1406.99,839.386 1411.18,839.386 \n  1415.36,839.386 1419.55,839.386 1423.73,839.386 1427.92,839.386 1432.11,839.386 1436.29,839.386 1440.48,839.386 1444.66,839.386 1448.85,839.385 1453.03,839.385 \n  1457.22,839.385 1461.4,839.385 1465.59,839.385 1469.77,839.385 1473.96,839.385 1478.14,839.385 1482.33,839.385 1486.52,839.385 1490.7,839.385 1494.89,839.385 \n  1499.07,839.385 1503.26,839.385 1507.44,839.385 1511.63,839.384 1515.81,839.384 1520,839.384 1524.18,839.384 1528.37,839.384 1532.55,839.384 1536.74,839.384 \n  1540.92,839.384 1545.11,839.384 1549.3,839.384 1553.48,839.384 1557.67,839.384 1561.85,839.384 1566.04,839.384 1570.22,839.384 1574.41,839.384 1578.59,839.384 \n  1582.78,839.384 1586.96,839.384 1591.15,839.384 1595.33,839.384 1599.52,839.384 1603.7,839.384 1607.89,839.384 1612.08,839.384 1616.26,839.384 1620.45,839.384 \n  1624.63,839.383 1628.82,839.383 1633,839.383 1637.19,839.383 1641.37,839.383 1645.56,839.383 1649.74,839.383 1653.93,839.383 1658.11,839.383 1662.3,839.383 \n  1666.48,839.383 1670.67,839.383 1674.86,839.383 1679.04,839.383 1683.23,839.383 1687.41,839.383 1691.6,839.383 1695.78,839.383 1699.97,839.383 1704.15,839.383 \n  1708.34,839.383 1712.52,839.383 1716.71,839.383 1720.89,839.383 1725.08,839.383 1729.27,839.383 1733.45,839.383 1737.64,839.383 1741.82,839.383 1746.01,839.383 \n  1750.19,839.383 1754.38,839.383 1758.56,839.383 1762.75,839.383 1766.93,839.383 1771.12,839.383 1775.3,839.383 1779.49,839.383 1783.67,839.383 1787.86,839.383 \n  1792.05,839.383 1796.23,839.383 1800.42,839.383 1804.6,839.383 1808.79,839.383 1812.97,839.383 1817.16,839.383 1821.34,839.383 1825.53,839.383 1829.71,839.383 \n  1833.9,839.383 1838.08,839.383 1842.27,839.383 1846.45,839.383 1850.64,839.383 1854.83,839.383 1859.01,839.383 1863.2,839.383 1867.38,839.383 1871.57,839.383 \n  1875.75,839.383 1879.94,839.383 1884.12,839.383 1888.31,839.383 1892.49,839.383 1896.68,839.383 1900.86,839.383 1905.05,839.383 1909.23,839.383 1913.42,839.383 \n  1917.61,839.383 1921.79,839.383 1925.98,839.383 1930.16,839.383 1934.35,839.383 1938.53,839.383 1942.72,839.383 1946.9,839.383 1951.09,839.383 1955.27,839.383 \n  1959.46,839.383 1963.64,839.383 1967.83,839.383 1972.02,839.383 1976.2,839.383 1980.39,839.383 1984.57,839.383 1988.76,839.383 1992.94,839.383 1997.13,839.383 \n  2001.31,839.383 2005.5,839.383 2009.68,839.383 2013.87,839.383 2018.05,839.383 2022.24,839.383 2026.42,839.383 2030.61,839.383 2034.8,839.383 2038.98,839.383 \n  2043.17,839.383 2047.35,839.383 2051.54,839.383 2055.72,839.383 2059.91,839.383 2064.09,839.383 2068.28,839.383 2072.46,839.383 2076.65,839.383 2080.83,839.383 \n  2085.02,839.383 2089.2,839.383 2093.39,839.383 2097.58,839.383 2101.76,839.383 2105.95,839.383 2110.13,839.383 2114.32,839.383 2118.5,839.383 2122.69,839.383 \n  2126.87,839.383 2131.06,839.383 2135.24,839.383 2139.43,839.383 2143.61,839.383 2147.8,839.383 2151.98,839.383 2156.17,839.383 2160.36,839.383 2164.54,839.383 \n  2168.73,839.383 2172.91,839.383 2177.1,839.383 2181.28,839.383 2185.47,839.383 2189.65,839.383 2193.84,839.383 2198.02,839.383 2202.21,839.383 2206.39,839.383 \n  2210.58,839.383 2214.77,839.383 2218.95,839.383 2223.14,839.383 2227.32,839.383 2231.51,839.383 2235.69,839.383 2239.88,839.383 2244.06,839.383 2248.25,839.383 \n  2252.43,839.383 2256.62,839.383 2260.8,839.383 2264.99,839.383 2269.17,839.383 2273.36,839.383 2277.55,839.383 2281.73,839.383 2285.92,839.383 2290.1,839.383 \n  \n  \"/>\n<polyline clip-path=\"url(#clip712)\" style=\"stroke:#3da44d; stroke-linecap:butt; stroke-linejoin:round; stroke-width:4; stroke-opacity:1; fill:none\" points=\"\n  201.614,219.503 205.799,211.768 209.985,204.817 214.17,198.604 218.355,193.078 222.541,188.192 226.726,183.899 230.911,180.151 235.097,176.902 239.282,174.11 \n  243.468,171.728 247.653,169.717 251.838,168.034 256.024,166.642 260.209,165.504 264.394,164.586 268.58,163.858 272.765,163.29 276.95,162.858 281.136,162.539 \n  285.321,162.314 289.506,162.167 293.692,162.081 297.877,162.047 302.062,162.053 306.248,162.091 310.433,162.154 314.618,162.237 318.804,162.335 322.989,162.443 \n  327.174,162.56 331.36,162.682 335.545,162.808 339.73,162.937 343.916,163.066 348.101,163.195 352.286,163.323 356.472,163.45 360.657,163.575 364.843,163.698 \n  369.028,163.819 373.213,163.937 377.399,164.052 381.584,164.164 385.769,164.274 389.955,164.38 394.14,164.484 398.325,164.585 402.511,164.683 406.696,164.778 \n  410.881,164.871 415.067,164.961 419.252,165.048 423.437,165.133 427.623,165.215 431.808,165.295 435.993,165.372 440.179,165.447 444.364,165.52 448.549,165.591 \n  452.735,165.659 456.92,165.726 461.105,165.79 465.291,165.853 469.476,165.914 473.661,165.972 477.847,166.029 482.032,166.085 486.218,166.138 490.403,166.19 \n  494.588,166.241 498.774,166.29 502.959,166.337 507.144,166.383 511.33,166.428 515.515,166.471 519.7,166.513 523.886,166.554 528.071,166.594 532.256,166.632 \n  536.442,166.669 540.627,166.705 544.812,166.74 548.998,166.774 553.183,166.807 557.368,166.839 561.554,166.869 565.739,166.899 569.924,166.929 574.11,166.957 \n  578.295,166.984 582.48,167.011 586.666,167.036 590.851,167.061 595.037,167.085 599.222,167.109 603.407,167.132 607.593,167.154 611.778,167.175 615.963,167.196 \n  620.149,167.216 624.334,167.235 628.519,167.254 632.705,167.273 636.89,167.29 641.075,167.308 645.261,167.324 649.446,167.341 653.631,167.356 657.817,167.372 \n  662.002,167.386 666.187,167.401 670.373,167.415 674.558,167.428 678.743,167.441 682.929,167.454 687.114,167.466 691.299,167.478 695.485,167.49 699.67,167.501 \n  703.855,167.512 708.041,167.522 712.226,167.533 716.412,167.543 720.597,167.552 724.782,167.562 728.968,167.571 733.153,167.579 737.338,167.588 741.524,167.596 \n  745.709,167.604 749.894,167.612 754.08,167.62 758.265,167.627 762.45,167.634 766.636,167.641 770.821,167.647 775.006,167.654 779.192,167.66 783.377,167.666 \n  787.562,167.672 791.748,167.678 795.933,167.683 800.118,167.689 804.304,167.694 808.489,167.699 812.674,167.704 816.86,167.709 821.045,167.713 825.23,167.718 \n  829.416,167.722 833.601,167.726 837.787,167.73 841.972,167.734 846.157,167.738 850.343,167.742 854.528,167.746 858.713,167.749 862.899,167.752 867.084,167.756 \n  871.269,167.759 875.455,167.762 879.64,167.765 883.825,167.768 888.011,167.771 892.196,167.774 896.381,167.776 900.567,167.779 904.752,167.781 908.937,167.784 \n  913.123,167.786 917.308,167.788 921.493,167.791 925.679,167.793 929.864,167.795 934.049,167.797 938.235,167.799 942.42,167.801 946.605,167.802 950.791,167.804 \n  954.976,167.806 959.162,167.808 963.347,167.809 967.532,167.811 971.718,167.812 975.903,167.814 980.088,167.815 984.274,167.817 988.459,167.818 992.644,167.819 \n  996.83,167.821 1001.01,167.822 1005.2,167.823 1009.39,167.824 1013.57,167.825 1017.76,167.826 1021.94,167.827 1026.13,167.829 1030.31,167.829 1034.5,167.83 \n  1038.68,167.831 1042.87,167.832 1047.05,167.833 1051.24,167.834 1055.42,167.835 1059.61,167.836 1063.8,167.836 1067.98,167.837 1072.17,167.838 1076.35,167.839 \n  1080.54,167.839 1084.72,167.84 1088.91,167.841 1093.09,167.841 1097.28,167.842 1101.46,167.842 1105.65,167.843 1109.83,167.844 1114.02,167.844 1118.2,167.845 \n  1122.39,167.845 1126.58,167.846 1130.76,167.846 1134.95,167.847 1139.13,167.847 1143.32,167.847 1147.5,167.848 1151.69,167.848 1155.87,167.849 1160.06,167.849 \n  1164.24,167.849 1168.43,167.85 1172.61,167.85 1176.8,167.851 1180.98,167.851 1185.17,167.851 1189.36,167.851 1193.54,167.852 1197.73,167.852 1201.91,167.852 \n  1206.1,167.853 1210.28,167.853 1214.47,167.853 1218.65,167.853 1222.84,167.854 1227.02,167.854 1231.21,167.854 1235.39,167.854 1239.58,167.855 1243.77,167.855 \n  1247.95,167.855 1252.14,167.855 1256.32,167.855 1260.51,167.856 1264.69,167.856 1268.88,167.856 1273.06,167.856 1277.25,167.856 1281.43,167.856 1285.62,167.857 \n  1289.8,167.857 1293.99,167.857 1298.17,167.857 1302.36,167.857 1306.55,167.857 1310.73,167.857 1314.92,167.857 1319.1,167.858 1323.29,167.858 1327.47,167.858 \n  1331.66,167.858 1335.84,167.858 1340.03,167.858 1344.21,167.858 1348.4,167.858 1352.58,167.858 1356.77,167.859 1360.95,167.859 1365.14,167.859 1369.33,167.859 \n  1373.51,167.859 1377.7,167.859 1381.88,167.859 1386.07,167.859 1390.25,167.859 1394.44,167.859 1398.62,167.859 1402.81,167.859 1406.99,167.859 1411.18,167.859 \n  1415.36,167.86 1419.55,167.86 1423.73,167.86 1427.92,167.86 1432.11,167.86 1436.29,167.86 1440.48,167.86 1444.66,167.86 1448.85,167.86 1453.03,167.86 \n  1457.22,167.86 1461.4,167.86 1465.59,167.86 1469.77,167.86 1473.96,167.86 1478.14,167.86 1482.33,167.86 1486.52,167.86 1490.7,167.86 1494.89,167.86 \n  1499.07,167.86 1503.26,167.86 1507.44,167.86 1511.63,167.861 1515.81,167.861 1520,167.861 1524.18,167.861 1528.37,167.861 1532.55,167.861 1536.74,167.861 \n  1540.92,167.861 1545.11,167.861 1549.3,167.861 1553.48,167.861 1557.67,167.861 1561.85,167.861 1566.04,167.861 1570.22,167.861 1574.41,167.861 1578.59,167.861 \n  1582.78,167.861 1586.96,167.861 1591.15,167.861 1595.33,167.861 1599.52,167.861 1603.7,167.861 1607.89,167.861 1612.08,167.861 1616.26,167.861 1620.45,167.861 \n  1624.63,167.861 1628.82,167.861 1633,167.861 1637.19,167.861 1641.37,167.861 1645.56,167.861 1649.74,167.861 1653.93,167.861 1658.11,167.861 1662.3,167.861 \n  1666.48,167.861 1670.67,167.861 1674.86,167.861 1679.04,167.861 1683.23,167.861 1687.41,167.861 1691.6,167.861 1695.78,167.861 1699.97,167.861 1704.15,167.861 \n  1708.34,167.861 1712.52,167.861 1716.71,167.861 1720.89,167.861 1725.08,167.861 1729.27,167.861 1733.45,167.861 1737.64,167.861 1741.82,167.861 1746.01,167.861 \n  1750.19,167.861 1754.38,167.861 1758.56,167.861 1762.75,167.861 1766.93,167.861 1771.12,167.861 1775.3,167.861 1779.49,167.861 1783.67,167.861 1787.86,167.861 \n  1792.05,167.861 1796.23,167.861 1800.42,167.861 1804.6,167.861 1808.79,167.861 1812.97,167.861 1817.16,167.861 1821.34,167.861 1825.53,167.861 1829.71,167.861 \n  1833.9,167.861 1838.08,167.861 1842.27,167.861 1846.45,167.861 1850.64,167.861 1854.83,167.861 1859.01,167.861 1863.2,167.861 1867.38,167.861 1871.57,167.861 \n  1875.75,167.861 1879.94,167.861 1884.12,167.861 1888.31,167.861 1892.49,167.861 1896.68,167.861 1900.86,167.861 1905.05,167.861 1909.23,167.861 1913.42,167.861 \n  1917.61,167.861 1921.79,167.861 1925.98,167.861 1930.16,167.861 1934.35,167.861 1938.53,167.861 1942.72,167.861 1946.9,167.861 1951.09,167.861 1955.27,167.861 \n  1959.46,167.861 1963.64,167.861 1967.83,167.861 1972.02,167.861 1976.2,167.861 1980.39,167.861 1984.57,167.861 1988.76,167.861 1992.94,167.861 1997.13,167.861 \n  2001.31,167.861 2005.5,167.861 2009.68,167.861 2013.87,167.861 2018.05,167.861 2022.24,167.861 2026.42,167.861 2030.61,167.861 2034.8,167.861 2038.98,167.861 \n  2043.17,167.861 2047.35,167.861 2051.54,167.861 2055.72,167.861 2059.91,167.861 2064.09,167.861 2068.28,167.861 2072.46,167.861 2076.65,167.861 2080.83,167.861 \n  2085.02,167.861 2089.2,167.861 2093.39,167.861 2097.58,167.861 2101.76,167.861 2105.95,167.861 2110.13,167.861 2114.32,167.861 2118.5,167.861 2122.69,167.861 \n  2126.87,167.861 2131.06,167.861 2135.24,167.861 2139.43,167.861 2143.61,167.861 2147.8,167.861 2151.98,167.861 2156.17,167.861 2160.36,167.861 2164.54,167.861 \n  2168.73,167.861 2172.91,167.861 2177.1,167.861 2181.28,167.861 2185.47,167.861 2189.65,167.861 2193.84,167.861 2198.02,167.861 2202.21,167.861 2206.39,167.861 \n  2210.58,167.861 2214.77,167.861 2218.95,167.861 2223.14,167.861 2227.32,167.861 2231.51,167.861 2235.69,167.861 2239.88,167.861 2244.06,167.861 2248.25,167.861 \n  2252.43,167.861 2256.62,167.861 2260.8,167.861 2264.99,167.861 2269.17,167.861 2273.36,167.861 2277.55,167.861 2281.73,167.861 2285.92,167.861 2290.1,167.861 \n  \n  \"/>\n<path clip-path=\"url(#clip710)\" d=\"\nM1855.86 376.265 L2278.96 376.265 L2278.96 168.905 L1855.86 168.905  Z\n  \" fill=\"#ffffff\" fill-rule=\"evenodd\" fill-opacity=\"1\"/>\n<polyline clip-path=\"url(#clip710)\" style=\"stroke:#000000; stroke-linecap:butt; stroke-linejoin:round; stroke-width:4; stroke-opacity:1; fill:none\" points=\"\n  1855.86,376.265 2278.96,376.265 2278.96,168.905 1855.86,168.905 1855.86,376.265 \n  \"/>\n<polyline clip-path=\"url(#clip710)\" style=\"stroke:#009af9; stroke-linecap:butt; stroke-linejoin:round; stroke-width:4; stroke-opacity:1; fill:none\" points=\"\n  1880.45,220.745 2028.04,220.745 \n  \"/>\n<path clip-path=\"url(#clip710)\" d=\"M2057.31 207.307 L2057.31 220.293 L2063.19 220.293 Q2066.46 220.293 2068.24 218.603 Q2070.02 216.914 2070.02 213.789 Q2070.02 210.687 2068.24 208.997 Q2066.46 207.307 2063.19 207.307 L2057.31 207.307 M2052.64 203.465 L2063.19 203.465 Q2069 203.465 2071.97 206.104 Q2074.95 208.719 2074.95 213.789 Q2074.95 218.904 2071.97 221.52 Q2069 224.136 2063.19 224.136 L2057.31 224.136 L2057.31 238.025 L2052.64 238.025 L2052.64 203.465 Z\" fill=\"#000000\" fill-rule=\"evenodd\" fill-opacity=\"1\" /><path clip-path=\"url(#clip710)\" d=\"M2095.23 216.08 Q2094.51 215.664 2093.66 215.478 Q2092.82 215.27 2091.8 215.27 Q2088.19 215.27 2086.25 217.631 Q2084.33 219.969 2084.33 224.367 L2084.33 238.025 L2080.05 238.025 L2080.05 212.099 L2084.33 212.099 L2084.33 216.127 Q2085.67 213.766 2087.82 212.631 Q2089.98 211.474 2093.05 211.474 Q2093.49 211.474 2094.03 211.543 Q2094.56 211.59 2095.21 211.705 L2095.23 216.08 Z\" fill=\"#000000\" fill-rule=\"evenodd\" fill-opacity=\"1\" /><path clip-path=\"url(#clip710)\" d=\"M2099.7 212.099 L2103.96 212.099 L2103.96 238.025 L2099.7 238.025 L2099.7 212.099 M2099.7 202.006 L2103.96 202.006 L2103.96 207.4 L2099.7 207.4 L2099.7 202.006 Z\" fill=\"#000000\" fill-rule=\"evenodd\" fill-opacity=\"1\" /><path clip-path=\"url(#clip710)\" d=\"M2133.05 217.076 Q2134.65 214.205 2136.87 212.84 Q2139.1 211.474 2142.11 211.474 Q2146.16 211.474 2148.36 214.321 Q2150.55 217.145 2150.55 222.377 L2150.55 238.025 L2146.27 238.025 L2146.27 222.515 Q2146.27 218.789 2144.95 216.983 Q2143.63 215.178 2140.93 215.178 Q2137.61 215.178 2135.69 217.377 Q2133.77 219.576 2133.77 223.372 L2133.77 238.025 L2129.49 238.025 L2129.49 222.515 Q2129.49 218.765 2128.17 216.983 Q2126.85 215.178 2124.1 215.178 Q2120.83 215.178 2118.91 217.4 Q2116.99 219.599 2116.99 223.372 L2116.99 238.025 L2112.71 238.025 L2112.71 212.099 L2116.99 212.099 L2116.99 216.127 Q2118.45 213.742 2120.49 212.608 Q2122.52 211.474 2125.32 211.474 Q2128.15 211.474 2130.11 212.909 Q2132.11 214.344 2133.05 217.076 Z\" fill=\"#000000\" fill-rule=\"evenodd\" fill-opacity=\"1\" /><path clip-path=\"url(#clip710)\" d=\"M2170.83 224.992 Q2165.67 224.992 2163.68 226.173 Q2161.69 227.353 2161.69 230.201 Q2161.69 232.469 2163.17 233.812 Q2164.67 235.131 2167.24 235.131 Q2170.79 235.131 2172.92 232.631 Q2175.07 230.108 2175.07 225.941 L2175.07 224.992 L2170.83 224.992 M2179.33 223.233 L2179.33 238.025 L2175.07 238.025 L2175.07 234.089 Q2173.61 236.451 2171.43 237.585 Q2169.26 238.696 2166.11 238.696 Q2162.13 238.696 2159.77 236.474 Q2157.43 234.228 2157.43 230.478 Q2157.43 226.103 2160.35 223.881 Q2163.29 221.659 2169.1 221.659 L2175.07 221.659 L2175.07 221.242 Q2175.07 218.303 2173.12 216.705 Q2171.2 215.085 2167.71 215.085 Q2165.49 215.085 2163.38 215.617 Q2161.27 216.15 2159.33 217.215 L2159.33 213.279 Q2161.67 212.377 2163.86 211.937 Q2166.06 211.474 2168.15 211.474 Q2173.77 211.474 2176.55 214.391 Q2179.33 217.307 2179.33 223.233 Z\" fill=\"#000000\" fill-rule=\"evenodd\" fill-opacity=\"1\" /><path clip-path=\"url(#clip710)\" d=\"M2203.12 216.08 Q2202.41 215.664 2201.55 215.478 Q2200.72 215.27 2199.7 215.27 Q2196.09 215.27 2194.14 217.631 Q2192.22 219.969 2192.22 224.367 L2192.22 238.025 L2187.94 238.025 L2187.94 212.099 L2192.22 212.099 L2192.22 216.127 Q2193.56 213.766 2195.72 212.631 Q2197.87 211.474 2200.95 211.474 Q2201.39 211.474 2201.92 211.543 Q2202.45 211.59 2203.1 211.705 L2203.12 216.08 Z\" fill=\"#000000\" fill-rule=\"evenodd\" fill-opacity=\"1\" /><path clip-path=\"url(#clip710)\" d=\"M2218.38 240.432 Q2216.57 245.062 2214.86 246.474 Q2213.15 247.886 2210.28 247.886 L2206.87 247.886 L2206.87 244.321 L2209.37 244.321 Q2211.13 244.321 2212.11 243.488 Q2213.08 242.654 2214.26 239.552 L2215.02 237.608 L2204.54 212.099 L2209.05 212.099 L2217.15 232.377 L2225.25 212.099 L2229.77 212.099 L2218.38 240.432 Z\" fill=\"#000000\" fill-rule=\"evenodd\" fill-opacity=\"1\" /><polyline clip-path=\"url(#clip710)\" style=\"stroke:#e26f46; stroke-linecap:butt; stroke-linejoin:round; stroke-width:4; stroke-opacity:1; fill:none\" points=\"\n  1880.45,272.585 2028.04,272.585 \n  \"/>\n<path clip-path=\"url(#clip710)\" d=\"M2052.64 255.305 L2058.93 255.305 L2074.26 284.217 L2074.26 255.305 L2078.8 255.305 L2078.8 289.865 L2072.5 289.865 L2057.18 260.953 L2057.18 289.865 L2052.64 289.865 L2052.64 255.305 Z\" fill=\"#000000\" fill-rule=\"evenodd\" fill-opacity=\"1\" /><path clip-path=\"url(#clip710)\" d=\"M2097.96 266.925 Q2094.54 266.925 2092.55 269.61 Q2090.55 272.272 2090.55 276.925 Q2090.55 281.578 2092.52 284.263 Q2094.51 286.925 2097.96 286.925 Q2101.37 286.925 2103.36 284.24 Q2105.35 281.555 2105.35 276.925 Q2105.35 272.318 2103.36 269.633 Q2101.37 266.925 2097.96 266.925 M2097.96 263.314 Q2103.52 263.314 2106.69 266.925 Q2109.86 270.536 2109.86 276.925 Q2109.86 283.291 2106.69 286.925 Q2103.52 290.536 2097.96 290.536 Q2092.38 290.536 2089.21 286.925 Q2086.06 283.291 2086.06 276.925 Q2086.06 270.536 2089.21 266.925 Q2092.38 263.314 2097.96 263.314 Z\" fill=\"#000000\" fill-rule=\"evenodd\" fill-opacity=\"1\" /><path clip-path=\"url(#clip710)\" d=\"M2131.94 267.92 Q2131.23 267.504 2130.37 267.318 Q2129.54 267.11 2128.52 267.11 Q2124.91 267.11 2122.96 269.471 Q2121.04 271.809 2121.04 276.207 L2121.04 289.865 L2116.76 289.865 L2116.76 263.939 L2121.04 263.939 L2121.04 267.967 Q2122.38 265.606 2124.54 264.471 Q2126.69 263.314 2129.77 263.314 Q2130.21 263.314 2130.74 263.383 Q2131.27 263.43 2131.92 263.545 L2131.94 267.92 Z\" fill=\"#000000\" fill-rule=\"evenodd\" fill-opacity=\"1\" /><path clip-path=\"url(#clip710)\" d=\"M2155.76 268.916 Q2157.36 266.045 2159.58 264.68 Q2161.8 263.314 2164.81 263.314 Q2168.86 263.314 2171.06 266.161 Q2173.26 268.985 2173.26 274.217 L2173.26 289.865 L2168.98 289.865 L2168.98 274.355 Q2168.98 270.629 2167.66 268.823 Q2166.34 267.018 2163.63 267.018 Q2160.32 267.018 2158.4 269.217 Q2156.48 271.416 2156.48 275.212 L2156.48 289.865 L2152.2 289.865 L2152.2 274.355 Q2152.2 270.605 2150.88 268.823 Q2149.56 267.018 2146.8 267.018 Q2143.54 267.018 2141.62 269.24 Q2139.7 271.439 2139.7 275.212 L2139.7 289.865 L2135.42 289.865 L2135.42 263.939 L2139.7 263.939 L2139.7 267.967 Q2141.16 265.582 2143.19 264.448 Q2145.23 263.314 2148.03 263.314 Q2150.86 263.314 2152.82 264.749 Q2154.81 266.184 2155.76 268.916 Z\" fill=\"#000000\" fill-rule=\"evenodd\" fill-opacity=\"1\" /><path clip-path=\"url(#clip710)\" d=\"M2193.54 276.832 Q2188.38 276.832 2186.39 278.013 Q2184.4 279.193 2184.4 282.041 Q2184.4 284.309 2185.88 285.652 Q2187.38 286.971 2189.95 286.971 Q2193.49 286.971 2195.62 284.471 Q2197.78 281.948 2197.78 277.781 L2197.78 276.832 L2193.54 276.832 M2202.04 275.073 L2202.04 289.865 L2197.78 289.865 L2197.78 285.929 Q2196.32 288.291 2194.14 289.425 Q2191.97 290.536 2188.82 290.536 Q2184.84 290.536 2182.48 288.314 Q2180.14 286.068 2180.14 282.318 Q2180.14 277.943 2183.05 275.721 Q2185.99 273.499 2191.8 273.499 L2197.78 273.499 L2197.78 273.082 Q2197.78 270.143 2195.83 268.545 Q2193.91 266.925 2190.42 266.925 Q2188.19 266.925 2186.09 267.457 Q2183.98 267.99 2182.04 269.055 L2182.04 265.119 Q2184.37 264.217 2186.57 263.777 Q2188.77 263.314 2190.86 263.314 Q2196.48 263.314 2199.26 266.231 Q2202.04 269.147 2202.04 275.073 Z\" fill=\"#000000\" fill-rule=\"evenodd\" fill-opacity=\"1\" /><path clip-path=\"url(#clip710)\" d=\"M2210.81 253.846 L2215.07 253.846 L2215.07 289.865 L2210.81 289.865 L2210.81 253.846 Z\" fill=\"#000000\" fill-rule=\"evenodd\" fill-opacity=\"1\" /><polyline clip-path=\"url(#clip710)\" style=\"stroke:#3da44d; stroke-linecap:butt; stroke-linejoin:round; stroke-width:4; stroke-opacity:1; fill:none\" points=\"\n  1880.45,324.425 2028.04,324.425 \n  \"/>\n<path clip-path=\"url(#clip710)\" d=\"M2052.64 307.145 L2057.31 307.145 L2057.31 337.769 L2074.14 337.769 L2074.14 341.705 L2052.64 341.705 L2052.64 307.145 Z\" fill=\"#000000\" fill-rule=\"evenodd\" fill-opacity=\"1\" /><path clip-path=\"url(#clip710)\" d=\"M2077.59 331.473 L2077.59 315.779 L2081.85 315.779 L2081.85 331.311 Q2081.85 334.992 2083.29 336.844 Q2084.72 338.672 2087.59 338.672 Q2091.04 338.672 2093.03 336.473 Q2095.05 334.274 2095.05 330.478 L2095.05 315.779 L2099.3 315.779 L2099.3 341.705 L2095.05 341.705 L2095.05 337.723 Q2093.49 340.084 2091.43 341.242 Q2089.4 342.376 2086.69 342.376 Q2082.22 342.376 2079.91 339.598 Q2077.59 336.82 2077.59 331.473 M2088.31 315.154 L2088.31 315.154 Z\" fill=\"#000000\" fill-rule=\"evenodd\" fill-opacity=\"1\" /><path clip-path=\"url(#clip710)\" d=\"M2129.63 315.779 L2120.25 328.395 L2130.11 341.705 L2125.09 341.705 L2117.55 331.52 L2110 341.705 L2104.98 341.705 L2115.05 328.14 L2105.83 315.779 L2110.86 315.779 L2117.73 325.015 L2124.61 315.779 L2129.63 315.779 Z\" fill=\"#000000\" fill-rule=\"evenodd\" fill-opacity=\"1\" /><path clip-path=\"url(#clip710)\" d=\"M2135.69 331.473 L2135.69 315.779 L2139.95 315.779 L2139.95 331.311 Q2139.95 334.992 2141.39 336.844 Q2142.82 338.672 2145.69 338.672 Q2149.14 338.672 2151.13 336.473 Q2153.15 334.274 2153.15 330.478 L2153.15 315.779 L2157.41 315.779 L2157.41 341.705 L2153.15 341.705 L2153.15 337.723 Q2151.6 340.084 2149.54 341.242 Q2147.5 342.376 2144.79 342.376 Q2140.32 342.376 2138.01 339.598 Q2135.69 336.82 2135.69 331.473 M2146.41 315.154 L2146.41 315.154 Z\" fill=\"#000000\" fill-rule=\"evenodd\" fill-opacity=\"1\" /><path clip-path=\"url(#clip710)\" d=\"M2181.2 319.76 Q2180.49 319.344 2179.63 319.158 Q2178.8 318.95 2177.78 318.95 Q2174.17 318.95 2172.22 321.311 Q2170.3 323.649 2170.3 328.047 L2170.3 341.705 L2166.02 341.705 L2166.02 315.779 L2170.3 315.779 L2170.3 319.807 Q2171.64 317.446 2173.8 316.311 Q2175.95 315.154 2179.03 315.154 Q2179.47 315.154 2180 315.223 Q2180.53 315.27 2181.18 315.385 L2181.2 319.76 Z\" fill=\"#000000\" fill-rule=\"evenodd\" fill-opacity=\"1\" /><path clip-path=\"url(#clip710)\" d=\"M2196.46 344.112 Q2194.65 348.742 2192.94 350.154 Q2191.23 351.566 2188.36 351.566 L2184.95 351.566 L2184.95 348.001 L2187.45 348.001 Q2189.21 348.001 2190.18 347.168 Q2191.16 346.334 2192.34 343.232 L2193.1 341.288 L2182.61 315.779 L2187.13 315.779 L2195.23 336.057 L2203.33 315.779 L2207.85 315.779 L2196.46 344.112 Z\" fill=\"#000000\" fill-rule=\"evenodd\" fill-opacity=\"1\" /></svg>\n",
      "text/html": [
       "<?xml version=\"1.0\" encoding=\"utf-8\"?>\n",
       "<svg xmlns=\"http://www.w3.org/2000/svg\" xmlns:xlink=\"http://www.w3.org/1999/xlink\" width=\"600\" height=\"400\" viewBox=\"0 0 2400 1600\">\n",
       "<defs>\n",
       "  <clipPath id=\"clip760\">\n",
       "    <rect x=\"0\" y=\"0\" width=\"2400\" height=\"1600\"/>\n",
       "  </clipPath>\n",
       "</defs>\n",
       "<path clip-path=\"url(#clip760)\" d=\"\n",
       "M0 1600 L2400 1600 L2400 0 L0 0  Z\n",
       "  \" fill=\"#ffffff\" fill-rule=\"evenodd\" fill-opacity=\"1\"/>\n",
       "<defs>\n",
       "  <clipPath id=\"clip761\">\n",
       "    <rect x=\"480\" y=\"0\" width=\"1681\" height=\"1600\"/>\n",
       "  </clipPath>\n",
       "</defs>\n",
       "<path clip-path=\"url(#clip760)\" d=\"\n",
       "M138.959 1486.45 L2352.76 1486.45 L2352.76 123.472 L138.959 123.472  Z\n",
       "  \" fill=\"#ffffff\" fill-rule=\"evenodd\" fill-opacity=\"1\"/>\n",
       "<defs>\n",
       "  <clipPath id=\"clip762\">\n",
       "    <rect x=\"138\" y=\"123\" width=\"2215\" height=\"1364\"/>\n",
       "  </clipPath>\n",
       "</defs>\n",
       "<polyline clip-path=\"url(#clip762)\" style=\"stroke:#000000; stroke-linecap:butt; stroke-linejoin:round; stroke-width:2; stroke-opacity:0.1; fill:none\" points=\"\n",
       "  197.429,1486.45 197.429,123.472 \n",
       "  \"/>\n",
       "<polyline clip-path=\"url(#clip762)\" style=\"stroke:#000000; stroke-linecap:butt; stroke-linejoin:round; stroke-width:2; stroke-opacity:0.1; fill:none\" points=\"\n",
       "  615.963,1486.45 615.963,123.472 \n",
       "  \"/>\n",
       "<polyline clip-path=\"url(#clip762)\" style=\"stroke:#000000; stroke-linecap:butt; stroke-linejoin:round; stroke-width:2; stroke-opacity:0.1; fill:none\" points=\"\n",
       "  1034.5,1486.45 1034.5,123.472 \n",
       "  \"/>\n",
       "<polyline clip-path=\"url(#clip762)\" style=\"stroke:#000000; stroke-linecap:butt; stroke-linejoin:round; stroke-width:2; stroke-opacity:0.1; fill:none\" points=\"\n",
       "  1453.03,1486.45 1453.03,123.472 \n",
       "  \"/>\n",
       "<polyline clip-path=\"url(#clip762)\" style=\"stroke:#000000; stroke-linecap:butt; stroke-linejoin:round; stroke-width:2; stroke-opacity:0.1; fill:none\" points=\"\n",
       "  1871.57,1486.45 1871.57,123.472 \n",
       "  \"/>\n",
       "<polyline clip-path=\"url(#clip762)\" style=\"stroke:#000000; stroke-linecap:butt; stroke-linejoin:round; stroke-width:2; stroke-opacity:0.1; fill:none\" points=\"\n",
       "  2290.1,1486.45 2290.1,123.472 \n",
       "  \"/>\n",
       "<polyline clip-path=\"url(#clip760)\" style=\"stroke:#000000; stroke-linecap:butt; stroke-linejoin:round; stroke-width:4; stroke-opacity:1; fill:none\" points=\"\n",
       "  138.959,1486.45 2352.76,1486.45 \n",
       "  \"/>\n",
       "<polyline clip-path=\"url(#clip760)\" style=\"stroke:#000000; stroke-linecap:butt; stroke-linejoin:round; stroke-width:4; stroke-opacity:1; fill:none\" points=\"\n",
       "  197.429,1486.45 197.429,1467.55 \n",
       "  \"/>\n",
       "<polyline clip-path=\"url(#clip760)\" style=\"stroke:#000000; stroke-linecap:butt; stroke-linejoin:round; stroke-width:4; stroke-opacity:1; fill:none\" points=\"\n",
       "  615.963,1486.45 615.963,1467.55 \n",
       "  \"/>\n",
       "<polyline clip-path=\"url(#clip760)\" style=\"stroke:#000000; stroke-linecap:butt; stroke-linejoin:round; stroke-width:4; stroke-opacity:1; fill:none\" points=\"\n",
       "  1034.5,1486.45 1034.5,1467.55 \n",
       "  \"/>\n",
       "<polyline clip-path=\"url(#clip760)\" style=\"stroke:#000000; stroke-linecap:butt; stroke-linejoin:round; stroke-width:4; stroke-opacity:1; fill:none\" points=\"\n",
       "  1453.03,1486.45 1453.03,1467.55 \n",
       "  \"/>\n",
       "<polyline clip-path=\"url(#clip760)\" style=\"stroke:#000000; stroke-linecap:butt; stroke-linejoin:round; stroke-width:4; stroke-opacity:1; fill:none\" points=\"\n",
       "  1871.57,1486.45 1871.57,1467.55 \n",
       "  \"/>\n",
       "<polyline clip-path=\"url(#clip760)\" style=\"stroke:#000000; stroke-linecap:butt; stroke-linejoin:round; stroke-width:4; stroke-opacity:1; fill:none\" points=\"\n",
       "  2290.1,1486.45 2290.1,1467.55 \n",
       "  \"/>\n",
       "<path clip-path=\"url(#clip760)\" d=\"M197.429 1517.37 Q193.818 1517.37 191.989 1520.93 Q190.183 1524.47 190.183 1531.6 Q190.183 1538.71 191.989 1542.27 Q193.818 1545.82 197.429 1545.82 Q201.063 1545.82 202.868 1542.27 Q204.697 1538.71 204.697 1531.6 Q204.697 1524.47 202.868 1520.93 Q201.063 1517.37 197.429 1517.37 M197.429 1513.66 Q203.239 1513.66 206.294 1518.27 Q209.373 1522.85 209.373 1531.6 Q209.373 1540.33 206.294 1544.94 Q203.239 1549.52 197.429 1549.52 Q191.619 1549.52 188.54 1544.94 Q185.484 1540.33 185.484 1531.6 Q185.484 1522.85 188.54 1518.27 Q191.619 1513.66 197.429 1513.66 Z\" fill=\"#000000\" fill-rule=\"evenodd\" fill-opacity=\"1\" /><path clip-path=\"url(#clip760)\" d=\"M575.57 1544.91 L583.209 1544.91 L583.209 1518.55 L574.899 1520.21 L574.899 1515.95 L583.162 1514.29 L587.838 1514.29 L587.838 1544.91 L595.477 1544.91 L595.477 1548.85 L575.57 1548.85 L575.57 1544.91 Z\" fill=\"#000000\" fill-rule=\"evenodd\" fill-opacity=\"1\" /><path clip-path=\"url(#clip760)\" d=\"M614.922 1517.37 Q611.31 1517.37 609.482 1520.93 Q607.676 1524.47 607.676 1531.6 Q607.676 1538.71 609.482 1542.27 Q611.31 1545.82 614.922 1545.82 Q618.556 1545.82 620.361 1542.27 Q622.19 1538.71 622.19 1531.6 Q622.19 1524.47 620.361 1520.93 Q618.556 1517.37 614.922 1517.37 M614.922 1513.66 Q620.732 1513.66 623.787 1518.27 Q626.866 1522.85 626.866 1531.6 Q626.866 1540.33 623.787 1544.94 Q620.732 1549.52 614.922 1549.52 Q609.111 1549.52 606.033 1544.94 Q602.977 1540.33 602.977 1531.6 Q602.977 1522.85 606.033 1518.27 Q609.111 1513.66 614.922 1513.66 Z\" fill=\"#000000\" fill-rule=\"evenodd\" fill-opacity=\"1\" /><path clip-path=\"url(#clip760)\" d=\"M645.083 1517.37 Q641.472 1517.37 639.644 1520.93 Q637.838 1524.47 637.838 1531.6 Q637.838 1538.71 639.644 1542.27 Q641.472 1545.82 645.083 1545.82 Q648.718 1545.82 650.523 1542.27 Q652.352 1538.71 652.352 1531.6 Q652.352 1524.47 650.523 1520.93 Q648.718 1517.37 645.083 1517.37 M645.083 1513.66 Q650.894 1513.66 653.949 1518.27 Q657.028 1522.85 657.028 1531.6 Q657.028 1540.33 653.949 1544.94 Q650.894 1549.52 645.083 1549.52 Q639.273 1549.52 636.195 1544.94 Q633.139 1540.33 633.139 1531.6 Q633.139 1522.85 636.195 1518.27 Q639.273 1513.66 645.083 1513.66 Z\" fill=\"#000000\" fill-rule=\"evenodd\" fill-opacity=\"1\" /><path clip-path=\"url(#clip760)\" d=\"M998.19 1544.91 L1014.51 1544.91 L1014.51 1548.85 L992.565 1548.85 L992.565 1544.91 Q995.227 1542.16 999.81 1537.53 Q1004.42 1532.88 1005.6 1531.53 Q1007.84 1529.01 1008.72 1527.27 Q1009.63 1525.51 1009.63 1523.82 Q1009.63 1521.07 1007.68 1519.33 Q1005.76 1517.6 1002.66 1517.6 Q1000.46 1517.6 998.005 1518.36 Q995.574 1519.13 992.797 1520.68 L992.797 1515.95 Q995.621 1514.82 998.074 1514.24 Q1000.53 1513.66 1002.57 1513.66 Q1007.94 1513.66 1011.13 1516.35 Q1014.32 1519.03 1014.32 1523.52 Q1014.32 1525.65 1013.51 1527.57 Q1012.73 1529.47 1010.62 1532.07 Q1010.04 1532.74 1006.94 1535.95 Q1003.84 1539.15 998.19 1544.91 Z\" fill=\"#000000\" fill-rule=\"evenodd\" fill-opacity=\"1\" /><path clip-path=\"url(#clip760)\" d=\"M1034.32 1517.37 Q1030.71 1517.37 1028.88 1520.93 Q1027.08 1524.47 1027.08 1531.6 Q1027.08 1538.71 1028.88 1542.27 Q1030.71 1545.82 1034.32 1545.82 Q1037.96 1545.82 1039.76 1542.27 Q1041.59 1538.71 1041.59 1531.6 Q1041.59 1524.47 1039.76 1520.93 Q1037.96 1517.37 1034.32 1517.37 M1034.32 1513.66 Q1040.13 1513.66 1043.19 1518.27 Q1046.27 1522.85 1046.27 1531.6 Q1046.27 1540.33 1043.19 1544.94 Q1040.13 1549.52 1034.32 1549.52 Q1028.51 1549.52 1025.44 1544.94 Q1022.38 1540.33 1022.38 1531.6 Q1022.38 1522.85 1025.44 1518.27 Q1028.51 1513.66 1034.32 1513.66 Z\" fill=\"#000000\" fill-rule=\"evenodd\" fill-opacity=\"1\" /><path clip-path=\"url(#clip760)\" d=\"M1064.49 1517.37 Q1060.87 1517.37 1059.05 1520.93 Q1057.24 1524.47 1057.24 1531.6 Q1057.24 1538.71 1059.05 1542.27 Q1060.87 1545.82 1064.49 1545.82 Q1068.12 1545.82 1069.93 1542.27 Q1071.75 1538.71 1071.75 1531.6 Q1071.75 1524.47 1069.93 1520.93 Q1068.12 1517.37 1064.49 1517.37 M1064.49 1513.66 Q1070.3 1513.66 1073.35 1518.27 Q1076.43 1522.85 1076.43 1531.6 Q1076.43 1540.33 1073.35 1544.94 Q1070.3 1549.52 1064.49 1549.52 Q1058.68 1549.52 1055.6 1544.94 Q1052.54 1540.33 1052.54 1531.6 Q1052.54 1522.85 1055.6 1518.27 Q1058.68 1513.66 1064.49 1513.66 Z\" fill=\"#000000\" fill-rule=\"evenodd\" fill-opacity=\"1\" /><path clip-path=\"url(#clip760)\" d=\"M1426.79 1530.21 Q1430.15 1530.93 1432.03 1533.2 Q1433.92 1535.47 1433.92 1538.8 Q1433.92 1543.92 1430.41 1546.72 Q1426.89 1549.52 1420.41 1549.52 Q1418.23 1549.52 1415.91 1549.08 Q1413.62 1548.66 1411.17 1547.81 L1411.17 1543.29 Q1413.11 1544.43 1415.43 1545.01 Q1417.74 1545.58 1420.27 1545.58 Q1424.66 1545.58 1426.96 1543.85 Q1429.27 1542.11 1429.27 1538.8 Q1429.27 1535.75 1427.12 1534.03 Q1424.99 1532.3 1421.17 1532.3 L1417.14 1532.3 L1417.14 1528.45 L1421.35 1528.45 Q1424.8 1528.45 1426.63 1527.09 Q1428.46 1525.7 1428.46 1523.11 Q1428.46 1520.45 1426.56 1519.03 Q1424.69 1517.6 1421.17 1517.6 Q1419.25 1517.6 1417.05 1518.01 Q1414.85 1518.43 1412.21 1519.31 L1412.21 1515.14 Q1414.87 1514.4 1417.19 1514.03 Q1419.53 1513.66 1421.59 1513.66 Q1426.91 1513.66 1430.01 1516.09 Q1433.11 1518.5 1433.11 1522.62 Q1433.11 1525.49 1431.47 1527.48 Q1429.83 1529.45 1426.79 1530.21 Z\" fill=\"#000000\" fill-rule=\"evenodd\" fill-opacity=\"1\" /><path clip-path=\"url(#clip760)\" d=\"M1452.79 1517.37 Q1449.18 1517.37 1447.35 1520.93 Q1445.54 1524.47 1445.54 1531.6 Q1445.54 1538.71 1447.35 1542.27 Q1449.18 1545.82 1452.79 1545.82 Q1456.42 1545.82 1458.23 1542.27 Q1460.06 1538.71 1460.06 1531.6 Q1460.06 1524.47 1458.23 1520.93 Q1456.42 1517.37 1452.79 1517.37 M1452.79 1513.66 Q1458.6 1513.66 1461.65 1518.27 Q1464.73 1522.85 1464.73 1531.6 Q1464.73 1540.33 1461.65 1544.94 Q1458.6 1549.52 1452.79 1549.52 Q1446.98 1549.52 1443.9 1544.94 Q1440.84 1540.33 1440.84 1531.6 Q1440.84 1522.85 1443.9 1518.27 Q1446.98 1513.66 1452.79 1513.66 Z\" fill=\"#000000\" fill-rule=\"evenodd\" fill-opacity=\"1\" /><path clip-path=\"url(#clip760)\" d=\"M1482.95 1517.37 Q1479.34 1517.37 1477.51 1520.93 Q1475.71 1524.47 1475.71 1531.6 Q1475.71 1538.71 1477.51 1542.27 Q1479.34 1545.82 1482.95 1545.82 Q1486.59 1545.82 1488.39 1542.27 Q1490.22 1538.71 1490.22 1531.6 Q1490.22 1524.47 1488.39 1520.93 Q1486.59 1517.37 1482.95 1517.37 M1482.95 1513.66 Q1488.76 1513.66 1491.82 1518.27 Q1494.9 1522.85 1494.9 1531.6 Q1494.9 1540.33 1491.82 1544.94 Q1488.76 1549.52 1482.95 1549.52 Q1477.14 1549.52 1474.06 1544.94 Q1471.01 1540.33 1471.01 1531.6 Q1471.01 1522.85 1474.06 1518.27 Q1477.14 1513.66 1482.95 1513.66 Z\" fill=\"#000000\" fill-rule=\"evenodd\" fill-opacity=\"1\" /><path clip-path=\"url(#clip760)\" d=\"M1844.66 1518.36 L1832.85 1536.81 L1844.66 1536.81 L1844.66 1518.36 M1843.43 1514.29 L1849.31 1514.29 L1849.31 1536.81 L1854.24 1536.81 L1854.24 1540.7 L1849.31 1540.7 L1849.31 1548.85 L1844.66 1548.85 L1844.66 1540.7 L1829.06 1540.7 L1829.06 1536.19 L1843.43 1514.29 Z\" fill=\"#000000\" fill-rule=\"evenodd\" fill-opacity=\"1\" /><path clip-path=\"url(#clip760)\" d=\"M1871.97 1517.37 Q1868.36 1517.37 1866.53 1520.93 Q1864.73 1524.47 1864.73 1531.6 Q1864.73 1538.71 1866.53 1542.27 Q1868.36 1545.82 1871.97 1545.82 Q1875.61 1545.82 1877.41 1542.27 Q1879.24 1538.71 1879.24 1531.6 Q1879.24 1524.47 1877.41 1520.93 Q1875.61 1517.37 1871.97 1517.37 M1871.97 1513.66 Q1877.78 1513.66 1880.84 1518.27 Q1883.92 1522.85 1883.92 1531.6 Q1883.92 1540.33 1880.84 1544.94 Q1877.78 1549.52 1871.97 1549.52 Q1866.16 1549.52 1863.08 1544.94 Q1860.03 1540.33 1860.03 1531.6 Q1860.03 1522.85 1863.08 1518.27 Q1866.16 1513.66 1871.97 1513.66 Z\" fill=\"#000000\" fill-rule=\"evenodd\" fill-opacity=\"1\" /><path clip-path=\"url(#clip760)\" d=\"M1902.13 1517.37 Q1898.52 1517.37 1896.69 1520.93 Q1894.89 1524.47 1894.89 1531.6 Q1894.89 1538.71 1896.69 1542.27 Q1898.52 1545.82 1902.13 1545.82 Q1905.77 1545.82 1907.57 1542.27 Q1909.4 1538.71 1909.4 1531.6 Q1909.4 1524.47 1907.57 1520.93 Q1905.77 1517.37 1902.13 1517.37 M1902.13 1513.66 Q1907.94 1513.66 1911 1518.27 Q1914.08 1522.85 1914.08 1531.6 Q1914.08 1540.33 1911 1544.94 Q1907.94 1549.52 1902.13 1549.52 Q1896.32 1549.52 1893.24 1544.94 Q1890.19 1540.33 1890.19 1531.6 Q1890.19 1522.85 1893.24 1518.27 Q1896.32 1513.66 1902.13 1513.66 Z\" fill=\"#000000\" fill-rule=\"evenodd\" fill-opacity=\"1\" /><path clip-path=\"url(#clip760)\" d=\"M2249.72 1514.29 L2268.08 1514.29 L2268.08 1518.22 L2254 1518.22 L2254 1526.7 Q2255.02 1526.35 2256.04 1526.19 Q2257.06 1526 2258.08 1526 Q2263.86 1526 2267.24 1529.17 Q2270.62 1532.34 2270.62 1537.76 Q2270.62 1543.34 2267.15 1546.44 Q2263.68 1549.52 2257.36 1549.52 Q2255.18 1549.52 2252.91 1549.15 Q2250.67 1548.78 2248.26 1548.04 L2248.26 1543.34 Q2250.34 1544.47 2252.57 1545.03 Q2254.79 1545.58 2257.27 1545.58 Q2261.27 1545.58 2263.61 1543.48 Q2265.95 1541.37 2265.95 1537.76 Q2265.95 1534.15 2263.61 1532.04 Q2261.27 1529.94 2257.27 1529.94 Q2255.39 1529.94 2253.52 1530.35 Q2251.66 1530.77 2249.72 1531.65 L2249.72 1514.29 Z\" fill=\"#000000\" fill-rule=\"evenodd\" fill-opacity=\"1\" /><path clip-path=\"url(#clip760)\" d=\"M2289.84 1517.37 Q2286.22 1517.37 2284.4 1520.93 Q2282.59 1524.47 2282.59 1531.6 Q2282.59 1538.71 2284.4 1542.27 Q2286.22 1545.82 2289.84 1545.82 Q2293.47 1545.82 2295.27 1542.27 Q2297.1 1538.71 2297.1 1531.6 Q2297.1 1524.47 2295.27 1520.93 Q2293.47 1517.37 2289.84 1517.37 M2289.84 1513.66 Q2295.65 1513.66 2298.7 1518.27 Q2301.78 1522.85 2301.78 1531.6 Q2301.78 1540.33 2298.7 1544.94 Q2295.65 1549.52 2289.84 1549.52 Q2284.02 1549.52 2280.95 1544.94 Q2277.89 1540.33 2277.89 1531.6 Q2277.89 1522.85 2280.95 1518.27 Q2284.02 1513.66 2289.84 1513.66 Z\" fill=\"#000000\" fill-rule=\"evenodd\" fill-opacity=\"1\" /><path clip-path=\"url(#clip760)\" d=\"M2320 1517.37 Q2316.39 1517.37 2314.56 1520.93 Q2312.75 1524.47 2312.75 1531.6 Q2312.75 1538.71 2314.56 1542.27 Q2316.39 1545.82 2320 1545.82 Q2323.63 1545.82 2325.44 1542.27 Q2327.27 1538.71 2327.27 1531.6 Q2327.27 1524.47 2325.44 1520.93 Q2323.63 1517.37 2320 1517.37 M2320 1513.66 Q2325.81 1513.66 2328.86 1518.27 Q2331.94 1522.85 2331.94 1531.6 Q2331.94 1540.33 2328.86 1544.94 Q2325.81 1549.52 2320 1549.52 Q2314.19 1549.52 2311.11 1544.94 Q2308.05 1540.33 2308.05 1531.6 Q2308.05 1522.85 2311.11 1518.27 Q2314.19 1513.66 2320 1513.66 Z\" fill=\"#000000\" fill-rule=\"evenodd\" fill-opacity=\"1\" /><polyline clip-path=\"url(#clip762)\" style=\"stroke:#000000; stroke-linecap:butt; stroke-linejoin:round; stroke-width:2; stroke-opacity:0.1; fill:none\" points=\"\n",
       "  138.959,1361.19 2352.76,1361.19 \n",
       "  \"/>\n",
       "<polyline clip-path=\"url(#clip762)\" style=\"stroke:#000000; stroke-linecap:butt; stroke-linejoin:round; stroke-width:2; stroke-opacity:0.1; fill:none\" points=\"\n",
       "  138.959,1075.77 2352.76,1075.77 \n",
       "  \"/>\n",
       "<polyline clip-path=\"url(#clip762)\" style=\"stroke:#000000; stroke-linecap:butt; stroke-linejoin:round; stroke-width:2; stroke-opacity:0.1; fill:none\" points=\"\n",
       "  138.959,790.345 2352.76,790.345 \n",
       "  \"/>\n",
       "<polyline clip-path=\"url(#clip762)\" style=\"stroke:#000000; stroke-linecap:butt; stroke-linejoin:round; stroke-width:2; stroke-opacity:0.1; fill:none\" points=\"\n",
       "  138.959,504.924 2352.76,504.924 \n",
       "  \"/>\n",
       "<polyline clip-path=\"url(#clip762)\" style=\"stroke:#000000; stroke-linecap:butt; stroke-linejoin:round; stroke-width:2; stroke-opacity:0.1; fill:none\" points=\"\n",
       "  138.959,219.503 2352.76,219.503 \n",
       "  \"/>\n",
       "<polyline clip-path=\"url(#clip760)\" style=\"stroke:#000000; stroke-linecap:butt; stroke-linejoin:round; stroke-width:4; stroke-opacity:1; fill:none\" points=\"\n",
       "  138.959,1486.45 138.959,123.472 \n",
       "  \"/>\n",
       "<polyline clip-path=\"url(#clip760)\" style=\"stroke:#000000; stroke-linecap:butt; stroke-linejoin:round; stroke-width:4; stroke-opacity:1; fill:none\" points=\"\n",
       "  138.959,1361.19 157.857,1361.19 \n",
       "  \"/>\n",
       "<polyline clip-path=\"url(#clip760)\" style=\"stroke:#000000; stroke-linecap:butt; stroke-linejoin:round; stroke-width:4; stroke-opacity:1; fill:none\" points=\"\n",
       "  138.959,1075.77 157.857,1075.77 \n",
       "  \"/>\n",
       "<polyline clip-path=\"url(#clip760)\" style=\"stroke:#000000; stroke-linecap:butt; stroke-linejoin:round; stroke-width:4; stroke-opacity:1; fill:none\" points=\"\n",
       "  138.959,790.345 157.857,790.345 \n",
       "  \"/>\n",
       "<polyline clip-path=\"url(#clip760)\" style=\"stroke:#000000; stroke-linecap:butt; stroke-linejoin:round; stroke-width:4; stroke-opacity:1; fill:none\" points=\"\n",
       "  138.959,504.924 157.857,504.924 \n",
       "  \"/>\n",
       "<polyline clip-path=\"url(#clip760)\" style=\"stroke:#000000; stroke-linecap:butt; stroke-linejoin:round; stroke-width:4; stroke-opacity:1; fill:none\" points=\"\n",
       "  138.959,219.503 157.857,219.503 \n",
       "  \"/>\n",
       "<path clip-path=\"url(#clip760)\" d=\"M86.6401 1374.53 L102.959 1374.53 L102.959 1378.47 L81.0151 1378.47 L81.0151 1374.53 Q83.6771 1371.78 88.2604 1367.15 Q92.8669 1362.5 94.0475 1361.15 Q96.2928 1358.63 97.1724 1356.89 Q98.0752 1355.13 98.0752 1353.44 Q98.0752 1350.69 96.1308 1348.95 Q94.2095 1347.22 91.1077 1347.22 Q88.9086 1347.22 86.4549 1347.98 Q84.0244 1348.75 81.2466 1350.3 L81.2466 1345.57 Q84.0707 1344.44 86.5243 1343.86 Q88.978 1343.28 91.0151 1343.28 Q96.3854 1343.28 99.5798 1345.97 Q102.774 1348.65 102.774 1353.14 Q102.774 1355.27 101.964 1357.19 Q101.177 1359.09 99.0706 1361.69 Q98.4919 1362.36 95.39 1365.57 Q92.2882 1368.77 86.6401 1374.53 Z\" fill=\"#000000\" fill-rule=\"evenodd\" fill-opacity=\"1\" /><path clip-path=\"url(#clip760)\" d=\"M93.3762 1062.56 L81.5707 1081.01 L93.3762 1081.01 L93.3762 1062.56 M92.1493 1058.49 L98.0289 1058.49 L98.0289 1081.01 L102.959 1081.01 L102.959 1084.9 L98.0289 1084.9 L98.0289 1093.05 L93.3762 1093.05 L93.3762 1084.9 L77.7744 1084.9 L77.7744 1080.38 L92.1493 1058.49 Z\" fill=\"#000000\" fill-rule=\"evenodd\" fill-opacity=\"1\" /><path clip-path=\"url(#clip760)\" d=\"M91.4317 788.482 Q88.2836 788.482 86.4318 790.635 Q84.6031 792.787 84.6031 796.537 Q84.6031 800.264 86.4318 802.44 Q88.2836 804.593 91.4317 804.593 Q94.5799 804.593 96.4085 802.44 Q98.2604 800.264 98.2604 796.537 Q98.2604 792.787 96.4085 790.635 Q94.5799 788.482 91.4317 788.482 M100.714 773.829 L100.714 778.088 Q98.9548 777.255 97.1493 776.815 Q95.3669 776.375 93.6076 776.375 Q88.978 776.375 86.5243 779.5 Q84.0938 782.625 83.7466 788.945 Q85.1123 786.931 87.1725 785.866 Q89.2327 784.778 91.7095 784.778 Q96.9178 784.778 99.927 787.949 Q102.959 791.098 102.959 796.537 Q102.959 801.861 99.8113 805.079 Q96.6632 808.297 91.4317 808.297 Q85.4364 808.297 82.2651 803.713 Q79.0938 799.107 79.0938 790.38 Q79.0938 782.186 82.9827 777.325 Q86.8716 772.44 93.4225 772.44 Q95.1817 772.44 96.9641 772.788 Q98.7696 773.135 100.714 773.829 Z\" fill=\"#000000\" fill-rule=\"evenodd\" fill-opacity=\"1\" /><path clip-path=\"url(#clip760)\" d=\"M91.1077 505.792 Q87.7743 505.792 85.8531 507.574 Q83.9549 509.357 83.9549 512.482 Q83.9549 515.607 85.8531 517.389 Q87.7743 519.172 91.1077 519.172 Q94.441 519.172 96.3623 517.389 Q98.2835 515.584 98.2835 512.482 Q98.2835 509.357 96.3623 507.574 Q94.4641 505.792 91.1077 505.792 M86.4318 503.801 Q83.4225 503.061 81.7327 501 Q80.066 498.94 80.066 495.977 Q80.066 491.834 83.0058 489.426 Q85.9688 487.019 91.1077 487.019 Q96.2697 487.019 99.2095 489.426 Q102.149 491.834 102.149 495.977 Q102.149 498.94 100.459 501 Q98.7928 503.061 95.8067 503.801 Q99.1863 504.588 101.061 506.88 Q102.959 509.172 102.959 512.482 Q102.959 517.505 99.8808 520.19 Q96.8252 522.875 91.1077 522.875 Q85.3901 522.875 82.3114 520.19 Q79.2559 517.505 79.2559 512.482 Q79.2559 509.172 81.154 506.88 Q83.0521 504.588 86.4318 503.801 M84.7188 496.417 Q84.7188 499.102 86.3855 500.607 Q88.0753 502.112 91.1077 502.112 Q94.1169 502.112 95.8067 500.607 Q97.5197 499.102 97.5197 496.417 Q97.5197 493.732 95.8067 492.227 Q94.1169 490.723 91.1077 490.723 Q88.0753 490.723 86.3855 492.227 Q84.7188 493.732 84.7188 496.417 Z\" fill=\"#000000\" fill-rule=\"evenodd\" fill-opacity=\"1\" /><path clip-path=\"url(#clip760)\" d=\"M51.6634 232.847 L59.3023 232.847 L59.3023 206.482 L50.9921 208.149 L50.9921 203.889 L59.256 202.223 L63.9319 202.223 L63.9319 232.847 L71.5707 232.847 L71.5707 236.783 L51.6634 236.783 L51.6634 232.847 Z\" fill=\"#000000\" fill-rule=\"evenodd\" fill-opacity=\"1\" /><path clip-path=\"url(#clip760)\" d=\"M91.0151 205.301 Q87.404 205.301 85.5753 208.866 Q83.7697 212.408 83.7697 219.537 Q83.7697 226.644 85.5753 230.209 Q87.404 233.75 91.0151 233.75 Q94.6493 233.75 96.4548 230.209 Q98.2835 226.644 98.2835 219.537 Q98.2835 212.408 96.4548 208.866 Q94.6493 205.301 91.0151 205.301 M91.0151 201.598 Q96.8252 201.598 99.8808 206.204 Q102.959 210.787 102.959 219.537 Q102.959 228.264 99.8808 232.871 Q96.8252 237.454 91.0151 237.454 Q85.2049 237.454 82.1262 232.871 Q79.0707 228.264 79.0707 219.537 Q79.0707 210.787 82.1262 206.204 Q85.2049 201.598 91.0151 201.598 Z\" fill=\"#000000\" fill-rule=\"evenodd\" fill-opacity=\"1\" /><path clip-path=\"url(#clip760)\" d=\"M750.371 63.9476 L750.371 47.7034 L737.003 47.7034 L737.003 40.9789 L758.473 40.9789 L758.473 66.9452 Q753.734 70.3075 748.022 72.0494 Q742.31 73.7508 735.829 73.7508 Q721.65 73.7508 713.63 65.4869 Q705.649 57.1826 705.649 42.3968 Q705.649 27.5705 713.63 19.3066 Q721.65 11.0023 735.829 11.0023 Q741.743 11.0023 747.05 12.4606 Q752.397 13.9189 756.893 16.7545 L756.893 25.464 Q752.356 21.6156 747.252 19.6712 Q742.148 17.7268 736.517 17.7268 Q725.418 17.7268 719.828 23.9246 Q714.278 30.1225 714.278 42.3968 Q714.278 54.6305 719.828 60.8284 Q725.418 67.0263 736.517 67.0263 Q740.852 67.0263 744.254 66.2971 Q747.657 65.5274 750.371 63.9476 Z\" fill=\"#000000\" fill-rule=\"evenodd\" fill-opacity=\"1\" /><path clip-path=\"url(#clip760)\" d=\"M773.421 12.096 L811.662 12.096 L811.662 18.9825 L781.604 18.9825 L781.604 36.8875 L810.406 36.8875 L810.406 43.7741 L781.604 43.7741 L781.604 65.6895 L812.391 65.6895 L812.391 72.576 L773.421 72.576 L773.421 12.096 Z\" fill=\"#000000\" fill-rule=\"evenodd\" fill-opacity=\"1\" /><path clip-path=\"url(#clip760)\" d=\"M859.098 65.7705 L859.098 89.8329 L851.603 89.8329 L851.603 27.2059 L859.098 27.2059 L859.098 34.0924 Q861.447 30.0415 865.012 28.0971 Q868.617 26.1121 873.6 26.1121 Q881.864 26.1121 887.008 32.6746 Q892.193 39.2371 892.193 49.9314 Q892.193 60.6258 887.008 67.1883 Q881.864 73.7508 873.6 73.7508 Q868.617 73.7508 865.012 71.8063 Q861.447 69.8214 859.098 65.7705 M884.456 49.9314 Q884.456 41.7081 881.053 37.0496 Q877.691 32.3505 871.777 32.3505 Q865.863 32.3505 862.46 37.0496 Q859.098 41.7081 859.098 49.9314 Q859.098 58.1548 862.46 62.8538 Q865.863 67.5124 871.777 67.5124 Q877.691 67.5124 881.053 62.8538 Q884.456 58.1548 884.456 49.9314 Z\" fill=\"#000000\" fill-rule=\"evenodd\" fill-opacity=\"1\" /><path clip-path=\"url(#clip760)\" d=\"M930.839 34.1734 Q929.583 33.4443 928.084 33.1202 Q926.626 32.7556 924.844 32.7556 Q918.524 32.7556 915.122 36.8875 Q911.759 40.9789 911.759 48.6757 L911.759 72.576 L904.265 72.576 L904.265 27.2059 L911.759 27.2059 L911.759 34.2544 Q914.109 30.1225 917.876 28.1376 Q921.644 26.1121 927.031 26.1121 Q927.801 26.1121 928.733 26.2337 Q929.664 26.3147 930.799 26.5172 L930.839 34.1734 Z\" fill=\"#000000\" fill-rule=\"evenodd\" fill-opacity=\"1\" /><path clip-path=\"url(#clip760)\" d=\"M938.657 27.2059 L946.111 27.2059 L946.111 72.576 L938.657 72.576 L938.657 27.2059 M938.657 9.54393 L946.111 9.54393 L946.111 18.9825 L938.657 18.9825 L938.657 9.54393 Z\" fill=\"#000000\" fill-rule=\"evenodd\" fill-opacity=\"1\" /><path clip-path=\"url(#clip760)\" d=\"M994.357 28.9478 L994.357 35.9153 Q991.198 34.1734 987.997 33.3227 Q984.838 32.4315 981.597 32.4315 Q974.346 32.4315 970.335 37.0496 Q966.325 41.6271 966.325 49.9314 Q966.325 58.2358 970.335 62.8538 Q974.346 67.4314 981.597 67.4314 Q984.838 67.4314 987.997 66.5807 Q991.198 65.6895 994.357 63.9476 L994.357 70.8341 Q991.238 72.2924 987.876 73.0216 Q984.554 73.7508 980.787 73.7508 Q970.538 73.7508 964.502 67.3098 Q958.466 60.8689 958.466 49.9314 Q958.466 38.832 964.543 32.472 Q970.659 26.1121 981.273 26.1121 Q984.716 26.1121 987.997 26.8413 Q991.279 27.5299 994.357 28.9478 Z\" fill=\"#000000\" fill-rule=\"evenodd\" fill-opacity=\"1\" /><path clip-path=\"url(#clip760)\" d=\"M1046.13 48.0275 L1046.13 51.6733 L1011.86 51.6733 Q1012.34 59.3701 1016.48 63.421 Q1020.65 67.4314 1028.06 67.4314 Q1032.35 67.4314 1036.37 66.3781 Q1040.42 65.3249 1044.39 63.2184 L1044.39 70.267 Q1040.38 71.9684 1036.16 72.8596 Q1031.95 73.7508 1027.62 73.7508 Q1016.76 73.7508 1010.4 67.4314 Q1004.08 61.1119 1004.08 50.3365 Q1004.08 39.1965 1010.07 32.6746 Q1016.11 26.1121 1026.32 26.1121 Q1035.47 26.1121 1040.78 32.0264 Q1046.13 37.9003 1046.13 48.0275 M1038.67 45.84 Q1038.59 39.7232 1035.23 36.0774 Q1031.91 32.4315 1026.4 32.4315 Q1020.16 32.4315 1016.39 35.9558 Q1012.67 39.4801 1012.1 45.8805 L1038.67 45.84 Z\" fill=\"#000000\" fill-rule=\"evenodd\" fill-opacity=\"1\" /><path clip-path=\"url(#clip760)\" d=\"M1087.29 28.5427 L1087.29 35.5912 Q1084.13 33.9709 1080.72 33.1607 Q1077.32 32.3505 1073.67 32.3505 Q1068.12 32.3505 1065.33 34.0519 Q1062.57 35.7533 1062.57 39.156 Q1062.57 41.7486 1064.56 43.2475 Q1066.54 44.7058 1072.54 46.0426 L1075.09 46.6097 Q1083.03 48.3111 1086.35 51.4303 Q1089.72 54.509 1089.72 60.0587 Q1089.72 66.3781 1084.69 70.0644 Q1079.71 73.7508 1070.96 73.7508 Q1067.31 73.7508 1063.34 73.0216 Q1059.41 72.3329 1055.04 70.9151 L1055.04 63.2184 Q1059.17 65.3654 1063.18 66.4591 Q1067.19 67.5124 1071.12 67.5124 Q1076.39 67.5124 1079.22 65.73 Q1082.06 63.9071 1082.06 60.6258 Q1082.06 57.5877 1079.99 55.9673 Q1077.97 54.3469 1071.04 52.8481 L1068.45 52.2405 Q1061.52 50.7821 1058.44 47.7845 Q1055.36 44.7463 1055.36 39.4801 Q1055.36 33.0797 1059.9 29.5959 Q1064.44 26.1121 1072.78 26.1121 Q1076.91 26.1121 1080.56 26.7198 Q1084.21 27.3274 1087.29 28.5427 Z\" fill=\"#000000\" fill-rule=\"evenodd\" fill-opacity=\"1\" /><path clip-path=\"url(#clip760)\" d=\"M1123.62 27.2059 L1131.08 27.2059 L1140.39 62.6108 L1149.67 27.2059 L1158.46 27.2059 L1167.78 62.6108 L1177.05 27.2059 L1184.51 27.2059 L1172.64 72.576 L1163.85 72.576 L1154.08 35.3887 L1144.28 72.576 L1135.49 72.576 L1123.62 27.2059 Z\" fill=\"#000000\" fill-rule=\"evenodd\" fill-opacity=\"1\" /><path clip-path=\"url(#clip760)\" d=\"M1195.81 27.2059 L1203.26 27.2059 L1203.26 72.576 L1195.81 72.576 L1195.81 27.2059 M1195.81 9.54393 L1203.26 9.54393 L1203.26 18.9825 L1195.81 18.9825 L1195.81 9.54393 Z\" fill=\"#000000\" fill-rule=\"evenodd\" fill-opacity=\"1\" /><path clip-path=\"url(#clip760)\" d=\"M1226.23 14.324 L1226.23 27.2059 L1241.58 27.2059 L1241.58 32.9987 L1226.23 32.9987 L1226.23 57.6282 Q1226.23 63.1779 1227.73 64.7578 Q1229.27 66.3376 1233.93 66.3376 L1241.58 66.3376 L1241.58 72.576 L1233.93 72.576 Q1225.3 72.576 1222.02 69.3758 Q1218.74 66.1351 1218.74 57.6282 L1218.74 32.9987 L1213.27 32.9987 L1213.27 27.2059 L1218.74 27.2059 L1218.74 14.324 L1226.23 14.324 Z\" fill=\"#000000\" fill-rule=\"evenodd\" fill-opacity=\"1\" /><path clip-path=\"url(#clip760)\" d=\"M1289.1 45.1919 L1289.1 72.576 L1281.65 72.576 L1281.65 45.4349 Q1281.65 38.994 1279.14 35.7938 Q1276.62 32.5936 1271.6 32.5936 Q1265.57 32.5936 1262.08 36.4419 Q1258.6 40.2903 1258.6 46.9338 L1258.6 72.576 L1251.1 72.576 L1251.1 9.54393 L1258.6 9.54393 L1258.6 34.2544 Q1261.27 30.163 1264.88 28.1376 Q1268.52 26.1121 1273.26 26.1121 Q1281.08 26.1121 1285.09 30.9732 Q1289.1 35.7938 1289.1 45.1919 Z\" fill=\"#000000\" fill-rule=\"evenodd\" fill-opacity=\"1\" /><path clip-path=\"url(#clip760)\" d=\"M1356.18 39.9662 Q1362.06 41.222 1365.34 45.1919 Q1368.66 49.1618 1368.66 54.9951 Q1368.66 63.9476 1362.5 68.8492 Q1356.35 73.7508 1345 73.7508 Q1341.2 73.7508 1337.14 72.9811 Q1333.13 72.2519 1328.84 70.7531 L1328.84 62.8538 Q1332.24 64.8388 1336.29 65.8515 Q1340.35 66.8642 1344.76 66.8642 Q1352.46 66.8642 1356.47 63.826 Q1360.52 60.7879 1360.52 54.9951 Q1360.52 49.6479 1356.75 46.6502 Q1353.02 43.612 1346.34 43.612 L1339.29 43.612 L1339.29 36.8875 L1346.66 36.8875 Q1352.7 36.8875 1355.9 34.4975 Q1359.1 32.067 1359.1 27.5299 Q1359.1 22.8714 1355.78 20.4004 Q1352.5 17.8888 1346.34 17.8888 Q1342.98 17.8888 1339.13 18.618 Q1335.28 19.3471 1330.66 20.8865 L1330.66 13.5948 Q1335.32 12.2985 1339.37 11.6504 Q1343.46 11.0023 1347.07 11.0023 Q1356.39 11.0023 1361.81 15.2557 Q1367.24 19.4686 1367.24 26.6793 Q1367.24 31.7024 1364.37 35.1862 Q1361.49 38.6294 1356.18 39.9662 Z\" fill=\"#000000\" fill-rule=\"evenodd\" fill-opacity=\"1\" /><path clip-path=\"url(#clip760)\" d=\"M1401.68 17.4837 Q1395.36 17.4837 1392.16 23.7221 Q1389 29.92 1389 42.3968 Q1389 54.833 1392.16 61.0714 Q1395.36 67.2693 1401.68 67.2693 Q1408.04 67.2693 1411.2 61.0714 Q1414.4 54.833 1414.4 42.3968 Q1414.4 29.92 1411.2 23.7221 Q1408.04 17.4837 1401.68 17.4837 M1401.68 11.0023 Q1411.84 11.0023 1417.19 19.0636 Q1422.58 27.0843 1422.58 42.3968 Q1422.58 57.6687 1417.19 65.73 Q1411.84 73.7508 1401.68 73.7508 Q1391.51 73.7508 1386.12 65.73 Q1380.77 57.6687 1380.77 42.3968 Q1380.77 27.0843 1386.12 19.0636 Q1391.51 11.0023 1401.68 11.0023 Z\" fill=\"#000000\" fill-rule=\"evenodd\" fill-opacity=\"1\" /><path clip-path=\"url(#clip760)\" d=\"M1454.46 17.4837 Q1448.14 17.4837 1444.94 23.7221 Q1441.78 29.92 1441.78 42.3968 Q1441.78 54.833 1444.94 61.0714 Q1448.14 67.2693 1454.46 67.2693 Q1460.82 67.2693 1463.98 61.0714 Q1467.18 54.833 1467.18 42.3968 Q1467.18 29.92 1463.98 23.7221 Q1460.82 17.4837 1454.46 17.4837 M1454.46 11.0023 Q1464.63 11.0023 1469.97 19.0636 Q1475.36 27.0843 1475.36 42.3968 Q1475.36 57.6687 1469.97 65.73 Q1464.63 73.7508 1454.46 73.7508 Q1444.29 73.7508 1438.9 65.73 Q1433.56 57.6687 1433.56 42.3968 Q1433.56 27.0843 1438.9 19.0636 Q1444.29 11.0023 1454.46 11.0023 Z\" fill=\"#000000\" fill-rule=\"evenodd\" fill-opacity=\"1\" /><path clip-path=\"url(#clip760)\" d=\"M1535.68 49.7694 Q1526.65 49.7694 1523.16 51.8354 Q1519.68 53.9013 1519.68 58.8839 Q1519.68 62.8538 1522.27 65.2034 Q1524.9 67.5124 1529.4 67.5124 Q1535.6 67.5124 1539.33 63.1374 Q1543.09 58.7219 1543.09 51.4303 L1543.09 49.7694 L1535.68 49.7694 M1550.55 46.6907 L1550.55 72.576 L1543.09 72.576 L1543.09 65.6895 Q1540.54 69.8214 1536.73 71.8063 Q1532.93 73.7508 1527.42 73.7508 Q1520.45 73.7508 1516.32 69.8619 Q1512.22 65.9325 1512.22 59.3701 Q1512.22 51.7138 1517.33 47.825 Q1522.47 43.9361 1532.64 43.9361 L1543.09 43.9361 L1543.09 43.2069 Q1543.09 38.0623 1539.69 35.2672 Q1536.33 32.4315 1530.21 32.4315 Q1526.32 32.4315 1522.64 33.3632 Q1518.95 34.295 1515.55 36.1584 L1515.55 29.2718 Q1519.64 27.692 1523.49 26.9223 Q1527.33 26.1121 1530.98 26.1121 Q1540.82 26.1121 1545.69 31.2163 Q1550.55 36.3204 1550.55 46.6907 Z\" fill=\"#000000\" fill-rule=\"evenodd\" fill-opacity=\"1\" /><path clip-path=\"url(#clip760)\" d=\"M1595.75 49.3643 Q1595.75 41.2625 1592.39 36.8065 Q1589.07 32.3505 1583.03 32.3505 Q1577.04 32.3505 1573.68 36.8065 Q1570.36 41.2625 1570.36 49.3643 Q1570.36 57.4256 1573.68 61.8816 Q1577.04 66.3376 1583.03 66.3376 Q1589.07 66.3376 1592.39 61.8816 Q1595.75 57.4256 1595.75 49.3643 M1603.21 66.9452 Q1603.21 78.5308 1598.06 84.1616 Q1592.92 89.8329 1582.31 89.8329 Q1578.38 89.8329 1574.89 89.2252 Q1571.41 88.6581 1568.13 87.4428 L1568.13 80.1917 Q1571.41 81.9741 1574.61 82.8248 Q1577.81 83.6755 1581.13 83.6755 Q1588.46 83.6755 1592.11 79.8271 Q1595.75 76.0193 1595.75 68.282 L1595.75 64.5957 Q1593.45 68.6061 1589.84 70.5911 Q1586.23 72.576 1581.21 72.576 Q1572.87 72.576 1567.76 66.2161 Q1562.66 59.8562 1562.66 49.3643 Q1562.66 38.832 1567.76 32.472 Q1572.87 26.1121 1581.21 26.1121 Q1586.23 26.1121 1589.84 28.0971 Q1593.45 30.082 1595.75 34.0924 L1595.75 27.2059 L1603.21 27.2059 L1603.21 66.9452 Z\" fill=\"#000000\" fill-rule=\"evenodd\" fill-opacity=\"1\" /><path clip-path=\"url(#clip760)\" d=\"M1657.37 48.0275 L1657.37 51.6733 L1623.1 51.6733 Q1623.58 59.3701 1627.72 63.421 Q1631.89 67.4314 1639.3 67.4314 Q1643.6 67.4314 1647.61 66.3781 Q1651.66 65.3249 1655.63 63.2184 L1655.63 70.267 Q1651.62 71.9684 1647.4 72.8596 Q1643.19 73.7508 1638.86 73.7508 Q1628 73.7508 1621.64 67.4314 Q1615.32 61.1119 1615.32 50.3365 Q1615.32 39.1965 1621.32 32.6746 Q1627.35 26.1121 1637.56 26.1121 Q1646.71 26.1121 1652.02 32.0264 Q1657.37 37.9003 1657.37 48.0275 M1649.92 45.84 Q1649.83 39.7232 1646.47 36.0774 Q1643.15 32.4315 1637.64 32.4315 Q1631.4 32.4315 1627.64 35.9558 Q1623.91 39.4801 1623.34 45.8805 L1649.92 45.84 Z\" fill=\"#000000\" fill-rule=\"evenodd\" fill-opacity=\"1\" /><path clip-path=\"url(#clip760)\" d=\"M1707.32 45.1919 L1707.32 72.576 L1699.86 72.576 L1699.86 45.4349 Q1699.86 38.994 1697.35 35.7938 Q1694.84 32.5936 1689.82 32.5936 Q1683.78 32.5936 1680.3 36.4419 Q1676.81 40.2903 1676.81 46.9338 L1676.81 72.576 L1669.32 72.576 L1669.32 27.2059 L1676.81 27.2059 L1676.81 34.2544 Q1679.49 30.163 1683.09 28.1376 Q1686.74 26.1121 1691.48 26.1121 Q1699.3 26.1121 1703.31 30.9732 Q1707.32 35.7938 1707.32 45.1919 Z\" fill=\"#000000\" fill-rule=\"evenodd\" fill-opacity=\"1\" /><path clip-path=\"url(#clip760)\" d=\"M1729.56 14.324 L1729.56 27.2059 L1744.91 27.2059 L1744.91 32.9987 L1729.56 32.9987 L1729.56 57.6282 Q1729.56 63.1779 1731.05 64.7578 Q1732.59 66.3376 1737.25 66.3376 L1744.91 66.3376 L1744.91 72.576 L1737.25 72.576 Q1728.62 72.576 1725.34 69.3758 Q1722.06 66.1351 1722.06 57.6282 L1722.06 32.9987 L1716.59 32.9987 L1716.59 27.2059 L1722.06 27.2059 L1722.06 14.324 L1729.56 14.324 Z\" fill=\"#000000\" fill-rule=\"evenodd\" fill-opacity=\"1\" /><path clip-path=\"url(#clip760)\" d=\"M1783.64 28.5427 L1783.64 35.5912 Q1780.48 33.9709 1777.07 33.1607 Q1773.67 32.3505 1770.02 32.3505 Q1764.47 32.3505 1761.68 34.0519 Q1758.92 35.7533 1758.92 39.156 Q1758.92 41.7486 1760.91 43.2475 Q1762.89 44.7058 1768.89 46.0426 L1771.44 46.6097 Q1779.38 48.3111 1782.7 51.4303 Q1786.07 54.509 1786.07 60.0587 Q1786.07 66.3781 1781.04 70.0644 Q1776.06 73.7508 1767.31 73.7508 Q1763.66 73.7508 1759.69 73.0216 Q1755.77 72.3329 1751.39 70.9151 L1751.39 63.2184 Q1755.52 65.3654 1759.53 66.4591 Q1763.54 67.5124 1767.47 67.5124 Q1772.74 67.5124 1775.57 65.73 Q1778.41 63.9071 1778.41 60.6258 Q1778.41 57.5877 1776.34 55.9673 Q1774.32 54.3469 1767.39 52.8481 L1764.8 52.2405 Q1757.87 50.7821 1754.79 47.7845 Q1751.71 44.7463 1751.71 39.4801 Q1751.71 33.0797 1756.25 29.5959 Q1760.79 26.1121 1769.13 26.1121 Q1773.27 26.1121 1776.91 26.7198 Q1780.56 27.3274 1783.64 28.5427 Z\" fill=\"#000000\" fill-rule=\"evenodd\" fill-opacity=\"1\" /><polyline clip-path=\"url(#clip762)\" style=\"stroke:#009af9; stroke-linecap:butt; stroke-linejoin:round; stroke-width:4; stroke-opacity:1; fill:none\" points=\"\n",
       "  201.614,1075.77 205.799,1106.8 209.985,1136.77 214.17,1165.44 218.355,1192.75 222.541,1218.66 226.726,1243.09 230.911,1266.01 235.097,1287.36 239.282,1307.13 \n",
       "  243.468,1325.28 247.653,1341.82 251.838,1356.76 256.024,1370.13 260.209,1381.99 264.394,1392.4 268.58,1401.46 272.765,1409.27 276.95,1415.95 281.136,1421.6 \n",
       "  285.321,1426.35 289.506,1430.32 293.692,1433.61 297.877,1436.33 302.062,1438.55 306.248,1440.37 310.433,1441.86 314.618,1443.06 318.804,1444.03 322.989,1444.82 \n",
       "  327.174,1445.45 331.36,1445.96 335.545,1446.37 339.73,1446.69 343.916,1446.95 348.101,1447.16 352.286,1447.32 356.472,1447.45 360.657,1447.56 364.843,1447.64 \n",
       "  369.028,1447.7 373.213,1447.75 377.399,1447.79 381.584,1447.81 385.769,1447.83 389.955,1447.85 394.14,1447.86 398.325,1447.87 402.511,1447.87 406.696,1447.87 \n",
       "  410.881,1447.87 415.067,1447.87 419.252,1447.87 423.437,1447.87 427.623,1447.86 431.808,1447.86 435.993,1447.85 440.179,1447.85 444.364,1447.84 448.549,1447.84 \n",
       "  452.735,1447.83 456.92,1447.83 461.105,1447.82 465.291,1447.82 469.476,1447.81 473.661,1447.81 477.847,1447.8 482.032,1447.8 486.218,1447.79 490.403,1447.79 \n",
       "  494.588,1447.78 498.774,1447.78 502.959,1447.78 507.144,1447.77 511.33,1447.77 515.515,1447.76 519.7,1447.76 523.886,1447.76 528.071,1447.75 532.256,1447.75 \n",
       "  536.442,1447.75 540.627,1447.74 544.812,1447.74 548.998,1447.74 553.183,1447.73 557.368,1447.73 561.554,1447.73 565.739,1447.73 569.924,1447.72 574.11,1447.72 \n",
       "  578.295,1447.72 582.48,1447.72 586.666,1447.71 590.851,1447.71 595.037,1447.71 599.222,1447.71 603.407,1447.71 607.593,1447.7 611.778,1447.7 615.963,1447.7 \n",
       "  620.149,1447.7 624.334,1447.7 628.519,1447.7 632.705,1447.69 636.89,1447.69 641.075,1447.69 645.261,1447.69 649.446,1447.69 653.631,1447.69 657.817,1447.69 \n",
       "  662.002,1447.68 666.187,1447.68 670.373,1447.68 674.558,1447.68 678.743,1447.68 682.929,1447.68 687.114,1447.68 691.299,1447.68 695.485,1447.67 699.67,1447.67 \n",
       "  703.855,1447.67 708.041,1447.67 712.226,1447.67 716.412,1447.67 720.597,1447.67 724.782,1447.67 728.968,1447.67 733.153,1447.67 737.338,1447.67 741.524,1447.67 \n",
       "  745.709,1447.66 749.894,1447.66 754.08,1447.66 758.265,1447.66 762.45,1447.66 766.636,1447.66 770.821,1447.66 775.006,1447.66 779.192,1447.66 783.377,1447.66 \n",
       "  787.562,1447.66 791.748,1447.66 795.933,1447.66 800.118,1447.66 804.304,1447.66 808.489,1447.66 812.674,1447.66 816.86,1447.66 821.045,1447.66 825.23,1447.65 \n",
       "  829.416,1447.65 833.601,1447.65 837.787,1447.65 841.972,1447.65 846.157,1447.65 850.343,1447.65 854.528,1447.65 858.713,1447.65 862.899,1447.65 867.084,1447.65 \n",
       "  871.269,1447.65 875.455,1447.65 879.64,1447.65 883.825,1447.65 888.011,1447.65 892.196,1447.65 896.381,1447.65 900.567,1447.65 904.752,1447.65 908.937,1447.65 \n",
       "  913.123,1447.65 917.308,1447.65 921.493,1447.65 925.679,1447.65 929.864,1447.65 934.049,1447.65 938.235,1447.65 942.42,1447.65 946.605,1447.65 950.791,1447.65 \n",
       "  954.976,1447.65 959.162,1447.65 963.347,1447.65 967.532,1447.65 971.718,1447.65 975.903,1447.65 980.088,1447.65 984.274,1447.65 988.459,1447.65 992.644,1447.65 \n",
       "  996.83,1447.65 1001.01,1447.65 1005.2,1447.65 1009.39,1447.65 1013.57,1447.65 1017.76,1447.65 1021.94,1447.65 1026.13,1447.65 1030.31,1447.65 1034.5,1447.64 \n",
       "  1038.68,1447.64 1042.87,1447.64 1047.05,1447.64 1051.24,1447.64 1055.42,1447.64 1059.61,1447.64 1063.8,1447.64 1067.98,1447.64 1072.17,1447.64 1076.35,1447.64 \n",
       "  1080.54,1447.64 1084.72,1447.64 1088.91,1447.64 1093.09,1447.64 1097.28,1447.64 1101.46,1447.64 1105.65,1447.64 1109.83,1447.64 1114.02,1447.64 1118.2,1447.64 \n",
       "  1122.39,1447.64 1126.58,1447.64 1130.76,1447.64 1134.95,1447.64 1139.13,1447.64 1143.32,1447.64 1147.5,1447.64 1151.69,1447.64 1155.87,1447.64 1160.06,1447.64 \n",
       "  1164.24,1447.64 1168.43,1447.64 1172.61,1447.64 1176.8,1447.64 1180.98,1447.64 1185.17,1447.64 1189.36,1447.64 1193.54,1447.64 1197.73,1447.64 1201.91,1447.64 \n",
       "  1206.1,1447.64 1210.28,1447.64 1214.47,1447.64 1218.65,1447.64 1222.84,1447.64 1227.02,1447.64 1231.21,1447.64 1235.39,1447.64 1239.58,1447.64 1243.77,1447.64 \n",
       "  1247.95,1447.64 1252.14,1447.64 1256.32,1447.64 1260.51,1447.64 1264.69,1447.64 1268.88,1447.64 1273.06,1447.64 1277.25,1447.64 1281.43,1447.64 1285.62,1447.64 \n",
       "  1289.8,1447.64 1293.99,1447.64 1298.17,1447.64 1302.36,1447.64 1306.55,1447.64 1310.73,1447.64 1314.92,1447.64 1319.1,1447.64 1323.29,1447.64 1327.47,1447.64 \n",
       "  1331.66,1447.64 1335.84,1447.64 1340.03,1447.64 1344.21,1447.64 1348.4,1447.64 1352.58,1447.64 1356.77,1447.64 1360.95,1447.64 1365.14,1447.64 1369.33,1447.64 \n",
       "  1373.51,1447.64 1377.7,1447.64 1381.88,1447.64 1386.07,1447.64 1390.25,1447.64 1394.44,1447.64 1398.62,1447.64 1402.81,1447.64 1406.99,1447.64 1411.18,1447.64 \n",
       "  1415.36,1447.64 1419.55,1447.64 1423.73,1447.64 1427.92,1447.64 1432.11,1447.64 1436.29,1447.64 1440.48,1447.64 1444.66,1447.64 1448.85,1447.64 1453.03,1447.64 \n",
       "  1457.22,1447.64 1461.4,1447.64 1465.59,1447.64 1469.77,1447.64 1473.96,1447.64 1478.14,1447.64 1482.33,1447.64 1486.52,1447.64 1490.7,1447.64 1494.89,1447.64 \n",
       "  1499.07,1447.64 1503.26,1447.64 1507.44,1447.64 1511.63,1447.64 1515.81,1447.64 1520,1447.64 1524.18,1447.64 1528.37,1447.64 1532.55,1447.64 1536.74,1447.64 \n",
       "  1540.92,1447.64 1545.11,1447.64 1549.3,1447.64 1553.48,1447.64 1557.67,1447.64 1561.85,1447.64 1566.04,1447.64 1570.22,1447.64 1574.41,1447.64 1578.59,1447.64 \n",
       "  1582.78,1447.64 1586.96,1447.64 1591.15,1447.64 1595.33,1447.64 1599.52,1447.64 1603.7,1447.64 1607.89,1447.64 1612.08,1447.64 1616.26,1447.64 1620.45,1447.64 \n",
       "  1624.63,1447.64 1628.82,1447.64 1633,1447.64 1637.19,1447.64 1641.37,1447.64 1645.56,1447.64 1649.74,1447.64 1653.93,1447.64 1658.11,1447.64 1662.3,1447.64 \n",
       "  1666.48,1447.64 1670.67,1447.64 1674.86,1447.64 1679.04,1447.64 1683.23,1447.64 1687.41,1447.64 1691.6,1447.64 1695.78,1447.64 1699.97,1447.64 1704.15,1447.64 \n",
       "  1708.34,1447.64 1712.52,1447.64 1716.71,1447.64 1720.89,1447.64 1725.08,1447.64 1729.27,1447.64 1733.45,1447.64 1737.64,1447.64 1741.82,1447.64 1746.01,1447.64 \n",
       "  1750.19,1447.64 1754.38,1447.64 1758.56,1447.64 1762.75,1447.64 1766.93,1447.64 1771.12,1447.64 1775.3,1447.64 1779.49,1447.64 1783.67,1447.64 1787.86,1447.64 \n",
       "  1792.05,1447.64 1796.23,1447.64 1800.42,1447.64 1804.6,1447.64 1808.79,1447.64 1812.97,1447.64 1817.16,1447.64 1821.34,1447.64 1825.53,1447.64 1829.71,1447.64 \n",
       "  1833.9,1447.64 1838.08,1447.64 1842.27,1447.64 1846.45,1447.64 1850.64,1447.64 1854.83,1447.64 1859.01,1447.64 1863.2,1447.64 1867.38,1447.64 1871.57,1447.64 \n",
       "  1875.75,1447.64 1879.94,1447.64 1884.12,1447.64 1888.31,1447.64 1892.49,1447.64 1896.68,1447.64 1900.86,1447.64 1905.05,1447.64 1909.23,1447.64 1913.42,1447.64 \n",
       "  1917.61,1447.64 1921.79,1447.64 1925.98,1447.64 1930.16,1447.64 1934.35,1447.64 1938.53,1447.64 1942.72,1447.64 1946.9,1447.64 1951.09,1447.64 1955.27,1447.64 \n",
       "  1959.46,1447.64 1963.64,1447.64 1967.83,1447.64 1972.02,1447.64 1976.2,1447.64 1980.39,1447.64 1984.57,1447.64 1988.76,1447.64 1992.94,1447.64 1997.13,1447.64 \n",
       "  2001.31,1447.64 2005.5,1447.64 2009.68,1447.64 2013.87,1447.64 2018.05,1447.64 2022.24,1447.64 2026.42,1447.64 2030.61,1447.64 2034.8,1447.64 2038.98,1447.64 \n",
       "  2043.17,1447.64 2047.35,1447.64 2051.54,1447.64 2055.72,1447.64 2059.91,1447.64 2064.09,1447.64 2068.28,1447.64 2072.46,1447.64 2076.65,1447.64 2080.83,1447.64 \n",
       "  2085.02,1447.64 2089.2,1447.64 2093.39,1447.64 2097.58,1447.64 2101.76,1447.64 2105.95,1447.64 2110.13,1447.64 2114.32,1447.64 2118.5,1447.64 2122.69,1447.64 \n",
       "  2126.87,1447.64 2131.06,1447.64 2135.24,1447.64 2139.43,1447.64 2143.61,1447.64 2147.8,1447.64 2151.98,1447.64 2156.17,1447.64 2160.36,1447.64 2164.54,1447.64 \n",
       "  2168.73,1447.64 2172.91,1447.64 2177.1,1447.64 2181.28,1447.64 2185.47,1447.64 2189.65,1447.64 2193.84,1447.64 2198.02,1447.64 2202.21,1447.64 2206.39,1447.64 \n",
       "  2210.58,1447.64 2214.77,1447.64 2218.95,1447.64 2223.14,1447.64 2227.32,1447.64 2231.51,1447.64 2235.69,1447.64 2239.88,1447.64 2244.06,1447.64 2248.25,1447.64 \n",
       "  2252.43,1447.64 2256.62,1447.64 2260.8,1447.64 2264.99,1447.64 2269.17,1447.64 2273.36,1447.64 2277.55,1447.64 2281.73,1447.64 2285.92,1447.64 2290.1,1447.64 \n",
       "  \n",
       "  \"/>\n",
       "<polyline clip-path=\"url(#clip762)\" style=\"stroke:#e26f46; stroke-linecap:butt; stroke-linejoin:round; stroke-width:4; stroke-opacity:1; fill:none\" points=\"\n",
       "  201.614,933.056 205.799,923.696 209.985,915.311 214.17,907.747 218.355,900.941 222.541,894.834 226.726,889.373 230.911,884.504 235.097,880.178 239.282,876.346 \n",
       "  243.468,872.963 247.653,869.984 251.838,867.369 256.024,865.077 260.209,863.071 264.394,861.316 268.58,859.781 272.765,858.436 276.95,857.255 281.136,856.214 \n",
       "  285.321,855.293 289.506,854.473 293.692,853.74 297.877,853.08 302.062,852.482 306.248,851.937 310.433,851.436 314.618,850.973 318.804,850.542 322.989,850.14 \n",
       "  327.174,849.762 331.36,849.406 335.545,849.068 339.73,848.747 343.916,848.441 348.101,848.149 352.286,847.868 356.472,847.599 360.657,847.341 364.843,847.092 \n",
       "  369.028,846.852 373.213,846.62 377.399,846.397 381.584,846.181 385.769,845.972 389.955,845.77 394.14,845.574 398.325,845.385 402.511,845.202 406.696,845.024 \n",
       "  410.881,844.852 415.067,844.686 419.252,844.525 423.437,844.368 427.623,844.217 431.808,844.07 435.993,843.928 440.179,843.79 444.364,843.656 448.549,843.526 \n",
       "  452.735,843.401 456.92,843.279 461.105,843.161 465.291,843.046 469.476,842.935 473.661,842.828 477.847,842.723 482.032,842.622 486.218,842.524 490.403,842.429 \n",
       "  494.588,842.336 498.774,842.247 502.959,842.16 507.144,842.076 511.33,841.995 515.515,841.916 519.7,841.839 523.886,841.765 528.071,841.692 532.256,841.623 \n",
       "  536.442,841.555 540.627,841.489 544.812,841.425 548.998,841.363 553.183,841.304 557.368,841.245 561.554,841.189 565.739,841.134 569.924,841.081 574.11,841.03 \n",
       "  578.295,840.98 582.48,840.932 586.666,840.885 590.851,840.84 595.037,840.796 599.222,840.753 603.407,840.711 607.593,840.671 611.778,840.632 615.963,840.594 \n",
       "  620.149,840.558 624.334,840.522 628.519,840.488 632.705,840.454 636.89,840.422 641.075,840.391 645.261,840.36 649.446,840.331 653.631,840.302 657.817,840.274 \n",
       "  662.002,840.247 666.187,840.221 670.373,840.196 674.558,840.171 678.743,840.147 682.929,840.124 687.114,840.102 691.299,840.08 695.485,840.059 699.67,840.039 \n",
       "  703.855,840.019 708.041,840 712.226,839.981 716.412,839.963 720.597,839.945 724.782,839.928 728.968,839.912 733.153,839.896 737.338,839.88 741.524,839.865 \n",
       "  745.709,839.851 749.894,839.837 754.08,839.823 758.265,839.81 762.45,839.797 766.636,839.784 770.821,839.772 775.006,839.76 779.192,839.749 783.377,839.738 \n",
       "  787.562,839.727 791.748,839.717 795.933,839.707 800.118,839.697 804.304,839.687 808.489,839.678 812.674,839.669 816.86,839.661 821.045,839.652 825.23,839.644 \n",
       "  829.416,839.636 833.601,839.628 837.787,839.621 841.972,839.614 846.157,839.607 850.343,839.6 854.528,839.593 858.713,839.587 862.899,839.581 867.084,839.575 \n",
       "  871.269,839.569 875.455,839.564 879.64,839.558 883.825,839.553 888.011,839.548 892.196,839.543 896.381,839.538 900.567,839.533 904.752,839.529 908.937,839.524 \n",
       "  913.123,839.52 917.308,839.516 921.493,839.512 925.679,839.508 929.864,839.504 934.049,839.5 938.235,839.497 942.42,839.493 946.605,839.49 950.791,839.487 \n",
       "  954.976,839.484 959.162,839.481 963.347,839.478 967.532,839.475 971.718,839.472 975.903,839.469 980.088,839.467 984.274,839.464 988.459,839.462 992.644,839.459 \n",
       "  996.83,839.457 1001.01,839.455 1005.2,839.453 1009.39,839.45 1013.57,839.448 1017.76,839.446 1021.94,839.445 1026.13,839.443 1030.31,839.441 1034.5,839.439 \n",
       "  1038.68,839.437 1042.87,839.436 1047.05,839.434 1051.24,839.433 1055.42,839.431 1059.61,839.43 1063.8,839.428 1067.98,839.427 1072.17,839.426 1076.35,839.424 \n",
       "  1080.54,839.423 1084.72,839.422 1088.91,839.421 1093.09,839.419 1097.28,839.418 1101.46,839.417 1105.65,839.416 1109.83,839.415 1114.02,839.414 1118.2,839.413 \n",
       "  1122.39,839.412 1126.58,839.411 1130.76,839.411 1134.95,839.41 1139.13,839.409 1143.32,839.408 1147.5,839.407 1151.69,839.407 1155.87,839.406 1160.06,839.405 \n",
       "  1164.24,839.405 1168.43,839.404 1172.61,839.403 1176.8,839.403 1180.98,839.402 1185.17,839.401 1189.36,839.401 1193.54,839.4 1197.73,839.4 1201.91,839.399 \n",
       "  1206.1,839.399 1210.28,839.398 1214.47,839.398 1218.65,839.397 1222.84,839.397 1227.02,839.396 1231.21,839.396 1235.39,839.396 1239.58,839.395 1243.77,839.395 \n",
       "  1247.95,839.395 1252.14,839.394 1256.32,839.394 1260.51,839.393 1264.69,839.393 1268.88,839.393 1273.06,839.393 1277.25,839.392 1281.43,839.392 1285.62,839.392 \n",
       "  1289.8,839.391 1293.99,839.391 1298.17,839.391 1302.36,839.391 1306.55,839.39 1310.73,839.39 1314.92,839.39 1319.1,839.39 1323.29,839.39 1327.47,839.389 \n",
       "  1331.66,839.389 1335.84,839.389 1340.03,839.389 1344.21,839.389 1348.4,839.388 1352.58,839.388 1356.77,839.388 1360.95,839.388 1365.14,839.388 1369.33,839.388 \n",
       "  1373.51,839.387 1377.7,839.387 1381.88,839.387 1386.07,839.387 1390.25,839.387 1394.44,839.387 1398.62,839.387 1402.81,839.387 1406.99,839.386 1411.18,839.386 \n",
       "  1415.36,839.386 1419.55,839.386 1423.73,839.386 1427.92,839.386 1432.11,839.386 1436.29,839.386 1440.48,839.386 1444.66,839.386 1448.85,839.385 1453.03,839.385 \n",
       "  1457.22,839.385 1461.4,839.385 1465.59,839.385 1469.77,839.385 1473.96,839.385 1478.14,839.385 1482.33,839.385 1486.52,839.385 1490.7,839.385 1494.89,839.385 \n",
       "  1499.07,839.385 1503.26,839.385 1507.44,839.385 1511.63,839.384 1515.81,839.384 1520,839.384 1524.18,839.384 1528.37,839.384 1532.55,839.384 1536.74,839.384 \n",
       "  1540.92,839.384 1545.11,839.384 1549.3,839.384 1553.48,839.384 1557.67,839.384 1561.85,839.384 1566.04,839.384 1570.22,839.384 1574.41,839.384 1578.59,839.384 \n",
       "  1582.78,839.384 1586.96,839.384 1591.15,839.384 1595.33,839.384 1599.52,839.384 1603.7,839.384 1607.89,839.384 1612.08,839.384 1616.26,839.384 1620.45,839.384 \n",
       "  1624.63,839.383 1628.82,839.383 1633,839.383 1637.19,839.383 1641.37,839.383 1645.56,839.383 1649.74,839.383 1653.93,839.383 1658.11,839.383 1662.3,839.383 \n",
       "  1666.48,839.383 1670.67,839.383 1674.86,839.383 1679.04,839.383 1683.23,839.383 1687.41,839.383 1691.6,839.383 1695.78,839.383 1699.97,839.383 1704.15,839.383 \n",
       "  1708.34,839.383 1712.52,839.383 1716.71,839.383 1720.89,839.383 1725.08,839.383 1729.27,839.383 1733.45,839.383 1737.64,839.383 1741.82,839.383 1746.01,839.383 \n",
       "  1750.19,839.383 1754.38,839.383 1758.56,839.383 1762.75,839.383 1766.93,839.383 1771.12,839.383 1775.3,839.383 1779.49,839.383 1783.67,839.383 1787.86,839.383 \n",
       "  1792.05,839.383 1796.23,839.383 1800.42,839.383 1804.6,839.383 1808.79,839.383 1812.97,839.383 1817.16,839.383 1821.34,839.383 1825.53,839.383 1829.71,839.383 \n",
       "  1833.9,839.383 1838.08,839.383 1842.27,839.383 1846.45,839.383 1850.64,839.383 1854.83,839.383 1859.01,839.383 1863.2,839.383 1867.38,839.383 1871.57,839.383 \n",
       "  1875.75,839.383 1879.94,839.383 1884.12,839.383 1888.31,839.383 1892.49,839.383 1896.68,839.383 1900.86,839.383 1905.05,839.383 1909.23,839.383 1913.42,839.383 \n",
       "  1917.61,839.383 1921.79,839.383 1925.98,839.383 1930.16,839.383 1934.35,839.383 1938.53,839.383 1942.72,839.383 1946.9,839.383 1951.09,839.383 1955.27,839.383 \n",
       "  1959.46,839.383 1963.64,839.383 1967.83,839.383 1972.02,839.383 1976.2,839.383 1980.39,839.383 1984.57,839.383 1988.76,839.383 1992.94,839.383 1997.13,839.383 \n",
       "  2001.31,839.383 2005.5,839.383 2009.68,839.383 2013.87,839.383 2018.05,839.383 2022.24,839.383 2026.42,839.383 2030.61,839.383 2034.8,839.383 2038.98,839.383 \n",
       "  2043.17,839.383 2047.35,839.383 2051.54,839.383 2055.72,839.383 2059.91,839.383 2064.09,839.383 2068.28,839.383 2072.46,839.383 2076.65,839.383 2080.83,839.383 \n",
       "  2085.02,839.383 2089.2,839.383 2093.39,839.383 2097.58,839.383 2101.76,839.383 2105.95,839.383 2110.13,839.383 2114.32,839.383 2118.5,839.383 2122.69,839.383 \n",
       "  2126.87,839.383 2131.06,839.383 2135.24,839.383 2139.43,839.383 2143.61,839.383 2147.8,839.383 2151.98,839.383 2156.17,839.383 2160.36,839.383 2164.54,839.383 \n",
       "  2168.73,839.383 2172.91,839.383 2177.1,839.383 2181.28,839.383 2185.47,839.383 2189.65,839.383 2193.84,839.383 2198.02,839.383 2202.21,839.383 2206.39,839.383 \n",
       "  2210.58,839.383 2214.77,839.383 2218.95,839.383 2223.14,839.383 2227.32,839.383 2231.51,839.383 2235.69,839.383 2239.88,839.383 2244.06,839.383 2248.25,839.383 \n",
       "  2252.43,839.383 2256.62,839.383 2260.8,839.383 2264.99,839.383 2269.17,839.383 2273.36,839.383 2277.55,839.383 2281.73,839.383 2285.92,839.383 2290.1,839.383 \n",
       "  \n",
       "  \"/>\n",
       "<polyline clip-path=\"url(#clip762)\" style=\"stroke:#3da44d; stroke-linecap:butt; stroke-linejoin:round; stroke-width:4; stroke-opacity:1; fill:none\" points=\"\n",
       "  201.614,219.503 205.799,211.768 209.985,204.817 214.17,198.604 218.355,193.078 222.541,188.192 226.726,183.899 230.911,180.151 235.097,176.902 239.282,174.11 \n",
       "  243.468,171.728 247.653,169.717 251.838,168.034 256.024,166.642 260.209,165.504 264.394,164.586 268.58,163.858 272.765,163.29 276.95,162.858 281.136,162.539 \n",
       "  285.321,162.314 289.506,162.167 293.692,162.081 297.877,162.047 302.062,162.053 306.248,162.091 310.433,162.154 314.618,162.237 318.804,162.335 322.989,162.443 \n",
       "  327.174,162.56 331.36,162.682 335.545,162.808 339.73,162.937 343.916,163.066 348.101,163.195 352.286,163.323 356.472,163.45 360.657,163.575 364.843,163.698 \n",
       "  369.028,163.819 373.213,163.937 377.399,164.052 381.584,164.164 385.769,164.274 389.955,164.38 394.14,164.484 398.325,164.585 402.511,164.683 406.696,164.778 \n",
       "  410.881,164.871 415.067,164.961 419.252,165.048 423.437,165.133 427.623,165.215 431.808,165.295 435.993,165.372 440.179,165.447 444.364,165.52 448.549,165.591 \n",
       "  452.735,165.659 456.92,165.726 461.105,165.79 465.291,165.853 469.476,165.914 473.661,165.972 477.847,166.029 482.032,166.085 486.218,166.138 490.403,166.19 \n",
       "  494.588,166.241 498.774,166.29 502.959,166.337 507.144,166.383 511.33,166.428 515.515,166.471 519.7,166.513 523.886,166.554 528.071,166.594 532.256,166.632 \n",
       "  536.442,166.669 540.627,166.705 544.812,166.74 548.998,166.774 553.183,166.807 557.368,166.839 561.554,166.869 565.739,166.899 569.924,166.929 574.11,166.957 \n",
       "  578.295,166.984 582.48,167.011 586.666,167.036 590.851,167.061 595.037,167.085 599.222,167.109 603.407,167.132 607.593,167.154 611.778,167.175 615.963,167.196 \n",
       "  620.149,167.216 624.334,167.235 628.519,167.254 632.705,167.273 636.89,167.29 641.075,167.308 645.261,167.324 649.446,167.341 653.631,167.356 657.817,167.372 \n",
       "  662.002,167.386 666.187,167.401 670.373,167.415 674.558,167.428 678.743,167.441 682.929,167.454 687.114,167.466 691.299,167.478 695.485,167.49 699.67,167.501 \n",
       "  703.855,167.512 708.041,167.522 712.226,167.533 716.412,167.543 720.597,167.552 724.782,167.562 728.968,167.571 733.153,167.579 737.338,167.588 741.524,167.596 \n",
       "  745.709,167.604 749.894,167.612 754.08,167.62 758.265,167.627 762.45,167.634 766.636,167.641 770.821,167.647 775.006,167.654 779.192,167.66 783.377,167.666 \n",
       "  787.562,167.672 791.748,167.678 795.933,167.683 800.118,167.689 804.304,167.694 808.489,167.699 812.674,167.704 816.86,167.709 821.045,167.713 825.23,167.718 \n",
       "  829.416,167.722 833.601,167.726 837.787,167.73 841.972,167.734 846.157,167.738 850.343,167.742 854.528,167.746 858.713,167.749 862.899,167.752 867.084,167.756 \n",
       "  871.269,167.759 875.455,167.762 879.64,167.765 883.825,167.768 888.011,167.771 892.196,167.774 896.381,167.776 900.567,167.779 904.752,167.781 908.937,167.784 \n",
       "  913.123,167.786 917.308,167.788 921.493,167.791 925.679,167.793 929.864,167.795 934.049,167.797 938.235,167.799 942.42,167.801 946.605,167.802 950.791,167.804 \n",
       "  954.976,167.806 959.162,167.808 963.347,167.809 967.532,167.811 971.718,167.812 975.903,167.814 980.088,167.815 984.274,167.817 988.459,167.818 992.644,167.819 \n",
       "  996.83,167.821 1001.01,167.822 1005.2,167.823 1009.39,167.824 1013.57,167.825 1017.76,167.826 1021.94,167.827 1026.13,167.829 1030.31,167.829 1034.5,167.83 \n",
       "  1038.68,167.831 1042.87,167.832 1047.05,167.833 1051.24,167.834 1055.42,167.835 1059.61,167.836 1063.8,167.836 1067.98,167.837 1072.17,167.838 1076.35,167.839 \n",
       "  1080.54,167.839 1084.72,167.84 1088.91,167.841 1093.09,167.841 1097.28,167.842 1101.46,167.842 1105.65,167.843 1109.83,167.844 1114.02,167.844 1118.2,167.845 \n",
       "  1122.39,167.845 1126.58,167.846 1130.76,167.846 1134.95,167.847 1139.13,167.847 1143.32,167.847 1147.5,167.848 1151.69,167.848 1155.87,167.849 1160.06,167.849 \n",
       "  1164.24,167.849 1168.43,167.85 1172.61,167.85 1176.8,167.851 1180.98,167.851 1185.17,167.851 1189.36,167.851 1193.54,167.852 1197.73,167.852 1201.91,167.852 \n",
       "  1206.1,167.853 1210.28,167.853 1214.47,167.853 1218.65,167.853 1222.84,167.854 1227.02,167.854 1231.21,167.854 1235.39,167.854 1239.58,167.855 1243.77,167.855 \n",
       "  1247.95,167.855 1252.14,167.855 1256.32,167.855 1260.51,167.856 1264.69,167.856 1268.88,167.856 1273.06,167.856 1277.25,167.856 1281.43,167.856 1285.62,167.857 \n",
       "  1289.8,167.857 1293.99,167.857 1298.17,167.857 1302.36,167.857 1306.55,167.857 1310.73,167.857 1314.92,167.857 1319.1,167.858 1323.29,167.858 1327.47,167.858 \n",
       "  1331.66,167.858 1335.84,167.858 1340.03,167.858 1344.21,167.858 1348.4,167.858 1352.58,167.858 1356.77,167.859 1360.95,167.859 1365.14,167.859 1369.33,167.859 \n",
       "  1373.51,167.859 1377.7,167.859 1381.88,167.859 1386.07,167.859 1390.25,167.859 1394.44,167.859 1398.62,167.859 1402.81,167.859 1406.99,167.859 1411.18,167.859 \n",
       "  1415.36,167.86 1419.55,167.86 1423.73,167.86 1427.92,167.86 1432.11,167.86 1436.29,167.86 1440.48,167.86 1444.66,167.86 1448.85,167.86 1453.03,167.86 \n",
       "  1457.22,167.86 1461.4,167.86 1465.59,167.86 1469.77,167.86 1473.96,167.86 1478.14,167.86 1482.33,167.86 1486.52,167.86 1490.7,167.86 1494.89,167.86 \n",
       "  1499.07,167.86 1503.26,167.86 1507.44,167.86 1511.63,167.861 1515.81,167.861 1520,167.861 1524.18,167.861 1528.37,167.861 1532.55,167.861 1536.74,167.861 \n",
       "  1540.92,167.861 1545.11,167.861 1549.3,167.861 1553.48,167.861 1557.67,167.861 1561.85,167.861 1566.04,167.861 1570.22,167.861 1574.41,167.861 1578.59,167.861 \n",
       "  1582.78,167.861 1586.96,167.861 1591.15,167.861 1595.33,167.861 1599.52,167.861 1603.7,167.861 1607.89,167.861 1612.08,167.861 1616.26,167.861 1620.45,167.861 \n",
       "  1624.63,167.861 1628.82,167.861 1633,167.861 1637.19,167.861 1641.37,167.861 1645.56,167.861 1649.74,167.861 1653.93,167.861 1658.11,167.861 1662.3,167.861 \n",
       "  1666.48,167.861 1670.67,167.861 1674.86,167.861 1679.04,167.861 1683.23,167.861 1687.41,167.861 1691.6,167.861 1695.78,167.861 1699.97,167.861 1704.15,167.861 \n",
       "  1708.34,167.861 1712.52,167.861 1716.71,167.861 1720.89,167.861 1725.08,167.861 1729.27,167.861 1733.45,167.861 1737.64,167.861 1741.82,167.861 1746.01,167.861 \n",
       "  1750.19,167.861 1754.38,167.861 1758.56,167.861 1762.75,167.861 1766.93,167.861 1771.12,167.861 1775.3,167.861 1779.49,167.861 1783.67,167.861 1787.86,167.861 \n",
       "  1792.05,167.861 1796.23,167.861 1800.42,167.861 1804.6,167.861 1808.79,167.861 1812.97,167.861 1817.16,167.861 1821.34,167.861 1825.53,167.861 1829.71,167.861 \n",
       "  1833.9,167.861 1838.08,167.861 1842.27,167.861 1846.45,167.861 1850.64,167.861 1854.83,167.861 1859.01,167.861 1863.2,167.861 1867.38,167.861 1871.57,167.861 \n",
       "  1875.75,167.861 1879.94,167.861 1884.12,167.861 1888.31,167.861 1892.49,167.861 1896.68,167.861 1900.86,167.861 1905.05,167.861 1909.23,167.861 1913.42,167.861 \n",
       "  1917.61,167.861 1921.79,167.861 1925.98,167.861 1930.16,167.861 1934.35,167.861 1938.53,167.861 1942.72,167.861 1946.9,167.861 1951.09,167.861 1955.27,167.861 \n",
       "  1959.46,167.861 1963.64,167.861 1967.83,167.861 1972.02,167.861 1976.2,167.861 1980.39,167.861 1984.57,167.861 1988.76,167.861 1992.94,167.861 1997.13,167.861 \n",
       "  2001.31,167.861 2005.5,167.861 2009.68,167.861 2013.87,167.861 2018.05,167.861 2022.24,167.861 2026.42,167.861 2030.61,167.861 2034.8,167.861 2038.98,167.861 \n",
       "  2043.17,167.861 2047.35,167.861 2051.54,167.861 2055.72,167.861 2059.91,167.861 2064.09,167.861 2068.28,167.861 2072.46,167.861 2076.65,167.861 2080.83,167.861 \n",
       "  2085.02,167.861 2089.2,167.861 2093.39,167.861 2097.58,167.861 2101.76,167.861 2105.95,167.861 2110.13,167.861 2114.32,167.861 2118.5,167.861 2122.69,167.861 \n",
       "  2126.87,167.861 2131.06,167.861 2135.24,167.861 2139.43,167.861 2143.61,167.861 2147.8,167.861 2151.98,167.861 2156.17,167.861 2160.36,167.861 2164.54,167.861 \n",
       "  2168.73,167.861 2172.91,167.861 2177.1,167.861 2181.28,167.861 2185.47,167.861 2189.65,167.861 2193.84,167.861 2198.02,167.861 2202.21,167.861 2206.39,167.861 \n",
       "  2210.58,167.861 2214.77,167.861 2218.95,167.861 2223.14,167.861 2227.32,167.861 2231.51,167.861 2235.69,167.861 2239.88,167.861 2244.06,167.861 2248.25,167.861 \n",
       "  2252.43,167.861 2256.62,167.861 2260.8,167.861 2264.99,167.861 2269.17,167.861 2273.36,167.861 2277.55,167.861 2281.73,167.861 2285.92,167.861 2290.1,167.861 \n",
       "  \n",
       "  \"/>\n",
       "<path clip-path=\"url(#clip760)\" d=\"\n",
       "M1855.86 376.265 L2278.96 376.265 L2278.96 168.905 L1855.86 168.905  Z\n",
       "  \" fill=\"#ffffff\" fill-rule=\"evenodd\" fill-opacity=\"1\"/>\n",
       "<polyline clip-path=\"url(#clip760)\" style=\"stroke:#000000; stroke-linecap:butt; stroke-linejoin:round; stroke-width:4; stroke-opacity:1; fill:none\" points=\"\n",
       "  1855.86,376.265 2278.96,376.265 2278.96,168.905 1855.86,168.905 1855.86,376.265 \n",
       "  \"/>\n",
       "<polyline clip-path=\"url(#clip760)\" style=\"stroke:#009af9; stroke-linecap:butt; stroke-linejoin:round; stroke-width:4; stroke-opacity:1; fill:none\" points=\"\n",
       "  1880.45,220.745 2028.04,220.745 \n",
       "  \"/>\n",
       "<path clip-path=\"url(#clip760)\" d=\"M2057.31 207.307 L2057.31 220.293 L2063.19 220.293 Q2066.46 220.293 2068.24 218.603 Q2070.02 216.914 2070.02 213.789 Q2070.02 210.687 2068.24 208.997 Q2066.46 207.307 2063.19 207.307 L2057.31 207.307 M2052.64 203.465 L2063.19 203.465 Q2069 203.465 2071.97 206.104 Q2074.95 208.719 2074.95 213.789 Q2074.95 218.904 2071.97 221.52 Q2069 224.136 2063.19 224.136 L2057.31 224.136 L2057.31 238.025 L2052.64 238.025 L2052.64 203.465 Z\" fill=\"#000000\" fill-rule=\"evenodd\" fill-opacity=\"1\" /><path clip-path=\"url(#clip760)\" d=\"M2095.23 216.08 Q2094.51 215.664 2093.66 215.478 Q2092.82 215.27 2091.8 215.27 Q2088.19 215.27 2086.25 217.631 Q2084.33 219.969 2084.33 224.367 L2084.33 238.025 L2080.05 238.025 L2080.05 212.099 L2084.33 212.099 L2084.33 216.127 Q2085.67 213.766 2087.82 212.631 Q2089.98 211.474 2093.05 211.474 Q2093.49 211.474 2094.03 211.543 Q2094.56 211.59 2095.21 211.705 L2095.23 216.08 Z\" fill=\"#000000\" fill-rule=\"evenodd\" fill-opacity=\"1\" /><path clip-path=\"url(#clip760)\" d=\"M2099.7 212.099 L2103.96 212.099 L2103.96 238.025 L2099.7 238.025 L2099.7 212.099 M2099.7 202.006 L2103.96 202.006 L2103.96 207.4 L2099.7 207.4 L2099.7 202.006 Z\" fill=\"#000000\" fill-rule=\"evenodd\" fill-opacity=\"1\" /><path clip-path=\"url(#clip760)\" d=\"M2133.05 217.076 Q2134.65 214.205 2136.87 212.84 Q2139.1 211.474 2142.11 211.474 Q2146.16 211.474 2148.36 214.321 Q2150.55 217.145 2150.55 222.377 L2150.55 238.025 L2146.27 238.025 L2146.27 222.515 Q2146.27 218.789 2144.95 216.983 Q2143.63 215.178 2140.93 215.178 Q2137.61 215.178 2135.69 217.377 Q2133.77 219.576 2133.77 223.372 L2133.77 238.025 L2129.49 238.025 L2129.49 222.515 Q2129.49 218.765 2128.17 216.983 Q2126.85 215.178 2124.1 215.178 Q2120.83 215.178 2118.91 217.4 Q2116.99 219.599 2116.99 223.372 L2116.99 238.025 L2112.71 238.025 L2112.71 212.099 L2116.99 212.099 L2116.99 216.127 Q2118.45 213.742 2120.49 212.608 Q2122.52 211.474 2125.32 211.474 Q2128.15 211.474 2130.11 212.909 Q2132.11 214.344 2133.05 217.076 Z\" fill=\"#000000\" fill-rule=\"evenodd\" fill-opacity=\"1\" /><path clip-path=\"url(#clip760)\" d=\"M2170.83 224.992 Q2165.67 224.992 2163.68 226.173 Q2161.69 227.353 2161.69 230.201 Q2161.69 232.469 2163.17 233.812 Q2164.67 235.131 2167.24 235.131 Q2170.79 235.131 2172.92 232.631 Q2175.07 230.108 2175.07 225.941 L2175.07 224.992 L2170.83 224.992 M2179.33 223.233 L2179.33 238.025 L2175.07 238.025 L2175.07 234.089 Q2173.61 236.451 2171.43 237.585 Q2169.26 238.696 2166.11 238.696 Q2162.13 238.696 2159.77 236.474 Q2157.43 234.228 2157.43 230.478 Q2157.43 226.103 2160.35 223.881 Q2163.29 221.659 2169.1 221.659 L2175.07 221.659 L2175.07 221.242 Q2175.07 218.303 2173.12 216.705 Q2171.2 215.085 2167.71 215.085 Q2165.49 215.085 2163.38 215.617 Q2161.27 216.15 2159.33 217.215 L2159.33 213.279 Q2161.67 212.377 2163.86 211.937 Q2166.06 211.474 2168.15 211.474 Q2173.77 211.474 2176.55 214.391 Q2179.33 217.307 2179.33 223.233 Z\" fill=\"#000000\" fill-rule=\"evenodd\" fill-opacity=\"1\" /><path clip-path=\"url(#clip760)\" d=\"M2203.12 216.08 Q2202.41 215.664 2201.55 215.478 Q2200.72 215.27 2199.7 215.27 Q2196.09 215.27 2194.14 217.631 Q2192.22 219.969 2192.22 224.367 L2192.22 238.025 L2187.94 238.025 L2187.94 212.099 L2192.22 212.099 L2192.22 216.127 Q2193.56 213.766 2195.72 212.631 Q2197.87 211.474 2200.95 211.474 Q2201.39 211.474 2201.92 211.543 Q2202.45 211.59 2203.1 211.705 L2203.12 216.08 Z\" fill=\"#000000\" fill-rule=\"evenodd\" fill-opacity=\"1\" /><path clip-path=\"url(#clip760)\" d=\"M2218.38 240.432 Q2216.57 245.062 2214.86 246.474 Q2213.15 247.886 2210.28 247.886 L2206.87 247.886 L2206.87 244.321 L2209.37 244.321 Q2211.13 244.321 2212.11 243.488 Q2213.08 242.654 2214.26 239.552 L2215.02 237.608 L2204.54 212.099 L2209.05 212.099 L2217.15 232.377 L2225.25 212.099 L2229.77 212.099 L2218.38 240.432 Z\" fill=\"#000000\" fill-rule=\"evenodd\" fill-opacity=\"1\" /><polyline clip-path=\"url(#clip760)\" style=\"stroke:#e26f46; stroke-linecap:butt; stroke-linejoin:round; stroke-width:4; stroke-opacity:1; fill:none\" points=\"\n",
       "  1880.45,272.585 2028.04,272.585 \n",
       "  \"/>\n",
       "<path clip-path=\"url(#clip760)\" d=\"M2052.64 255.305 L2058.93 255.305 L2074.26 284.217 L2074.26 255.305 L2078.8 255.305 L2078.8 289.865 L2072.5 289.865 L2057.18 260.953 L2057.18 289.865 L2052.64 289.865 L2052.64 255.305 Z\" fill=\"#000000\" fill-rule=\"evenodd\" fill-opacity=\"1\" /><path clip-path=\"url(#clip760)\" d=\"M2097.96 266.925 Q2094.54 266.925 2092.55 269.61 Q2090.55 272.272 2090.55 276.925 Q2090.55 281.578 2092.52 284.263 Q2094.51 286.925 2097.96 286.925 Q2101.37 286.925 2103.36 284.24 Q2105.35 281.555 2105.35 276.925 Q2105.35 272.318 2103.36 269.633 Q2101.37 266.925 2097.96 266.925 M2097.96 263.314 Q2103.52 263.314 2106.69 266.925 Q2109.86 270.536 2109.86 276.925 Q2109.86 283.291 2106.69 286.925 Q2103.52 290.536 2097.96 290.536 Q2092.38 290.536 2089.21 286.925 Q2086.06 283.291 2086.06 276.925 Q2086.06 270.536 2089.21 266.925 Q2092.38 263.314 2097.96 263.314 Z\" fill=\"#000000\" fill-rule=\"evenodd\" fill-opacity=\"1\" /><path clip-path=\"url(#clip760)\" d=\"M2131.94 267.92 Q2131.23 267.504 2130.37 267.318 Q2129.54 267.11 2128.52 267.11 Q2124.91 267.11 2122.96 269.471 Q2121.04 271.809 2121.04 276.207 L2121.04 289.865 L2116.76 289.865 L2116.76 263.939 L2121.04 263.939 L2121.04 267.967 Q2122.38 265.606 2124.54 264.471 Q2126.69 263.314 2129.77 263.314 Q2130.21 263.314 2130.74 263.383 Q2131.27 263.43 2131.92 263.545 L2131.94 267.92 Z\" fill=\"#000000\" fill-rule=\"evenodd\" fill-opacity=\"1\" /><path clip-path=\"url(#clip760)\" d=\"M2155.76 268.916 Q2157.36 266.045 2159.58 264.68 Q2161.8 263.314 2164.81 263.314 Q2168.86 263.314 2171.06 266.161 Q2173.26 268.985 2173.26 274.217 L2173.26 289.865 L2168.98 289.865 L2168.98 274.355 Q2168.98 270.629 2167.66 268.823 Q2166.34 267.018 2163.63 267.018 Q2160.32 267.018 2158.4 269.217 Q2156.48 271.416 2156.48 275.212 L2156.48 289.865 L2152.2 289.865 L2152.2 274.355 Q2152.2 270.605 2150.88 268.823 Q2149.56 267.018 2146.8 267.018 Q2143.54 267.018 2141.62 269.24 Q2139.7 271.439 2139.7 275.212 L2139.7 289.865 L2135.42 289.865 L2135.42 263.939 L2139.7 263.939 L2139.7 267.967 Q2141.16 265.582 2143.19 264.448 Q2145.23 263.314 2148.03 263.314 Q2150.86 263.314 2152.82 264.749 Q2154.81 266.184 2155.76 268.916 Z\" fill=\"#000000\" fill-rule=\"evenodd\" fill-opacity=\"1\" /><path clip-path=\"url(#clip760)\" d=\"M2193.54 276.832 Q2188.38 276.832 2186.39 278.013 Q2184.4 279.193 2184.4 282.041 Q2184.4 284.309 2185.88 285.652 Q2187.38 286.971 2189.95 286.971 Q2193.49 286.971 2195.62 284.471 Q2197.78 281.948 2197.78 277.781 L2197.78 276.832 L2193.54 276.832 M2202.04 275.073 L2202.04 289.865 L2197.78 289.865 L2197.78 285.929 Q2196.32 288.291 2194.14 289.425 Q2191.97 290.536 2188.82 290.536 Q2184.84 290.536 2182.48 288.314 Q2180.14 286.068 2180.14 282.318 Q2180.14 277.943 2183.05 275.721 Q2185.99 273.499 2191.8 273.499 L2197.78 273.499 L2197.78 273.082 Q2197.78 270.143 2195.83 268.545 Q2193.91 266.925 2190.42 266.925 Q2188.19 266.925 2186.09 267.457 Q2183.98 267.99 2182.04 269.055 L2182.04 265.119 Q2184.37 264.217 2186.57 263.777 Q2188.77 263.314 2190.86 263.314 Q2196.48 263.314 2199.26 266.231 Q2202.04 269.147 2202.04 275.073 Z\" fill=\"#000000\" fill-rule=\"evenodd\" fill-opacity=\"1\" /><path clip-path=\"url(#clip760)\" d=\"M2210.81 253.846 L2215.07 253.846 L2215.07 289.865 L2210.81 289.865 L2210.81 253.846 Z\" fill=\"#000000\" fill-rule=\"evenodd\" fill-opacity=\"1\" /><polyline clip-path=\"url(#clip760)\" style=\"stroke:#3da44d; stroke-linecap:butt; stroke-linejoin:round; stroke-width:4; stroke-opacity:1; fill:none\" points=\"\n",
       "  1880.45,324.425 2028.04,324.425 \n",
       "  \"/>\n",
       "<path clip-path=\"url(#clip760)\" d=\"M2052.64 307.145 L2057.31 307.145 L2057.31 337.769 L2074.14 337.769 L2074.14 341.705 L2052.64 341.705 L2052.64 307.145 Z\" fill=\"#000000\" fill-rule=\"evenodd\" fill-opacity=\"1\" /><path clip-path=\"url(#clip760)\" d=\"M2077.59 331.473 L2077.59 315.779 L2081.85 315.779 L2081.85 331.311 Q2081.85 334.992 2083.29 336.844 Q2084.72 338.672 2087.59 338.672 Q2091.04 338.672 2093.03 336.473 Q2095.05 334.274 2095.05 330.478 L2095.05 315.779 L2099.3 315.779 L2099.3 341.705 L2095.05 341.705 L2095.05 337.723 Q2093.49 340.084 2091.43 341.242 Q2089.4 342.376 2086.69 342.376 Q2082.22 342.376 2079.91 339.598 Q2077.59 336.82 2077.59 331.473 M2088.31 315.154 L2088.31 315.154 Z\" fill=\"#000000\" fill-rule=\"evenodd\" fill-opacity=\"1\" /><path clip-path=\"url(#clip760)\" d=\"M2129.63 315.779 L2120.25 328.395 L2130.11 341.705 L2125.09 341.705 L2117.55 331.52 L2110 341.705 L2104.98 341.705 L2115.05 328.14 L2105.83 315.779 L2110.86 315.779 L2117.73 325.015 L2124.61 315.779 L2129.63 315.779 Z\" fill=\"#000000\" fill-rule=\"evenodd\" fill-opacity=\"1\" /><path clip-path=\"url(#clip760)\" d=\"M2135.69 331.473 L2135.69 315.779 L2139.95 315.779 L2139.95 331.311 Q2139.95 334.992 2141.39 336.844 Q2142.82 338.672 2145.69 338.672 Q2149.14 338.672 2151.13 336.473 Q2153.15 334.274 2153.15 330.478 L2153.15 315.779 L2157.41 315.779 L2157.41 341.705 L2153.15 341.705 L2153.15 337.723 Q2151.6 340.084 2149.54 341.242 Q2147.5 342.376 2144.79 342.376 Q2140.32 342.376 2138.01 339.598 Q2135.69 336.82 2135.69 331.473 M2146.41 315.154 L2146.41 315.154 Z\" fill=\"#000000\" fill-rule=\"evenodd\" fill-opacity=\"1\" /><path clip-path=\"url(#clip760)\" d=\"M2181.2 319.76 Q2180.49 319.344 2179.63 319.158 Q2178.8 318.95 2177.78 318.95 Q2174.17 318.95 2172.22 321.311 Q2170.3 323.649 2170.3 328.047 L2170.3 341.705 L2166.02 341.705 L2166.02 315.779 L2170.3 315.779 L2170.3 319.807 Q2171.64 317.446 2173.8 316.311 Q2175.95 315.154 2179.03 315.154 Q2179.47 315.154 2180 315.223 Q2180.53 315.27 2181.18 315.385 L2181.2 319.76 Z\" fill=\"#000000\" fill-rule=\"evenodd\" fill-opacity=\"1\" /><path clip-path=\"url(#clip760)\" d=\"M2196.46 344.112 Q2194.65 348.742 2192.94 350.154 Q2191.23 351.566 2188.36 351.566 L2184.95 351.566 L2184.95 348.001 L2187.45 348.001 Q2189.21 348.001 2190.18 347.168 Q2191.16 346.334 2192.34 343.232 L2193.1 341.288 L2182.61 315.779 L2187.13 315.779 L2195.23 336.057 L2203.33 315.779 L2207.85 315.779 L2196.46 344.112 Z\" fill=\"#000000\" fill-rule=\"evenodd\" fill-opacity=\"1\" /></svg>\n"
      ]
     },
     "metadata": {},
     "output_type": "display_data"
    }
   ],
   "source": [
    "#Initial price level given\n",
    "p=[4.0, 5.0, 10.0]\n",
    "\n",
    "#Vectors and matrixes to store\n",
    "W=zeros(ng)             #Endowment\n",
    "D=zeros(ng)             #NH Demand\n",
    "Excess=zeros(ng)\n",
    "\n",
    "#We are looking for a pricepath at the GE.\n",
    "pricepath=[]\n",
    "#First value for excess, \n",
    "#1. if D>W Price increases\n",
    "#2. if D<W Price drops\n",
    "for i=1:ng\n",
    "    W[i]=sum(G[j,i] for j=1:na)\n",
    "    D[i]=sum(NHUtility(G[j,:],p)[i] for j=1:na)\n",
    "end\n",
    "\n",
    "Excess=D-W\n",
    "\n",
    "@showprogress for j=1:500\n",
    "    pricepath=push!(pricepath, [p[1], p[2], p[3]])\n",
    "    for i=1:ng\n",
    "        p[i]=p[i]+0.001*Excess[i]\n",
    "        W[i]=sum(G[j,i] for j=1:na)\n",
    "        D[i]=sum(NHUtility(G[j,:],p)[i] for j=1:na)        \n",
    "    end\n",
    "    Excess=D-W\n",
    "sleep(0.000000001)\n",
    "end\n",
    "\n",
    "initial_p=[p[1], p[2], p[3]]\n",
    "\n",
    "@show W,D, Excess, p\n",
    "\n",
    "pricep=pricepath\n",
    "p_p=[]\n",
    "p_n=[]\n",
    "p_l=[]\n",
    "for i=1:length(pricep)\n",
    "    p_p=push!(p_p, pricep[i][1])\n",
    "    p_n=push!(p_n, pricep[i][2])\n",
    "    p_l=push!(p_l, pricep[i][3])\n",
    "end\n",
    "\n",
    "plot([p_p p_n p_l], title=\"GE prices with 300 agents\", label=[\"Primary\" \"Normal\" \"Luxury\"])"
   ]
  },
  {
   "cell_type": "markdown",
   "metadata": {},
   "source": [
    "Suppose we know design a supply shock where a fifth of the Primary good aggregate quantity destroyed."
   ]
  },
  {
   "cell_type": "code",
   "execution_count": 71,
   "metadata": {},
   "outputs": [
    {
     "data": {
      "text/plain": [
       "300×3 Matrix{Float64}:\n",
       " 0.97633    0.0545574   0.273383\n",
       " 0.528768   0.377906    0.196581\n",
       " 0.998516   0.347992    0.16045\n",
       " 1.49488    0.228383    0.207302\n",
       " 0.964337   0.340603    0.268488\n",
       " 1.22921    0.603143    0.0982747\n",
       " 0.0909184  0.89139     0.121826\n",
       " 0.699593   0.315647    0.392908\n",
       " 1.65779    0.014151    0.425135\n",
       " 0.151407   0.759608    0.290711\n",
       " ⋮                     \n",
       " 0.30688    0.74696     6.89196\n",
       " 0.292687   0.254988    7.26682\n",
       " 2.66144    1.67849     6.23789\n",
       " 2.03205    3.07733     5.74762\n",
       " 3.01688    1.12675     8.08534\n",
       " 1.8496     1.8296      9.00468\n",
       " 1.53289    1.80157    16.0175\n",
       " 2.98192    0.517213   23.4368\n",
       " 1.74505    2.03982    25.459"
      ]
     },
     "metadata": {},
     "output_type": "display_data"
    }
   ],
   "source": [
    "Exp=[]\n",
    "for a = 1:Int(length(G)/ng)\n",
    "    E=sum(initial_p[i]*G[a,i] for i = 1:ng)\n",
    "    Exp=push!(Exp,E)\n",
    "end\n",
    "\n",
    "initial=[G Exp]\n",
    "initial=sortslices(initial,dims=1,by=x->(x[4]),rev=false)\n",
    "G=convert(Matrix{Float64},initial[:,[1,2,3]])\n",
    "\n",
    "#after shock endowment level\n",
    "n_G=copy(G)\n",
    "s_shock=1/5\n",
    "n_G[:,1]=G[:,1].*(1-s_shock)\n",
    "n_G"
   ]
  },
  {
   "cell_type": "markdown",
   "metadata": {},
   "source": [
    "Then continue to look for equilibrium at GE prices to find another GE with supply shock."
   ]
  },
  {
   "cell_type": "code",
   "execution_count": 72,
   "metadata": {},
   "outputs": [
    {
     "name": "stderr",
     "output_type": "stream",
     "text": [
      "\r\u001b[32mProgress:   0%|▏                                        |  ETA: 0:03:54\u001b[39m\u001b[K"
     ]
    },
    {
     "name": "stderr",
     "output_type": "stream",
     "text": [
      "\r\u001b[32mProgress:   1%|▎                                        |  ETA: 0:03:05\u001b[39m\u001b[K"
     ]
    },
    {
     "name": "stderr",
     "output_type": "stream",
     "text": [
      "\r\u001b[32mProgress:   1%|▍                                        |  ETA: 0:02:17\u001b[39m\u001b[K"
     ]
    },
    {
     "name": "stderr",
     "output_type": "stream",
     "text": [
      "\r\u001b[32mProgress:   1%|▋                                        |  ETA: 0:01:56\u001b[39m\u001b[K"
     ]
    },
    {
     "name": "stderr",
     "output_type": "stream",
     "text": [
      "\r\u001b[32mProgress:   2%|▊                                        |  ETA: 0:01:38\u001b[39m\u001b[K"
     ]
    },
    {
     "name": "stderr",
     "output_type": "stream",
     "text": [
      "\r\u001b[32mProgress:   2%|▉                                        |  ETA: 0:01:37\u001b[39m\u001b[K"
     ]
    },
    {
     "name": "stderr",
     "output_type": "stream",
     "text": [
      "\r\u001b[32mProgress:   2%|▉                                        |  ETA: 0:01:33\u001b[39m\u001b[K"
     ]
    },
    {
     "name": "stderr",
     "output_type": "stream",
     "text": [
      "\r\u001b[32mProgress:   2%|█                                        |  ETA: 0:01:29\u001b[39m\u001b[K"
     ]
    },
    {
     "name": "stderr",
     "output_type": "stream",
     "text": [
      "\r\u001b[32mProgress:   3%|█▏                                       |  ETA: 0:01:24\u001b[39m\u001b[K"
     ]
    },
    {
     "name": "stderr",
     "output_type": "stream",
     "text": [
      "\r\u001b[32mProgress:   3%|█▎                                       |  ETA: 0:01:23\u001b[39m\u001b[K"
     ]
    },
    {
     "name": "stderr",
     "output_type": "stream",
     "text": [
      "\r\u001b[32mProgress:   3%|█▎                                       |  ETA: 0:01:21\u001b[39m\u001b[K"
     ]
    },
    {
     "name": "stderr",
     "output_type": "stream",
     "text": [
      "\r\u001b[32mProgress:   4%|█▌                                       |  ETA: 0:01:19\u001b[39m\u001b[K"
     ]
    },
    {
     "name": "stderr",
     "output_type": "stream",
     "text": [
      "\r\u001b[32mProgress:   4%|█▋                                       |  ETA: 0:01:15\u001b[39m\u001b[K"
     ]
    },
    {
     "name": "stderr",
     "output_type": "stream",
     "text": [
      "\r\u001b[32mProgress:   4%|█▊                                       |  ETA: 0:01:12\u001b[39m\u001b[K"
     ]
    },
    {
     "name": "stderr",
     "output_type": "stream",
     "text": [
      "\r\u001b[32mProgress:   5%|██                                       |  ETA: 0:01:10\u001b[39m\u001b[K"
     ]
    },
    {
     "name": "stderr",
     "output_type": "stream",
     "text": [
      "\r\u001b[32mProgress:   5%|██▏                                      |  ETA: 0:01:07\u001b[39m\u001b[K"
     ]
    },
    {
     "name": "stderr",
     "output_type": "stream",
     "text": [
      "\r\u001b[32mProgress:   6%|██▎                                      |  ETA: 0:01:05\u001b[39m\u001b[K"
     ]
    },
    {
     "name": "stderr",
     "output_type": "stream",
     "text": [
      "\r\u001b[32mProgress:   6%|██▌                                      |  ETA: 0:01:03\u001b[39m\u001b[K"
     ]
    },
    {
     "name": "stderr",
     "output_type": "stream",
     "text": [
      "\r\u001b[32mProgress:   6%|██▋                                      |  ETA: 0:01:01\u001b[39m\u001b[K"
     ]
    },
    {
     "name": "stderr",
     "output_type": "stream",
     "text": [
      "\r\u001b[32mProgress:   7%|██▊                                      |  ETA: 0:00:59\u001b[39m\u001b[K"
     ]
    },
    {
     "name": "stderr",
     "output_type": "stream",
     "text": [
      "\r\u001b[32mProgress:   7%|███                                      |  ETA: 0:00:59\u001b[39m\u001b[K"
     ]
    },
    {
     "name": "stderr",
     "output_type": "stream",
     "text": [
      "\r\u001b[32mProgress:   8%|███▏                                     |  ETA: 0:00:57\u001b[39m\u001b[K"
     ]
    },
    {
     "name": "stderr",
     "output_type": "stream",
     "text": [
      "\r\u001b[32mProgress:   8%|███▎                                     |  ETA: 0:00:58\u001b[39m\u001b[K"
     ]
    },
    {
     "name": "stderr",
     "output_type": "stream",
     "text": [
      "\r\u001b[32mProgress:   8%|███▌                                     |  ETA: 0:00:56\u001b[39m"
     ]
    },
    {
     "name": "stderr",
     "output_type": "stream",
     "text": [
      "\u001b[K"
     ]
    },
    {
     "name": "stderr",
     "output_type": "stream",
     "text": [
      "\r\u001b[32mProgress:   9%|███▌                                     |  ETA: 0:00:56\u001b[39m\u001b[K"
     ]
    },
    {
     "name": "stderr",
     "output_type": "stream",
     "text": [
      "\r\u001b[32mProgress:   9%|███▊                                     |  ETA: 0:00:55\u001b[39m\u001b[K"
     ]
    },
    {
     "name": "stderr",
     "output_type": "stream",
     "text": [
      "\r\u001b[32mProgress:   9%|███▉                                     |  ETA: 0:00:54\u001b[39m\u001b[K"
     ]
    },
    {
     "name": "stderr",
     "output_type": "stream",
     "text": [
      "\r\u001b[32mProgress:  10%|████                                     |  ETA: 0:00:54\u001b[39m\u001b[K"
     ]
    },
    {
     "name": "stderr",
     "output_type": "stream",
     "text": [
      "\r\u001b[32mProgress:  10%|████▏                                    |  ETA: 0:00:54\u001b[39m\u001b[K"
     ]
    },
    {
     "name": "stderr",
     "output_type": "stream",
     "text": [
      "\r\u001b[32mProgress:  11%|████▍                                    |  ETA: 0:00:53\u001b[39m\u001b[K"
     ]
    },
    {
     "name": "stderr",
     "output_type": "stream",
     "text": [
      "\r\u001b[32mProgress:  11%|████▌                                    |  ETA: 0:00:54\u001b[39m\u001b[K"
     ]
    },
    {
     "name": "stderr",
     "output_type": "stream",
     "text": [
      "\r\u001b[32mProgress:  11%|████▋                                    |  ETA: 0:00:53\u001b[39m\u001b[K"
     ]
    },
    {
     "name": "stderr",
     "output_type": "stream",
     "text": [
      "\r\u001b[32mProgress:  12%|████▉                                    |  ETA: 0:00:53\u001b[39m\u001b[K"
     ]
    },
    {
     "name": "stderr",
     "output_type": "stream",
     "text": [
      "\r\u001b[32mProgress:  12%|█████                                    |  ETA: 0:00:53\u001b[39m\u001b[K"
     ]
    },
    {
     "name": "stderr",
     "output_type": "stream",
     "text": [
      "\r\u001b[32mProgress:  12%|█████▏                                   |  ETA: 0:00:53\u001b[39m\u001b[K"
     ]
    },
    {
     "name": "stderr",
     "output_type": "stream",
     "text": [
      "\r\u001b[32mProgress:  13%|█████▏                                   |  ETA: 0:00:54\u001b[39m\u001b[K"
     ]
    },
    {
     "name": "stderr",
     "output_type": "stream",
     "text": [
      "\r\u001b[32mProgress:  13%|█████▎                                   |  ETA: 0:00:54\u001b[39m\u001b[K"
     ]
    },
    {
     "name": "stderr",
     "output_type": "stream",
     "text": [
      "\r\u001b[32mProgress:  13%|█████▍                                   |  ETA: 0:00:54\u001b[39m\u001b[K"
     ]
    },
    {
     "name": "stderr",
     "output_type": "stream",
     "text": [
      "\r\u001b[32mProgress:  13%|█████▍                                   |  ETA: 0:00:53\u001b[39m\u001b[K"
     ]
    },
    {
     "name": "stderr",
     "output_type": "stream",
     "text": [
      "\r\u001b[32mProgress:  13%|█████▌                                   |  ETA: 0:00:55\u001b[39m\u001b[K"
     ]
    },
    {
     "name": "stderr",
     "output_type": "stream",
     "text": [
      "\r\u001b[32mProgress:  14%|█████▋                                   |  ETA: 0:00:56\u001b[39m\u001b[K"
     ]
    },
    {
     "name": "stderr",
     "output_type": "stream",
     "text": [
      "\r\u001b[32mProgress:  14%|█████▋                                   |  ETA: 0:00:56\u001b[39m\u001b[K"
     ]
    },
    {
     "name": "stderr",
     "output_type": "stream",
     "text": [
      "\r\u001b[32mProgress:  14%|█████▊                                   |  ETA: 0:00:56\u001b[39m\u001b[K"
     ]
    },
    {
     "name": "stderr",
     "output_type": "stream",
     "text": [
      "\r\u001b[32mProgress:  14%|█████▉                                   |  ETA: 0:00:56\u001b[39m\u001b[K"
     ]
    },
    {
     "name": "stderr",
     "output_type": "stream",
     "text": [
      "\r\u001b[32mProgress:  14%|█████▉                                   |  ETA: 0:00:56\u001b[39m\u001b[K"
     ]
    },
    {
     "name": "stderr",
     "output_type": "stream",
     "text": [
      "\r\u001b[32mProgress:  15%|██████▏                                  |  ETA: 0:00:55\u001b[39m\u001b[K"
     ]
    },
    {
     "name": "stderr",
     "output_type": "stream",
     "text": [
      "\r\u001b[32mProgress:  15%|██████▏                                  |  ETA: 0:00:55\u001b[39m\u001b[K"
     ]
    },
    {
     "name": "stderr",
     "output_type": "stream",
     "text": [
      "\r\u001b[32mProgress:  15%|██████▍                                  |  ETA: 0:00:54\u001b[39m\u001b[K"
     ]
    },
    {
     "name": "stderr",
     "output_type": "stream",
     "text": [
      "\r\u001b[32mProgress:  16%|██████▍                                  |  ETA: 0:00:54\u001b[39m\u001b[K"
     ]
    },
    {
     "name": "stderr",
     "output_type": "stream",
     "text": [
      "\r\u001b[32mProgress:  16%|██████▌                                  |  ETA: 0:00:55\u001b[39m\u001b[K"
     ]
    },
    {
     "name": "stderr",
     "output_type": "stream",
     "text": [
      "\r\u001b[32mProgress:  16%|██████▌                                  |  ETA: 0:00:55\u001b[39m\u001b[K"
     ]
    },
    {
     "name": "stderr",
     "output_type": "stream",
     "text": [
      "\r\u001b[32mProgress:  16%|██████▊                                  |  ETA: 0:00:54\u001b[39m\u001b[K"
     ]
    },
    {
     "name": "stderr",
     "output_type": "stream",
     "text": [
      "\r\u001b[32mProgress:  17%|██████▊                                  |  ETA: 0:00:54\u001b[39m\u001b[K"
     ]
    },
    {
     "name": "stderr",
     "output_type": "stream",
     "text": [
      "\r\u001b[32mProgress:  17%|███████                                  |  ETA: 0:00:54\u001b[39m\u001b[K"
     ]
    },
    {
     "name": "stderr",
     "output_type": "stream",
     "text": [
      "\r\u001b[32mProgress:  17%|███████▏                                 |  ETA: 0:00:53\u001b[39m\u001b[K"
     ]
    },
    {
     "name": "stderr",
     "output_type": "stream",
     "text": [
      "\r\u001b[32mProgress:  18%|███████▎                                 |  ETA: 0:00:52\u001b[39m\u001b[K"
     ]
    },
    {
     "name": "stderr",
     "output_type": "stream",
     "text": [
      "\r\u001b[32mProgress:  18%|███████▌                                 |  ETA: 0:00:52\u001b[39m\u001b[K"
     ]
    },
    {
     "name": "stderr",
     "output_type": "stream",
     "text": [
      "\r\u001b[32mProgress:  19%|███████▋                                 |  ETA: 0:00:51\u001b[39m\u001b[K"
     ]
    },
    {
     "name": "stderr",
     "output_type": "stream",
     "text": [
      "\r\u001b[32mProgress:  19%|███████▊                                 |  ETA: 0:00:51\u001b[39m\u001b[K"
     ]
    },
    {
     "name": "stderr",
     "output_type": "stream",
     "text": [
      "\r\u001b[32mProgress:  19%|████████                                 |  ETA: 0:00:50\u001b[39m\u001b[K"
     ]
    },
    {
     "name": "stderr",
     "output_type": "stream",
     "text": [
      "\r\u001b[32mProgress:  20%|████████▏                                |  ETA: 0:00:49\u001b[39m\u001b[K"
     ]
    },
    {
     "name": "stderr",
     "output_type": "stream",
     "text": [
      "\r\u001b[32mProgress:  20%|████████▎                                |  ETA: 0:00:49\u001b[39m\u001b[K"
     ]
    },
    {
     "name": "stderr",
     "output_type": "stream",
     "text": [
      "\r\u001b[32mProgress:  21%|████████▌                                |  ETA: 0:00:48\u001b[39m\u001b[K"
     ]
    },
    {
     "name": "stderr",
     "output_type": "stream",
     "text": [
      "\r\u001b[32mProgress:  21%|████████▋                                |  ETA: 0:00:48\u001b[39m\u001b[K"
     ]
    },
    {
     "name": "stderr",
     "output_type": "stream",
     "text": [
      "\r\u001b[32mProgress:  21%|████████▊                                |  ETA: 0:00:47\u001b[39m\u001b[K"
     ]
    },
    {
     "name": "stderr",
     "output_type": "stream",
     "text": [
      "\r\u001b[32mProgress:  22%|█████████                                |  ETA: 0:00:47\u001b[39m\u001b[K"
     ]
    },
    {
     "name": "stderr",
     "output_type": "stream",
     "text": [
      "\r\u001b[32mProgress:  22%|█████████▏                               |  ETA: 0:00:46\u001b[39m\u001b[K"
     ]
    },
    {
     "name": "stderr",
     "output_type": "stream",
     "text": [
      "\r\u001b[32mProgress:  23%|█████████▎                               |  ETA: 0:00:46\u001b[39m\u001b[K"
     ]
    },
    {
     "name": "stderr",
     "output_type": "stream",
     "text": [
      "\r\u001b[32mProgress:  23%|█████████▍                               |  ETA: 0:00:46\u001b[39m\u001b[K"
     ]
    },
    {
     "name": "stderr",
     "output_type": "stream",
     "text": [
      "\r\u001b[32mProgress:  23%|█████████▍                               |  ETA: 0:00:46\u001b[39m\u001b[K"
     ]
    },
    {
     "name": "stderr",
     "output_type": "stream",
     "text": [
      "\r\u001b[32mProgress:  23%|█████████▌                               |  ETA: 0:00:46\u001b[39m\u001b[K"
     ]
    },
    {
     "name": "stderr",
     "output_type": "stream",
     "text": [
      "\r\u001b[32mProgress:  23%|█████████▋                               |  ETA: 0:00:46\u001b[39m\u001b[K"
     ]
    },
    {
     "name": "stderr",
     "output_type": "stream",
     "text": [
      "\r\u001b[32mProgress:  24%|█████████▋                               |  ETA: 0:00:46\u001b[39m\u001b[K"
     ]
    },
    {
     "name": "stderr",
     "output_type": "stream",
     "text": [
      "\r\u001b[32mProgress:  24%|█████████▊                               |  ETA: 0:00:47\u001b[39m\u001b[K"
     ]
    },
    {
     "name": "stderr",
     "output_type": "stream",
     "text": [
      "\r\u001b[32mProgress:  24%|█████████▉                               |  ETA: 0:00:47\u001b[39m\u001b[K"
     ]
    },
    {
     "name": "stderr",
     "output_type": "stream",
     "text": [
      "\r\u001b[32mProgress:  24%|█████████▉                               |  ETA: 0:00:47\u001b[39m\u001b[K"
     ]
    },
    {
     "name": "stderr",
     "output_type": "stream",
     "text": [
      "\r\u001b[32mProgress:  24%|██████████                               |  ETA: 0:00:47\u001b[39m\u001b[K"
     ]
    },
    {
     "name": "stderr",
     "output_type": "stream",
     "text": [
      "\r\u001b[32mProgress:  25%|██████████▏                              |  ETA: 0:00:47\u001b[39m\u001b[K"
     ]
    },
    {
     "name": "stderr",
     "output_type": "stream",
     "text": [
      "\r\u001b[32mProgress:  25%|██████████▏                              |  ETA: 0:00:47\u001b[39m\u001b[K"
     ]
    },
    {
     "name": "stderr",
     "output_type": "stream",
     "text": [
      "\r\u001b[32mProgress:  25%|██████████▎                              |  ETA: 0:00:48\u001b[39m\u001b[K"
     ]
    },
    {
     "name": "stderr",
     "output_type": "stream",
     "text": [
      "\r\u001b[32mProgress:  25%|██████████▍                              |  ETA: 0:00:48\u001b[39m\u001b[K"
     ]
    },
    {
     "name": "stderr",
     "output_type": "stream",
     "text": [
      "\r\u001b[32mProgress:  25%|██████████▍                              |  ETA: 0:00:48\u001b[39m\u001b[K"
     ]
    },
    {
     "name": "stderr",
     "output_type": "stream",
     "text": [
      "\r\u001b[32mProgress:  26%|██████████▌                              |  ETA: 0:00:48\u001b[39m\u001b[K"
     ]
    },
    {
     "name": "stderr",
     "output_type": "stream",
     "text": [
      "\r\u001b[32mProgress:  26%|██████████▋                              |  ETA: 0:00:48\u001b[39m\u001b[K"
     ]
    },
    {
     "name": "stderr",
     "output_type": "stream",
     "text": [
      "\r\u001b[32mProgress:  26%|██████████▋                              |  ETA: 0:00:48\u001b[39m\u001b[K"
     ]
    },
    {
     "name": "stderr",
     "output_type": "stream",
     "text": [
      "\r\u001b[32mProgress:  26%|██████████▊                              |  ETA: 0:00:48\u001b[39m\u001b[K"
     ]
    },
    {
     "name": "stderr",
     "output_type": "stream",
     "text": [
      "\r\u001b[32mProgress:  26%|██████████▉                              |  ETA: 0:00:48\u001b[39m\u001b[K"
     ]
    },
    {
     "name": "stderr",
     "output_type": "stream",
     "text": [
      "\r\u001b[32mProgress:  27%|██████████▉                              |  ETA: 0:00:48\u001b[39m\u001b[K"
     ]
    },
    {
     "name": "stderr",
     "output_type": "stream",
     "text": [
      "\r\u001b[32mProgress:  27%|███████████▏                             |  ETA: 0:00:47\u001b[39m\u001b[K"
     ]
    },
    {
     "name": "stderr",
     "output_type": "stream",
     "text": [
      "\r\u001b[32mProgress:  27%|███████████▎                             |  ETA: 0:00:47\u001b[39m\u001b[K"
     ]
    },
    {
     "name": "stderr",
     "output_type": "stream",
     "text": [
      "\r\u001b[32mProgress:  28%|███████████▍                             |  ETA: 0:00:46\u001b[39m\u001b[K"
     ]
    },
    {
     "name": "stderr",
     "output_type": "stream",
     "text": [
      "\r\u001b[32mProgress:  28%|███████████▌                             |  ETA: 0:00:46\u001b[39m\u001b[K"
     ]
    },
    {
     "name": "stderr",
     "output_type": "stream",
     "text": [
      "\r\u001b[32mProgress:  29%|███████████▊                             |  ETA: 0:00:46\u001b[39m\u001b[K"
     ]
    },
    {
     "name": "stderr",
     "output_type": "stream",
     "text": [
      "\r\u001b[32mProgress:  29%|███████████▉                             |  ETA: 0:00:45\u001b[39m\u001b[K"
     ]
    },
    {
     "name": "stderr",
     "output_type": "stream",
     "text": [
      "\r\u001b[32mProgress:  29%|████████████                             |  ETA: 0:00:45\u001b[39m\u001b[K"
     ]
    },
    {
     "name": "stderr",
     "output_type": "stream",
     "text": [
      "\r\u001b[32mProgress:  30%|████████████▎                            |  ETA: 0:00:44\u001b[39m\u001b[K"
     ]
    },
    {
     "name": "stderr",
     "output_type": "stream",
     "text": [
      "\r\u001b[32mProgress:  30%|████████████▍                            |  ETA: 0:00:44\u001b[39m\u001b[K"
     ]
    },
    {
     "name": "stderr",
     "output_type": "stream",
     "text": [
      "\r\u001b[32mProgress:  31%|████████████▌                            |  ETA: 0:00:43\u001b[39m\u001b[K"
     ]
    },
    {
     "name": "stderr",
     "output_type": "stream",
     "text": [
      "\r\u001b[32mProgress:  31%|████████████▊                            |  ETA: 0:00:43\u001b[39m\u001b[K"
     ]
    },
    {
     "name": "stderr",
     "output_type": "stream",
     "text": [
      "\r\u001b[32mProgress:  31%|████████████▉                            |  ETA: 0:00:43\u001b[39m\u001b[K"
     ]
    },
    {
     "name": "stderr",
     "output_type": "stream",
     "text": [
      "\r\u001b[32mProgress:  32%|█████████████                            |  ETA: 0:00:42\u001b[39m\u001b[K"
     ]
    },
    {
     "name": "stderr",
     "output_type": "stream",
     "text": [
      "\r\u001b[32mProgress:  32%|█████████████▎                           |  ETA: 0:00:42\u001b[39m\u001b[K"
     ]
    },
    {
     "name": "stderr",
     "output_type": "stream",
     "text": [
      "\r\u001b[32mProgress:  33%|█████████████▍                           |  ETA: 0:00:42\u001b[39m\u001b[K"
     ]
    },
    {
     "name": "stderr",
     "output_type": "stream",
     "text": [
      "\r\u001b[32mProgress:  33%|█████████████▌                           |  ETA: 0:00:41\u001b[39m\u001b[K"
     ]
    },
    {
     "name": "stderr",
     "output_type": "stream",
     "text": [
      "\r\u001b[32mProgress:  33%|█████████████▊                           |  ETA: 0:00:41\u001b[39m\u001b[K"
     ]
    },
    {
     "name": "stderr",
     "output_type": "stream",
     "text": [
      "\r\u001b[32mProgress:  34%|█████████████▊                           |  ETA: 0:00:41\u001b[39m\u001b[K"
     ]
    },
    {
     "name": "stderr",
     "output_type": "stream",
     "text": [
      "\r\u001b[32mProgress:  34%|██████████████                           |  ETA: 0:00:40\u001b[39m\u001b[K"
     ]
    },
    {
     "name": "stderr",
     "output_type": "stream",
     "text": [
      "\r\u001b[32mProgress:  34%|██████████████▏                          |  ETA: 0:00:40\u001b[39m\u001b[K"
     ]
    },
    {
     "name": "stderr",
     "output_type": "stream",
     "text": [
      "\r\u001b[32mProgress:  35%|██████████████▎                          |  ETA: 0:00:40\u001b[39m\u001b[K"
     ]
    },
    {
     "name": "stderr",
     "output_type": "stream",
     "text": [
      "\r\u001b[32mProgress:  35%|██████████████▍                          |  ETA: 0:00:39\u001b[39m\u001b[K"
     ]
    },
    {
     "name": "stderr",
     "output_type": "stream",
     "text": [
      "\r\u001b[32mProgress:  36%|██████████████▋                          |  ETA: 0:00:39\u001b[39m\u001b[K"
     ]
    },
    {
     "name": "stderr",
     "output_type": "stream",
     "text": [
      "\r\u001b[32mProgress:  36%|██████████████▊                          |  ETA: 0:00:39\u001b[39m\u001b[K"
     ]
    },
    {
     "name": "stderr",
     "output_type": "stream",
     "text": [
      "\r\u001b[32mProgress:  36%|██████████████▉                          |  ETA: 0:00:38\u001b[39m\u001b[K"
     ]
    },
    {
     "name": "stderr",
     "output_type": "stream",
     "text": [
      "\r\u001b[32mProgress:  37%|███████████████▏                         |  ETA: 0:00:38\u001b[39m\u001b[K"
     ]
    },
    {
     "name": "stderr",
     "output_type": "stream",
     "text": [
      "\r\u001b[32mProgress:  37%|███████████████▎                         |  ETA: 0:00:38\u001b[39m\u001b[K"
     ]
    },
    {
     "name": "stderr",
     "output_type": "stream",
     "text": [
      "\r\u001b[32mProgress:  37%|███████████████▍                         |  ETA: 0:00:38\u001b[39m\u001b[K"
     ]
    },
    {
     "name": "stderr",
     "output_type": "stream",
     "text": [
      "\r\u001b[32mProgress:  38%|███████████████▍                         |  ETA: 0:00:38\u001b[39m\u001b[K"
     ]
    },
    {
     "name": "stderr",
     "output_type": "stream",
     "text": [
      "\r\u001b[32mProgress:  38%|███████████████▋                         |  ETA: 0:00:37\u001b[39m\u001b[K"
     ]
    },
    {
     "name": "stderr",
     "output_type": "stream",
     "text": [
      "\r\u001b[32mProgress:  38%|███████████████▋                         |  ETA: 0:00:37\u001b[39m\u001b[K"
     ]
    },
    {
     "name": "stderr",
     "output_type": "stream",
     "text": [
      "\r\u001b[32mProgress:  38%|███████████████▊                         |  ETA: 0:00:37\u001b[39m\u001b[K"
     ]
    },
    {
     "name": "stderr",
     "output_type": "stream",
     "text": [
      "\r\u001b[32mProgress:  39%|███████████████▉                         |  ETA: 0:00:37\u001b[39m\u001b[K"
     ]
    },
    {
     "name": "stderr",
     "output_type": "stream",
     "text": [
      "\r\u001b[32mProgress:  39%|███████████████▉                         |  ETA: 0:00:37\u001b[39m\u001b[K"
     ]
    },
    {
     "name": "stderr",
     "output_type": "stream",
     "text": [
      "\r\u001b[32mProgress:  39%|████████████████                         |  ETA: 0:00:37\u001b[39m\u001b[K"
     ]
    },
    {
     "name": "stderr",
     "output_type": "stream",
     "text": [
      "\r\u001b[32mProgress:  39%|████████████████▏                        |  ETA: 0:00:37\u001b[39m\u001b[K"
     ]
    },
    {
     "name": "stderr",
     "output_type": "stream",
     "text": [
      "\r\u001b[32mProgress:  39%|████████████████▏                        |  ETA: 0:00:38\u001b[39m\u001b[K"
     ]
    },
    {
     "name": "stderr",
     "output_type": "stream",
     "text": [
      "\r\u001b[32mProgress:  40%|████████████████▎                        |  ETA: 0:00:38\u001b[39m\u001b[K"
     ]
    },
    {
     "name": "stderr",
     "output_type": "stream",
     "text": [
      "\r\u001b[32mProgress:  40%|████████████████▍                        |  ETA: 0:00:37\u001b[39m\u001b[K"
     ]
    },
    {
     "name": "stderr",
     "output_type": "stream",
     "text": [
      "\r\u001b[32mProgress:  40%|████████████████▋                        |  ETA: 0:00:37\u001b[39m\u001b[K"
     ]
    },
    {
     "name": "stderr",
     "output_type": "stream",
     "text": [
      "\r\u001b[32mProgress:  41%|████████████████▊                        |  ETA: 0:00:37\u001b[39m\u001b[K"
     ]
    },
    {
     "name": "stderr",
     "output_type": "stream",
     "text": [
      "\r\u001b[32mProgress:  41%|████████████████▉                        |  ETA: 0:00:36\u001b[39m\u001b[K"
     ]
    },
    {
     "name": "stderr",
     "output_type": "stream",
     "text": [
      "\r\u001b[32mProgress:  42%|█████████████████                        |  ETA: 0:00:36\u001b[39m"
     ]
    },
    {
     "name": "stderr",
     "output_type": "stream",
     "text": [
      "\u001b[K"
     ]
    },
    {
     "name": "stderr",
     "output_type": "stream",
     "text": [
      "\r\u001b[32mProgress:  42%|█████████████████▎                       |  ETA: 0:00:36\u001b[39m\u001b[K"
     ]
    },
    {
     "name": "stderr",
     "output_type": "stream",
     "text": [
      "\r\u001b[32mProgress:  42%|█████████████████▍                       |  ETA: 0:00:36\u001b[39m\u001b[K"
     ]
    },
    {
     "name": "stderr",
     "output_type": "stream",
     "text": [
      "\r\u001b[32mProgress:  43%|█████████████████▌                       |  ETA: 0:00:35\u001b[39m\u001b[K"
     ]
    },
    {
     "name": "stderr",
     "output_type": "stream",
     "text": [
      "\r\u001b[32mProgress:  43%|█████████████████▊                       |  ETA: 0:00:35\u001b[39m\u001b[K"
     ]
    },
    {
     "name": "stderr",
     "output_type": "stream",
     "text": [
      "\r\u001b[32mProgress:  44%|█████████████████▉                       |  ETA: 0:00:34\u001b[39m\u001b[K"
     ]
    },
    {
     "name": "stderr",
     "output_type": "stream",
     "text": [
      "\r\u001b[32mProgress:  44%|██████████████████                       |  ETA: 0:00:34\u001b[39m\u001b[K"
     ]
    },
    {
     "name": "stderr",
     "output_type": "stream",
     "text": [
      "\r\u001b[32mProgress:  44%|██████████████████▎                      |  ETA: 0:00:34\u001b[39m\u001b[K"
     ]
    },
    {
     "name": "stderr",
     "output_type": "stream",
     "text": [
      "\r\u001b[32mProgress:  45%|██████████████████▍                      |  ETA: 0:00:33\u001b[39m\u001b[K"
     ]
    },
    {
     "name": "stderr",
     "output_type": "stream",
     "text": [
      "\r\u001b[32mProgress:  45%|██████████████████▌                      |  ETA: 0:00:33\u001b[39m\u001b[K"
     ]
    },
    {
     "name": "stderr",
     "output_type": "stream",
     "text": [
      "\r\u001b[32mProgress:  46%|██████████████████▊                      |  ETA: 0:00:33\u001b[39m\u001b[K"
     ]
    },
    {
     "name": "stderr",
     "output_type": "stream",
     "text": [
      "\r\u001b[32mProgress:  46%|██████████████████▉                      |  ETA: 0:00:33\u001b[39m\u001b[K"
     ]
    },
    {
     "name": "stderr",
     "output_type": "stream",
     "text": [
      "\r\u001b[32mProgress:  46%|███████████████████                      |  ETA: 0:00:32\u001b[39m\u001b[K"
     ]
    },
    {
     "name": "stderr",
     "output_type": "stream",
     "text": [
      "\r\u001b[32mProgress:  47%|███████████████████▎                     |  ETA: 0:00:32\u001b[39m\u001b[K"
     ]
    },
    {
     "name": "stderr",
     "output_type": "stream",
     "text": [
      "\r\u001b[32mProgress:  47%|███████████████████▍                     |  ETA: 0:00:32\u001b[39m\u001b[K"
     ]
    },
    {
     "name": "stderr",
     "output_type": "stream",
     "text": [
      "\r\u001b[32mProgress:  48%|███████████████████▌                     |  ETA: 0:00:31\u001b[39m\u001b[K"
     ]
    },
    {
     "name": "stderr",
     "output_type": "stream",
     "text": [
      "\r\u001b[32mProgress:  48%|███████████████████▋                     |  ETA: 0:00:31\u001b[39m\u001b[K"
     ]
    },
    {
     "name": "stderr",
     "output_type": "stream",
     "text": [
      "\r\u001b[32mProgress:  48%|███████████████████▉                     |  ETA: 0:00:31\u001b[39m\u001b[K"
     ]
    },
    {
     "name": "stderr",
     "output_type": "stream",
     "text": [
      "\r\u001b[32mProgress:  49%|████████████████████                     |  ETA: 0:00:30\u001b[39m\u001b[K"
     ]
    },
    {
     "name": "stderr",
     "output_type": "stream",
     "text": [
      "\r\u001b[32mProgress:  49%|████████████████████▏                    |  ETA: 0:00:30\u001b[39m\u001b[K"
     ]
    },
    {
     "name": "stderr",
     "output_type": "stream",
     "text": [
      "\r\u001b[32mProgress:  49%|████████████████████▎                    |  ETA: 0:00:30\u001b[39m\u001b[K"
     ]
    },
    {
     "name": "stderr",
     "output_type": "stream",
     "text": [
      "\r\u001b[32mProgress:  50%|████████████████████▍                    |  ETA: 0:00:30\u001b[39m\u001b[K"
     ]
    },
    {
     "name": "stderr",
     "output_type": "stream",
     "text": [
      "\r\u001b[32mProgress:  50%|████████████████████▌                    |  ETA: 0:00:30\u001b[39m\u001b[K"
     ]
    },
    {
     "name": "stderr",
     "output_type": "stream",
     "text": [
      "\r\u001b[32mProgress:  50%|████████████████████▋                    |  ETA: 0:00:30\u001b[39m\u001b[K"
     ]
    },
    {
     "name": "stderr",
     "output_type": "stream",
     "text": [
      "\r\u001b[32mProgress:  50%|████████████████████▋                    |  ETA: 0:00:30\u001b[39m\u001b[K"
     ]
    },
    {
     "name": "stderr",
     "output_type": "stream",
     "text": [
      "\r\u001b[32mProgress:  51%|████████████████████▊                    |  ETA: 0:00:30\u001b[39m\u001b[K"
     ]
    },
    {
     "name": "stderr",
     "output_type": "stream",
     "text": [
      "\r\u001b[32mProgress:  51%|████████████████████▉                    |  ETA: 0:00:30\u001b[39m\u001b[K"
     ]
    },
    {
     "name": "stderr",
     "output_type": "stream",
     "text": [
      "\r\u001b[32mProgress:  51%|████████████████████▉                    |  ETA: 0:00:30\u001b[39m\u001b[K"
     ]
    },
    {
     "name": "stderr",
     "output_type": "stream",
     "text": [
      "\r\u001b[32mProgress:  51%|█████████████████████                    |  ETA: 0:00:30\u001b[39m\u001b[K"
     ]
    },
    {
     "name": "stderr",
     "output_type": "stream",
     "text": [
      "\r\u001b[32mProgress:  51%|█████████████████████▏                   |  ETA: 0:00:30\u001b[39m\u001b[K"
     ]
    },
    {
     "name": "stderr",
     "output_type": "stream",
     "text": [
      "\r\u001b[32mProgress:  52%|█████████████████████▏                   |  ETA: 0:00:30\u001b[39m\u001b[K"
     ]
    },
    {
     "name": "stderr",
     "output_type": "stream",
     "text": [
      "\r\u001b[32mProgress:  52%|█████████████████████▎                   |  ETA: 0:00:29\u001b[39m\u001b[K"
     ]
    },
    {
     "name": "stderr",
     "output_type": "stream",
     "text": [
      "\r\u001b[32mProgress:  52%|█████████████████████▍                   |  ETA: 0:00:29\u001b[39m\u001b[K"
     ]
    },
    {
     "name": "stderr",
     "output_type": "stream",
     "text": [
      "\r\u001b[32mProgress:  52%|█████████████████████▍                   |  ETA: 0:00:29\u001b[39m\u001b[K"
     ]
    },
    {
     "name": "stderr",
     "output_type": "stream",
     "text": [
      "\r\u001b[32mProgress:  52%|█████████████████████▌                   |  ETA: 0:00:29\u001b[39m\u001b[K"
     ]
    },
    {
     "name": "stderr",
     "output_type": "stream",
     "text": [
      "\r\u001b[32mProgress:  53%|█████████████████████▋                   |  ETA: 0:00:29\u001b[39m\u001b[K"
     ]
    },
    {
     "name": "stderr",
     "output_type": "stream",
     "text": [
      "\r\u001b[32mProgress:  53%|█████████████████████▋                   |  ETA: 0:00:29\u001b[39m\u001b[K"
     ]
    },
    {
     "name": "stderr",
     "output_type": "stream",
     "text": [
      "\r\u001b[32mProgress:  53%|█████████████████████▊                   |  ETA: 0:00:29\u001b[39m\u001b[K"
     ]
    },
    {
     "name": "stderr",
     "output_type": "stream",
     "text": [
      "\r\u001b[32mProgress:  54%|██████████████████████                   |  ETA: 0:00:29\u001b[39m\u001b[K"
     ]
    },
    {
     "name": "stderr",
     "output_type": "stream",
     "text": [
      "\r\u001b[32mProgress:  54%|██████████████████████▏                  |  ETA: 0:00:28\u001b[39m\u001b[K"
     ]
    },
    {
     "name": "stderr",
     "output_type": "stream",
     "text": [
      "\r\u001b[32mProgress:  54%|██████████████████████▎                  |  ETA: 0:00:28\u001b[39m\u001b[K"
     ]
    },
    {
     "name": "stderr",
     "output_type": "stream",
     "text": [
      "\r\u001b[32mProgress:  55%|██████████████████████▌                  |  ETA: 0:00:28\u001b[39m\u001b[K"
     ]
    },
    {
     "name": "stderr",
     "output_type": "stream",
     "text": [
      "\r\u001b[32mProgress:  55%|██████████████████████▋                  |  ETA: 0:00:27\u001b[39m\u001b[K"
     ]
    },
    {
     "name": "stderr",
     "output_type": "stream",
     "text": [
      "\r\u001b[32mProgress:  56%|██████████████████████▊                  |  ETA: 0:00:27\u001b[39m\u001b[K"
     ]
    },
    {
     "name": "stderr",
     "output_type": "stream",
     "text": [
      "\r\u001b[32mProgress:  56%|███████████████████████                  |  ETA: 0:00:27\u001b[39m\u001b[K"
     ]
    },
    {
     "name": "stderr",
     "output_type": "stream",
     "text": [
      "\r\u001b[32mProgress:  56%|███████████████████████▏                 |  ETA: 0:00:26\u001b[39m\u001b[K"
     ]
    },
    {
     "name": "stderr",
     "output_type": "stream",
     "text": [
      "\r\u001b[32mProgress:  57%|███████████████████████▎                 |  ETA: 0:00:26\u001b[39m\u001b[K"
     ]
    },
    {
     "name": "stderr",
     "output_type": "stream",
     "text": [
      "\r\u001b[32mProgress:  57%|███████████████████████▎                 |  ETA: 0:00:26\u001b[39m\u001b[K"
     ]
    },
    {
     "name": "stderr",
     "output_type": "stream",
     "text": [
      "\r\u001b[32mProgress:  57%|███████████████████████▍                 |  ETA: 0:00:26\u001b[39m\u001b[K"
     ]
    },
    {
     "name": "stderr",
     "output_type": "stream",
     "text": [
      "\r\u001b[32mProgress:  57%|███████████████████████▌                 |  ETA: 0:00:26\u001b[39m\u001b[K"
     ]
    },
    {
     "name": "stderr",
     "output_type": "stream",
     "text": [
      "\r\u001b[32mProgress:  58%|███████████████████████▊                 |  ETA: 0:00:26\u001b[39m\u001b[K"
     ]
    },
    {
     "name": "stderr",
     "output_type": "stream",
     "text": [
      "\r\u001b[32mProgress:  58%|███████████████████████▉                 |  ETA: 0:00:25\u001b[39m\u001b[K"
     ]
    },
    {
     "name": "stderr",
     "output_type": "stream",
     "text": [
      "\r\u001b[32mProgress:  59%|████████████████████████                 |  ETA: 0:00:25\u001b[39m\u001b[K"
     ]
    },
    {
     "name": "stderr",
     "output_type": "stream",
     "text": [
      "\r\u001b[32mProgress:  59%|████████████████████████▎                |  ETA: 0:00:25\u001b[39m\u001b[K"
     ]
    },
    {
     "name": "stderr",
     "output_type": "stream",
     "text": [
      "\r\u001b[32mProgress:  59%|████████████████████████▍                |  ETA: 0:00:24\u001b[39m\u001b[K"
     ]
    },
    {
     "name": "stderr",
     "output_type": "stream",
     "text": [
      "\r\u001b[32mProgress:  60%|████████████████████████▌                |  ETA: 0:00:24\u001b[39m\u001b[K"
     ]
    },
    {
     "name": "stderr",
     "output_type": "stream",
     "text": [
      "\r\u001b[32mProgress:  60%|████████████████████████▋                |  ETA: 0:00:24\u001b[39m\u001b[K"
     ]
    },
    {
     "name": "stderr",
     "output_type": "stream",
     "text": [
      "\r\u001b[32mProgress:  61%|████████████████████████▉                |  ETA: 0:00:24\u001b[39m\u001b[K"
     ]
    },
    {
     "name": "stderr",
     "output_type": "stream",
     "text": [
      "\r\u001b[32mProgress:  61%|█████████████████████████                |  ETA: 0:00:23\u001b[39m\u001b[K"
     ]
    },
    {
     "name": "stderr",
     "output_type": "stream",
     "text": [
      "\r\u001b[32mProgress:  61%|█████████████████████████▏               |  ETA: 0:00:23\u001b[39m\u001b[K"
     ]
    },
    {
     "name": "stderr",
     "output_type": "stream",
     "text": [
      "\r\u001b[32mProgress:  62%|█████████████████████████▍               |  ETA: 0:00:23\u001b[39m\u001b[K"
     ]
    },
    {
     "name": "stderr",
     "output_type": "stream",
     "text": [
      "\r\u001b[32mProgress:  62%|█████████████████████████▌               |  ETA: 0:00:23\u001b[39m\u001b[K"
     ]
    },
    {
     "name": "stderr",
     "output_type": "stream",
     "text": [
      "\r\u001b[32mProgress:  63%|█████████████████████████▋               |  ETA: 0:00:22\u001b[39m\u001b[K"
     ]
    },
    {
     "name": "stderr",
     "output_type": "stream",
     "text": [
      "\r\u001b[32mProgress:  63%|█████████████████████████▊               |  ETA: 0:00:22\u001b[39m\u001b[K"
     ]
    },
    {
     "name": "stderr",
     "output_type": "stream",
     "text": [
      "\r\u001b[32mProgress:  63%|█████████████████████████▉               |  ETA: 0:00:22\u001b[39m\u001b[K"
     ]
    },
    {
     "name": "stderr",
     "output_type": "stream",
     "text": [
      "\r\u001b[32mProgress:  63%|█████████████████████████▉               |  ETA: 0:00:22\u001b[39m\u001b[K"
     ]
    },
    {
     "name": "stderr",
     "output_type": "stream",
     "text": [
      "\r\u001b[32mProgress:  63%|██████████████████████████               |  ETA: 0:00:22\u001b[39m\u001b[K"
     ]
    },
    {
     "name": "stderr",
     "output_type": "stream",
     "text": [
      "\r\u001b[32mProgress:  64%|██████████████████████████▏              |  ETA: 0:00:22\u001b[39m\u001b[K"
     ]
    },
    {
     "name": "stderr",
     "output_type": "stream",
     "text": [
      "\r\u001b[32mProgress:  64%|██████████████████████████▏              |  ETA: 0:00:22\u001b[39m\u001b[K"
     ]
    },
    {
     "name": "stderr",
     "output_type": "stream",
     "text": [
      "\r\u001b[32mProgress:  64%|██████████████████████████▎              |  ETA: 0:00:22\u001b[39m\u001b[K"
     ]
    },
    {
     "name": "stderr",
     "output_type": "stream",
     "text": [
      "\r\u001b[32mProgress:  64%|██████████████████████████▍              |  ETA: 0:00:22\u001b[39m\u001b[K"
     ]
    },
    {
     "name": "stderr",
     "output_type": "stream",
     "text": [
      "\r\u001b[32mProgress:  65%|██████████████████████████▌              |  ETA: 0:00:22\u001b[39m\u001b[K"
     ]
    },
    {
     "name": "stderr",
     "output_type": "stream",
     "text": [
      "\r\u001b[32mProgress:  65%|██████████████████████████▋              |  ETA: 0:00:22\u001b[39m\u001b[K"
     ]
    },
    {
     "name": "stderr",
     "output_type": "stream",
     "text": [
      "\r\u001b[32mProgress:  65%|██████████████████████████▉              |  ETA: 0:00:21\u001b[39m\u001b[K"
     ]
    },
    {
     "name": "stderr",
     "output_type": "stream",
     "text": [
      "\r\u001b[32mProgress:  66%|██████████████████████████▉              |  ETA: 0:00:21\u001b[39m\u001b[K"
     ]
    },
    {
     "name": "stderr",
     "output_type": "stream",
     "text": [
      "\r\u001b[32mProgress:  66%|███████████████████████████              |  ETA: 0:00:21\u001b[39m\u001b[K"
     ]
    },
    {
     "name": "stderr",
     "output_type": "stream",
     "text": [
      "\r\u001b[32mProgress:  66%|███████████████████████████              |  ETA: 0:00:21\u001b[39m\u001b[K"
     ]
    },
    {
     "name": "stderr",
     "output_type": "stream",
     "text": [
      "\r\u001b[32mProgress:  66%|███████████████████████████▏             |  ETA: 0:00:21\u001b[39m\u001b[K"
     ]
    },
    {
     "name": "stderr",
     "output_type": "stream",
     "text": [
      "\r\u001b[32mProgress:  66%|███████████████████████████▎             |  ETA: 0:00:21\u001b[39m\u001b[K"
     ]
    },
    {
     "name": "stderr",
     "output_type": "stream",
     "text": [
      "\r\u001b[32mProgress:  67%|███████████████████████████▎             |  ETA: 0:00:21\u001b[39m\u001b[K"
     ]
    },
    {
     "name": "stderr",
     "output_type": "stream",
     "text": [
      "\r\u001b[32mProgress:  67%|███████████████████████████▍             |  ETA: 0:00:21\u001b[39m\u001b[K"
     ]
    },
    {
     "name": "stderr",
     "output_type": "stream",
     "text": [
      "\r\u001b[32mProgress:  67%|███████████████████████████▌             |  ETA: 0:00:20\u001b[39m\u001b[K"
     ]
    },
    {
     "name": "stderr",
     "output_type": "stream",
     "text": [
      "\r\u001b[32mProgress:  67%|███████████████████████████▌             |  ETA: 0:00:20\u001b[39m\u001b[K"
     ]
    },
    {
     "name": "stderr",
     "output_type": "stream",
     "text": [
      "\r\u001b[32mProgress:  68%|███████████████████████████▊             |  ETA: 0:00:20\u001b[39m"
     ]
    },
    {
     "name": "stderr",
     "output_type": "stream",
     "text": [
      "\u001b[K"
     ]
    },
    {
     "name": "stderr",
     "output_type": "stream",
     "text": [
      "\r\u001b[32mProgress:  68%|███████████████████████████▊             |  ETA: 0:00:20\u001b[39m\u001b[K"
     ]
    },
    {
     "name": "stderr",
     "output_type": "stream",
     "text": [
      "\r\u001b[32mProgress:  68%|███████████████████████████▉             |  ETA: 0:00:20\u001b[39m\u001b[K"
     ]
    },
    {
     "name": "stderr",
     "output_type": "stream",
     "text": [
      "\r\u001b[32mProgress:  68%|████████████████████████████             |  ETA: 0:00:20\u001b[39m\u001b[K"
     ]
    },
    {
     "name": "stderr",
     "output_type": "stream",
     "text": [
      "\r\u001b[32mProgress:  69%|████████████████████████████▏            |  ETA: 0:00:19\u001b[39m\u001b[K"
     ]
    },
    {
     "name": "stderr",
     "output_type": "stream",
     "text": [
      "\r\u001b[32mProgress:  69%|████████████████████████████▎            |  ETA: 0:00:19\u001b[39m\u001b[K"
     ]
    },
    {
     "name": "stderr",
     "output_type": "stream",
     "text": [
      "\r\u001b[32mProgress:  69%|████████████████████████████▌            |  ETA: 0:00:19\u001b[39m\u001b[K"
     ]
    },
    {
     "name": "stderr",
     "output_type": "stream",
     "text": [
      "\r\u001b[32mProgress:  70%|████████████████████████████▋            |  ETA: 0:00:19\u001b[39m\u001b[K"
     ]
    },
    {
     "name": "stderr",
     "output_type": "stream",
     "text": [
      "\r\u001b[32mProgress:  70%|████████████████████████████▊            |  ETA: 0:00:18\u001b[39m\u001b[K"
     ]
    },
    {
     "name": "stderr",
     "output_type": "stream",
     "text": [
      "\r\u001b[32mProgress:  71%|█████████████████████████████            |  ETA: 0:00:18\u001b[39m\u001b[K"
     ]
    },
    {
     "name": "stderr",
     "output_type": "stream",
     "text": [
      "\r\u001b[32mProgress:  71%|█████████████████████████████▏           |  ETA: 0:00:18\u001b[39m\u001b[K"
     ]
    },
    {
     "name": "stderr",
     "output_type": "stream",
     "text": [
      "\r\u001b[32mProgress:  71%|█████████████████████████████▎           |  ETA: 0:00:18\u001b[39m\u001b[K"
     ]
    },
    {
     "name": "stderr",
     "output_type": "stream",
     "text": [
      "\r\u001b[32mProgress:  72%|█████████████████████████████▌           |  ETA: 0:00:17\u001b[39m\u001b[K"
     ]
    },
    {
     "name": "stderr",
     "output_type": "stream",
     "text": [
      "\r\u001b[32mProgress:  72%|█████████████████████████████▋           |  ETA: 0:00:17\u001b[39m\u001b[K"
     ]
    },
    {
     "name": "stderr",
     "output_type": "stream",
     "text": [
      "\r\u001b[32mProgress:  74%|██████████████████████████████▏          |  ETA: 0:00:16\u001b[39m\u001b[K"
     ]
    },
    {
     "name": "stderr",
     "output_type": "stream",
     "text": [
      "\r\u001b[32mProgress:  74%|██████████████████████████████▍          |  ETA: 0:00:16\u001b[39m\u001b[K"
     ]
    },
    {
     "name": "stderr",
     "output_type": "stream",
     "text": [
      "\r\u001b[32mProgress:  74%|██████████████████████████████▍          |  ETA: 0:00:16\u001b[39m\u001b[K"
     ]
    },
    {
     "name": "stderr",
     "output_type": "stream",
     "text": [
      "\r\u001b[32mProgress:  74%|██████████████████████████████▌          |  ETA: 0:00:16\u001b[39m\u001b[K"
     ]
    },
    {
     "name": "stderr",
     "output_type": "stream",
     "text": [
      "\r\u001b[32mProgress:  75%|██████████████████████████████▋          |  ETA: 0:00:16\u001b[39m\u001b[K"
     ]
    },
    {
     "name": "stderr",
     "output_type": "stream",
     "text": [
      "\r\u001b[32mProgress:  75%|██████████████████████████████▋          |  ETA: 0:00:16\u001b[39m\u001b[K"
     ]
    },
    {
     "name": "stderr",
     "output_type": "stream",
     "text": [
      "\r\u001b[32mProgress:  75%|██████████████████████████████▊          |  ETA: 0:00:15\u001b[39m\u001b[K"
     ]
    },
    {
     "name": "stderr",
     "output_type": "stream",
     "text": [
      "\r\u001b[32mProgress:  75%|██████████████████████████████▉          |  ETA: 0:00:15\u001b[39m\u001b[K"
     ]
    },
    {
     "name": "stderr",
     "output_type": "stream",
     "text": [
      "\r\u001b[32mProgress:  75%|██████████████████████████████▉          |  ETA: 0:00:15\u001b[39m\u001b[K"
     ]
    },
    {
     "name": "stderr",
     "output_type": "stream",
     "text": [
      "\r\u001b[32mProgress:  76%|███████████████████████████████          |  ETA: 0:00:15\u001b[39m\u001b[K"
     ]
    },
    {
     "name": "stderr",
     "output_type": "stream",
     "text": [
      "\r\u001b[32mProgress:  76%|███████████████████████████████▏         |  ETA: 0:00:15\u001b[39m\u001b[K"
     ]
    },
    {
     "name": "stderr",
     "output_type": "stream",
     "text": [
      "\r\u001b[32mProgress:  76%|███████████████████████████████▏         |  ETA: 0:00:15\u001b[39m\u001b[K"
     ]
    },
    {
     "name": "stderr",
     "output_type": "stream",
     "text": [
      "\r\u001b[32mProgress:  76%|███████████████████████████████▎         |  ETA: 0:00:15\u001b[39m\u001b[K"
     ]
    },
    {
     "name": "stderr",
     "output_type": "stream",
     "text": [
      "\r\u001b[32mProgress:  76%|███████████████████████████████▍         |  ETA: 0:00:15\u001b[39m\u001b[K"
     ]
    },
    {
     "name": "stderr",
     "output_type": "stream",
     "text": [
      "\r\u001b[32mProgress:  77%|███████████████████████████████▍         |  ETA: 0:00:15\u001b[39m\u001b[K"
     ]
    },
    {
     "name": "stderr",
     "output_type": "stream",
     "text": [
      "\r\u001b[32mProgress:  77%|███████████████████████████████▌         |  ETA: 0:00:15\u001b[39m\u001b[K"
     ]
    },
    {
     "name": "stderr",
     "output_type": "stream",
     "text": [
      "\r\u001b[32mProgress:  77%|███████████████████████████████▋         |  ETA: 0:00:15\u001b[39m\u001b[K"
     ]
    },
    {
     "name": "stderr",
     "output_type": "stream",
     "text": [
      "\r\u001b[32mProgress:  77%|███████████████████████████████▋         |  ETA: 0:00:14\u001b[39m\u001b[K"
     ]
    },
    {
     "name": "stderr",
     "output_type": "stream",
     "text": [
      "\r\u001b[32mProgress:  77%|███████████████████████████████▊         |  ETA: 0:00:14\u001b[39m\u001b[K"
     ]
    },
    {
     "name": "stderr",
     "output_type": "stream",
     "text": [
      "\r\u001b[32mProgress:  78%|███████████████████████████████▉         |  ETA: 0:00:14\u001b[39m\u001b[K"
     ]
    },
    {
     "name": "stderr",
     "output_type": "stream",
     "text": [
      "\r\u001b[32mProgress:  78%|████████████████████████████████         |  ETA: 0:00:14\u001b[39m\u001b[K"
     ]
    },
    {
     "name": "stderr",
     "output_type": "stream",
     "text": [
      "\r\u001b[32mProgress:  78%|████████████████████████████████         |  ETA: 0:00:14\u001b[39m\u001b[K"
     ]
    },
    {
     "name": "stderr",
     "output_type": "stream",
     "text": [
      "\r\u001b[32mProgress:  78%|████████████████████████████████▏        |  ETA: 0:00:14\u001b[39m\u001b[K"
     ]
    },
    {
     "name": "stderr",
     "output_type": "stream",
     "text": [
      "\r\u001b[32mProgress:  79%|████████████████████████████████▎        |  ETA: 0:00:14\u001b[39m\u001b[K"
     ]
    },
    {
     "name": "stderr",
     "output_type": "stream",
     "text": [
      "\r\u001b[32mProgress:  79%|████████████████████████████████▎        |  ETA: 0:00:14\u001b[39m\u001b[K"
     ]
    },
    {
     "name": "stderr",
     "output_type": "stream",
     "text": [
      "\r\u001b[32mProgress:  79%|████████████████████████████████▍        |  ETA: 0:00:13\u001b[39m\u001b[K"
     ]
    },
    {
     "name": "stderr",
     "output_type": "stream",
     "text": [
      "\r\u001b[32mProgress:  79%|████████████████████████████████▌        |  ETA: 0:00:13\u001b[39m\u001b[K"
     ]
    },
    {
     "name": "stderr",
     "output_type": "stream",
     "text": [
      "\r\u001b[32mProgress:  80%|████████████████████████████████▋        |  ETA: 0:00:13\u001b[39m\u001b[K"
     ]
    },
    {
     "name": "stderr",
     "output_type": "stream",
     "text": [
      "\r\u001b[32mProgress:  80%|████████████████████████████████▊        |  ETA: 0:00:13\u001b[39m\u001b[K"
     ]
    },
    {
     "name": "stderr",
     "output_type": "stream",
     "text": [
      "\r\u001b[32mProgress:  80%|████████████████████████████████▉        |  ETA: 0:00:13\u001b[39m\u001b[K"
     ]
    },
    {
     "name": "stderr",
     "output_type": "stream",
     "text": [
      "\r\u001b[32mProgress:  81%|█████████████████████████████████        |  ETA: 0:00:12\u001b[39m\u001b[K"
     ]
    },
    {
     "name": "stderr",
     "output_type": "stream",
     "text": [
      "\r\u001b[32mProgress:  81%|█████████████████████████████████▎       |  ETA: 0:00:12\u001b[39m\u001b[K"
     ]
    },
    {
     "name": "stderr",
     "output_type": "stream",
     "text": [
      "\r\u001b[32mProgress:  82%|█████████████████████████████████▌       |  ETA: 0:00:12\u001b[39m\u001b[K"
     ]
    },
    {
     "name": "stderr",
     "output_type": "stream",
     "text": [
      "\r\u001b[32mProgress:  82%|█████████████████████████████████▋       |  ETA: 0:00:11\u001b[39m\u001b[K"
     ]
    },
    {
     "name": "stderr",
     "output_type": "stream",
     "text": [
      "\r\u001b[32mProgress:  82%|█████████████████████████████████▊       |  ETA: 0:00:11\u001b[39m\u001b[K"
     ]
    },
    {
     "name": "stderr",
     "output_type": "stream",
     "text": [
      "\r\u001b[32mProgress:  83%|█████████████████████████████████▉       |  ETA: 0:00:11\u001b[39m\u001b[K"
     ]
    },
    {
     "name": "stderr",
     "output_type": "stream",
     "text": [
      "\r\u001b[32mProgress:  83%|██████████████████████████████████       |  ETA: 0:00:11\u001b[39m\u001b[K"
     ]
    },
    {
     "name": "stderr",
     "output_type": "stream",
     "text": [
      "\r\u001b[32mProgress:  83%|██████████████████████████████████▎      |  ETA: 0:00:11\u001b[39m\u001b[K"
     ]
    },
    {
     "name": "stderr",
     "output_type": "stream",
     "text": [
      "\r\u001b[32mProgress:  84%|██████████████████████████████████▍      |  ETA: 0:00:10\u001b[39m\u001b[K"
     ]
    },
    {
     "name": "stderr",
     "output_type": "stream",
     "text": [
      "\r\u001b[32mProgress:  84%|██████████████████████████████████▌      |  ETA: 0:00:10\u001b[39m\u001b[K"
     ]
    },
    {
     "name": "stderr",
     "output_type": "stream",
     "text": [
      "\r\u001b[32mProgress:  85%|██████████████████████████████████▋      |  ETA: 0:00:10\u001b[39m\u001b[K"
     ]
    },
    {
     "name": "stderr",
     "output_type": "stream",
     "text": [
      "\r\u001b[32mProgress:  85%|██████████████████████████████████▊      |  ETA: 0:00:10\u001b[39m\u001b[K"
     ]
    },
    {
     "name": "stderr",
     "output_type": "stream",
     "text": [
      "\r\u001b[32mProgress:  85%|██████████████████████████████████▉      |  ETA: 0:00:10\u001b[39m\u001b[K"
     ]
    },
    {
     "name": "stderr",
     "output_type": "stream",
     "text": [
      "\r\u001b[32mProgress:  85%|██████████████████████████████████▉      |  ETA: 0:00:10\u001b[39m\u001b[K"
     ]
    },
    {
     "name": "stderr",
     "output_type": "stream",
     "text": [
      "\r\u001b[32mProgress:  85%|███████████████████████████████████      |  ETA: 0:00:09\u001b[39m\u001b[K"
     ]
    },
    {
     "name": "stderr",
     "output_type": "stream",
     "text": [
      "\r\u001b[32mProgress:  86%|███████████████████████████████████▏     |  ETA: 0:00:09\u001b[39m\u001b[K"
     ]
    },
    {
     "name": "stderr",
     "output_type": "stream",
     "text": [
      "\r\u001b[32mProgress:  86%|███████████████████████████████████▏     |  ETA: 0:00:09\u001b[39m\u001b[K"
     ]
    },
    {
     "name": "stderr",
     "output_type": "stream",
     "text": [
      "\r\u001b[32mProgress:  86%|███████████████████████████████████▎     |  ETA: 0:00:09\u001b[39m\u001b[K"
     ]
    },
    {
     "name": "stderr",
     "output_type": "stream",
     "text": [
      "\r\u001b[32mProgress:  86%|███████████████████████████████████▍     |  ETA: 0:00:09\u001b[39m\u001b[K"
     ]
    },
    {
     "name": "stderr",
     "output_type": "stream",
     "text": [
      "\r\u001b[32mProgress:  86%|███████████████████████████████████▍     |  ETA: 0:00:09\u001b[39m\u001b[K"
     ]
    },
    {
     "name": "stderr",
     "output_type": "stream",
     "text": [
      "\r\u001b[32mProgress:  87%|███████████████████████████████████▌     |  ETA: 0:00:09\u001b[39m\u001b[K"
     ]
    },
    {
     "name": "stderr",
     "output_type": "stream",
     "text": [
      "\r\u001b[32mProgress:  87%|███████████████████████████████████▋     |  ETA: 0:00:09\u001b[39m\u001b[K"
     ]
    },
    {
     "name": "stderr",
     "output_type": "stream",
     "text": [
      "\r\u001b[32mProgress:  87%|███████████████████████████████████▋     |  ETA: 0:00:08\u001b[39m\u001b[K"
     ]
    },
    {
     "name": "stderr",
     "output_type": "stream",
     "text": [
      "\r\u001b[32mProgress:  87%|███████████████████████████████████▊     |  ETA: 0:00:08\u001b[39m\u001b[K"
     ]
    },
    {
     "name": "stderr",
     "output_type": "stream",
     "text": [
      "\r\u001b[32mProgress:  87%|███████████████████████████████████▉     |  ETA: 0:00:08\u001b[39m\u001b[K"
     ]
    },
    {
     "name": "stderr",
     "output_type": "stream",
     "text": [
      "\r\u001b[32mProgress:  88%|███████████████████████████████████▉     |  ETA: 0:00:08\u001b[39m\u001b[K"
     ]
    },
    {
     "name": "stderr",
     "output_type": "stream",
     "text": [
      "\r\u001b[32mProgress:  88%|████████████████████████████████████     |  ETA: 0:00:08\u001b[39m\u001b[K"
     ]
    },
    {
     "name": "stderr",
     "output_type": "stream",
     "text": [
      "\r\u001b[32mProgress:  88%|████████████████████████████████████▏    |  ETA: 0:00:08\u001b[39m\u001b[K"
     ]
    },
    {
     "name": "stderr",
     "output_type": "stream",
     "text": [
      "\r\u001b[32mProgress:  88%|████████████████████████████████████▏    |  ETA: 0:00:08\u001b[39m\u001b[K"
     ]
    },
    {
     "name": "stderr",
     "output_type": "stream",
     "text": [
      "\r\u001b[32mProgress:  89%|████████████████████████████████████▍    |  ETA: 0:00:07\u001b[39m\u001b[K"
     ]
    },
    {
     "name": "stderr",
     "output_type": "stream",
     "text": [
      "\r\u001b[32mProgress:  89%|████████████████████████████████████▍    |  ETA: 0:00:07\u001b[39m\u001b[K"
     ]
    },
    {
     "name": "stderr",
     "output_type": "stream",
     "text": [
      "\r\u001b[32mProgress:  89%|████████████████████████████████████▌    |  ETA: 0:00:07\u001b[39m\u001b[K"
     ]
    },
    {
     "name": "stderr",
     "output_type": "stream",
     "text": [
      "\r\u001b[32mProgress:  89%|████████████████████████████████████▋    |  ETA: 0:00:07\u001b[39m\u001b[K"
     ]
    },
    {
     "name": "stderr",
     "output_type": "stream",
     "text": [
      "\r\u001b[32mProgress:  89%|████████████████████████████████████▋    |  ETA: 0:00:07\u001b[39m\u001b[K"
     ]
    },
    {
     "name": "stderr",
     "output_type": "stream",
     "text": [
      "\r\u001b[32mProgress:  90%|████████████████████████████████████▊    |  ETA: 0:00:07\u001b[39m\u001b[K"
     ]
    },
    {
     "name": "stderr",
     "output_type": "stream",
     "text": [
      "\r\u001b[32mProgress:  90%|████████████████████████████████████▉    |  ETA: 0:00:07\u001b[39m\u001b[K"
     ]
    },
    {
     "name": "stderr",
     "output_type": "stream",
     "text": [
      "\r\u001b[32mProgress:  90%|█████████████████████████████████████    |  ETA: 0:00:06\u001b[39m\u001b[K"
     ]
    },
    {
     "name": "stderr",
     "output_type": "stream",
     "text": [
      "\r\u001b[32mProgress:  90%|█████████████████████████████████████▏   |  ETA: 0:00:06\u001b[39m\u001b[K"
     ]
    },
    {
     "name": "stderr",
     "output_type": "stream",
     "text": [
      "\r\u001b[32mProgress:  91%|█████████████████████████████████████▎   |  ETA: 0:00:06\u001b[39m\u001b[K"
     ]
    },
    {
     "name": "stderr",
     "output_type": "stream",
     "text": [
      "\r\u001b[32mProgress:  91%|█████████████████████████████████████▍   |  ETA: 0:00:06\u001b[39m\u001b[K"
     ]
    },
    {
     "name": "stderr",
     "output_type": "stream",
     "text": [
      "\r\u001b[32mProgress:  92%|█████████████████████████████████████▌   |  ETA: 0:00:05\u001b[39m\u001b[K"
     ]
    },
    {
     "name": "stderr",
     "output_type": "stream",
     "text": [
      "\r\u001b[32mProgress:  92%|█████████████████████████████████████▊   |  ETA: 0:00:05\u001b[39m\u001b[K"
     ]
    },
    {
     "name": "stderr",
     "output_type": "stream",
     "text": [
      "\r\u001b[32mProgress:  92%|█████████████████████████████████████▉   |  ETA: 0:00:05\u001b[39m\u001b[K"
     ]
    },
    {
     "name": "stderr",
     "output_type": "stream",
     "text": [
      "\r\u001b[32mProgress:  93%|██████████████████████████████████████   |  ETA: 0:00:05\u001b[39m\u001b[K"
     ]
    },
    {
     "name": "stderr",
     "output_type": "stream",
     "text": [
      "\r\u001b[32mProgress:  93%|██████████████████████████████████████▎  |  ETA: 0:00:04\u001b[39m\u001b[K"
     ]
    },
    {
     "name": "stderr",
     "output_type": "stream",
     "text": [
      "\r\u001b[32mProgress:  94%|██████████████████████████████████████▍  |  ETA: 0:00:04\u001b[39m\u001b[K"
     ]
    },
    {
     "name": "stderr",
     "output_type": "stream",
     "text": [
      "\r\u001b[32mProgress:  94%|██████████████████████████████████████▌  |  ETA: 0:00:04\u001b[39m\u001b[K"
     ]
    },
    {
     "name": "stderr",
     "output_type": "stream",
     "text": [
      "\r\u001b[32mProgress:  94%|██████████████████████████████████████▊  |  ETA: 0:00:04\u001b[39m\u001b[K"
     ]
    },
    {
     "name": "stderr",
     "output_type": "stream",
     "text": [
      "\r\u001b[32mProgress:  95%|██████████████████████████████████████▉  |  ETA: 0:00:03\u001b[39m\u001b[K"
     ]
    },
    {
     "name": "stderr",
     "output_type": "stream",
     "text": [
      "\r\u001b[32mProgress:  95%|███████████████████████████████████████  |  ETA: 0:00:03\u001b[39m\u001b[K"
     ]
    },
    {
     "name": "stderr",
     "output_type": "stream",
     "text": [
      "\r\u001b[32mProgress:  95%|███████████████████████████████████████▏ |  ETA: 0:00:03\u001b[39m\u001b[K"
     ]
    },
    {
     "name": "stderr",
     "output_type": "stream",
     "text": [
      "\r\u001b[32mProgress:  96%|███████████████████████████████████████▎ |  ETA: 0:00:03\u001b[39m\u001b[K"
     ]
    },
    {
     "name": "stderr",
     "output_type": "stream",
     "text": [
      "\r\u001b[32mProgress:  96%|███████████████████████████████████████▌ |  ETA: 0:00:02\u001b[39m\u001b[K"
     ]
    },
    {
     "name": "stderr",
     "output_type": "stream",
     "text": [
      "\r\u001b[32mProgress:  97%|███████████████████████████████████████▋ |  ETA: 0:00:02\u001b[39m\u001b[K"
     ]
    },
    {
     "name": "stderr",
     "output_type": "stream",
     "text": [
      "\r\u001b[32mProgress:  97%|███████████████████████████████████████▊ |  ETA: 0:00:02\u001b[39m\u001b[K"
     ]
    },
    {
     "name": "stderr",
     "output_type": "stream",
     "text": [
      "\r\u001b[32mProgress:  97%|███████████████████████████████████████▉ |  ETA: 0:00:02\u001b[39m\u001b[K"
     ]
    },
    {
     "name": "stderr",
     "output_type": "stream",
     "text": [
      "\r\u001b[32mProgress:  97%|███████████████████████████████████████▉ |  ETA: 0:00:02\u001b[39m\u001b[K"
     ]
    },
    {
     "name": "stderr",
     "output_type": "stream",
     "text": [
      "\r\u001b[32mProgress:  98%|████████████████████████████████████████ |  ETA: 0:00:02\u001b[39m\u001b[K"
     ]
    },
    {
     "name": "stderr",
     "output_type": "stream",
     "text": [
      "\r\u001b[32mProgress:  98%|████████████████████████████████████████▏|  ETA: 0:00:01\u001b[39m\u001b[K"
     ]
    },
    {
     "name": "stderr",
     "output_type": "stream",
     "text": [
      "\r\u001b[32mProgress:  98%|████████████████████████████████████████▏|  ETA: 0:00:01\u001b[39m\u001b[K"
     ]
    },
    {
     "name": "stderr",
     "output_type": "stream",
     "text": [
      "\r\u001b[32mProgress:  98%|████████████████████████████████████████▎|  ETA: 0:00:01\u001b[39m\u001b[K"
     ]
    },
    {
     "name": "stderr",
     "output_type": "stream",
     "text": [
      "\r\u001b[32mProgress:  98%|████████████████████████████████████████▍|  ETA: 0:00:01\u001b[39m\u001b[K"
     ]
    },
    {
     "name": "stderr",
     "output_type": "stream",
     "text": [
      "\r\u001b[32mProgress:  99%|████████████████████████████████████████▍|  ETA: 0:00:01\u001b[39m\u001b[K"
     ]
    },
    {
     "name": "stderr",
     "output_type": "stream",
     "text": [
      "\r\u001b[32mProgress:  99%|████████████████████████████████████████▌|  ETA: 0:00:01\u001b[39m\u001b[K"
     ]
    },
    {
     "name": "stderr",
     "output_type": "stream",
     "text": [
      "\r\u001b[32mProgress:  99%|████████████████████████████████████████▋|  ETA: 0:00:01\u001b[39m\u001b[K"
     ]
    },
    {
     "name": "stderr",
     "output_type": "stream",
     "text": [
      "\r\u001b[32mProgress:  99%|████████████████████████████████████████▋|  ETA: 0:00:01\u001b[39m\u001b[K"
     ]
    },
    {
     "name": "stderr",
     "output_type": "stream",
     "text": [
      "\r\u001b[32mProgress: 100%|████████████████████████████████████████▉|  ETA: 0:00:00\u001b[39m\u001b[K"
     ]
    },
    {
     "name": "stderr",
     "output_type": "stream",
     "text": [
      "\r\u001b[32mProgress: 100%|████████████████████████████████████████▉|  ETA: 0:00:00\u001b[39m\u001b[K"
     ]
    },
    {
     "name": "stderr",
     "output_type": "stream",
     "text": [
      "\r\u001b[32mProgress: 100%|█████████████████████████████████████████| Time: 0:01:05\u001b[39m\u001b[K\n"
     ]
    },
    {
     "name": "stdout",
     "output_type": "stream",
     "text": [
      "(W, D, Excess) = ([491.09605931232426, 383.22024874178675, 498.0427313582707], [491.0960593502902, 383.22025119393476, 498.04272907300816], [3.7965946830809116e-8, 2.4521480099792825e-6, -2.2852625534142135e-6])\n"
     ]
    }
   ],
   "source": [
    "shockpricepath=pricepath\n",
    "initial_p=[p[1], p[2], p[3]]\n",
    "@showprogress for j=1:500\n",
    "    shockpricepath=push!(shockpricepath, [p[1], p[2], p[3]])\n",
    "    for i=1:ng\n",
    "        p[i]=p[i]+0.001*Excess[i]\n",
    "        W[i]=sum(n_G[j,i] for j=1:na)\n",
    "        D[i]=sum(NHUtility(n_G[j,:],p)[i] for j=1:na)        \n",
    "    end\n",
    "    Excess=D-W\n",
    "sleep(0.00000001)\n",
    "end\n",
    "\n",
    "after_shock_p=p\n",
    "\n",
    "pricep=shockpricepath\n",
    "p_p=[]\n",
    "p_n=[]\n",
    "p_l=[]\n",
    "for i=1:length(pricep)\n",
    "    p_p=push!(p_p, pricep[i][1])\n",
    "    p_n=push!(p_n, pricep[i][2])\n",
    "    p_l=push!(p_l, pricep[i][3])\n",
    "end\n",
    "\n",
    "@show W,D, Excess\n",
    "pge=plot([p_p p_n p_l], title=\"GE prices with 300 agents\", label=[\"Primary\" \"Normal\" \"Luxury\"])\n",
    "savefig(pge, \"ge_prices.png\") # save the most recent fig as filename_string (such as \"output.png\")"
   ]
  },
  {
   "cell_type": "code",
   "execution_count": 73,
   "metadata": {},
   "outputs": [
    {
     "data": {
      "image/png": "[encoded data removed]",
      "image/svg+xml": "<?xml version=\"1.0\" encoding=\"utf-8\"?>\n<svg xmlns=\"http://www.w3.org/2000/svg\" xmlns:xlink=\"http://www.w3.org/1999/xlink\" width=\"600\" height=\"400\" viewBox=\"0 0 2400 1600\">\n<defs>\n  <clipPath id=\"clip890\">\n    <rect x=\"0\" y=\"0\" width=\"2400\" height=\"1600\"/>\n  </clipPath>\n</defs>\n<path clip-path=\"url(#clip890)\" d=\"\nM0 1600 L2400 1600 L2400 0 L0 0  Z\n  \" fill=\"#ffffff\" fill-rule=\"evenodd\" fill-opacity=\"1\"/>\n<defs>\n  <clipPath id=\"clip891\">\n    <rect x=\"480\" y=\"0\" width=\"1681\" height=\"1600\"/>\n  </clipPath>\n</defs>\n<path clip-path=\"url(#clip890)\" d=\"\nM138.959 1486.45 L2352.76 1486.45 L2352.76 123.472 L138.959 123.472  Z\n  \" fill=\"#ffffff\" fill-rule=\"evenodd\" fill-opacity=\"1\"/>\n<defs>\n  <clipPath id=\"clip892\">\n    <rect x=\"138\" y=\"123\" width=\"2215\" height=\"1364\"/>\n  </clipPath>\n</defs>\n<polyline clip-path=\"url(#clip892)\" style=\"stroke:#000000; stroke-linecap:butt; stroke-linejoin:round; stroke-width:2; stroke-opacity:0.1; fill:none\" points=\"\n  199.523,1486.45 199.523,123.472 \n  \"/>\n<polyline clip-path=\"url(#clip892)\" style=\"stroke:#000000; stroke-linecap:butt; stroke-linejoin:round; stroke-width:2; stroke-opacity:0.1; fill:none\" points=\"\n  722.168,1486.45 722.168,123.472 \n  \"/>\n<polyline clip-path=\"url(#clip892)\" style=\"stroke:#000000; stroke-linecap:butt; stroke-linejoin:round; stroke-width:2; stroke-opacity:0.1; fill:none\" points=\"\n  1244.81,1486.45 1244.81,123.472 \n  \"/>\n<polyline clip-path=\"url(#clip892)\" style=\"stroke:#000000; stroke-linecap:butt; stroke-linejoin:round; stroke-width:2; stroke-opacity:0.1; fill:none\" points=\"\n  1767.46,1486.45 1767.46,123.472 \n  \"/>\n<polyline clip-path=\"url(#clip892)\" style=\"stroke:#000000; stroke-linecap:butt; stroke-linejoin:round; stroke-width:2; stroke-opacity:0.1; fill:none\" points=\"\n  2290.1,1486.45 2290.1,123.472 \n  \"/>\n<polyline clip-path=\"url(#clip890)\" style=\"stroke:#000000; stroke-linecap:butt; stroke-linejoin:round; stroke-width:4; stroke-opacity:1; fill:none\" points=\"\n  138.959,1486.45 2352.76,1486.45 \n  \"/>\n<polyline clip-path=\"url(#clip890)\" style=\"stroke:#000000; stroke-linecap:butt; stroke-linejoin:round; stroke-width:4; stroke-opacity:1; fill:none\" points=\"\n  199.523,1486.45 199.523,1467.55 \n  \"/>\n<polyline clip-path=\"url(#clip890)\" style=\"stroke:#000000; stroke-linecap:butt; stroke-linejoin:round; stroke-width:4; stroke-opacity:1; fill:none\" points=\"\n  722.168,1486.45 722.168,1467.55 \n  \"/>\n<polyline clip-path=\"url(#clip890)\" style=\"stroke:#000000; stroke-linecap:butt; stroke-linejoin:round; stroke-width:4; stroke-opacity:1; fill:none\" points=\"\n  1244.81,1486.45 1244.81,1467.55 \n  \"/>\n<polyline clip-path=\"url(#clip890)\" style=\"stroke:#000000; stroke-linecap:butt; stroke-linejoin:round; stroke-width:4; stroke-opacity:1; fill:none\" points=\"\n  1767.46,1486.45 1767.46,1467.55 \n  \"/>\n<polyline clip-path=\"url(#clip890)\" style=\"stroke:#000000; stroke-linecap:butt; stroke-linejoin:round; stroke-width:4; stroke-opacity:1; fill:none\" points=\"\n  2290.1,1486.45 2290.1,1467.55 \n  \"/>\n<path clip-path=\"url(#clip890)\" d=\"M199.523 1517.37 Q195.912 1517.37 194.084 1520.93 Q192.278 1524.47 192.278 1531.6 Q192.278 1538.71 194.084 1542.27 Q195.912 1545.82 199.523 1545.82 Q203.158 1545.82 204.963 1542.27 Q206.792 1538.71 206.792 1531.6 Q206.792 1524.47 204.963 1520.93 Q203.158 1517.37 199.523 1517.37 M199.523 1513.66 Q205.334 1513.66 208.389 1518.27 Q211.468 1522.85 211.468 1531.6 Q211.468 1540.33 208.389 1544.94 Q205.334 1549.52 199.523 1549.52 Q193.713 1549.52 190.635 1544.94 Q187.579 1540.33 187.579 1531.6 Q187.579 1522.85 190.635 1518.27 Q193.713 1513.66 199.523 1513.66 Z\" fill=\"#000000\" fill-rule=\"evenodd\" fill-opacity=\"1\" /><path clip-path=\"url(#clip890)\" d=\"M685.86 1544.91 L702.18 1544.91 L702.18 1548.85 L680.235 1548.85 L680.235 1544.91 Q682.897 1542.16 687.481 1537.53 Q692.087 1532.88 693.268 1531.53 Q695.513 1529.01 696.393 1527.27 Q697.295 1525.51 697.295 1523.82 Q697.295 1521.07 695.351 1519.33 Q693.43 1517.6 690.328 1517.6 Q688.129 1517.6 685.675 1518.36 Q683.245 1519.13 680.467 1520.68 L680.467 1515.95 Q683.291 1514.82 685.745 1514.24 Q688.198 1513.66 690.235 1513.66 Q695.606 1513.66 698.8 1516.35 Q701.994 1519.03 701.994 1523.52 Q701.994 1525.65 701.184 1527.57 Q700.397 1529.47 698.291 1532.07 Q697.712 1532.74 694.61 1535.95 Q691.508 1539.15 685.86 1544.91 Z\" fill=\"#000000\" fill-rule=\"evenodd\" fill-opacity=\"1\" /><path clip-path=\"url(#clip890)\" d=\"M712.041 1514.29 L730.397 1514.29 L730.397 1518.22 L716.323 1518.22 L716.323 1526.7 Q717.342 1526.35 718.36 1526.19 Q719.379 1526 720.397 1526 Q726.184 1526 729.564 1529.17 Q732.943 1532.34 732.943 1537.76 Q732.943 1543.34 729.471 1546.44 Q725.999 1549.52 719.68 1549.52 Q717.504 1549.52 715.235 1549.15 Q712.99 1548.78 710.582 1548.04 L710.582 1543.34 Q712.666 1544.47 714.888 1545.03 Q717.11 1545.58 719.587 1545.58 Q723.592 1545.58 725.929 1543.48 Q728.267 1541.37 728.267 1537.76 Q728.267 1534.15 725.929 1532.04 Q723.592 1529.94 719.587 1529.94 Q717.712 1529.94 715.837 1530.35 Q713.985 1530.77 712.041 1531.65 L712.041 1514.29 Z\" fill=\"#000000\" fill-rule=\"evenodd\" fill-opacity=\"1\" /><path clip-path=\"url(#clip890)\" d=\"M752.156 1517.37 Q748.545 1517.37 746.716 1520.93 Q744.911 1524.47 744.911 1531.6 Q744.911 1538.71 746.716 1542.27 Q748.545 1545.82 752.156 1545.82 Q755.79 1545.82 757.596 1542.27 Q759.425 1538.71 759.425 1531.6 Q759.425 1524.47 757.596 1520.93 Q755.79 1517.37 752.156 1517.37 M752.156 1513.66 Q757.966 1513.66 761.022 1518.27 Q764.101 1522.85 764.101 1531.6 Q764.101 1540.33 761.022 1544.94 Q757.966 1549.52 752.156 1549.52 Q746.346 1549.52 743.267 1544.94 Q740.212 1540.33 740.212 1531.6 Q740.212 1522.85 743.267 1518.27 Q746.346 1513.66 752.156 1513.66 Z\" fill=\"#000000\" fill-rule=\"evenodd\" fill-opacity=\"1\" /><path clip-path=\"url(#clip890)\" d=\"M1204.43 1514.29 L1222.79 1514.29 L1222.79 1518.22 L1208.71 1518.22 L1208.71 1526.7 Q1209.73 1526.35 1210.75 1526.19 Q1211.77 1526 1212.79 1526 Q1218.57 1526 1221.95 1529.17 Q1225.33 1532.34 1225.33 1537.76 Q1225.33 1543.34 1221.86 1546.44 Q1218.39 1549.52 1212.07 1549.52 Q1209.89 1549.52 1207.63 1549.15 Q1205.38 1548.78 1202.97 1548.04 L1202.97 1543.34 Q1205.06 1544.47 1207.28 1545.03 Q1209.5 1545.58 1211.98 1545.58 Q1215.98 1545.58 1218.32 1543.48 Q1220.66 1541.37 1220.66 1537.76 Q1220.66 1534.15 1218.32 1532.04 Q1215.98 1529.94 1211.98 1529.94 Q1210.1 1529.94 1208.23 1530.35 Q1206.38 1530.77 1204.43 1531.65 L1204.43 1514.29 Z\" fill=\"#000000\" fill-rule=\"evenodd\" fill-opacity=\"1\" /><path clip-path=\"url(#clip890)\" d=\"M1244.55 1517.37 Q1240.94 1517.37 1239.11 1520.93 Q1237.3 1524.47 1237.3 1531.6 Q1237.3 1538.71 1239.11 1542.27 Q1240.94 1545.82 1244.55 1545.82 Q1248.18 1545.82 1249.99 1542.27 Q1251.81 1538.71 1251.81 1531.6 Q1251.81 1524.47 1249.99 1520.93 Q1248.18 1517.37 1244.55 1517.37 M1244.55 1513.66 Q1250.36 1513.66 1253.41 1518.27 Q1256.49 1522.85 1256.49 1531.6 Q1256.49 1540.33 1253.41 1544.94 Q1250.36 1549.52 1244.55 1549.52 Q1238.74 1549.52 1235.66 1544.94 Q1232.6 1540.33 1232.6 1531.6 Q1232.6 1522.85 1235.66 1518.27 Q1238.74 1513.66 1244.55 1513.66 Z\" fill=\"#000000\" fill-rule=\"evenodd\" fill-opacity=\"1\" /><path clip-path=\"url(#clip890)\" d=\"M1274.71 1517.37 Q1271.1 1517.37 1269.27 1520.93 Q1267.46 1524.47 1267.46 1531.6 Q1267.46 1538.71 1269.27 1542.27 Q1271.1 1545.82 1274.71 1545.82 Q1278.34 1545.82 1280.15 1542.27 Q1281.98 1538.71 1281.98 1531.6 Q1281.98 1524.47 1280.15 1520.93 Q1278.34 1517.37 1274.71 1517.37 M1274.71 1513.66 Q1280.52 1513.66 1283.57 1518.27 Q1286.65 1522.85 1286.65 1531.6 Q1286.65 1540.33 1283.57 1544.94 Q1280.52 1549.52 1274.71 1549.52 Q1268.9 1549.52 1265.82 1544.94 Q1262.76 1540.33 1262.76 1531.6 Q1262.76 1522.85 1265.82 1518.27 Q1268.9 1513.66 1274.71 1513.66 Z\" fill=\"#000000\" fill-rule=\"evenodd\" fill-opacity=\"1\" /><path clip-path=\"url(#clip890)\" d=\"M1725.73 1514.29 L1747.95 1514.29 L1747.95 1516.28 L1735.41 1548.85 L1730.52 1548.85 L1742.33 1518.22 L1725.73 1518.22 L1725.73 1514.29 Z\" fill=\"#000000\" fill-rule=\"evenodd\" fill-opacity=\"1\" /><path clip-path=\"url(#clip890)\" d=\"M1757.12 1514.29 L1775.48 1514.29 L1775.48 1518.22 L1761.4 1518.22 L1761.4 1526.7 Q1762.42 1526.35 1763.44 1526.19 Q1764.46 1526 1765.48 1526 Q1771.26 1526 1774.64 1529.17 Q1778.02 1532.34 1778.02 1537.76 Q1778.02 1543.34 1774.55 1546.44 Q1771.08 1549.52 1764.76 1549.52 Q1762.58 1549.52 1760.32 1549.15 Q1758.07 1548.78 1755.66 1548.04 L1755.66 1543.34 Q1757.75 1544.47 1759.97 1545.03 Q1762.19 1545.58 1764.67 1545.58 Q1768.67 1545.58 1771.01 1543.48 Q1773.35 1541.37 1773.35 1537.76 Q1773.35 1534.15 1771.01 1532.04 Q1768.67 1529.94 1764.67 1529.94 Q1762.79 1529.94 1760.92 1530.35 Q1759.07 1530.77 1757.12 1531.65 L1757.12 1514.29 Z\" fill=\"#000000\" fill-rule=\"evenodd\" fill-opacity=\"1\" /><path clip-path=\"url(#clip890)\" d=\"M1797.24 1517.37 Q1793.63 1517.37 1791.8 1520.93 Q1789.99 1524.47 1789.99 1531.6 Q1789.99 1538.71 1791.8 1542.27 Q1793.63 1545.82 1797.24 1545.82 Q1800.87 1545.82 1802.68 1542.27 Q1804.51 1538.71 1804.51 1531.6 Q1804.51 1524.47 1802.68 1520.93 Q1800.87 1517.37 1797.24 1517.37 M1797.24 1513.66 Q1803.05 1513.66 1806.1 1518.27 Q1809.18 1522.85 1809.18 1531.6 Q1809.18 1540.33 1806.1 1544.94 Q1803.05 1549.52 1797.24 1549.52 Q1791.43 1549.52 1788.35 1544.94 Q1785.29 1540.33 1785.29 1531.6 Q1785.29 1522.85 1788.35 1518.27 Q1791.43 1513.66 1797.24 1513.66 Z\" fill=\"#000000\" fill-rule=\"evenodd\" fill-opacity=\"1\" /><path clip-path=\"url(#clip890)\" d=\"M2234.63 1544.91 L2242.27 1544.91 L2242.27 1518.55 L2233.96 1520.21 L2233.96 1515.95 L2242.22 1514.29 L2246.9 1514.29 L2246.9 1544.91 L2254.53 1544.91 L2254.53 1548.85 L2234.63 1548.85 L2234.63 1544.91 Z\" fill=\"#000000\" fill-rule=\"evenodd\" fill-opacity=\"1\" /><path clip-path=\"url(#clip890)\" d=\"M2273.98 1517.37 Q2270.37 1517.37 2268.54 1520.93 Q2266.73 1524.47 2266.73 1531.6 Q2266.73 1538.71 2268.54 1542.27 Q2270.37 1545.82 2273.98 1545.82 Q2277.61 1545.82 2279.42 1542.27 Q2281.25 1538.71 2281.25 1531.6 Q2281.25 1524.47 2279.42 1520.93 Q2277.61 1517.37 2273.98 1517.37 M2273.98 1513.66 Q2279.79 1513.66 2282.84 1518.27 Q2285.92 1522.85 2285.92 1531.6 Q2285.92 1540.33 2282.84 1544.94 Q2279.79 1549.52 2273.98 1549.52 Q2268.17 1549.52 2265.09 1544.94 Q2262.03 1540.33 2262.03 1531.6 Q2262.03 1522.85 2265.09 1518.27 Q2268.17 1513.66 2273.98 1513.66 Z\" fill=\"#000000\" fill-rule=\"evenodd\" fill-opacity=\"1\" /><path clip-path=\"url(#clip890)\" d=\"M2304.14 1517.37 Q2300.53 1517.37 2298.7 1520.93 Q2296.9 1524.47 2296.9 1531.6 Q2296.9 1538.71 2298.7 1542.27 Q2300.53 1545.82 2304.14 1545.82 Q2307.77 1545.82 2309.58 1542.27 Q2311.41 1538.71 2311.41 1531.6 Q2311.41 1524.47 2309.58 1520.93 Q2307.77 1517.37 2304.14 1517.37 M2304.14 1513.66 Q2309.95 1513.66 2313.01 1518.27 Q2316.08 1522.85 2316.08 1531.6 Q2316.08 1540.33 2313.01 1544.94 Q2309.95 1549.52 2304.14 1549.52 Q2298.33 1549.52 2295.25 1544.94 Q2292.2 1540.33 2292.2 1531.6 Q2292.2 1522.85 2295.25 1518.27 Q2298.33 1513.66 2304.14 1513.66 Z\" fill=\"#000000\" fill-rule=\"evenodd\" fill-opacity=\"1\" /><path clip-path=\"url(#clip890)\" d=\"M2334.3 1517.37 Q2330.69 1517.37 2328.86 1520.93 Q2327.06 1524.47 2327.06 1531.6 Q2327.06 1538.71 2328.86 1542.27 Q2330.69 1545.82 2334.3 1545.82 Q2337.94 1545.82 2339.74 1542.27 Q2341.57 1538.71 2341.57 1531.6 Q2341.57 1524.47 2339.74 1520.93 Q2337.94 1517.37 2334.3 1517.37 M2334.3 1513.66 Q2340.11 1513.66 2343.17 1518.27 Q2346.25 1522.85 2346.25 1531.6 Q2346.25 1540.33 2343.17 1544.94 Q2340.11 1549.52 2334.3 1549.52 Q2328.49 1549.52 2325.41 1544.94 Q2322.36 1540.33 2322.36 1531.6 Q2322.36 1522.85 2325.41 1518.27 Q2328.49 1513.66 2334.3 1513.66 Z\" fill=\"#000000\" fill-rule=\"evenodd\" fill-opacity=\"1\" /><polyline clip-path=\"url(#clip892)\" style=\"stroke:#000000; stroke-linecap:butt; stroke-linejoin:round; stroke-width:2; stroke-opacity:0.1; fill:none\" points=\"\n  138.959,1366.1 2352.76,1366.1 \n  \"/>\n<polyline clip-path=\"url(#clip892)\" style=\"stroke:#000000; stroke-linecap:butt; stroke-linejoin:round; stroke-width:2; stroke-opacity:0.1; fill:none\" points=\"\n  138.959,1073.33 2352.76,1073.33 \n  \"/>\n<polyline clip-path=\"url(#clip892)\" style=\"stroke:#000000; stroke-linecap:butt; stroke-linejoin:round; stroke-width:2; stroke-opacity:0.1; fill:none\" points=\"\n  138.959,780.563 2352.76,780.563 \n  \"/>\n<polyline clip-path=\"url(#clip892)\" style=\"stroke:#000000; stroke-linecap:butt; stroke-linejoin:round; stroke-width:2; stroke-opacity:0.1; fill:none\" points=\"\n  138.959,487.793 2352.76,487.793 \n  \"/>\n<polyline clip-path=\"url(#clip892)\" style=\"stroke:#000000; stroke-linecap:butt; stroke-linejoin:round; stroke-width:2; stroke-opacity:0.1; fill:none\" points=\"\n  138.959,195.024 2352.76,195.024 \n  \"/>\n<polyline clip-path=\"url(#clip890)\" style=\"stroke:#000000; stroke-linecap:butt; stroke-linejoin:round; stroke-width:4; stroke-opacity:1; fill:none\" points=\"\n  138.959,1486.45 138.959,123.472 \n  \"/>\n<polyline clip-path=\"url(#clip890)\" style=\"stroke:#000000; stroke-linecap:butt; stroke-linejoin:round; stroke-width:4; stroke-opacity:1; fill:none\" points=\"\n  138.959,1366.1 157.857,1366.1 \n  \"/>\n<polyline clip-path=\"url(#clip890)\" style=\"stroke:#000000; stroke-linecap:butt; stroke-linejoin:round; stroke-width:4; stroke-opacity:1; fill:none\" points=\"\n  138.959,1073.33 157.857,1073.33 \n  \"/>\n<polyline clip-path=\"url(#clip890)\" style=\"stroke:#000000; stroke-linecap:butt; stroke-linejoin:round; stroke-width:4; stroke-opacity:1; fill:none\" points=\"\n  138.959,780.563 157.857,780.563 \n  \"/>\n<polyline clip-path=\"url(#clip890)\" style=\"stroke:#000000; stroke-linecap:butt; stroke-linejoin:round; stroke-width:4; stroke-opacity:1; fill:none\" points=\"\n  138.959,487.793 157.857,487.793 \n  \"/>\n<polyline clip-path=\"url(#clip890)\" style=\"stroke:#000000; stroke-linecap:butt; stroke-linejoin:round; stroke-width:4; stroke-opacity:1; fill:none\" points=\"\n  138.959,195.024 157.857,195.024 \n  \"/>\n<path clip-path=\"url(#clip890)\" d=\"M86.6401 1379.45 L102.959 1379.45 L102.959 1383.38 L81.0151 1383.38 L81.0151 1379.45 Q83.6771 1376.69 88.2604 1372.06 Q92.8669 1367.41 94.0475 1366.07 Q96.2928 1363.54 97.1724 1361.81 Q98.0752 1360.05 98.0752 1358.36 Q98.0752 1355.6 96.1308 1353.87 Q94.2095 1352.13 91.1077 1352.13 Q88.9086 1352.13 86.4549 1352.9 Q84.0244 1353.66 81.2466 1355.21 L81.2466 1350.49 Q84.0707 1349.35 86.5243 1348.78 Q88.978 1348.2 91.0151 1348.2 Q96.3854 1348.2 99.5798 1350.88 Q102.774 1353.57 102.774 1358.06 Q102.774 1360.19 101.964 1362.11 Q101.177 1364.01 99.0706 1366.6 Q98.4919 1367.27 95.39 1370.49 Q92.2882 1373.68 86.6401 1379.45 Z\" fill=\"#000000\" fill-rule=\"evenodd\" fill-opacity=\"1\" /><path clip-path=\"url(#clip890)\" d=\"M93.3762 1060.13 L81.5707 1078.58 L93.3762 1078.58 L93.3762 1060.13 M92.1493 1056.05 L98.0289 1056.05 L98.0289 1078.58 L102.959 1078.58 L102.959 1082.46 L98.0289 1082.46 L98.0289 1090.61 L93.3762 1090.61 L93.3762 1082.46 L77.7744 1082.46 L77.7744 1077.95 L92.1493 1056.05 Z\" fill=\"#000000\" fill-rule=\"evenodd\" fill-opacity=\"1\" /><path clip-path=\"url(#clip890)\" d=\"M91.4317 778.699 Q88.2836 778.699 86.4318 780.852 Q84.6031 783.005 84.6031 786.755 Q84.6031 790.482 86.4318 792.658 Q88.2836 794.81 91.4317 794.81 Q94.5799 794.81 96.4085 792.658 Q98.2604 790.482 98.2604 786.755 Q98.2604 783.005 96.4085 780.852 Q94.5799 778.699 91.4317 778.699 M100.714 764.047 L100.714 768.306 Q98.9548 767.472 97.1493 767.033 Q95.3669 766.593 93.6076 766.593 Q88.978 766.593 86.5243 769.718 Q84.0938 772.843 83.7466 779.162 Q85.1123 777.148 87.1725 776.084 Q89.2327 774.996 91.7095 774.996 Q96.9178 774.996 99.927 778.167 Q102.959 781.315 102.959 786.755 Q102.959 792.079 99.8113 795.296 Q96.6632 798.514 91.4317 798.514 Q85.4364 798.514 82.2651 793.931 Q79.0938 789.324 79.0938 780.597 Q79.0938 772.403 82.9827 767.542 Q86.8716 762.658 93.4225 762.658 Q95.1817 762.658 96.9641 763.005 Q98.7696 763.352 100.714 764.047 Z\" fill=\"#000000\" fill-rule=\"evenodd\" fill-opacity=\"1\" /><path clip-path=\"url(#clip890)\" d=\"M91.1077 488.661 Q87.7743 488.661 85.8531 490.444 Q83.9549 492.226 83.9549 495.351 Q83.9549 498.476 85.8531 500.259 Q87.7743 502.041 91.1077 502.041 Q94.441 502.041 96.3623 500.259 Q98.2835 498.453 98.2835 495.351 Q98.2835 492.226 96.3623 490.444 Q94.4641 488.661 91.1077 488.661 M86.4318 486.671 Q83.4225 485.93 81.7327 483.87 Q80.066 481.81 80.066 478.847 Q80.066 474.703 83.0058 472.296 Q85.9688 469.888 91.1077 469.888 Q96.2697 469.888 99.2095 472.296 Q102.149 474.703 102.149 478.847 Q102.149 481.81 100.459 483.87 Q98.7928 485.93 95.8067 486.671 Q99.1863 487.458 101.061 489.749 Q102.959 492.041 102.959 495.351 Q102.959 500.374 99.8808 503.059 Q96.8252 505.745 91.1077 505.745 Q85.3901 505.745 82.3114 503.059 Q79.2559 500.374 79.2559 495.351 Q79.2559 492.041 81.154 489.749 Q83.0521 487.458 86.4318 486.671 M84.7188 479.286 Q84.7188 481.972 86.3855 483.476 Q88.0753 484.981 91.1077 484.981 Q94.1169 484.981 95.8067 483.476 Q97.5197 481.972 97.5197 479.286 Q97.5197 476.601 95.8067 475.097 Q94.1169 473.592 91.1077 473.592 Q88.0753 473.592 86.3855 475.097 Q84.7188 476.601 84.7188 479.286 Z\" fill=\"#000000\" fill-rule=\"evenodd\" fill-opacity=\"1\" /><path clip-path=\"url(#clip890)\" d=\"M51.6634 208.369 L59.3023 208.369 L59.3023 182.003 L50.9921 183.67 L50.9921 179.411 L59.256 177.744 L63.9319 177.744 L63.9319 208.369 L71.5707 208.369 L71.5707 212.304 L51.6634 212.304 L51.6634 208.369 Z\" fill=\"#000000\" fill-rule=\"evenodd\" fill-opacity=\"1\" /><path clip-path=\"url(#clip890)\" d=\"M91.0151 180.823 Q87.404 180.823 85.5753 184.388 Q83.7697 187.929 83.7697 195.059 Q83.7697 202.165 85.5753 205.73 Q87.404 209.272 91.0151 209.272 Q94.6493 209.272 96.4548 205.73 Q98.2835 202.165 98.2835 195.059 Q98.2835 187.929 96.4548 184.388 Q94.6493 180.823 91.0151 180.823 M91.0151 177.119 Q96.8252 177.119 99.8808 181.725 Q102.959 186.309 102.959 195.059 Q102.959 203.786 99.8808 208.392 Q96.8252 212.975 91.0151 212.975 Q85.2049 212.975 82.1262 208.392 Q79.0707 203.786 79.0707 195.059 Q79.0707 186.309 82.1262 181.725 Q85.2049 177.119 91.0151 177.119 Z\" fill=\"#000000\" fill-rule=\"evenodd\" fill-opacity=\"1\" /><path clip-path=\"url(#clip890)\" d=\"M750.371 63.9476 L750.371 47.7034 L737.003 47.7034 L737.003 40.9789 L758.473 40.9789 L758.473 66.9452 Q753.734 70.3075 748.022 72.0494 Q742.31 73.7508 735.829 73.7508 Q721.65 73.7508 713.63 65.4869 Q705.649 57.1826 705.649 42.3968 Q705.649 27.5705 713.63 19.3066 Q721.65 11.0023 735.829 11.0023 Q741.743 11.0023 747.05 12.4606 Q752.397 13.9189 756.893 16.7545 L756.893 25.464 Q752.356 21.6156 747.252 19.6712 Q742.148 17.7268 736.517 17.7268 Q725.418 17.7268 719.828 23.9246 Q714.278 30.1225 714.278 42.3968 Q714.278 54.6305 719.828 60.8284 Q725.418 67.0263 736.517 67.0263 Q740.852 67.0263 744.254 66.2971 Q747.657 65.5274 750.371 63.9476 Z\" fill=\"#000000\" fill-rule=\"evenodd\" fill-opacity=\"1\" /><path clip-path=\"url(#clip890)\" d=\"M773.421 12.096 L811.662 12.096 L811.662 18.9825 L781.604 18.9825 L781.604 36.8875 L810.406 36.8875 L810.406 43.7741 L781.604 43.7741 L781.604 65.6895 L812.391 65.6895 L812.391 72.576 L773.421 72.576 L773.421 12.096 Z\" fill=\"#000000\" fill-rule=\"evenodd\" fill-opacity=\"1\" /><path clip-path=\"url(#clip890)\" d=\"M859.098 65.7705 L859.098 89.8329 L851.603 89.8329 L851.603 27.2059 L859.098 27.2059 L859.098 34.0924 Q861.447 30.0415 865.012 28.0971 Q868.617 26.1121 873.6 26.1121 Q881.864 26.1121 887.008 32.6746 Q892.193 39.2371 892.193 49.9314 Q892.193 60.6258 887.008 67.1883 Q881.864 73.7508 873.6 73.7508 Q868.617 73.7508 865.012 71.8063 Q861.447 69.8214 859.098 65.7705 M884.456 49.9314 Q884.456 41.7081 881.053 37.0496 Q877.691 32.3505 871.777 32.3505 Q865.863 32.3505 862.46 37.0496 Q859.098 41.7081 859.098 49.9314 Q859.098 58.1548 862.46 62.8538 Q865.863 67.5124 871.777 67.5124 Q877.691 67.5124 881.053 62.8538 Q884.456 58.1548 884.456 49.9314 Z\" fill=\"#000000\" fill-rule=\"evenodd\" fill-opacity=\"1\" /><path clip-path=\"url(#clip890)\" d=\"M930.839 34.1734 Q929.583 33.4443 928.084 33.1202 Q926.626 32.7556 924.844 32.7556 Q918.524 32.7556 915.122 36.8875 Q911.759 40.9789 911.759 48.6757 L911.759 72.576 L904.265 72.576 L904.265 27.2059 L911.759 27.2059 L911.759 34.2544 Q914.109 30.1225 917.876 28.1376 Q921.644 26.1121 927.031 26.1121 Q927.801 26.1121 928.733 26.2337 Q929.664 26.3147 930.799 26.5172 L930.839 34.1734 Z\" fill=\"#000000\" fill-rule=\"evenodd\" fill-opacity=\"1\" /><path clip-path=\"url(#clip890)\" d=\"M938.657 27.2059 L946.111 27.2059 L946.111 72.576 L938.657 72.576 L938.657 27.2059 M938.657 9.54393 L946.111 9.54393 L946.111 18.9825 L938.657 18.9825 L938.657 9.54393 Z\" fill=\"#000000\" fill-rule=\"evenodd\" fill-opacity=\"1\" /><path clip-path=\"url(#clip890)\" d=\"M994.357 28.9478 L994.357 35.9153 Q991.198 34.1734 987.997 33.3227 Q984.838 32.4315 981.597 32.4315 Q974.346 32.4315 970.335 37.0496 Q966.325 41.6271 966.325 49.9314 Q966.325 58.2358 970.335 62.8538 Q974.346 67.4314 981.597 67.4314 Q984.838 67.4314 987.997 66.5807 Q991.198 65.6895 994.357 63.9476 L994.357 70.8341 Q991.238 72.2924 987.876 73.0216 Q984.554 73.7508 980.787 73.7508 Q970.538 73.7508 964.502 67.3098 Q958.466 60.8689 958.466 49.9314 Q958.466 38.832 964.543 32.472 Q970.659 26.1121 981.273 26.1121 Q984.716 26.1121 987.997 26.8413 Q991.279 27.5299 994.357 28.9478 Z\" fill=\"#000000\" fill-rule=\"evenodd\" fill-opacity=\"1\" /><path clip-path=\"url(#clip890)\" d=\"M1046.13 48.0275 L1046.13 51.6733 L1011.86 51.6733 Q1012.34 59.3701 1016.48 63.421 Q1020.65 67.4314 1028.06 67.4314 Q1032.35 67.4314 1036.37 66.3781 Q1040.42 65.3249 1044.39 63.2184 L1044.39 70.267 Q1040.38 71.9684 1036.16 72.8596 Q1031.95 73.7508 1027.62 73.7508 Q1016.76 73.7508 1010.4 67.4314 Q1004.08 61.1119 1004.08 50.3365 Q1004.08 39.1965 1010.07 32.6746 Q1016.11 26.1121 1026.32 26.1121 Q1035.47 26.1121 1040.78 32.0264 Q1046.13 37.9003 1046.13 48.0275 M1038.67 45.84 Q1038.59 39.7232 1035.23 36.0774 Q1031.91 32.4315 1026.4 32.4315 Q1020.16 32.4315 1016.39 35.9558 Q1012.67 39.4801 1012.1 45.8805 L1038.67 45.84 Z\" fill=\"#000000\" fill-rule=\"evenodd\" fill-opacity=\"1\" /><path clip-path=\"url(#clip890)\" d=\"M1087.29 28.5427 L1087.29 35.5912 Q1084.13 33.9709 1080.72 33.1607 Q1077.32 32.3505 1073.67 32.3505 Q1068.12 32.3505 1065.33 34.0519 Q1062.57 35.7533 1062.57 39.156 Q1062.57 41.7486 1064.56 43.2475 Q1066.54 44.7058 1072.54 46.0426 L1075.09 46.6097 Q1083.03 48.3111 1086.35 51.4303 Q1089.72 54.509 1089.72 60.0587 Q1089.72 66.3781 1084.69 70.0644 Q1079.71 73.7508 1070.96 73.7508 Q1067.31 73.7508 1063.34 73.0216 Q1059.41 72.3329 1055.04 70.9151 L1055.04 63.2184 Q1059.17 65.3654 1063.18 66.4591 Q1067.19 67.5124 1071.12 67.5124 Q1076.39 67.5124 1079.22 65.73 Q1082.06 63.9071 1082.06 60.6258 Q1082.06 57.5877 1079.99 55.9673 Q1077.97 54.3469 1071.04 52.8481 L1068.45 52.2405 Q1061.52 50.7821 1058.44 47.7845 Q1055.36 44.7463 1055.36 39.4801 Q1055.36 33.0797 1059.9 29.5959 Q1064.44 26.1121 1072.78 26.1121 Q1076.91 26.1121 1080.56 26.7198 Q1084.21 27.3274 1087.29 28.5427 Z\" fill=\"#000000\" fill-rule=\"evenodd\" fill-opacity=\"1\" /><path clip-path=\"url(#clip890)\" d=\"M1123.62 27.2059 L1131.08 27.2059 L1140.39 62.6108 L1149.67 27.2059 L1158.46 27.2059 L1167.78 62.6108 L1177.05 27.2059 L1184.51 27.2059 L1172.64 72.576 L1163.85 72.576 L1154.08 35.3887 L1144.28 72.576 L1135.49 72.576 L1123.62 27.2059 Z\" fill=\"#000000\" fill-rule=\"evenodd\" fill-opacity=\"1\" /><path clip-path=\"url(#clip890)\" d=\"M1195.81 27.2059 L1203.26 27.2059 L1203.26 72.576 L1195.81 72.576 L1195.81 27.2059 M1195.81 9.54393 L1203.26 9.54393 L1203.26 18.9825 L1195.81 18.9825 L1195.81 9.54393 Z\" fill=\"#000000\" fill-rule=\"evenodd\" fill-opacity=\"1\" /><path clip-path=\"url(#clip890)\" d=\"M1226.23 14.324 L1226.23 27.2059 L1241.58 27.2059 L1241.58 32.9987 L1226.23 32.9987 L1226.23 57.6282 Q1226.23 63.1779 1227.73 64.7578 Q1229.27 66.3376 1233.93 66.3376 L1241.58 66.3376 L1241.58 72.576 L1233.93 72.576 Q1225.3 72.576 1222.02 69.3758 Q1218.74 66.1351 1218.74 57.6282 L1218.74 32.9987 L1213.27 32.9987 L1213.27 27.2059 L1218.74 27.2059 L1218.74 14.324 L1226.23 14.324 Z\" fill=\"#000000\" fill-rule=\"evenodd\" fill-opacity=\"1\" /><path clip-path=\"url(#clip890)\" d=\"M1289.1 45.1919 L1289.1 72.576 L1281.65 72.576 L1281.65 45.4349 Q1281.65 38.994 1279.14 35.7938 Q1276.62 32.5936 1271.6 32.5936 Q1265.57 32.5936 1262.08 36.4419 Q1258.6 40.2903 1258.6 46.9338 L1258.6 72.576 L1251.1 72.576 L1251.1 9.54393 L1258.6 9.54393 L1258.6 34.2544 Q1261.27 30.163 1264.88 28.1376 Q1268.52 26.1121 1273.26 26.1121 Q1281.08 26.1121 1285.09 30.9732 Q1289.1 35.7938 1289.1 45.1919 Z\" fill=\"#000000\" fill-rule=\"evenodd\" fill-opacity=\"1\" /><path clip-path=\"url(#clip890)\" d=\"M1356.18 39.9662 Q1362.06 41.222 1365.34 45.1919 Q1368.66 49.1618 1368.66 54.9951 Q1368.66 63.9476 1362.5 68.8492 Q1356.35 73.7508 1345 73.7508 Q1341.2 73.7508 1337.14 72.9811 Q1333.13 72.2519 1328.84 70.7531 L1328.84 62.8538 Q1332.24 64.8388 1336.29 65.8515 Q1340.35 66.8642 1344.76 66.8642 Q1352.46 66.8642 1356.47 63.826 Q1360.52 60.7879 1360.52 54.9951 Q1360.52 49.6479 1356.75 46.6502 Q1353.02 43.612 1346.34 43.612 L1339.29 43.612 L1339.29 36.8875 L1346.66 36.8875 Q1352.7 36.8875 1355.9 34.4975 Q1359.1 32.067 1359.1 27.5299 Q1359.1 22.8714 1355.78 20.4004 Q1352.5 17.8888 1346.34 17.8888 Q1342.98 17.8888 1339.13 18.618 Q1335.28 19.3471 1330.66 20.8865 L1330.66 13.5948 Q1335.32 12.2985 1339.37 11.6504 Q1343.46 11.0023 1347.07 11.0023 Q1356.39 11.0023 1361.81 15.2557 Q1367.24 19.4686 1367.24 26.6793 Q1367.24 31.7024 1364.37 35.1862 Q1361.49 38.6294 1356.18 39.9662 Z\" fill=\"#000000\" fill-rule=\"evenodd\" fill-opacity=\"1\" /><path clip-path=\"url(#clip890)\" d=\"M1401.68 17.4837 Q1395.36 17.4837 1392.16 23.7221 Q1389 29.92 1389 42.3968 Q1389 54.833 1392.16 61.0714 Q1395.36 67.2693 1401.68 67.2693 Q1408.04 67.2693 1411.2 61.0714 Q1414.4 54.833 1414.4 42.3968 Q1414.4 29.92 1411.2 23.7221 Q1408.04 17.4837 1401.68 17.4837 M1401.68 11.0023 Q1411.84 11.0023 1417.19 19.0636 Q1422.58 27.0843 1422.58 42.3968 Q1422.58 57.6687 1417.19 65.73 Q1411.84 73.7508 1401.68 73.7508 Q1391.51 73.7508 1386.12 65.73 Q1380.77 57.6687 1380.77 42.3968 Q1380.77 27.0843 1386.12 19.0636 Q1391.51 11.0023 1401.68 11.0023 Z\" fill=\"#000000\" fill-rule=\"evenodd\" fill-opacity=\"1\" /><path clip-path=\"url(#clip890)\" d=\"M1454.46 17.4837 Q1448.14 17.4837 1444.94 23.7221 Q1441.78 29.92 1441.78 42.3968 Q1441.78 54.833 1444.94 61.0714 Q1448.14 67.2693 1454.46 67.2693 Q1460.82 67.2693 1463.98 61.0714 Q1467.18 54.833 1467.18 42.3968 Q1467.18 29.92 1463.98 23.7221 Q1460.82 17.4837 1454.46 17.4837 M1454.46 11.0023 Q1464.63 11.0023 1469.97 19.0636 Q1475.36 27.0843 1475.36 42.3968 Q1475.36 57.6687 1469.97 65.73 Q1464.63 73.7508 1454.46 73.7508 Q1444.29 73.7508 1438.9 65.73 Q1433.56 57.6687 1433.56 42.3968 Q1433.56 27.0843 1438.9 19.0636 Q1444.29 11.0023 1454.46 11.0023 Z\" fill=\"#000000\" fill-rule=\"evenodd\" fill-opacity=\"1\" /><path clip-path=\"url(#clip890)\" d=\"M1535.68 49.7694 Q1526.65 49.7694 1523.16 51.8354 Q1519.68 53.9013 1519.68 58.8839 Q1519.68 62.8538 1522.27 65.2034 Q1524.9 67.5124 1529.4 67.5124 Q1535.6 67.5124 1539.33 63.1374 Q1543.09 58.7219 1543.09 51.4303 L1543.09 49.7694 L1535.68 49.7694 M1550.55 46.6907 L1550.55 72.576 L1543.09 72.576 L1543.09 65.6895 Q1540.54 69.8214 1536.73 71.8063 Q1532.93 73.7508 1527.42 73.7508 Q1520.45 73.7508 1516.32 69.8619 Q1512.22 65.9325 1512.22 59.3701 Q1512.22 51.7138 1517.33 47.825 Q1522.47 43.9361 1532.64 43.9361 L1543.09 43.9361 L1543.09 43.2069 Q1543.09 38.0623 1539.69 35.2672 Q1536.33 32.4315 1530.21 32.4315 Q1526.32 32.4315 1522.64 33.3632 Q1518.95 34.295 1515.55 36.1584 L1515.55 29.2718 Q1519.64 27.692 1523.49 26.9223 Q1527.33 26.1121 1530.98 26.1121 Q1540.82 26.1121 1545.69 31.2163 Q1550.55 36.3204 1550.55 46.6907 Z\" fill=\"#000000\" fill-rule=\"evenodd\" fill-opacity=\"1\" /><path clip-path=\"url(#clip890)\" d=\"M1595.75 49.3643 Q1595.75 41.2625 1592.39 36.8065 Q1589.07 32.3505 1583.03 32.3505 Q1577.04 32.3505 1573.68 36.8065 Q1570.36 41.2625 1570.36 49.3643 Q1570.36 57.4256 1573.68 61.8816 Q1577.04 66.3376 1583.03 66.3376 Q1589.07 66.3376 1592.39 61.8816 Q1595.75 57.4256 1595.75 49.3643 M1603.21 66.9452 Q1603.21 78.5308 1598.06 84.1616 Q1592.92 89.8329 1582.31 89.8329 Q1578.38 89.8329 1574.89 89.2252 Q1571.41 88.6581 1568.13 87.4428 L1568.13 80.1917 Q1571.41 81.9741 1574.61 82.8248 Q1577.81 83.6755 1581.13 83.6755 Q1588.46 83.6755 1592.11 79.8271 Q1595.75 76.0193 1595.75 68.282 L1595.75 64.5957 Q1593.45 68.6061 1589.84 70.5911 Q1586.23 72.576 1581.21 72.576 Q1572.87 72.576 1567.76 66.2161 Q1562.66 59.8562 1562.66 49.3643 Q1562.66 38.832 1567.76 32.472 Q1572.87 26.1121 1581.21 26.1121 Q1586.23 26.1121 1589.84 28.0971 Q1593.45 30.082 1595.75 34.0924 L1595.75 27.2059 L1603.21 27.2059 L1603.21 66.9452 Z\" fill=\"#000000\" fill-rule=\"evenodd\" fill-opacity=\"1\" /><path clip-path=\"url(#clip890)\" d=\"M1657.37 48.0275 L1657.37 51.6733 L1623.1 51.6733 Q1623.58 59.3701 1627.72 63.421 Q1631.89 67.4314 1639.3 67.4314 Q1643.6 67.4314 1647.61 66.3781 Q1651.66 65.3249 1655.63 63.2184 L1655.63 70.267 Q1651.62 71.9684 1647.4 72.8596 Q1643.19 73.7508 1638.86 73.7508 Q1628 73.7508 1621.64 67.4314 Q1615.32 61.1119 1615.32 50.3365 Q1615.32 39.1965 1621.32 32.6746 Q1627.35 26.1121 1637.56 26.1121 Q1646.71 26.1121 1652.02 32.0264 Q1657.37 37.9003 1657.37 48.0275 M1649.92 45.84 Q1649.83 39.7232 1646.47 36.0774 Q1643.15 32.4315 1637.64 32.4315 Q1631.4 32.4315 1627.64 35.9558 Q1623.91 39.4801 1623.34 45.8805 L1649.92 45.84 Z\" fill=\"#000000\" fill-rule=\"evenodd\" fill-opacity=\"1\" /><path clip-path=\"url(#clip890)\" d=\"M1707.32 45.1919 L1707.32 72.576 L1699.86 72.576 L1699.86 45.4349 Q1699.86 38.994 1697.35 35.7938 Q1694.84 32.5936 1689.82 32.5936 Q1683.78 32.5936 1680.3 36.4419 Q1676.81 40.2903 1676.81 46.9338 L1676.81 72.576 L1669.32 72.576 L1669.32 27.2059 L1676.81 27.2059 L1676.81 34.2544 Q1679.49 30.163 1683.09 28.1376 Q1686.74 26.1121 1691.48 26.1121 Q1699.3 26.1121 1703.31 30.9732 Q1707.32 35.7938 1707.32 45.1919 Z\" fill=\"#000000\" fill-rule=\"evenodd\" fill-opacity=\"1\" /><path clip-path=\"url(#clip890)\" d=\"M1729.56 14.324 L1729.56 27.2059 L1744.91 27.2059 L1744.91 32.9987 L1729.56 32.9987 L1729.56 57.6282 Q1729.56 63.1779 1731.05 64.7578 Q1732.59 66.3376 1737.25 66.3376 L1744.91 66.3376 L1744.91 72.576 L1737.25 72.576 Q1728.62 72.576 1725.34 69.3758 Q1722.06 66.1351 1722.06 57.6282 L1722.06 32.9987 L1716.59 32.9987 L1716.59 27.2059 L1722.06 27.2059 L1722.06 14.324 L1729.56 14.324 Z\" fill=\"#000000\" fill-rule=\"evenodd\" fill-opacity=\"1\" /><path clip-path=\"url(#clip890)\" d=\"M1783.64 28.5427 L1783.64 35.5912 Q1780.48 33.9709 1777.07 33.1607 Q1773.67 32.3505 1770.02 32.3505 Q1764.47 32.3505 1761.68 34.0519 Q1758.92 35.7533 1758.92 39.156 Q1758.92 41.7486 1760.91 43.2475 Q1762.89 44.7058 1768.89 46.0426 L1771.44 46.6097 Q1779.38 48.3111 1782.7 51.4303 Q1786.07 54.509 1786.07 60.0587 Q1786.07 66.3781 1781.04 70.0644 Q1776.06 73.7508 1767.31 73.7508 Q1763.66 73.7508 1759.69 73.0216 Q1755.77 72.3329 1751.39 70.9151 L1751.39 63.2184 Q1755.52 65.3654 1759.53 66.4591 Q1763.54 67.5124 1767.47 67.5124 Q1772.74 67.5124 1775.57 65.73 Q1778.41 63.9071 1778.41 60.6258 Q1778.41 57.5877 1776.34 55.9673 Q1774.32 54.3469 1767.39 52.8481 L1764.8 52.2405 Q1757.87 50.7821 1754.79 47.7845 Q1751.71 44.7463 1751.71 39.4801 Q1751.71 33.0797 1756.25 29.5959 Q1760.79 26.1121 1769.13 26.1121 Q1773.27 26.1121 1776.91 26.7198 Q1780.56 27.3274 1783.64 28.5427 Z\" fill=\"#000000\" fill-rule=\"evenodd\" fill-opacity=\"1\" /><polyline clip-path=\"url(#clip892)\" style=\"stroke:#009af9; stroke-linecap:butt; stroke-linejoin:round; stroke-width:4; stroke-opacity:1; fill:none\" points=\"\n  201.614,1073.33 203.705,1104.69 205.795,1134.95 207.886,1163.87 209.976,1191.39 212.067,1217.47 214.158,1242.04 216.248,1265.06 218.339,1286.5 220.429,1306.33 \n  222.52,1324.54 224.61,1341.11 226.701,1356.09 228.792,1369.49 230.882,1381.39 232.973,1391.85 235.063,1400.96 237.154,1408.83 239.244,1415.57 241.335,1421.29 \n  243.426,1426.12 245.516,1430.15 247.607,1433.51 249.697,1436.29 251.788,1438.58 253.879,1440.45 255.969,1441.97 258.06,1443.21 260.15,1444.21 262.241,1445.02 \n  264.331,1445.67 266.422,1446.18 268.513,1446.59 270.603,1446.92 272.694,1447.17 274.784,1447.37 276.875,1447.52 278.965,1447.63 281.056,1447.72 283.147,1447.78 \n  285.237,1447.82 287.328,1447.85 289.418,1447.87 291.509,1447.87 293.599,1447.87 295.69,1447.86 297.781,1447.85 299.871,1447.84 301.962,1447.82 304.052,1447.8 \n  306.143,1447.78 308.234,1447.75 310.324,1447.73 312.415,1447.71 314.505,1447.68 316.596,1447.66 318.686,1447.64 320.777,1447.61 322.868,1447.59 324.958,1447.57 \n  327.049,1447.55 329.139,1447.52 331.23,1447.5 333.32,1447.48 335.411,1447.46 337.502,1447.44 339.592,1447.42 341.683,1447.4 343.773,1447.39 345.864,1447.37 \n  347.955,1447.35 350.045,1447.34 352.136,1447.32 354.226,1447.3 356.317,1447.29 358.407,1447.27 360.498,1447.26 362.589,1447.25 364.679,1447.23 366.77,1447.22 \n  368.86,1447.21 370.951,1447.19 373.041,1447.18 375.132,1447.17 377.223,1447.16 379.313,1447.15 381.404,1447.14 383.494,1447.13 385.585,1447.12 387.675,1447.11 \n  389.766,1447.1 391.857,1447.09 393.947,1447.08 396.038,1447.07 398.128,1447.06 400.219,1447.05 402.31,1447.05 404.4,1447.04 406.491,1447.03 408.581,1447.02 \n  410.672,1447.02 412.762,1447.01 414.853,1447 416.944,1447 419.034,1446.99 421.125,1446.98 423.215,1446.98 425.306,1446.97 427.396,1446.97 429.487,1446.96 \n  431.578,1446.96 433.668,1446.95 435.759,1446.95 437.849,1446.94 439.94,1446.94 442.031,1446.93 444.121,1446.93 446.212,1446.92 448.302,1446.92 450.393,1446.91 \n  452.483,1446.91 454.574,1446.91 456.665,1446.9 458.755,1446.9 460.846,1446.89 462.936,1446.89 465.027,1446.89 467.117,1446.88 469.208,1446.88 471.299,1446.88 \n  473.389,1446.88 475.48,1446.87 477.57,1446.87 479.661,1446.87 481.751,1446.86 483.842,1446.86 485.933,1446.86 488.023,1446.86 490.114,1446.85 492.204,1446.85 \n  494.295,1446.85 496.386,1446.85 498.476,1446.84 500.567,1446.84 502.657,1446.84 504.748,1446.84 506.838,1446.84 508.929,1446.83 511.02,1446.83 513.11,1446.83 \n  515.201,1446.83 517.291,1446.83 519.382,1446.83 521.472,1446.82 523.563,1446.82 525.654,1446.82 527.744,1446.82 529.835,1446.82 531.925,1446.82 534.016,1446.82 \n  536.107,1446.81 538.197,1446.81 540.288,1446.81 542.378,1446.81 544.469,1446.81 546.559,1446.81 548.65,1446.81 550.741,1446.81 552.831,1446.81 554.922,1446.8 \n  557.012,1446.8 559.103,1446.8 561.193,1446.8 563.284,1446.8 565.375,1446.8 567.465,1446.8 569.556,1446.8 571.646,1446.8 573.737,1446.8 575.827,1446.8 \n  577.918,1446.79 580.009,1446.79 582.099,1446.79 584.19,1446.79 586.28,1446.79 588.371,1446.79 590.462,1446.79 592.552,1446.79 594.643,1446.79 596.733,1446.79 \n  598.824,1446.79 600.914,1446.79 603.005,1446.79 605.096,1446.79 607.186,1446.79 609.277,1446.79 611.367,1446.79 613.458,1446.78 615.548,1446.78 617.639,1446.78 \n  619.73,1446.78 621.82,1446.78 623.911,1446.78 626.001,1446.78 628.092,1446.78 630.183,1446.78 632.273,1446.78 634.364,1446.78 636.454,1446.78 638.545,1446.78 \n  640.635,1446.78 642.726,1446.78 644.817,1446.78 646.907,1446.78 648.998,1446.78 651.088,1446.78 653.179,1446.78 655.269,1446.78 657.36,1446.78 659.451,1446.78 \n  661.541,1446.78 663.632,1446.78 665.722,1446.78 667.813,1446.78 669.903,1446.78 671.994,1446.78 674.085,1446.78 676.175,1446.78 678.266,1446.78 680.356,1446.77 \n  682.447,1446.77 684.538,1446.77 686.628,1446.77 688.719,1446.77 690.809,1446.77 692.9,1446.77 694.99,1446.77 697.081,1446.77 699.172,1446.77 701.262,1446.77 \n  703.353,1446.77 705.443,1446.77 707.534,1446.77 709.624,1446.77 711.715,1446.77 713.806,1446.77 715.896,1446.77 717.987,1446.77 720.077,1446.77 722.168,1446.77 \n  724.259,1446.77 726.349,1446.77 728.44,1446.77 730.53,1446.77 732.621,1446.77 734.711,1446.77 736.802,1446.77 738.893,1446.77 740.983,1446.77 743.074,1446.77 \n  745.164,1446.77 747.255,1446.77 749.345,1446.77 751.436,1446.77 753.527,1446.77 755.617,1446.77 757.708,1446.77 759.798,1446.77 761.889,1446.77 763.979,1446.77 \n  766.07,1446.77 768.161,1446.77 770.251,1446.77 772.342,1446.77 774.432,1446.77 776.523,1446.77 778.614,1446.77 780.704,1446.77 782.795,1446.77 784.885,1446.77 \n  786.976,1446.77 789.066,1446.77 791.157,1446.77 793.248,1446.77 795.338,1446.77 797.429,1446.77 799.519,1446.77 801.61,1446.77 803.7,1446.77 805.791,1446.77 \n  807.882,1446.77 809.972,1446.77 812.063,1446.77 814.153,1446.77 816.244,1446.77 818.335,1446.77 820.425,1446.77 822.516,1446.77 824.606,1446.77 826.697,1446.77 \n  828.787,1446.77 830.878,1446.77 832.969,1446.77 835.059,1446.77 837.15,1446.77 839.24,1446.77 841.331,1446.77 843.421,1446.77 845.512,1446.77 847.603,1446.77 \n  849.693,1446.77 851.784,1446.77 853.874,1446.77 855.965,1446.77 858.055,1446.77 860.146,1446.77 862.237,1446.77 864.327,1446.77 866.418,1446.77 868.508,1446.77 \n  870.599,1446.77 872.69,1446.77 874.78,1446.77 876.871,1446.77 878.961,1446.77 881.052,1446.77 883.142,1446.77 885.233,1446.77 887.324,1446.77 889.414,1446.77 \n  891.505,1446.77 893.595,1446.77 895.686,1446.77 897.776,1446.77 899.867,1446.77 901.958,1446.77 904.048,1446.77 906.139,1446.77 908.229,1446.77 910.32,1446.77 \n  912.411,1446.77 914.501,1446.77 916.592,1446.77 918.682,1446.77 920.773,1446.77 922.863,1446.77 924.954,1446.77 927.045,1446.77 929.135,1446.77 931.226,1446.77 \n  933.316,1446.77 935.407,1446.77 937.497,1446.77 939.588,1446.77 941.679,1446.77 943.769,1446.77 945.86,1446.77 947.95,1446.77 950.041,1446.77 952.131,1446.77 \n  954.222,1446.77 956.313,1446.77 958.403,1446.77 960.494,1446.77 962.584,1446.77 964.675,1446.77 966.766,1446.77 968.856,1446.77 970.947,1446.77 973.037,1446.77 \n  975.128,1446.77 977.218,1446.77 979.309,1446.77 981.4,1446.77 983.49,1446.77 985.581,1446.77 987.671,1446.77 989.762,1446.77 991.852,1446.77 993.943,1446.77 \n  996.034,1446.77 998.124,1446.77 1000.21,1446.77 1002.31,1446.77 1004.4,1446.77 1006.49,1446.77 1008.58,1446.77 1010.67,1446.77 1012.76,1446.77 1014.85,1446.77 \n  1016.94,1446.77 1019.03,1446.77 1021.12,1446.77 1023.21,1446.77 1025.3,1446.77 1027.39,1446.77 1029.48,1446.77 1031.57,1446.77 1033.66,1446.77 1035.75,1446.77 \n  1037.85,1446.77 1039.94,1446.77 1042.03,1446.77 1044.12,1446.77 1046.21,1446.77 1048.3,1446.77 1050.39,1446.77 1052.48,1446.77 1054.57,1446.77 1056.66,1446.77 \n  1058.75,1446.77 1060.84,1446.77 1062.93,1446.77 1065.02,1446.77 1067.11,1446.77 1069.2,1446.77 1071.29,1446.77 1073.39,1446.77 1075.48,1446.77 1077.57,1446.77 \n  1079.66,1446.77 1081.75,1446.77 1083.84,1446.77 1085.93,1446.77 1088.02,1446.77 1090.11,1446.77 1092.2,1446.77 1094.29,1446.77 1096.38,1446.77 1098.47,1446.77 \n  1100.56,1446.77 1102.65,1446.77 1104.74,1446.77 1106.83,1446.77 1108.92,1446.77 1111.02,1446.77 1113.11,1446.77 1115.2,1446.77 1117.29,1446.77 1119.38,1446.77 \n  1121.47,1446.77 1123.56,1446.77 1125.65,1446.77 1127.74,1446.77 1129.83,1446.77 1131.92,1446.77 1134.01,1446.77 1136.1,1446.77 1138.19,1446.77 1140.28,1446.77 \n  1142.37,1446.77 1144.46,1446.77 1146.56,1446.77 1148.65,1446.77 1150.74,1446.77 1152.83,1446.77 1154.92,1446.77 1157.01,1446.77 1159.1,1446.77 1161.19,1446.77 \n  1163.28,1446.77 1165.37,1446.77 1167.46,1446.77 1169.55,1446.77 1171.64,1446.77 1173.73,1446.77 1175.82,1446.77 1177.91,1446.77 1180,1446.77 1182.1,1446.77 \n  1184.19,1446.77 1186.28,1446.77 1188.37,1446.77 1190.46,1446.77 1192.55,1446.77 1194.64,1446.77 1196.73,1446.77 1198.82,1446.77 1200.91,1446.77 1203,1446.77 \n  1205.09,1446.77 1207.18,1446.77 1209.27,1446.77 1211.36,1446.77 1213.45,1446.77 1215.54,1446.77 1217.63,1446.77 1219.73,1446.77 1221.82,1446.77 1223.91,1446.77 \n  1226,1446.77 1228.09,1446.77 1230.18,1446.77 1232.27,1446.77 1234.36,1446.77 1236.45,1446.77 1238.54,1446.77 1240.63,1446.77 1242.72,1446.77 1244.81,1446.77 \n  1246.9,1446.77 1248.99,1446.77 1251.08,1430.36 1253.17,1416.88 1255.27,1405.61 1257.36,1396.04 1259.45,1387.84 1261.54,1380.73 1263.63,1374.55 1265.72,1369.13 \n  1267.81,1364.37 1269.9,1360.16 1271.99,1356.44 1274.08,1353.13 1276.17,1350.18 1278.26,1347.56 1280.35,1345.21 1282.44,1343.12 1284.53,1341.24 1286.62,1339.55 \n  1288.71,1338.04 1290.81,1336.68 1292.9,1335.45 1294.99,1334.35 1297.08,1333.36 1299.17,1332.47 1301.26,1331.66 1303.35,1330.93 1305.44,1330.28 1307.53,1329.68 \n  1309.62,1329.15 1311.71,1328.67 1313.8,1328.23 1315.89,1327.83 1317.98,1327.47 1320.07,1327.15 1322.16,1326.86 1324.25,1326.59 1326.34,1326.35 1328.44,1326.13 \n  1330.53,1325.94 1332.62,1325.76 1334.71,1325.6 1336.8,1325.45 1338.89,1325.31 1340.98,1325.19 1343.07,1325.08 1345.16,1324.98 1347.25,1324.89 1349.34,1324.81 \n  1351.43,1324.74 1353.52,1324.67 1355.61,1324.61 1357.7,1324.55 1359.79,1324.5 1361.88,1324.45 1363.98,1324.41 1366.07,1324.37 1368.16,1324.33 1370.25,1324.3 \n  1372.34,1324.27 1374.43,1324.24 1376.52,1324.22 1378.61,1324.2 1380.7,1324.18 1382.79,1324.16 1384.88,1324.14 1386.97,1324.12 1389.06,1324.11 1391.15,1324.09 \n  1393.24,1324.08 1395.33,1324.07 1397.42,1324.06 1399.52,1324.05 1401.61,1324.04 1403.7,1324.03 1405.79,1324.02 1407.88,1324.02 1409.97,1324.01 1412.06,1324 \n  1414.15,1324 1416.24,1323.99 1418.33,1323.99 1420.42,1323.98 1422.51,1323.98 1424.6,1323.97 1426.69,1323.97 1428.78,1323.97 1430.87,1323.96 1432.96,1323.96 \n  1435.05,1323.96 1437.15,1323.95 1439.24,1323.95 1441.33,1323.95 1443.42,1323.95 1445.51,1323.94 1447.6,1323.94 1449.69,1323.94 1451.78,1323.94 1453.87,1323.94 \n  1455.96,1323.93 1458.05,1323.93 1460.14,1323.93 1462.23,1323.93 1464.32,1323.93 1466.41,1323.93 1468.5,1323.92 1470.59,1323.92 1472.69,1323.92 1474.78,1323.92 \n  1476.87,1323.92 1478.96,1323.92 1481.05,1323.92 1483.14,1323.92 1485.23,1323.92 1487.32,1323.91 1489.41,1323.91 1491.5,1323.91 1493.59,1323.91 1495.68,1323.91 \n  1497.77,1323.91 1499.86,1323.91 1501.95,1323.91 1504.04,1323.91 1506.13,1323.91 1508.23,1323.91 1510.32,1323.91 1512.41,1323.9 1514.5,1323.9 1516.59,1323.9 \n  1518.68,1323.9 1520.77,1323.9 1522.86,1323.9 1524.95,1323.9 1527.04,1323.9 1529.13,1323.9 1531.22,1323.9 1533.31,1323.9 1535.4,1323.9 1537.49,1323.9 \n  1539.58,1323.9 1541.67,1323.9 1543.77,1323.9 1545.86,1323.9 1547.95,1323.9 1550.04,1323.9 1552.13,1323.89 1554.22,1323.89 1556.31,1323.89 1558.4,1323.89 \n  1560.49,1323.89 1562.58,1323.89 1564.67,1323.89 1566.76,1323.89 1568.85,1323.89 1570.94,1323.89 1573.03,1323.89 1575.12,1323.89 1577.21,1323.89 1579.3,1323.89 \n  1581.4,1323.89 1583.49,1323.89 1585.58,1323.89 1587.67,1323.89 1589.76,1323.89 1591.85,1323.89 1593.94,1323.89 1596.03,1323.89 1598.12,1323.89 1600.21,1323.89 \n  1602.3,1323.89 1604.39,1323.89 1606.48,1323.89 1608.57,1323.89 1610.66,1323.89 1612.75,1323.89 1614.84,1323.89 1616.94,1323.89 1619.03,1323.89 1621.12,1323.89 \n  1623.21,1323.89 1625.3,1323.89 1627.39,1323.89 1629.48,1323.89 1631.57,1323.89 1633.66,1323.89 1635.75,1323.89 1637.84,1323.89 1639.93,1323.89 1642.02,1323.89 \n  1644.11,1323.89 1646.2,1323.89 1648.29,1323.89 1650.38,1323.88 1652.48,1323.88 1654.57,1323.88 1656.66,1323.88 1658.75,1323.88 1660.84,1323.88 1662.93,1323.88 \n  1665.02,1323.88 1667.11,1323.88 1669.2,1323.88 1671.29,1323.88 1673.38,1323.88 1675.47,1323.88 1677.56,1323.88 1679.65,1323.88 1681.74,1323.88 1683.83,1323.88 \n  1685.92,1323.88 1688.01,1323.88 1690.11,1323.88 1692.2,1323.88 1694.29,1323.88 1696.38,1323.88 1698.47,1323.88 1700.56,1323.88 1702.65,1323.88 1704.74,1323.88 \n  1706.83,1323.88 1708.92,1323.88 1711.01,1323.88 1713.1,1323.88 1715.19,1323.88 1717.28,1323.88 1719.37,1323.88 1721.46,1323.88 1723.55,1323.88 1725.65,1323.88 \n  1727.74,1323.88 1729.83,1323.88 1731.92,1323.88 1734.01,1323.88 1736.1,1323.88 1738.19,1323.88 1740.28,1323.88 1742.37,1323.88 1744.46,1323.88 1746.55,1323.88 \n  1748.64,1323.88 1750.73,1323.88 1752.82,1323.88 1754.91,1323.88 1757,1323.88 1759.09,1323.88 1761.19,1323.88 1763.28,1323.88 1765.37,1323.88 1767.46,1323.88 \n  1769.55,1323.88 1771.64,1323.88 1773.73,1323.88 1775.82,1323.88 1777.91,1323.88 1780,1323.88 1782.09,1323.88 1784.18,1323.88 1786.27,1323.88 1788.36,1323.88 \n  1790.45,1323.88 1792.54,1323.88 1794.63,1323.88 1796.72,1323.88 1798.82,1323.88 1800.91,1323.88 1803,1323.88 1805.09,1323.88 1807.18,1323.88 1809.27,1323.88 \n  1811.36,1323.88 1813.45,1323.88 1815.54,1323.88 1817.63,1323.88 1819.72,1323.88 1821.81,1323.88 1823.9,1323.88 1825.99,1323.88 1828.08,1323.88 1830.17,1323.88 \n  1832.26,1323.88 1834.36,1323.88 1836.45,1323.88 1838.54,1323.88 1840.63,1323.88 1842.72,1323.88 1844.81,1323.88 1846.9,1323.88 1848.99,1323.88 1851.08,1323.88 \n  1853.17,1323.88 1855.26,1323.88 1857.35,1323.88 1859.44,1323.88 1861.53,1323.88 1863.62,1323.88 1865.71,1323.88 1867.8,1323.88 1869.9,1323.88 1871.99,1323.88 \n  1874.08,1323.88 1876.17,1323.88 1878.26,1323.88 1880.35,1323.88 1882.44,1323.88 1884.53,1323.88 1886.62,1323.88 1888.71,1323.88 1890.8,1323.88 1892.89,1323.88 \n  1894.98,1323.88 1897.07,1323.88 1899.16,1323.88 1901.25,1323.88 1903.34,1323.88 1905.43,1323.88 1907.53,1323.88 1909.62,1323.88 1911.71,1323.88 1913.8,1323.88 \n  1915.89,1323.88 1917.98,1323.88 1920.07,1323.88 1922.16,1323.88 1924.25,1323.88 1926.34,1323.88 1928.43,1323.88 1930.52,1323.88 1932.61,1323.88 1934.7,1323.88 \n  1936.79,1323.88 1938.88,1323.88 1940.97,1323.88 1943.07,1323.88 1945.16,1323.88 1947.25,1323.88 1949.34,1323.88 1951.43,1323.88 1953.52,1323.88 1955.61,1323.88 \n  1957.7,1323.88 1959.79,1323.88 1961.88,1323.88 1963.97,1323.88 1966.06,1323.88 1968.15,1323.88 1970.24,1323.88 1972.33,1323.88 1974.42,1323.88 1976.51,1323.88 \n  1978.61,1323.88 1980.7,1323.88 1982.79,1323.88 1984.88,1323.88 1986.97,1323.88 1989.06,1323.88 1991.15,1323.88 1993.24,1323.88 1995.33,1323.88 1997.42,1323.88 \n  1999.51,1323.88 2001.6,1323.88 2003.69,1323.88 2005.78,1323.88 2007.87,1323.88 2009.96,1323.88 2012.05,1323.88 2014.15,1323.88 2016.24,1323.88 2018.33,1323.88 \n  2020.42,1323.88 2022.51,1323.88 2024.6,1323.88 2026.69,1323.88 2028.78,1323.88 2030.87,1323.88 2032.96,1323.88 2035.05,1323.88 2037.14,1323.88 2039.23,1323.88 \n  2041.32,1323.88 2043.41,1323.88 2045.5,1323.88 2047.59,1323.88 2049.68,1323.88 2051.78,1323.88 2053.87,1323.88 2055.96,1323.88 2058.05,1323.88 2060.14,1323.88 \n  2062.23,1323.88 2064.32,1323.88 2066.41,1323.88 2068.5,1323.88 2070.59,1323.88 2072.68,1323.88 2074.77,1323.88 2076.86,1323.88 2078.95,1323.88 2081.04,1323.88 \n  2083.13,1323.88 2085.22,1323.88 2087.32,1323.88 2089.41,1323.88 2091.5,1323.88 2093.59,1323.88 2095.68,1323.88 2097.77,1323.88 2099.86,1323.88 2101.95,1323.88 \n  2104.04,1323.88 2106.13,1323.88 2108.22,1323.88 2110.31,1323.88 2112.4,1323.88 2114.49,1323.88 2116.58,1323.88 2118.67,1323.88 2120.76,1323.88 2122.86,1323.88 \n  2124.95,1323.88 2127.04,1323.88 2129.13,1323.88 2131.22,1323.88 2133.31,1323.88 2135.4,1323.88 2137.49,1323.88 2139.58,1323.88 2141.67,1323.88 2143.76,1323.88 \n  2145.85,1323.88 2147.94,1323.88 2150.03,1323.88 2152.12,1323.88 2154.21,1323.88 2156.3,1323.88 2158.39,1323.88 2160.49,1323.88 2162.58,1323.88 2164.67,1323.88 \n  2166.76,1323.88 2168.85,1323.88 2170.94,1323.88 2173.03,1323.88 2175.12,1323.88 2177.21,1323.88 2179.3,1323.88 2181.39,1323.88 2183.48,1323.88 2185.57,1323.88 \n  2187.66,1323.88 2189.75,1323.88 2191.84,1323.88 2193.93,1323.88 2196.03,1323.88 2198.12,1323.88 2200.21,1323.88 2202.3,1323.88 2204.39,1323.88 2206.48,1323.88 \n  2208.57,1323.88 2210.66,1323.88 2212.75,1323.88 2214.84,1323.88 2216.93,1323.88 2219.02,1323.88 2221.11,1323.88 2223.2,1323.88 2225.29,1323.88 2227.38,1323.88 \n  2229.47,1323.88 2231.57,1323.88 2233.66,1323.88 2235.75,1323.88 2237.84,1323.88 2239.93,1323.88 2242.02,1323.88 2244.11,1323.88 2246.2,1323.88 2248.29,1323.88 \n  2250.38,1323.88 2252.47,1323.88 2254.56,1323.88 2256.65,1323.88 2258.74,1323.88 2260.83,1323.88 2262.92,1323.88 2265.01,1323.88 2267.1,1323.88 2269.2,1323.88 \n  2271.29,1323.88 2273.38,1323.88 2275.47,1323.88 2277.56,1323.88 2279.65,1323.88 2281.74,1323.88 2283.83,1323.88 2285.92,1323.88 2288.01,1323.88 2290.1,1323.88 \n  \n  \"/>\n<polyline clip-path=\"url(#clip892)\" style=\"stroke:#e26f46; stroke-linecap:butt; stroke-linejoin:round; stroke-width:4; stroke-opacity:1; fill:none\" points=\"\n  201.614,926.947 203.705,913.815 205.795,901.824 207.886,890.814 209.976,880.707 212.067,871.431 214.158,862.922 216.248,855.116 218.339,847.955 220.429,841.385 \n  222.52,835.354 224.61,829.812 226.701,824.714 228.792,820.016 230.882,815.678 232.973,811.662 235.063,807.933 237.154,804.461 239.244,801.216 241.335,798.173 \n  243.426,795.311 245.516,792.609 247.607,790.049 249.697,787.618 251.788,785.301 253.879,783.089 255.969,780.972 258.06,778.94 260.15,776.988 262.241,775.11 \n  264.331,773.299 266.422,771.552 268.513,769.865 270.603,768.235 272.694,766.657 274.784,765.13 276.875,763.651 278.965,762.218 281.056,760.83 283.147,759.483 \n  285.237,758.177 287.328,756.91 289.418,755.68 291.509,754.487 293.599,753.328 295.69,752.204 297.781,751.112 299.871,750.051 301.962,749.022 304.052,748.021 \n  306.143,747.05 308.234,746.106 310.324,745.189 312.415,744.299 314.505,743.434 316.596,742.593 318.686,741.776 320.777,740.982 322.868,740.211 324.958,739.461 \n  327.049,738.733 329.139,738.025 331.23,737.337 333.32,736.668 335.411,736.018 337.502,735.386 339.592,734.772 341.683,734.175 343.773,733.595 345.864,733.031 \n  347.955,732.483 350.045,731.95 352.136,731.432 354.226,730.928 356.317,730.439 358.407,729.963 360.498,729.5 362.589,729.05 364.679,728.613 366.77,728.187 \n  368.86,727.774 370.951,727.372 373.041,726.981 375.132,726.601 377.223,726.231 379.313,725.872 381.404,725.522 383.494,725.183 385.585,724.852 387.675,724.531 \n  389.766,724.218 391.857,723.915 393.947,723.619 396.038,723.332 398.128,723.053 400.219,722.781 402.31,722.517 404.4,722.26 406.491,722.01 408.581,721.767 \n  410.672,721.531 412.762,721.301 414.853,721.077 416.944,720.86 419.034,720.648 421.125,720.443 423.215,720.243 425.306,720.048 427.396,719.859 429.487,719.675 \n  431.578,719.496 433.668,719.322 435.759,719.153 437.849,718.988 439.94,718.828 442.031,718.673 444.121,718.521 446.212,718.374 448.302,718.231 450.393,718.091 \n  452.483,717.956 454.574,717.824 456.665,717.695 458.755,717.571 460.846,717.449 462.936,717.331 465.027,717.217 467.117,717.105 469.208,716.996 471.299,716.891 \n  473.389,716.788 475.48,716.688 477.57,716.591 479.661,716.496 481.751,716.404 483.842,716.315 485.933,716.228 488.023,716.143 490.114,716.061 492.204,715.981 \n  494.295,715.903 496.386,715.827 498.476,715.753 500.567,715.681 502.657,715.612 504.748,715.544 506.838,715.478 508.929,715.414 511.02,715.351 513.11,715.29 \n  515.201,715.231 517.291,715.174 519.382,715.118 521.472,715.063 523.563,715.011 525.654,714.959 527.744,714.909 529.835,714.86 531.925,714.813 534.016,714.767 \n  536.107,714.722 538.197,714.678 540.288,714.636 542.378,714.595 544.469,714.554 546.559,714.515 548.65,714.477 550.741,714.44 552.831,714.405 554.922,714.37 \n  557.012,714.335 559.103,714.302 561.193,714.27 563.284,714.239 565.375,714.208 567.465,714.179 569.556,714.15 571.646,714.122 573.737,714.095 575.827,714.068 \n  577.918,714.042 580.009,714.017 582.099,713.993 584.19,713.969 586.28,713.946 588.371,713.923 590.462,713.901 592.552,713.88 594.643,713.859 596.733,713.839 \n  598.824,713.82 600.914,713.801 603.005,713.782 605.096,713.764 607.186,713.746 609.277,713.729 611.367,713.713 613.458,713.697 615.548,713.681 617.639,713.666 \n  619.73,713.651 621.82,713.636 623.911,713.622 626.001,713.608 628.092,713.595 630.183,713.582 632.273,713.57 634.364,713.557 636.454,713.545 638.545,713.534 \n  640.635,713.522 642.726,713.511 644.817,713.501 646.907,713.49 648.998,713.48 651.088,713.47 653.179,713.461 655.269,713.452 657.36,713.442 659.451,713.434 \n  661.541,713.425 663.632,713.417 665.722,713.409 667.813,713.401 669.903,713.393 671.994,713.386 674.085,713.378 676.175,713.371 678.266,713.364 680.356,713.358 \n  682.447,713.351 684.538,713.345 686.628,713.339 688.719,713.333 690.809,713.327 692.9,713.321 694.99,713.316 697.081,713.31 699.172,713.305 701.262,713.3 \n  703.353,713.295 705.443,713.29 707.534,713.286 709.624,713.281 711.715,713.277 713.806,713.272 715.896,713.268 717.987,713.264 720.077,713.26 722.168,713.256 \n  724.259,713.252 726.349,713.249 728.44,713.245 730.53,713.242 732.621,713.238 734.711,713.235 736.802,713.232 738.893,713.229 740.983,713.226 743.074,713.223 \n  745.164,713.22 747.255,713.217 749.345,713.215 751.436,713.212 753.527,713.21 755.617,713.207 757.708,713.205 759.798,713.202 761.889,713.2 763.979,713.198 \n  766.07,713.196 768.161,713.194 770.251,713.191 772.342,713.189 774.432,713.188 776.523,713.186 778.614,713.184 780.704,713.182 782.795,713.18 784.885,713.179 \n  786.976,713.177 789.066,713.175 791.157,713.174 793.248,713.172 795.338,713.171 797.429,713.169 799.519,713.168 801.61,713.167 803.7,713.165 805.791,713.164 \n  807.882,713.163 809.972,713.162 812.063,713.16 814.153,713.159 816.244,713.158 818.335,713.157 820.425,713.156 822.516,713.155 824.606,713.154 826.697,713.153 \n  828.787,713.152 830.878,713.151 832.969,713.15 835.059,713.149 837.15,713.149 839.24,713.148 841.331,713.147 843.421,713.146 845.512,713.145 847.603,713.145 \n  849.693,713.144 851.784,713.143 853.874,713.143 855.965,713.142 858.055,713.141 860.146,713.141 862.237,713.14 864.327,713.139 866.418,713.139 868.508,713.138 \n  870.599,713.138 872.69,713.137 874.78,713.137 876.871,713.136 878.961,713.136 881.052,713.135 883.142,713.135 885.233,713.134 887.324,713.134 889.414,713.133 \n  891.505,713.133 893.595,713.133 895.686,713.132 897.776,713.132 899.867,713.131 901.958,713.131 904.048,713.131 906.139,713.13 908.229,713.13 910.32,713.13 \n  912.411,713.129 914.501,713.129 916.592,713.129 918.682,713.129 920.773,713.128 922.863,713.128 924.954,713.128 927.045,713.127 929.135,713.127 931.226,713.127 \n  933.316,713.127 935.407,713.127 937.497,713.126 939.588,713.126 941.679,713.126 943.769,713.126 945.86,713.125 947.95,713.125 950.041,713.125 952.131,713.125 \n  954.222,713.125 956.313,713.125 958.403,713.124 960.494,713.124 962.584,713.124 964.675,713.124 966.766,713.124 968.856,713.124 970.947,713.123 973.037,713.123 \n  975.128,713.123 977.218,713.123 979.309,713.123 981.4,713.123 983.49,713.123 985.581,713.123 987.671,713.122 989.762,713.122 991.852,713.122 993.943,713.122 \n  996.034,713.122 998.124,713.122 1000.21,713.122 1002.31,713.122 1004.4,713.122 1006.49,713.121 1008.58,713.121 1010.67,713.121 1012.76,713.121 1014.85,713.121 \n  1016.94,713.121 1019.03,713.121 1021.12,713.121 1023.21,713.121 1025.3,713.121 1027.39,713.121 1029.48,713.121 1031.57,713.121 1033.66,713.12 1035.75,713.12 \n  1037.85,713.12 1039.94,713.12 1042.03,713.12 1044.12,713.12 1046.21,713.12 1048.3,713.12 1050.39,713.12 1052.48,713.12 1054.57,713.12 1056.66,713.12 \n  1058.75,713.12 1060.84,713.12 1062.93,713.12 1065.02,713.12 1067.11,713.12 1069.2,713.12 1071.29,713.12 1073.39,713.12 1075.48,713.12 1077.57,713.119 \n  1079.66,713.119 1081.75,713.119 1083.84,713.119 1085.93,713.119 1088.02,713.119 1090.11,713.119 1092.2,713.119 1094.29,713.119 1096.38,713.119 1098.47,713.119 \n  1100.56,713.119 1102.65,713.119 1104.74,713.119 1106.83,713.119 1108.92,713.119 1111.02,713.119 1113.11,713.119 1115.2,713.119 1117.29,713.119 1119.38,713.119 \n  1121.47,713.119 1123.56,713.119 1125.65,713.119 1127.74,713.119 1129.83,713.119 1131.92,713.119 1134.01,713.119 1136.1,713.119 1138.19,713.119 1140.28,713.119 \n  1142.37,713.119 1144.46,713.119 1146.56,713.119 1148.65,713.119 1150.74,713.119 1152.83,713.119 1154.92,713.119 1157.01,713.119 1159.1,713.119 1161.19,713.119 \n  1163.28,713.119 1165.37,713.119 1167.46,713.119 1169.55,713.119 1171.64,713.119 1173.73,713.119 1175.82,713.119 1177.91,713.119 1180,713.119 1182.1,713.119 \n  1184.19,713.119 1186.28,713.119 1188.37,713.119 1190.46,713.119 1192.55,713.118 1194.64,713.118 1196.73,713.118 1198.82,713.118 1200.91,713.118 1203,713.118 \n  1205.09,713.118 1207.18,713.118 1209.27,713.118 1211.36,713.118 1213.45,713.118 1215.54,713.118 1217.63,713.118 1219.73,713.118 1221.82,713.118 1223.91,713.118 \n  1226,713.118 1228.09,713.118 1230.18,713.118 1232.27,713.118 1234.36,713.118 1236.45,713.118 1238.54,713.118 1240.63,713.118 1242.72,713.118 1244.81,713.118 \n  1246.9,713.118 1248.99,713.118 1251.08,714.235 1253.17,715.156 1255.27,715.932 1257.36,716.586 1259.45,717.135 1261.54,717.594 1263.63,717.975 1265.72,718.289 \n  1267.81,718.544 1269.9,718.748 1271.99,718.907 1274.08,719.028 1276.17,719.114 1278.26,719.171 1280.35,719.202 1282.44,719.21 1284.53,719.199 1286.62,719.17 \n  1288.71,719.126 1290.81,719.07 1292.9,719.002 1294.99,718.925 1297.08,718.84 1299.17,718.748 1301.26,718.65 1303.35,718.547 1305.44,718.441 1307.53,718.331 \n  1309.62,718.219 1311.71,718.105 1313.8,717.99 1315.89,717.874 1317.98,717.757 1320.07,717.641 1322.16,717.525 1324.25,717.409 1326.34,717.294 1328.44,717.179 \n  1330.53,717.067 1332.62,716.955 1334.71,716.845 1336.8,716.736 1338.89,716.629 1340.98,716.524 1343.07,716.42 1345.16,716.319 1347.25,716.219 1349.34,716.122 \n  1351.43,716.026 1353.52,715.932 1355.61,715.84 1357.7,715.75 1359.79,715.663 1361.88,715.577 1363.98,715.493 1366.07,715.411 1368.16,715.331 1370.25,715.253 \n  1372.34,715.176 1374.43,715.102 1376.52,715.029 1378.61,714.959 1380.7,714.89 1382.79,714.822 1384.88,714.757 1386.97,714.693 1389.06,714.63 1391.15,714.57 \n  1393.24,714.51 1395.33,714.453 1397.42,714.397 1399.52,714.342 1401.61,714.289 1403.7,714.237 1405.79,714.186 1407.88,714.137 1409.97,714.089 1412.06,714.043 \n  1414.15,713.997 1416.24,713.953 1418.33,713.91 1420.42,713.869 1422.51,713.828 1424.6,713.788 1426.69,713.75 1428.78,713.712 1430.87,713.676 1432.96,713.64 \n  1435.05,713.606 1437.15,713.572 1439.24,713.539 1441.33,713.507 1443.42,713.476 1445.51,713.446 1447.6,713.417 1449.69,713.388 1451.78,713.361 1453.87,713.334 \n  1455.96,713.307 1458.05,713.282 1460.14,713.257 1462.23,713.233 1464.32,713.209 1466.41,713.186 1468.5,713.164 1470.59,713.143 1472.69,713.121 1474.78,713.101 \n  1476.87,713.081 1478.96,713.062 1481.05,713.043 1483.14,713.024 1485.23,713.007 1487.32,712.989 1489.41,712.972 1491.5,712.956 1493.59,712.94 1495.68,712.924 \n  1497.77,712.909 1499.86,712.894 1501.95,712.88 1504.04,712.866 1506.13,712.853 1508.23,712.839 1510.32,712.827 1512.41,712.814 1514.5,712.802 1516.59,712.79 \n  1518.68,712.779 1520.77,712.768 1522.86,712.757 1524.95,712.746 1527.04,712.736 1529.13,712.726 1531.22,712.716 1533.31,712.707 1535.4,712.698 1537.49,712.689 \n  1539.58,712.68 1541.67,712.671 1543.77,712.663 1545.86,712.655 1547.95,712.647 1550.04,712.64 1552.13,712.632 1554.22,712.625 1556.31,712.618 1558.4,712.612 \n  1560.49,712.605 1562.58,712.599 1564.67,712.592 1566.76,712.586 1568.85,712.58 1570.94,712.575 1573.03,712.569 1575.12,712.564 1577.21,712.558 1579.3,712.553 \n  1581.4,712.548 1583.49,712.543 1585.58,712.538 1587.67,712.534 1589.76,712.529 1591.85,712.525 1593.94,712.521 1596.03,712.517 1598.12,712.513 1600.21,712.509 \n  1602.3,712.505 1604.39,712.501 1606.48,712.498 1608.57,712.494 1610.66,712.491 1612.75,712.487 1614.84,712.484 1616.94,712.481 1619.03,712.478 1621.12,712.475 \n  1623.21,712.472 1625.3,712.469 1627.39,712.467 1629.48,712.464 1631.57,712.461 1633.66,712.459 1635.75,712.457 1637.84,712.454 1639.93,712.452 1642.02,712.45 \n  1644.11,712.447 1646.2,712.445 1648.29,712.443 1650.38,712.441 1652.48,712.439 1654.57,712.437 1656.66,712.436 1658.75,712.434 1660.84,712.432 1662.93,712.43 \n  1665.02,712.429 1667.11,712.427 1669.2,712.425 1671.29,712.424 1673.38,712.422 1675.47,712.421 1677.56,712.42 1679.65,712.418 1681.74,712.417 1683.83,712.416 \n  1685.92,712.414 1688.01,712.413 1690.11,712.412 1692.2,712.411 1694.29,712.41 1696.38,712.409 1698.47,712.408 1700.56,712.406 1702.65,712.405 1704.74,712.405 \n  1706.83,712.404 1708.92,712.403 1711.01,712.402 1713.1,712.401 1715.19,712.4 1717.28,712.399 1719.37,712.398 1721.46,712.398 1723.55,712.397 1725.65,712.396 \n  1727.74,712.395 1729.83,712.395 1731.92,712.394 1734.01,712.393 1736.1,712.393 1738.19,712.392 1740.28,712.391 1742.37,712.391 1744.46,712.39 1746.55,712.39 \n  1748.64,712.389 1750.73,712.389 1752.82,712.388 1754.91,712.388 1757,712.387 1759.09,712.387 1761.19,712.386 1763.28,712.386 1765.37,712.385 1767.46,712.385 \n  1769.55,712.384 1771.64,712.384 1773.73,712.384 1775.82,712.383 1777.91,712.383 1780,712.382 1782.09,712.382 1784.18,712.382 1786.27,712.381 1788.36,712.381 \n  1790.45,712.381 1792.54,712.381 1794.63,712.38 1796.72,712.38 1798.82,712.38 1800.91,712.379 1803,712.379 1805.09,712.379 1807.18,712.379 1809.27,712.378 \n  1811.36,712.378 1813.45,712.378 1815.54,712.378 1817.63,712.377 1819.72,712.377 1821.81,712.377 1823.9,712.377 1825.99,712.377 1828.08,712.376 1830.17,712.376 \n  1832.26,712.376 1834.36,712.376 1836.45,712.376 1838.54,712.376 1840.63,712.375 1842.72,712.375 1844.81,712.375 1846.9,712.375 1848.99,712.375 1851.08,712.375 \n  1853.17,712.374 1855.26,712.374 1857.35,712.374 1859.44,712.374 1861.53,712.374 1863.62,712.374 1865.71,712.374 1867.8,712.374 1869.9,712.374 1871.99,712.373 \n  1874.08,712.373 1876.17,712.373 1878.26,712.373 1880.35,712.373 1882.44,712.373 1884.53,712.373 1886.62,712.373 1888.71,712.373 1890.8,712.373 1892.89,712.372 \n  1894.98,712.372 1897.07,712.372 1899.16,712.372 1901.25,712.372 1903.34,712.372 1905.43,712.372 1907.53,712.372 1909.62,712.372 1911.71,712.372 1913.8,712.372 \n  1915.89,712.372 1917.98,712.372 1920.07,712.372 1922.16,712.372 1924.25,712.372 1926.34,712.371 1928.43,712.371 1930.52,712.371 1932.61,712.371 1934.7,712.371 \n  1936.79,712.371 1938.88,712.371 1940.97,712.371 1943.07,712.371 1945.16,712.371 1947.25,712.371 1949.34,712.371 1951.43,712.371 1953.52,712.371 1955.61,712.371 \n  1957.7,712.371 1959.79,712.371 1961.88,712.371 1963.97,712.371 1966.06,712.371 1968.15,712.371 1970.24,712.371 1972.33,712.371 1974.42,712.371 1976.51,712.371 \n  1978.61,712.371 1980.7,712.371 1982.79,712.37 1984.88,712.37 1986.97,712.37 1989.06,712.37 1991.15,712.37 1993.24,712.37 1995.33,712.37 1997.42,712.37 \n  1999.51,712.37 2001.6,712.37 2003.69,712.37 2005.78,712.37 2007.87,712.37 2009.96,712.37 2012.05,712.37 2014.15,712.37 2016.24,712.37 2018.33,712.37 \n  2020.42,712.37 2022.51,712.37 2024.6,712.37 2026.69,712.37 2028.78,712.37 2030.87,712.37 2032.96,712.37 2035.05,712.37 2037.14,712.37 2039.23,712.37 \n  2041.32,712.37 2043.41,712.37 2045.5,712.37 2047.59,712.37 2049.68,712.37 2051.78,712.37 2053.87,712.37 2055.96,712.37 2058.05,712.37 2060.14,712.37 \n  2062.23,712.37 2064.32,712.37 2066.41,712.37 2068.5,712.37 2070.59,712.37 2072.68,712.37 2074.77,712.37 2076.86,712.37 2078.95,712.37 2081.04,712.37 \n  2083.13,712.37 2085.22,712.37 2087.32,712.37 2089.41,712.37 2091.5,712.37 2093.59,712.37 2095.68,712.37 2097.77,712.37 2099.86,712.37 2101.95,712.37 \n  2104.04,712.37 2106.13,712.37 2108.22,712.37 2110.31,712.37 2112.4,712.37 2114.49,712.37 2116.58,712.37 2118.67,712.37 2120.76,712.37 2122.86,712.37 \n  2124.95,712.37 2127.04,712.37 2129.13,712.37 2131.22,712.37 2133.31,712.37 2135.4,712.37 2137.49,712.37 2139.58,712.37 2141.67,712.37 2143.76,712.37 \n  2145.85,712.37 2147.94,712.37 2150.03,712.37 2152.12,712.37 2154.21,712.37 2156.3,712.37 2158.39,712.37 2160.49,712.37 2162.58,712.37 2164.67,712.37 \n  2166.76,712.37 2168.85,712.37 2170.94,712.37 2173.03,712.37 2175.12,712.37 2177.21,712.37 2179.3,712.37 2181.39,712.37 2183.48,712.37 2185.57,712.37 \n  2187.66,712.37 2189.75,712.37 2191.84,712.37 2193.93,712.37 2196.03,712.37 2198.12,712.37 2200.21,712.37 2202.3,712.37 2204.39,712.37 2206.48,712.37 \n  2208.57,712.37 2210.66,712.37 2212.75,712.37 2214.84,712.37 2216.93,712.37 2219.02,712.37 2221.11,712.37 2223.2,712.37 2225.29,712.37 2227.38,712.37 \n  2229.47,712.37 2231.57,712.37 2233.66,712.37 2235.75,712.37 2237.84,712.37 2239.93,712.37 2242.02,712.37 2244.11,712.37 2246.2,712.37 2248.29,712.37 \n  2250.38,712.37 2252.47,712.37 2254.56,712.37 2256.65,712.37 2258.74,712.37 2260.83,712.37 2262.92,712.37 2265.01,712.37 2267.1,712.37 2269.2,712.37 \n  2271.29,712.37 2273.38,712.37 2275.47,712.37 2277.56,712.37 2279.65,712.37 2281.74,712.37 2283.83,712.37 2285.92,712.37 2288.01,712.37 2290.1,712.37 \n  \n  \"/>\n<polyline clip-path=\"url(#clip892)\" style=\"stroke:#3da44d; stroke-linecap:butt; stroke-linejoin:round; stroke-width:4; stroke-opacity:1; fill:none\" points=\"\n  201.614,195.024 203.705,189.047 205.795,183.814 207.886,179.279 209.976,175.393 212.067,172.108 214.158,169.377 216.248,167.154 218.339,165.394 220.429,164.054 \n  222.52,163.089 224.61,162.459 226.701,162.125 228.792,162.047 230.882,162.191 232.973,162.524 235.063,163.016 237.154,163.638 239.244,164.368 241.335,165.183 \n  243.426,166.065 245.516,166.997 247.607,167.965 249.697,168.959 251.788,169.968 253.879,170.985 255.969,172.004 258.06,173.018 260.15,174.023 262.241,175.017 \n  264.331,175.998 266.422,176.961 268.513,177.908 270.603,178.835 272.694,179.743 274.784,180.631 276.875,181.498 278.965,182.345 281.056,183.172 283.147,183.978 \n  285.237,184.764 287.328,185.53 289.418,186.276 291.509,187.002 293.599,187.71 295.69,188.4 297.781,189.071 299.871,189.724 301.962,190.36 304.052,190.978 \n  306.143,191.581 308.234,192.167 310.324,192.737 312.415,193.292 314.505,193.833 316.596,194.358 318.686,194.87 320.777,195.367 322.868,195.851 324.958,196.322 \n  327.049,196.781 329.139,197.227 331.23,197.661 333.32,198.083 335.411,198.493 337.502,198.893 339.592,199.282 341.683,199.66 343.773,200.028 345.864,200.386 \n  347.955,200.734 350.045,201.073 352.136,201.403 354.226,201.724 356.317,202.036 358.407,202.34 360.498,202.635 362.589,202.922 364.679,203.202 366.77,203.474 \n  368.86,203.739 370.951,203.996 373.041,204.247 375.132,204.49 377.223,204.727 379.313,204.958 381.404,205.182 383.494,205.401 385.585,205.613 387.675,205.82 \n  389.766,206.021 391.857,206.216 393.947,206.407 396.038,206.592 398.128,206.772 400.219,206.947 402.31,207.117 404.4,207.283 406.491,207.444 408.581,207.601 \n  410.672,207.754 412.762,207.903 414.853,208.047 416.944,208.188 419.034,208.324 421.125,208.458 423.215,208.587 425.306,208.713 427.396,208.835 429.487,208.955 \n  431.578,209.071 433.668,209.183 435.759,209.293 437.849,209.4 439.94,209.504 442.031,209.605 444.121,209.703 446.212,209.799 448.302,209.892 450.393,209.982 \n  452.483,210.07 454.574,210.156 456.665,210.239 458.755,210.32 460.846,210.399 462.936,210.476 465.027,210.551 467.117,210.623 469.208,210.694 471.299,210.763 \n  473.389,210.829 475.48,210.895 477.57,210.958 479.661,211.019 481.751,211.079 483.842,211.137 485.933,211.194 488.023,211.249 490.114,211.303 492.204,211.355 \n  494.295,211.406 496.386,211.455 498.476,211.503 500.567,211.55 502.657,211.596 504.748,211.64 506.838,211.683 508.929,211.725 511.02,211.765 513.11,211.805 \n  515.201,211.844 517.291,211.881 519.382,211.918 521.472,211.953 523.563,211.988 525.654,212.021 527.744,212.054 529.835,212.086 531.925,212.117 534.016,212.147 \n  536.107,212.176 538.197,212.204 540.288,212.232 542.378,212.259 544.469,212.285 546.559,212.311 548.65,212.336 550.741,212.36 552.831,212.383 554.922,212.406 \n  557.012,212.428 559.103,212.45 561.193,212.471 563.284,212.491 565.375,212.511 567.465,212.531 569.556,212.55 571.646,212.568 573.737,212.586 575.827,212.603 \n  577.918,212.62 580.009,212.636 582.099,212.652 584.19,212.668 586.28,212.683 588.371,212.698 590.462,212.712 592.552,212.726 594.643,212.739 596.733,212.753 \n  598.824,212.765 600.914,212.778 603.005,212.79 605.096,212.802 607.186,212.813 609.277,212.824 611.367,212.835 613.458,212.846 615.548,212.856 617.639,212.866 \n  619.73,212.876 621.82,212.885 623.911,212.894 626.001,212.903 628.092,212.912 630.183,212.921 632.273,212.929 634.364,212.937 636.454,212.945 638.545,212.952 \n  640.635,212.96 642.726,212.967 644.817,212.974 646.907,212.981 648.998,212.987 651.088,212.994 653.179,213 655.269,213.006 657.36,213.012 659.451,213.018 \n  661.541,213.023 663.632,213.029 665.722,213.034 667.813,213.039 669.903,213.044 671.994,213.049 674.085,213.054 676.175,213.059 678.266,213.063 680.356,213.067 \n  682.447,213.072 684.538,213.076 686.628,213.08 688.719,213.084 690.809,213.088 692.9,213.091 694.99,213.095 697.081,213.098 699.172,213.102 701.262,213.105 \n  703.353,213.108 705.443,213.112 707.534,213.115 709.624,213.118 711.715,213.12 713.806,213.123 715.896,213.126 717.987,213.129 720.077,213.131 722.168,213.134 \n  724.259,213.136 726.349,213.139 728.44,213.141 730.53,213.143 732.621,213.145 734.711,213.148 736.802,213.15 738.893,213.152 740.983,213.154 743.074,213.156 \n  745.164,213.157 747.255,213.159 749.345,213.161 751.436,213.163 753.527,213.164 755.617,213.166 757.708,213.168 759.798,213.169 761.889,213.171 763.979,213.172 \n  766.07,213.173 768.161,213.175 770.251,213.176 772.342,213.177 774.432,213.179 776.523,213.18 778.614,213.181 780.704,213.182 782.795,213.183 784.885,213.185 \n  786.976,213.186 789.066,213.187 791.157,213.188 793.248,213.189 795.338,213.19 797.429,213.191 799.519,213.192 801.61,213.192 803.7,213.193 805.791,213.194 \n  807.882,213.195 809.972,213.196 812.063,213.196 814.153,213.197 816.244,213.198 818.335,213.199 820.425,213.199 822.516,213.2 824.606,213.201 826.697,213.201 \n  828.787,213.202 830.878,213.203 832.969,213.203 835.059,213.204 837.15,213.204 839.24,213.205 841.331,213.205 843.421,213.206 845.512,213.206 847.603,213.207 \n  849.693,213.207 851.784,213.208 853.874,213.208 855.965,213.209 858.055,213.209 860.146,213.209 862.237,213.21 864.327,213.21 866.418,213.211 868.508,213.211 \n  870.599,213.211 872.69,213.212 874.78,213.212 876.871,213.212 878.961,213.213 881.052,213.213 883.142,213.213 885.233,213.214 887.324,213.214 889.414,213.214 \n  891.505,213.214 893.595,213.215 895.686,213.215 897.776,213.215 899.867,213.215 901.958,213.216 904.048,213.216 906.139,213.216 908.229,213.216 910.32,213.217 \n  912.411,213.217 914.501,213.217 916.592,213.217 918.682,213.217 920.773,213.218 922.863,213.218 924.954,213.218 927.045,213.218 929.135,213.218 931.226,213.218 \n  933.316,213.219 935.407,213.219 937.497,213.219 939.588,213.219 941.679,213.219 943.769,213.219 945.86,213.219 947.95,213.219 950.041,213.22 952.131,213.22 \n  954.222,213.22 956.313,213.22 958.403,213.22 960.494,213.22 962.584,213.22 964.675,213.22 966.766,213.221 968.856,213.221 970.947,213.221 973.037,213.221 \n  975.128,213.221 977.218,213.221 979.309,213.221 981.4,213.221 983.49,213.221 985.581,213.221 987.671,213.221 989.762,213.221 991.852,213.222 993.943,213.222 \n  996.034,213.222 998.124,213.222 1000.21,213.222 1002.31,213.222 1004.4,213.222 1006.49,213.222 1008.58,213.222 1010.67,213.222 1012.76,213.222 1014.85,213.222 \n  1016.94,213.222 1019.03,213.222 1021.12,213.222 1023.21,213.222 1025.3,213.222 1027.39,213.222 1029.48,213.223 1031.57,213.223 1033.66,213.223 1035.75,213.223 \n  1037.85,213.223 1039.94,213.223 1042.03,213.223 1044.12,213.223 1046.21,213.223 1048.3,213.223 1050.39,213.223 1052.48,213.223 1054.57,213.223 1056.66,213.223 \n  1058.75,213.223 1060.84,213.223 1062.93,213.223 1065.02,213.223 1067.11,213.223 1069.2,213.223 1071.29,213.223 1073.39,213.223 1075.48,213.223 1077.57,213.223 \n  1079.66,213.223 1081.75,213.223 1083.84,213.223 1085.93,213.223 1088.02,213.223 1090.11,213.223 1092.2,213.223 1094.29,213.223 1096.38,213.223 1098.47,213.223 \n  1100.56,213.223 1102.65,213.224 1104.74,213.224 1106.83,213.224 1108.92,213.224 1111.02,213.224 1113.11,213.224 1115.2,213.224 1117.29,213.224 1119.38,213.224 \n  1121.47,213.224 1123.56,213.224 1125.65,213.224 1127.74,213.224 1129.83,213.224 1131.92,213.224 1134.01,213.224 1136.1,213.224 1138.19,213.224 1140.28,213.224 \n  1142.37,213.224 1144.46,213.224 1146.56,213.224 1148.65,213.224 1150.74,213.224 1152.83,213.224 1154.92,213.224 1157.01,213.224 1159.1,213.224 1161.19,213.224 \n  1163.28,213.224 1165.37,213.224 1167.46,213.224 1169.55,213.224 1171.64,213.224 1173.73,213.224 1175.82,213.224 1177.91,213.224 1180,213.224 1182.1,213.224 \n  1184.19,213.224 1186.28,213.224 1188.37,213.224 1190.46,213.224 1192.55,213.224 1194.64,213.224 1196.73,213.224 1198.82,213.224 1200.91,213.224 1203,213.224 \n  1205.09,213.224 1207.18,213.224 1209.27,213.224 1211.36,213.224 1213.45,213.224 1215.54,213.224 1217.63,213.224 1219.73,213.224 1221.82,213.224 1223.91,213.224 \n  1226,213.224 1228.09,213.224 1230.18,213.224 1232.27,213.224 1234.36,213.224 1236.45,213.224 1238.54,213.224 1240.63,213.224 1242.72,213.224 1244.81,213.224 \n  1246.9,213.224 1248.99,213.224 1251.08,214.901 1253.17,216.412 1255.27,217.778 1257.36,219.016 1259.45,220.14 1261.54,221.165 1263.63,222.101 1265.72,222.957 \n  1267.81,223.741 1269.9,224.462 1271.99,225.126 1274.08,225.737 1276.17,226.302 1278.26,226.824 1280.35,227.309 1282.44,227.758 1284.53,228.176 1286.62,228.565 \n  1288.71,228.927 1290.81,229.266 1292.9,229.583 1294.99,229.88 1297.08,230.158 1299.17,230.42 1301.26,230.666 1303.35,230.898 1305.44,231.116 1307.53,231.323 \n  1309.62,231.518 1311.71,231.704 1313.8,231.879 1315.89,232.046 1317.98,232.204 1320.07,232.355 1322.16,232.499 1324.25,232.636 1326.34,232.767 1328.44,232.892 \n  1330.53,233.012 1332.62,233.126 1334.71,233.236 1336.8,233.341 1338.89,233.443 1340.98,233.54 1343.07,233.633 1345.16,233.723 1347.25,233.81 1349.34,233.893 \n  1351.43,233.973 1353.52,234.051 1355.61,234.126 1357.7,234.198 1359.79,234.268 1361.88,234.335 1363.98,234.4 1366.07,234.463 1368.16,234.524 1370.25,234.583 \n  1372.34,234.64 1374.43,234.695 1376.52,234.749 1378.61,234.801 1380.7,234.851 1382.79,234.9 1384.88,234.947 1386.97,234.993 1389.06,235.038 1391.15,235.081 \n  1393.24,235.123 1395.33,235.164 1397.42,235.203 1399.52,235.241 1401.61,235.279 1403.7,235.315 1405.79,235.35 1407.88,235.384 1409.97,235.417 1412.06,235.449 \n  1414.15,235.481 1416.24,235.511 1418.33,235.541 1420.42,235.569 1422.51,235.597 1424.6,235.624 1426.69,235.651 1428.78,235.676 1430.87,235.701 1432.96,235.725 \n  1435.05,235.749 1437.15,235.772 1439.24,235.794 1441.33,235.816 1443.42,235.837 1445.51,235.857 1447.6,235.877 1449.69,235.896 1451.78,235.915 1453.87,235.933 \n  1455.96,235.951 1458.05,235.968 1460.14,235.985 1462.23,236.002 1464.32,236.017 1466.41,236.033 1468.5,236.048 1470.59,236.063 1472.69,236.077 1474.78,236.091 \n  1476.87,236.104 1478.96,236.117 1481.05,236.13 1483.14,236.142 1485.23,236.154 1487.32,236.166 1489.41,236.177 1491.5,236.188 1493.59,236.199 1495.68,236.21 \n  1497.77,236.22 1499.86,236.23 1501.95,236.239 1504.04,236.249 1506.13,236.258 1508.23,236.267 1510.32,236.275 1512.41,236.284 1514.5,236.292 1516.59,236.3 \n  1518.68,236.308 1520.77,236.315 1522.86,236.323 1524.95,236.33 1527.04,236.337 1529.13,236.343 1531.22,236.35 1533.31,236.356 1535.4,236.362 1537.49,236.368 \n  1539.58,236.374 1541.67,236.38 1543.77,236.386 1545.86,236.391 1547.95,236.396 1550.04,236.401 1552.13,236.406 1554.22,236.411 1556.31,236.416 1558.4,236.42 \n  1560.49,236.425 1562.58,236.429 1564.67,236.433 1566.76,236.437 1568.85,236.441 1570.94,236.445 1573.03,236.449 1575.12,236.453 1577.21,236.456 1579.3,236.46 \n  1581.4,236.463 1583.49,236.466 1585.58,236.47 1587.67,236.473 1589.76,236.476 1591.85,236.479 1593.94,236.481 1596.03,236.484 1598.12,236.487 1600.21,236.49 \n  1602.3,236.492 1604.39,236.495 1606.48,236.497 1608.57,236.499 1610.66,236.502 1612.75,236.504 1614.84,236.506 1616.94,236.508 1619.03,236.51 1621.12,236.512 \n  1623.21,236.514 1625.3,236.516 1627.39,236.518 1629.48,236.52 1631.57,236.521 1633.66,236.523 1635.75,236.525 1637.84,236.526 1639.93,236.528 1642.02,236.529 \n  1644.11,236.531 1646.2,236.532 1648.29,236.534 1650.38,236.535 1652.48,236.536 1654.57,236.538 1656.66,236.539 1658.75,236.54 1660.84,236.541 1662.93,236.542 \n  1665.02,236.544 1667.11,236.545 1669.2,236.546 1671.29,236.547 1673.38,236.548 1675.47,236.549 1677.56,236.55 1679.65,236.55 1681.74,236.551 1683.83,236.552 \n  1685.92,236.553 1688.01,236.554 1690.11,236.555 1692.2,236.556 1694.29,236.556 1696.38,236.557 1698.47,236.558 1700.56,236.558 1702.65,236.559 1704.74,236.56 \n  1706.83,236.56 1708.92,236.561 1711.01,236.562 1713.1,236.562 1715.19,236.563 1717.28,236.563 1719.37,236.564 1721.46,236.564 1723.55,236.565 1725.65,236.565 \n  1727.74,236.566 1729.83,236.566 1731.92,236.567 1734.01,236.567 1736.1,236.568 1738.19,236.568 1740.28,236.569 1742.37,236.569 1744.46,236.569 1746.55,236.57 \n  1748.64,236.57 1750.73,236.57 1752.82,236.571 1754.91,236.571 1757,236.571 1759.09,236.572 1761.19,236.572 1763.28,236.572 1765.37,236.573 1767.46,236.573 \n  1769.55,236.573 1771.64,236.574 1773.73,236.574 1775.82,236.574 1777.91,236.574 1780,236.575 1782.09,236.575 1784.18,236.575 1786.27,236.575 1788.36,236.575 \n  1790.45,236.576 1792.54,236.576 1794.63,236.576 1796.72,236.576 1798.82,236.576 1800.91,236.577 1803,236.577 1805.09,236.577 1807.18,236.577 1809.27,236.577 \n  1811.36,236.578 1813.45,236.578 1815.54,236.578 1817.63,236.578 1819.72,236.578 1821.81,236.578 1823.9,236.578 1825.99,236.579 1828.08,236.579 1830.17,236.579 \n  1832.26,236.579 1834.36,236.579 1836.45,236.579 1838.54,236.579 1840.63,236.579 1842.72,236.579 1844.81,236.58 1846.9,236.58 1848.99,236.58 1851.08,236.58 \n  1853.17,236.58 1855.26,236.58 1857.35,236.58 1859.44,236.58 1861.53,236.58 1863.62,236.58 1865.71,236.58 1867.8,236.581 1869.9,236.581 1871.99,236.581 \n  1874.08,236.581 1876.17,236.581 1878.26,236.581 1880.35,236.581 1882.44,236.581 1884.53,236.581 1886.62,236.581 1888.71,236.581 1890.8,236.581 1892.89,236.581 \n  1894.98,236.581 1897.07,236.581 1899.16,236.581 1901.25,236.582 1903.34,236.582 1905.43,236.582 1907.53,236.582 1909.62,236.582 1911.71,236.582 1913.8,236.582 \n  1915.89,236.582 1917.98,236.582 1920.07,236.582 1922.16,236.582 1924.25,236.582 1926.34,236.582 1928.43,236.582 1930.52,236.582 1932.61,236.582 1934.7,236.582 \n  1936.79,236.582 1938.88,236.582 1940.97,236.582 1943.07,236.582 1945.16,236.582 1947.25,236.582 1949.34,236.582 1951.43,236.582 1953.52,236.582 1955.61,236.582 \n  1957.7,236.582 1959.79,236.582 1961.88,236.582 1963.97,236.583 1966.06,236.583 1968.15,236.583 1970.24,236.583 1972.33,236.583 1974.42,236.583 1976.51,236.583 \n  1978.61,236.583 1980.7,236.583 1982.79,236.583 1984.88,236.583 1986.97,236.583 1989.06,236.583 1991.15,236.583 1993.24,236.583 1995.33,236.583 1997.42,236.583 \n  1999.51,236.583 2001.6,236.583 2003.69,236.583 2005.78,236.583 2007.87,236.583 2009.96,236.583 2012.05,236.583 2014.15,236.583 2016.24,236.583 2018.33,236.583 \n  2020.42,236.583 2022.51,236.583 2024.6,236.583 2026.69,236.583 2028.78,236.583 2030.87,236.583 2032.96,236.583 2035.05,236.583 2037.14,236.583 2039.23,236.583 \n  2041.32,236.583 2043.41,236.583 2045.5,236.583 2047.59,236.583 2049.68,236.583 2051.78,236.583 2053.87,236.583 2055.96,236.583 2058.05,236.583 2060.14,236.583 \n  2062.23,236.583 2064.32,236.583 2066.41,236.583 2068.5,236.583 2070.59,236.583 2072.68,236.583 2074.77,236.583 2076.86,236.583 2078.95,236.583 2081.04,236.583 \n  2083.13,236.583 2085.22,236.583 2087.32,236.583 2089.41,236.583 2091.5,236.583 2093.59,236.583 2095.68,236.583 2097.77,236.583 2099.86,236.583 2101.95,236.583 \n  2104.04,236.583 2106.13,236.583 2108.22,236.583 2110.31,236.583 2112.4,236.583 2114.49,236.583 2116.58,236.583 2118.67,236.583 2120.76,236.583 2122.86,236.583 \n  2124.95,236.583 2127.04,236.583 2129.13,236.583 2131.22,236.583 2133.31,236.583 2135.4,236.583 2137.49,236.583 2139.58,236.583 2141.67,236.583 2143.76,236.583 \n  2145.85,236.583 2147.94,236.583 2150.03,236.583 2152.12,236.583 2154.21,236.583 2156.3,236.583 2158.39,236.583 2160.49,236.583 2162.58,236.583 2164.67,236.583 \n  2166.76,236.583 2168.85,236.583 2170.94,236.583 2173.03,236.583 2175.12,236.583 2177.21,236.583 2179.3,236.583 2181.39,236.583 2183.48,236.583 2185.57,236.583 \n  2187.66,236.583 2189.75,236.583 2191.84,236.583 2193.93,236.583 2196.03,236.583 2198.12,236.583 2200.21,236.583 2202.3,236.583 2204.39,236.583 2206.48,236.583 \n  2208.57,236.583 2210.66,236.583 2212.75,236.583 2214.84,236.583 2216.93,236.583 2219.02,236.583 2221.11,236.583 2223.2,236.583 2225.29,236.583 2227.38,236.583 \n  2229.47,236.583 2231.57,236.583 2233.66,236.583 2235.75,236.583 2237.84,236.583 2239.93,236.583 2242.02,236.583 2244.11,236.583 2246.2,236.583 2248.29,236.583 \n  2250.38,236.583 2252.47,236.583 2254.56,236.583 2256.65,236.583 2258.74,236.583 2260.83,236.583 2262.92,236.583 2265.01,236.583 2267.1,236.583 2269.2,236.583 \n  2271.29,236.583 2273.38,236.583 2275.47,236.583 2277.56,236.583 2279.65,236.583 2281.74,236.583 2283.83,236.583 2285.92,236.583 2288.01,236.583 2290.1,236.583 \n  \n  \"/>\n<path clip-path=\"url(#clip890)\" d=\"\nM1855.86 376.265 L2278.96 376.265 L2278.96 168.905 L1855.86 168.905  Z\n  \" fill=\"#ffffff\" fill-rule=\"evenodd\" fill-opacity=\"1\"/>\n<polyline clip-path=\"url(#clip890)\" style=\"stroke:#000000; stroke-linecap:butt; stroke-linejoin:round; stroke-width:4; stroke-opacity:1; fill:none\" points=\"\n  1855.86,376.265 2278.96,376.265 2278.96,168.905 1855.86,168.905 1855.86,376.265 \n  \"/>\n<polyline clip-path=\"url(#clip890)\" style=\"stroke:#009af9; stroke-linecap:butt; stroke-linejoin:round; stroke-width:4; stroke-opacity:1; fill:none\" points=\"\n  1880.45,220.745 2028.04,220.745 \n  \"/>\n<path clip-path=\"url(#clip890)\" d=\"M2057.31 207.307 L2057.31 220.293 L2063.19 220.293 Q2066.46 220.293 2068.24 218.603 Q2070.02 216.914 2070.02 213.789 Q2070.02 210.687 2068.24 208.997 Q2066.46 207.307 2063.19 207.307 L2057.31 207.307 M2052.64 203.465 L2063.19 203.465 Q2069 203.465 2071.97 206.104 Q2074.95 208.719 2074.95 213.789 Q2074.95 218.904 2071.97 221.52 Q2069 224.136 2063.19 224.136 L2057.31 224.136 L2057.31 238.025 L2052.64 238.025 L2052.64 203.465 Z\" fill=\"#000000\" fill-rule=\"evenodd\" fill-opacity=\"1\" /><path clip-path=\"url(#clip890)\" d=\"M2095.23 216.08 Q2094.51 215.664 2093.66 215.478 Q2092.82 215.27 2091.8 215.27 Q2088.19 215.27 2086.25 217.631 Q2084.33 219.969 2084.33 224.367 L2084.33 238.025 L2080.05 238.025 L2080.05 212.099 L2084.33 212.099 L2084.33 216.127 Q2085.67 213.766 2087.82 212.631 Q2089.98 211.474 2093.05 211.474 Q2093.49 211.474 2094.03 211.543 Q2094.56 211.59 2095.21 211.705 L2095.23 216.08 Z\" fill=\"#000000\" fill-rule=\"evenodd\" fill-opacity=\"1\" /><path clip-path=\"url(#clip890)\" d=\"M2099.7 212.099 L2103.96 212.099 L2103.96 238.025 L2099.7 238.025 L2099.7 212.099 M2099.7 202.006 L2103.96 202.006 L2103.96 207.4 L2099.7 207.4 L2099.7 202.006 Z\" fill=\"#000000\" fill-rule=\"evenodd\" fill-opacity=\"1\" /><path clip-path=\"url(#clip890)\" d=\"M2133.05 217.076 Q2134.65 214.205 2136.87 212.84 Q2139.1 211.474 2142.11 211.474 Q2146.16 211.474 2148.36 214.321 Q2150.55 217.145 2150.55 222.377 L2150.55 238.025 L2146.27 238.025 L2146.27 222.515 Q2146.27 218.789 2144.95 216.983 Q2143.63 215.178 2140.93 215.178 Q2137.61 215.178 2135.69 217.377 Q2133.77 219.576 2133.77 223.372 L2133.77 238.025 L2129.49 238.025 L2129.49 222.515 Q2129.49 218.765 2128.17 216.983 Q2126.85 215.178 2124.1 215.178 Q2120.83 215.178 2118.91 217.4 Q2116.99 219.599 2116.99 223.372 L2116.99 238.025 L2112.71 238.025 L2112.71 212.099 L2116.99 212.099 L2116.99 216.127 Q2118.45 213.742 2120.49 212.608 Q2122.52 211.474 2125.32 211.474 Q2128.15 211.474 2130.11 212.909 Q2132.11 214.344 2133.05 217.076 Z\" fill=\"#000000\" fill-rule=\"evenodd\" fill-opacity=\"1\" /><path clip-path=\"url(#clip890)\" d=\"M2170.83 224.992 Q2165.67 224.992 2163.68 226.173 Q2161.69 227.353 2161.69 230.201 Q2161.69 232.469 2163.17 233.812 Q2164.67 235.131 2167.24 235.131 Q2170.79 235.131 2172.92 232.631 Q2175.07 230.108 2175.07 225.941 L2175.07 224.992 L2170.83 224.992 M2179.33 223.233 L2179.33 238.025 L2175.07 238.025 L2175.07 234.089 Q2173.61 236.451 2171.43 237.585 Q2169.26 238.696 2166.11 238.696 Q2162.13 238.696 2159.77 236.474 Q2157.43 234.228 2157.43 230.478 Q2157.43 226.103 2160.35 223.881 Q2163.29 221.659 2169.1 221.659 L2175.07 221.659 L2175.07 221.242 Q2175.07 218.303 2173.12 216.705 Q2171.2 215.085 2167.71 215.085 Q2165.49 215.085 2163.38 215.617 Q2161.27 216.15 2159.33 217.215 L2159.33 213.279 Q2161.67 212.377 2163.86 211.937 Q2166.06 211.474 2168.15 211.474 Q2173.77 211.474 2176.55 214.391 Q2179.33 217.307 2179.33 223.233 Z\" fill=\"#000000\" fill-rule=\"evenodd\" fill-opacity=\"1\" /><path clip-path=\"url(#clip890)\" d=\"M2203.12 216.08 Q2202.41 215.664 2201.55 215.478 Q2200.72 215.27 2199.7 215.27 Q2196.09 215.27 2194.14 217.631 Q2192.22 219.969 2192.22 224.367 L2192.22 238.025 L2187.94 238.025 L2187.94 212.099 L2192.22 212.099 L2192.22 216.127 Q2193.56 213.766 2195.72 212.631 Q2197.87 211.474 2200.95 211.474 Q2201.39 211.474 2201.92 211.543 Q2202.45 211.59 2203.1 211.705 L2203.12 216.08 Z\" fill=\"#000000\" fill-rule=\"evenodd\" fill-opacity=\"1\" /><path clip-path=\"url(#clip890)\" d=\"M2218.38 240.432 Q2216.57 245.062 2214.86 246.474 Q2213.15 247.886 2210.28 247.886 L2206.87 247.886 L2206.87 244.321 L2209.37 244.321 Q2211.13 244.321 2212.11 243.488 Q2213.08 242.654 2214.26 239.552 L2215.02 237.608 L2204.54 212.099 L2209.05 212.099 L2217.15 232.377 L2225.25 212.099 L2229.77 212.099 L2218.38 240.432 Z\" fill=\"#000000\" fill-rule=\"evenodd\" fill-opacity=\"1\" /><polyline clip-path=\"url(#clip890)\" style=\"stroke:#e26f46; stroke-linecap:butt; stroke-linejoin:round; stroke-width:4; stroke-opacity:1; fill:none\" points=\"\n  1880.45,272.585 2028.04,272.585 \n  \"/>\n<path clip-path=\"url(#clip890)\" d=\"M2052.64 255.305 L2058.93 255.305 L2074.26 284.217 L2074.26 255.305 L2078.8 255.305 L2078.8 289.865 L2072.5 289.865 L2057.18 260.953 L2057.18 289.865 L2052.64 289.865 L2052.64 255.305 Z\" fill=\"#000000\" fill-rule=\"evenodd\" fill-opacity=\"1\" /><path clip-path=\"url(#clip890)\" d=\"M2097.96 266.925 Q2094.54 266.925 2092.55 269.61 Q2090.55 272.272 2090.55 276.925 Q2090.55 281.578 2092.52 284.263 Q2094.51 286.925 2097.96 286.925 Q2101.37 286.925 2103.36 284.24 Q2105.35 281.555 2105.35 276.925 Q2105.35 272.318 2103.36 269.633 Q2101.37 266.925 2097.96 266.925 M2097.96 263.314 Q2103.52 263.314 2106.69 266.925 Q2109.86 270.536 2109.86 276.925 Q2109.86 283.291 2106.69 286.925 Q2103.52 290.536 2097.96 290.536 Q2092.38 290.536 2089.21 286.925 Q2086.06 283.291 2086.06 276.925 Q2086.06 270.536 2089.21 266.925 Q2092.38 263.314 2097.96 263.314 Z\" fill=\"#000000\" fill-rule=\"evenodd\" fill-opacity=\"1\" /><path clip-path=\"url(#clip890)\" d=\"M2131.94 267.92 Q2131.23 267.504 2130.37 267.318 Q2129.54 267.11 2128.52 267.11 Q2124.91 267.11 2122.96 269.471 Q2121.04 271.809 2121.04 276.207 L2121.04 289.865 L2116.76 289.865 L2116.76 263.939 L2121.04 263.939 L2121.04 267.967 Q2122.38 265.606 2124.54 264.471 Q2126.69 263.314 2129.77 263.314 Q2130.21 263.314 2130.74 263.383 Q2131.27 263.43 2131.92 263.545 L2131.94 267.92 Z\" fill=\"#000000\" fill-rule=\"evenodd\" fill-opacity=\"1\" /><path clip-path=\"url(#clip890)\" d=\"M2155.76 268.916 Q2157.36 266.045 2159.58 264.68 Q2161.8 263.314 2164.81 263.314 Q2168.86 263.314 2171.06 266.161 Q2173.26 268.985 2173.26 274.217 L2173.26 289.865 L2168.98 289.865 L2168.98 274.355 Q2168.98 270.629 2167.66 268.823 Q2166.34 267.018 2163.63 267.018 Q2160.32 267.018 2158.4 269.217 Q2156.48 271.416 2156.48 275.212 L2156.48 289.865 L2152.2 289.865 L2152.2 274.355 Q2152.2 270.605 2150.88 268.823 Q2149.56 267.018 2146.8 267.018 Q2143.54 267.018 2141.62 269.24 Q2139.7 271.439 2139.7 275.212 L2139.7 289.865 L2135.42 289.865 L2135.42 263.939 L2139.7 263.939 L2139.7 267.967 Q2141.16 265.582 2143.19 264.448 Q2145.23 263.314 2148.03 263.314 Q2150.86 263.314 2152.82 264.749 Q2154.81 266.184 2155.76 268.916 Z\" fill=\"#000000\" fill-rule=\"evenodd\" fill-opacity=\"1\" /><path clip-path=\"url(#clip890)\" d=\"M2193.54 276.832 Q2188.38 276.832 2186.39 278.013 Q2184.4 279.193 2184.4 282.041 Q2184.4 284.309 2185.88 285.652 Q2187.38 286.971 2189.95 286.971 Q2193.49 286.971 2195.62 284.471 Q2197.78 281.948 2197.78 277.781 L2197.78 276.832 L2193.54 276.832 M2202.04 275.073 L2202.04 289.865 L2197.78 289.865 L2197.78 285.929 Q2196.32 288.291 2194.14 289.425 Q2191.97 290.536 2188.82 290.536 Q2184.84 290.536 2182.48 288.314 Q2180.14 286.068 2180.14 282.318 Q2180.14 277.943 2183.05 275.721 Q2185.99 273.499 2191.8 273.499 L2197.78 273.499 L2197.78 273.082 Q2197.78 270.143 2195.83 268.545 Q2193.91 266.925 2190.42 266.925 Q2188.19 266.925 2186.09 267.457 Q2183.98 267.99 2182.04 269.055 L2182.04 265.119 Q2184.37 264.217 2186.57 263.777 Q2188.77 263.314 2190.86 263.314 Q2196.48 263.314 2199.26 266.231 Q2202.04 269.147 2202.04 275.073 Z\" fill=\"#000000\" fill-rule=\"evenodd\" fill-opacity=\"1\" /><path clip-path=\"url(#clip890)\" d=\"M2210.81 253.846 L2215.07 253.846 L2215.07 289.865 L2210.81 289.865 L2210.81 253.846 Z\" fill=\"#000000\" fill-rule=\"evenodd\" fill-opacity=\"1\" /><polyline clip-path=\"url(#clip890)\" style=\"stroke:#3da44d; stroke-linecap:butt; stroke-linejoin:round; stroke-width:4; stroke-opacity:1; fill:none\" points=\"\n  1880.45,324.425 2028.04,324.425 \n  \"/>\n<path clip-path=\"url(#clip890)\" d=\"M2052.64 307.145 L2057.31 307.145 L2057.31 337.769 L2074.14 337.769 L2074.14 341.705 L2052.64 341.705 L2052.64 307.145 Z\" fill=\"#000000\" fill-rule=\"evenodd\" fill-opacity=\"1\" /><path clip-path=\"url(#clip890)\" d=\"M2077.59 331.473 L2077.59 315.779 L2081.85 315.779 L2081.85 331.311 Q2081.85 334.992 2083.29 336.844 Q2084.72 338.672 2087.59 338.672 Q2091.04 338.672 2093.03 336.473 Q2095.05 334.274 2095.05 330.478 L2095.05 315.779 L2099.3 315.779 L2099.3 341.705 L2095.05 341.705 L2095.05 337.723 Q2093.49 340.084 2091.43 341.242 Q2089.4 342.376 2086.69 342.376 Q2082.22 342.376 2079.91 339.598 Q2077.59 336.82 2077.59 331.473 M2088.31 315.154 L2088.31 315.154 Z\" fill=\"#000000\" fill-rule=\"evenodd\" fill-opacity=\"1\" /><path clip-path=\"url(#clip890)\" d=\"M2129.63 315.779 L2120.25 328.395 L2130.11 341.705 L2125.09 341.705 L2117.55 331.52 L2110 341.705 L2104.98 341.705 L2115.05 328.14 L2105.83 315.779 L2110.86 315.779 L2117.73 325.015 L2124.61 315.779 L2129.63 315.779 Z\" fill=\"#000000\" fill-rule=\"evenodd\" fill-opacity=\"1\" /><path clip-path=\"url(#clip890)\" d=\"M2135.69 331.473 L2135.69 315.779 L2139.95 315.779 L2139.95 331.311 Q2139.95 334.992 2141.39 336.844 Q2142.82 338.672 2145.69 338.672 Q2149.14 338.672 2151.13 336.473 Q2153.15 334.274 2153.15 330.478 L2153.15 315.779 L2157.41 315.779 L2157.41 341.705 L2153.15 341.705 L2153.15 337.723 Q2151.6 340.084 2149.54 341.242 Q2147.5 342.376 2144.79 342.376 Q2140.32 342.376 2138.01 339.598 Q2135.69 336.82 2135.69 331.473 M2146.41 315.154 L2146.41 315.154 Z\" fill=\"#000000\" fill-rule=\"evenodd\" fill-opacity=\"1\" /><path clip-path=\"url(#clip890)\" d=\"M2181.2 319.76 Q2180.49 319.344 2179.63 319.158 Q2178.8 318.95 2177.78 318.95 Q2174.17 318.95 2172.22 321.311 Q2170.3 323.649 2170.3 328.047 L2170.3 341.705 L2166.02 341.705 L2166.02 315.779 L2170.3 315.779 L2170.3 319.807 Q2171.64 317.446 2173.8 316.311 Q2175.95 315.154 2179.03 315.154 Q2179.47 315.154 2180 315.223 Q2180.53 315.27 2181.18 315.385 L2181.2 319.76 Z\" fill=\"#000000\" fill-rule=\"evenodd\" fill-opacity=\"1\" /><path clip-path=\"url(#clip890)\" d=\"M2196.46 344.112 Q2194.65 348.742 2192.94 350.154 Q2191.23 351.566 2188.36 351.566 L2184.95 351.566 L2184.95 348.001 L2187.45 348.001 Q2189.21 348.001 2190.18 347.168 Q2191.16 346.334 2192.34 343.232 L2193.1 341.288 L2182.61 315.779 L2187.13 315.779 L2195.23 336.057 L2203.33 315.779 L2207.85 315.779 L2196.46 344.112 Z\" fill=\"#000000\" fill-rule=\"evenodd\" fill-opacity=\"1\" /></svg>\n",
      "text/html": [
       "<?xml version=\"1.0\" encoding=\"utf-8\"?>\n",
       "<svg xmlns=\"http://www.w3.org/2000/svg\" xmlns:xlink=\"http://www.w3.org/1999/xlink\" width=\"600\" height=\"400\" viewBox=\"0 0 2400 1600\">\n",
       "<defs>\n",
       "  <clipPath id=\"clip940\">\n",
       "    <rect x=\"0\" y=\"0\" width=\"2400\" height=\"1600\"/>\n",
       "  </clipPath>\n",
       "</defs>\n",
       "<path clip-path=\"url(#clip940)\" d=\"\n",
       "M0 1600 L2400 1600 L2400 0 L0 0  Z\n",
       "  \" fill=\"#ffffff\" fill-rule=\"evenodd\" fill-opacity=\"1\"/>\n",
       "<defs>\n",
       "  <clipPath id=\"clip941\">\n",
       "    <rect x=\"480\" y=\"0\" width=\"1681\" height=\"1600\"/>\n",
       "  </clipPath>\n",
       "</defs>\n",
       "<path clip-path=\"url(#clip940)\" d=\"\n",
       "M138.959 1486.45 L2352.76 1486.45 L2352.76 123.472 L138.959 123.472  Z\n",
       "  \" fill=\"#ffffff\" fill-rule=\"evenodd\" fill-opacity=\"1\"/>\n",
       "<defs>\n",
       "  <clipPath id=\"clip942\">\n",
       "    <rect x=\"138\" y=\"123\" width=\"2215\" height=\"1364\"/>\n",
       "  </clipPath>\n",
       "</defs>\n",
       "<polyline clip-path=\"url(#clip942)\" style=\"stroke:#000000; stroke-linecap:butt; stroke-linejoin:round; stroke-width:2; stroke-opacity:0.1; fill:none\" points=\"\n",
       "  199.523,1486.45 199.523,123.472 \n",
       "  \"/>\n",
       "<polyline clip-path=\"url(#clip942)\" style=\"stroke:#000000; stroke-linecap:butt; stroke-linejoin:round; stroke-width:2; stroke-opacity:0.1; fill:none\" points=\"\n",
       "  722.168,1486.45 722.168,123.472 \n",
       "  \"/>\n",
       "<polyline clip-path=\"url(#clip942)\" style=\"stroke:#000000; stroke-linecap:butt; stroke-linejoin:round; stroke-width:2; stroke-opacity:0.1; fill:none\" points=\"\n",
       "  1244.81,1486.45 1244.81,123.472 \n",
       "  \"/>\n",
       "<polyline clip-path=\"url(#clip942)\" style=\"stroke:#000000; stroke-linecap:butt; stroke-linejoin:round; stroke-width:2; stroke-opacity:0.1; fill:none\" points=\"\n",
       "  1767.46,1486.45 1767.46,123.472 \n",
       "  \"/>\n",
       "<polyline clip-path=\"url(#clip942)\" style=\"stroke:#000000; stroke-linecap:butt; stroke-linejoin:round; stroke-width:2; stroke-opacity:0.1; fill:none\" points=\"\n",
       "  2290.1,1486.45 2290.1,123.472 \n",
       "  \"/>\n",
       "<polyline clip-path=\"url(#clip940)\" style=\"stroke:#000000; stroke-linecap:butt; stroke-linejoin:round; stroke-width:4; stroke-opacity:1; fill:none\" points=\"\n",
       "  138.959,1486.45 2352.76,1486.45 \n",
       "  \"/>\n",
       "<polyline clip-path=\"url(#clip940)\" style=\"stroke:#000000; stroke-linecap:butt; stroke-linejoin:round; stroke-width:4; stroke-opacity:1; fill:none\" points=\"\n",
       "  199.523,1486.45 199.523,1467.55 \n",
       "  \"/>\n",
       "<polyline clip-path=\"url(#clip940)\" style=\"stroke:#000000; stroke-linecap:butt; stroke-linejoin:round; stroke-width:4; stroke-opacity:1; fill:none\" points=\"\n",
       "  722.168,1486.45 722.168,1467.55 \n",
       "  \"/>\n",
       "<polyline clip-path=\"url(#clip940)\" style=\"stroke:#000000; stroke-linecap:butt; stroke-linejoin:round; stroke-width:4; stroke-opacity:1; fill:none\" points=\"\n",
       "  1244.81,1486.45 1244.81,1467.55 \n",
       "  \"/>\n",
       "<polyline clip-path=\"url(#clip940)\" style=\"stroke:#000000; stroke-linecap:butt; stroke-linejoin:round; stroke-width:4; stroke-opacity:1; fill:none\" points=\"\n",
       "  1767.46,1486.45 1767.46,1467.55 \n",
       "  \"/>\n",
       "<polyline clip-path=\"url(#clip940)\" style=\"stroke:#000000; stroke-linecap:butt; stroke-linejoin:round; stroke-width:4; stroke-opacity:1; fill:none\" points=\"\n",
       "  2290.1,1486.45 2290.1,1467.55 \n",
       "  \"/>\n",
       "<path clip-path=\"url(#clip940)\" d=\"M199.523 1517.37 Q195.912 1517.37 194.084 1520.93 Q192.278 1524.47 192.278 1531.6 Q192.278 1538.71 194.084 1542.27 Q195.912 1545.82 199.523 1545.82 Q203.158 1545.82 204.963 1542.27 Q206.792 1538.71 206.792 1531.6 Q206.792 1524.47 204.963 1520.93 Q203.158 1517.37 199.523 1517.37 M199.523 1513.66 Q205.334 1513.66 208.389 1518.27 Q211.468 1522.85 211.468 1531.6 Q211.468 1540.33 208.389 1544.94 Q205.334 1549.52 199.523 1549.52 Q193.713 1549.52 190.635 1544.94 Q187.579 1540.33 187.579 1531.6 Q187.579 1522.85 190.635 1518.27 Q193.713 1513.66 199.523 1513.66 Z\" fill=\"#000000\" fill-rule=\"evenodd\" fill-opacity=\"1\" /><path clip-path=\"url(#clip940)\" d=\"M685.86 1544.91 L702.18 1544.91 L702.18 1548.85 L680.235 1548.85 L680.235 1544.91 Q682.897 1542.16 687.481 1537.53 Q692.087 1532.88 693.268 1531.53 Q695.513 1529.01 696.393 1527.27 Q697.295 1525.51 697.295 1523.82 Q697.295 1521.07 695.351 1519.33 Q693.43 1517.6 690.328 1517.6 Q688.129 1517.6 685.675 1518.36 Q683.245 1519.13 680.467 1520.68 L680.467 1515.95 Q683.291 1514.82 685.745 1514.24 Q688.198 1513.66 690.235 1513.66 Q695.606 1513.66 698.8 1516.35 Q701.994 1519.03 701.994 1523.52 Q701.994 1525.65 701.184 1527.57 Q700.397 1529.47 698.291 1532.07 Q697.712 1532.74 694.61 1535.95 Q691.508 1539.15 685.86 1544.91 Z\" fill=\"#000000\" fill-rule=\"evenodd\" fill-opacity=\"1\" /><path clip-path=\"url(#clip940)\" d=\"M712.041 1514.29 L730.397 1514.29 L730.397 1518.22 L716.323 1518.22 L716.323 1526.7 Q717.342 1526.35 718.36 1526.19 Q719.379 1526 720.397 1526 Q726.184 1526 729.564 1529.17 Q732.943 1532.34 732.943 1537.76 Q732.943 1543.34 729.471 1546.44 Q725.999 1549.52 719.68 1549.52 Q717.504 1549.52 715.235 1549.15 Q712.99 1548.78 710.582 1548.04 L710.582 1543.34 Q712.666 1544.47 714.888 1545.03 Q717.11 1545.58 719.587 1545.58 Q723.592 1545.58 725.929 1543.48 Q728.267 1541.37 728.267 1537.76 Q728.267 1534.15 725.929 1532.04 Q723.592 1529.94 719.587 1529.94 Q717.712 1529.94 715.837 1530.35 Q713.985 1530.77 712.041 1531.65 L712.041 1514.29 Z\" fill=\"#000000\" fill-rule=\"evenodd\" fill-opacity=\"1\" /><path clip-path=\"url(#clip940)\" d=\"M752.156 1517.37 Q748.545 1517.37 746.716 1520.93 Q744.911 1524.47 744.911 1531.6 Q744.911 1538.71 746.716 1542.27 Q748.545 1545.82 752.156 1545.82 Q755.79 1545.82 757.596 1542.27 Q759.425 1538.71 759.425 1531.6 Q759.425 1524.47 757.596 1520.93 Q755.79 1517.37 752.156 1517.37 M752.156 1513.66 Q757.966 1513.66 761.022 1518.27 Q764.101 1522.85 764.101 1531.6 Q764.101 1540.33 761.022 1544.94 Q757.966 1549.52 752.156 1549.52 Q746.346 1549.52 743.267 1544.94 Q740.212 1540.33 740.212 1531.6 Q740.212 1522.85 743.267 1518.27 Q746.346 1513.66 752.156 1513.66 Z\" fill=\"#000000\" fill-rule=\"evenodd\" fill-opacity=\"1\" /><path clip-path=\"url(#clip940)\" d=\"M1204.43 1514.29 L1222.79 1514.29 L1222.79 1518.22 L1208.71 1518.22 L1208.71 1526.7 Q1209.73 1526.35 1210.75 1526.19 Q1211.77 1526 1212.79 1526 Q1218.57 1526 1221.95 1529.17 Q1225.33 1532.34 1225.33 1537.76 Q1225.33 1543.34 1221.86 1546.44 Q1218.39 1549.52 1212.07 1549.52 Q1209.89 1549.52 1207.63 1549.15 Q1205.38 1548.78 1202.97 1548.04 L1202.97 1543.34 Q1205.06 1544.47 1207.28 1545.03 Q1209.5 1545.58 1211.98 1545.58 Q1215.98 1545.58 1218.32 1543.48 Q1220.66 1541.37 1220.66 1537.76 Q1220.66 1534.15 1218.32 1532.04 Q1215.98 1529.94 1211.98 1529.94 Q1210.1 1529.94 1208.23 1530.35 Q1206.38 1530.77 1204.43 1531.65 L1204.43 1514.29 Z\" fill=\"#000000\" fill-rule=\"evenodd\" fill-opacity=\"1\" /><path clip-path=\"url(#clip940)\" d=\"M1244.55 1517.37 Q1240.94 1517.37 1239.11 1520.93 Q1237.3 1524.47 1237.3 1531.6 Q1237.3 1538.71 1239.11 1542.27 Q1240.94 1545.82 1244.55 1545.82 Q1248.18 1545.82 1249.99 1542.27 Q1251.81 1538.71 1251.81 1531.6 Q1251.81 1524.47 1249.99 1520.93 Q1248.18 1517.37 1244.55 1517.37 M1244.55 1513.66 Q1250.36 1513.66 1253.41 1518.27 Q1256.49 1522.85 1256.49 1531.6 Q1256.49 1540.33 1253.41 1544.94 Q1250.36 1549.52 1244.55 1549.52 Q1238.74 1549.52 1235.66 1544.94 Q1232.6 1540.33 1232.6 1531.6 Q1232.6 1522.85 1235.66 1518.27 Q1238.74 1513.66 1244.55 1513.66 Z\" fill=\"#000000\" fill-rule=\"evenodd\" fill-opacity=\"1\" /><path clip-path=\"url(#clip940)\" d=\"M1274.71 1517.37 Q1271.1 1517.37 1269.27 1520.93 Q1267.46 1524.47 1267.46 1531.6 Q1267.46 1538.71 1269.27 1542.27 Q1271.1 1545.82 1274.71 1545.82 Q1278.34 1545.82 1280.15 1542.27 Q1281.98 1538.71 1281.98 1531.6 Q1281.98 1524.47 1280.15 1520.93 Q1278.34 1517.37 1274.71 1517.37 M1274.71 1513.66 Q1280.52 1513.66 1283.57 1518.27 Q1286.65 1522.85 1286.65 1531.6 Q1286.65 1540.33 1283.57 1544.94 Q1280.52 1549.52 1274.71 1549.52 Q1268.9 1549.52 1265.82 1544.94 Q1262.76 1540.33 1262.76 1531.6 Q1262.76 1522.85 1265.82 1518.27 Q1268.9 1513.66 1274.71 1513.66 Z\" fill=\"#000000\" fill-rule=\"evenodd\" fill-opacity=\"1\" /><path clip-path=\"url(#clip940)\" d=\"M1725.73 1514.29 L1747.95 1514.29 L1747.95 1516.28 L1735.41 1548.85 L1730.52 1548.85 L1742.33 1518.22 L1725.73 1518.22 L1725.73 1514.29 Z\" fill=\"#000000\" fill-rule=\"evenodd\" fill-opacity=\"1\" /><path clip-path=\"url(#clip940)\" d=\"M1757.12 1514.29 L1775.48 1514.29 L1775.48 1518.22 L1761.4 1518.22 L1761.4 1526.7 Q1762.42 1526.35 1763.44 1526.19 Q1764.46 1526 1765.48 1526 Q1771.26 1526 1774.64 1529.17 Q1778.02 1532.34 1778.02 1537.76 Q1778.02 1543.34 1774.55 1546.44 Q1771.08 1549.52 1764.76 1549.52 Q1762.58 1549.52 1760.32 1549.15 Q1758.07 1548.78 1755.66 1548.04 L1755.66 1543.34 Q1757.75 1544.47 1759.97 1545.03 Q1762.19 1545.58 1764.67 1545.58 Q1768.67 1545.58 1771.01 1543.48 Q1773.35 1541.37 1773.35 1537.76 Q1773.35 1534.15 1771.01 1532.04 Q1768.67 1529.94 1764.67 1529.94 Q1762.79 1529.94 1760.92 1530.35 Q1759.07 1530.77 1757.12 1531.65 L1757.12 1514.29 Z\" fill=\"#000000\" fill-rule=\"evenodd\" fill-opacity=\"1\" /><path clip-path=\"url(#clip940)\" d=\"M1797.24 1517.37 Q1793.63 1517.37 1791.8 1520.93 Q1789.99 1524.47 1789.99 1531.6 Q1789.99 1538.71 1791.8 1542.27 Q1793.63 1545.82 1797.24 1545.82 Q1800.87 1545.82 1802.68 1542.27 Q1804.51 1538.71 1804.51 1531.6 Q1804.51 1524.47 1802.68 1520.93 Q1800.87 1517.37 1797.24 1517.37 M1797.24 1513.66 Q1803.05 1513.66 1806.1 1518.27 Q1809.18 1522.85 1809.18 1531.6 Q1809.18 1540.33 1806.1 1544.94 Q1803.05 1549.52 1797.24 1549.52 Q1791.43 1549.52 1788.35 1544.94 Q1785.29 1540.33 1785.29 1531.6 Q1785.29 1522.85 1788.35 1518.27 Q1791.43 1513.66 1797.24 1513.66 Z\" fill=\"#000000\" fill-rule=\"evenodd\" fill-opacity=\"1\" /><path clip-path=\"url(#clip940)\" d=\"M2234.63 1544.91 L2242.27 1544.91 L2242.27 1518.55 L2233.96 1520.21 L2233.96 1515.95 L2242.22 1514.29 L2246.9 1514.29 L2246.9 1544.91 L2254.53 1544.91 L2254.53 1548.85 L2234.63 1548.85 L2234.63 1544.91 Z\" fill=\"#000000\" fill-rule=\"evenodd\" fill-opacity=\"1\" /><path clip-path=\"url(#clip940)\" d=\"M2273.98 1517.37 Q2270.37 1517.37 2268.54 1520.93 Q2266.73 1524.47 2266.73 1531.6 Q2266.73 1538.71 2268.54 1542.27 Q2270.37 1545.82 2273.98 1545.82 Q2277.61 1545.82 2279.42 1542.27 Q2281.25 1538.71 2281.25 1531.6 Q2281.25 1524.47 2279.42 1520.93 Q2277.61 1517.37 2273.98 1517.37 M2273.98 1513.66 Q2279.79 1513.66 2282.84 1518.27 Q2285.92 1522.85 2285.92 1531.6 Q2285.92 1540.33 2282.84 1544.94 Q2279.79 1549.52 2273.98 1549.52 Q2268.17 1549.52 2265.09 1544.94 Q2262.03 1540.33 2262.03 1531.6 Q2262.03 1522.85 2265.09 1518.27 Q2268.17 1513.66 2273.98 1513.66 Z\" fill=\"#000000\" fill-rule=\"evenodd\" fill-opacity=\"1\" /><path clip-path=\"url(#clip940)\" d=\"M2304.14 1517.37 Q2300.53 1517.37 2298.7 1520.93 Q2296.9 1524.47 2296.9 1531.6 Q2296.9 1538.71 2298.7 1542.27 Q2300.53 1545.82 2304.14 1545.82 Q2307.77 1545.82 2309.58 1542.27 Q2311.41 1538.71 2311.41 1531.6 Q2311.41 1524.47 2309.58 1520.93 Q2307.77 1517.37 2304.14 1517.37 M2304.14 1513.66 Q2309.95 1513.66 2313.01 1518.27 Q2316.08 1522.85 2316.08 1531.6 Q2316.08 1540.33 2313.01 1544.94 Q2309.95 1549.52 2304.14 1549.52 Q2298.33 1549.52 2295.25 1544.94 Q2292.2 1540.33 2292.2 1531.6 Q2292.2 1522.85 2295.25 1518.27 Q2298.33 1513.66 2304.14 1513.66 Z\" fill=\"#000000\" fill-rule=\"evenodd\" fill-opacity=\"1\" /><path clip-path=\"url(#clip940)\" d=\"M2334.3 1517.37 Q2330.69 1517.37 2328.86 1520.93 Q2327.06 1524.47 2327.06 1531.6 Q2327.06 1538.71 2328.86 1542.27 Q2330.69 1545.82 2334.3 1545.82 Q2337.94 1545.82 2339.74 1542.27 Q2341.57 1538.71 2341.57 1531.6 Q2341.57 1524.47 2339.74 1520.93 Q2337.94 1517.37 2334.3 1517.37 M2334.3 1513.66 Q2340.11 1513.66 2343.17 1518.27 Q2346.25 1522.85 2346.25 1531.6 Q2346.25 1540.33 2343.17 1544.94 Q2340.11 1549.52 2334.3 1549.52 Q2328.49 1549.52 2325.41 1544.94 Q2322.36 1540.33 2322.36 1531.6 Q2322.36 1522.85 2325.41 1518.27 Q2328.49 1513.66 2334.3 1513.66 Z\" fill=\"#000000\" fill-rule=\"evenodd\" fill-opacity=\"1\" /><polyline clip-path=\"url(#clip942)\" style=\"stroke:#000000; stroke-linecap:butt; stroke-linejoin:round; stroke-width:2; stroke-opacity:0.1; fill:none\" points=\"\n",
       "  138.959,1366.1 2352.76,1366.1 \n",
       "  \"/>\n",
       "<polyline clip-path=\"url(#clip942)\" style=\"stroke:#000000; stroke-linecap:butt; stroke-linejoin:round; stroke-width:2; stroke-opacity:0.1; fill:none\" points=\"\n",
       "  138.959,1073.33 2352.76,1073.33 \n",
       "  \"/>\n",
       "<polyline clip-path=\"url(#clip942)\" style=\"stroke:#000000; stroke-linecap:butt; stroke-linejoin:round; stroke-width:2; stroke-opacity:0.1; fill:none\" points=\"\n",
       "  138.959,780.563 2352.76,780.563 \n",
       "  \"/>\n",
       "<polyline clip-path=\"url(#clip942)\" style=\"stroke:#000000; stroke-linecap:butt; stroke-linejoin:round; stroke-width:2; stroke-opacity:0.1; fill:none\" points=\"\n",
       "  138.959,487.793 2352.76,487.793 \n",
       "  \"/>\n",
       "<polyline clip-path=\"url(#clip942)\" style=\"stroke:#000000; stroke-linecap:butt; stroke-linejoin:round; stroke-width:2; stroke-opacity:0.1; fill:none\" points=\"\n",
       "  138.959,195.024 2352.76,195.024 \n",
       "  \"/>\n",
       "<polyline clip-path=\"url(#clip940)\" style=\"stroke:#000000; stroke-linecap:butt; stroke-linejoin:round; stroke-width:4; stroke-opacity:1; fill:none\" points=\"\n",
       "  138.959,1486.45 138.959,123.472 \n",
       "  \"/>\n",
       "<polyline clip-path=\"url(#clip940)\" style=\"stroke:#000000; stroke-linecap:butt; stroke-linejoin:round; stroke-width:4; stroke-opacity:1; fill:none\" points=\"\n",
       "  138.959,1366.1 157.857,1366.1 \n",
       "  \"/>\n",
       "<polyline clip-path=\"url(#clip940)\" style=\"stroke:#000000; stroke-linecap:butt; stroke-linejoin:round; stroke-width:4; stroke-opacity:1; fill:none\" points=\"\n",
       "  138.959,1073.33 157.857,1073.33 \n",
       "  \"/>\n",
       "<polyline clip-path=\"url(#clip940)\" style=\"stroke:#000000; stroke-linecap:butt; stroke-linejoin:round; stroke-width:4; stroke-opacity:1; fill:none\" points=\"\n",
       "  138.959,780.563 157.857,780.563 \n",
       "  \"/>\n",
       "<polyline clip-path=\"url(#clip940)\" style=\"stroke:#000000; stroke-linecap:butt; stroke-linejoin:round; stroke-width:4; stroke-opacity:1; fill:none\" points=\"\n",
       "  138.959,487.793 157.857,487.793 \n",
       "  \"/>\n",
       "<polyline clip-path=\"url(#clip940)\" style=\"stroke:#000000; stroke-linecap:butt; stroke-linejoin:round; stroke-width:4; stroke-opacity:1; fill:none\" points=\"\n",
       "  138.959,195.024 157.857,195.024 \n",
       "  \"/>\n",
       "<path clip-path=\"url(#clip940)\" d=\"M86.6401 1379.45 L102.959 1379.45 L102.959 1383.38 L81.0151 1383.38 L81.0151 1379.45 Q83.6771 1376.69 88.2604 1372.06 Q92.8669 1367.41 94.0475 1366.07 Q96.2928 1363.54 97.1724 1361.81 Q98.0752 1360.05 98.0752 1358.36 Q98.0752 1355.6 96.1308 1353.87 Q94.2095 1352.13 91.1077 1352.13 Q88.9086 1352.13 86.4549 1352.9 Q84.0244 1353.66 81.2466 1355.21 L81.2466 1350.49 Q84.0707 1349.35 86.5243 1348.78 Q88.978 1348.2 91.0151 1348.2 Q96.3854 1348.2 99.5798 1350.88 Q102.774 1353.57 102.774 1358.06 Q102.774 1360.19 101.964 1362.11 Q101.177 1364.01 99.0706 1366.6 Q98.4919 1367.27 95.39 1370.49 Q92.2882 1373.68 86.6401 1379.45 Z\" fill=\"#000000\" fill-rule=\"evenodd\" fill-opacity=\"1\" /><path clip-path=\"url(#clip940)\" d=\"M93.3762 1060.13 L81.5707 1078.58 L93.3762 1078.58 L93.3762 1060.13 M92.1493 1056.05 L98.0289 1056.05 L98.0289 1078.58 L102.959 1078.58 L102.959 1082.46 L98.0289 1082.46 L98.0289 1090.61 L93.3762 1090.61 L93.3762 1082.46 L77.7744 1082.46 L77.7744 1077.95 L92.1493 1056.05 Z\" fill=\"#000000\" fill-rule=\"evenodd\" fill-opacity=\"1\" /><path clip-path=\"url(#clip940)\" d=\"M91.4317 778.699 Q88.2836 778.699 86.4318 780.852 Q84.6031 783.005 84.6031 786.755 Q84.6031 790.482 86.4318 792.658 Q88.2836 794.81 91.4317 794.81 Q94.5799 794.81 96.4085 792.658 Q98.2604 790.482 98.2604 786.755 Q98.2604 783.005 96.4085 780.852 Q94.5799 778.699 91.4317 778.699 M100.714 764.047 L100.714 768.306 Q98.9548 767.472 97.1493 767.033 Q95.3669 766.593 93.6076 766.593 Q88.978 766.593 86.5243 769.718 Q84.0938 772.843 83.7466 779.162 Q85.1123 777.148 87.1725 776.084 Q89.2327 774.996 91.7095 774.996 Q96.9178 774.996 99.927 778.167 Q102.959 781.315 102.959 786.755 Q102.959 792.079 99.8113 795.296 Q96.6632 798.514 91.4317 798.514 Q85.4364 798.514 82.2651 793.931 Q79.0938 789.324 79.0938 780.597 Q79.0938 772.403 82.9827 767.542 Q86.8716 762.658 93.4225 762.658 Q95.1817 762.658 96.9641 763.005 Q98.7696 763.352 100.714 764.047 Z\" fill=\"#000000\" fill-rule=\"evenodd\" fill-opacity=\"1\" /><path clip-path=\"url(#clip940)\" d=\"M91.1077 488.661 Q87.7743 488.661 85.8531 490.444 Q83.9549 492.226 83.9549 495.351 Q83.9549 498.476 85.8531 500.259 Q87.7743 502.041 91.1077 502.041 Q94.441 502.041 96.3623 500.259 Q98.2835 498.453 98.2835 495.351 Q98.2835 492.226 96.3623 490.444 Q94.4641 488.661 91.1077 488.661 M86.4318 486.671 Q83.4225 485.93 81.7327 483.87 Q80.066 481.81 80.066 478.847 Q80.066 474.703 83.0058 472.296 Q85.9688 469.888 91.1077 469.888 Q96.2697 469.888 99.2095 472.296 Q102.149 474.703 102.149 478.847 Q102.149 481.81 100.459 483.87 Q98.7928 485.93 95.8067 486.671 Q99.1863 487.458 101.061 489.749 Q102.959 492.041 102.959 495.351 Q102.959 500.374 99.8808 503.059 Q96.8252 505.745 91.1077 505.745 Q85.3901 505.745 82.3114 503.059 Q79.2559 500.374 79.2559 495.351 Q79.2559 492.041 81.154 489.749 Q83.0521 487.458 86.4318 486.671 M84.7188 479.286 Q84.7188 481.972 86.3855 483.476 Q88.0753 484.981 91.1077 484.981 Q94.1169 484.981 95.8067 483.476 Q97.5197 481.972 97.5197 479.286 Q97.5197 476.601 95.8067 475.097 Q94.1169 473.592 91.1077 473.592 Q88.0753 473.592 86.3855 475.097 Q84.7188 476.601 84.7188 479.286 Z\" fill=\"#000000\" fill-rule=\"evenodd\" fill-opacity=\"1\" /><path clip-path=\"url(#clip940)\" d=\"M51.6634 208.369 L59.3023 208.369 L59.3023 182.003 L50.9921 183.67 L50.9921 179.411 L59.256 177.744 L63.9319 177.744 L63.9319 208.369 L71.5707 208.369 L71.5707 212.304 L51.6634 212.304 L51.6634 208.369 Z\" fill=\"#000000\" fill-rule=\"evenodd\" fill-opacity=\"1\" /><path clip-path=\"url(#clip940)\" d=\"M91.0151 180.823 Q87.404 180.823 85.5753 184.388 Q83.7697 187.929 83.7697 195.059 Q83.7697 202.165 85.5753 205.73 Q87.404 209.272 91.0151 209.272 Q94.6493 209.272 96.4548 205.73 Q98.2835 202.165 98.2835 195.059 Q98.2835 187.929 96.4548 184.388 Q94.6493 180.823 91.0151 180.823 M91.0151 177.119 Q96.8252 177.119 99.8808 181.725 Q102.959 186.309 102.959 195.059 Q102.959 203.786 99.8808 208.392 Q96.8252 212.975 91.0151 212.975 Q85.2049 212.975 82.1262 208.392 Q79.0707 203.786 79.0707 195.059 Q79.0707 186.309 82.1262 181.725 Q85.2049 177.119 91.0151 177.119 Z\" fill=\"#000000\" fill-rule=\"evenodd\" fill-opacity=\"1\" /><path clip-path=\"url(#clip940)\" d=\"M750.371 63.9476 L750.371 47.7034 L737.003 47.7034 L737.003 40.9789 L758.473 40.9789 L758.473 66.9452 Q753.734 70.3075 748.022 72.0494 Q742.31 73.7508 735.829 73.7508 Q721.65 73.7508 713.63 65.4869 Q705.649 57.1826 705.649 42.3968 Q705.649 27.5705 713.63 19.3066 Q721.65 11.0023 735.829 11.0023 Q741.743 11.0023 747.05 12.4606 Q752.397 13.9189 756.893 16.7545 L756.893 25.464 Q752.356 21.6156 747.252 19.6712 Q742.148 17.7268 736.517 17.7268 Q725.418 17.7268 719.828 23.9246 Q714.278 30.1225 714.278 42.3968 Q714.278 54.6305 719.828 60.8284 Q725.418 67.0263 736.517 67.0263 Q740.852 67.0263 744.254 66.2971 Q747.657 65.5274 750.371 63.9476 Z\" fill=\"#000000\" fill-rule=\"evenodd\" fill-opacity=\"1\" /><path clip-path=\"url(#clip940)\" d=\"M773.421 12.096 L811.662 12.096 L811.662 18.9825 L781.604 18.9825 L781.604 36.8875 L810.406 36.8875 L810.406 43.7741 L781.604 43.7741 L781.604 65.6895 L812.391 65.6895 L812.391 72.576 L773.421 72.576 L773.421 12.096 Z\" fill=\"#000000\" fill-rule=\"evenodd\" fill-opacity=\"1\" /><path clip-path=\"url(#clip940)\" d=\"M859.098 65.7705 L859.098 89.8329 L851.603 89.8329 L851.603 27.2059 L859.098 27.2059 L859.098 34.0924 Q861.447 30.0415 865.012 28.0971 Q868.617 26.1121 873.6 26.1121 Q881.864 26.1121 887.008 32.6746 Q892.193 39.2371 892.193 49.9314 Q892.193 60.6258 887.008 67.1883 Q881.864 73.7508 873.6 73.7508 Q868.617 73.7508 865.012 71.8063 Q861.447 69.8214 859.098 65.7705 M884.456 49.9314 Q884.456 41.7081 881.053 37.0496 Q877.691 32.3505 871.777 32.3505 Q865.863 32.3505 862.46 37.0496 Q859.098 41.7081 859.098 49.9314 Q859.098 58.1548 862.46 62.8538 Q865.863 67.5124 871.777 67.5124 Q877.691 67.5124 881.053 62.8538 Q884.456 58.1548 884.456 49.9314 Z\" fill=\"#000000\" fill-rule=\"evenodd\" fill-opacity=\"1\" /><path clip-path=\"url(#clip940)\" d=\"M930.839 34.1734 Q929.583 33.4443 928.084 33.1202 Q926.626 32.7556 924.844 32.7556 Q918.524 32.7556 915.122 36.8875 Q911.759 40.9789 911.759 48.6757 L911.759 72.576 L904.265 72.576 L904.265 27.2059 L911.759 27.2059 L911.759 34.2544 Q914.109 30.1225 917.876 28.1376 Q921.644 26.1121 927.031 26.1121 Q927.801 26.1121 928.733 26.2337 Q929.664 26.3147 930.799 26.5172 L930.839 34.1734 Z\" fill=\"#000000\" fill-rule=\"evenodd\" fill-opacity=\"1\" /><path clip-path=\"url(#clip940)\" d=\"M938.657 27.2059 L946.111 27.2059 L946.111 72.576 L938.657 72.576 L938.657 27.2059 M938.657 9.54393 L946.111 9.54393 L946.111 18.9825 L938.657 18.9825 L938.657 9.54393 Z\" fill=\"#000000\" fill-rule=\"evenodd\" fill-opacity=\"1\" /><path clip-path=\"url(#clip940)\" d=\"M994.357 28.9478 L994.357 35.9153 Q991.198 34.1734 987.997 33.3227 Q984.838 32.4315 981.597 32.4315 Q974.346 32.4315 970.335 37.0496 Q966.325 41.6271 966.325 49.9314 Q966.325 58.2358 970.335 62.8538 Q974.346 67.4314 981.597 67.4314 Q984.838 67.4314 987.997 66.5807 Q991.198 65.6895 994.357 63.9476 L994.357 70.8341 Q991.238 72.2924 987.876 73.0216 Q984.554 73.7508 980.787 73.7508 Q970.538 73.7508 964.502 67.3098 Q958.466 60.8689 958.466 49.9314 Q958.466 38.832 964.543 32.472 Q970.659 26.1121 981.273 26.1121 Q984.716 26.1121 987.997 26.8413 Q991.279 27.5299 994.357 28.9478 Z\" fill=\"#000000\" fill-rule=\"evenodd\" fill-opacity=\"1\" /><path clip-path=\"url(#clip940)\" d=\"M1046.13 48.0275 L1046.13 51.6733 L1011.86 51.6733 Q1012.34 59.3701 1016.48 63.421 Q1020.65 67.4314 1028.06 67.4314 Q1032.35 67.4314 1036.37 66.3781 Q1040.42 65.3249 1044.39 63.2184 L1044.39 70.267 Q1040.38 71.9684 1036.16 72.8596 Q1031.95 73.7508 1027.62 73.7508 Q1016.76 73.7508 1010.4 67.4314 Q1004.08 61.1119 1004.08 50.3365 Q1004.08 39.1965 1010.07 32.6746 Q1016.11 26.1121 1026.32 26.1121 Q1035.47 26.1121 1040.78 32.0264 Q1046.13 37.9003 1046.13 48.0275 M1038.67 45.84 Q1038.59 39.7232 1035.23 36.0774 Q1031.91 32.4315 1026.4 32.4315 Q1020.16 32.4315 1016.39 35.9558 Q1012.67 39.4801 1012.1 45.8805 L1038.67 45.84 Z\" fill=\"#000000\" fill-rule=\"evenodd\" fill-opacity=\"1\" /><path clip-path=\"url(#clip940)\" d=\"M1087.29 28.5427 L1087.29 35.5912 Q1084.13 33.9709 1080.72 33.1607 Q1077.32 32.3505 1073.67 32.3505 Q1068.12 32.3505 1065.33 34.0519 Q1062.57 35.7533 1062.57 39.156 Q1062.57 41.7486 1064.56 43.2475 Q1066.54 44.7058 1072.54 46.0426 L1075.09 46.6097 Q1083.03 48.3111 1086.35 51.4303 Q1089.72 54.509 1089.72 60.0587 Q1089.72 66.3781 1084.69 70.0644 Q1079.71 73.7508 1070.96 73.7508 Q1067.31 73.7508 1063.34 73.0216 Q1059.41 72.3329 1055.04 70.9151 L1055.04 63.2184 Q1059.17 65.3654 1063.18 66.4591 Q1067.19 67.5124 1071.12 67.5124 Q1076.39 67.5124 1079.22 65.73 Q1082.06 63.9071 1082.06 60.6258 Q1082.06 57.5877 1079.99 55.9673 Q1077.97 54.3469 1071.04 52.8481 L1068.45 52.2405 Q1061.52 50.7821 1058.44 47.7845 Q1055.36 44.7463 1055.36 39.4801 Q1055.36 33.0797 1059.9 29.5959 Q1064.44 26.1121 1072.78 26.1121 Q1076.91 26.1121 1080.56 26.7198 Q1084.21 27.3274 1087.29 28.5427 Z\" fill=\"#000000\" fill-rule=\"evenodd\" fill-opacity=\"1\" /><path clip-path=\"url(#clip940)\" d=\"M1123.62 27.2059 L1131.08 27.2059 L1140.39 62.6108 L1149.67 27.2059 L1158.46 27.2059 L1167.78 62.6108 L1177.05 27.2059 L1184.51 27.2059 L1172.64 72.576 L1163.85 72.576 L1154.08 35.3887 L1144.28 72.576 L1135.49 72.576 L1123.62 27.2059 Z\" fill=\"#000000\" fill-rule=\"evenodd\" fill-opacity=\"1\" /><path clip-path=\"url(#clip940)\" d=\"M1195.81 27.2059 L1203.26 27.2059 L1203.26 72.576 L1195.81 72.576 L1195.81 27.2059 M1195.81 9.54393 L1203.26 9.54393 L1203.26 18.9825 L1195.81 18.9825 L1195.81 9.54393 Z\" fill=\"#000000\" fill-rule=\"evenodd\" fill-opacity=\"1\" /><path clip-path=\"url(#clip940)\" d=\"M1226.23 14.324 L1226.23 27.2059 L1241.58 27.2059 L1241.58 32.9987 L1226.23 32.9987 L1226.23 57.6282 Q1226.23 63.1779 1227.73 64.7578 Q1229.27 66.3376 1233.93 66.3376 L1241.58 66.3376 L1241.58 72.576 L1233.93 72.576 Q1225.3 72.576 1222.02 69.3758 Q1218.74 66.1351 1218.74 57.6282 L1218.74 32.9987 L1213.27 32.9987 L1213.27 27.2059 L1218.74 27.2059 L1218.74 14.324 L1226.23 14.324 Z\" fill=\"#000000\" fill-rule=\"evenodd\" fill-opacity=\"1\" /><path clip-path=\"url(#clip940)\" d=\"M1289.1 45.1919 L1289.1 72.576 L1281.65 72.576 L1281.65 45.4349 Q1281.65 38.994 1279.14 35.7938 Q1276.62 32.5936 1271.6 32.5936 Q1265.57 32.5936 1262.08 36.4419 Q1258.6 40.2903 1258.6 46.9338 L1258.6 72.576 L1251.1 72.576 L1251.1 9.54393 L1258.6 9.54393 L1258.6 34.2544 Q1261.27 30.163 1264.88 28.1376 Q1268.52 26.1121 1273.26 26.1121 Q1281.08 26.1121 1285.09 30.9732 Q1289.1 35.7938 1289.1 45.1919 Z\" fill=\"#000000\" fill-rule=\"evenodd\" fill-opacity=\"1\" /><path clip-path=\"url(#clip940)\" d=\"M1356.18 39.9662 Q1362.06 41.222 1365.34 45.1919 Q1368.66 49.1618 1368.66 54.9951 Q1368.66 63.9476 1362.5 68.8492 Q1356.35 73.7508 1345 73.7508 Q1341.2 73.7508 1337.14 72.9811 Q1333.13 72.2519 1328.84 70.7531 L1328.84 62.8538 Q1332.24 64.8388 1336.29 65.8515 Q1340.35 66.8642 1344.76 66.8642 Q1352.46 66.8642 1356.47 63.826 Q1360.52 60.7879 1360.52 54.9951 Q1360.52 49.6479 1356.75 46.6502 Q1353.02 43.612 1346.34 43.612 L1339.29 43.612 L1339.29 36.8875 L1346.66 36.8875 Q1352.7 36.8875 1355.9 34.4975 Q1359.1 32.067 1359.1 27.5299 Q1359.1 22.8714 1355.78 20.4004 Q1352.5 17.8888 1346.34 17.8888 Q1342.98 17.8888 1339.13 18.618 Q1335.28 19.3471 1330.66 20.8865 L1330.66 13.5948 Q1335.32 12.2985 1339.37 11.6504 Q1343.46 11.0023 1347.07 11.0023 Q1356.39 11.0023 1361.81 15.2557 Q1367.24 19.4686 1367.24 26.6793 Q1367.24 31.7024 1364.37 35.1862 Q1361.49 38.6294 1356.18 39.9662 Z\" fill=\"#000000\" fill-rule=\"evenodd\" fill-opacity=\"1\" /><path clip-path=\"url(#clip940)\" d=\"M1401.68 17.4837 Q1395.36 17.4837 1392.16 23.7221 Q1389 29.92 1389 42.3968 Q1389 54.833 1392.16 61.0714 Q1395.36 67.2693 1401.68 67.2693 Q1408.04 67.2693 1411.2 61.0714 Q1414.4 54.833 1414.4 42.3968 Q1414.4 29.92 1411.2 23.7221 Q1408.04 17.4837 1401.68 17.4837 M1401.68 11.0023 Q1411.84 11.0023 1417.19 19.0636 Q1422.58 27.0843 1422.58 42.3968 Q1422.58 57.6687 1417.19 65.73 Q1411.84 73.7508 1401.68 73.7508 Q1391.51 73.7508 1386.12 65.73 Q1380.77 57.6687 1380.77 42.3968 Q1380.77 27.0843 1386.12 19.0636 Q1391.51 11.0023 1401.68 11.0023 Z\" fill=\"#000000\" fill-rule=\"evenodd\" fill-opacity=\"1\" /><path clip-path=\"url(#clip940)\" d=\"M1454.46 17.4837 Q1448.14 17.4837 1444.94 23.7221 Q1441.78 29.92 1441.78 42.3968 Q1441.78 54.833 1444.94 61.0714 Q1448.14 67.2693 1454.46 67.2693 Q1460.82 67.2693 1463.98 61.0714 Q1467.18 54.833 1467.18 42.3968 Q1467.18 29.92 1463.98 23.7221 Q1460.82 17.4837 1454.46 17.4837 M1454.46 11.0023 Q1464.63 11.0023 1469.97 19.0636 Q1475.36 27.0843 1475.36 42.3968 Q1475.36 57.6687 1469.97 65.73 Q1464.63 73.7508 1454.46 73.7508 Q1444.29 73.7508 1438.9 65.73 Q1433.56 57.6687 1433.56 42.3968 Q1433.56 27.0843 1438.9 19.0636 Q1444.29 11.0023 1454.46 11.0023 Z\" fill=\"#000000\" fill-rule=\"evenodd\" fill-opacity=\"1\" /><path clip-path=\"url(#clip940)\" d=\"M1535.68 49.7694 Q1526.65 49.7694 1523.16 51.8354 Q1519.68 53.9013 1519.68 58.8839 Q1519.68 62.8538 1522.27 65.2034 Q1524.9 67.5124 1529.4 67.5124 Q1535.6 67.5124 1539.33 63.1374 Q1543.09 58.7219 1543.09 51.4303 L1543.09 49.7694 L1535.68 49.7694 M1550.55 46.6907 L1550.55 72.576 L1543.09 72.576 L1543.09 65.6895 Q1540.54 69.8214 1536.73 71.8063 Q1532.93 73.7508 1527.42 73.7508 Q1520.45 73.7508 1516.32 69.8619 Q1512.22 65.9325 1512.22 59.3701 Q1512.22 51.7138 1517.33 47.825 Q1522.47 43.9361 1532.64 43.9361 L1543.09 43.9361 L1543.09 43.2069 Q1543.09 38.0623 1539.69 35.2672 Q1536.33 32.4315 1530.21 32.4315 Q1526.32 32.4315 1522.64 33.3632 Q1518.95 34.295 1515.55 36.1584 L1515.55 29.2718 Q1519.64 27.692 1523.49 26.9223 Q1527.33 26.1121 1530.98 26.1121 Q1540.82 26.1121 1545.69 31.2163 Q1550.55 36.3204 1550.55 46.6907 Z\" fill=\"#000000\" fill-rule=\"evenodd\" fill-opacity=\"1\" /><path clip-path=\"url(#clip940)\" d=\"M1595.75 49.3643 Q1595.75 41.2625 1592.39 36.8065 Q1589.07 32.3505 1583.03 32.3505 Q1577.04 32.3505 1573.68 36.8065 Q1570.36 41.2625 1570.36 49.3643 Q1570.36 57.4256 1573.68 61.8816 Q1577.04 66.3376 1583.03 66.3376 Q1589.07 66.3376 1592.39 61.8816 Q1595.75 57.4256 1595.75 49.3643 M1603.21 66.9452 Q1603.21 78.5308 1598.06 84.1616 Q1592.92 89.8329 1582.31 89.8329 Q1578.38 89.8329 1574.89 89.2252 Q1571.41 88.6581 1568.13 87.4428 L1568.13 80.1917 Q1571.41 81.9741 1574.61 82.8248 Q1577.81 83.6755 1581.13 83.6755 Q1588.46 83.6755 1592.11 79.8271 Q1595.75 76.0193 1595.75 68.282 L1595.75 64.5957 Q1593.45 68.6061 1589.84 70.5911 Q1586.23 72.576 1581.21 72.576 Q1572.87 72.576 1567.76 66.2161 Q1562.66 59.8562 1562.66 49.3643 Q1562.66 38.832 1567.76 32.472 Q1572.87 26.1121 1581.21 26.1121 Q1586.23 26.1121 1589.84 28.0971 Q1593.45 30.082 1595.75 34.0924 L1595.75 27.2059 L1603.21 27.2059 L1603.21 66.9452 Z\" fill=\"#000000\" fill-rule=\"evenodd\" fill-opacity=\"1\" /><path clip-path=\"url(#clip940)\" d=\"M1657.37 48.0275 L1657.37 51.6733 L1623.1 51.6733 Q1623.58 59.3701 1627.72 63.421 Q1631.89 67.4314 1639.3 67.4314 Q1643.6 67.4314 1647.61 66.3781 Q1651.66 65.3249 1655.63 63.2184 L1655.63 70.267 Q1651.62 71.9684 1647.4 72.8596 Q1643.19 73.7508 1638.86 73.7508 Q1628 73.7508 1621.64 67.4314 Q1615.32 61.1119 1615.32 50.3365 Q1615.32 39.1965 1621.32 32.6746 Q1627.35 26.1121 1637.56 26.1121 Q1646.71 26.1121 1652.02 32.0264 Q1657.37 37.9003 1657.37 48.0275 M1649.92 45.84 Q1649.83 39.7232 1646.47 36.0774 Q1643.15 32.4315 1637.64 32.4315 Q1631.4 32.4315 1627.64 35.9558 Q1623.91 39.4801 1623.34 45.8805 L1649.92 45.84 Z\" fill=\"#000000\" fill-rule=\"evenodd\" fill-opacity=\"1\" /><path clip-path=\"url(#clip940)\" d=\"M1707.32 45.1919 L1707.32 72.576 L1699.86 72.576 L1699.86 45.4349 Q1699.86 38.994 1697.35 35.7938 Q1694.84 32.5936 1689.82 32.5936 Q1683.78 32.5936 1680.3 36.4419 Q1676.81 40.2903 1676.81 46.9338 L1676.81 72.576 L1669.32 72.576 L1669.32 27.2059 L1676.81 27.2059 L1676.81 34.2544 Q1679.49 30.163 1683.09 28.1376 Q1686.74 26.1121 1691.48 26.1121 Q1699.3 26.1121 1703.31 30.9732 Q1707.32 35.7938 1707.32 45.1919 Z\" fill=\"#000000\" fill-rule=\"evenodd\" fill-opacity=\"1\" /><path clip-path=\"url(#clip940)\" d=\"M1729.56 14.324 L1729.56 27.2059 L1744.91 27.2059 L1744.91 32.9987 L1729.56 32.9987 L1729.56 57.6282 Q1729.56 63.1779 1731.05 64.7578 Q1732.59 66.3376 1737.25 66.3376 L1744.91 66.3376 L1744.91 72.576 L1737.25 72.576 Q1728.62 72.576 1725.34 69.3758 Q1722.06 66.1351 1722.06 57.6282 L1722.06 32.9987 L1716.59 32.9987 L1716.59 27.2059 L1722.06 27.2059 L1722.06 14.324 L1729.56 14.324 Z\" fill=\"#000000\" fill-rule=\"evenodd\" fill-opacity=\"1\" /><path clip-path=\"url(#clip940)\" d=\"M1783.64 28.5427 L1783.64 35.5912 Q1780.48 33.9709 1777.07 33.1607 Q1773.67 32.3505 1770.02 32.3505 Q1764.47 32.3505 1761.68 34.0519 Q1758.92 35.7533 1758.92 39.156 Q1758.92 41.7486 1760.91 43.2475 Q1762.89 44.7058 1768.89 46.0426 L1771.44 46.6097 Q1779.38 48.3111 1782.7 51.4303 Q1786.07 54.509 1786.07 60.0587 Q1786.07 66.3781 1781.04 70.0644 Q1776.06 73.7508 1767.31 73.7508 Q1763.66 73.7508 1759.69 73.0216 Q1755.77 72.3329 1751.39 70.9151 L1751.39 63.2184 Q1755.52 65.3654 1759.53 66.4591 Q1763.54 67.5124 1767.47 67.5124 Q1772.74 67.5124 1775.57 65.73 Q1778.41 63.9071 1778.41 60.6258 Q1778.41 57.5877 1776.34 55.9673 Q1774.32 54.3469 1767.39 52.8481 L1764.8 52.2405 Q1757.87 50.7821 1754.79 47.7845 Q1751.71 44.7463 1751.71 39.4801 Q1751.71 33.0797 1756.25 29.5959 Q1760.79 26.1121 1769.13 26.1121 Q1773.27 26.1121 1776.91 26.7198 Q1780.56 27.3274 1783.64 28.5427 Z\" fill=\"#000000\" fill-rule=\"evenodd\" fill-opacity=\"1\" /><polyline clip-path=\"url(#clip942)\" style=\"stroke:#009af9; stroke-linecap:butt; stroke-linejoin:round; stroke-width:4; stroke-opacity:1; fill:none\" points=\"\n",
       "  201.614,1073.33 203.705,1104.69 205.795,1134.95 207.886,1163.87 209.976,1191.39 212.067,1217.47 214.158,1242.04 216.248,1265.06 218.339,1286.5 220.429,1306.33 \n",
       "  222.52,1324.54 224.61,1341.11 226.701,1356.09 228.792,1369.49 230.882,1381.39 232.973,1391.85 235.063,1400.96 237.154,1408.83 239.244,1415.57 241.335,1421.29 \n",
       "  243.426,1426.12 245.516,1430.15 247.607,1433.51 249.697,1436.29 251.788,1438.58 253.879,1440.45 255.969,1441.97 258.06,1443.21 260.15,1444.21 262.241,1445.02 \n",
       "  264.331,1445.67 266.422,1446.18 268.513,1446.59 270.603,1446.92 272.694,1447.17 274.784,1447.37 276.875,1447.52 278.965,1447.63 281.056,1447.72 283.147,1447.78 \n",
       "  285.237,1447.82 287.328,1447.85 289.418,1447.87 291.509,1447.87 293.599,1447.87 295.69,1447.86 297.781,1447.85 299.871,1447.84 301.962,1447.82 304.052,1447.8 \n",
       "  306.143,1447.78 308.234,1447.75 310.324,1447.73 312.415,1447.71 314.505,1447.68 316.596,1447.66 318.686,1447.64 320.777,1447.61 322.868,1447.59 324.958,1447.57 \n",
       "  327.049,1447.55 329.139,1447.52 331.23,1447.5 333.32,1447.48 335.411,1447.46 337.502,1447.44 339.592,1447.42 341.683,1447.4 343.773,1447.39 345.864,1447.37 \n",
       "  347.955,1447.35 350.045,1447.34 352.136,1447.32 354.226,1447.3 356.317,1447.29 358.407,1447.27 360.498,1447.26 362.589,1447.25 364.679,1447.23 366.77,1447.22 \n",
       "  368.86,1447.21 370.951,1447.19 373.041,1447.18 375.132,1447.17 377.223,1447.16 379.313,1447.15 381.404,1447.14 383.494,1447.13 385.585,1447.12 387.675,1447.11 \n",
       "  389.766,1447.1 391.857,1447.09 393.947,1447.08 396.038,1447.07 398.128,1447.06 400.219,1447.05 402.31,1447.05 404.4,1447.04 406.491,1447.03 408.581,1447.02 \n",
       "  410.672,1447.02 412.762,1447.01 414.853,1447 416.944,1447 419.034,1446.99 421.125,1446.98 423.215,1446.98 425.306,1446.97 427.396,1446.97 429.487,1446.96 \n",
       "  431.578,1446.96 433.668,1446.95 435.759,1446.95 437.849,1446.94 439.94,1446.94 442.031,1446.93 444.121,1446.93 446.212,1446.92 448.302,1446.92 450.393,1446.91 \n",
       "  452.483,1446.91 454.574,1446.91 456.665,1446.9 458.755,1446.9 460.846,1446.89 462.936,1446.89 465.027,1446.89 467.117,1446.88 469.208,1446.88 471.299,1446.88 \n",
       "  473.389,1446.88 475.48,1446.87 477.57,1446.87 479.661,1446.87 481.751,1446.86 483.842,1446.86 485.933,1446.86 488.023,1446.86 490.114,1446.85 492.204,1446.85 \n",
       "  494.295,1446.85 496.386,1446.85 498.476,1446.84 500.567,1446.84 502.657,1446.84 504.748,1446.84 506.838,1446.84 508.929,1446.83 511.02,1446.83 513.11,1446.83 \n",
       "  515.201,1446.83 517.291,1446.83 519.382,1446.83 521.472,1446.82 523.563,1446.82 525.654,1446.82 527.744,1446.82 529.835,1446.82 531.925,1446.82 534.016,1446.82 \n",
       "  536.107,1446.81 538.197,1446.81 540.288,1446.81 542.378,1446.81 544.469,1446.81 546.559,1446.81 548.65,1446.81 550.741,1446.81 552.831,1446.81 554.922,1446.8 \n",
       "  557.012,1446.8 559.103,1446.8 561.193,1446.8 563.284,1446.8 565.375,1446.8 567.465,1446.8 569.556,1446.8 571.646,1446.8 573.737,1446.8 575.827,1446.8 \n",
       "  577.918,1446.79 580.009,1446.79 582.099,1446.79 584.19,1446.79 586.28,1446.79 588.371,1446.79 590.462,1446.79 592.552,1446.79 594.643,1446.79 596.733,1446.79 \n",
       "  598.824,1446.79 600.914,1446.79 603.005,1446.79 605.096,1446.79 607.186,1446.79 609.277,1446.79 611.367,1446.79 613.458,1446.78 615.548,1446.78 617.639,1446.78 \n",
       "  619.73,1446.78 621.82,1446.78 623.911,1446.78 626.001,1446.78 628.092,1446.78 630.183,1446.78 632.273,1446.78 634.364,1446.78 636.454,1446.78 638.545,1446.78 \n",
       "  640.635,1446.78 642.726,1446.78 644.817,1446.78 646.907,1446.78 648.998,1446.78 651.088,1446.78 653.179,1446.78 655.269,1446.78 657.36,1446.78 659.451,1446.78 \n",
       "  661.541,1446.78 663.632,1446.78 665.722,1446.78 667.813,1446.78 669.903,1446.78 671.994,1446.78 674.085,1446.78 676.175,1446.78 678.266,1446.78 680.356,1446.77 \n",
       "  682.447,1446.77 684.538,1446.77 686.628,1446.77 688.719,1446.77 690.809,1446.77 692.9,1446.77 694.99,1446.77 697.081,1446.77 699.172,1446.77 701.262,1446.77 \n",
       "  703.353,1446.77 705.443,1446.77 707.534,1446.77 709.624,1446.77 711.715,1446.77 713.806,1446.77 715.896,1446.77 717.987,1446.77 720.077,1446.77 722.168,1446.77 \n",
       "  724.259,1446.77 726.349,1446.77 728.44,1446.77 730.53,1446.77 732.621,1446.77 734.711,1446.77 736.802,1446.77 738.893,1446.77 740.983,1446.77 743.074,1446.77 \n",
       "  745.164,1446.77 747.255,1446.77 749.345,1446.77 751.436,1446.77 753.527,1446.77 755.617,1446.77 757.708,1446.77 759.798,1446.77 761.889,1446.77 763.979,1446.77 \n",
       "  766.07,1446.77 768.161,1446.77 770.251,1446.77 772.342,1446.77 774.432,1446.77 776.523,1446.77 778.614,1446.77 780.704,1446.77 782.795,1446.77 784.885,1446.77 \n",
       "  786.976,1446.77 789.066,1446.77 791.157,1446.77 793.248,1446.77 795.338,1446.77 797.429,1446.77 799.519,1446.77 801.61,1446.77 803.7,1446.77 805.791,1446.77 \n",
       "  807.882,1446.77 809.972,1446.77 812.063,1446.77 814.153,1446.77 816.244,1446.77 818.335,1446.77 820.425,1446.77 822.516,1446.77 824.606,1446.77 826.697,1446.77 \n",
       "  828.787,1446.77 830.878,1446.77 832.969,1446.77 835.059,1446.77 837.15,1446.77 839.24,1446.77 841.331,1446.77 843.421,1446.77 845.512,1446.77 847.603,1446.77 \n",
       "  849.693,1446.77 851.784,1446.77 853.874,1446.77 855.965,1446.77 858.055,1446.77 860.146,1446.77 862.237,1446.77 864.327,1446.77 866.418,1446.77 868.508,1446.77 \n",
       "  870.599,1446.77 872.69,1446.77 874.78,1446.77 876.871,1446.77 878.961,1446.77 881.052,1446.77 883.142,1446.77 885.233,1446.77 887.324,1446.77 889.414,1446.77 \n",
       "  891.505,1446.77 893.595,1446.77 895.686,1446.77 897.776,1446.77 899.867,1446.77 901.958,1446.77 904.048,1446.77 906.139,1446.77 908.229,1446.77 910.32,1446.77 \n",
       "  912.411,1446.77 914.501,1446.77 916.592,1446.77 918.682,1446.77 920.773,1446.77 922.863,1446.77 924.954,1446.77 927.045,1446.77 929.135,1446.77 931.226,1446.77 \n",
       "  933.316,1446.77 935.407,1446.77 937.497,1446.77 939.588,1446.77 941.679,1446.77 943.769,1446.77 945.86,1446.77 947.95,1446.77 950.041,1446.77 952.131,1446.77 \n",
       "  954.222,1446.77 956.313,1446.77 958.403,1446.77 960.494,1446.77 962.584,1446.77 964.675,1446.77 966.766,1446.77 968.856,1446.77 970.947,1446.77 973.037,1446.77 \n",
       "  975.128,1446.77 977.218,1446.77 979.309,1446.77 981.4,1446.77 983.49,1446.77 985.581,1446.77 987.671,1446.77 989.762,1446.77 991.852,1446.77 993.943,1446.77 \n",
       "  996.034,1446.77 998.124,1446.77 1000.21,1446.77 1002.31,1446.77 1004.4,1446.77 1006.49,1446.77 1008.58,1446.77 1010.67,1446.77 1012.76,1446.77 1014.85,1446.77 \n",
       "  1016.94,1446.77 1019.03,1446.77 1021.12,1446.77 1023.21,1446.77 1025.3,1446.77 1027.39,1446.77 1029.48,1446.77 1031.57,1446.77 1033.66,1446.77 1035.75,1446.77 \n",
       "  1037.85,1446.77 1039.94,1446.77 1042.03,1446.77 1044.12,1446.77 1046.21,1446.77 1048.3,1446.77 1050.39,1446.77 1052.48,1446.77 1054.57,1446.77 1056.66,1446.77 \n",
       "  1058.75,1446.77 1060.84,1446.77 1062.93,1446.77 1065.02,1446.77 1067.11,1446.77 1069.2,1446.77 1071.29,1446.77 1073.39,1446.77 1075.48,1446.77 1077.57,1446.77 \n",
       "  1079.66,1446.77 1081.75,1446.77 1083.84,1446.77 1085.93,1446.77 1088.02,1446.77 1090.11,1446.77 1092.2,1446.77 1094.29,1446.77 1096.38,1446.77 1098.47,1446.77 \n",
       "  1100.56,1446.77 1102.65,1446.77 1104.74,1446.77 1106.83,1446.77 1108.92,1446.77 1111.02,1446.77 1113.11,1446.77 1115.2,1446.77 1117.29,1446.77 1119.38,1446.77 \n",
       "  1121.47,1446.77 1123.56,1446.77 1125.65,1446.77 1127.74,1446.77 1129.83,1446.77 1131.92,1446.77 1134.01,1446.77 1136.1,1446.77 1138.19,1446.77 1140.28,1446.77 \n",
       "  1142.37,1446.77 1144.46,1446.77 1146.56,1446.77 1148.65,1446.77 1150.74,1446.77 1152.83,1446.77 1154.92,1446.77 1157.01,1446.77 1159.1,1446.77 1161.19,1446.77 \n",
       "  1163.28,1446.77 1165.37,1446.77 1167.46,1446.77 1169.55,1446.77 1171.64,1446.77 1173.73,1446.77 1175.82,1446.77 1177.91,1446.77 1180,1446.77 1182.1,1446.77 \n",
       "  1184.19,1446.77 1186.28,1446.77 1188.37,1446.77 1190.46,1446.77 1192.55,1446.77 1194.64,1446.77 1196.73,1446.77 1198.82,1446.77 1200.91,1446.77 1203,1446.77 \n",
       "  1205.09,1446.77 1207.18,1446.77 1209.27,1446.77 1211.36,1446.77 1213.45,1446.77 1215.54,1446.77 1217.63,1446.77 1219.73,1446.77 1221.82,1446.77 1223.91,1446.77 \n",
       "  1226,1446.77 1228.09,1446.77 1230.18,1446.77 1232.27,1446.77 1234.36,1446.77 1236.45,1446.77 1238.54,1446.77 1240.63,1446.77 1242.72,1446.77 1244.81,1446.77 \n",
       "  1246.9,1446.77 1248.99,1446.77 1251.08,1430.36 1253.17,1416.88 1255.27,1405.61 1257.36,1396.04 1259.45,1387.84 1261.54,1380.73 1263.63,1374.55 1265.72,1369.13 \n",
       "  1267.81,1364.37 1269.9,1360.16 1271.99,1356.44 1274.08,1353.13 1276.17,1350.18 1278.26,1347.56 1280.35,1345.21 1282.44,1343.12 1284.53,1341.24 1286.62,1339.55 \n",
       "  1288.71,1338.04 1290.81,1336.68 1292.9,1335.45 1294.99,1334.35 1297.08,1333.36 1299.17,1332.47 1301.26,1331.66 1303.35,1330.93 1305.44,1330.28 1307.53,1329.68 \n",
       "  1309.62,1329.15 1311.71,1328.67 1313.8,1328.23 1315.89,1327.83 1317.98,1327.47 1320.07,1327.15 1322.16,1326.86 1324.25,1326.59 1326.34,1326.35 1328.44,1326.13 \n",
       "  1330.53,1325.94 1332.62,1325.76 1334.71,1325.6 1336.8,1325.45 1338.89,1325.31 1340.98,1325.19 1343.07,1325.08 1345.16,1324.98 1347.25,1324.89 1349.34,1324.81 \n",
       "  1351.43,1324.74 1353.52,1324.67 1355.61,1324.61 1357.7,1324.55 1359.79,1324.5 1361.88,1324.45 1363.98,1324.41 1366.07,1324.37 1368.16,1324.33 1370.25,1324.3 \n",
       "  1372.34,1324.27 1374.43,1324.24 1376.52,1324.22 1378.61,1324.2 1380.7,1324.18 1382.79,1324.16 1384.88,1324.14 1386.97,1324.12 1389.06,1324.11 1391.15,1324.09 \n",
       "  1393.24,1324.08 1395.33,1324.07 1397.42,1324.06 1399.52,1324.05 1401.61,1324.04 1403.7,1324.03 1405.79,1324.02 1407.88,1324.02 1409.97,1324.01 1412.06,1324 \n",
       "  1414.15,1324 1416.24,1323.99 1418.33,1323.99 1420.42,1323.98 1422.51,1323.98 1424.6,1323.97 1426.69,1323.97 1428.78,1323.97 1430.87,1323.96 1432.96,1323.96 \n",
       "  1435.05,1323.96 1437.15,1323.95 1439.24,1323.95 1441.33,1323.95 1443.42,1323.95 1445.51,1323.94 1447.6,1323.94 1449.69,1323.94 1451.78,1323.94 1453.87,1323.94 \n",
       "  1455.96,1323.93 1458.05,1323.93 1460.14,1323.93 1462.23,1323.93 1464.32,1323.93 1466.41,1323.93 1468.5,1323.92 1470.59,1323.92 1472.69,1323.92 1474.78,1323.92 \n",
       "  1476.87,1323.92 1478.96,1323.92 1481.05,1323.92 1483.14,1323.92 1485.23,1323.92 1487.32,1323.91 1489.41,1323.91 1491.5,1323.91 1493.59,1323.91 1495.68,1323.91 \n",
       "  1497.77,1323.91 1499.86,1323.91 1501.95,1323.91 1504.04,1323.91 1506.13,1323.91 1508.23,1323.91 1510.32,1323.91 1512.41,1323.9 1514.5,1323.9 1516.59,1323.9 \n",
       "  1518.68,1323.9 1520.77,1323.9 1522.86,1323.9 1524.95,1323.9 1527.04,1323.9 1529.13,1323.9 1531.22,1323.9 1533.31,1323.9 1535.4,1323.9 1537.49,1323.9 \n",
       "  1539.58,1323.9 1541.67,1323.9 1543.77,1323.9 1545.86,1323.9 1547.95,1323.9 1550.04,1323.9 1552.13,1323.89 1554.22,1323.89 1556.31,1323.89 1558.4,1323.89 \n",
       "  1560.49,1323.89 1562.58,1323.89 1564.67,1323.89 1566.76,1323.89 1568.85,1323.89 1570.94,1323.89 1573.03,1323.89 1575.12,1323.89 1577.21,1323.89 1579.3,1323.89 \n",
       "  1581.4,1323.89 1583.49,1323.89 1585.58,1323.89 1587.67,1323.89 1589.76,1323.89 1591.85,1323.89 1593.94,1323.89 1596.03,1323.89 1598.12,1323.89 1600.21,1323.89 \n",
       "  1602.3,1323.89 1604.39,1323.89 1606.48,1323.89 1608.57,1323.89 1610.66,1323.89 1612.75,1323.89 1614.84,1323.89 1616.94,1323.89 1619.03,1323.89 1621.12,1323.89 \n",
       "  1623.21,1323.89 1625.3,1323.89 1627.39,1323.89 1629.48,1323.89 1631.57,1323.89 1633.66,1323.89 1635.75,1323.89 1637.84,1323.89 1639.93,1323.89 1642.02,1323.89 \n",
       "  1644.11,1323.89 1646.2,1323.89 1648.29,1323.89 1650.38,1323.88 1652.48,1323.88 1654.57,1323.88 1656.66,1323.88 1658.75,1323.88 1660.84,1323.88 1662.93,1323.88 \n",
       "  1665.02,1323.88 1667.11,1323.88 1669.2,1323.88 1671.29,1323.88 1673.38,1323.88 1675.47,1323.88 1677.56,1323.88 1679.65,1323.88 1681.74,1323.88 1683.83,1323.88 \n",
       "  1685.92,1323.88 1688.01,1323.88 1690.11,1323.88 1692.2,1323.88 1694.29,1323.88 1696.38,1323.88 1698.47,1323.88 1700.56,1323.88 1702.65,1323.88 1704.74,1323.88 \n",
       "  1706.83,1323.88 1708.92,1323.88 1711.01,1323.88 1713.1,1323.88 1715.19,1323.88 1717.28,1323.88 1719.37,1323.88 1721.46,1323.88 1723.55,1323.88 1725.65,1323.88 \n",
       "  1727.74,1323.88 1729.83,1323.88 1731.92,1323.88 1734.01,1323.88 1736.1,1323.88 1738.19,1323.88 1740.28,1323.88 1742.37,1323.88 1744.46,1323.88 1746.55,1323.88 \n",
       "  1748.64,1323.88 1750.73,1323.88 1752.82,1323.88 1754.91,1323.88 1757,1323.88 1759.09,1323.88 1761.19,1323.88 1763.28,1323.88 1765.37,1323.88 1767.46,1323.88 \n",
       "  1769.55,1323.88 1771.64,1323.88 1773.73,1323.88 1775.82,1323.88 1777.91,1323.88 1780,1323.88 1782.09,1323.88 1784.18,1323.88 1786.27,1323.88 1788.36,1323.88 \n",
       "  1790.45,1323.88 1792.54,1323.88 1794.63,1323.88 1796.72,1323.88 1798.82,1323.88 1800.91,1323.88 1803,1323.88 1805.09,1323.88 1807.18,1323.88 1809.27,1323.88 \n",
       "  1811.36,1323.88 1813.45,1323.88 1815.54,1323.88 1817.63,1323.88 1819.72,1323.88 1821.81,1323.88 1823.9,1323.88 1825.99,1323.88 1828.08,1323.88 1830.17,1323.88 \n",
       "  1832.26,1323.88 1834.36,1323.88 1836.45,1323.88 1838.54,1323.88 1840.63,1323.88 1842.72,1323.88 1844.81,1323.88 1846.9,1323.88 1848.99,1323.88 1851.08,1323.88 \n",
       "  1853.17,1323.88 1855.26,1323.88 1857.35,1323.88 1859.44,1323.88 1861.53,1323.88 1863.62,1323.88 1865.71,1323.88 1867.8,1323.88 1869.9,1323.88 1871.99,1323.88 \n",
       "  1874.08,1323.88 1876.17,1323.88 1878.26,1323.88 1880.35,1323.88 1882.44,1323.88 1884.53,1323.88 1886.62,1323.88 1888.71,1323.88 1890.8,1323.88 1892.89,1323.88 \n",
       "  1894.98,1323.88 1897.07,1323.88 1899.16,1323.88 1901.25,1323.88 1903.34,1323.88 1905.43,1323.88 1907.53,1323.88 1909.62,1323.88 1911.71,1323.88 1913.8,1323.88 \n",
       "  1915.89,1323.88 1917.98,1323.88 1920.07,1323.88 1922.16,1323.88 1924.25,1323.88 1926.34,1323.88 1928.43,1323.88 1930.52,1323.88 1932.61,1323.88 1934.7,1323.88 \n",
       "  1936.79,1323.88 1938.88,1323.88 1940.97,1323.88 1943.07,1323.88 1945.16,1323.88 1947.25,1323.88 1949.34,1323.88 1951.43,1323.88 1953.52,1323.88 1955.61,1323.88 \n",
       "  1957.7,1323.88 1959.79,1323.88 1961.88,1323.88 1963.97,1323.88 1966.06,1323.88 1968.15,1323.88 1970.24,1323.88 1972.33,1323.88 1974.42,1323.88 1976.51,1323.88 \n",
       "  1978.61,1323.88 1980.7,1323.88 1982.79,1323.88 1984.88,1323.88 1986.97,1323.88 1989.06,1323.88 1991.15,1323.88 1993.24,1323.88 1995.33,1323.88 1997.42,1323.88 \n",
       "  1999.51,1323.88 2001.6,1323.88 2003.69,1323.88 2005.78,1323.88 2007.87,1323.88 2009.96,1323.88 2012.05,1323.88 2014.15,1323.88 2016.24,1323.88 2018.33,1323.88 \n",
       "  2020.42,1323.88 2022.51,1323.88 2024.6,1323.88 2026.69,1323.88 2028.78,1323.88 2030.87,1323.88 2032.96,1323.88 2035.05,1323.88 2037.14,1323.88 2039.23,1323.88 \n",
       "  2041.32,1323.88 2043.41,1323.88 2045.5,1323.88 2047.59,1323.88 2049.68,1323.88 2051.78,1323.88 2053.87,1323.88 2055.96,1323.88 2058.05,1323.88 2060.14,1323.88 \n",
       "  2062.23,1323.88 2064.32,1323.88 2066.41,1323.88 2068.5,1323.88 2070.59,1323.88 2072.68,1323.88 2074.77,1323.88 2076.86,1323.88 2078.95,1323.88 2081.04,1323.88 \n",
       "  2083.13,1323.88 2085.22,1323.88 2087.32,1323.88 2089.41,1323.88 2091.5,1323.88 2093.59,1323.88 2095.68,1323.88 2097.77,1323.88 2099.86,1323.88 2101.95,1323.88 \n",
       "  2104.04,1323.88 2106.13,1323.88 2108.22,1323.88 2110.31,1323.88 2112.4,1323.88 2114.49,1323.88 2116.58,1323.88 2118.67,1323.88 2120.76,1323.88 2122.86,1323.88 \n",
       "  2124.95,1323.88 2127.04,1323.88 2129.13,1323.88 2131.22,1323.88 2133.31,1323.88 2135.4,1323.88 2137.49,1323.88 2139.58,1323.88 2141.67,1323.88 2143.76,1323.88 \n",
       "  2145.85,1323.88 2147.94,1323.88 2150.03,1323.88 2152.12,1323.88 2154.21,1323.88 2156.3,1323.88 2158.39,1323.88 2160.49,1323.88 2162.58,1323.88 2164.67,1323.88 \n",
       "  2166.76,1323.88 2168.85,1323.88 2170.94,1323.88 2173.03,1323.88 2175.12,1323.88 2177.21,1323.88 2179.3,1323.88 2181.39,1323.88 2183.48,1323.88 2185.57,1323.88 \n",
       "  2187.66,1323.88 2189.75,1323.88 2191.84,1323.88 2193.93,1323.88 2196.03,1323.88 2198.12,1323.88 2200.21,1323.88 2202.3,1323.88 2204.39,1323.88 2206.48,1323.88 \n",
       "  2208.57,1323.88 2210.66,1323.88 2212.75,1323.88 2214.84,1323.88 2216.93,1323.88 2219.02,1323.88 2221.11,1323.88 2223.2,1323.88 2225.29,1323.88 2227.38,1323.88 \n",
       "  2229.47,1323.88 2231.57,1323.88 2233.66,1323.88 2235.75,1323.88 2237.84,1323.88 2239.93,1323.88 2242.02,1323.88 2244.11,1323.88 2246.2,1323.88 2248.29,1323.88 \n",
       "  2250.38,1323.88 2252.47,1323.88 2254.56,1323.88 2256.65,1323.88 2258.74,1323.88 2260.83,1323.88 2262.92,1323.88 2265.01,1323.88 2267.1,1323.88 2269.2,1323.88 \n",
       "  2271.29,1323.88 2273.38,1323.88 2275.47,1323.88 2277.56,1323.88 2279.65,1323.88 2281.74,1323.88 2283.83,1323.88 2285.92,1323.88 2288.01,1323.88 2290.1,1323.88 \n",
       "  \n",
       "  \"/>\n",
       "<polyline clip-path=\"url(#clip942)\" style=\"stroke:#e26f46; stroke-linecap:butt; stroke-linejoin:round; stroke-width:4; stroke-opacity:1; fill:none\" points=\"\n",
       "  201.614,926.947 203.705,913.815 205.795,901.824 207.886,890.814 209.976,880.707 212.067,871.431 214.158,862.922 216.248,855.116 218.339,847.955 220.429,841.385 \n",
       "  222.52,835.354 224.61,829.812 226.701,824.714 228.792,820.016 230.882,815.678 232.973,811.662 235.063,807.933 237.154,804.461 239.244,801.216 241.335,798.173 \n",
       "  243.426,795.311 245.516,792.609 247.607,790.049 249.697,787.618 251.788,785.301 253.879,783.089 255.969,780.972 258.06,778.94 260.15,776.988 262.241,775.11 \n",
       "  264.331,773.299 266.422,771.552 268.513,769.865 270.603,768.235 272.694,766.657 274.784,765.13 276.875,763.651 278.965,762.218 281.056,760.83 283.147,759.483 \n",
       "  285.237,758.177 287.328,756.91 289.418,755.68 291.509,754.487 293.599,753.328 295.69,752.204 297.781,751.112 299.871,750.051 301.962,749.022 304.052,748.021 \n",
       "  306.143,747.05 308.234,746.106 310.324,745.189 312.415,744.299 314.505,743.434 316.596,742.593 318.686,741.776 320.777,740.982 322.868,740.211 324.958,739.461 \n",
       "  327.049,738.733 329.139,738.025 331.23,737.337 333.32,736.668 335.411,736.018 337.502,735.386 339.592,734.772 341.683,734.175 343.773,733.595 345.864,733.031 \n",
       "  347.955,732.483 350.045,731.95 352.136,731.432 354.226,730.928 356.317,730.439 358.407,729.963 360.498,729.5 362.589,729.05 364.679,728.613 366.77,728.187 \n",
       "  368.86,727.774 370.951,727.372 373.041,726.981 375.132,726.601 377.223,726.231 379.313,725.872 381.404,725.522 383.494,725.183 385.585,724.852 387.675,724.531 \n",
       "  389.766,724.218 391.857,723.915 393.947,723.619 396.038,723.332 398.128,723.053 400.219,722.781 402.31,722.517 404.4,722.26 406.491,722.01 408.581,721.767 \n",
       "  410.672,721.531 412.762,721.301 414.853,721.077 416.944,720.86 419.034,720.648 421.125,720.443 423.215,720.243 425.306,720.048 427.396,719.859 429.487,719.675 \n",
       "  431.578,719.496 433.668,719.322 435.759,719.153 437.849,718.988 439.94,718.828 442.031,718.673 444.121,718.521 446.212,718.374 448.302,718.231 450.393,718.091 \n",
       "  452.483,717.956 454.574,717.824 456.665,717.695 458.755,717.571 460.846,717.449 462.936,717.331 465.027,717.217 467.117,717.105 469.208,716.996 471.299,716.891 \n",
       "  473.389,716.788 475.48,716.688 477.57,716.591 479.661,716.496 481.751,716.404 483.842,716.315 485.933,716.228 488.023,716.143 490.114,716.061 492.204,715.981 \n",
       "  494.295,715.903 496.386,715.827 498.476,715.753 500.567,715.681 502.657,715.612 504.748,715.544 506.838,715.478 508.929,715.414 511.02,715.351 513.11,715.29 \n",
       "  515.201,715.231 517.291,715.174 519.382,715.118 521.472,715.063 523.563,715.011 525.654,714.959 527.744,714.909 529.835,714.86 531.925,714.813 534.016,714.767 \n",
       "  536.107,714.722 538.197,714.678 540.288,714.636 542.378,714.595 544.469,714.554 546.559,714.515 548.65,714.477 550.741,714.44 552.831,714.405 554.922,714.37 \n",
       "  557.012,714.335 559.103,714.302 561.193,714.27 563.284,714.239 565.375,714.208 567.465,714.179 569.556,714.15 571.646,714.122 573.737,714.095 575.827,714.068 \n",
       "  577.918,714.042 580.009,714.017 582.099,713.993 584.19,713.969 586.28,713.946 588.371,713.923 590.462,713.901 592.552,713.88 594.643,713.859 596.733,713.839 \n",
       "  598.824,713.82 600.914,713.801 603.005,713.782 605.096,713.764 607.186,713.746 609.277,713.729 611.367,713.713 613.458,713.697 615.548,713.681 617.639,713.666 \n",
       "  619.73,713.651 621.82,713.636 623.911,713.622 626.001,713.608 628.092,713.595 630.183,713.582 632.273,713.57 634.364,713.557 636.454,713.545 638.545,713.534 \n",
       "  640.635,713.522 642.726,713.511 644.817,713.501 646.907,713.49 648.998,713.48 651.088,713.47 653.179,713.461 655.269,713.452 657.36,713.442 659.451,713.434 \n",
       "  661.541,713.425 663.632,713.417 665.722,713.409 667.813,713.401 669.903,713.393 671.994,713.386 674.085,713.378 676.175,713.371 678.266,713.364 680.356,713.358 \n",
       "  682.447,713.351 684.538,713.345 686.628,713.339 688.719,713.333 690.809,713.327 692.9,713.321 694.99,713.316 697.081,713.31 699.172,713.305 701.262,713.3 \n",
       "  703.353,713.295 705.443,713.29 707.534,713.286 709.624,713.281 711.715,713.277 713.806,713.272 715.896,713.268 717.987,713.264 720.077,713.26 722.168,713.256 \n",
       "  724.259,713.252 726.349,713.249 728.44,713.245 730.53,713.242 732.621,713.238 734.711,713.235 736.802,713.232 738.893,713.229 740.983,713.226 743.074,713.223 \n",
       "  745.164,713.22 747.255,713.217 749.345,713.215 751.436,713.212 753.527,713.21 755.617,713.207 757.708,713.205 759.798,713.202 761.889,713.2 763.979,713.198 \n",
       "  766.07,713.196 768.161,713.194 770.251,713.191 772.342,713.189 774.432,713.188 776.523,713.186 778.614,713.184 780.704,713.182 782.795,713.18 784.885,713.179 \n",
       "  786.976,713.177 789.066,713.175 791.157,713.174 793.248,713.172 795.338,713.171 797.429,713.169 799.519,713.168 801.61,713.167 803.7,713.165 805.791,713.164 \n",
       "  807.882,713.163 809.972,713.162 812.063,713.16 814.153,713.159 816.244,713.158 818.335,713.157 820.425,713.156 822.516,713.155 824.606,713.154 826.697,713.153 \n",
       "  828.787,713.152 830.878,713.151 832.969,713.15 835.059,713.149 837.15,713.149 839.24,713.148 841.331,713.147 843.421,713.146 845.512,713.145 847.603,713.145 \n",
       "  849.693,713.144 851.784,713.143 853.874,713.143 855.965,713.142 858.055,713.141 860.146,713.141 862.237,713.14 864.327,713.139 866.418,713.139 868.508,713.138 \n",
       "  870.599,713.138 872.69,713.137 874.78,713.137 876.871,713.136 878.961,713.136 881.052,713.135 883.142,713.135 885.233,713.134 887.324,713.134 889.414,713.133 \n",
       "  891.505,713.133 893.595,713.133 895.686,713.132 897.776,713.132 899.867,713.131 901.958,713.131 904.048,713.131 906.139,713.13 908.229,713.13 910.32,713.13 \n",
       "  912.411,713.129 914.501,713.129 916.592,713.129 918.682,713.129 920.773,713.128 922.863,713.128 924.954,713.128 927.045,713.127 929.135,713.127 931.226,713.127 \n",
       "  933.316,713.127 935.407,713.127 937.497,713.126 939.588,713.126 941.679,713.126 943.769,713.126 945.86,713.125 947.95,713.125 950.041,713.125 952.131,713.125 \n",
       "  954.222,713.125 956.313,713.125 958.403,713.124 960.494,713.124 962.584,713.124 964.675,713.124 966.766,713.124 968.856,713.124 970.947,713.123 973.037,713.123 \n",
       "  975.128,713.123 977.218,713.123 979.309,713.123 981.4,713.123 983.49,713.123 985.581,713.123 987.671,713.122 989.762,713.122 991.852,713.122 993.943,713.122 \n",
       "  996.034,713.122 998.124,713.122 1000.21,713.122 1002.31,713.122 1004.4,713.122 1006.49,713.121 1008.58,713.121 1010.67,713.121 1012.76,713.121 1014.85,713.121 \n",
       "  1016.94,713.121 1019.03,713.121 1021.12,713.121 1023.21,713.121 1025.3,713.121 1027.39,713.121 1029.48,713.121 1031.57,713.121 1033.66,713.12 1035.75,713.12 \n",
       "  1037.85,713.12 1039.94,713.12 1042.03,713.12 1044.12,713.12 1046.21,713.12 1048.3,713.12 1050.39,713.12 1052.48,713.12 1054.57,713.12 1056.66,713.12 \n",
       "  1058.75,713.12 1060.84,713.12 1062.93,713.12 1065.02,713.12 1067.11,713.12 1069.2,713.12 1071.29,713.12 1073.39,713.12 1075.48,713.12 1077.57,713.119 \n",
       "  1079.66,713.119 1081.75,713.119 1083.84,713.119 1085.93,713.119 1088.02,713.119 1090.11,713.119 1092.2,713.119 1094.29,713.119 1096.38,713.119 1098.47,713.119 \n",
       "  1100.56,713.119 1102.65,713.119 1104.74,713.119 1106.83,713.119 1108.92,713.119 1111.02,713.119 1113.11,713.119 1115.2,713.119 1117.29,713.119 1119.38,713.119 \n",
       "  1121.47,713.119 1123.56,713.119 1125.65,713.119 1127.74,713.119 1129.83,713.119 1131.92,713.119 1134.01,713.119 1136.1,713.119 1138.19,713.119 1140.28,713.119 \n",
       "  1142.37,713.119 1144.46,713.119 1146.56,713.119 1148.65,713.119 1150.74,713.119 1152.83,713.119 1154.92,713.119 1157.01,713.119 1159.1,713.119 1161.19,713.119 \n",
       "  1163.28,713.119 1165.37,713.119 1167.46,713.119 1169.55,713.119 1171.64,713.119 1173.73,713.119 1175.82,713.119 1177.91,713.119 1180,713.119 1182.1,713.119 \n",
       "  1184.19,713.119 1186.28,713.119 1188.37,713.119 1190.46,713.119 1192.55,713.118 1194.64,713.118 1196.73,713.118 1198.82,713.118 1200.91,713.118 1203,713.118 \n",
       "  1205.09,713.118 1207.18,713.118 1209.27,713.118 1211.36,713.118 1213.45,713.118 1215.54,713.118 1217.63,713.118 1219.73,713.118 1221.82,713.118 1223.91,713.118 \n",
       "  1226,713.118 1228.09,713.118 1230.18,713.118 1232.27,713.118 1234.36,713.118 1236.45,713.118 1238.54,713.118 1240.63,713.118 1242.72,713.118 1244.81,713.118 \n",
       "  1246.9,713.118 1248.99,713.118 1251.08,714.235 1253.17,715.156 1255.27,715.932 1257.36,716.586 1259.45,717.135 1261.54,717.594 1263.63,717.975 1265.72,718.289 \n",
       "  1267.81,718.544 1269.9,718.748 1271.99,718.907 1274.08,719.028 1276.17,719.114 1278.26,719.171 1280.35,719.202 1282.44,719.21 1284.53,719.199 1286.62,719.17 \n",
       "  1288.71,719.126 1290.81,719.07 1292.9,719.002 1294.99,718.925 1297.08,718.84 1299.17,718.748 1301.26,718.65 1303.35,718.547 1305.44,718.441 1307.53,718.331 \n",
       "  1309.62,718.219 1311.71,718.105 1313.8,717.99 1315.89,717.874 1317.98,717.757 1320.07,717.641 1322.16,717.525 1324.25,717.409 1326.34,717.294 1328.44,717.179 \n",
       "  1330.53,717.067 1332.62,716.955 1334.71,716.845 1336.8,716.736 1338.89,716.629 1340.98,716.524 1343.07,716.42 1345.16,716.319 1347.25,716.219 1349.34,716.122 \n",
       "  1351.43,716.026 1353.52,715.932 1355.61,715.84 1357.7,715.75 1359.79,715.663 1361.88,715.577 1363.98,715.493 1366.07,715.411 1368.16,715.331 1370.25,715.253 \n",
       "  1372.34,715.176 1374.43,715.102 1376.52,715.029 1378.61,714.959 1380.7,714.89 1382.79,714.822 1384.88,714.757 1386.97,714.693 1389.06,714.63 1391.15,714.57 \n",
       "  1393.24,714.51 1395.33,714.453 1397.42,714.397 1399.52,714.342 1401.61,714.289 1403.7,714.237 1405.79,714.186 1407.88,714.137 1409.97,714.089 1412.06,714.043 \n",
       "  1414.15,713.997 1416.24,713.953 1418.33,713.91 1420.42,713.869 1422.51,713.828 1424.6,713.788 1426.69,713.75 1428.78,713.712 1430.87,713.676 1432.96,713.64 \n",
       "  1435.05,713.606 1437.15,713.572 1439.24,713.539 1441.33,713.507 1443.42,713.476 1445.51,713.446 1447.6,713.417 1449.69,713.388 1451.78,713.361 1453.87,713.334 \n",
       "  1455.96,713.307 1458.05,713.282 1460.14,713.257 1462.23,713.233 1464.32,713.209 1466.41,713.186 1468.5,713.164 1470.59,713.143 1472.69,713.121 1474.78,713.101 \n",
       "  1476.87,713.081 1478.96,713.062 1481.05,713.043 1483.14,713.024 1485.23,713.007 1487.32,712.989 1489.41,712.972 1491.5,712.956 1493.59,712.94 1495.68,712.924 \n",
       "  1497.77,712.909 1499.86,712.894 1501.95,712.88 1504.04,712.866 1506.13,712.853 1508.23,712.839 1510.32,712.827 1512.41,712.814 1514.5,712.802 1516.59,712.79 \n",
       "  1518.68,712.779 1520.77,712.768 1522.86,712.757 1524.95,712.746 1527.04,712.736 1529.13,712.726 1531.22,712.716 1533.31,712.707 1535.4,712.698 1537.49,712.689 \n",
       "  1539.58,712.68 1541.67,712.671 1543.77,712.663 1545.86,712.655 1547.95,712.647 1550.04,712.64 1552.13,712.632 1554.22,712.625 1556.31,712.618 1558.4,712.612 \n",
       "  1560.49,712.605 1562.58,712.599 1564.67,712.592 1566.76,712.586 1568.85,712.58 1570.94,712.575 1573.03,712.569 1575.12,712.564 1577.21,712.558 1579.3,712.553 \n",
       "  1581.4,712.548 1583.49,712.543 1585.58,712.538 1587.67,712.534 1589.76,712.529 1591.85,712.525 1593.94,712.521 1596.03,712.517 1598.12,712.513 1600.21,712.509 \n",
       "  1602.3,712.505 1604.39,712.501 1606.48,712.498 1608.57,712.494 1610.66,712.491 1612.75,712.487 1614.84,712.484 1616.94,712.481 1619.03,712.478 1621.12,712.475 \n",
       "  1623.21,712.472 1625.3,712.469 1627.39,712.467 1629.48,712.464 1631.57,712.461 1633.66,712.459 1635.75,712.457 1637.84,712.454 1639.93,712.452 1642.02,712.45 \n",
       "  1644.11,712.447 1646.2,712.445 1648.29,712.443 1650.38,712.441 1652.48,712.439 1654.57,712.437 1656.66,712.436 1658.75,712.434 1660.84,712.432 1662.93,712.43 \n",
       "  1665.02,712.429 1667.11,712.427 1669.2,712.425 1671.29,712.424 1673.38,712.422 1675.47,712.421 1677.56,712.42 1679.65,712.418 1681.74,712.417 1683.83,712.416 \n",
       "  1685.92,712.414 1688.01,712.413 1690.11,712.412 1692.2,712.411 1694.29,712.41 1696.38,712.409 1698.47,712.408 1700.56,712.406 1702.65,712.405 1704.74,712.405 \n",
       "  1706.83,712.404 1708.92,712.403 1711.01,712.402 1713.1,712.401 1715.19,712.4 1717.28,712.399 1719.37,712.398 1721.46,712.398 1723.55,712.397 1725.65,712.396 \n",
       "  1727.74,712.395 1729.83,712.395 1731.92,712.394 1734.01,712.393 1736.1,712.393 1738.19,712.392 1740.28,712.391 1742.37,712.391 1744.46,712.39 1746.55,712.39 \n",
       "  1748.64,712.389 1750.73,712.389 1752.82,712.388 1754.91,712.388 1757,712.387 1759.09,712.387 1761.19,712.386 1763.28,712.386 1765.37,712.385 1767.46,712.385 \n",
       "  1769.55,712.384 1771.64,712.384 1773.73,712.384 1775.82,712.383 1777.91,712.383 1780,712.382 1782.09,712.382 1784.18,712.382 1786.27,712.381 1788.36,712.381 \n",
       "  1790.45,712.381 1792.54,712.381 1794.63,712.38 1796.72,712.38 1798.82,712.38 1800.91,712.379 1803,712.379 1805.09,712.379 1807.18,712.379 1809.27,712.378 \n",
       "  1811.36,712.378 1813.45,712.378 1815.54,712.378 1817.63,712.377 1819.72,712.377 1821.81,712.377 1823.9,712.377 1825.99,712.377 1828.08,712.376 1830.17,712.376 \n",
       "  1832.26,712.376 1834.36,712.376 1836.45,712.376 1838.54,712.376 1840.63,712.375 1842.72,712.375 1844.81,712.375 1846.9,712.375 1848.99,712.375 1851.08,712.375 \n",
       "  1853.17,712.374 1855.26,712.374 1857.35,712.374 1859.44,712.374 1861.53,712.374 1863.62,712.374 1865.71,712.374 1867.8,712.374 1869.9,712.374 1871.99,712.373 \n",
       "  1874.08,712.373 1876.17,712.373 1878.26,712.373 1880.35,712.373 1882.44,712.373 1884.53,712.373 1886.62,712.373 1888.71,712.373 1890.8,712.373 1892.89,712.372 \n",
       "  1894.98,712.372 1897.07,712.372 1899.16,712.372 1901.25,712.372 1903.34,712.372 1905.43,712.372 1907.53,712.372 1909.62,712.372 1911.71,712.372 1913.8,712.372 \n",
       "  1915.89,712.372 1917.98,712.372 1920.07,712.372 1922.16,712.372 1924.25,712.372 1926.34,712.371 1928.43,712.371 1930.52,712.371 1932.61,712.371 1934.7,712.371 \n",
       "  1936.79,712.371 1938.88,712.371 1940.97,712.371 1943.07,712.371 1945.16,712.371 1947.25,712.371 1949.34,712.371 1951.43,712.371 1953.52,712.371 1955.61,712.371 \n",
       "  1957.7,712.371 1959.79,712.371 1961.88,712.371 1963.97,712.371 1966.06,712.371 1968.15,712.371 1970.24,712.371 1972.33,712.371 1974.42,712.371 1976.51,712.371 \n",
       "  1978.61,712.371 1980.7,712.371 1982.79,712.37 1984.88,712.37 1986.97,712.37 1989.06,712.37 1991.15,712.37 1993.24,712.37 1995.33,712.37 1997.42,712.37 \n",
       "  1999.51,712.37 2001.6,712.37 2003.69,712.37 2005.78,712.37 2007.87,712.37 2009.96,712.37 2012.05,712.37 2014.15,712.37 2016.24,712.37 2018.33,712.37 \n",
       "  2020.42,712.37 2022.51,712.37 2024.6,712.37 2026.69,712.37 2028.78,712.37 2030.87,712.37 2032.96,712.37 2035.05,712.37 2037.14,712.37 2039.23,712.37 \n",
       "  2041.32,712.37 2043.41,712.37 2045.5,712.37 2047.59,712.37 2049.68,712.37 2051.78,712.37 2053.87,712.37 2055.96,712.37 2058.05,712.37 2060.14,712.37 \n",
       "  2062.23,712.37 2064.32,712.37 2066.41,712.37 2068.5,712.37 2070.59,712.37 2072.68,712.37 2074.77,712.37 2076.86,712.37 2078.95,712.37 2081.04,712.37 \n",
       "  2083.13,712.37 2085.22,712.37 2087.32,712.37 2089.41,712.37 2091.5,712.37 2093.59,712.37 2095.68,712.37 2097.77,712.37 2099.86,712.37 2101.95,712.37 \n",
       "  2104.04,712.37 2106.13,712.37 2108.22,712.37 2110.31,712.37 2112.4,712.37 2114.49,712.37 2116.58,712.37 2118.67,712.37 2120.76,712.37 2122.86,712.37 \n",
       "  2124.95,712.37 2127.04,712.37 2129.13,712.37 2131.22,712.37 2133.31,712.37 2135.4,712.37 2137.49,712.37 2139.58,712.37 2141.67,712.37 2143.76,712.37 \n",
       "  2145.85,712.37 2147.94,712.37 2150.03,712.37 2152.12,712.37 2154.21,712.37 2156.3,712.37 2158.39,712.37 2160.49,712.37 2162.58,712.37 2164.67,712.37 \n",
       "  2166.76,712.37 2168.85,712.37 2170.94,712.37 2173.03,712.37 2175.12,712.37 2177.21,712.37 2179.3,712.37 2181.39,712.37 2183.48,712.37 2185.57,712.37 \n",
       "  2187.66,712.37 2189.75,712.37 2191.84,712.37 2193.93,712.37 2196.03,712.37 2198.12,712.37 2200.21,712.37 2202.3,712.37 2204.39,712.37 2206.48,712.37 \n",
       "  2208.57,712.37 2210.66,712.37 2212.75,712.37 2214.84,712.37 2216.93,712.37 2219.02,712.37 2221.11,712.37 2223.2,712.37 2225.29,712.37 2227.38,712.37 \n",
       "  2229.47,712.37 2231.57,712.37 2233.66,712.37 2235.75,712.37 2237.84,712.37 2239.93,712.37 2242.02,712.37 2244.11,712.37 2246.2,712.37 2248.29,712.37 \n",
       "  2250.38,712.37 2252.47,712.37 2254.56,712.37 2256.65,712.37 2258.74,712.37 2260.83,712.37 2262.92,712.37 2265.01,712.37 2267.1,712.37 2269.2,712.37 \n",
       "  2271.29,712.37 2273.38,712.37 2275.47,712.37 2277.56,712.37 2279.65,712.37 2281.74,712.37 2283.83,712.37 2285.92,712.37 2288.01,712.37 2290.1,712.37 \n",
       "  \n",
       "  \"/>\n",
       "<polyline clip-path=\"url(#clip942)\" style=\"stroke:#3da44d; stroke-linecap:butt; stroke-linejoin:round; stroke-width:4; stroke-opacity:1; fill:none\" points=\"\n",
       "  201.614,195.024 203.705,189.047 205.795,183.814 207.886,179.279 209.976,175.393 212.067,172.108 214.158,169.377 216.248,167.154 218.339,165.394 220.429,164.054 \n",
       "  222.52,163.089 224.61,162.459 226.701,162.125 228.792,162.047 230.882,162.191 232.973,162.524 235.063,163.016 237.154,163.638 239.244,164.368 241.335,165.183 \n",
       "  243.426,166.065 245.516,166.997 247.607,167.965 249.697,168.959 251.788,169.968 253.879,170.985 255.969,172.004 258.06,173.018 260.15,174.023 262.241,175.017 \n",
       "  264.331,175.998 266.422,176.961 268.513,177.908 270.603,178.835 272.694,179.743 274.784,180.631 276.875,181.498 278.965,182.345 281.056,183.172 283.147,183.978 \n",
       "  285.237,184.764 287.328,185.53 289.418,186.276 291.509,187.002 293.599,187.71 295.69,188.4 297.781,189.071 299.871,189.724 301.962,190.36 304.052,190.978 \n",
       "  306.143,191.581 308.234,192.167 310.324,192.737 312.415,193.292 314.505,193.833 316.596,194.358 318.686,194.87 320.777,195.367 322.868,195.851 324.958,196.322 \n",
       "  327.049,196.781 329.139,197.227 331.23,197.661 333.32,198.083 335.411,198.493 337.502,198.893 339.592,199.282 341.683,199.66 343.773,200.028 345.864,200.386 \n",
       "  347.955,200.734 350.045,201.073 352.136,201.403 354.226,201.724 356.317,202.036 358.407,202.34 360.498,202.635 362.589,202.922 364.679,203.202 366.77,203.474 \n",
       "  368.86,203.739 370.951,203.996 373.041,204.247 375.132,204.49 377.223,204.727 379.313,204.958 381.404,205.182 383.494,205.401 385.585,205.613 387.675,205.82 \n",
       "  389.766,206.021 391.857,206.216 393.947,206.407 396.038,206.592 398.128,206.772 400.219,206.947 402.31,207.117 404.4,207.283 406.491,207.444 408.581,207.601 \n",
       "  410.672,207.754 412.762,207.903 414.853,208.047 416.944,208.188 419.034,208.324 421.125,208.458 423.215,208.587 425.306,208.713 427.396,208.835 429.487,208.955 \n",
       "  431.578,209.071 433.668,209.183 435.759,209.293 437.849,209.4 439.94,209.504 442.031,209.605 444.121,209.703 446.212,209.799 448.302,209.892 450.393,209.982 \n",
       "  452.483,210.07 454.574,210.156 456.665,210.239 458.755,210.32 460.846,210.399 462.936,210.476 465.027,210.551 467.117,210.623 469.208,210.694 471.299,210.763 \n",
       "  473.389,210.829 475.48,210.895 477.57,210.958 479.661,211.019 481.751,211.079 483.842,211.137 485.933,211.194 488.023,211.249 490.114,211.303 492.204,211.355 \n",
       "  494.295,211.406 496.386,211.455 498.476,211.503 500.567,211.55 502.657,211.596 504.748,211.64 506.838,211.683 508.929,211.725 511.02,211.765 513.11,211.805 \n",
       "  515.201,211.844 517.291,211.881 519.382,211.918 521.472,211.953 523.563,211.988 525.654,212.021 527.744,212.054 529.835,212.086 531.925,212.117 534.016,212.147 \n",
       "  536.107,212.176 538.197,212.204 540.288,212.232 542.378,212.259 544.469,212.285 546.559,212.311 548.65,212.336 550.741,212.36 552.831,212.383 554.922,212.406 \n",
       "  557.012,212.428 559.103,212.45 561.193,212.471 563.284,212.491 565.375,212.511 567.465,212.531 569.556,212.55 571.646,212.568 573.737,212.586 575.827,212.603 \n",
       "  577.918,212.62 580.009,212.636 582.099,212.652 584.19,212.668 586.28,212.683 588.371,212.698 590.462,212.712 592.552,212.726 594.643,212.739 596.733,212.753 \n",
       "  598.824,212.765 600.914,212.778 603.005,212.79 605.096,212.802 607.186,212.813 609.277,212.824 611.367,212.835 613.458,212.846 615.548,212.856 617.639,212.866 \n",
       "  619.73,212.876 621.82,212.885 623.911,212.894 626.001,212.903 628.092,212.912 630.183,212.921 632.273,212.929 634.364,212.937 636.454,212.945 638.545,212.952 \n",
       "  640.635,212.96 642.726,212.967 644.817,212.974 646.907,212.981 648.998,212.987 651.088,212.994 653.179,213 655.269,213.006 657.36,213.012 659.451,213.018 \n",
       "  661.541,213.023 663.632,213.029 665.722,213.034 667.813,213.039 669.903,213.044 671.994,213.049 674.085,213.054 676.175,213.059 678.266,213.063 680.356,213.067 \n",
       "  682.447,213.072 684.538,213.076 686.628,213.08 688.719,213.084 690.809,213.088 692.9,213.091 694.99,213.095 697.081,213.098 699.172,213.102 701.262,213.105 \n",
       "  703.353,213.108 705.443,213.112 707.534,213.115 709.624,213.118 711.715,213.12 713.806,213.123 715.896,213.126 717.987,213.129 720.077,213.131 722.168,213.134 \n",
       "  724.259,213.136 726.349,213.139 728.44,213.141 730.53,213.143 732.621,213.145 734.711,213.148 736.802,213.15 738.893,213.152 740.983,213.154 743.074,213.156 \n",
       "  745.164,213.157 747.255,213.159 749.345,213.161 751.436,213.163 753.527,213.164 755.617,213.166 757.708,213.168 759.798,213.169 761.889,213.171 763.979,213.172 \n",
       "  766.07,213.173 768.161,213.175 770.251,213.176 772.342,213.177 774.432,213.179 776.523,213.18 778.614,213.181 780.704,213.182 782.795,213.183 784.885,213.185 \n",
       "  786.976,213.186 789.066,213.187 791.157,213.188 793.248,213.189 795.338,213.19 797.429,213.191 799.519,213.192 801.61,213.192 803.7,213.193 805.791,213.194 \n",
       "  807.882,213.195 809.972,213.196 812.063,213.196 814.153,213.197 816.244,213.198 818.335,213.199 820.425,213.199 822.516,213.2 824.606,213.201 826.697,213.201 \n",
       "  828.787,213.202 830.878,213.203 832.969,213.203 835.059,213.204 837.15,213.204 839.24,213.205 841.331,213.205 843.421,213.206 845.512,213.206 847.603,213.207 \n",
       "  849.693,213.207 851.784,213.208 853.874,213.208 855.965,213.209 858.055,213.209 860.146,213.209 862.237,213.21 864.327,213.21 866.418,213.211 868.508,213.211 \n",
       "  870.599,213.211 872.69,213.212 874.78,213.212 876.871,213.212 878.961,213.213 881.052,213.213 883.142,213.213 885.233,213.214 887.324,213.214 889.414,213.214 \n",
       "  891.505,213.214 893.595,213.215 895.686,213.215 897.776,213.215 899.867,213.215 901.958,213.216 904.048,213.216 906.139,213.216 908.229,213.216 910.32,213.217 \n",
       "  912.411,213.217 914.501,213.217 916.592,213.217 918.682,213.217 920.773,213.218 922.863,213.218 924.954,213.218 927.045,213.218 929.135,213.218 931.226,213.218 \n",
       "  933.316,213.219 935.407,213.219 937.497,213.219 939.588,213.219 941.679,213.219 943.769,213.219 945.86,213.219 947.95,213.219 950.041,213.22 952.131,213.22 \n",
       "  954.222,213.22 956.313,213.22 958.403,213.22 960.494,213.22 962.584,213.22 964.675,213.22 966.766,213.221 968.856,213.221 970.947,213.221 973.037,213.221 \n",
       "  975.128,213.221 977.218,213.221 979.309,213.221 981.4,213.221 983.49,213.221 985.581,213.221 987.671,213.221 989.762,213.221 991.852,213.222 993.943,213.222 \n",
       "  996.034,213.222 998.124,213.222 1000.21,213.222 1002.31,213.222 1004.4,213.222 1006.49,213.222 1008.58,213.222 1010.67,213.222 1012.76,213.222 1014.85,213.222 \n",
       "  1016.94,213.222 1019.03,213.222 1021.12,213.222 1023.21,213.222 1025.3,213.222 1027.39,213.222 1029.48,213.223 1031.57,213.223 1033.66,213.223 1035.75,213.223 \n",
       "  1037.85,213.223 1039.94,213.223 1042.03,213.223 1044.12,213.223 1046.21,213.223 1048.3,213.223 1050.39,213.223 1052.48,213.223 1054.57,213.223 1056.66,213.223 \n",
       "  1058.75,213.223 1060.84,213.223 1062.93,213.223 1065.02,213.223 1067.11,213.223 1069.2,213.223 1071.29,213.223 1073.39,213.223 1075.48,213.223 1077.57,213.223 \n",
       "  1079.66,213.223 1081.75,213.223 1083.84,213.223 1085.93,213.223 1088.02,213.223 1090.11,213.223 1092.2,213.223 1094.29,213.223 1096.38,213.223 1098.47,213.223 \n",
       "  1100.56,213.223 1102.65,213.224 1104.74,213.224 1106.83,213.224 1108.92,213.224 1111.02,213.224 1113.11,213.224 1115.2,213.224 1117.29,213.224 1119.38,213.224 \n",
       "  1121.47,213.224 1123.56,213.224 1125.65,213.224 1127.74,213.224 1129.83,213.224 1131.92,213.224 1134.01,213.224 1136.1,213.224 1138.19,213.224 1140.28,213.224 \n",
       "  1142.37,213.224 1144.46,213.224 1146.56,213.224 1148.65,213.224 1150.74,213.224 1152.83,213.224 1154.92,213.224 1157.01,213.224 1159.1,213.224 1161.19,213.224 \n",
       "  1163.28,213.224 1165.37,213.224 1167.46,213.224 1169.55,213.224 1171.64,213.224 1173.73,213.224 1175.82,213.224 1177.91,213.224 1180,213.224 1182.1,213.224 \n",
       "  1184.19,213.224 1186.28,213.224 1188.37,213.224 1190.46,213.224 1192.55,213.224 1194.64,213.224 1196.73,213.224 1198.82,213.224 1200.91,213.224 1203,213.224 \n",
       "  1205.09,213.224 1207.18,213.224 1209.27,213.224 1211.36,213.224 1213.45,213.224 1215.54,213.224 1217.63,213.224 1219.73,213.224 1221.82,213.224 1223.91,213.224 \n",
       "  1226,213.224 1228.09,213.224 1230.18,213.224 1232.27,213.224 1234.36,213.224 1236.45,213.224 1238.54,213.224 1240.63,213.224 1242.72,213.224 1244.81,213.224 \n",
       "  1246.9,213.224 1248.99,213.224 1251.08,214.901 1253.17,216.412 1255.27,217.778 1257.36,219.016 1259.45,220.14 1261.54,221.165 1263.63,222.101 1265.72,222.957 \n",
       "  1267.81,223.741 1269.9,224.462 1271.99,225.126 1274.08,225.737 1276.17,226.302 1278.26,226.824 1280.35,227.309 1282.44,227.758 1284.53,228.176 1286.62,228.565 \n",
       "  1288.71,228.927 1290.81,229.266 1292.9,229.583 1294.99,229.88 1297.08,230.158 1299.17,230.42 1301.26,230.666 1303.35,230.898 1305.44,231.116 1307.53,231.323 \n",
       "  1309.62,231.518 1311.71,231.704 1313.8,231.879 1315.89,232.046 1317.98,232.204 1320.07,232.355 1322.16,232.499 1324.25,232.636 1326.34,232.767 1328.44,232.892 \n",
       "  1330.53,233.012 1332.62,233.126 1334.71,233.236 1336.8,233.341 1338.89,233.443 1340.98,233.54 1343.07,233.633 1345.16,233.723 1347.25,233.81 1349.34,233.893 \n",
       "  1351.43,233.973 1353.52,234.051 1355.61,234.126 1357.7,234.198 1359.79,234.268 1361.88,234.335 1363.98,234.4 1366.07,234.463 1368.16,234.524 1370.25,234.583 \n",
       "  1372.34,234.64 1374.43,234.695 1376.52,234.749 1378.61,234.801 1380.7,234.851 1382.79,234.9 1384.88,234.947 1386.97,234.993 1389.06,235.038 1391.15,235.081 \n",
       "  1393.24,235.123 1395.33,235.164 1397.42,235.203 1399.52,235.241 1401.61,235.279 1403.7,235.315 1405.79,235.35 1407.88,235.384 1409.97,235.417 1412.06,235.449 \n",
       "  1414.15,235.481 1416.24,235.511 1418.33,235.541 1420.42,235.569 1422.51,235.597 1424.6,235.624 1426.69,235.651 1428.78,235.676 1430.87,235.701 1432.96,235.725 \n",
       "  1435.05,235.749 1437.15,235.772 1439.24,235.794 1441.33,235.816 1443.42,235.837 1445.51,235.857 1447.6,235.877 1449.69,235.896 1451.78,235.915 1453.87,235.933 \n",
       "  1455.96,235.951 1458.05,235.968 1460.14,235.985 1462.23,236.002 1464.32,236.017 1466.41,236.033 1468.5,236.048 1470.59,236.063 1472.69,236.077 1474.78,236.091 \n",
       "  1476.87,236.104 1478.96,236.117 1481.05,236.13 1483.14,236.142 1485.23,236.154 1487.32,236.166 1489.41,236.177 1491.5,236.188 1493.59,236.199 1495.68,236.21 \n",
       "  1497.77,236.22 1499.86,236.23 1501.95,236.239 1504.04,236.249 1506.13,236.258 1508.23,236.267 1510.32,236.275 1512.41,236.284 1514.5,236.292 1516.59,236.3 \n",
       "  1518.68,236.308 1520.77,236.315 1522.86,236.323 1524.95,236.33 1527.04,236.337 1529.13,236.343 1531.22,236.35 1533.31,236.356 1535.4,236.362 1537.49,236.368 \n",
       "  1539.58,236.374 1541.67,236.38 1543.77,236.386 1545.86,236.391 1547.95,236.396 1550.04,236.401 1552.13,236.406 1554.22,236.411 1556.31,236.416 1558.4,236.42 \n",
       "  1560.49,236.425 1562.58,236.429 1564.67,236.433 1566.76,236.437 1568.85,236.441 1570.94,236.445 1573.03,236.449 1575.12,236.453 1577.21,236.456 1579.3,236.46 \n",
       "  1581.4,236.463 1583.49,236.466 1585.58,236.47 1587.67,236.473 1589.76,236.476 1591.85,236.479 1593.94,236.481 1596.03,236.484 1598.12,236.487 1600.21,236.49 \n",
       "  1602.3,236.492 1604.39,236.495 1606.48,236.497 1608.57,236.499 1610.66,236.502 1612.75,236.504 1614.84,236.506 1616.94,236.508 1619.03,236.51 1621.12,236.512 \n",
       "  1623.21,236.514 1625.3,236.516 1627.39,236.518 1629.48,236.52 1631.57,236.521 1633.66,236.523 1635.75,236.525 1637.84,236.526 1639.93,236.528 1642.02,236.529 \n",
       "  1644.11,236.531 1646.2,236.532 1648.29,236.534 1650.38,236.535 1652.48,236.536 1654.57,236.538 1656.66,236.539 1658.75,236.54 1660.84,236.541 1662.93,236.542 \n",
       "  1665.02,236.544 1667.11,236.545 1669.2,236.546 1671.29,236.547 1673.38,236.548 1675.47,236.549 1677.56,236.55 1679.65,236.55 1681.74,236.551 1683.83,236.552 \n",
       "  1685.92,236.553 1688.01,236.554 1690.11,236.555 1692.2,236.556 1694.29,236.556 1696.38,236.557 1698.47,236.558 1700.56,236.558 1702.65,236.559 1704.74,236.56 \n",
       "  1706.83,236.56 1708.92,236.561 1711.01,236.562 1713.1,236.562 1715.19,236.563 1717.28,236.563 1719.37,236.564 1721.46,236.564 1723.55,236.565 1725.65,236.565 \n",
       "  1727.74,236.566 1729.83,236.566 1731.92,236.567 1734.01,236.567 1736.1,236.568 1738.19,236.568 1740.28,236.569 1742.37,236.569 1744.46,236.569 1746.55,236.57 \n",
       "  1748.64,236.57 1750.73,236.57 1752.82,236.571 1754.91,236.571 1757,236.571 1759.09,236.572 1761.19,236.572 1763.28,236.572 1765.37,236.573 1767.46,236.573 \n",
       "  1769.55,236.573 1771.64,236.574 1773.73,236.574 1775.82,236.574 1777.91,236.574 1780,236.575 1782.09,236.575 1784.18,236.575 1786.27,236.575 1788.36,236.575 \n",
       "  1790.45,236.576 1792.54,236.576 1794.63,236.576 1796.72,236.576 1798.82,236.576 1800.91,236.577 1803,236.577 1805.09,236.577 1807.18,236.577 1809.27,236.577 \n",
       "  1811.36,236.578 1813.45,236.578 1815.54,236.578 1817.63,236.578 1819.72,236.578 1821.81,236.578 1823.9,236.578 1825.99,236.579 1828.08,236.579 1830.17,236.579 \n",
       "  1832.26,236.579 1834.36,236.579 1836.45,236.579 1838.54,236.579 1840.63,236.579 1842.72,236.579 1844.81,236.58 1846.9,236.58 1848.99,236.58 1851.08,236.58 \n",
       "  1853.17,236.58 1855.26,236.58 1857.35,236.58 1859.44,236.58 1861.53,236.58 1863.62,236.58 1865.71,236.58 1867.8,236.581 1869.9,236.581 1871.99,236.581 \n",
       "  1874.08,236.581 1876.17,236.581 1878.26,236.581 1880.35,236.581 1882.44,236.581 1884.53,236.581 1886.62,236.581 1888.71,236.581 1890.8,236.581 1892.89,236.581 \n",
       "  1894.98,236.581 1897.07,236.581 1899.16,236.581 1901.25,236.582 1903.34,236.582 1905.43,236.582 1907.53,236.582 1909.62,236.582 1911.71,236.582 1913.8,236.582 \n",
       "  1915.89,236.582 1917.98,236.582 1920.07,236.582 1922.16,236.582 1924.25,236.582 1926.34,236.582 1928.43,236.582 1930.52,236.582 1932.61,236.582 1934.7,236.582 \n",
       "  1936.79,236.582 1938.88,236.582 1940.97,236.582 1943.07,236.582 1945.16,236.582 1947.25,236.582 1949.34,236.582 1951.43,236.582 1953.52,236.582 1955.61,236.582 \n",
       "  1957.7,236.582 1959.79,236.582 1961.88,236.582 1963.97,236.583 1966.06,236.583 1968.15,236.583 1970.24,236.583 1972.33,236.583 1974.42,236.583 1976.51,236.583 \n",
       "  1978.61,236.583 1980.7,236.583 1982.79,236.583 1984.88,236.583 1986.97,236.583 1989.06,236.583 1991.15,236.583 1993.24,236.583 1995.33,236.583 1997.42,236.583 \n",
       "  1999.51,236.583 2001.6,236.583 2003.69,236.583 2005.78,236.583 2007.87,236.583 2009.96,236.583 2012.05,236.583 2014.15,236.583 2016.24,236.583 2018.33,236.583 \n",
       "  2020.42,236.583 2022.51,236.583 2024.6,236.583 2026.69,236.583 2028.78,236.583 2030.87,236.583 2032.96,236.583 2035.05,236.583 2037.14,236.583 2039.23,236.583 \n",
       "  2041.32,236.583 2043.41,236.583 2045.5,236.583 2047.59,236.583 2049.68,236.583 2051.78,236.583 2053.87,236.583 2055.96,236.583 2058.05,236.583 2060.14,236.583 \n",
       "  2062.23,236.583 2064.32,236.583 2066.41,236.583 2068.5,236.583 2070.59,236.583 2072.68,236.583 2074.77,236.583 2076.86,236.583 2078.95,236.583 2081.04,236.583 \n",
       "  2083.13,236.583 2085.22,236.583 2087.32,236.583 2089.41,236.583 2091.5,236.583 2093.59,236.583 2095.68,236.583 2097.77,236.583 2099.86,236.583 2101.95,236.583 \n",
       "  2104.04,236.583 2106.13,236.583 2108.22,236.583 2110.31,236.583 2112.4,236.583 2114.49,236.583 2116.58,236.583 2118.67,236.583 2120.76,236.583 2122.86,236.583 \n",
       "  2124.95,236.583 2127.04,236.583 2129.13,236.583 2131.22,236.583 2133.31,236.583 2135.4,236.583 2137.49,236.583 2139.58,236.583 2141.67,236.583 2143.76,236.583 \n",
       "  2145.85,236.583 2147.94,236.583 2150.03,236.583 2152.12,236.583 2154.21,236.583 2156.3,236.583 2158.39,236.583 2160.49,236.583 2162.58,236.583 2164.67,236.583 \n",
       "  2166.76,236.583 2168.85,236.583 2170.94,236.583 2173.03,236.583 2175.12,236.583 2177.21,236.583 2179.3,236.583 2181.39,236.583 2183.48,236.583 2185.57,236.583 \n",
       "  2187.66,236.583 2189.75,236.583 2191.84,236.583 2193.93,236.583 2196.03,236.583 2198.12,236.583 2200.21,236.583 2202.3,236.583 2204.39,236.583 2206.48,236.583 \n",
       "  2208.57,236.583 2210.66,236.583 2212.75,236.583 2214.84,236.583 2216.93,236.583 2219.02,236.583 2221.11,236.583 2223.2,236.583 2225.29,236.583 2227.38,236.583 \n",
       "  2229.47,236.583 2231.57,236.583 2233.66,236.583 2235.75,236.583 2237.84,236.583 2239.93,236.583 2242.02,236.583 2244.11,236.583 2246.2,236.583 2248.29,236.583 \n",
       "  2250.38,236.583 2252.47,236.583 2254.56,236.583 2256.65,236.583 2258.74,236.583 2260.83,236.583 2262.92,236.583 2265.01,236.583 2267.1,236.583 2269.2,236.583 \n",
       "  2271.29,236.583 2273.38,236.583 2275.47,236.583 2277.56,236.583 2279.65,236.583 2281.74,236.583 2283.83,236.583 2285.92,236.583 2288.01,236.583 2290.1,236.583 \n",
       "  \n",
       "  \"/>\n",
       "<path clip-path=\"url(#clip940)\" d=\"\n",
       "M1855.86 376.265 L2278.96 376.265 L2278.96 168.905 L1855.86 168.905  Z\n",
       "  \" fill=\"#ffffff\" fill-rule=\"evenodd\" fill-opacity=\"1\"/>\n",
       "<polyline clip-path=\"url(#clip940)\" style=\"stroke:#000000; stroke-linecap:butt; stroke-linejoin:round; stroke-width:4; stroke-opacity:1; fill:none\" points=\"\n",
       "  1855.86,376.265 2278.96,376.265 2278.96,168.905 1855.86,168.905 1855.86,376.265 \n",
       "  \"/>\n",
       "<polyline clip-path=\"url(#clip940)\" style=\"stroke:#009af9; stroke-linecap:butt; stroke-linejoin:round; stroke-width:4; stroke-opacity:1; fill:none\" points=\"\n",
       "  1880.45,220.745 2028.04,220.745 \n",
       "  \"/>\n",
       "<path clip-path=\"url(#clip940)\" d=\"M2057.31 207.307 L2057.31 220.293 L2063.19 220.293 Q2066.46 220.293 2068.24 218.603 Q2070.02 216.914 2070.02 213.789 Q2070.02 210.687 2068.24 208.997 Q2066.46 207.307 2063.19 207.307 L2057.31 207.307 M2052.64 203.465 L2063.19 203.465 Q2069 203.465 2071.97 206.104 Q2074.95 208.719 2074.95 213.789 Q2074.95 218.904 2071.97 221.52 Q2069 224.136 2063.19 224.136 L2057.31 224.136 L2057.31 238.025 L2052.64 238.025 L2052.64 203.465 Z\" fill=\"#000000\" fill-rule=\"evenodd\" fill-opacity=\"1\" /><path clip-path=\"url(#clip940)\" d=\"M2095.23 216.08 Q2094.51 215.664 2093.66 215.478 Q2092.82 215.27 2091.8 215.27 Q2088.19 215.27 2086.25 217.631 Q2084.33 219.969 2084.33 224.367 L2084.33 238.025 L2080.05 238.025 L2080.05 212.099 L2084.33 212.099 L2084.33 216.127 Q2085.67 213.766 2087.82 212.631 Q2089.98 211.474 2093.05 211.474 Q2093.49 211.474 2094.03 211.543 Q2094.56 211.59 2095.21 211.705 L2095.23 216.08 Z\" fill=\"#000000\" fill-rule=\"evenodd\" fill-opacity=\"1\" /><path clip-path=\"url(#clip940)\" d=\"M2099.7 212.099 L2103.96 212.099 L2103.96 238.025 L2099.7 238.025 L2099.7 212.099 M2099.7 202.006 L2103.96 202.006 L2103.96 207.4 L2099.7 207.4 L2099.7 202.006 Z\" fill=\"#000000\" fill-rule=\"evenodd\" fill-opacity=\"1\" /><path clip-path=\"url(#clip940)\" d=\"M2133.05 217.076 Q2134.65 214.205 2136.87 212.84 Q2139.1 211.474 2142.11 211.474 Q2146.16 211.474 2148.36 214.321 Q2150.55 217.145 2150.55 222.377 L2150.55 238.025 L2146.27 238.025 L2146.27 222.515 Q2146.27 218.789 2144.95 216.983 Q2143.63 215.178 2140.93 215.178 Q2137.61 215.178 2135.69 217.377 Q2133.77 219.576 2133.77 223.372 L2133.77 238.025 L2129.49 238.025 L2129.49 222.515 Q2129.49 218.765 2128.17 216.983 Q2126.85 215.178 2124.1 215.178 Q2120.83 215.178 2118.91 217.4 Q2116.99 219.599 2116.99 223.372 L2116.99 238.025 L2112.71 238.025 L2112.71 212.099 L2116.99 212.099 L2116.99 216.127 Q2118.45 213.742 2120.49 212.608 Q2122.52 211.474 2125.32 211.474 Q2128.15 211.474 2130.11 212.909 Q2132.11 214.344 2133.05 217.076 Z\" fill=\"#000000\" fill-rule=\"evenodd\" fill-opacity=\"1\" /><path clip-path=\"url(#clip940)\" d=\"M2170.83 224.992 Q2165.67 224.992 2163.68 226.173 Q2161.69 227.353 2161.69 230.201 Q2161.69 232.469 2163.17 233.812 Q2164.67 235.131 2167.24 235.131 Q2170.79 235.131 2172.92 232.631 Q2175.07 230.108 2175.07 225.941 L2175.07 224.992 L2170.83 224.992 M2179.33 223.233 L2179.33 238.025 L2175.07 238.025 L2175.07 234.089 Q2173.61 236.451 2171.43 237.585 Q2169.26 238.696 2166.11 238.696 Q2162.13 238.696 2159.77 236.474 Q2157.43 234.228 2157.43 230.478 Q2157.43 226.103 2160.35 223.881 Q2163.29 221.659 2169.1 221.659 L2175.07 221.659 L2175.07 221.242 Q2175.07 218.303 2173.12 216.705 Q2171.2 215.085 2167.71 215.085 Q2165.49 215.085 2163.38 215.617 Q2161.27 216.15 2159.33 217.215 L2159.33 213.279 Q2161.67 212.377 2163.86 211.937 Q2166.06 211.474 2168.15 211.474 Q2173.77 211.474 2176.55 214.391 Q2179.33 217.307 2179.33 223.233 Z\" fill=\"#000000\" fill-rule=\"evenodd\" fill-opacity=\"1\" /><path clip-path=\"url(#clip940)\" d=\"M2203.12 216.08 Q2202.41 215.664 2201.55 215.478 Q2200.72 215.27 2199.7 215.27 Q2196.09 215.27 2194.14 217.631 Q2192.22 219.969 2192.22 224.367 L2192.22 238.025 L2187.94 238.025 L2187.94 212.099 L2192.22 212.099 L2192.22 216.127 Q2193.56 213.766 2195.72 212.631 Q2197.87 211.474 2200.95 211.474 Q2201.39 211.474 2201.92 211.543 Q2202.45 211.59 2203.1 211.705 L2203.12 216.08 Z\" fill=\"#000000\" fill-rule=\"evenodd\" fill-opacity=\"1\" /><path clip-path=\"url(#clip940)\" d=\"M2218.38 240.432 Q2216.57 245.062 2214.86 246.474 Q2213.15 247.886 2210.28 247.886 L2206.87 247.886 L2206.87 244.321 L2209.37 244.321 Q2211.13 244.321 2212.11 243.488 Q2213.08 242.654 2214.26 239.552 L2215.02 237.608 L2204.54 212.099 L2209.05 212.099 L2217.15 232.377 L2225.25 212.099 L2229.77 212.099 L2218.38 240.432 Z\" fill=\"#000000\" fill-rule=\"evenodd\" fill-opacity=\"1\" /><polyline clip-path=\"url(#clip940)\" style=\"stroke:#e26f46; stroke-linecap:butt; stroke-linejoin:round; stroke-width:4; stroke-opacity:1; fill:none\" points=\"\n",
       "  1880.45,272.585 2028.04,272.585 \n",
       "  \"/>\n",
       "<path clip-path=\"url(#clip940)\" d=\"M2052.64 255.305 L2058.93 255.305 L2074.26 284.217 L2074.26 255.305 L2078.8 255.305 L2078.8 289.865 L2072.5 289.865 L2057.18 260.953 L2057.18 289.865 L2052.64 289.865 L2052.64 255.305 Z\" fill=\"#000000\" fill-rule=\"evenodd\" fill-opacity=\"1\" /><path clip-path=\"url(#clip940)\" d=\"M2097.96 266.925 Q2094.54 266.925 2092.55 269.61 Q2090.55 272.272 2090.55 276.925 Q2090.55 281.578 2092.52 284.263 Q2094.51 286.925 2097.96 286.925 Q2101.37 286.925 2103.36 284.24 Q2105.35 281.555 2105.35 276.925 Q2105.35 272.318 2103.36 269.633 Q2101.37 266.925 2097.96 266.925 M2097.96 263.314 Q2103.52 263.314 2106.69 266.925 Q2109.86 270.536 2109.86 276.925 Q2109.86 283.291 2106.69 286.925 Q2103.52 290.536 2097.96 290.536 Q2092.38 290.536 2089.21 286.925 Q2086.06 283.291 2086.06 276.925 Q2086.06 270.536 2089.21 266.925 Q2092.38 263.314 2097.96 263.314 Z\" fill=\"#000000\" fill-rule=\"evenodd\" fill-opacity=\"1\" /><path clip-path=\"url(#clip940)\" d=\"M2131.94 267.92 Q2131.23 267.504 2130.37 267.318 Q2129.54 267.11 2128.52 267.11 Q2124.91 267.11 2122.96 269.471 Q2121.04 271.809 2121.04 276.207 L2121.04 289.865 L2116.76 289.865 L2116.76 263.939 L2121.04 263.939 L2121.04 267.967 Q2122.38 265.606 2124.54 264.471 Q2126.69 263.314 2129.77 263.314 Q2130.21 263.314 2130.74 263.383 Q2131.27 263.43 2131.92 263.545 L2131.94 267.92 Z\" fill=\"#000000\" fill-rule=\"evenodd\" fill-opacity=\"1\" /><path clip-path=\"url(#clip940)\" d=\"M2155.76 268.916 Q2157.36 266.045 2159.58 264.68 Q2161.8 263.314 2164.81 263.314 Q2168.86 263.314 2171.06 266.161 Q2173.26 268.985 2173.26 274.217 L2173.26 289.865 L2168.98 289.865 L2168.98 274.355 Q2168.98 270.629 2167.66 268.823 Q2166.34 267.018 2163.63 267.018 Q2160.32 267.018 2158.4 269.217 Q2156.48 271.416 2156.48 275.212 L2156.48 289.865 L2152.2 289.865 L2152.2 274.355 Q2152.2 270.605 2150.88 268.823 Q2149.56 267.018 2146.8 267.018 Q2143.54 267.018 2141.62 269.24 Q2139.7 271.439 2139.7 275.212 L2139.7 289.865 L2135.42 289.865 L2135.42 263.939 L2139.7 263.939 L2139.7 267.967 Q2141.16 265.582 2143.19 264.448 Q2145.23 263.314 2148.03 263.314 Q2150.86 263.314 2152.82 264.749 Q2154.81 266.184 2155.76 268.916 Z\" fill=\"#000000\" fill-rule=\"evenodd\" fill-opacity=\"1\" /><path clip-path=\"url(#clip940)\" d=\"M2193.54 276.832 Q2188.38 276.832 2186.39 278.013 Q2184.4 279.193 2184.4 282.041 Q2184.4 284.309 2185.88 285.652 Q2187.38 286.971 2189.95 286.971 Q2193.49 286.971 2195.62 284.471 Q2197.78 281.948 2197.78 277.781 L2197.78 276.832 L2193.54 276.832 M2202.04 275.073 L2202.04 289.865 L2197.78 289.865 L2197.78 285.929 Q2196.32 288.291 2194.14 289.425 Q2191.97 290.536 2188.82 290.536 Q2184.84 290.536 2182.48 288.314 Q2180.14 286.068 2180.14 282.318 Q2180.14 277.943 2183.05 275.721 Q2185.99 273.499 2191.8 273.499 L2197.78 273.499 L2197.78 273.082 Q2197.78 270.143 2195.83 268.545 Q2193.91 266.925 2190.42 266.925 Q2188.19 266.925 2186.09 267.457 Q2183.98 267.99 2182.04 269.055 L2182.04 265.119 Q2184.37 264.217 2186.57 263.777 Q2188.77 263.314 2190.86 263.314 Q2196.48 263.314 2199.26 266.231 Q2202.04 269.147 2202.04 275.073 Z\" fill=\"#000000\" fill-rule=\"evenodd\" fill-opacity=\"1\" /><path clip-path=\"url(#clip940)\" d=\"M2210.81 253.846 L2215.07 253.846 L2215.07 289.865 L2210.81 289.865 L2210.81 253.846 Z\" fill=\"#000000\" fill-rule=\"evenodd\" fill-opacity=\"1\" /><polyline clip-path=\"url(#clip940)\" style=\"stroke:#3da44d; stroke-linecap:butt; stroke-linejoin:round; stroke-width:4; stroke-opacity:1; fill:none\" points=\"\n",
       "  1880.45,324.425 2028.04,324.425 \n",
       "  \"/>\n",
       "<path clip-path=\"url(#clip940)\" d=\"M2052.64 307.145 L2057.31 307.145 L2057.31 337.769 L2074.14 337.769 L2074.14 341.705 L2052.64 341.705 L2052.64 307.145 Z\" fill=\"#000000\" fill-rule=\"evenodd\" fill-opacity=\"1\" /><path clip-path=\"url(#clip940)\" d=\"M2077.59 331.473 L2077.59 315.779 L2081.85 315.779 L2081.85 331.311 Q2081.85 334.992 2083.29 336.844 Q2084.72 338.672 2087.59 338.672 Q2091.04 338.672 2093.03 336.473 Q2095.05 334.274 2095.05 330.478 L2095.05 315.779 L2099.3 315.779 L2099.3 341.705 L2095.05 341.705 L2095.05 337.723 Q2093.49 340.084 2091.43 341.242 Q2089.4 342.376 2086.69 342.376 Q2082.22 342.376 2079.91 339.598 Q2077.59 336.82 2077.59 331.473 M2088.31 315.154 L2088.31 315.154 Z\" fill=\"#000000\" fill-rule=\"evenodd\" fill-opacity=\"1\" /><path clip-path=\"url(#clip940)\" d=\"M2129.63 315.779 L2120.25 328.395 L2130.11 341.705 L2125.09 341.705 L2117.55 331.52 L2110 341.705 L2104.98 341.705 L2115.05 328.14 L2105.83 315.779 L2110.86 315.779 L2117.73 325.015 L2124.61 315.779 L2129.63 315.779 Z\" fill=\"#000000\" fill-rule=\"evenodd\" fill-opacity=\"1\" /><path clip-path=\"url(#clip940)\" d=\"M2135.69 331.473 L2135.69 315.779 L2139.95 315.779 L2139.95 331.311 Q2139.95 334.992 2141.39 336.844 Q2142.82 338.672 2145.69 338.672 Q2149.14 338.672 2151.13 336.473 Q2153.15 334.274 2153.15 330.478 L2153.15 315.779 L2157.41 315.779 L2157.41 341.705 L2153.15 341.705 L2153.15 337.723 Q2151.6 340.084 2149.54 341.242 Q2147.5 342.376 2144.79 342.376 Q2140.32 342.376 2138.01 339.598 Q2135.69 336.82 2135.69 331.473 M2146.41 315.154 L2146.41 315.154 Z\" fill=\"#000000\" fill-rule=\"evenodd\" fill-opacity=\"1\" /><path clip-path=\"url(#clip940)\" d=\"M2181.2 319.76 Q2180.49 319.344 2179.63 319.158 Q2178.8 318.95 2177.78 318.95 Q2174.17 318.95 2172.22 321.311 Q2170.3 323.649 2170.3 328.047 L2170.3 341.705 L2166.02 341.705 L2166.02 315.779 L2170.3 315.779 L2170.3 319.807 Q2171.64 317.446 2173.8 316.311 Q2175.95 315.154 2179.03 315.154 Q2179.47 315.154 2180 315.223 Q2180.53 315.27 2181.18 315.385 L2181.2 319.76 Z\" fill=\"#000000\" fill-rule=\"evenodd\" fill-opacity=\"1\" /><path clip-path=\"url(#clip940)\" d=\"M2196.46 344.112 Q2194.65 348.742 2192.94 350.154 Q2191.23 351.566 2188.36 351.566 L2184.95 351.566 L2184.95 348.001 L2187.45 348.001 Q2189.21 348.001 2190.18 347.168 Q2191.16 346.334 2192.34 343.232 L2193.1 341.288 L2182.61 315.779 L2187.13 315.779 L2195.23 336.057 L2203.33 315.779 L2207.85 315.779 L2196.46 344.112 Z\" fill=\"#000000\" fill-rule=\"evenodd\" fill-opacity=\"1\" /></svg>\n"
      ]
     },
     "metadata": {},
     "output_type": "display_data"
    }
   ],
   "source": [
    "pge"
   ]
  },
  {
   "cell_type": "code",
   "execution_count": 74,
   "metadata": {},
   "outputs": [
    {
     "data": {
      "text/plain": [
       "([1.4489403835227557, 6.460733497555833, 9.875670163724923], [2.288418525859007, 6.465848326210855, 9.716095704682134], [2.288418525859007, 6.465848326210855, 9.716095704682134])"
      ]
     },
     "metadata": {},
     "output_type": "display_data"
    }
   ],
   "source": [
    "initial_p, after_shock_p,p"
   ]
  },
  {
   "cell_type": "code",
   "execution_count": 75,
   "metadata": {},
   "outputs": [
    {
     "data": {
      "text/plain": [
       "300×9 Matrix{Any}:\n",
       "  1    0.863966  1.22041   0.0545574  …   0.594812  0.277596   0.219256\n",
       "  2    1.02138   0.66096   0.377906       0.641989  0.304671   0.247276\n",
       "  3    1.11658   1.24814   0.347992       0.668694  0.320185   0.263658\n",
       "  4    1.31143   1.8686    0.228383       0.719893  0.350289   0.296086\n",
       "  5    1.43874   1.20542   0.340603       0.751238  0.368944   0.316585\n",
       "  6    1.61609   1.53651   0.603143   …   0.792604  0.39381    0.344366\n",
       "  7    1.62825   0.113648  0.89139        0.795352  0.395472   0.346241\n",
       "  8    1.65021   0.874491  0.315647       0.80029   0.398461   0.349618\n",
       "  9    1.68933   2.07224   0.014151       0.808999  0.403742   0.355603\n",
       " 10    1.97933   0.189259  0.759608       0.870573  0.441409   0.398918\n",
       "  ⋮                                   ⋱                       \n",
       " 22   56.1244    0.3836    0.74696        4.34216   3.07613    4.7874\n",
       " 23   56.6749    0.365858  0.254988       4.36323   3.09408    4.82298\n",
       " 24   60.3907    3.3268    1.67849        4.50297   3.21351    5.06111\n",
       " 25   63.8628    2.54006   3.07733        4.62981   3.32255    5.28059\n",
       " 26   78.3311    3.7711    1.12675    …   5.12543   3.75412    6.16779\n",
       " 27   92.6171    2.31201   1.8296         5.57286   4.1508     7.00771\n",
       " 28  189.489     1.91611   1.80157        7.98934   6.39225   12.1232\n",
       " 29  300.721     3.7274    0.517213      10.1009    8.46374   17.303\n",
       " 30  349.694     2.18131   2.03982       10.9089    9.27974   19.4421"
      ]
     },
     "metadata": {},
     "output_type": "display_data"
    }
   ],
   "source": [
    "A=[]\n",
    "B=[]\n",
    "\n",
    "Exp=[]\n",
    "C_P=[]\n",
    "C_N=[]\n",
    "C_L=[]\n",
    "U=[]\n",
    "#Deciles\n",
    "for j=1:10\n",
    "    for i=1:na/10\n",
    "        A=push!(A,Int(i))\n",
    "        B=push!(B,Int(j))\n",
    "    end\n",
    "end\n",
    "\n",
    "#Initial endowment with GE prices\n",
    "\n",
    "for a = 1:Int(length(G)/ng)\n",
    "    E=sum(initial_p[i]*G[a,i] for i = 1:ng)\n",
    "    C1=NHUtility(G[a,:],initial_p)[1]\n",
    "    C2=NHUtility(G[a,:],initial_p)[2]\n",
    "    C3=NHUtility(G[a,:],initial_p)[3]\n",
    "    Utility=NHUtility(G[a,:],initial_p)[4]\n",
    "\n",
    "    \n",
    "    Exp=push!(Exp,E)\n",
    "    C_P=push!(C_P,C1)\n",
    "    C_N=push!(C_N,C2)\n",
    "    C_L=push!(C_L,C3)\n",
    "    U=push!(U,Utility)\n",
    "end\n",
    "#initial=sortslices(initial,dims=1,by=x->(x[1]),rev=false)\n",
    "\n",
    "initial= [A U G Exp C_P C_N C_L]"
   ]
  },
  {
   "cell_type": "code",
   "execution_count": 76,
   "metadata": {},
   "outputs": [
    {
     "data": {
      "text/plain": [
       "300×9 Matrix{Any}:\n",
       "  1    0.762343  0.97633    0.0545574  …   0.56193   0.258989   0.200442\n",
       "  2    0.962319  0.528768   0.377906       0.624764  0.294735   0.236908\n",
       "  3    1.00244   0.998516   0.347992       0.636523  0.301512   0.243969\n",
       "  4    1.13186   1.49488    0.228383       0.67287   0.322623   0.266253\n",
       "  5    1.31791   0.964337   0.340603       0.721527  0.351258   0.297143\n",
       "  6    1.45622   1.22921    0.603143   …   0.755429  0.37145    0.319362\n",
       "  7    1.6162    0.0909184  0.89139        0.792628  0.393825   0.344383\n",
       "  8    1.55785   0.699593   0.315647       0.779291  0.385777   0.335336\n",
       "  9    1.47164   1.65779    0.014151       0.759102  0.37365    0.321803\n",
       " 10    1.9579    0.151407   0.759608       0.866188  0.438708   0.395775\n",
       "  ⋮                                    ⋱                       \n",
       " 22   56.0017    0.30688    0.74696        4.33745   3.07212    4.77946\n",
       " 23   56.5575    0.292687   0.254988       4.35875   3.09026    4.8154\n",
       " 24   59.3067    2.66144    1.67849        4.46265   3.17898    4.992\n",
       " 25   63.0215    2.03205    3.07733        4.59939   3.29635    5.22766\n",
       " 26   77.0092    3.01688    1.12675    …   5.0821    3.71605    6.08839\n",
       " 27   91.7673    1.8496     1.8296         5.54722   4.12789    6.95862\n",
       " 28  188.633     1.53289    1.80157        7.97107   6.37474   12.0811\n",
       " 29  298.842     2.98192    0.517213      10.0687    8.43146   17.2195\n",
       " 30  348.55      1.74505    2.03982       10.8907    9.26119   19.3929"
      ]
     },
     "metadata": {},
     "output_type": "display_data"
    }
   ],
   "source": [
    "#After the shock, endowment with GE prices\n",
    "C_P=[]\n",
    "C_N=[]\n",
    "C_L=[]\n",
    "U=[]\n",
    "Exp_ng=[]\n",
    "for a = 1:Int(length(n_G)/ng)\n",
    "    E=sum(initial_p[i]*n_G[a,i] for i = 1:ng)\n",
    "    C1=NHUtility(n_G[a,:],initial_p)[1]\n",
    "    C2=NHUtility(n_G[a,:],initial_p)[2]\n",
    "    C3=NHUtility(n_G[a,:],initial_p)[3]\n",
    "    Utility=NHUtility(n_G[a,:],initial_p)[4]\n",
    "\n",
    "    Exp_ng=push!(Exp_ng,E)\n",
    "    C_P=push!(C_P,C1)\n",
    "    C_N=push!(C_N,C2)\n",
    "    C_L=push!(C_L,C3)\n",
    "    U=push!(U,Utility)\n",
    "end\n",
    "after_shock=[A U n_G Exp_ng C_P C_N C_L]"
   ]
  },
  {
   "cell_type": "code",
   "execution_count": 77,
   "metadata": {},
   "outputs": [
    {
     "data": {
      "text/plain": [
       "300×9 Matrix{Float64}:\n",
       " 0.0  0.117623    0.2  0.0  0.0  …  0.0552809   0.0670291   0.085809\n",
       " 0.0  0.0578282   0.2  0.0  0.0     0.0268303   0.03261     0.041929\n",
       " 0.0  0.10222     0.2  0.0  0.0     0.0481104   0.0583195   0.0746763\n",
       " 0.0  0.13692     0.2  0.0  0.0     0.0653189   0.0789811   0.100758\n",
       " 0.0  0.0839791   0.2  0.0  0.0     0.0395493   0.0479372   0.0614115\n",
       " 0.0  0.0989233   0.2  0.0  0.0  …  0.0469023   0.0567787   0.0726101\n",
       " 0.0  0.00740108  0.2  0.0  0.0     0.00342433  0.00416437  0.00536576\n",
       " 0.0  0.0559706   0.2  0.0  0.0     0.0262388   0.0318314   0.0408508\n",
       " 0.0  0.128864    0.2  0.0  0.0     0.0616772   0.0745331   0.0950493\n",
       " 0.0  0.0108308   0.2  0.0  0.0     0.00503772  0.00612063  0.00787784\n",
       " ⋮                               ⋱                          \n",
       " 0.0  0.00218629  0.2  0.0  0.0     0.00108507  0.00130368  0.00165881\n",
       " 0.0  0.00207067  0.2  0.0  0.0     0.00102783  0.00123487  0.00157123\n",
       " 0.0  0.0179496   0.2  0.0  0.0     0.00895428  0.0107477   0.0136551\n",
       " 0.0  0.0131742   0.2  0.0  0.0     0.00657065  0.00788724  0.010023\n",
       " 0.0  0.016875    0.2  0.0  0.0  …  0.00845329  0.0101394   0.0128731\n",
       " 0.0  0.00917564  0.2  0.0  0.0     0.00460057  0.00551771  0.00700625\n",
       " 0.0  0.00451548  0.2  0.0  0.0     0.00228736  0.00273879  0.00347194\n",
       " 0.0  0.00624918  0.2  0.0  0.0     0.00318878  0.00381346  0.00482774\n",
       " 0.0  0.00327177  0.2  0.0  0.0     0.00167193  0.00199904  0.00253037"
      ]
     },
     "metadata": {},
     "output_type": "display_data"
    }
   ],
   "source": [
    "loss=(initial-after_shock)./initial"
   ]
  },
  {
   "cell_type": "code",
   "execution_count": 78,
   "metadata": {},
   "outputs": [
    {
     "data": {
      "text/plain": [
       "300-element Vector{Float64}:\n",
       " 0.11762283546220698\n",
       " 0.05782817741055287\n",
       " 0.1022198951523914\n",
       " 0.13692037929548048\n",
       " 0.08397905956395156\n",
       " 0.09892334590414312\n",
       " 0.007401077145034052\n",
       " 0.05597064772129891\n",
       " 0.12886352572278875\n",
       " 0.010830756365870813\n",
       " ⋮\n",
       " 0.0021862931631266356\n",
       " 0.0020706673071276115\n",
       " 0.01794957353765482\n",
       " 0.01317421337509604\n",
       " 0.016875025223043846\n",
       " 0.009175639946993783\n",
       " 0.004515476216903728\n",
       " 0.006249178304306515\n",
       " 0.003271768003098371"
      ]
     },
     "metadata": {},
     "output_type": "display_data"
    }
   ],
   "source": [
    "Utility_loss=loss[:,2]"
   ]
  },
  {
   "cell_type": "code",
   "execution_count": 79,
   "metadata": {},
   "outputs": [
    {
     "data": {
      "image/png": "[encoded data removed]",
      "image/svg+xml": "<?xml version=\"1.0\" encoding=\"utf-8\"?>\n<svg xmlns=\"http://www.w3.org/2000/svg\" xmlns:xlink=\"http://www.w3.org/1999/xlink\" width=\"600\" height=\"400\" viewBox=\"0 0 2400 1600\">\n<defs>\n  <clipPath id=\"clip990\">\n    <rect x=\"0\" y=\"0\" width=\"2400\" height=\"1600\"/>\n  </clipPath>\n</defs>\n<path clip-path=\"url(#clip990)\" d=\"\nM0 1600 L2400 1600 L2400 0 L0 0  Z\n  \" fill=\"#ffffff\" fill-rule=\"evenodd\" fill-opacity=\"1\"/>\n<defs>\n  <clipPath id=\"clip991\">\n    <rect x=\"480\" y=\"0\" width=\"1681\" height=\"1600\"/>\n  </clipPath>\n</defs>\n<path clip-path=\"url(#clip990)\" d=\"\nM186.274 1486.45 L2352.76 1486.45 L2352.76 123.472 L186.274 123.472  Z\n  \" fill=\"#ffffff\" fill-rule=\"evenodd\" fill-opacity=\"1\"/>\n<defs>\n  <clipPath id=\"clip992\">\n    <rect x=\"186\" y=\"123\" width=\"2167\" height=\"1364\"/>\n  </clipPath>\n</defs>\n<polyline clip-path=\"url(#clip992)\" style=\"stroke:#000000; stroke-linecap:butt; stroke-linejoin:round; stroke-width:2; stroke-opacity:0.1; fill:none\" points=\"\n  240.754,1486.45 240.754,123.472 \n  \"/>\n<polyline clip-path=\"url(#clip992)\" style=\"stroke:#000000; stroke-linecap:butt; stroke-linejoin:round; stroke-width:2; stroke-opacity:0.1; fill:none\" points=\"\n  924.316,1486.45 924.316,123.472 \n  \"/>\n<polyline clip-path=\"url(#clip992)\" style=\"stroke:#000000; stroke-linecap:butt; stroke-linejoin:round; stroke-width:2; stroke-opacity:0.1; fill:none\" points=\"\n  1607.88,1486.45 1607.88,123.472 \n  \"/>\n<polyline clip-path=\"url(#clip992)\" style=\"stroke:#000000; stroke-linecap:butt; stroke-linejoin:round; stroke-width:2; stroke-opacity:0.1; fill:none\" points=\"\n  2291.44,1486.45 2291.44,123.472 \n  \"/>\n<polyline clip-path=\"url(#clip990)\" style=\"stroke:#000000; stroke-linecap:butt; stroke-linejoin:round; stroke-width:4; stroke-opacity:1; fill:none\" points=\"\n  186.274,1486.45 2352.76,1486.45 \n  \"/>\n<polyline clip-path=\"url(#clip990)\" style=\"stroke:#000000; stroke-linecap:butt; stroke-linejoin:round; stroke-width:4; stroke-opacity:1; fill:none\" points=\"\n  240.754,1486.45 240.754,1467.55 \n  \"/>\n<polyline clip-path=\"url(#clip990)\" style=\"stroke:#000000; stroke-linecap:butt; stroke-linejoin:round; stroke-width:4; stroke-opacity:1; fill:none\" points=\"\n  924.316,1486.45 924.316,1467.55 \n  \"/>\n<polyline clip-path=\"url(#clip990)\" style=\"stroke:#000000; stroke-linecap:butt; stroke-linejoin:round; stroke-width:4; stroke-opacity:1; fill:none\" points=\"\n  1607.88,1486.45 1607.88,1467.55 \n  \"/>\n<polyline clip-path=\"url(#clip990)\" style=\"stroke:#000000; stroke-linecap:butt; stroke-linejoin:round; stroke-width:4; stroke-opacity:1; fill:none\" points=\"\n  2291.44,1486.45 2291.44,1467.55 \n  \"/>\n<path clip-path=\"url(#clip990)\" d=\"M240.754 1517.37 Q237.143 1517.37 235.314 1520.93 Q233.509 1524.47 233.509 1531.6 Q233.509 1538.71 235.314 1542.27 Q237.143 1545.82 240.754 1545.82 Q244.388 1545.82 246.194 1542.27 Q248.022 1538.71 248.022 1531.6 Q248.022 1524.47 246.194 1520.93 Q244.388 1517.37 240.754 1517.37 M240.754 1513.66 Q246.564 1513.66 249.62 1518.27 Q252.698 1522.85 252.698 1531.6 Q252.698 1540.33 249.62 1544.94 Q246.564 1549.52 240.754 1549.52 Q234.944 1549.52 231.865 1544.94 Q228.81 1540.33 228.81 1531.6 Q228.81 1522.85 231.865 1518.27 Q234.944 1513.66 240.754 1513.66 Z\" fill=\"#000000\" fill-rule=\"evenodd\" fill-opacity=\"1\" /><path clip-path=\"url(#clip990)\" d=\"M883.923 1544.91 L891.562 1544.91 L891.562 1518.55 L883.251 1520.21 L883.251 1515.95 L891.515 1514.29 L896.191 1514.29 L896.191 1544.91 L903.83 1544.91 L903.83 1548.85 L883.923 1548.85 L883.923 1544.91 Z\" fill=\"#000000\" fill-rule=\"evenodd\" fill-opacity=\"1\" /><path clip-path=\"url(#clip990)\" d=\"M923.274 1517.37 Q919.663 1517.37 917.835 1520.93 Q916.029 1524.47 916.029 1531.6 Q916.029 1538.71 917.835 1542.27 Q919.663 1545.82 923.274 1545.82 Q926.909 1545.82 928.714 1542.27 Q930.543 1538.71 930.543 1531.6 Q930.543 1524.47 928.714 1520.93 Q926.909 1517.37 923.274 1517.37 M923.274 1513.66 Q929.085 1513.66 932.14 1518.27 Q935.219 1522.85 935.219 1531.6 Q935.219 1540.33 932.14 1544.94 Q929.085 1549.52 923.274 1549.52 Q917.464 1549.52 914.386 1544.94 Q911.33 1540.33 911.33 1531.6 Q911.33 1522.85 914.386 1518.27 Q917.464 1513.66 923.274 1513.66 Z\" fill=\"#000000\" fill-rule=\"evenodd\" fill-opacity=\"1\" /><path clip-path=\"url(#clip990)\" d=\"M953.436 1517.37 Q949.825 1517.37 947.996 1520.93 Q946.191 1524.47 946.191 1531.6 Q946.191 1538.71 947.996 1542.27 Q949.825 1545.82 953.436 1545.82 Q957.071 1545.82 958.876 1542.27 Q960.705 1538.71 960.705 1531.6 Q960.705 1524.47 958.876 1520.93 Q957.071 1517.37 953.436 1517.37 M953.436 1513.66 Q959.246 1513.66 962.302 1518.27 Q965.381 1522.85 965.381 1531.6 Q965.381 1540.33 962.302 1544.94 Q959.246 1549.52 953.436 1549.52 Q947.626 1549.52 944.547 1544.94 Q941.492 1540.33 941.492 1531.6 Q941.492 1522.85 944.547 1518.27 Q947.626 1513.66 953.436 1513.66 Z\" fill=\"#000000\" fill-rule=\"evenodd\" fill-opacity=\"1\" /><path clip-path=\"url(#clip990)\" d=\"M1571.57 1544.91 L1587.89 1544.91 L1587.89 1548.85 L1565.95 1548.85 L1565.95 1544.91 Q1568.61 1542.16 1573.19 1537.53 Q1577.8 1532.88 1578.98 1531.53 Q1581.22 1529.01 1582.1 1527.27 Q1583.01 1525.51 1583.01 1523.82 Q1583.01 1521.07 1581.06 1519.33 Q1579.14 1517.6 1576.04 1517.6 Q1573.84 1517.6 1571.39 1518.36 Q1568.95 1519.13 1566.18 1520.68 L1566.18 1515.95 Q1569 1514.82 1571.45 1514.24 Q1573.91 1513.66 1575.95 1513.66 Q1581.32 1513.66 1584.51 1516.35 Q1587.7 1519.03 1587.7 1523.52 Q1587.7 1525.65 1586.89 1527.57 Q1586.11 1529.47 1584 1532.07 Q1583.42 1532.74 1580.32 1535.95 Q1577.22 1539.15 1571.57 1544.91 Z\" fill=\"#000000\" fill-rule=\"evenodd\" fill-opacity=\"1\" /><path clip-path=\"url(#clip990)\" d=\"M1607.7 1517.37 Q1604.09 1517.37 1602.26 1520.93 Q1600.46 1524.47 1600.46 1531.6 Q1600.46 1538.71 1602.26 1542.27 Q1604.09 1545.82 1607.7 1545.82 Q1611.34 1545.82 1613.14 1542.27 Q1614.97 1538.71 1614.97 1531.6 Q1614.97 1524.47 1613.14 1520.93 Q1611.34 1517.37 1607.7 1517.37 M1607.7 1513.66 Q1613.51 1513.66 1616.57 1518.27 Q1619.65 1522.85 1619.65 1531.6 Q1619.65 1540.33 1616.57 1544.94 Q1613.51 1549.52 1607.7 1549.52 Q1601.89 1549.52 1598.82 1544.94 Q1595.76 1540.33 1595.76 1531.6 Q1595.76 1522.85 1598.82 1518.27 Q1601.89 1513.66 1607.7 1513.66 Z\" fill=\"#000000\" fill-rule=\"evenodd\" fill-opacity=\"1\" /><path clip-path=\"url(#clip990)\" d=\"M1637.87 1517.37 Q1634.26 1517.37 1632.43 1520.93 Q1630.62 1524.47 1630.62 1531.6 Q1630.62 1538.71 1632.43 1542.27 Q1634.26 1545.82 1637.87 1545.82 Q1641.5 1545.82 1643.31 1542.27 Q1645.13 1538.71 1645.13 1531.6 Q1645.13 1524.47 1643.31 1520.93 Q1641.5 1517.37 1637.87 1517.37 M1637.87 1513.66 Q1643.68 1513.66 1646.73 1518.27 Q1649.81 1522.85 1649.81 1531.6 Q1649.81 1540.33 1646.73 1544.94 Q1643.68 1549.52 1637.87 1549.52 Q1632.06 1549.52 1628.98 1544.94 Q1625.92 1540.33 1625.92 1531.6 Q1625.92 1522.85 1628.98 1518.27 Q1632.06 1513.66 1637.87 1513.66 Z\" fill=\"#000000\" fill-rule=\"evenodd\" fill-opacity=\"1\" /><path clip-path=\"url(#clip990)\" d=\"M2265.2 1530.21 Q2268.56 1530.93 2270.43 1533.2 Q2272.33 1535.47 2272.33 1538.8 Q2272.33 1543.92 2268.81 1546.72 Q2265.29 1549.52 2258.81 1549.52 Q2256.64 1549.52 2254.32 1549.08 Q2252.03 1548.66 2249.58 1547.81 L2249.58 1543.29 Q2251.52 1544.43 2253.84 1545.01 Q2256.15 1545.58 2258.67 1545.58 Q2263.07 1545.58 2265.36 1543.85 Q2267.68 1542.11 2267.68 1538.8 Q2267.68 1535.75 2265.53 1534.03 Q2263.4 1532.3 2259.58 1532.3 L2255.55 1532.3 L2255.55 1528.45 L2259.76 1528.45 Q2263.21 1528.45 2265.04 1527.09 Q2266.87 1525.7 2266.87 1523.11 Q2266.87 1520.45 2264.97 1519.03 Q2263.1 1517.6 2259.58 1517.6 Q2257.66 1517.6 2255.46 1518.01 Q2253.26 1518.43 2250.62 1519.31 L2250.62 1515.14 Q2253.28 1514.4 2255.6 1514.03 Q2257.93 1513.66 2259.99 1513.66 Q2265.32 1513.66 2268.42 1516.09 Q2271.52 1518.5 2271.52 1522.62 Q2271.52 1525.49 2269.88 1527.48 Q2268.23 1529.45 2265.2 1530.21 Z\" fill=\"#000000\" fill-rule=\"evenodd\" fill-opacity=\"1\" /><path clip-path=\"url(#clip990)\" d=\"M2291.2 1517.37 Q2287.59 1517.37 2285.76 1520.93 Q2283.95 1524.47 2283.95 1531.6 Q2283.95 1538.71 2285.76 1542.27 Q2287.59 1545.82 2291.2 1545.82 Q2294.83 1545.82 2296.64 1542.27 Q2298.47 1538.71 2298.47 1531.6 Q2298.47 1524.47 2296.64 1520.93 Q2294.83 1517.37 2291.2 1517.37 M2291.2 1513.66 Q2297.01 1513.66 2300.06 1518.27 Q2303.14 1522.85 2303.14 1531.6 Q2303.14 1540.33 2300.06 1544.94 Q2297.01 1549.52 2291.2 1549.52 Q2285.39 1549.52 2282.31 1544.94 Q2279.25 1540.33 2279.25 1531.6 Q2279.25 1522.85 2282.31 1518.27 Q2285.39 1513.66 2291.2 1513.66 Z\" fill=\"#000000\" fill-rule=\"evenodd\" fill-opacity=\"1\" /><path clip-path=\"url(#clip990)\" d=\"M2321.36 1517.37 Q2317.75 1517.37 2315.92 1520.93 Q2314.11 1524.47 2314.11 1531.6 Q2314.11 1538.71 2315.92 1542.27 Q2317.75 1545.82 2321.36 1545.82 Q2324.99 1545.82 2326.8 1542.27 Q2328.63 1538.71 2328.63 1531.6 Q2328.63 1524.47 2326.8 1520.93 Q2324.99 1517.37 2321.36 1517.37 M2321.36 1513.66 Q2327.17 1513.66 2330.22 1518.27 Q2333.3 1522.85 2333.3 1531.6 Q2333.3 1540.33 2330.22 1544.94 Q2327.17 1549.52 2321.36 1549.52 Q2315.55 1549.52 2312.47 1544.94 Q2309.41 1540.33 2309.41 1531.6 Q2309.41 1522.85 2312.47 1518.27 Q2315.55 1513.66 2321.36 1513.66 Z\" fill=\"#000000\" fill-rule=\"evenodd\" fill-opacity=\"1\" /><polyline clip-path=\"url(#clip992)\" style=\"stroke:#000000; stroke-linecap:butt; stroke-linejoin:round; stroke-width:2; stroke-opacity:0.1; fill:none\" points=\"\n  186.274,1449.43 2352.76,1449.43 \n  \"/>\n<polyline clip-path=\"url(#clip992)\" style=\"stroke:#000000; stroke-linecap:butt; stroke-linejoin:round; stroke-width:2; stroke-opacity:0.1; fill:none\" points=\"\n  186.274,1060.89 2352.76,1060.89 \n  \"/>\n<polyline clip-path=\"url(#clip992)\" style=\"stroke:#000000; stroke-linecap:butt; stroke-linejoin:round; stroke-width:2; stroke-opacity:0.1; fill:none\" points=\"\n  186.274,672.347 2352.76,672.347 \n  \"/>\n<polyline clip-path=\"url(#clip992)\" style=\"stroke:#000000; stroke-linecap:butt; stroke-linejoin:round; stroke-width:2; stroke-opacity:0.1; fill:none\" points=\"\n  186.274,283.805 2352.76,283.805 \n  \"/>\n<polyline clip-path=\"url(#clip990)\" style=\"stroke:#000000; stroke-linecap:butt; stroke-linejoin:round; stroke-width:4; stroke-opacity:1; fill:none\" points=\"\n  186.274,1486.45 186.274,123.472 \n  \"/>\n<polyline clip-path=\"url(#clip990)\" style=\"stroke:#000000; stroke-linecap:butt; stroke-linejoin:round; stroke-width:4; stroke-opacity:1; fill:none\" points=\"\n  186.274,1449.43 205.172,1449.43 \n  \"/>\n<polyline clip-path=\"url(#clip990)\" style=\"stroke:#000000; stroke-linecap:butt; stroke-linejoin:round; stroke-width:4; stroke-opacity:1; fill:none\" points=\"\n  186.274,1060.89 205.172,1060.89 \n  \"/>\n<polyline clip-path=\"url(#clip990)\" style=\"stroke:#000000; stroke-linecap:butt; stroke-linejoin:round; stroke-width:4; stroke-opacity:1; fill:none\" points=\"\n  186.274,672.347 205.172,672.347 \n  \"/>\n<polyline clip-path=\"url(#clip990)\" style=\"stroke:#000000; stroke-linecap:butt; stroke-linejoin:round; stroke-width:4; stroke-opacity:1; fill:none\" points=\"\n  186.274,283.805 205.172,283.805 \n  \"/>\n<path clip-path=\"url(#clip990)\" d=\"M62.9365 1435.23 Q59.3254 1435.23 57.4967 1438.79 Q55.6912 1442.34 55.6912 1449.47 Q55.6912 1456.57 57.4967 1460.14 Q59.3254 1463.68 62.9365 1463.68 Q66.5707 1463.68 68.3763 1460.14 Q70.205 1456.57 70.205 1449.47 Q70.205 1442.34 68.3763 1438.79 Q66.5707 1435.23 62.9365 1435.23 M62.9365 1431.53 Q68.7467 1431.53 71.8022 1436.13 Q74.8809 1440.72 74.8809 1449.47 Q74.8809 1458.19 71.8022 1462.8 Q68.7467 1467.38 62.9365 1467.38 Q57.1264 1467.38 54.0477 1462.8 Q50.9921 1458.19 50.9921 1449.47 Q50.9921 1440.72 54.0477 1436.13 Q57.1264 1431.53 62.9365 1431.53 Z\" fill=\"#000000\" fill-rule=\"evenodd\" fill-opacity=\"1\" /><path clip-path=\"url(#clip990)\" d=\"M83.0984 1460.83 L87.9827 1460.83 L87.9827 1466.71 L83.0984 1466.71 L83.0984 1460.83 Z\" fill=\"#000000\" fill-rule=\"evenodd\" fill-opacity=\"1\" /><path clip-path=\"url(#clip990)\" d=\"M108.168 1435.23 Q104.557 1435.23 102.728 1438.79 Q100.922 1442.34 100.922 1449.47 Q100.922 1456.57 102.728 1460.14 Q104.557 1463.68 108.168 1463.68 Q111.802 1463.68 113.608 1460.14 Q115.436 1456.57 115.436 1449.47 Q115.436 1442.34 113.608 1438.79 Q111.802 1435.23 108.168 1435.23 M108.168 1431.53 Q113.978 1431.53 117.033 1436.13 Q120.112 1440.72 120.112 1449.47 Q120.112 1458.19 117.033 1462.8 Q113.978 1467.38 108.168 1467.38 Q102.358 1467.38 99.2789 1462.8 Q96.2234 1458.19 96.2234 1449.47 Q96.2234 1440.72 99.2789 1436.13 Q102.358 1431.53 108.168 1431.53 Z\" fill=\"#000000\" fill-rule=\"evenodd\" fill-opacity=\"1\" /><path clip-path=\"url(#clip990)\" d=\"M138.33 1435.23 Q134.719 1435.23 132.89 1438.79 Q131.084 1442.34 131.084 1449.47 Q131.084 1456.57 132.89 1460.14 Q134.719 1463.68 138.33 1463.68 Q141.964 1463.68 143.769 1460.14 Q145.598 1456.57 145.598 1449.47 Q145.598 1442.34 143.769 1438.79 Q141.964 1435.23 138.33 1435.23 M138.33 1431.53 Q144.14 1431.53 147.195 1436.13 Q150.274 1440.72 150.274 1449.47 Q150.274 1458.19 147.195 1462.8 Q144.14 1467.38 138.33 1467.38 Q132.519 1467.38 129.441 1462.8 Q126.385 1458.19 126.385 1449.47 Q126.385 1440.72 129.441 1436.13 Q132.519 1431.53 138.33 1431.53 Z\" fill=\"#000000\" fill-rule=\"evenodd\" fill-opacity=\"1\" /><path clip-path=\"url(#clip990)\" d=\"M63.9319 1046.69 Q60.3208 1046.69 58.4921 1050.25 Q56.6865 1053.79 56.6865 1060.92 Q56.6865 1068.03 58.4921 1071.6 Q60.3208 1075.14 63.9319 1075.14 Q67.5661 1075.14 69.3717 1071.6 Q71.2004 1068.03 71.2004 1060.92 Q71.2004 1053.79 69.3717 1050.25 Q67.5661 1046.69 63.9319 1046.69 M63.9319 1042.98 Q69.742 1042.98 72.7976 1047.59 Q75.8763 1052.17 75.8763 1060.92 Q75.8763 1069.65 72.7976 1074.26 Q69.742 1078.84 63.9319 1078.84 Q58.1217 1078.84 55.043 1074.26 Q51.9875 1069.65 51.9875 1060.92 Q51.9875 1052.17 55.043 1047.59 Q58.1217 1042.98 63.9319 1042.98 Z\" fill=\"#000000\" fill-rule=\"evenodd\" fill-opacity=\"1\" /><path clip-path=\"url(#clip990)\" d=\"M84.0938 1072.29 L88.978 1072.29 L88.978 1078.17 L84.0938 1078.17 L84.0938 1072.29 Z\" fill=\"#000000\" fill-rule=\"evenodd\" fill-opacity=\"1\" /><path clip-path=\"url(#clip990)\" d=\"M109.163 1046.69 Q105.552 1046.69 103.723 1050.25 Q101.918 1053.79 101.918 1060.92 Q101.918 1068.03 103.723 1071.6 Q105.552 1075.14 109.163 1075.14 Q112.797 1075.14 114.603 1071.6 Q116.432 1068.03 116.432 1060.92 Q116.432 1053.79 114.603 1050.25 Q112.797 1046.69 109.163 1046.69 M109.163 1042.98 Q114.973 1042.98 118.029 1047.59 Q121.107 1052.17 121.107 1060.92 Q121.107 1069.65 118.029 1074.26 Q114.973 1078.84 109.163 1078.84 Q103.353 1078.84 100.274 1074.26 Q97.2187 1069.65 97.2187 1060.92 Q97.2187 1052.17 100.274 1047.59 Q103.353 1042.98 109.163 1042.98 Z\" fill=\"#000000\" fill-rule=\"evenodd\" fill-opacity=\"1\" /><path clip-path=\"url(#clip990)\" d=\"M129.371 1043.61 L147.728 1043.61 L147.728 1047.54 L133.654 1047.54 L133.654 1056.02 Q134.672 1055.67 135.691 1055.51 Q136.709 1055.32 137.728 1055.32 Q143.515 1055.32 146.894 1058.49 Q150.274 1061.66 150.274 1067.08 Q150.274 1072.66 146.802 1075.76 Q143.33 1078.84 137.01 1078.84 Q134.834 1078.84 132.566 1078.47 Q130.32 1078.1 127.913 1077.36 L127.913 1072.66 Q129.996 1073.79 132.219 1074.35 Q134.441 1074.91 136.918 1074.91 Q140.922 1074.91 143.26 1072.8 Q145.598 1070.69 145.598 1067.08 Q145.598 1063.47 143.26 1061.36 Q140.922 1059.26 136.918 1059.26 Q135.043 1059.26 133.168 1059.67 Q131.316 1060.09 129.371 1060.97 L129.371 1043.61 Z\" fill=\"#000000\" fill-rule=\"evenodd\" fill-opacity=\"1\" /><path clip-path=\"url(#clip990)\" d=\"M62.9365 658.146 Q59.3254 658.146 57.4967 661.711 Q55.6912 665.253 55.6912 672.382 Q55.6912 679.489 57.4967 683.053 Q59.3254 686.595 62.9365 686.595 Q66.5707 686.595 68.3763 683.053 Q70.205 679.489 70.205 672.382 Q70.205 665.253 68.3763 661.711 Q66.5707 658.146 62.9365 658.146 M62.9365 654.442 Q68.7467 654.442 71.8022 659.049 Q74.8809 663.632 74.8809 672.382 Q74.8809 681.109 71.8022 685.715 Q68.7467 690.299 62.9365 690.299 Q57.1264 690.299 54.0477 685.715 Q50.9921 681.109 50.9921 672.382 Q50.9921 663.632 54.0477 659.049 Q57.1264 654.442 62.9365 654.442 Z\" fill=\"#000000\" fill-rule=\"evenodd\" fill-opacity=\"1\" /><path clip-path=\"url(#clip990)\" d=\"M83.0984 683.748 L87.9827 683.748 L87.9827 689.627 L83.0984 689.627 L83.0984 683.748 Z\" fill=\"#000000\" fill-rule=\"evenodd\" fill-opacity=\"1\" /><path clip-path=\"url(#clip990)\" d=\"M98.978 685.692 L106.617 685.692 L106.617 659.327 L98.3067 660.993 L98.3067 656.734 L106.571 655.067 L111.246 655.067 L111.246 685.692 L118.885 685.692 L118.885 689.627 L98.978 689.627 L98.978 685.692 Z\" fill=\"#000000\" fill-rule=\"evenodd\" fill-opacity=\"1\" /><path clip-path=\"url(#clip990)\" d=\"M138.33 658.146 Q134.719 658.146 132.89 661.711 Q131.084 665.253 131.084 672.382 Q131.084 679.489 132.89 683.053 Q134.719 686.595 138.33 686.595 Q141.964 686.595 143.769 683.053 Q145.598 679.489 145.598 672.382 Q145.598 665.253 143.769 661.711 Q141.964 658.146 138.33 658.146 M138.33 654.442 Q144.14 654.442 147.195 659.049 Q150.274 663.632 150.274 672.382 Q150.274 681.109 147.195 685.715 Q144.14 690.299 138.33 690.299 Q132.519 690.299 129.441 685.715 Q126.385 681.109 126.385 672.382 Q126.385 663.632 129.441 659.049 Q132.519 654.442 138.33 654.442 Z\" fill=\"#000000\" fill-rule=\"evenodd\" fill-opacity=\"1\" /><path clip-path=\"url(#clip990)\" d=\"M63.9319 269.604 Q60.3208 269.604 58.4921 273.169 Q56.6865 276.711 56.6865 283.84 Q56.6865 290.947 58.4921 294.511 Q60.3208 298.053 63.9319 298.053 Q67.5661 298.053 69.3717 294.511 Q71.2004 290.947 71.2004 283.84 Q71.2004 276.711 69.3717 273.169 Q67.5661 269.604 63.9319 269.604 M63.9319 265.9 Q69.742 265.9 72.7976 270.507 Q75.8763 275.09 75.8763 283.84 Q75.8763 292.567 72.7976 297.173 Q69.742 301.757 63.9319 301.757 Q58.1217 301.757 55.043 297.173 Q51.9875 292.567 51.9875 283.84 Q51.9875 275.09 55.043 270.507 Q58.1217 265.9 63.9319 265.9 Z\" fill=\"#000000\" fill-rule=\"evenodd\" fill-opacity=\"1\" /><path clip-path=\"url(#clip990)\" d=\"M84.0938 295.206 L88.978 295.206 L88.978 301.085 L84.0938 301.085 L84.0938 295.206 Z\" fill=\"#000000\" fill-rule=\"evenodd\" fill-opacity=\"1\" /><path clip-path=\"url(#clip990)\" d=\"M99.9733 297.15 L107.612 297.15 L107.612 270.785 L99.3021 272.451 L99.3021 268.192 L107.566 266.525 L112.242 266.525 L112.242 297.15 L119.881 297.15 L119.881 301.085 L99.9733 301.085 L99.9733 297.15 Z\" fill=\"#000000\" fill-rule=\"evenodd\" fill-opacity=\"1\" /><path clip-path=\"url(#clip990)\" d=\"M129.371 266.525 L147.728 266.525 L147.728 270.461 L133.654 270.461 L133.654 278.933 Q134.672 278.586 135.691 278.424 Q136.709 278.238 137.728 278.238 Q143.515 278.238 146.894 281.41 Q150.274 284.581 150.274 289.998 Q150.274 295.576 146.802 298.678 Q143.33 301.757 137.01 301.757 Q134.834 301.757 132.566 301.386 Q130.32 301.016 127.913 300.275 L127.913 295.576 Q129.996 296.711 132.219 297.266 Q134.441 297.822 136.918 297.822 Q140.922 297.822 143.26 295.715 Q145.598 293.609 145.598 289.998 Q145.598 286.386 143.26 284.28 Q140.922 282.174 136.918 282.174 Q135.043 282.174 133.168 282.59 Q131.316 283.007 129.371 283.887 L129.371 266.525 Z\" fill=\"#000000\" fill-rule=\"evenodd\" fill-opacity=\"1\" /><path clip-path=\"url(#clip990)\" d=\"M191.063 12.096 L199.246 12.096 L199.246 65.6895 L228.696 65.6895 L228.696 72.576 L191.063 72.576 L191.063 12.096 Z\" fill=\"#000000\" fill-rule=\"evenodd\" fill-opacity=\"1\" /><path clip-path=\"url(#clip990)\" d=\"M253.082 32.4315 Q247.087 32.4315 243.603 37.1306 Q240.119 41.7891 240.119 49.9314 Q240.119 58.0738 243.563 62.7728 Q247.046 67.4314 253.082 67.4314 Q259.037 67.4314 262.521 62.7323 Q266.005 58.0333 266.005 49.9314 Q266.005 41.8701 262.521 37.1711 Q259.037 32.4315 253.082 32.4315 M253.082 26.1121 Q262.804 26.1121 268.354 32.4315 Q273.904 38.7509 273.904 49.9314 Q273.904 61.0714 268.354 67.4314 Q262.804 73.7508 253.082 73.7508 Q243.32 73.7508 237.77 67.4314 Q232.261 61.0714 232.261 49.9314 Q232.261 38.7509 237.77 32.4315 Q243.32 26.1121 253.082 26.1121 Z\" fill=\"#000000\" fill-rule=\"evenodd\" fill-opacity=\"1\" /><path clip-path=\"url(#clip990)\" d=\"M315.183 28.5427 L315.183 35.5912 Q312.023 33.9709 308.62 33.1607 Q305.217 32.3505 301.572 32.3505 Q296.022 32.3505 293.227 34.0519 Q290.472 35.7533 290.472 39.156 Q290.472 41.7486 292.457 43.2475 Q294.442 44.7058 300.437 46.0426 L302.989 46.6097 Q310.929 48.3111 314.251 51.4303 Q317.613 54.509 317.613 60.0587 Q317.613 66.3781 312.59 70.0644 Q307.607 73.7508 298.858 73.7508 Q295.212 73.7508 291.242 73.0216 Q287.312 72.3329 282.937 70.9151 L282.937 63.2184 Q287.069 65.3654 291.08 66.4591 Q295.09 67.5124 299.02 67.5124 Q304.286 67.5124 307.121 65.73 Q309.957 63.9071 309.957 60.6258 Q309.957 57.5877 307.891 55.9673 Q305.866 54.3469 298.939 52.8481 L296.346 52.2405 Q289.419 50.7821 286.34 47.7845 Q283.262 44.7463 283.262 39.4801 Q283.262 33.0797 287.799 29.5959 Q292.336 26.1121 300.68 26.1121 Q304.812 26.1121 308.458 26.7198 Q312.104 27.3274 315.183 28.5427 Z\" fill=\"#000000\" fill-rule=\"evenodd\" fill-opacity=\"1\" /><path clip-path=\"url(#clip990)\" d=\"M358.406 28.5427 L358.406 35.5912 Q355.246 33.9709 351.843 33.1607 Q348.441 32.3505 344.795 32.3505 Q339.245 32.3505 336.45 34.0519 Q333.695 35.7533 333.695 39.156 Q333.695 41.7486 335.68 43.2475 Q337.665 44.7058 343.661 46.0426 L346.213 46.6097 Q354.152 48.3111 357.474 51.4303 Q360.836 54.509 360.836 60.0587 Q360.836 66.3781 355.813 70.0644 Q350.831 73.7508 342.081 73.7508 Q338.435 73.7508 334.465 73.0216 Q330.536 72.3329 326.161 70.9151 L326.161 63.2184 Q330.293 65.3654 334.303 66.4591 Q338.313 67.5124 342.243 67.5124 Q347.509 67.5124 350.345 65.73 Q353.18 63.9071 353.18 60.6258 Q353.18 57.5877 351.114 55.9673 Q349.089 54.3469 342.162 52.8481 L339.569 52.2405 Q332.642 50.7821 329.563 47.7845 Q326.485 44.7463 326.485 39.4801 Q326.485 33.0797 331.022 29.5959 Q335.559 26.1121 343.904 26.1121 Q348.036 26.1121 351.681 26.7198 Q355.327 27.3274 358.406 28.5427 Z\" fill=\"#000000\" fill-rule=\"evenodd\" fill-opacity=\"1\" /><path clip-path=\"url(#clip990)\" d=\"M422.046 9.54393 L422.046 15.7418 L414.916 15.7418 Q410.906 15.7418 409.326 17.3622 Q407.786 18.9825 407.786 23.1955 L407.786 27.2059 L420.061 27.2059 L420.061 32.9987 L407.786 32.9987 L407.786 72.576 L400.292 72.576 L400.292 32.9987 L393.163 32.9987 L393.163 27.2059 L400.292 27.2059 L400.292 24.0462 Q400.292 16.471 403.816 13.0277 Q407.341 9.54393 414.997 9.54393 L422.046 9.54393 Z\" fill=\"#000000\" fill-rule=\"evenodd\" fill-opacity=\"1\" /><path clip-path=\"url(#clip990)\" d=\"M445.865 32.4315 Q439.87 32.4315 436.386 37.1306 Q432.902 41.7891 432.902 49.9314 Q432.902 58.0738 436.345 62.7728 Q439.829 67.4314 445.865 67.4314 Q451.82 67.4314 455.303 62.7323 Q458.787 58.0333 458.787 49.9314 Q458.787 41.8701 455.303 37.1711 Q451.82 32.4315 445.865 32.4315 M445.865 26.1121 Q455.587 26.1121 461.137 32.4315 Q466.687 38.7509 466.687 49.9314 Q466.687 61.0714 461.137 67.4314 Q455.587 73.7508 445.865 73.7508 Q436.102 73.7508 430.552 67.4314 Q425.043 61.0714 425.043 49.9314 Q425.043 38.7509 430.552 32.4315 Q436.102 26.1121 445.865 26.1121 Z\" fill=\"#000000\" fill-rule=\"evenodd\" fill-opacity=\"1\" /><path clip-path=\"url(#clip990)\" d=\"M505.332 34.1734 Q504.076 33.4443 502.578 33.1202 Q501.119 32.7556 499.337 32.7556 Q493.017 32.7556 489.615 36.8875 Q486.252 40.9789 486.252 48.6757 L486.252 72.576 L478.758 72.576 L478.758 27.2059 L486.252 27.2059 L486.252 34.2544 Q488.602 30.1225 492.369 28.1376 Q496.137 26.1121 501.524 26.1121 Q502.294 26.1121 503.226 26.2337 Q504.157 26.3147 505.292 26.5172 L505.332 34.1734 Z\" fill=\"#000000\" fill-rule=\"evenodd\" fill-opacity=\"1\" /><path clip-path=\"url(#clip990)\" d=\"M578.329 48.0275 L578.329 51.6733 L544.059 51.6733 Q544.545 59.3701 548.677 63.421 Q552.849 67.4314 560.262 67.4314 Q564.556 67.4314 568.567 66.3781 Q572.618 65.3249 576.588 63.2184 L576.588 70.267 Q572.577 71.9684 568.364 72.8596 Q564.151 73.7508 559.817 73.7508 Q548.96 73.7508 542.6 67.4314 Q536.281 61.1119 536.281 50.3365 Q536.281 39.1965 542.276 32.6746 Q548.312 26.1121 558.52 26.1121 Q567.676 26.1121 572.982 32.0264 Q578.329 37.9003 578.329 48.0275 M570.876 45.84 Q570.795 39.7232 567.432 36.0774 Q564.111 32.4315 558.602 32.4315 Q552.363 32.4315 548.596 35.9558 Q544.869 39.4801 544.302 45.8805 L570.876 45.84 Z\" fill=\"#000000\" fill-rule=\"evenodd\" fill-opacity=\"1\" /><path clip-path=\"url(#clip990)\" d=\"M611.182 49.7694 Q602.149 49.7694 598.665 51.8354 Q595.181 53.9013 595.181 58.8839 Q595.181 62.8538 597.774 65.2034 Q600.407 67.5124 604.903 67.5124 Q611.101 67.5124 614.828 63.1374 Q618.595 58.7219 618.595 51.4303 L618.595 49.7694 L611.182 49.7694 M626.049 46.6907 L626.049 72.576 L618.595 72.576 L618.595 65.6895 Q616.043 69.8214 612.235 71.8063 Q608.428 73.7508 602.918 73.7508 Q595.951 73.7508 591.819 69.8619 Q587.728 65.9325 587.728 59.3701 Q587.728 51.7138 592.832 47.825 Q597.976 43.9361 608.144 43.9361 L618.595 43.9361 L618.595 43.2069 Q618.595 38.0623 615.193 35.2672 Q611.83 32.4315 605.714 32.4315 Q601.825 32.4315 598.138 33.3632 Q594.452 34.295 591.049 36.1584 L591.049 29.2718 Q595.141 27.692 598.989 26.9223 Q602.837 26.1121 606.483 26.1121 Q616.327 26.1121 621.188 31.2163 Q626.049 36.3204 626.049 46.6907 Z\" fill=\"#000000\" fill-rule=\"evenodd\" fill-opacity=\"1\" /><path clip-path=\"url(#clip990)\" d=\"M674.052 28.9478 L674.052 35.9153 Q670.893 34.1734 667.692 33.3227 Q664.533 32.4315 661.292 32.4315 Q654.041 32.4315 650.03 37.0496 Q646.02 41.6271 646.02 49.9314 Q646.02 58.2358 650.03 62.8538 Q654.041 67.4314 661.292 67.4314 Q664.533 67.4314 667.692 66.5807 Q670.893 65.6895 674.052 63.9476 L674.052 70.8341 Q670.933 72.2924 667.571 73.0216 Q664.249 73.7508 660.482 73.7508 Q650.233 73.7508 644.197 67.3098 Q638.161 60.8689 638.161 49.9314 Q638.161 38.832 644.238 32.472 Q650.354 26.1121 660.968 26.1121 Q664.411 26.1121 667.692 26.8413 Q670.974 27.5299 674.052 28.9478 Z\" fill=\"#000000\" fill-rule=\"evenodd\" fill-opacity=\"1\" /><path clip-path=\"url(#clip990)\" d=\"M724.729 45.1919 L724.729 72.576 L717.275 72.576 L717.275 45.4349 Q717.275 38.994 714.764 35.7938 Q712.252 32.5936 707.229 32.5936 Q701.193 32.5936 697.71 36.4419 Q694.226 40.2903 694.226 46.9338 L694.226 72.576 L686.732 72.576 L686.732 9.54393 L694.226 9.54393 L694.226 34.2544 Q696.899 30.163 700.505 28.1376 Q704.151 26.1121 708.89 26.1121 Q716.708 26.1121 720.719 30.9732 Q724.729 35.7938 724.729 45.1919 Z\" fill=\"#000000\" fill-rule=\"evenodd\" fill-opacity=\"1\" /><path clip-path=\"url(#clip990)\" d=\"M765.967 27.2059 L773.421 27.2059 L773.421 72.576 L765.967 72.576 L765.967 27.2059 M765.967 9.54393 L773.421 9.54393 L773.421 18.9825 L765.967 18.9825 L765.967 9.54393 Z\" fill=\"#000000\" fill-rule=\"evenodd\" fill-opacity=\"1\" /><path clip-path=\"url(#clip990)\" d=\"M826.731 45.1919 L826.731 72.576 L819.277 72.576 L819.277 45.4349 Q819.277 38.994 816.766 35.7938 Q814.254 32.5936 809.231 32.5936 Q803.195 32.5936 799.711 36.4419 Q796.228 40.2903 796.228 46.9338 L796.228 72.576 L788.733 72.576 L788.733 27.2059 L796.228 27.2059 L796.228 34.2544 Q798.901 30.163 802.506 28.1376 Q806.152 26.1121 810.892 26.1121 Q818.71 26.1121 822.72 30.9732 Q826.731 35.7938 826.731 45.1919 Z\" fill=\"#000000\" fill-rule=\"evenodd\" fill-opacity=\"1\" /><path clip-path=\"url(#clip990)\" d=\"M871.453 34.0924 L871.453 9.54393 L878.907 9.54393 L878.907 72.576 L871.453 72.576 L871.453 65.7705 Q869.103 69.8214 865.498 71.8063 Q861.933 73.7508 856.91 73.7508 Q848.687 73.7508 843.502 67.1883 Q838.357 60.6258 838.357 49.9314 Q838.357 39.2371 843.502 32.6746 Q848.687 26.1121 856.91 26.1121 Q861.933 26.1121 865.498 28.0971 Q869.103 30.0415 871.453 34.0924 M846.054 49.9314 Q846.054 58.1548 849.416 62.8538 Q852.819 67.5124 858.733 67.5124 Q864.647 67.5124 868.05 62.8538 Q871.453 58.1548 871.453 49.9314 Q871.453 41.7081 868.05 37.0496 Q864.647 32.3505 858.733 32.3505 Q852.819 32.3505 849.416 37.0496 Q846.054 41.7081 846.054 49.9314 Z\" fill=\"#000000\" fill-rule=\"evenodd\" fill-opacity=\"1\" /><path clip-path=\"url(#clip990)\" d=\"M894.259 27.2059 L901.713 27.2059 L901.713 72.576 L894.259 72.576 L894.259 27.2059 M894.259 9.54393 L901.713 9.54393 L901.713 18.9825 L894.259 18.9825 L894.259 9.54393 Z\" fill=\"#000000\" fill-rule=\"evenodd\" fill-opacity=\"1\" /><path clip-path=\"url(#clip990)\" d=\"M911.962 27.2059 L919.861 27.2059 L934.039 65.2844 L948.217 27.2059 L956.117 27.2059 L939.103 72.576 L928.976 72.576 L911.962 27.2059 Z\" fill=\"#000000\" fill-rule=\"evenodd\" fill-opacity=\"1\" /><path clip-path=\"url(#clip990)\" d=\"M966.406 27.2059 L973.86 27.2059 L973.86 72.576 L966.406 72.576 L966.406 27.2059 M966.406 9.54393 L973.86 9.54393 L973.86 18.9825 L966.406 18.9825 L966.406 9.54393 Z\" fill=\"#000000\" fill-rule=\"evenodd\" fill-opacity=\"1\" /><path clip-path=\"url(#clip990)\" d=\"M1019.31 34.0924 L1019.31 9.54393 L1026.76 9.54393 L1026.76 72.576 L1019.31 72.576 L1019.31 65.7705 Q1016.96 69.8214 1013.36 71.8063 Q1009.79 73.7508 1004.77 73.7508 Q996.545 73.7508 991.36 67.1883 Q986.215 60.6258 986.215 49.9314 Q986.215 39.2371 991.36 32.6746 Q996.545 26.1121 1004.77 26.1121 Q1009.79 26.1121 1013.36 28.0971 Q1016.96 30.0415 1019.31 34.0924 M993.912 49.9314 Q993.912 58.1548 997.274 62.8538 Q1000.68 67.5124 1006.59 67.5124 Q1012.51 67.5124 1015.91 62.8538 Q1019.31 58.1548 1019.31 49.9314 Q1019.31 41.7081 1015.91 37.0496 Q1012.51 32.3505 1006.59 32.3505 Q1000.68 32.3505 997.274 37.0496 Q993.912 41.7081 993.912 49.9314 Z\" fill=\"#000000\" fill-rule=\"evenodd\" fill-opacity=\"1\" /><path clip-path=\"url(#clip990)\" d=\"M1041.35 54.671 L1041.35 27.2059 L1048.8 27.2059 L1048.8 54.3874 Q1048.8 60.8284 1051.31 64.0691 Q1053.82 67.2693 1058.85 67.2693 Q1064.88 67.2693 1068.37 63.421 Q1071.89 59.5726 1071.89 52.9291 L1071.89 27.2059 L1079.35 27.2059 L1079.35 72.576 L1071.89 72.576 L1071.89 65.6084 Q1069.18 69.7404 1065.57 71.7658 Q1062.01 73.7508 1057.27 73.7508 Q1049.45 73.7508 1045.4 68.8897 Q1041.35 64.0286 1041.35 54.671 M1060.1 26.1121 L1060.1 26.1121 Z\" fill=\"#000000\" fill-rule=\"evenodd\" fill-opacity=\"1\" /><path clip-path=\"url(#clip990)\" d=\"M1115.32 49.7694 Q1106.28 49.7694 1102.8 51.8354 Q1099.32 53.9013 1099.32 58.8839 Q1099.32 62.8538 1101.91 65.2034 Q1104.54 67.5124 1109.04 67.5124 Q1115.24 67.5124 1118.96 63.1374 Q1122.73 58.7219 1122.73 51.4303 L1122.73 49.7694 L1115.32 49.7694 M1130.18 46.6907 L1130.18 72.576 L1122.73 72.576 L1122.73 65.6895 Q1120.18 69.8214 1116.37 71.8063 Q1112.56 73.7508 1107.05 73.7508 Q1100.09 73.7508 1095.95 69.8619 Q1091.86 65.9325 1091.86 59.3701 Q1091.86 51.7138 1096.97 47.825 Q1102.11 43.9361 1112.28 43.9361 L1122.73 43.9361 L1122.73 43.2069 Q1122.73 38.0623 1119.33 35.2672 Q1115.97 32.4315 1109.85 32.4315 Q1105.96 32.4315 1102.27 33.3632 Q1098.59 34.295 1095.18 36.1584 L1095.18 29.2718 Q1099.28 27.692 1103.12 26.9223 Q1106.97 26.1121 1110.62 26.1121 Q1120.46 26.1121 1125.32 31.2163 Q1130.18 36.3204 1130.18 46.6907 Z\" fill=\"#000000\" fill-rule=\"evenodd\" fill-opacity=\"1\" /><path clip-path=\"url(#clip990)\" d=\"M1145.54 9.54393 L1152.99 9.54393 L1152.99 72.576 L1145.54 72.576 L1145.54 9.54393 Z\" fill=\"#000000\" fill-rule=\"evenodd\" fill-opacity=\"1\" /><path clip-path=\"url(#clip990)\" d=\"M1221.25 34.1734 Q1219.99 33.4443 1218.49 33.1202 Q1217.04 32.7556 1215.25 32.7556 Q1208.93 32.7556 1205.53 36.8875 Q1202.17 40.9789 1202.17 48.6757 L1202.17 72.576 L1194.67 72.576 L1194.67 27.2059 L1202.17 27.2059 L1202.17 34.2544 Q1204.52 30.1225 1208.29 28.1376 Q1212.05 26.1121 1217.44 26.1121 Q1218.21 26.1121 1219.14 26.2337 Q1220.07 26.3147 1221.21 26.5172 L1221.25 34.1734 Z\" fill=\"#000000\" fill-rule=\"evenodd\" fill-opacity=\"1\" /><path clip-path=\"url(#clip990)\" d=\"M1249.69 49.7694 Q1240.65 49.7694 1237.17 51.8354 Q1233.68 53.9013 1233.68 58.8839 Q1233.68 62.8538 1236.28 65.2034 Q1238.91 67.5124 1243.41 67.5124 Q1249.6 67.5124 1253.33 63.1374 Q1257.1 58.7219 1257.1 51.4303 L1257.1 49.7694 L1249.69 49.7694 M1264.55 46.6907 L1264.55 72.576 L1257.1 72.576 L1257.1 65.6895 Q1254.55 69.8214 1250.74 71.8063 Q1246.93 73.7508 1241.42 73.7508 Q1234.45 73.7508 1230.32 69.8619 Q1226.23 65.9325 1226.23 59.3701 Q1226.23 51.7138 1231.34 47.825 Q1236.48 43.9361 1246.65 43.9361 L1257.1 43.9361 L1257.1 43.2069 Q1257.1 38.0623 1253.7 35.2672 Q1250.33 32.4315 1244.22 32.4315 Q1240.33 32.4315 1236.64 33.3632 Q1232.96 34.295 1229.55 36.1584 L1229.55 29.2718 Q1233.64 27.692 1237.49 26.9223 Q1241.34 26.1121 1244.99 26.1121 Q1254.83 26.1121 1259.69 31.2163 Q1264.55 36.3204 1264.55 46.6907 Z\" fill=\"#000000\" fill-rule=\"evenodd\" fill-opacity=\"1\" /><path clip-path=\"url(#clip990)\" d=\"M1317.62 45.1919 L1317.62 72.576 L1310.17 72.576 L1310.17 45.4349 Q1310.17 38.994 1307.65 35.7938 Q1305.14 32.5936 1300.12 32.5936 Q1294.08 32.5936 1290.6 36.4419 Q1287.12 40.2903 1287.12 46.9338 L1287.12 72.576 L1279.62 72.576 L1279.62 27.2059 L1287.12 27.2059 L1287.12 34.2544 Q1289.79 30.163 1293.4 28.1376 Q1297.04 26.1121 1301.78 26.1121 Q1309.6 26.1121 1313.61 30.9732 Q1317.62 35.7938 1317.62 45.1919 Z\" fill=\"#000000\" fill-rule=\"evenodd\" fill-opacity=\"1\" /><path clip-path=\"url(#clip990)\" d=\"M1332.2 9.54393 L1339.7 9.54393 L1339.7 46.7717 L1361.94 27.2059 L1371.46 27.2059 L1347.39 48.4326 L1372.47 72.576 L1362.75 72.576 L1339.7 50.4176 L1339.7 72.576 L1332.2 72.576 L1332.2 9.54393 Z\" fill=\"#000000\" fill-rule=\"evenodd\" fill-opacity=\"1\" /><path clip-path=\"url(#clip990)\" d=\"M1429.87 9.54393 L1429.87 15.7418 L1422.74 15.7418 Q1418.73 15.7418 1417.15 17.3622 Q1415.61 18.9825 1415.61 23.1955 L1415.61 27.2059 L1427.89 27.2059 L1427.89 32.9987 L1415.61 32.9987 L1415.61 72.576 L1408.12 72.576 L1408.12 32.9987 L1400.99 32.9987 L1400.99 27.2059 L1408.12 27.2059 L1408.12 24.0462 Q1408.12 16.471 1411.64 13.0277 Q1415.17 9.54393 1422.82 9.54393 L1429.87 9.54393 Z\" fill=\"#000000\" fill-rule=\"evenodd\" fill-opacity=\"1\" /><path clip-path=\"url(#clip990)\" d=\"M1462.4 34.1734 Q1461.14 33.4443 1459.64 33.1202 Q1458.19 32.7556 1456.4 32.7556 Q1450.08 32.7556 1446.68 36.8875 Q1443.32 40.9789 1443.32 48.6757 L1443.32 72.576 L1435.82 72.576 L1435.82 27.2059 L1443.32 27.2059 L1443.32 34.2544 Q1445.67 30.1225 1449.44 28.1376 Q1453.2 26.1121 1458.59 26.1121 Q1459.36 26.1121 1460.29 26.2337 Q1461.22 26.3147 1462.36 26.5172 L1462.4 34.1734 Z\" fill=\"#000000\" fill-rule=\"evenodd\" fill-opacity=\"1\" /><path clip-path=\"url(#clip990)\" d=\"M1485.98 32.4315 Q1479.98 32.4315 1476.5 37.1306 Q1473.01 41.7891 1473.01 49.9314 Q1473.01 58.0738 1476.46 62.7728 Q1479.94 67.4314 1485.98 67.4314 Q1491.93 67.4314 1495.41 62.7323 Q1498.9 58.0333 1498.9 49.9314 Q1498.9 41.8701 1495.41 37.1711 Q1491.93 32.4315 1485.98 32.4315 M1485.98 26.1121 Q1495.7 26.1121 1501.25 32.4315 Q1506.8 38.7509 1506.8 49.9314 Q1506.8 61.0714 1501.25 67.4314 Q1495.7 73.7508 1485.98 73.7508 Q1476.21 73.7508 1470.66 67.4314 Q1465.15 61.0714 1465.15 49.9314 Q1465.15 38.7509 1470.66 32.4315 Q1476.21 26.1121 1485.98 26.1121 Z\" fill=\"#000000\" fill-rule=\"evenodd\" fill-opacity=\"1\" /><path clip-path=\"url(#clip990)\" d=\"M1554.48 35.9153 Q1557.27 30.8922 1561.16 28.5022 Q1565.05 26.1121 1570.31 26.1121 Q1577.4 26.1121 1581.25 31.0947 Q1585.1 36.0368 1585.1 45.1919 L1585.1 72.576 L1577.61 72.576 L1577.61 45.4349 Q1577.61 38.913 1575.3 35.7533 Q1572.99 32.5936 1568.25 32.5936 Q1562.46 32.5936 1559.09 36.4419 Q1555.73 40.2903 1555.73 46.9338 L1555.73 72.576 L1548.24 72.576 L1548.24 45.4349 Q1548.24 38.8725 1545.93 35.7533 Q1543.62 32.5936 1538.8 32.5936 Q1533.09 32.5936 1529.72 36.4824 Q1526.36 40.3308 1526.36 46.9338 L1526.36 72.576 L1518.87 72.576 L1518.87 27.2059 L1526.36 27.2059 L1526.36 34.2544 Q1528.91 30.082 1532.48 28.0971 Q1536.04 26.1121 1540.95 26.1121 Q1545.89 26.1121 1549.33 28.6237 Q1552.81 31.1352 1554.48 35.9153 Z\" fill=\"#000000\" fill-rule=\"evenodd\" fill-opacity=\"1\" /><path clip-path=\"url(#clip990)\" d=\"M1633.55 65.7705 L1633.55 89.8329 L1626.06 89.8329 L1626.06 27.2059 L1633.55 27.2059 L1633.55 34.0924 Q1635.9 30.0415 1639.46 28.0971 Q1643.07 26.1121 1648.05 26.1121 Q1656.32 26.1121 1661.46 32.6746 Q1666.65 39.2371 1666.65 49.9314 Q1666.65 60.6258 1661.46 67.1883 Q1656.32 73.7508 1648.05 73.7508 Q1643.07 73.7508 1639.46 71.8063 Q1635.9 69.8214 1633.55 65.7705 M1658.91 49.9314 Q1658.91 41.7081 1655.51 37.0496 Q1652.14 32.3505 1646.23 32.3505 Q1640.31 32.3505 1636.91 37.0496 Q1633.55 41.7081 1633.55 49.9314 Q1633.55 58.1548 1636.91 62.8538 Q1640.31 67.5124 1646.23 67.5124 Q1652.14 67.5124 1655.51 62.8538 Q1658.91 58.1548 1658.91 49.9314 Z\" fill=\"#000000\" fill-rule=\"evenodd\" fill-opacity=\"1\" /><path clip-path=\"url(#clip990)\" d=\"M1696.58 32.4315 Q1690.59 32.4315 1687.1 37.1306 Q1683.62 41.7891 1683.62 49.9314 Q1683.62 58.0738 1687.06 62.7728 Q1690.55 67.4314 1696.58 67.4314 Q1702.54 67.4314 1706.02 62.7323 Q1709.5 58.0333 1709.5 49.9314 Q1709.5 41.8701 1706.02 37.1711 Q1702.54 32.4315 1696.58 32.4315 M1696.58 26.1121 Q1706.3 26.1121 1711.85 32.4315 Q1717.4 38.7509 1717.4 49.9314 Q1717.4 61.0714 1711.85 67.4314 Q1706.3 73.7508 1696.58 73.7508 Q1686.82 73.7508 1681.27 67.4314 Q1675.76 61.0714 1675.76 49.9314 Q1675.76 38.7509 1681.27 32.4315 Q1686.82 26.1121 1696.58 26.1121 Z\" fill=\"#000000\" fill-rule=\"evenodd\" fill-opacity=\"1\" /><path clip-path=\"url(#clip990)\" d=\"M1747.34 32.4315 Q1741.34 32.4315 1737.86 37.1306 Q1734.38 41.7891 1734.38 49.9314 Q1734.38 58.0738 1737.82 62.7728 Q1741.3 67.4314 1747.34 67.4314 Q1753.29 67.4314 1756.78 62.7323 Q1760.26 58.0333 1760.26 49.9314 Q1760.26 41.8701 1756.78 37.1711 Q1753.29 32.4315 1747.34 32.4315 M1747.34 26.1121 Q1757.06 26.1121 1762.61 32.4315 Q1768.16 38.7509 1768.16 49.9314 Q1768.16 61.0714 1762.61 67.4314 Q1757.06 73.7508 1747.34 73.7508 Q1737.58 73.7508 1732.03 67.4314 Q1726.52 61.0714 1726.52 49.9314 Q1726.52 38.7509 1732.03 32.4315 Q1737.58 26.1121 1747.34 26.1121 Z\" fill=\"#000000\" fill-rule=\"evenodd\" fill-opacity=\"1\" /><path clip-path=\"url(#clip990)\" d=\"M1806.81 34.1734 Q1805.55 33.4443 1804.05 33.1202 Q1802.59 32.7556 1800.81 32.7556 Q1794.49 32.7556 1791.09 36.8875 Q1787.73 40.9789 1787.73 48.6757 L1787.73 72.576 L1780.23 72.576 L1780.23 27.2059 L1787.73 27.2059 L1787.73 34.2544 Q1790.08 30.1225 1793.84 28.1376 Q1797.61 26.1121 1803 26.1121 Q1803.77 26.1121 1804.7 26.2337 Q1805.63 26.3147 1806.77 26.5172 L1806.81 34.1734 Z\" fill=\"#000000\" fill-rule=\"evenodd\" fill-opacity=\"1\" /><path clip-path=\"url(#clip990)\" d=\"M1851.61 48.0275 L1851.61 51.6733 L1817.34 51.6733 Q1817.83 59.3701 1821.96 63.421 Q1826.13 67.4314 1833.54 67.4314 Q1837.84 67.4314 1841.85 66.3781 Q1845.9 65.3249 1849.87 63.2184 L1849.87 70.267 Q1845.86 71.9684 1841.64 72.8596 Q1837.43 73.7508 1833.1 73.7508 Q1822.24 73.7508 1815.88 67.4314 Q1809.56 61.1119 1809.56 50.3365 Q1809.56 39.1965 1815.56 32.6746 Q1821.59 26.1121 1831.8 26.1121 Q1840.96 26.1121 1846.26 32.0264 Q1851.61 37.9003 1851.61 48.0275 M1844.16 45.84 Q1844.07 39.7232 1840.71 36.0774 Q1837.39 32.4315 1831.88 32.4315 Q1825.64 32.4315 1821.88 35.9558 Q1818.15 39.4801 1817.58 45.8805 L1844.16 45.84 Z\" fill=\"#000000\" fill-rule=\"evenodd\" fill-opacity=\"1\" /><path clip-path=\"url(#clip990)\" d=\"M1892.77 28.5427 L1892.77 35.5912 Q1889.61 33.9709 1886.2 33.1607 Q1882.8 32.3505 1879.16 32.3505 Q1873.61 32.3505 1870.81 34.0519 Q1868.06 35.7533 1868.06 39.156 Q1868.06 41.7486 1870.04 43.2475 Q1872.03 44.7058 1878.02 46.0426 L1880.57 46.6097 Q1888.51 48.3111 1891.84 51.4303 Q1895.2 54.509 1895.2 60.0587 Q1895.2 66.3781 1890.17 70.0644 Q1885.19 73.7508 1876.44 73.7508 Q1872.8 73.7508 1868.83 73.0216 Q1864.9 72.3329 1860.52 70.9151 L1860.52 63.2184 Q1864.65 65.3654 1868.66 66.4591 Q1872.67 67.5124 1876.6 67.5124 Q1881.87 67.5124 1884.71 65.73 Q1887.54 63.9071 1887.54 60.6258 Q1887.54 57.5877 1885.48 55.9673 Q1883.45 54.3469 1876.52 52.8481 L1873.93 52.2405 Q1867 50.7821 1863.92 47.7845 Q1860.85 44.7463 1860.85 39.4801 Q1860.85 33.0797 1865.38 29.5959 Q1869.92 26.1121 1878.26 26.1121 Q1882.4 26.1121 1886.04 26.7198 Q1889.69 27.3274 1892.77 28.5427 Z\" fill=\"#000000\" fill-rule=\"evenodd\" fill-opacity=\"1\" /><path clip-path=\"url(#clip990)\" d=\"M1914.44 14.324 L1914.44 27.2059 L1929.79 27.2059 L1929.79 32.9987 L1914.44 32.9987 L1914.44 57.6282 Q1914.44 63.1779 1915.94 64.7578 Q1917.48 66.3376 1922.14 66.3376 L1929.79 66.3376 L1929.79 72.576 L1922.14 72.576 Q1913.51 72.576 1910.23 69.3758 Q1906.94 66.1351 1906.94 57.6282 L1906.94 32.9987 L1901.48 32.9987 L1901.48 27.2059 L1906.94 27.2059 L1906.94 14.324 L1914.44 14.324 Z\" fill=\"#000000\" fill-rule=\"evenodd\" fill-opacity=\"1\" /><path clip-path=\"url(#clip990)\" d=\"M1973.34 14.324 L1973.34 27.2059 L1988.69 27.2059 L1988.69 32.9987 L1973.34 32.9987 L1973.34 57.6282 Q1973.34 63.1779 1974.84 64.7578 Q1976.38 66.3376 1981.04 66.3376 L1988.69 66.3376 L1988.69 72.576 L1981.04 72.576 Q1972.41 72.576 1969.13 69.3758 Q1965.85 66.1351 1965.85 57.6282 L1965.85 32.9987 L1960.38 32.9987 L1960.38 27.2059 L1965.85 27.2059 L1965.85 14.324 L1973.34 14.324 Z\" fill=\"#000000\" fill-rule=\"evenodd\" fill-opacity=\"1\" /><path clip-path=\"url(#clip990)\" d=\"M2016.08 32.4315 Q2010.08 32.4315 2006.6 37.1306 Q2003.11 41.7891 2003.11 49.9314 Q2003.11 58.0738 2006.56 62.7728 Q2010.04 67.4314 2016.08 67.4314 Q2022.03 67.4314 2025.51 62.7323 Q2029 58.0333 2029 49.9314 Q2029 41.8701 2025.51 37.1711 Q2022.03 32.4315 2016.08 32.4315 M2016.08 26.1121 Q2025.8 26.1121 2031.35 32.4315 Q2036.9 38.7509 2036.9 49.9314 Q2036.9 61.0714 2031.35 67.4314 Q2025.8 73.7508 2016.08 73.7508 Q2006.31 73.7508 2000.76 67.4314 Q1995.25 61.0714 1995.25 49.9314 Q1995.25 38.7509 2000.76 32.4315 Q2006.31 26.1121 2016.08 26.1121 Z\" fill=\"#000000\" fill-rule=\"evenodd\" fill-opacity=\"1\" /><path clip-path=\"url(#clip990)\" d=\"M2101.92 34.1734 Q2100.66 33.4443 2099.16 33.1202 Q2097.7 32.7556 2095.92 32.7556 Q2089.6 32.7556 2086.2 36.8875 Q2082.84 40.9789 2082.84 48.6757 L2082.84 72.576 L2075.34 72.576 L2075.34 27.2059 L2082.84 27.2059 L2082.84 34.2544 Q2085.18 30.1225 2088.95 28.1376 Q2092.72 26.1121 2098.11 26.1121 Q2098.88 26.1121 2099.81 26.2337 Q2100.74 26.3147 2101.87 26.5172 L2101.92 34.1734 Z\" fill=\"#000000\" fill-rule=\"evenodd\" fill-opacity=\"1\" /><path clip-path=\"url(#clip990)\" d=\"M2109.73 27.2059 L2117.19 27.2059 L2117.19 72.576 L2109.73 72.576 L2109.73 27.2059 M2109.73 9.54393 L2117.19 9.54393 L2117.19 18.9825 L2109.73 18.9825 L2109.73 9.54393 Z\" fill=\"#000000\" fill-rule=\"evenodd\" fill-opacity=\"1\" /><path clip-path=\"url(#clip990)\" d=\"M2165.43 28.9478 L2165.43 35.9153 Q2162.27 34.1734 2159.07 33.3227 Q2155.91 32.4315 2152.67 32.4315 Q2145.42 32.4315 2141.41 37.0496 Q2137.4 41.6271 2137.4 49.9314 Q2137.4 58.2358 2141.41 62.8538 Q2145.42 67.4314 2152.67 67.4314 Q2155.91 67.4314 2159.07 66.5807 Q2162.27 65.6895 2165.43 63.9476 L2165.43 70.8341 Q2162.31 72.2924 2158.95 73.0216 Q2155.63 73.7508 2151.86 73.7508 Q2141.61 73.7508 2135.58 67.3098 Q2129.54 60.8689 2129.54 49.9314 Q2129.54 38.832 2135.62 32.472 Q2141.74 26.1121 2152.35 26.1121 Q2155.79 26.1121 2159.07 26.8413 Q2162.35 27.5299 2165.43 28.9478 Z\" fill=\"#000000\" fill-rule=\"evenodd\" fill-opacity=\"1\" /><path clip-path=\"url(#clip990)\" d=\"M2216.11 45.1919 L2216.11 72.576 L2208.66 72.576 L2208.66 45.4349 Q2208.66 38.994 2206.14 35.7938 Q2203.63 32.5936 2198.61 32.5936 Q2192.57 32.5936 2189.09 36.4419 Q2185.61 40.2903 2185.61 46.9338 L2185.61 72.576 L2178.11 72.576 L2178.11 9.54393 L2185.61 9.54393 L2185.61 34.2544 Q2188.28 30.163 2191.89 28.1376 Q2195.53 26.1121 2200.27 26.1121 Q2208.09 26.1121 2212.1 30.9732 Q2216.11 35.7938 2216.11 45.1919 Z\" fill=\"#000000\" fill-rule=\"evenodd\" fill-opacity=\"1\" /><path clip-path=\"url(#clip990)\" d=\"M2269.78 48.0275 L2269.78 51.6733 L2235.51 51.6733 Q2236 59.3701 2240.13 63.421 Q2244.3 67.4314 2251.72 67.4314 Q2256.01 67.4314 2260.02 66.3781 Q2264.07 65.3249 2268.04 63.2184 L2268.04 70.267 Q2264.03 71.9684 2259.82 72.8596 Q2255.61 73.7508 2251.27 73.7508 Q2240.42 73.7508 2234.06 67.4314 Q2227.74 61.1119 2227.74 50.3365 Q2227.74 39.1965 2233.73 32.6746 Q2239.77 26.1121 2249.98 26.1121 Q2259.13 26.1121 2264.44 32.0264 Q2269.78 37.9003 2269.78 48.0275 M2262.33 45.84 Q2262.25 39.7232 2258.89 36.0774 Q2255.57 32.4315 2250.06 32.4315 Q2243.82 32.4315 2240.05 35.9558 Q2236.32 39.4801 2235.76 45.8805 L2262.33 45.84 Z\" fill=\"#000000\" fill-rule=\"evenodd\" fill-opacity=\"1\" /><path clip-path=\"url(#clip990)\" d=\"M2310.94 28.5427 L2310.94 35.5912 Q2307.78 33.9709 2304.38 33.1607 Q2300.98 32.3505 2297.33 32.3505 Q2291.78 32.3505 2288.99 34.0519 Q2286.23 35.7533 2286.23 39.156 Q2286.23 41.7486 2288.22 43.2475 Q2290.2 44.7058 2296.2 46.0426 L2298.75 46.6097 Q2306.69 48.3111 2310.01 51.4303 Q2313.37 54.509 2313.37 60.0587 Q2313.37 66.3781 2308.35 70.0644 Q2303.37 73.7508 2294.62 73.7508 Q2290.97 73.7508 2287 73.0216 Q2283.07 72.3329 2278.7 70.9151 L2278.7 63.2184 Q2282.83 65.3654 2286.84 66.4591 Q2290.85 67.5124 2294.78 67.5124 Q2300.04 67.5124 2302.88 65.73 Q2305.72 63.9071 2305.72 60.6258 Q2305.72 57.5877 2303.65 55.9673 Q2301.62 54.3469 2294.7 52.8481 L2292.1 52.2405 Q2285.18 50.7821 2282.1 47.7845 Q2279.02 44.7463 2279.02 39.4801 Q2279.02 33.0797 2283.56 29.5959 Q2288.09 26.1121 2296.44 26.1121 Q2300.57 26.1121 2304.22 26.7198 Q2307.86 27.3274 2310.94 28.5427 Z\" fill=\"#000000\" fill-rule=\"evenodd\" fill-opacity=\"1\" /><path clip-path=\"url(#clip990)\" d=\"M2332.61 14.324 L2332.61 27.2059 L2347.97 27.2059 L2347.97 32.9987 L2332.61 32.9987 L2332.61 57.6282 Q2332.61 63.1779 2334.11 64.7578 Q2335.65 66.3376 2340.31 66.3376 L2347.97 66.3376 L2347.97 72.576 L2340.31 72.576 Q2331.68 72.576 2328.4 69.3758 Q2325.12 66.1351 2325.12 57.6282 L2325.12 32.9987 L2319.65 32.9987 L2319.65 27.2059 L2325.12 27.2059 L2325.12 14.324 L2332.61 14.324 Z\" fill=\"#000000\" fill-rule=\"evenodd\" fill-opacity=\"1\" /><polyline clip-path=\"url(#clip992)\" style=\"stroke:#009af9; stroke-linecap:butt; stroke-linejoin:round; stroke-width:4; stroke-opacity:1; fill:none\" points=\"\n  247.59,535.403 254.425,1000.06 261.261,655.097 268.096,385.445 274.932,796.844 281.768,680.714 288.603,1391.92 295.439,1014.49 302.274,448.054 309.11,1365.27 \n  315.946,564.123 322.781,590.019 329.617,172.427 336.453,960.85 343.288,793.476 350.124,971.921 356.959,381.405 363.795,942.19 370.631,1322.81 377.466,1386.31 \n  384.302,1201.48 391.138,162.047 397.973,956.728 404.809,794.076 411.644,552.313 418.48,985.189 425.316,1202.05 432.151,761.447 438.987,671.939 445.823,693.618 \n  452.658,1019.37 459.494,672.961 466.329,741.422 473.165,925.886 480.001,1090.56 486.836,842.769 493.672,948.076 500.508,754.596 507.343,971.674 514.179,176.581 \n  521.014,632.455 527.85,694.944 534.686,1023.17 541.521,443.052 548.357,954.117 555.192,1046.48 562.028,754.913 568.864,568.985 575.699,728.009 582.535,975.707 \n  589.371,1159.76 596.206,783.15 603.042,1047.15 609.877,986.427 616.713,774.428 623.549,919.519 630.384,814.397 637.22,988.45 644.056,736.4 650.891,1265.27 \n  657.727,663.565 664.562,1057.64 671.398,957.466 678.234,1244.41 685.069,1125.43 691.905,816.287 698.741,865.964 705.576,893.037 712.412,1379.9 719.247,806.714 \n  726.083,919.229 732.919,878.737 739.754,599.661 746.59,891.715 753.426,1061.71 760.261,880.685 767.097,747.339 773.932,840.254 780.768,946.347 787.604,1276.72 \n  794.439,1057.79 801.275,1199.53 808.11,842.277 814.946,1112.9 821.782,1406.61 828.617,984.95 835.453,1245.86 842.289,1090.67 849.124,902.251 855.96,788.803 \n  862.795,1012.84 869.631,1206.36 876.467,1371.02 883.302,1118.6 890.138,880.637 896.974,1310.49 903.809,1099.19 910.645,1104.11 917.48,1159.28 924.316,894.852 \n  931.152,1107.34 937.987,1153.43 944.823,874.831 951.659,988.996 958.494,1306.91 965.33,963.518 972.165,1073.87 979.001,1105.7 985.837,998.571 992.672,1221 \n  999.508,1199.3 1006.34,944.765 1013.18,1007 1020.01,1043.09 1026.85,1119.3 1033.69,1115.16 1040.52,1036.83 1047.36,1273.53 1054.19,895.436 1061.03,1197.15 \n  1067.86,1086.82 1074.7,1182.27 1081.54,1245.13 1088.37,937.835 1095.21,764.551 1102.04,718.642 1108.88,1308.9 1115.71,1196.41 1122.55,977.837 1129.38,1232.83 \n  1136.22,1042.08 1143.06,1306.14 1149.89,1272.54 1156.73,1004.72 1163.56,1332.11 1170.4,1325.28 1177.23,1131.28 1184.07,1072.14 1190.91,1222.7 1197.74,1313 \n  1204.58,1052.61 1211.41,1006.46 1218.25,1295.04 1225.08,1190.67 1231.92,1112.48 1238.75,1339.62 1245.59,1059.5 1252.43,1276.45 1259.26,987.354 1266.1,1029.63 \n  1272.93,1032.5 1279.77,943.5 1286.6,1157.82 1293.44,1240.74 1300.28,1077.88 1307.11,1071.93 1313.95,1189.82 1320.78,1347.28 1327.62,1440.1 1334.45,1150.97 \n  1341.29,1005.32 1348.12,1312.27 1354.96,1124.87 1361.8,1227.26 1368.63,926.578 1375.47,1366.12 1382.3,1132.58 1389.14,1276.65 1395.97,1193.88 1402.81,1165.99 \n  1409.65,1245.62 1416.48,1149.75 1423.32,1198.37 1430.15,1344.52 1436.99,1377.52 1443.82,987.999 1450.66,1044.94 1457.49,1286.19 1464.33,1249.85 1471.17,1201.61 \n  1478,1285.15 1484.84,1200.3 1491.67,1139.13 1498.51,1184.05 1505.34,1060.14 1512.18,1176.43 1519.02,1293.63 1525.85,1208.94 1532.69,1119.18 1539.52,1197.83 \n  1546.36,1023.29 1553.19,1233.35 1560.03,1169.97 1566.86,958.626 1573.7,1241.95 1580.54,1149.29 1587.37,1202.79 1594.21,1196.41 1601.04,1219.87 1607.88,1165.99 \n  1614.71,1054.05 1621.55,1080.16 1628.39,1324.5 1635.22,1188.62 1642.06,1058.4 1648.89,1266.9 1655.73,966.732 1662.56,1120.48 1669.4,1105.28 1676.23,1138.55 \n  1683.07,1268.26 1689.91,1072.97 1696.74,1190.73 1703.58,1144.78 1710.41,1408.43 1717.25,1132.24 1724.08,1050.53 1730.92,1240 1737.76,1087.11 1744.59,1224.43 \n  1751.43,1194.57 1758.26,1114.82 1765.1,1222.43 1771.93,1142.27 1778.77,1096.35 1785.6,1187.36 1792.44,1153.13 1799.28,1019.6 1806.11,1224.23 1812.95,1217.62 \n  1819.78,1287.16 1826.62,1320.47 1833.45,1231.13 1840.29,978.366 1847.12,1289.22 1853.96,1314.92 1860.8,1217.86 1867.63,1209.72 1874.47,1000.65 1881.3,1447.87 \n  1888.14,1256.37 1894.97,1070.49 1901.81,1294.56 1908.65,1238.04 1915.48,1274.77 1922.32,1268.95 1929.15,1066.71 1935.99,1254.22 1942.82,1399.09 1949.66,1229.16 \n  1956.49,1322.84 1963.33,1254.62 1970.17,1333.53 1977,1285.16 1983.84,1199.06 1990.67,1226.27 1997.51,1294.06 2004.34,1303.82 2011.18,1274.12 2018.02,1270.6 \n  2024.85,1319.63 2031.69,1422.5 2038.52,1359.12 2045.36,1272.56 2052.19,1265.41 2059.03,1249.65 2065.86,1334.36 2072.7,1403.32 2079.54,1301.66 2086.37,1279.26 \n  2093.21,1438.11 2100.04,1324.73 2106.88,1349.8 2113.71,1352.1 2120.55,1254.25 2127.39,1259.49 2134.22,1360.73 2141.06,1308.15 2147.89,1383.59 2154.73,1312.55 \n  2161.56,1445.64 2168.4,1348.07 2175.23,1281 2182.07,1291.06 2188.91,1344.47 2195.74,1321.89 2202.58,1378.6 2209.41,1270.49 2216.25,1399.99 2223.08,1322.68 \n  2229.92,1305.73 2236.76,1432.44 2243.59,1433.34 2250.43,1309.95 2257.26,1347.06 2264.1,1318.3 2270.93,1378.13 2277.77,1414.34 2284.6,1400.87 2291.44,1424.01 \n  \n  \"/>\n<path clip-path=\"url(#clip990)\" d=\"\nM1987.39 272.585 L2280.54 272.585 L2280.54 168.905 L1987.39 168.905  Z\n  \" fill=\"#ffffff\" fill-rule=\"evenodd\" fill-opacity=\"1\"/>\n<polyline clip-path=\"url(#clip990)\" style=\"stroke:#000000; stroke-linecap:butt; stroke-linejoin:round; stroke-width:4; stroke-opacity:1; fill:none\" points=\"\n  1987.39,272.585 2280.54,272.585 2280.54,168.905 1987.39,168.905 1987.39,272.585 \n  \"/>\n<polyline clip-path=\"url(#clip990)\" style=\"stroke:#009af9; stroke-linecap:butt; stroke-linejoin:round; stroke-width:4; stroke-opacity:1; fill:none\" points=\"\n  2011.46,220.745 2155.89,220.745 \n  \"/>\n<path clip-path=\"url(#clip990)\" d=\"M2193.81 240.432 Q2192 245.062 2190.29 246.474 Q2188.58 247.886 2185.71 247.886 L2182.3 247.886 L2182.3 244.321 L2184.8 244.321 Q2186.56 244.321 2187.53 243.488 Q2188.51 242.654 2189.69 239.552 L2190.45 237.608 L2179.97 212.099 L2184.48 212.099 L2192.58 232.377 L2200.68 212.099 L2205.2 212.099 L2193.81 240.432 Z\" fill=\"#000000\" fill-rule=\"evenodd\" fill-opacity=\"1\" /><path clip-path=\"url(#clip990)\" d=\"M2212.49 234.089 L2220.13 234.089 L2220.13 207.724 L2211.82 209.391 L2211.82 205.131 L2220.08 203.465 L2224.76 203.465 L2224.76 234.089 L2232.4 234.089 L2232.4 238.025 L2212.49 238.025 L2212.49 234.089 Z\" fill=\"#000000\" fill-rule=\"evenodd\" fill-opacity=\"1\" /></svg>\n",
      "text/html": [
       "<?xml version=\"1.0\" encoding=\"utf-8\"?>\n",
       "<svg xmlns=\"http://www.w3.org/2000/svg\" xmlns:xlink=\"http://www.w3.org/1999/xlink\" width=\"600\" height=\"400\" viewBox=\"0 0 2400 1600\">\n",
       "<defs>\n",
       "  <clipPath id=\"clip040\">\n",
       "    <rect x=\"0\" y=\"0\" width=\"2400\" height=\"1600\"/>\n",
       "  </clipPath>\n",
       "</defs>\n",
       "<path clip-path=\"url(#clip040)\" d=\"\n",
       "M0 1600 L2400 1600 L2400 0 L0 0  Z\n",
       "  \" fill=\"#ffffff\" fill-rule=\"evenodd\" fill-opacity=\"1\"/>\n",
       "<defs>\n",
       "  <clipPath id=\"clip041\">\n",
       "    <rect x=\"480\" y=\"0\" width=\"1681\" height=\"1600\"/>\n",
       "  </clipPath>\n",
       "</defs>\n",
       "<path clip-path=\"url(#clip040)\" d=\"\n",
       "M186.274 1486.45 L2352.76 1486.45 L2352.76 123.472 L186.274 123.472  Z\n",
       "  \" fill=\"#ffffff\" fill-rule=\"evenodd\" fill-opacity=\"1\"/>\n",
       "<defs>\n",
       "  <clipPath id=\"clip042\">\n",
       "    <rect x=\"186\" y=\"123\" width=\"2167\" height=\"1364\"/>\n",
       "  </clipPath>\n",
       "</defs>\n",
       "<polyline clip-path=\"url(#clip042)\" style=\"stroke:#000000; stroke-linecap:butt; stroke-linejoin:round; stroke-width:2; stroke-opacity:0.1; fill:none\" points=\"\n",
       "  240.754,1486.45 240.754,123.472 \n",
       "  \"/>\n",
       "<polyline clip-path=\"url(#clip042)\" style=\"stroke:#000000; stroke-linecap:butt; stroke-linejoin:round; stroke-width:2; stroke-opacity:0.1; fill:none\" points=\"\n",
       "  924.316,1486.45 924.316,123.472 \n",
       "  \"/>\n",
       "<polyline clip-path=\"url(#clip042)\" style=\"stroke:#000000; stroke-linecap:butt; stroke-linejoin:round; stroke-width:2; stroke-opacity:0.1; fill:none\" points=\"\n",
       "  1607.88,1486.45 1607.88,123.472 \n",
       "  \"/>\n",
       "<polyline clip-path=\"url(#clip042)\" style=\"stroke:#000000; stroke-linecap:butt; stroke-linejoin:round; stroke-width:2; stroke-opacity:0.1; fill:none\" points=\"\n",
       "  2291.44,1486.45 2291.44,123.472 \n",
       "  \"/>\n",
       "<polyline clip-path=\"url(#clip040)\" style=\"stroke:#000000; stroke-linecap:butt; stroke-linejoin:round; stroke-width:4; stroke-opacity:1; fill:none\" points=\"\n",
       "  186.274,1486.45 2352.76,1486.45 \n",
       "  \"/>\n",
       "<polyline clip-path=\"url(#clip040)\" style=\"stroke:#000000; stroke-linecap:butt; stroke-linejoin:round; stroke-width:4; stroke-opacity:1; fill:none\" points=\"\n",
       "  240.754,1486.45 240.754,1467.55 \n",
       "  \"/>\n",
       "<polyline clip-path=\"url(#clip040)\" style=\"stroke:#000000; stroke-linecap:butt; stroke-linejoin:round; stroke-width:4; stroke-opacity:1; fill:none\" points=\"\n",
       "  924.316,1486.45 924.316,1467.55 \n",
       "  \"/>\n",
       "<polyline clip-path=\"url(#clip040)\" style=\"stroke:#000000; stroke-linecap:butt; stroke-linejoin:round; stroke-width:4; stroke-opacity:1; fill:none\" points=\"\n",
       "  1607.88,1486.45 1607.88,1467.55 \n",
       "  \"/>\n",
       "<polyline clip-path=\"url(#clip040)\" style=\"stroke:#000000; stroke-linecap:butt; stroke-linejoin:round; stroke-width:4; stroke-opacity:1; fill:none\" points=\"\n",
       "  2291.44,1486.45 2291.44,1467.55 \n",
       "  \"/>\n",
       "<path clip-path=\"url(#clip040)\" d=\"M240.754 1517.37 Q237.143 1517.37 235.314 1520.93 Q233.509 1524.47 233.509 1531.6 Q233.509 1538.71 235.314 1542.27 Q237.143 1545.82 240.754 1545.82 Q244.388 1545.82 246.194 1542.27 Q248.022 1538.71 248.022 1531.6 Q248.022 1524.47 246.194 1520.93 Q244.388 1517.37 240.754 1517.37 M240.754 1513.66 Q246.564 1513.66 249.62 1518.27 Q252.698 1522.85 252.698 1531.6 Q252.698 1540.33 249.62 1544.94 Q246.564 1549.52 240.754 1549.52 Q234.944 1549.52 231.865 1544.94 Q228.81 1540.33 228.81 1531.6 Q228.81 1522.85 231.865 1518.27 Q234.944 1513.66 240.754 1513.66 Z\" fill=\"#000000\" fill-rule=\"evenodd\" fill-opacity=\"1\" /><path clip-path=\"url(#clip040)\" d=\"M883.923 1544.91 L891.562 1544.91 L891.562 1518.55 L883.251 1520.21 L883.251 1515.95 L891.515 1514.29 L896.191 1514.29 L896.191 1544.91 L903.83 1544.91 L903.83 1548.85 L883.923 1548.85 L883.923 1544.91 Z\" fill=\"#000000\" fill-rule=\"evenodd\" fill-opacity=\"1\" /><path clip-path=\"url(#clip040)\" d=\"M923.274 1517.37 Q919.663 1517.37 917.835 1520.93 Q916.029 1524.47 916.029 1531.6 Q916.029 1538.71 917.835 1542.27 Q919.663 1545.82 923.274 1545.82 Q926.909 1545.82 928.714 1542.27 Q930.543 1538.71 930.543 1531.6 Q930.543 1524.47 928.714 1520.93 Q926.909 1517.37 923.274 1517.37 M923.274 1513.66 Q929.085 1513.66 932.14 1518.27 Q935.219 1522.85 935.219 1531.6 Q935.219 1540.33 932.14 1544.94 Q929.085 1549.52 923.274 1549.52 Q917.464 1549.52 914.386 1544.94 Q911.33 1540.33 911.33 1531.6 Q911.33 1522.85 914.386 1518.27 Q917.464 1513.66 923.274 1513.66 Z\" fill=\"#000000\" fill-rule=\"evenodd\" fill-opacity=\"1\" /><path clip-path=\"url(#clip040)\" d=\"M953.436 1517.37 Q949.825 1517.37 947.996 1520.93 Q946.191 1524.47 946.191 1531.6 Q946.191 1538.71 947.996 1542.27 Q949.825 1545.82 953.436 1545.82 Q957.071 1545.82 958.876 1542.27 Q960.705 1538.71 960.705 1531.6 Q960.705 1524.47 958.876 1520.93 Q957.071 1517.37 953.436 1517.37 M953.436 1513.66 Q959.246 1513.66 962.302 1518.27 Q965.381 1522.85 965.381 1531.6 Q965.381 1540.33 962.302 1544.94 Q959.246 1549.52 953.436 1549.52 Q947.626 1549.52 944.547 1544.94 Q941.492 1540.33 941.492 1531.6 Q941.492 1522.85 944.547 1518.27 Q947.626 1513.66 953.436 1513.66 Z\" fill=\"#000000\" fill-rule=\"evenodd\" fill-opacity=\"1\" /><path clip-path=\"url(#clip040)\" d=\"M1571.57 1544.91 L1587.89 1544.91 L1587.89 1548.85 L1565.95 1548.85 L1565.95 1544.91 Q1568.61 1542.16 1573.19 1537.53 Q1577.8 1532.88 1578.98 1531.53 Q1581.22 1529.01 1582.1 1527.27 Q1583.01 1525.51 1583.01 1523.82 Q1583.01 1521.07 1581.06 1519.33 Q1579.14 1517.6 1576.04 1517.6 Q1573.84 1517.6 1571.39 1518.36 Q1568.95 1519.13 1566.18 1520.68 L1566.18 1515.95 Q1569 1514.82 1571.45 1514.24 Q1573.91 1513.66 1575.95 1513.66 Q1581.32 1513.66 1584.51 1516.35 Q1587.7 1519.03 1587.7 1523.52 Q1587.7 1525.65 1586.89 1527.57 Q1586.11 1529.47 1584 1532.07 Q1583.42 1532.74 1580.32 1535.95 Q1577.22 1539.15 1571.57 1544.91 Z\" fill=\"#000000\" fill-rule=\"evenodd\" fill-opacity=\"1\" /><path clip-path=\"url(#clip040)\" d=\"M1607.7 1517.37 Q1604.09 1517.37 1602.26 1520.93 Q1600.46 1524.47 1600.46 1531.6 Q1600.46 1538.71 1602.26 1542.27 Q1604.09 1545.82 1607.7 1545.82 Q1611.34 1545.82 1613.14 1542.27 Q1614.97 1538.71 1614.97 1531.6 Q1614.97 1524.47 1613.14 1520.93 Q1611.34 1517.37 1607.7 1517.37 M1607.7 1513.66 Q1613.51 1513.66 1616.57 1518.27 Q1619.65 1522.85 1619.65 1531.6 Q1619.65 1540.33 1616.57 1544.94 Q1613.51 1549.52 1607.7 1549.52 Q1601.89 1549.52 1598.82 1544.94 Q1595.76 1540.33 1595.76 1531.6 Q1595.76 1522.85 1598.82 1518.27 Q1601.89 1513.66 1607.7 1513.66 Z\" fill=\"#000000\" fill-rule=\"evenodd\" fill-opacity=\"1\" /><path clip-path=\"url(#clip040)\" d=\"M1637.87 1517.37 Q1634.26 1517.37 1632.43 1520.93 Q1630.62 1524.47 1630.62 1531.6 Q1630.62 1538.71 1632.43 1542.27 Q1634.26 1545.82 1637.87 1545.82 Q1641.5 1545.82 1643.31 1542.27 Q1645.13 1538.71 1645.13 1531.6 Q1645.13 1524.47 1643.31 1520.93 Q1641.5 1517.37 1637.87 1517.37 M1637.87 1513.66 Q1643.68 1513.66 1646.73 1518.27 Q1649.81 1522.85 1649.81 1531.6 Q1649.81 1540.33 1646.73 1544.94 Q1643.68 1549.52 1637.87 1549.52 Q1632.06 1549.52 1628.98 1544.94 Q1625.92 1540.33 1625.92 1531.6 Q1625.92 1522.85 1628.98 1518.27 Q1632.06 1513.66 1637.87 1513.66 Z\" fill=\"#000000\" fill-rule=\"evenodd\" fill-opacity=\"1\" /><path clip-path=\"url(#clip040)\" d=\"M2265.2 1530.21 Q2268.56 1530.93 2270.43 1533.2 Q2272.33 1535.47 2272.33 1538.8 Q2272.33 1543.92 2268.81 1546.72 Q2265.29 1549.52 2258.81 1549.52 Q2256.64 1549.52 2254.32 1549.08 Q2252.03 1548.66 2249.58 1547.81 L2249.58 1543.29 Q2251.52 1544.43 2253.84 1545.01 Q2256.15 1545.58 2258.67 1545.58 Q2263.07 1545.58 2265.36 1543.85 Q2267.68 1542.11 2267.68 1538.8 Q2267.68 1535.75 2265.53 1534.03 Q2263.4 1532.3 2259.58 1532.3 L2255.55 1532.3 L2255.55 1528.45 L2259.76 1528.45 Q2263.21 1528.45 2265.04 1527.09 Q2266.87 1525.7 2266.87 1523.11 Q2266.87 1520.45 2264.97 1519.03 Q2263.1 1517.6 2259.58 1517.6 Q2257.66 1517.6 2255.46 1518.01 Q2253.26 1518.43 2250.62 1519.31 L2250.62 1515.14 Q2253.28 1514.4 2255.6 1514.03 Q2257.93 1513.66 2259.99 1513.66 Q2265.32 1513.66 2268.42 1516.09 Q2271.52 1518.5 2271.52 1522.62 Q2271.52 1525.49 2269.88 1527.48 Q2268.23 1529.45 2265.2 1530.21 Z\" fill=\"#000000\" fill-rule=\"evenodd\" fill-opacity=\"1\" /><path clip-path=\"url(#clip040)\" d=\"M2291.2 1517.37 Q2287.59 1517.37 2285.76 1520.93 Q2283.95 1524.47 2283.95 1531.6 Q2283.95 1538.71 2285.76 1542.27 Q2287.59 1545.82 2291.2 1545.82 Q2294.83 1545.82 2296.64 1542.27 Q2298.47 1538.71 2298.47 1531.6 Q2298.47 1524.47 2296.64 1520.93 Q2294.83 1517.37 2291.2 1517.37 M2291.2 1513.66 Q2297.01 1513.66 2300.06 1518.27 Q2303.14 1522.85 2303.14 1531.6 Q2303.14 1540.33 2300.06 1544.94 Q2297.01 1549.52 2291.2 1549.52 Q2285.39 1549.52 2282.31 1544.94 Q2279.25 1540.33 2279.25 1531.6 Q2279.25 1522.85 2282.31 1518.27 Q2285.39 1513.66 2291.2 1513.66 Z\" fill=\"#000000\" fill-rule=\"evenodd\" fill-opacity=\"1\" /><path clip-path=\"url(#clip040)\" d=\"M2321.36 1517.37 Q2317.75 1517.37 2315.92 1520.93 Q2314.11 1524.47 2314.11 1531.6 Q2314.11 1538.71 2315.92 1542.27 Q2317.75 1545.82 2321.36 1545.82 Q2324.99 1545.82 2326.8 1542.27 Q2328.63 1538.71 2328.63 1531.6 Q2328.63 1524.47 2326.8 1520.93 Q2324.99 1517.37 2321.36 1517.37 M2321.36 1513.66 Q2327.17 1513.66 2330.22 1518.27 Q2333.3 1522.85 2333.3 1531.6 Q2333.3 1540.33 2330.22 1544.94 Q2327.17 1549.52 2321.36 1549.52 Q2315.55 1549.52 2312.47 1544.94 Q2309.41 1540.33 2309.41 1531.6 Q2309.41 1522.85 2312.47 1518.27 Q2315.55 1513.66 2321.36 1513.66 Z\" fill=\"#000000\" fill-rule=\"evenodd\" fill-opacity=\"1\" /><polyline clip-path=\"url(#clip042)\" style=\"stroke:#000000; stroke-linecap:butt; stroke-linejoin:round; stroke-width:2; stroke-opacity:0.1; fill:none\" points=\"\n",
       "  186.274,1449.43 2352.76,1449.43 \n",
       "  \"/>\n",
       "<polyline clip-path=\"url(#clip042)\" style=\"stroke:#000000; stroke-linecap:butt; stroke-linejoin:round; stroke-width:2; stroke-opacity:0.1; fill:none\" points=\"\n",
       "  186.274,1060.89 2352.76,1060.89 \n",
       "  \"/>\n",
       "<polyline clip-path=\"url(#clip042)\" style=\"stroke:#000000; stroke-linecap:butt; stroke-linejoin:round; stroke-width:2; stroke-opacity:0.1; fill:none\" points=\"\n",
       "  186.274,672.347 2352.76,672.347 \n",
       "  \"/>\n",
       "<polyline clip-path=\"url(#clip042)\" style=\"stroke:#000000; stroke-linecap:butt; stroke-linejoin:round; stroke-width:2; stroke-opacity:0.1; fill:none\" points=\"\n",
       "  186.274,283.805 2352.76,283.805 \n",
       "  \"/>\n",
       "<polyline clip-path=\"url(#clip040)\" style=\"stroke:#000000; stroke-linecap:butt; stroke-linejoin:round; stroke-width:4; stroke-opacity:1; fill:none\" points=\"\n",
       "  186.274,1486.45 186.274,123.472 \n",
       "  \"/>\n",
       "<polyline clip-path=\"url(#clip040)\" style=\"stroke:#000000; stroke-linecap:butt; stroke-linejoin:round; stroke-width:4; stroke-opacity:1; fill:none\" points=\"\n",
       "  186.274,1449.43 205.172,1449.43 \n",
       "  \"/>\n",
       "<polyline clip-path=\"url(#clip040)\" style=\"stroke:#000000; stroke-linecap:butt; stroke-linejoin:round; stroke-width:4; stroke-opacity:1; fill:none\" points=\"\n",
       "  186.274,1060.89 205.172,1060.89 \n",
       "  \"/>\n",
       "<polyline clip-path=\"url(#clip040)\" style=\"stroke:#000000; stroke-linecap:butt; stroke-linejoin:round; stroke-width:4; stroke-opacity:1; fill:none\" points=\"\n",
       "  186.274,672.347 205.172,672.347 \n",
       "  \"/>\n",
       "<polyline clip-path=\"url(#clip040)\" style=\"stroke:#000000; stroke-linecap:butt; stroke-linejoin:round; stroke-width:4; stroke-opacity:1; fill:none\" points=\"\n",
       "  186.274,283.805 205.172,283.805 \n",
       "  \"/>\n",
       "<path clip-path=\"url(#clip040)\" d=\"M62.9365 1435.23 Q59.3254 1435.23 57.4967 1438.79 Q55.6912 1442.34 55.6912 1449.47 Q55.6912 1456.57 57.4967 1460.14 Q59.3254 1463.68 62.9365 1463.68 Q66.5707 1463.68 68.3763 1460.14 Q70.205 1456.57 70.205 1449.47 Q70.205 1442.34 68.3763 1438.79 Q66.5707 1435.23 62.9365 1435.23 M62.9365 1431.53 Q68.7467 1431.53 71.8022 1436.13 Q74.8809 1440.72 74.8809 1449.47 Q74.8809 1458.19 71.8022 1462.8 Q68.7467 1467.38 62.9365 1467.38 Q57.1264 1467.38 54.0477 1462.8 Q50.9921 1458.19 50.9921 1449.47 Q50.9921 1440.72 54.0477 1436.13 Q57.1264 1431.53 62.9365 1431.53 Z\" fill=\"#000000\" fill-rule=\"evenodd\" fill-opacity=\"1\" /><path clip-path=\"url(#clip040)\" d=\"M83.0984 1460.83 L87.9827 1460.83 L87.9827 1466.71 L83.0984 1466.71 L83.0984 1460.83 Z\" fill=\"#000000\" fill-rule=\"evenodd\" fill-opacity=\"1\" /><path clip-path=\"url(#clip040)\" d=\"M108.168 1435.23 Q104.557 1435.23 102.728 1438.79 Q100.922 1442.34 100.922 1449.47 Q100.922 1456.57 102.728 1460.14 Q104.557 1463.68 108.168 1463.68 Q111.802 1463.68 113.608 1460.14 Q115.436 1456.57 115.436 1449.47 Q115.436 1442.34 113.608 1438.79 Q111.802 1435.23 108.168 1435.23 M108.168 1431.53 Q113.978 1431.53 117.033 1436.13 Q120.112 1440.72 120.112 1449.47 Q120.112 1458.19 117.033 1462.8 Q113.978 1467.38 108.168 1467.38 Q102.358 1467.38 99.2789 1462.8 Q96.2234 1458.19 96.2234 1449.47 Q96.2234 1440.72 99.2789 1436.13 Q102.358 1431.53 108.168 1431.53 Z\" fill=\"#000000\" fill-rule=\"evenodd\" fill-opacity=\"1\" /><path clip-path=\"url(#clip040)\" d=\"M138.33 1435.23 Q134.719 1435.23 132.89 1438.79 Q131.084 1442.34 131.084 1449.47 Q131.084 1456.57 132.89 1460.14 Q134.719 1463.68 138.33 1463.68 Q141.964 1463.68 143.769 1460.14 Q145.598 1456.57 145.598 1449.47 Q145.598 1442.34 143.769 1438.79 Q141.964 1435.23 138.33 1435.23 M138.33 1431.53 Q144.14 1431.53 147.195 1436.13 Q150.274 1440.72 150.274 1449.47 Q150.274 1458.19 147.195 1462.8 Q144.14 1467.38 138.33 1467.38 Q132.519 1467.38 129.441 1462.8 Q126.385 1458.19 126.385 1449.47 Q126.385 1440.72 129.441 1436.13 Q132.519 1431.53 138.33 1431.53 Z\" fill=\"#000000\" fill-rule=\"evenodd\" fill-opacity=\"1\" /><path clip-path=\"url(#clip040)\" d=\"M63.9319 1046.69 Q60.3208 1046.69 58.4921 1050.25 Q56.6865 1053.79 56.6865 1060.92 Q56.6865 1068.03 58.4921 1071.6 Q60.3208 1075.14 63.9319 1075.14 Q67.5661 1075.14 69.3717 1071.6 Q71.2004 1068.03 71.2004 1060.92 Q71.2004 1053.79 69.3717 1050.25 Q67.5661 1046.69 63.9319 1046.69 M63.9319 1042.98 Q69.742 1042.98 72.7976 1047.59 Q75.8763 1052.17 75.8763 1060.92 Q75.8763 1069.65 72.7976 1074.26 Q69.742 1078.84 63.9319 1078.84 Q58.1217 1078.84 55.043 1074.26 Q51.9875 1069.65 51.9875 1060.92 Q51.9875 1052.17 55.043 1047.59 Q58.1217 1042.98 63.9319 1042.98 Z\" fill=\"#000000\" fill-rule=\"evenodd\" fill-opacity=\"1\" /><path clip-path=\"url(#clip040)\" d=\"M84.0938 1072.29 L88.978 1072.29 L88.978 1078.17 L84.0938 1078.17 L84.0938 1072.29 Z\" fill=\"#000000\" fill-rule=\"evenodd\" fill-opacity=\"1\" /><path clip-path=\"url(#clip040)\" d=\"M109.163 1046.69 Q105.552 1046.69 103.723 1050.25 Q101.918 1053.79 101.918 1060.92 Q101.918 1068.03 103.723 1071.6 Q105.552 1075.14 109.163 1075.14 Q112.797 1075.14 114.603 1071.6 Q116.432 1068.03 116.432 1060.92 Q116.432 1053.79 114.603 1050.25 Q112.797 1046.69 109.163 1046.69 M109.163 1042.98 Q114.973 1042.98 118.029 1047.59 Q121.107 1052.17 121.107 1060.92 Q121.107 1069.65 118.029 1074.26 Q114.973 1078.84 109.163 1078.84 Q103.353 1078.84 100.274 1074.26 Q97.2187 1069.65 97.2187 1060.92 Q97.2187 1052.17 100.274 1047.59 Q103.353 1042.98 109.163 1042.98 Z\" fill=\"#000000\" fill-rule=\"evenodd\" fill-opacity=\"1\" /><path clip-path=\"url(#clip040)\" d=\"M129.371 1043.61 L147.728 1043.61 L147.728 1047.54 L133.654 1047.54 L133.654 1056.02 Q134.672 1055.67 135.691 1055.51 Q136.709 1055.32 137.728 1055.32 Q143.515 1055.32 146.894 1058.49 Q150.274 1061.66 150.274 1067.08 Q150.274 1072.66 146.802 1075.76 Q143.33 1078.84 137.01 1078.84 Q134.834 1078.84 132.566 1078.47 Q130.32 1078.1 127.913 1077.36 L127.913 1072.66 Q129.996 1073.79 132.219 1074.35 Q134.441 1074.91 136.918 1074.91 Q140.922 1074.91 143.26 1072.8 Q145.598 1070.69 145.598 1067.08 Q145.598 1063.47 143.26 1061.36 Q140.922 1059.26 136.918 1059.26 Q135.043 1059.26 133.168 1059.67 Q131.316 1060.09 129.371 1060.97 L129.371 1043.61 Z\" fill=\"#000000\" fill-rule=\"evenodd\" fill-opacity=\"1\" /><path clip-path=\"url(#clip040)\" d=\"M62.9365 658.146 Q59.3254 658.146 57.4967 661.711 Q55.6912 665.253 55.6912 672.382 Q55.6912 679.489 57.4967 683.053 Q59.3254 686.595 62.9365 686.595 Q66.5707 686.595 68.3763 683.053 Q70.205 679.489 70.205 672.382 Q70.205 665.253 68.3763 661.711 Q66.5707 658.146 62.9365 658.146 M62.9365 654.442 Q68.7467 654.442 71.8022 659.049 Q74.8809 663.632 74.8809 672.382 Q74.8809 681.109 71.8022 685.715 Q68.7467 690.299 62.9365 690.299 Q57.1264 690.299 54.0477 685.715 Q50.9921 681.109 50.9921 672.382 Q50.9921 663.632 54.0477 659.049 Q57.1264 654.442 62.9365 654.442 Z\" fill=\"#000000\" fill-rule=\"evenodd\" fill-opacity=\"1\" /><path clip-path=\"url(#clip040)\" d=\"M83.0984 683.748 L87.9827 683.748 L87.9827 689.627 L83.0984 689.627 L83.0984 683.748 Z\" fill=\"#000000\" fill-rule=\"evenodd\" fill-opacity=\"1\" /><path clip-path=\"url(#clip040)\" d=\"M98.978 685.692 L106.617 685.692 L106.617 659.327 L98.3067 660.993 L98.3067 656.734 L106.571 655.067 L111.246 655.067 L111.246 685.692 L118.885 685.692 L118.885 689.627 L98.978 689.627 L98.978 685.692 Z\" fill=\"#000000\" fill-rule=\"evenodd\" fill-opacity=\"1\" /><path clip-path=\"url(#clip040)\" d=\"M138.33 658.146 Q134.719 658.146 132.89 661.711 Q131.084 665.253 131.084 672.382 Q131.084 679.489 132.89 683.053 Q134.719 686.595 138.33 686.595 Q141.964 686.595 143.769 683.053 Q145.598 679.489 145.598 672.382 Q145.598 665.253 143.769 661.711 Q141.964 658.146 138.33 658.146 M138.33 654.442 Q144.14 654.442 147.195 659.049 Q150.274 663.632 150.274 672.382 Q150.274 681.109 147.195 685.715 Q144.14 690.299 138.33 690.299 Q132.519 690.299 129.441 685.715 Q126.385 681.109 126.385 672.382 Q126.385 663.632 129.441 659.049 Q132.519 654.442 138.33 654.442 Z\" fill=\"#000000\" fill-rule=\"evenodd\" fill-opacity=\"1\" /><path clip-path=\"url(#clip040)\" d=\"M63.9319 269.604 Q60.3208 269.604 58.4921 273.169 Q56.6865 276.711 56.6865 283.84 Q56.6865 290.947 58.4921 294.511 Q60.3208 298.053 63.9319 298.053 Q67.5661 298.053 69.3717 294.511 Q71.2004 290.947 71.2004 283.84 Q71.2004 276.711 69.3717 273.169 Q67.5661 269.604 63.9319 269.604 M63.9319 265.9 Q69.742 265.9 72.7976 270.507 Q75.8763 275.09 75.8763 283.84 Q75.8763 292.567 72.7976 297.173 Q69.742 301.757 63.9319 301.757 Q58.1217 301.757 55.043 297.173 Q51.9875 292.567 51.9875 283.84 Q51.9875 275.09 55.043 270.507 Q58.1217 265.9 63.9319 265.9 Z\" fill=\"#000000\" fill-rule=\"evenodd\" fill-opacity=\"1\" /><path clip-path=\"url(#clip040)\" d=\"M84.0938 295.206 L88.978 295.206 L88.978 301.085 L84.0938 301.085 L84.0938 295.206 Z\" fill=\"#000000\" fill-rule=\"evenodd\" fill-opacity=\"1\" /><path clip-path=\"url(#clip040)\" d=\"M99.9733 297.15 L107.612 297.15 L107.612 270.785 L99.3021 272.451 L99.3021 268.192 L107.566 266.525 L112.242 266.525 L112.242 297.15 L119.881 297.15 L119.881 301.085 L99.9733 301.085 L99.9733 297.15 Z\" fill=\"#000000\" fill-rule=\"evenodd\" fill-opacity=\"1\" /><path clip-path=\"url(#clip040)\" d=\"M129.371 266.525 L147.728 266.525 L147.728 270.461 L133.654 270.461 L133.654 278.933 Q134.672 278.586 135.691 278.424 Q136.709 278.238 137.728 278.238 Q143.515 278.238 146.894 281.41 Q150.274 284.581 150.274 289.998 Q150.274 295.576 146.802 298.678 Q143.33 301.757 137.01 301.757 Q134.834 301.757 132.566 301.386 Q130.32 301.016 127.913 300.275 L127.913 295.576 Q129.996 296.711 132.219 297.266 Q134.441 297.822 136.918 297.822 Q140.922 297.822 143.26 295.715 Q145.598 293.609 145.598 289.998 Q145.598 286.386 143.26 284.28 Q140.922 282.174 136.918 282.174 Q135.043 282.174 133.168 282.59 Q131.316 283.007 129.371 283.887 L129.371 266.525 Z\" fill=\"#000000\" fill-rule=\"evenodd\" fill-opacity=\"1\" /><path clip-path=\"url(#clip040)\" d=\"M191.063 12.096 L199.246 12.096 L199.246 65.6895 L228.696 65.6895 L228.696 72.576 L191.063 72.576 L191.063 12.096 Z\" fill=\"#000000\" fill-rule=\"evenodd\" fill-opacity=\"1\" /><path clip-path=\"url(#clip040)\" d=\"M253.082 32.4315 Q247.087 32.4315 243.603 37.1306 Q240.119 41.7891 240.119 49.9314 Q240.119 58.0738 243.563 62.7728 Q247.046 67.4314 253.082 67.4314 Q259.037 67.4314 262.521 62.7323 Q266.005 58.0333 266.005 49.9314 Q266.005 41.8701 262.521 37.1711 Q259.037 32.4315 253.082 32.4315 M253.082 26.1121 Q262.804 26.1121 268.354 32.4315 Q273.904 38.7509 273.904 49.9314 Q273.904 61.0714 268.354 67.4314 Q262.804 73.7508 253.082 73.7508 Q243.32 73.7508 237.77 67.4314 Q232.261 61.0714 232.261 49.9314 Q232.261 38.7509 237.77 32.4315 Q243.32 26.1121 253.082 26.1121 Z\" fill=\"#000000\" fill-rule=\"evenodd\" fill-opacity=\"1\" /><path clip-path=\"url(#clip040)\" d=\"M315.183 28.5427 L315.183 35.5912 Q312.023 33.9709 308.62 33.1607 Q305.217 32.3505 301.572 32.3505 Q296.022 32.3505 293.227 34.0519 Q290.472 35.7533 290.472 39.156 Q290.472 41.7486 292.457 43.2475 Q294.442 44.7058 300.437 46.0426 L302.989 46.6097 Q310.929 48.3111 314.251 51.4303 Q317.613 54.509 317.613 60.0587 Q317.613 66.3781 312.59 70.0644 Q307.607 73.7508 298.858 73.7508 Q295.212 73.7508 291.242 73.0216 Q287.312 72.3329 282.937 70.9151 L282.937 63.2184 Q287.069 65.3654 291.08 66.4591 Q295.09 67.5124 299.02 67.5124 Q304.286 67.5124 307.121 65.73 Q309.957 63.9071 309.957 60.6258 Q309.957 57.5877 307.891 55.9673 Q305.866 54.3469 298.939 52.8481 L296.346 52.2405 Q289.419 50.7821 286.34 47.7845 Q283.262 44.7463 283.262 39.4801 Q283.262 33.0797 287.799 29.5959 Q292.336 26.1121 300.68 26.1121 Q304.812 26.1121 308.458 26.7198 Q312.104 27.3274 315.183 28.5427 Z\" fill=\"#000000\" fill-rule=\"evenodd\" fill-opacity=\"1\" /><path clip-path=\"url(#clip040)\" d=\"M358.406 28.5427 L358.406 35.5912 Q355.246 33.9709 351.843 33.1607 Q348.441 32.3505 344.795 32.3505 Q339.245 32.3505 336.45 34.0519 Q333.695 35.7533 333.695 39.156 Q333.695 41.7486 335.68 43.2475 Q337.665 44.7058 343.661 46.0426 L346.213 46.6097 Q354.152 48.3111 357.474 51.4303 Q360.836 54.509 360.836 60.0587 Q360.836 66.3781 355.813 70.0644 Q350.831 73.7508 342.081 73.7508 Q338.435 73.7508 334.465 73.0216 Q330.536 72.3329 326.161 70.9151 L326.161 63.2184 Q330.293 65.3654 334.303 66.4591 Q338.313 67.5124 342.243 67.5124 Q347.509 67.5124 350.345 65.73 Q353.18 63.9071 353.18 60.6258 Q353.18 57.5877 351.114 55.9673 Q349.089 54.3469 342.162 52.8481 L339.569 52.2405 Q332.642 50.7821 329.563 47.7845 Q326.485 44.7463 326.485 39.4801 Q326.485 33.0797 331.022 29.5959 Q335.559 26.1121 343.904 26.1121 Q348.036 26.1121 351.681 26.7198 Q355.327 27.3274 358.406 28.5427 Z\" fill=\"#000000\" fill-rule=\"evenodd\" fill-opacity=\"1\" /><path clip-path=\"url(#clip040)\" d=\"M422.046 9.54393 L422.046 15.7418 L414.916 15.7418 Q410.906 15.7418 409.326 17.3622 Q407.786 18.9825 407.786 23.1955 L407.786 27.2059 L420.061 27.2059 L420.061 32.9987 L407.786 32.9987 L407.786 72.576 L400.292 72.576 L400.292 32.9987 L393.163 32.9987 L393.163 27.2059 L400.292 27.2059 L400.292 24.0462 Q400.292 16.471 403.816 13.0277 Q407.341 9.54393 414.997 9.54393 L422.046 9.54393 Z\" fill=\"#000000\" fill-rule=\"evenodd\" fill-opacity=\"1\" /><path clip-path=\"url(#clip040)\" d=\"M445.865 32.4315 Q439.87 32.4315 436.386 37.1306 Q432.902 41.7891 432.902 49.9314 Q432.902 58.0738 436.345 62.7728 Q439.829 67.4314 445.865 67.4314 Q451.82 67.4314 455.303 62.7323 Q458.787 58.0333 458.787 49.9314 Q458.787 41.8701 455.303 37.1711 Q451.82 32.4315 445.865 32.4315 M445.865 26.1121 Q455.587 26.1121 461.137 32.4315 Q466.687 38.7509 466.687 49.9314 Q466.687 61.0714 461.137 67.4314 Q455.587 73.7508 445.865 73.7508 Q436.102 73.7508 430.552 67.4314 Q425.043 61.0714 425.043 49.9314 Q425.043 38.7509 430.552 32.4315 Q436.102 26.1121 445.865 26.1121 Z\" fill=\"#000000\" fill-rule=\"evenodd\" fill-opacity=\"1\" /><path clip-path=\"url(#clip040)\" d=\"M505.332 34.1734 Q504.076 33.4443 502.578 33.1202 Q501.119 32.7556 499.337 32.7556 Q493.017 32.7556 489.615 36.8875 Q486.252 40.9789 486.252 48.6757 L486.252 72.576 L478.758 72.576 L478.758 27.2059 L486.252 27.2059 L486.252 34.2544 Q488.602 30.1225 492.369 28.1376 Q496.137 26.1121 501.524 26.1121 Q502.294 26.1121 503.226 26.2337 Q504.157 26.3147 505.292 26.5172 L505.332 34.1734 Z\" fill=\"#000000\" fill-rule=\"evenodd\" fill-opacity=\"1\" /><path clip-path=\"url(#clip040)\" d=\"M578.329 48.0275 L578.329 51.6733 L544.059 51.6733 Q544.545 59.3701 548.677 63.421 Q552.849 67.4314 560.262 67.4314 Q564.556 67.4314 568.567 66.3781 Q572.618 65.3249 576.588 63.2184 L576.588 70.267 Q572.577 71.9684 568.364 72.8596 Q564.151 73.7508 559.817 73.7508 Q548.96 73.7508 542.6 67.4314 Q536.281 61.1119 536.281 50.3365 Q536.281 39.1965 542.276 32.6746 Q548.312 26.1121 558.52 26.1121 Q567.676 26.1121 572.982 32.0264 Q578.329 37.9003 578.329 48.0275 M570.876 45.84 Q570.795 39.7232 567.432 36.0774 Q564.111 32.4315 558.602 32.4315 Q552.363 32.4315 548.596 35.9558 Q544.869 39.4801 544.302 45.8805 L570.876 45.84 Z\" fill=\"#000000\" fill-rule=\"evenodd\" fill-opacity=\"1\" /><path clip-path=\"url(#clip040)\" d=\"M611.182 49.7694 Q602.149 49.7694 598.665 51.8354 Q595.181 53.9013 595.181 58.8839 Q595.181 62.8538 597.774 65.2034 Q600.407 67.5124 604.903 67.5124 Q611.101 67.5124 614.828 63.1374 Q618.595 58.7219 618.595 51.4303 L618.595 49.7694 L611.182 49.7694 M626.049 46.6907 L626.049 72.576 L618.595 72.576 L618.595 65.6895 Q616.043 69.8214 612.235 71.8063 Q608.428 73.7508 602.918 73.7508 Q595.951 73.7508 591.819 69.8619 Q587.728 65.9325 587.728 59.3701 Q587.728 51.7138 592.832 47.825 Q597.976 43.9361 608.144 43.9361 L618.595 43.9361 L618.595 43.2069 Q618.595 38.0623 615.193 35.2672 Q611.83 32.4315 605.714 32.4315 Q601.825 32.4315 598.138 33.3632 Q594.452 34.295 591.049 36.1584 L591.049 29.2718 Q595.141 27.692 598.989 26.9223 Q602.837 26.1121 606.483 26.1121 Q616.327 26.1121 621.188 31.2163 Q626.049 36.3204 626.049 46.6907 Z\" fill=\"#000000\" fill-rule=\"evenodd\" fill-opacity=\"1\" /><path clip-path=\"url(#clip040)\" d=\"M674.052 28.9478 L674.052 35.9153 Q670.893 34.1734 667.692 33.3227 Q664.533 32.4315 661.292 32.4315 Q654.041 32.4315 650.03 37.0496 Q646.02 41.6271 646.02 49.9314 Q646.02 58.2358 650.03 62.8538 Q654.041 67.4314 661.292 67.4314 Q664.533 67.4314 667.692 66.5807 Q670.893 65.6895 674.052 63.9476 L674.052 70.8341 Q670.933 72.2924 667.571 73.0216 Q664.249 73.7508 660.482 73.7508 Q650.233 73.7508 644.197 67.3098 Q638.161 60.8689 638.161 49.9314 Q638.161 38.832 644.238 32.472 Q650.354 26.1121 660.968 26.1121 Q664.411 26.1121 667.692 26.8413 Q670.974 27.5299 674.052 28.9478 Z\" fill=\"#000000\" fill-rule=\"evenodd\" fill-opacity=\"1\" /><path clip-path=\"url(#clip040)\" d=\"M724.729 45.1919 L724.729 72.576 L717.275 72.576 L717.275 45.4349 Q717.275 38.994 714.764 35.7938 Q712.252 32.5936 707.229 32.5936 Q701.193 32.5936 697.71 36.4419 Q694.226 40.2903 694.226 46.9338 L694.226 72.576 L686.732 72.576 L686.732 9.54393 L694.226 9.54393 L694.226 34.2544 Q696.899 30.163 700.505 28.1376 Q704.151 26.1121 708.89 26.1121 Q716.708 26.1121 720.719 30.9732 Q724.729 35.7938 724.729 45.1919 Z\" fill=\"#000000\" fill-rule=\"evenodd\" fill-opacity=\"1\" /><path clip-path=\"url(#clip040)\" d=\"M765.967 27.2059 L773.421 27.2059 L773.421 72.576 L765.967 72.576 L765.967 27.2059 M765.967 9.54393 L773.421 9.54393 L773.421 18.9825 L765.967 18.9825 L765.967 9.54393 Z\" fill=\"#000000\" fill-rule=\"evenodd\" fill-opacity=\"1\" /><path clip-path=\"url(#clip040)\" d=\"M826.731 45.1919 L826.731 72.576 L819.277 72.576 L819.277 45.4349 Q819.277 38.994 816.766 35.7938 Q814.254 32.5936 809.231 32.5936 Q803.195 32.5936 799.711 36.4419 Q796.228 40.2903 796.228 46.9338 L796.228 72.576 L788.733 72.576 L788.733 27.2059 L796.228 27.2059 L796.228 34.2544 Q798.901 30.163 802.506 28.1376 Q806.152 26.1121 810.892 26.1121 Q818.71 26.1121 822.72 30.9732 Q826.731 35.7938 826.731 45.1919 Z\" fill=\"#000000\" fill-rule=\"evenodd\" fill-opacity=\"1\" /><path clip-path=\"url(#clip040)\" d=\"M871.453 34.0924 L871.453 9.54393 L878.907 9.54393 L878.907 72.576 L871.453 72.576 L871.453 65.7705 Q869.103 69.8214 865.498 71.8063 Q861.933 73.7508 856.91 73.7508 Q848.687 73.7508 843.502 67.1883 Q838.357 60.6258 838.357 49.9314 Q838.357 39.2371 843.502 32.6746 Q848.687 26.1121 856.91 26.1121 Q861.933 26.1121 865.498 28.0971 Q869.103 30.0415 871.453 34.0924 M846.054 49.9314 Q846.054 58.1548 849.416 62.8538 Q852.819 67.5124 858.733 67.5124 Q864.647 67.5124 868.05 62.8538 Q871.453 58.1548 871.453 49.9314 Q871.453 41.7081 868.05 37.0496 Q864.647 32.3505 858.733 32.3505 Q852.819 32.3505 849.416 37.0496 Q846.054 41.7081 846.054 49.9314 Z\" fill=\"#000000\" fill-rule=\"evenodd\" fill-opacity=\"1\" /><path clip-path=\"url(#clip040)\" d=\"M894.259 27.2059 L901.713 27.2059 L901.713 72.576 L894.259 72.576 L894.259 27.2059 M894.259 9.54393 L901.713 9.54393 L901.713 18.9825 L894.259 18.9825 L894.259 9.54393 Z\" fill=\"#000000\" fill-rule=\"evenodd\" fill-opacity=\"1\" /><path clip-path=\"url(#clip040)\" d=\"M911.962 27.2059 L919.861 27.2059 L934.039 65.2844 L948.217 27.2059 L956.117 27.2059 L939.103 72.576 L928.976 72.576 L911.962 27.2059 Z\" fill=\"#000000\" fill-rule=\"evenodd\" fill-opacity=\"1\" /><path clip-path=\"url(#clip040)\" d=\"M966.406 27.2059 L973.86 27.2059 L973.86 72.576 L966.406 72.576 L966.406 27.2059 M966.406 9.54393 L973.86 9.54393 L973.86 18.9825 L966.406 18.9825 L966.406 9.54393 Z\" fill=\"#000000\" fill-rule=\"evenodd\" fill-opacity=\"1\" /><path clip-path=\"url(#clip040)\" d=\"M1019.31 34.0924 L1019.31 9.54393 L1026.76 9.54393 L1026.76 72.576 L1019.31 72.576 L1019.31 65.7705 Q1016.96 69.8214 1013.36 71.8063 Q1009.79 73.7508 1004.77 73.7508 Q996.545 73.7508 991.36 67.1883 Q986.215 60.6258 986.215 49.9314 Q986.215 39.2371 991.36 32.6746 Q996.545 26.1121 1004.77 26.1121 Q1009.79 26.1121 1013.36 28.0971 Q1016.96 30.0415 1019.31 34.0924 M993.912 49.9314 Q993.912 58.1548 997.274 62.8538 Q1000.68 67.5124 1006.59 67.5124 Q1012.51 67.5124 1015.91 62.8538 Q1019.31 58.1548 1019.31 49.9314 Q1019.31 41.7081 1015.91 37.0496 Q1012.51 32.3505 1006.59 32.3505 Q1000.68 32.3505 997.274 37.0496 Q993.912 41.7081 993.912 49.9314 Z\" fill=\"#000000\" fill-rule=\"evenodd\" fill-opacity=\"1\" /><path clip-path=\"url(#clip040)\" d=\"M1041.35 54.671 L1041.35 27.2059 L1048.8 27.2059 L1048.8 54.3874 Q1048.8 60.8284 1051.31 64.0691 Q1053.82 67.2693 1058.85 67.2693 Q1064.88 67.2693 1068.37 63.421 Q1071.89 59.5726 1071.89 52.9291 L1071.89 27.2059 L1079.35 27.2059 L1079.35 72.576 L1071.89 72.576 L1071.89 65.6084 Q1069.18 69.7404 1065.57 71.7658 Q1062.01 73.7508 1057.27 73.7508 Q1049.45 73.7508 1045.4 68.8897 Q1041.35 64.0286 1041.35 54.671 M1060.1 26.1121 L1060.1 26.1121 Z\" fill=\"#000000\" fill-rule=\"evenodd\" fill-opacity=\"1\" /><path clip-path=\"url(#clip040)\" d=\"M1115.32 49.7694 Q1106.28 49.7694 1102.8 51.8354 Q1099.32 53.9013 1099.32 58.8839 Q1099.32 62.8538 1101.91 65.2034 Q1104.54 67.5124 1109.04 67.5124 Q1115.24 67.5124 1118.96 63.1374 Q1122.73 58.7219 1122.73 51.4303 L1122.73 49.7694 L1115.32 49.7694 M1130.18 46.6907 L1130.18 72.576 L1122.73 72.576 L1122.73 65.6895 Q1120.18 69.8214 1116.37 71.8063 Q1112.56 73.7508 1107.05 73.7508 Q1100.09 73.7508 1095.95 69.8619 Q1091.86 65.9325 1091.86 59.3701 Q1091.86 51.7138 1096.97 47.825 Q1102.11 43.9361 1112.28 43.9361 L1122.73 43.9361 L1122.73 43.2069 Q1122.73 38.0623 1119.33 35.2672 Q1115.97 32.4315 1109.85 32.4315 Q1105.96 32.4315 1102.27 33.3632 Q1098.59 34.295 1095.18 36.1584 L1095.18 29.2718 Q1099.28 27.692 1103.12 26.9223 Q1106.97 26.1121 1110.62 26.1121 Q1120.46 26.1121 1125.32 31.2163 Q1130.18 36.3204 1130.18 46.6907 Z\" fill=\"#000000\" fill-rule=\"evenodd\" fill-opacity=\"1\" /><path clip-path=\"url(#clip040)\" d=\"M1145.54 9.54393 L1152.99 9.54393 L1152.99 72.576 L1145.54 72.576 L1145.54 9.54393 Z\" fill=\"#000000\" fill-rule=\"evenodd\" fill-opacity=\"1\" /><path clip-path=\"url(#clip040)\" d=\"M1221.25 34.1734 Q1219.99 33.4443 1218.49 33.1202 Q1217.04 32.7556 1215.25 32.7556 Q1208.93 32.7556 1205.53 36.8875 Q1202.17 40.9789 1202.17 48.6757 L1202.17 72.576 L1194.67 72.576 L1194.67 27.2059 L1202.17 27.2059 L1202.17 34.2544 Q1204.52 30.1225 1208.29 28.1376 Q1212.05 26.1121 1217.44 26.1121 Q1218.21 26.1121 1219.14 26.2337 Q1220.07 26.3147 1221.21 26.5172 L1221.25 34.1734 Z\" fill=\"#000000\" fill-rule=\"evenodd\" fill-opacity=\"1\" /><path clip-path=\"url(#clip040)\" d=\"M1249.69 49.7694 Q1240.65 49.7694 1237.17 51.8354 Q1233.68 53.9013 1233.68 58.8839 Q1233.68 62.8538 1236.28 65.2034 Q1238.91 67.5124 1243.41 67.5124 Q1249.6 67.5124 1253.33 63.1374 Q1257.1 58.7219 1257.1 51.4303 L1257.1 49.7694 L1249.69 49.7694 M1264.55 46.6907 L1264.55 72.576 L1257.1 72.576 L1257.1 65.6895 Q1254.55 69.8214 1250.74 71.8063 Q1246.93 73.7508 1241.42 73.7508 Q1234.45 73.7508 1230.32 69.8619 Q1226.23 65.9325 1226.23 59.3701 Q1226.23 51.7138 1231.34 47.825 Q1236.48 43.9361 1246.65 43.9361 L1257.1 43.9361 L1257.1 43.2069 Q1257.1 38.0623 1253.7 35.2672 Q1250.33 32.4315 1244.22 32.4315 Q1240.33 32.4315 1236.64 33.3632 Q1232.96 34.295 1229.55 36.1584 L1229.55 29.2718 Q1233.64 27.692 1237.49 26.9223 Q1241.34 26.1121 1244.99 26.1121 Q1254.83 26.1121 1259.69 31.2163 Q1264.55 36.3204 1264.55 46.6907 Z\" fill=\"#000000\" fill-rule=\"evenodd\" fill-opacity=\"1\" /><path clip-path=\"url(#clip040)\" d=\"M1317.62 45.1919 L1317.62 72.576 L1310.17 72.576 L1310.17 45.4349 Q1310.17 38.994 1307.65 35.7938 Q1305.14 32.5936 1300.12 32.5936 Q1294.08 32.5936 1290.6 36.4419 Q1287.12 40.2903 1287.12 46.9338 L1287.12 72.576 L1279.62 72.576 L1279.62 27.2059 L1287.12 27.2059 L1287.12 34.2544 Q1289.79 30.163 1293.4 28.1376 Q1297.04 26.1121 1301.78 26.1121 Q1309.6 26.1121 1313.61 30.9732 Q1317.62 35.7938 1317.62 45.1919 Z\" fill=\"#000000\" fill-rule=\"evenodd\" fill-opacity=\"1\" /><path clip-path=\"url(#clip040)\" d=\"M1332.2 9.54393 L1339.7 9.54393 L1339.7 46.7717 L1361.94 27.2059 L1371.46 27.2059 L1347.39 48.4326 L1372.47 72.576 L1362.75 72.576 L1339.7 50.4176 L1339.7 72.576 L1332.2 72.576 L1332.2 9.54393 Z\" fill=\"#000000\" fill-rule=\"evenodd\" fill-opacity=\"1\" /><path clip-path=\"url(#clip040)\" d=\"M1429.87 9.54393 L1429.87 15.7418 L1422.74 15.7418 Q1418.73 15.7418 1417.15 17.3622 Q1415.61 18.9825 1415.61 23.1955 L1415.61 27.2059 L1427.89 27.2059 L1427.89 32.9987 L1415.61 32.9987 L1415.61 72.576 L1408.12 72.576 L1408.12 32.9987 L1400.99 32.9987 L1400.99 27.2059 L1408.12 27.2059 L1408.12 24.0462 Q1408.12 16.471 1411.64 13.0277 Q1415.17 9.54393 1422.82 9.54393 L1429.87 9.54393 Z\" fill=\"#000000\" fill-rule=\"evenodd\" fill-opacity=\"1\" /><path clip-path=\"url(#clip040)\" d=\"M1462.4 34.1734 Q1461.14 33.4443 1459.64 33.1202 Q1458.19 32.7556 1456.4 32.7556 Q1450.08 32.7556 1446.68 36.8875 Q1443.32 40.9789 1443.32 48.6757 L1443.32 72.576 L1435.82 72.576 L1435.82 27.2059 L1443.32 27.2059 L1443.32 34.2544 Q1445.67 30.1225 1449.44 28.1376 Q1453.2 26.1121 1458.59 26.1121 Q1459.36 26.1121 1460.29 26.2337 Q1461.22 26.3147 1462.36 26.5172 L1462.4 34.1734 Z\" fill=\"#000000\" fill-rule=\"evenodd\" fill-opacity=\"1\" /><path clip-path=\"url(#clip040)\" d=\"M1485.98 32.4315 Q1479.98 32.4315 1476.5 37.1306 Q1473.01 41.7891 1473.01 49.9314 Q1473.01 58.0738 1476.46 62.7728 Q1479.94 67.4314 1485.98 67.4314 Q1491.93 67.4314 1495.41 62.7323 Q1498.9 58.0333 1498.9 49.9314 Q1498.9 41.8701 1495.41 37.1711 Q1491.93 32.4315 1485.98 32.4315 M1485.98 26.1121 Q1495.7 26.1121 1501.25 32.4315 Q1506.8 38.7509 1506.8 49.9314 Q1506.8 61.0714 1501.25 67.4314 Q1495.7 73.7508 1485.98 73.7508 Q1476.21 73.7508 1470.66 67.4314 Q1465.15 61.0714 1465.15 49.9314 Q1465.15 38.7509 1470.66 32.4315 Q1476.21 26.1121 1485.98 26.1121 Z\" fill=\"#000000\" fill-rule=\"evenodd\" fill-opacity=\"1\" /><path clip-path=\"url(#clip040)\" d=\"M1554.48 35.9153 Q1557.27 30.8922 1561.16 28.5022 Q1565.05 26.1121 1570.31 26.1121 Q1577.4 26.1121 1581.25 31.0947 Q1585.1 36.0368 1585.1 45.1919 L1585.1 72.576 L1577.61 72.576 L1577.61 45.4349 Q1577.61 38.913 1575.3 35.7533 Q1572.99 32.5936 1568.25 32.5936 Q1562.46 32.5936 1559.09 36.4419 Q1555.73 40.2903 1555.73 46.9338 L1555.73 72.576 L1548.24 72.576 L1548.24 45.4349 Q1548.24 38.8725 1545.93 35.7533 Q1543.62 32.5936 1538.8 32.5936 Q1533.09 32.5936 1529.72 36.4824 Q1526.36 40.3308 1526.36 46.9338 L1526.36 72.576 L1518.87 72.576 L1518.87 27.2059 L1526.36 27.2059 L1526.36 34.2544 Q1528.91 30.082 1532.48 28.0971 Q1536.04 26.1121 1540.95 26.1121 Q1545.89 26.1121 1549.33 28.6237 Q1552.81 31.1352 1554.48 35.9153 Z\" fill=\"#000000\" fill-rule=\"evenodd\" fill-opacity=\"1\" /><path clip-path=\"url(#clip040)\" d=\"M1633.55 65.7705 L1633.55 89.8329 L1626.06 89.8329 L1626.06 27.2059 L1633.55 27.2059 L1633.55 34.0924 Q1635.9 30.0415 1639.46 28.0971 Q1643.07 26.1121 1648.05 26.1121 Q1656.32 26.1121 1661.46 32.6746 Q1666.65 39.2371 1666.65 49.9314 Q1666.65 60.6258 1661.46 67.1883 Q1656.32 73.7508 1648.05 73.7508 Q1643.07 73.7508 1639.46 71.8063 Q1635.9 69.8214 1633.55 65.7705 M1658.91 49.9314 Q1658.91 41.7081 1655.51 37.0496 Q1652.14 32.3505 1646.23 32.3505 Q1640.31 32.3505 1636.91 37.0496 Q1633.55 41.7081 1633.55 49.9314 Q1633.55 58.1548 1636.91 62.8538 Q1640.31 67.5124 1646.23 67.5124 Q1652.14 67.5124 1655.51 62.8538 Q1658.91 58.1548 1658.91 49.9314 Z\" fill=\"#000000\" fill-rule=\"evenodd\" fill-opacity=\"1\" /><path clip-path=\"url(#clip040)\" d=\"M1696.58 32.4315 Q1690.59 32.4315 1687.1 37.1306 Q1683.62 41.7891 1683.62 49.9314 Q1683.62 58.0738 1687.06 62.7728 Q1690.55 67.4314 1696.58 67.4314 Q1702.54 67.4314 1706.02 62.7323 Q1709.5 58.0333 1709.5 49.9314 Q1709.5 41.8701 1706.02 37.1711 Q1702.54 32.4315 1696.58 32.4315 M1696.58 26.1121 Q1706.3 26.1121 1711.85 32.4315 Q1717.4 38.7509 1717.4 49.9314 Q1717.4 61.0714 1711.85 67.4314 Q1706.3 73.7508 1696.58 73.7508 Q1686.82 73.7508 1681.27 67.4314 Q1675.76 61.0714 1675.76 49.9314 Q1675.76 38.7509 1681.27 32.4315 Q1686.82 26.1121 1696.58 26.1121 Z\" fill=\"#000000\" fill-rule=\"evenodd\" fill-opacity=\"1\" /><path clip-path=\"url(#clip040)\" d=\"M1747.34 32.4315 Q1741.34 32.4315 1737.86 37.1306 Q1734.38 41.7891 1734.38 49.9314 Q1734.38 58.0738 1737.82 62.7728 Q1741.3 67.4314 1747.34 67.4314 Q1753.29 67.4314 1756.78 62.7323 Q1760.26 58.0333 1760.26 49.9314 Q1760.26 41.8701 1756.78 37.1711 Q1753.29 32.4315 1747.34 32.4315 M1747.34 26.1121 Q1757.06 26.1121 1762.61 32.4315 Q1768.16 38.7509 1768.16 49.9314 Q1768.16 61.0714 1762.61 67.4314 Q1757.06 73.7508 1747.34 73.7508 Q1737.58 73.7508 1732.03 67.4314 Q1726.52 61.0714 1726.52 49.9314 Q1726.52 38.7509 1732.03 32.4315 Q1737.58 26.1121 1747.34 26.1121 Z\" fill=\"#000000\" fill-rule=\"evenodd\" fill-opacity=\"1\" /><path clip-path=\"url(#clip040)\" d=\"M1806.81 34.1734 Q1805.55 33.4443 1804.05 33.1202 Q1802.59 32.7556 1800.81 32.7556 Q1794.49 32.7556 1791.09 36.8875 Q1787.73 40.9789 1787.73 48.6757 L1787.73 72.576 L1780.23 72.576 L1780.23 27.2059 L1787.73 27.2059 L1787.73 34.2544 Q1790.08 30.1225 1793.84 28.1376 Q1797.61 26.1121 1803 26.1121 Q1803.77 26.1121 1804.7 26.2337 Q1805.63 26.3147 1806.77 26.5172 L1806.81 34.1734 Z\" fill=\"#000000\" fill-rule=\"evenodd\" fill-opacity=\"1\" /><path clip-path=\"url(#clip040)\" d=\"M1851.61 48.0275 L1851.61 51.6733 L1817.34 51.6733 Q1817.83 59.3701 1821.96 63.421 Q1826.13 67.4314 1833.54 67.4314 Q1837.84 67.4314 1841.85 66.3781 Q1845.9 65.3249 1849.87 63.2184 L1849.87 70.267 Q1845.86 71.9684 1841.64 72.8596 Q1837.43 73.7508 1833.1 73.7508 Q1822.24 73.7508 1815.88 67.4314 Q1809.56 61.1119 1809.56 50.3365 Q1809.56 39.1965 1815.56 32.6746 Q1821.59 26.1121 1831.8 26.1121 Q1840.96 26.1121 1846.26 32.0264 Q1851.61 37.9003 1851.61 48.0275 M1844.16 45.84 Q1844.07 39.7232 1840.71 36.0774 Q1837.39 32.4315 1831.88 32.4315 Q1825.64 32.4315 1821.88 35.9558 Q1818.15 39.4801 1817.58 45.8805 L1844.16 45.84 Z\" fill=\"#000000\" fill-rule=\"evenodd\" fill-opacity=\"1\" /><path clip-path=\"url(#clip040)\" d=\"M1892.77 28.5427 L1892.77 35.5912 Q1889.61 33.9709 1886.2 33.1607 Q1882.8 32.3505 1879.16 32.3505 Q1873.61 32.3505 1870.81 34.0519 Q1868.06 35.7533 1868.06 39.156 Q1868.06 41.7486 1870.04 43.2475 Q1872.03 44.7058 1878.02 46.0426 L1880.57 46.6097 Q1888.51 48.3111 1891.84 51.4303 Q1895.2 54.509 1895.2 60.0587 Q1895.2 66.3781 1890.17 70.0644 Q1885.19 73.7508 1876.44 73.7508 Q1872.8 73.7508 1868.83 73.0216 Q1864.9 72.3329 1860.52 70.9151 L1860.52 63.2184 Q1864.65 65.3654 1868.66 66.4591 Q1872.67 67.5124 1876.6 67.5124 Q1881.87 67.5124 1884.71 65.73 Q1887.54 63.9071 1887.54 60.6258 Q1887.54 57.5877 1885.48 55.9673 Q1883.45 54.3469 1876.52 52.8481 L1873.93 52.2405 Q1867 50.7821 1863.92 47.7845 Q1860.85 44.7463 1860.85 39.4801 Q1860.85 33.0797 1865.38 29.5959 Q1869.92 26.1121 1878.26 26.1121 Q1882.4 26.1121 1886.04 26.7198 Q1889.69 27.3274 1892.77 28.5427 Z\" fill=\"#000000\" fill-rule=\"evenodd\" fill-opacity=\"1\" /><path clip-path=\"url(#clip040)\" d=\"M1914.44 14.324 L1914.44 27.2059 L1929.79 27.2059 L1929.79 32.9987 L1914.44 32.9987 L1914.44 57.6282 Q1914.44 63.1779 1915.94 64.7578 Q1917.48 66.3376 1922.14 66.3376 L1929.79 66.3376 L1929.79 72.576 L1922.14 72.576 Q1913.51 72.576 1910.23 69.3758 Q1906.94 66.1351 1906.94 57.6282 L1906.94 32.9987 L1901.48 32.9987 L1901.48 27.2059 L1906.94 27.2059 L1906.94 14.324 L1914.44 14.324 Z\" fill=\"#000000\" fill-rule=\"evenodd\" fill-opacity=\"1\" /><path clip-path=\"url(#clip040)\" d=\"M1973.34 14.324 L1973.34 27.2059 L1988.69 27.2059 L1988.69 32.9987 L1973.34 32.9987 L1973.34 57.6282 Q1973.34 63.1779 1974.84 64.7578 Q1976.38 66.3376 1981.04 66.3376 L1988.69 66.3376 L1988.69 72.576 L1981.04 72.576 Q1972.41 72.576 1969.13 69.3758 Q1965.85 66.1351 1965.85 57.6282 L1965.85 32.9987 L1960.38 32.9987 L1960.38 27.2059 L1965.85 27.2059 L1965.85 14.324 L1973.34 14.324 Z\" fill=\"#000000\" fill-rule=\"evenodd\" fill-opacity=\"1\" /><path clip-path=\"url(#clip040)\" d=\"M2016.08 32.4315 Q2010.08 32.4315 2006.6 37.1306 Q2003.11 41.7891 2003.11 49.9314 Q2003.11 58.0738 2006.56 62.7728 Q2010.04 67.4314 2016.08 67.4314 Q2022.03 67.4314 2025.51 62.7323 Q2029 58.0333 2029 49.9314 Q2029 41.8701 2025.51 37.1711 Q2022.03 32.4315 2016.08 32.4315 M2016.08 26.1121 Q2025.8 26.1121 2031.35 32.4315 Q2036.9 38.7509 2036.9 49.9314 Q2036.9 61.0714 2031.35 67.4314 Q2025.8 73.7508 2016.08 73.7508 Q2006.31 73.7508 2000.76 67.4314 Q1995.25 61.0714 1995.25 49.9314 Q1995.25 38.7509 2000.76 32.4315 Q2006.31 26.1121 2016.08 26.1121 Z\" fill=\"#000000\" fill-rule=\"evenodd\" fill-opacity=\"1\" /><path clip-path=\"url(#clip040)\" d=\"M2101.92 34.1734 Q2100.66 33.4443 2099.16 33.1202 Q2097.7 32.7556 2095.92 32.7556 Q2089.6 32.7556 2086.2 36.8875 Q2082.84 40.9789 2082.84 48.6757 L2082.84 72.576 L2075.34 72.576 L2075.34 27.2059 L2082.84 27.2059 L2082.84 34.2544 Q2085.18 30.1225 2088.95 28.1376 Q2092.72 26.1121 2098.11 26.1121 Q2098.88 26.1121 2099.81 26.2337 Q2100.74 26.3147 2101.87 26.5172 L2101.92 34.1734 Z\" fill=\"#000000\" fill-rule=\"evenodd\" fill-opacity=\"1\" /><path clip-path=\"url(#clip040)\" d=\"M2109.73 27.2059 L2117.19 27.2059 L2117.19 72.576 L2109.73 72.576 L2109.73 27.2059 M2109.73 9.54393 L2117.19 9.54393 L2117.19 18.9825 L2109.73 18.9825 L2109.73 9.54393 Z\" fill=\"#000000\" fill-rule=\"evenodd\" fill-opacity=\"1\" /><path clip-path=\"url(#clip040)\" d=\"M2165.43 28.9478 L2165.43 35.9153 Q2162.27 34.1734 2159.07 33.3227 Q2155.91 32.4315 2152.67 32.4315 Q2145.42 32.4315 2141.41 37.0496 Q2137.4 41.6271 2137.4 49.9314 Q2137.4 58.2358 2141.41 62.8538 Q2145.42 67.4314 2152.67 67.4314 Q2155.91 67.4314 2159.07 66.5807 Q2162.27 65.6895 2165.43 63.9476 L2165.43 70.8341 Q2162.31 72.2924 2158.95 73.0216 Q2155.63 73.7508 2151.86 73.7508 Q2141.61 73.7508 2135.58 67.3098 Q2129.54 60.8689 2129.54 49.9314 Q2129.54 38.832 2135.62 32.472 Q2141.74 26.1121 2152.35 26.1121 Q2155.79 26.1121 2159.07 26.8413 Q2162.35 27.5299 2165.43 28.9478 Z\" fill=\"#000000\" fill-rule=\"evenodd\" fill-opacity=\"1\" /><path clip-path=\"url(#clip040)\" d=\"M2216.11 45.1919 L2216.11 72.576 L2208.66 72.576 L2208.66 45.4349 Q2208.66 38.994 2206.14 35.7938 Q2203.63 32.5936 2198.61 32.5936 Q2192.57 32.5936 2189.09 36.4419 Q2185.61 40.2903 2185.61 46.9338 L2185.61 72.576 L2178.11 72.576 L2178.11 9.54393 L2185.61 9.54393 L2185.61 34.2544 Q2188.28 30.163 2191.89 28.1376 Q2195.53 26.1121 2200.27 26.1121 Q2208.09 26.1121 2212.1 30.9732 Q2216.11 35.7938 2216.11 45.1919 Z\" fill=\"#000000\" fill-rule=\"evenodd\" fill-opacity=\"1\" /><path clip-path=\"url(#clip040)\" d=\"M2269.78 48.0275 L2269.78 51.6733 L2235.51 51.6733 Q2236 59.3701 2240.13 63.421 Q2244.3 67.4314 2251.72 67.4314 Q2256.01 67.4314 2260.02 66.3781 Q2264.07 65.3249 2268.04 63.2184 L2268.04 70.267 Q2264.03 71.9684 2259.82 72.8596 Q2255.61 73.7508 2251.27 73.7508 Q2240.42 73.7508 2234.06 67.4314 Q2227.74 61.1119 2227.74 50.3365 Q2227.74 39.1965 2233.73 32.6746 Q2239.77 26.1121 2249.98 26.1121 Q2259.13 26.1121 2264.44 32.0264 Q2269.78 37.9003 2269.78 48.0275 M2262.33 45.84 Q2262.25 39.7232 2258.89 36.0774 Q2255.57 32.4315 2250.06 32.4315 Q2243.82 32.4315 2240.05 35.9558 Q2236.32 39.4801 2235.76 45.8805 L2262.33 45.84 Z\" fill=\"#000000\" fill-rule=\"evenodd\" fill-opacity=\"1\" /><path clip-path=\"url(#clip040)\" d=\"M2310.94 28.5427 L2310.94 35.5912 Q2307.78 33.9709 2304.38 33.1607 Q2300.98 32.3505 2297.33 32.3505 Q2291.78 32.3505 2288.99 34.0519 Q2286.23 35.7533 2286.23 39.156 Q2286.23 41.7486 2288.22 43.2475 Q2290.2 44.7058 2296.2 46.0426 L2298.75 46.6097 Q2306.69 48.3111 2310.01 51.4303 Q2313.37 54.509 2313.37 60.0587 Q2313.37 66.3781 2308.35 70.0644 Q2303.37 73.7508 2294.62 73.7508 Q2290.97 73.7508 2287 73.0216 Q2283.07 72.3329 2278.7 70.9151 L2278.7 63.2184 Q2282.83 65.3654 2286.84 66.4591 Q2290.85 67.5124 2294.78 67.5124 Q2300.04 67.5124 2302.88 65.73 Q2305.72 63.9071 2305.72 60.6258 Q2305.72 57.5877 2303.65 55.9673 Q2301.62 54.3469 2294.7 52.8481 L2292.1 52.2405 Q2285.18 50.7821 2282.1 47.7845 Q2279.02 44.7463 2279.02 39.4801 Q2279.02 33.0797 2283.56 29.5959 Q2288.09 26.1121 2296.44 26.1121 Q2300.57 26.1121 2304.22 26.7198 Q2307.86 27.3274 2310.94 28.5427 Z\" fill=\"#000000\" fill-rule=\"evenodd\" fill-opacity=\"1\" /><path clip-path=\"url(#clip040)\" d=\"M2332.61 14.324 L2332.61 27.2059 L2347.97 27.2059 L2347.97 32.9987 L2332.61 32.9987 L2332.61 57.6282 Q2332.61 63.1779 2334.11 64.7578 Q2335.65 66.3376 2340.31 66.3376 L2347.97 66.3376 L2347.97 72.576 L2340.31 72.576 Q2331.68 72.576 2328.4 69.3758 Q2325.12 66.1351 2325.12 57.6282 L2325.12 32.9987 L2319.65 32.9987 L2319.65 27.2059 L2325.12 27.2059 L2325.12 14.324 L2332.61 14.324 Z\" fill=\"#000000\" fill-rule=\"evenodd\" fill-opacity=\"1\" /><polyline clip-path=\"url(#clip042)\" style=\"stroke:#009af9; stroke-linecap:butt; stroke-linejoin:round; stroke-width:4; stroke-opacity:1; fill:none\" points=\"\n",
       "  247.59,535.403 254.425,1000.06 261.261,655.097 268.096,385.445 274.932,796.844 281.768,680.714 288.603,1391.92 295.439,1014.49 302.274,448.054 309.11,1365.27 \n",
       "  315.946,564.123 322.781,590.019 329.617,172.427 336.453,960.85 343.288,793.476 350.124,971.921 356.959,381.405 363.795,942.19 370.631,1322.81 377.466,1386.31 \n",
       "  384.302,1201.48 391.138,162.047 397.973,956.728 404.809,794.076 411.644,552.313 418.48,985.189 425.316,1202.05 432.151,761.447 438.987,671.939 445.823,693.618 \n",
       "  452.658,1019.37 459.494,672.961 466.329,741.422 473.165,925.886 480.001,1090.56 486.836,842.769 493.672,948.076 500.508,754.596 507.343,971.674 514.179,176.581 \n",
       "  521.014,632.455 527.85,694.944 534.686,1023.17 541.521,443.052 548.357,954.117 555.192,1046.48 562.028,754.913 568.864,568.985 575.699,728.009 582.535,975.707 \n",
       "  589.371,1159.76 596.206,783.15 603.042,1047.15 609.877,986.427 616.713,774.428 623.549,919.519 630.384,814.397 637.22,988.45 644.056,736.4 650.891,1265.27 \n",
       "  657.727,663.565 664.562,1057.64 671.398,957.466 678.234,1244.41 685.069,1125.43 691.905,816.287 698.741,865.964 705.576,893.037 712.412,1379.9 719.247,806.714 \n",
       "  726.083,919.229 732.919,878.737 739.754,599.661 746.59,891.715 753.426,1061.71 760.261,880.685 767.097,747.339 773.932,840.254 780.768,946.347 787.604,1276.72 \n",
       "  794.439,1057.79 801.275,1199.53 808.11,842.277 814.946,1112.9 821.782,1406.61 828.617,984.95 835.453,1245.86 842.289,1090.67 849.124,902.251 855.96,788.803 \n",
       "  862.795,1012.84 869.631,1206.36 876.467,1371.02 883.302,1118.6 890.138,880.637 896.974,1310.49 903.809,1099.19 910.645,1104.11 917.48,1159.28 924.316,894.852 \n",
       "  931.152,1107.34 937.987,1153.43 944.823,874.831 951.659,988.996 958.494,1306.91 965.33,963.518 972.165,1073.87 979.001,1105.7 985.837,998.571 992.672,1221 \n",
       "  999.508,1199.3 1006.34,944.765 1013.18,1007 1020.01,1043.09 1026.85,1119.3 1033.69,1115.16 1040.52,1036.83 1047.36,1273.53 1054.19,895.436 1061.03,1197.15 \n",
       "  1067.86,1086.82 1074.7,1182.27 1081.54,1245.13 1088.37,937.835 1095.21,764.551 1102.04,718.642 1108.88,1308.9 1115.71,1196.41 1122.55,977.837 1129.38,1232.83 \n",
       "  1136.22,1042.08 1143.06,1306.14 1149.89,1272.54 1156.73,1004.72 1163.56,1332.11 1170.4,1325.28 1177.23,1131.28 1184.07,1072.14 1190.91,1222.7 1197.74,1313 \n",
       "  1204.58,1052.61 1211.41,1006.46 1218.25,1295.04 1225.08,1190.67 1231.92,1112.48 1238.75,1339.62 1245.59,1059.5 1252.43,1276.45 1259.26,987.354 1266.1,1029.63 \n",
       "  1272.93,1032.5 1279.77,943.5 1286.6,1157.82 1293.44,1240.74 1300.28,1077.88 1307.11,1071.93 1313.95,1189.82 1320.78,1347.28 1327.62,1440.1 1334.45,1150.97 \n",
       "  1341.29,1005.32 1348.12,1312.27 1354.96,1124.87 1361.8,1227.26 1368.63,926.578 1375.47,1366.12 1382.3,1132.58 1389.14,1276.65 1395.97,1193.88 1402.81,1165.99 \n",
       "  1409.65,1245.62 1416.48,1149.75 1423.32,1198.37 1430.15,1344.52 1436.99,1377.52 1443.82,987.999 1450.66,1044.94 1457.49,1286.19 1464.33,1249.85 1471.17,1201.61 \n",
       "  1478,1285.15 1484.84,1200.3 1491.67,1139.13 1498.51,1184.05 1505.34,1060.14 1512.18,1176.43 1519.02,1293.63 1525.85,1208.94 1532.69,1119.18 1539.52,1197.83 \n",
       "  1546.36,1023.29 1553.19,1233.35 1560.03,1169.97 1566.86,958.626 1573.7,1241.95 1580.54,1149.29 1587.37,1202.79 1594.21,1196.41 1601.04,1219.87 1607.88,1165.99 \n",
       "  1614.71,1054.05 1621.55,1080.16 1628.39,1324.5 1635.22,1188.62 1642.06,1058.4 1648.89,1266.9 1655.73,966.732 1662.56,1120.48 1669.4,1105.28 1676.23,1138.55 \n",
       "  1683.07,1268.26 1689.91,1072.97 1696.74,1190.73 1703.58,1144.78 1710.41,1408.43 1717.25,1132.24 1724.08,1050.53 1730.92,1240 1737.76,1087.11 1744.59,1224.43 \n",
       "  1751.43,1194.57 1758.26,1114.82 1765.1,1222.43 1771.93,1142.27 1778.77,1096.35 1785.6,1187.36 1792.44,1153.13 1799.28,1019.6 1806.11,1224.23 1812.95,1217.62 \n",
       "  1819.78,1287.16 1826.62,1320.47 1833.45,1231.13 1840.29,978.366 1847.12,1289.22 1853.96,1314.92 1860.8,1217.86 1867.63,1209.72 1874.47,1000.65 1881.3,1447.87 \n",
       "  1888.14,1256.37 1894.97,1070.49 1901.81,1294.56 1908.65,1238.04 1915.48,1274.77 1922.32,1268.95 1929.15,1066.71 1935.99,1254.22 1942.82,1399.09 1949.66,1229.16 \n",
       "  1956.49,1322.84 1963.33,1254.62 1970.17,1333.53 1977,1285.16 1983.84,1199.06 1990.67,1226.27 1997.51,1294.06 2004.34,1303.82 2011.18,1274.12 2018.02,1270.6 \n",
       "  2024.85,1319.63 2031.69,1422.5 2038.52,1359.12 2045.36,1272.56 2052.19,1265.41 2059.03,1249.65 2065.86,1334.36 2072.7,1403.32 2079.54,1301.66 2086.37,1279.26 \n",
       "  2093.21,1438.11 2100.04,1324.73 2106.88,1349.8 2113.71,1352.1 2120.55,1254.25 2127.39,1259.49 2134.22,1360.73 2141.06,1308.15 2147.89,1383.59 2154.73,1312.55 \n",
       "  2161.56,1445.64 2168.4,1348.07 2175.23,1281 2182.07,1291.06 2188.91,1344.47 2195.74,1321.89 2202.58,1378.6 2209.41,1270.49 2216.25,1399.99 2223.08,1322.68 \n",
       "  2229.92,1305.73 2236.76,1432.44 2243.59,1433.34 2250.43,1309.95 2257.26,1347.06 2264.1,1318.3 2270.93,1378.13 2277.77,1414.34 2284.6,1400.87 2291.44,1424.01 \n",
       "  \n",
       "  \"/>\n",
       "<path clip-path=\"url(#clip040)\" d=\"\n",
       "M1987.39 272.585 L2280.54 272.585 L2280.54 168.905 L1987.39 168.905  Z\n",
       "  \" fill=\"#ffffff\" fill-rule=\"evenodd\" fill-opacity=\"1\"/>\n",
       "<polyline clip-path=\"url(#clip040)\" style=\"stroke:#000000; stroke-linecap:butt; stroke-linejoin:round; stroke-width:4; stroke-opacity:1; fill:none\" points=\"\n",
       "  1987.39,272.585 2280.54,272.585 2280.54,168.905 1987.39,168.905 1987.39,272.585 \n",
       "  \"/>\n",
       "<polyline clip-path=\"url(#clip040)\" style=\"stroke:#009af9; stroke-linecap:butt; stroke-linejoin:round; stroke-width:4; stroke-opacity:1; fill:none\" points=\"\n",
       "  2011.46,220.745 2155.89,220.745 \n",
       "  \"/>\n",
       "<path clip-path=\"url(#clip040)\" d=\"M2193.81 240.432 Q2192 245.062 2190.29 246.474 Q2188.58 247.886 2185.71 247.886 L2182.3 247.886 L2182.3 244.321 L2184.8 244.321 Q2186.56 244.321 2187.53 243.488 Q2188.51 242.654 2189.69 239.552 L2190.45 237.608 L2179.97 212.099 L2184.48 212.099 L2192.58 232.377 L2200.68 212.099 L2205.2 212.099 L2193.81 240.432 Z\" fill=\"#000000\" fill-rule=\"evenodd\" fill-opacity=\"1\" /><path clip-path=\"url(#clip040)\" d=\"M2212.49 234.089 L2220.13 234.089 L2220.13 207.724 L2211.82 209.391 L2211.82 205.131 L2220.08 203.465 L2224.76 203.465 L2224.76 234.089 L2232.4 234.089 L2232.4 238.025 L2212.49 238.025 L2212.49 234.089 Z\" fill=\"#000000\" fill-rule=\"evenodd\" fill-opacity=\"1\" /></svg>\n"
      ]
     },
     "metadata": {},
     "output_type": "display_data"
    }
   ],
   "source": [
    "p1=plot(Utility_loss, title=\"Loss for each individual rank from poorest to richest\")\n",
    "savefig(p1, \"Utility_loss.png\") # save the most recent fig as filename_string (such as \"output.png\")\n",
    "p1"
   ]
  },
  {
   "cell_type": "code",
   "execution_count": 80,
   "metadata": {},
   "outputs": [
    {
     "data": {
      "image/png": "[encoded data removed]",
      "image/svg+xml": "<?xml version=\"1.0\" encoding=\"utf-8\"?>\n<svg xmlns=\"http://www.w3.org/2000/svg\" xmlns:xlink=\"http://www.w3.org/1999/xlink\" width=\"600\" height=\"400\" viewBox=\"0 0 2400 1600\">\n<defs>\n  <clipPath id=\"clip090\">\n    <rect x=\"0\" y=\"0\" width=\"2400\" height=\"1600\"/>\n  </clipPath>\n</defs>\n<path clip-path=\"url(#clip090)\" d=\"\nM0 1600 L2400 1600 L2400 0 L0 0  Z\n  \" fill=\"#ffffff\" fill-rule=\"evenodd\" fill-opacity=\"1\"/>\n<defs>\n  <clipPath id=\"clip091\">\n    <rect x=\"480\" y=\"0\" width=\"1681\" height=\"1600\"/>\n  </clipPath>\n</defs>\n<path clip-path=\"url(#clip090)\" d=\"\nM186.76 1486.45 L2352.76 1486.45 L2352.76 123.472 L186.76 123.472  Z\n  \" fill=\"#ffffff\" fill-rule=\"evenodd\" fill-opacity=\"1\"/>\n<defs>\n  <clipPath id=\"clip092\">\n    <rect x=\"186\" y=\"123\" width=\"2167\" height=\"1364\"/>\n  </clipPath>\n</defs>\n<polyline clip-path=\"url(#clip092)\" style=\"stroke:#000000; stroke-linecap:butt; stroke-linejoin:round; stroke-width:2; stroke-opacity:0.1; fill:none\" points=\"\n  475.105,1486.45 475.105,123.472 \n  \"/>\n<polyline clip-path=\"url(#clip092)\" style=\"stroke:#000000; stroke-linecap:butt; stroke-linejoin:round; stroke-width:2; stroke-opacity:0.1; fill:none\" points=\"\n  929.193,1486.45 929.193,123.472 \n  \"/>\n<polyline clip-path=\"url(#clip092)\" style=\"stroke:#000000; stroke-linecap:butt; stroke-linejoin:round; stroke-width:2; stroke-opacity:0.1; fill:none\" points=\"\n  1383.28,1486.45 1383.28,123.472 \n  \"/>\n<polyline clip-path=\"url(#clip092)\" style=\"stroke:#000000; stroke-linecap:butt; stroke-linejoin:round; stroke-width:2; stroke-opacity:0.1; fill:none\" points=\"\n  1837.37,1486.45 1837.37,123.472 \n  \"/>\n<polyline clip-path=\"url(#clip092)\" style=\"stroke:#000000; stroke-linecap:butt; stroke-linejoin:round; stroke-width:2; stroke-opacity:0.1; fill:none\" points=\"\n  2291.45,1486.45 2291.45,123.472 \n  \"/>\n<polyline clip-path=\"url(#clip090)\" style=\"stroke:#000000; stroke-linecap:butt; stroke-linejoin:round; stroke-width:4; stroke-opacity:1; fill:none\" points=\"\n  186.76,1486.45 2352.76,1486.45 \n  \"/>\n<polyline clip-path=\"url(#clip090)\" style=\"stroke:#000000; stroke-linecap:butt; stroke-linejoin:round; stroke-width:4; stroke-opacity:1; fill:none\" points=\"\n  475.105,1486.45 475.105,1467.55 \n  \"/>\n<polyline clip-path=\"url(#clip090)\" style=\"stroke:#000000; stroke-linecap:butt; stroke-linejoin:round; stroke-width:4; stroke-opacity:1; fill:none\" points=\"\n  929.193,1486.45 929.193,1467.55 \n  \"/>\n<polyline clip-path=\"url(#clip090)\" style=\"stroke:#000000; stroke-linecap:butt; stroke-linejoin:round; stroke-width:4; stroke-opacity:1; fill:none\" points=\"\n  1383.28,1486.45 1383.28,1467.55 \n  \"/>\n<polyline clip-path=\"url(#clip090)\" style=\"stroke:#000000; stroke-linecap:butt; stroke-linejoin:round; stroke-width:4; stroke-opacity:1; fill:none\" points=\"\n  1837.37,1486.45 1837.37,1467.55 \n  \"/>\n<polyline clip-path=\"url(#clip090)\" style=\"stroke:#000000; stroke-linecap:butt; stroke-linejoin:round; stroke-width:4; stroke-opacity:1; fill:none\" points=\"\n  2291.45,1486.45 2291.45,1467.55 \n  \"/>\n<path clip-path=\"url(#clip090)\" d=\"M469.758 1544.91 L486.078 1544.91 L486.078 1548.85 L464.133 1548.85 L464.133 1544.91 Q466.795 1542.16 471.379 1537.53 Q475.985 1532.88 477.166 1531.53 Q479.411 1529.01 480.291 1527.27 Q481.193 1525.51 481.193 1523.82 Q481.193 1521.07 479.249 1519.33 Q477.328 1517.6 474.226 1517.6 Q472.027 1517.6 469.573 1518.36 Q467.143 1519.13 464.365 1520.68 L464.365 1515.95 Q467.189 1514.82 469.643 1514.24 Q472.096 1513.66 474.133 1513.66 Q479.504 1513.66 482.698 1516.35 Q485.892 1519.03 485.892 1523.52 Q485.892 1525.65 485.082 1527.57 Q484.295 1529.47 482.189 1532.07 Q481.61 1532.74 478.508 1535.95 Q475.406 1539.15 469.758 1544.91 Z\" fill=\"#000000\" fill-rule=\"evenodd\" fill-opacity=\"1\" /><path clip-path=\"url(#clip090)\" d=\"M932.202 1518.36 L920.396 1536.81 L932.202 1536.81 L932.202 1518.36 M930.975 1514.29 L936.855 1514.29 L936.855 1536.81 L941.785 1536.81 L941.785 1540.7 L936.855 1540.7 L936.855 1548.85 L932.202 1548.85 L932.202 1540.7 L916.6 1540.7 L916.6 1536.19 L930.975 1514.29 Z\" fill=\"#000000\" fill-rule=\"evenodd\" fill-opacity=\"1\" /><path clip-path=\"url(#clip090)\" d=\"M1383.68 1529.7 Q1380.54 1529.7 1378.68 1531.86 Q1376.86 1534.01 1376.86 1537.76 Q1376.86 1541.49 1378.68 1543.66 Q1380.54 1545.82 1383.68 1545.82 Q1386.83 1545.82 1388.66 1543.66 Q1390.51 1541.49 1390.51 1537.76 Q1390.51 1534.01 1388.66 1531.86 Q1386.83 1529.7 1383.68 1529.7 M1392.97 1515.05 L1392.97 1519.31 Q1391.21 1518.48 1389.4 1518.04 Q1387.62 1517.6 1385.86 1517.6 Q1381.23 1517.6 1378.78 1520.72 Q1376.35 1523.85 1376 1530.17 Q1377.37 1528.15 1379.43 1527.09 Q1381.49 1526 1383.96 1526 Q1389.17 1526 1392.18 1529.17 Q1395.21 1532.32 1395.21 1537.76 Q1395.21 1543.08 1392.06 1546.3 Q1388.92 1549.52 1383.68 1549.52 Q1377.69 1549.52 1374.52 1544.94 Q1371.35 1540.33 1371.35 1531.6 Q1371.35 1523.41 1375.24 1518.55 Q1379.12 1513.66 1385.68 1513.66 Q1387.43 1513.66 1389.22 1514.01 Q1391.02 1514.36 1392.97 1515.05 Z\" fill=\"#000000\" fill-rule=\"evenodd\" fill-opacity=\"1\" /><path clip-path=\"url(#clip090)\" d=\"M1837.37 1532.44 Q1834.03 1532.44 1832.11 1534.22 Q1830.21 1536 1830.21 1539.13 Q1830.21 1542.25 1832.11 1544.03 Q1834.03 1545.82 1837.37 1545.82 Q1840.7 1545.82 1842.62 1544.03 Q1844.54 1542.23 1844.54 1539.13 Q1844.54 1536 1842.62 1534.22 Q1840.72 1532.44 1837.37 1532.44 M1832.69 1530.45 Q1829.68 1529.7 1827.99 1527.64 Q1826.33 1525.58 1826.33 1522.62 Q1826.33 1518.48 1829.27 1516.07 Q1832.23 1513.66 1837.37 1513.66 Q1842.53 1513.66 1845.47 1516.07 Q1848.41 1518.48 1848.41 1522.62 Q1848.41 1525.58 1846.72 1527.64 Q1845.05 1529.7 1842.07 1530.45 Q1845.45 1531.23 1847.32 1533.52 Q1849.22 1535.82 1849.22 1539.13 Q1849.22 1544.15 1846.14 1546.83 Q1843.08 1549.52 1837.37 1549.52 Q1831.65 1549.52 1828.57 1546.83 Q1825.52 1544.15 1825.52 1539.13 Q1825.52 1535.82 1827.41 1533.52 Q1829.31 1531.23 1832.69 1530.45 M1830.98 1523.06 Q1830.98 1525.75 1832.64 1527.25 Q1834.33 1528.76 1837.37 1528.76 Q1840.38 1528.76 1842.07 1527.25 Q1843.78 1525.75 1843.78 1523.06 Q1843.78 1520.38 1842.07 1518.87 Q1840.38 1517.37 1837.37 1517.37 Q1834.33 1517.37 1832.64 1518.87 Q1830.98 1520.38 1830.98 1523.06 Z\" fill=\"#000000\" fill-rule=\"evenodd\" fill-opacity=\"1\" /><path clip-path=\"url(#clip090)\" d=\"M2266.14 1544.91 L2273.78 1544.91 L2273.78 1518.55 L2265.47 1520.21 L2265.47 1515.95 L2273.73 1514.29 L2278.41 1514.29 L2278.41 1544.91 L2286.05 1544.91 L2286.05 1548.85 L2266.14 1548.85 L2266.14 1544.91 Z\" fill=\"#000000\" fill-rule=\"evenodd\" fill-opacity=\"1\" /><path clip-path=\"url(#clip090)\" d=\"M2305.49 1517.37 Q2301.88 1517.37 2300.05 1520.93 Q2298.25 1524.47 2298.25 1531.6 Q2298.25 1538.71 2300.05 1542.27 Q2301.88 1545.82 2305.49 1545.82 Q2309.13 1545.82 2310.93 1542.27 Q2312.76 1538.71 2312.76 1531.6 Q2312.76 1524.47 2310.93 1520.93 Q2309.13 1517.37 2305.49 1517.37 M2305.49 1513.66 Q2311.3 1513.66 2314.36 1518.27 Q2317.44 1522.85 2317.44 1531.6 Q2317.44 1540.33 2314.36 1544.94 Q2311.3 1549.52 2305.49 1549.52 Q2299.68 1549.52 2296.6 1544.94 Q2293.55 1540.33 2293.55 1531.6 Q2293.55 1522.85 2296.6 1518.27 Q2299.68 1513.66 2305.49 1513.66 Z\" fill=\"#000000\" fill-rule=\"evenodd\" fill-opacity=\"1\" /><polyline clip-path=\"url(#clip092)\" style=\"stroke:#000000; stroke-linecap:butt; stroke-linejoin:round; stroke-width:2; stroke-opacity:0.1; fill:none\" points=\"\n  186.76,1313.41 2352.76,1313.41 \n  \"/>\n<polyline clip-path=\"url(#clip092)\" style=\"stroke:#000000; stroke-linecap:butt; stroke-linejoin:round; stroke-width:2; stroke-opacity:0.1; fill:none\" points=\"\n  186.76,1128.05 2352.76,1128.05 \n  \"/>\n<polyline clip-path=\"url(#clip092)\" style=\"stroke:#000000; stroke-linecap:butt; stroke-linejoin:round; stroke-width:2; stroke-opacity:0.1; fill:none\" points=\"\n  186.76,942.694 2352.76,942.694 \n  \"/>\n<polyline clip-path=\"url(#clip092)\" style=\"stroke:#000000; stroke-linecap:butt; stroke-linejoin:round; stroke-width:2; stroke-opacity:0.1; fill:none\" points=\"\n  186.76,757.336 2352.76,757.336 \n  \"/>\n<polyline clip-path=\"url(#clip092)\" style=\"stroke:#000000; stroke-linecap:butt; stroke-linejoin:round; stroke-width:2; stroke-opacity:0.1; fill:none\" points=\"\n  186.76,571.978 2352.76,571.978 \n  \"/>\n<polyline clip-path=\"url(#clip092)\" style=\"stroke:#000000; stroke-linecap:butt; stroke-linejoin:round; stroke-width:2; stroke-opacity:0.1; fill:none\" points=\"\n  186.76,386.62 2352.76,386.62 \n  \"/>\n<polyline clip-path=\"url(#clip092)\" style=\"stroke:#000000; stroke-linecap:butt; stroke-linejoin:round; stroke-width:2; stroke-opacity:0.1; fill:none\" points=\"\n  186.76,201.262 2352.76,201.262 \n  \"/>\n<polyline clip-path=\"url(#clip090)\" style=\"stroke:#000000; stroke-linecap:butt; stroke-linejoin:round; stroke-width:4; stroke-opacity:1; fill:none\" points=\"\n  186.76,1486.45 186.76,123.472 \n  \"/>\n<polyline clip-path=\"url(#clip090)\" style=\"stroke:#000000; stroke-linecap:butt; stroke-linejoin:round; stroke-width:4; stroke-opacity:1; fill:none\" points=\"\n  186.76,1313.41 205.658,1313.41 \n  \"/>\n<polyline clip-path=\"url(#clip090)\" style=\"stroke:#000000; stroke-linecap:butt; stroke-linejoin:round; stroke-width:4; stroke-opacity:1; fill:none\" points=\"\n  186.76,1128.05 205.658,1128.05 \n  \"/>\n<polyline clip-path=\"url(#clip090)\" style=\"stroke:#000000; stroke-linecap:butt; stroke-linejoin:round; stroke-width:4; stroke-opacity:1; fill:none\" points=\"\n  186.76,942.694 205.658,942.694 \n  \"/>\n<polyline clip-path=\"url(#clip090)\" style=\"stroke:#000000; stroke-linecap:butt; stroke-linejoin:round; stroke-width:4; stroke-opacity:1; fill:none\" points=\"\n  186.76,757.336 205.658,757.336 \n  \"/>\n<polyline clip-path=\"url(#clip090)\" style=\"stroke:#000000; stroke-linecap:butt; stroke-linejoin:round; stroke-width:4; stroke-opacity:1; fill:none\" points=\"\n  186.76,571.978 205.658,571.978 \n  \"/>\n<polyline clip-path=\"url(#clip090)\" style=\"stroke:#000000; stroke-linecap:butt; stroke-linejoin:round; stroke-width:4; stroke-opacity:1; fill:none\" points=\"\n  186.76,386.62 205.658,386.62 \n  \"/>\n<polyline clip-path=\"url(#clip090)\" style=\"stroke:#000000; stroke-linecap:butt; stroke-linejoin:round; stroke-width:4; stroke-opacity:1; fill:none\" points=\"\n  186.76,201.262 205.658,201.262 \n  \"/>\n<path clip-path=\"url(#clip090)\" d=\"M65.0198 1299.21 Q61.4087 1299.21 59.58 1302.77 Q57.7745 1306.32 57.7745 1313.45 Q57.7745 1320.55 59.58 1324.12 Q61.4087 1327.66 65.0198 1327.66 Q68.6541 1327.66 70.4596 1324.12 Q72.2883 1320.55 72.2883 1313.45 Q72.2883 1306.32 70.4596 1302.77 Q68.6541 1299.21 65.0198 1299.21 M65.0198 1295.51 Q70.83 1295.51 73.8855 1300.11 Q76.9642 1304.7 76.9642 1313.45 Q76.9642 1322.17 73.8855 1326.78 Q70.83 1331.36 65.0198 1331.36 Q59.2097 1331.36 56.131 1326.78 Q53.0754 1322.17 53.0754 1313.45 Q53.0754 1304.7 56.131 1300.11 Q59.2097 1295.51 65.0198 1295.51 Z\" fill=\"#000000\" fill-rule=\"evenodd\" fill-opacity=\"1\" /><path clip-path=\"url(#clip090)\" d=\"M85.1818 1324.81 L90.066 1324.81 L90.066 1330.69 L85.1818 1330.69 L85.1818 1324.81 Z\" fill=\"#000000\" fill-rule=\"evenodd\" fill-opacity=\"1\" /><path clip-path=\"url(#clip090)\" d=\"M110.251 1299.21 Q106.64 1299.21 104.811 1302.77 Q103.006 1306.32 103.006 1313.45 Q103.006 1320.55 104.811 1324.12 Q106.64 1327.66 110.251 1327.66 Q113.885 1327.66 115.691 1324.12 Q117.52 1320.55 117.52 1313.45 Q117.52 1306.32 115.691 1302.77 Q113.885 1299.21 110.251 1299.21 M110.251 1295.51 Q116.061 1295.51 119.117 1300.11 Q122.195 1304.7 122.195 1313.45 Q122.195 1322.17 119.117 1326.78 Q116.061 1331.36 110.251 1331.36 Q104.441 1331.36 101.362 1326.78 Q98.3067 1322.17 98.3067 1313.45 Q98.3067 1304.7 101.362 1300.11 Q104.441 1295.51 110.251 1295.51 Z\" fill=\"#000000\" fill-rule=\"evenodd\" fill-opacity=\"1\" /><path clip-path=\"url(#clip090)\" d=\"M134.441 1326.76 L150.76 1326.76 L150.76 1330.69 L128.816 1330.69 L128.816 1326.76 Q131.478 1324 136.061 1319.37 Q140.668 1314.72 141.848 1313.38 Q144.093 1310.85 144.973 1309.12 Q145.876 1307.36 145.876 1305.67 Q145.876 1302.91 143.931 1301.18 Q142.01 1299.44 138.908 1299.44 Q136.709 1299.44 134.256 1300.2 Q131.825 1300.97 129.047 1302.52 L129.047 1297.8 Q131.871 1296.66 134.325 1296.08 Q136.779 1295.51 138.816 1295.51 Q144.186 1295.51 147.38 1298.19 Q150.575 1300.88 150.575 1305.37 Q150.575 1307.5 149.765 1309.42 Q148.978 1311.32 146.871 1313.91 Q146.293 1314.58 143.191 1317.8 Q140.089 1320.99 134.441 1326.76 Z\" fill=\"#000000\" fill-rule=\"evenodd\" fill-opacity=\"1\" /><path clip-path=\"url(#clip090)\" d=\"M64.0708 1113.85 Q60.4597 1113.85 58.631 1117.42 Q56.8254 1120.96 56.8254 1128.09 Q56.8254 1135.19 58.631 1138.76 Q60.4597 1142.3 64.0708 1142.3 Q67.705 1142.3 69.5105 1138.76 Q71.3392 1135.19 71.3392 1128.09 Q71.3392 1120.96 69.5105 1117.42 Q67.705 1113.85 64.0708 1113.85 M64.0708 1110.15 Q69.8809 1110.15 72.9365 1114.75 Q76.0151 1119.34 76.0151 1128.09 Q76.0151 1136.81 72.9365 1141.42 Q69.8809 1146 64.0708 1146 Q58.2606 1146 55.1819 1141.42 Q52.1264 1136.81 52.1264 1128.09 Q52.1264 1119.34 55.1819 1114.75 Q58.2606 1110.15 64.0708 1110.15 Z\" fill=\"#000000\" fill-rule=\"evenodd\" fill-opacity=\"1\" /><path clip-path=\"url(#clip090)\" d=\"M84.2327 1139.45 L89.1169 1139.45 L89.1169 1145.33 L84.2327 1145.33 L84.2327 1139.45 Z\" fill=\"#000000\" fill-rule=\"evenodd\" fill-opacity=\"1\" /><path clip-path=\"url(#clip090)\" d=\"M109.302 1113.85 Q105.691 1113.85 103.862 1117.42 Q102.057 1120.96 102.057 1128.09 Q102.057 1135.19 103.862 1138.76 Q105.691 1142.3 109.302 1142.3 Q112.936 1142.3 114.742 1138.76 Q116.57 1135.19 116.57 1128.09 Q116.57 1120.96 114.742 1117.42 Q112.936 1113.85 109.302 1113.85 M109.302 1110.15 Q115.112 1110.15 118.168 1114.75 Q121.246 1119.34 121.246 1128.09 Q121.246 1136.81 118.168 1141.42 Q115.112 1146 109.302 1146 Q103.492 1146 100.413 1141.42 Q97.3576 1136.81 97.3576 1128.09 Q97.3576 1119.34 100.413 1114.75 Q103.492 1110.15 109.302 1110.15 Z\" fill=\"#000000\" fill-rule=\"evenodd\" fill-opacity=\"1\" /><path clip-path=\"url(#clip090)\" d=\"M143.631 1126.7 Q146.987 1127.42 148.862 1129.68 Q150.76 1131.95 150.76 1135.29 Q150.76 1140.4 147.242 1143.2 Q143.723 1146 137.242 1146 Q135.066 1146 132.751 1145.56 Q130.459 1145.15 128.006 1144.29 L128.006 1139.78 Q129.95 1140.91 132.265 1141.49 Q134.58 1142.07 137.103 1142.07 Q141.501 1142.07 143.793 1140.33 Q146.107 1138.6 146.107 1135.29 Q146.107 1132.23 143.955 1130.52 Q141.825 1128.78 138.006 1128.78 L133.978 1128.78 L133.978 1124.94 L138.191 1124.94 Q141.64 1124.94 143.468 1123.57 Q145.297 1122.18 145.297 1119.59 Q145.297 1116.93 143.399 1115.52 Q141.524 1114.08 138.006 1114.08 Q136.084 1114.08 133.885 1114.5 Q131.686 1114.92 129.047 1115.8 L129.047 1111.63 Q131.709 1110.89 134.024 1110.52 Q136.362 1110.15 138.422 1110.15 Q143.746 1110.15 146.848 1112.58 Q149.95 1114.99 149.95 1119.11 Q149.95 1121.98 148.306 1123.97 Q146.663 1125.93 143.631 1126.7 Z\" fill=\"#000000\" fill-rule=\"evenodd\" fill-opacity=\"1\" /><path clip-path=\"url(#clip090)\" d=\"M62.9365 928.493 Q59.3254 928.493 57.4967 932.058 Q55.6912 935.6 55.6912 942.729 Q55.6912 949.836 57.4967 953.4 Q59.3254 956.942 62.9365 956.942 Q66.5707 956.942 68.3763 953.4 Q70.205 949.836 70.205 942.729 Q70.205 935.6 68.3763 932.058 Q66.5707 928.493 62.9365 928.493 M62.9365 924.789 Q68.7467 924.789 71.8022 929.396 Q74.8809 933.979 74.8809 942.729 Q74.8809 951.456 71.8022 956.062 Q68.7467 960.646 62.9365 960.646 Q57.1264 960.646 54.0477 956.062 Q50.9921 951.456 50.9921 942.729 Q50.9921 933.979 54.0477 929.396 Q57.1264 924.789 62.9365 924.789 Z\" fill=\"#000000\" fill-rule=\"evenodd\" fill-opacity=\"1\" /><path clip-path=\"url(#clip090)\" d=\"M83.0984 954.095 L87.9827 954.095 L87.9827 959.974 L83.0984 959.974 L83.0984 954.095 Z\" fill=\"#000000\" fill-rule=\"evenodd\" fill-opacity=\"1\" /><path clip-path=\"url(#clip090)\" d=\"M108.168 928.493 Q104.557 928.493 102.728 932.058 Q100.922 935.6 100.922 942.729 Q100.922 949.836 102.728 953.4 Q104.557 956.942 108.168 956.942 Q111.802 956.942 113.608 953.4 Q115.436 949.836 115.436 942.729 Q115.436 935.6 113.608 932.058 Q111.802 928.493 108.168 928.493 M108.168 924.789 Q113.978 924.789 117.033 929.396 Q120.112 933.979 120.112 942.729 Q120.112 951.456 117.033 956.062 Q113.978 960.646 108.168 960.646 Q102.358 960.646 99.2789 956.062 Q96.2234 951.456 96.2234 942.729 Q96.2234 933.979 99.2789 929.396 Q102.358 924.789 108.168 924.789 Z\" fill=\"#000000\" fill-rule=\"evenodd\" fill-opacity=\"1\" /><path clip-path=\"url(#clip090)\" d=\"M141.177 929.488 L129.371 947.937 L141.177 947.937 L141.177 929.488 M139.95 925.414 L145.83 925.414 L145.83 947.937 L150.76 947.937 L150.76 951.826 L145.83 951.826 L145.83 959.974 L141.177 959.974 L141.177 951.826 L125.575 951.826 L125.575 947.312 L139.95 925.414 Z\" fill=\"#000000\" fill-rule=\"evenodd\" fill-opacity=\"1\" /><path clip-path=\"url(#clip090)\" d=\"M64.418 743.135 Q60.8069 743.135 58.9782 746.7 Q57.1726 750.242 57.1726 757.371 Q57.1726 764.478 58.9782 768.042 Q60.8069 771.584 64.418 771.584 Q68.0522 771.584 69.8578 768.042 Q71.6865 764.478 71.6865 757.371 Q71.6865 750.242 69.8578 746.7 Q68.0522 743.135 64.418 743.135 M64.418 739.431 Q70.2281 739.431 73.2837 744.038 Q76.3624 748.621 76.3624 757.371 Q76.3624 766.098 73.2837 770.704 Q70.2281 775.288 64.418 775.288 Q58.6078 775.288 55.5291 770.704 Q52.4736 766.098 52.4736 757.371 Q52.4736 748.621 55.5291 744.038 Q58.6078 739.431 64.418 739.431 Z\" fill=\"#000000\" fill-rule=\"evenodd\" fill-opacity=\"1\" /><path clip-path=\"url(#clip090)\" d=\"M84.5799 768.737 L89.4641 768.737 L89.4641 774.616 L84.5799 774.616 L84.5799 768.737 Z\" fill=\"#000000\" fill-rule=\"evenodd\" fill-opacity=\"1\" /><path clip-path=\"url(#clip090)\" d=\"M109.649 743.135 Q106.038 743.135 104.209 746.7 Q102.404 750.242 102.404 757.371 Q102.404 764.478 104.209 768.042 Q106.038 771.584 109.649 771.584 Q113.283 771.584 115.089 768.042 Q116.918 764.478 116.918 757.371 Q116.918 750.242 115.089 746.7 Q113.283 743.135 109.649 743.135 M109.649 739.431 Q115.459 739.431 118.515 744.038 Q121.594 748.621 121.594 757.371 Q121.594 766.098 118.515 770.704 Q115.459 775.288 109.649 775.288 Q103.839 775.288 100.76 770.704 Q97.7048 766.098 97.7048 757.371 Q97.7048 748.621 100.76 744.038 Q103.839 739.431 109.649 739.431 Z\" fill=\"#000000\" fill-rule=\"evenodd\" fill-opacity=\"1\" /><path clip-path=\"url(#clip090)\" d=\"M129.857 740.056 L148.214 740.056 L148.214 743.992 L134.14 743.992 L134.14 752.464 Q135.158 752.116 136.177 751.954 Q137.195 751.769 138.214 751.769 Q144.001 751.769 147.38 754.941 Q150.76 758.112 150.76 763.528 Q150.76 769.107 147.288 772.209 Q143.816 775.288 137.496 775.288 Q135.32 775.288 133.052 774.917 Q130.807 774.547 128.399 773.806 L128.399 769.107 Q130.482 770.241 132.705 770.797 Q134.927 771.352 137.404 771.352 Q141.408 771.352 143.746 769.246 Q146.084 767.14 146.084 763.528 Q146.084 759.917 143.746 757.811 Q141.408 755.704 137.404 755.704 Q135.529 755.704 133.654 756.121 Q131.802 756.538 129.857 757.417 L129.857 740.056 Z\" fill=\"#000000\" fill-rule=\"evenodd\" fill-opacity=\"1\" /><path clip-path=\"url(#clip090)\" d=\"M63.2606 557.777 Q59.6495 557.777 57.8208 561.342 Q56.0152 564.883 56.0152 572.013 Q56.0152 579.119 57.8208 582.684 Q59.6495 586.226 63.2606 586.226 Q66.8948 586.226 68.7004 582.684 Q70.5291 579.119 70.5291 572.013 Q70.5291 564.883 68.7004 561.342 Q66.8948 557.777 63.2606 557.777 M63.2606 554.073 Q69.0707 554.073 72.1263 558.68 Q75.205 563.263 75.205 572.013 Q75.205 580.74 72.1263 585.346 Q69.0707 589.93 63.2606 589.93 Q57.4504 589.93 54.3717 585.346 Q51.3162 580.74 51.3162 572.013 Q51.3162 563.263 54.3717 558.68 Q57.4504 554.073 63.2606 554.073 Z\" fill=\"#000000\" fill-rule=\"evenodd\" fill-opacity=\"1\" /><path clip-path=\"url(#clip090)\" d=\"M83.4225 583.379 L88.3067 583.379 L88.3067 589.258 L83.4225 589.258 L83.4225 583.379 Z\" fill=\"#000000\" fill-rule=\"evenodd\" fill-opacity=\"1\" /><path clip-path=\"url(#clip090)\" d=\"M108.492 557.777 Q104.881 557.777 103.052 561.342 Q101.246 564.883 101.246 572.013 Q101.246 579.119 103.052 582.684 Q104.881 586.226 108.492 586.226 Q112.126 586.226 113.932 582.684 Q115.76 579.119 115.76 572.013 Q115.76 564.883 113.932 561.342 Q112.126 557.777 108.492 557.777 M108.492 554.073 Q114.302 554.073 117.358 558.68 Q120.436 563.263 120.436 572.013 Q120.436 580.74 117.358 585.346 Q114.302 589.93 108.492 589.93 Q102.682 589.93 99.603 585.346 Q96.5474 580.74 96.5474 572.013 Q96.5474 563.263 99.603 558.68 Q102.682 554.073 108.492 554.073 Z\" fill=\"#000000\" fill-rule=\"evenodd\" fill-opacity=\"1\" /><path clip-path=\"url(#clip090)\" d=\"M139.232 570.115 Q136.084 570.115 134.232 572.268 Q132.404 574.42 132.404 578.17 Q132.404 581.897 134.232 584.073 Q136.084 586.226 139.232 586.226 Q142.381 586.226 144.209 584.073 Q146.061 581.897 146.061 578.17 Q146.061 574.42 144.209 572.268 Q142.381 570.115 139.232 570.115 M148.515 555.462 L148.515 559.721 Q146.756 558.888 144.95 558.448 Q143.168 558.008 141.408 558.008 Q136.779 558.008 134.325 561.133 Q131.894 564.258 131.547 570.578 Q132.913 568.564 134.973 567.499 Q137.033 566.411 139.51 566.411 Q144.718 566.411 147.728 569.582 Q150.76 572.731 150.76 578.17 Q150.76 583.494 147.612 586.712 Q144.464 589.93 139.232 589.93 Q133.237 589.93 130.066 585.346 Q126.894 580.74 126.894 572.013 Q126.894 563.819 130.783 558.958 Q134.672 554.073 141.223 554.073 Q142.982 554.073 144.765 554.421 Q146.57 554.768 148.515 555.462 Z\" fill=\"#000000\" fill-rule=\"evenodd\" fill-opacity=\"1\" /><path clip-path=\"url(#clip090)\" d=\"M64.3254 372.419 Q60.7143 372.419 58.8856 375.984 Q57.0801 379.525 57.0801 386.655 Q57.0801 393.761 58.8856 397.326 Q60.7143 400.868 64.3254 400.868 Q67.9596 400.868 69.7652 397.326 Q71.5939 393.761 71.5939 386.655 Q71.5939 379.525 69.7652 375.984 Q67.9596 372.419 64.3254 372.419 M64.3254 368.715 Q70.1355 368.715 73.1911 373.322 Q76.2698 377.905 76.2698 386.655 Q76.2698 395.382 73.1911 399.988 Q70.1355 404.572 64.3254 404.572 Q58.5152 404.572 55.4365 399.988 Q52.381 395.382 52.381 386.655 Q52.381 377.905 55.4365 373.322 Q58.5152 368.715 64.3254 368.715 Z\" fill=\"#000000\" fill-rule=\"evenodd\" fill-opacity=\"1\" /><path clip-path=\"url(#clip090)\" d=\"M84.4873 398.021 L89.3715 398.021 L89.3715 403.9 L84.4873 403.9 L84.4873 398.021 Z\" fill=\"#000000\" fill-rule=\"evenodd\" fill-opacity=\"1\" /><path clip-path=\"url(#clip090)\" d=\"M109.557 372.419 Q105.946 372.419 104.117 375.984 Q102.311 379.525 102.311 386.655 Q102.311 393.761 104.117 397.326 Q105.946 400.868 109.557 400.868 Q113.191 400.868 114.996 397.326 Q116.825 393.761 116.825 386.655 Q116.825 379.525 114.996 375.984 Q113.191 372.419 109.557 372.419 M109.557 368.715 Q115.367 368.715 118.422 373.322 Q121.501 377.905 121.501 386.655 Q121.501 395.382 118.422 399.988 Q115.367 404.572 109.557 404.572 Q103.746 404.572 100.668 399.988 Q97.6122 395.382 97.6122 386.655 Q97.6122 377.905 100.668 373.322 Q103.746 368.715 109.557 368.715 Z\" fill=\"#000000\" fill-rule=\"evenodd\" fill-opacity=\"1\" /><path clip-path=\"url(#clip090)\" d=\"M128.538 369.34 L150.76 369.34 L150.76 371.331 L138.214 403.9 L133.33 403.9 L145.135 373.275 L128.538 373.275 L128.538 369.34 Z\" fill=\"#000000\" fill-rule=\"evenodd\" fill-opacity=\"1\" /><path clip-path=\"url(#clip090)\" d=\"M63.5152 187.061 Q59.9041 187.061 58.0754 190.626 Q56.2699 194.167 56.2699 201.297 Q56.2699 208.403 58.0754 211.968 Q59.9041 215.51 63.5152 215.51 Q67.1494 215.51 68.955 211.968 Q70.7837 208.403 70.7837 201.297 Q70.7837 194.167 68.955 190.626 Q67.1494 187.061 63.5152 187.061 M63.5152 183.357 Q69.3254 183.357 72.3809 187.964 Q75.4596 192.547 75.4596 201.297 Q75.4596 210.024 72.3809 214.63 Q69.3254 219.214 63.5152 219.214 Q57.7051 219.214 54.6264 214.63 Q51.5708 210.024 51.5708 201.297 Q51.5708 192.547 54.6264 187.964 Q57.7051 183.357 63.5152 183.357 Z\" fill=\"#000000\" fill-rule=\"evenodd\" fill-opacity=\"1\" /><path clip-path=\"url(#clip090)\" d=\"M83.6771 212.663 L88.5614 212.663 L88.5614 218.542 L83.6771 218.542 L83.6771 212.663 Z\" fill=\"#000000\" fill-rule=\"evenodd\" fill-opacity=\"1\" /><path clip-path=\"url(#clip090)\" d=\"M108.746 187.061 Q105.135 187.061 103.307 190.626 Q101.501 194.167 101.501 201.297 Q101.501 208.403 103.307 211.968 Q105.135 215.51 108.746 215.51 Q112.381 215.51 114.186 211.968 Q116.015 208.403 116.015 201.297 Q116.015 194.167 114.186 190.626 Q112.381 187.061 108.746 187.061 M108.746 183.357 Q114.557 183.357 117.612 187.964 Q120.691 192.547 120.691 201.297 Q120.691 210.024 117.612 214.63 Q114.557 219.214 108.746 219.214 Q102.936 219.214 99.8576 214.63 Q96.8021 210.024 96.8021 201.297 Q96.8021 192.547 99.8576 187.964 Q102.936 183.357 108.746 183.357 Z\" fill=\"#000000\" fill-rule=\"evenodd\" fill-opacity=\"1\" /><path clip-path=\"url(#clip090)\" d=\"M138.908 202.13 Q135.575 202.13 133.654 203.913 Q131.756 205.695 131.756 208.82 Q131.756 211.945 133.654 213.727 Q135.575 215.51 138.908 215.51 Q142.242 215.51 144.163 213.727 Q146.084 211.922 146.084 208.82 Q146.084 205.695 144.163 203.913 Q142.265 202.13 138.908 202.13 M134.232 200.14 Q131.223 199.399 129.533 197.339 Q127.867 195.278 127.867 192.316 Q127.867 188.172 130.807 185.765 Q133.769 183.357 138.908 183.357 Q144.07 183.357 147.01 185.765 Q149.95 188.172 149.95 192.316 Q149.95 195.278 148.26 197.339 Q146.593 199.399 143.607 200.14 Q146.987 200.927 148.862 203.218 Q150.76 205.51 150.76 208.82 Q150.76 213.843 147.681 216.528 Q144.626 219.214 138.908 219.214 Q133.191 219.214 130.112 216.528 Q127.057 213.843 127.057 208.82 Q127.057 205.51 128.955 203.218 Q130.853 200.927 134.232 200.14 M132.519 192.755 Q132.519 195.44 134.186 196.945 Q135.876 198.45 138.908 198.45 Q141.918 198.45 143.607 196.945 Q145.32 195.44 145.32 192.755 Q145.32 190.07 143.607 188.566 Q141.918 187.061 138.908 187.061 Q135.876 187.061 134.186 188.566 Q132.519 190.07 132.519 192.755 Z\" fill=\"#000000\" fill-rule=\"evenodd\" fill-opacity=\"1\" /><path clip-path=\"url(#clip090)\" d=\"M506.628 12.096 L514.852 12.096 L514.852 48.8377 Q514.852 58.5599 518.376 62.8538 Q521.9 67.1073 529.8 67.1073 Q537.658 67.1073 541.183 62.8538 Q544.707 58.5599 544.707 48.8377 L544.707 12.096 L552.93 12.096 L552.93 49.8504 Q552.93 61.6791 547.056 67.7149 Q541.223 73.7508 529.8 73.7508 Q518.336 73.7508 512.462 67.7149 Q506.628 61.6791 506.628 49.8504 L506.628 12.096 Z\" fill=\"#000000\" fill-rule=\"evenodd\" fill-opacity=\"1\" /><path clip-path=\"url(#clip090)\" d=\"M575.332 14.324 L575.332 27.2059 L590.685 27.2059 L590.685 32.9987 L575.332 32.9987 L575.332 57.6282 Q575.332 63.1779 576.831 64.7578 Q578.37 66.3376 583.028 66.3376 L590.685 66.3376 L590.685 72.576 L583.028 72.576 Q574.4 72.576 571.119 69.3758 Q567.838 66.1351 567.838 57.6282 L567.838 32.9987 L562.369 32.9987 L562.369 27.2059 L567.838 27.2059 L567.838 14.324 L575.332 14.324 Z\" fill=\"#000000\" fill-rule=\"evenodd\" fill-opacity=\"1\" /><path clip-path=\"url(#clip090)\" d=\"M600.488 27.2059 L607.942 27.2059 L607.942 72.576 L600.488 72.576 L600.488 27.2059 M600.488 9.54393 L607.942 9.54393 L607.942 18.9825 L600.488 18.9825 L600.488 9.54393 Z\" fill=\"#000000\" fill-rule=\"evenodd\" fill-opacity=\"1\" /><path clip-path=\"url(#clip090)\" d=\"M623.538 9.54393 L630.991 9.54393 L630.991 72.576 L623.538 72.576 L623.538 9.54393 Z\" fill=\"#000000\" fill-rule=\"evenodd\" fill-opacity=\"1\" /><path clip-path=\"url(#clip090)\" d=\"M646.587 27.2059 L654.041 27.2059 L654.041 72.576 L646.587 72.576 L646.587 27.2059 M646.587 9.54393 L654.041 9.54393 L654.041 18.9825 L646.587 18.9825 L646.587 9.54393 Z\" fill=\"#000000\" fill-rule=\"evenodd\" fill-opacity=\"1\" /><path clip-path=\"url(#clip090)\" d=\"M677.009 14.324 L677.009 27.2059 L692.362 27.2059 L692.362 32.9987 L677.009 32.9987 L677.009 57.6282 Q677.009 63.1779 678.508 64.7578 Q680.048 66.3376 684.706 66.3376 L692.362 66.3376 L692.362 72.576 L684.706 72.576 Q676.078 72.576 672.797 69.3758 Q669.515 66.1351 669.515 57.6282 L669.515 32.9987 L664.047 32.9987 L664.047 27.2059 L669.515 27.2059 L669.515 14.324 L677.009 14.324 Z\" fill=\"#000000\" fill-rule=\"evenodd\" fill-opacity=\"1\" /><path clip-path=\"url(#clip090)\" d=\"M721.043 76.7889 Q717.883 84.8907 714.885 87.3618 Q711.888 89.8329 706.865 89.8329 L700.91 89.8329 L700.91 83.5945 L705.285 83.5945 Q708.363 83.5945 710.065 82.1361 Q711.766 80.6778 713.832 75.2496 L715.169 71.8468 L696.818 27.2059 L704.718 27.2059 L718.896 62.6918 L733.074 27.2059 L740.973 27.2059 L721.043 76.7889 Z\" fill=\"#000000\" fill-rule=\"evenodd\" fill-opacity=\"1\" /><path clip-path=\"url(#clip090)\" d=\"M777.634 9.54393 L785.088 9.54393 L785.088 72.576 L777.634 72.576 L777.634 9.54393 Z\" fill=\"#000000\" fill-rule=\"evenodd\" fill-opacity=\"1\" /><path clip-path=\"url(#clip090)\" d=\"M818.264 32.4315 Q812.269 32.4315 808.785 37.1306 Q805.302 41.7891 805.302 49.9314 Q805.302 58.0738 808.745 62.7728 Q812.229 67.4314 818.264 67.4314 Q824.219 67.4314 827.703 62.7323 Q831.187 58.0333 831.187 49.9314 Q831.187 41.8701 827.703 37.1711 Q824.219 32.4315 818.264 32.4315 M818.264 26.1121 Q827.987 26.1121 833.536 32.4315 Q839.086 38.7509 839.086 49.9314 Q839.086 61.0714 833.536 67.4314 Q827.987 73.7508 818.264 73.7508 Q808.502 73.7508 802.952 67.4314 Q797.443 61.0714 797.443 49.9314 Q797.443 38.7509 802.952 32.4315 Q808.502 26.1121 818.264 26.1121 Z\" fill=\"#000000\" fill-rule=\"evenodd\" fill-opacity=\"1\" /><path clip-path=\"url(#clip090)\" d=\"M880.365 28.5427 L880.365 35.5912 Q877.205 33.9709 873.802 33.1607 Q870.4 32.3505 866.754 32.3505 Q861.204 32.3505 858.409 34.0519 Q855.654 35.7533 855.654 39.156 Q855.654 41.7486 857.639 43.2475 Q859.624 44.7058 865.62 46.0426 L868.172 46.6097 Q876.111 48.3111 879.433 51.4303 Q882.795 54.509 882.795 60.0587 Q882.795 66.3781 877.772 70.0644 Q872.79 73.7508 864.04 73.7508 Q860.394 73.7508 856.424 73.0216 Q852.495 72.3329 848.12 70.9151 L848.12 63.2184 Q852.252 65.3654 856.262 66.4591 Q860.272 67.5124 864.202 67.5124 Q869.468 67.5124 872.304 65.73 Q875.139 63.9071 875.139 60.6258 Q875.139 57.5877 873.073 55.9673 Q871.048 54.3469 864.121 52.8481 L861.528 52.2405 Q854.601 50.7821 851.522 47.7845 Q848.444 44.7463 848.444 39.4801 Q848.444 33.0797 852.981 29.5959 Q857.518 26.1121 865.863 26.1121 Q869.995 26.1121 873.64 26.7198 Q877.286 27.3274 880.365 28.5427 Z\" fill=\"#000000\" fill-rule=\"evenodd\" fill-opacity=\"1\" /><path clip-path=\"url(#clip090)\" d=\"M923.588 28.5427 L923.588 35.5912 Q920.428 33.9709 917.026 33.1607 Q913.623 32.3505 909.977 32.3505 Q904.427 32.3505 901.632 34.0519 Q898.877 35.7533 898.877 39.156 Q898.877 41.7486 900.862 43.2475 Q902.847 44.7058 908.843 46.0426 L911.395 46.6097 Q919.335 48.3111 922.656 51.4303 Q926.019 54.509 926.019 60.0587 Q926.019 66.3781 920.995 70.0644 Q916.013 73.7508 907.263 73.7508 Q903.617 73.7508 899.647 73.0216 Q895.718 72.3329 891.343 70.9151 L891.343 63.2184 Q895.475 65.3654 899.485 66.4591 Q903.496 67.5124 907.425 67.5124 Q912.691 67.5124 915.527 65.73 Q918.362 63.9071 918.362 60.6258 Q918.362 57.5877 916.296 55.9673 Q914.271 54.3469 907.344 52.8481 L904.751 52.2405 Q897.824 50.7821 894.746 47.7845 Q891.667 44.7463 891.667 39.4801 Q891.667 33.0797 896.204 29.5959 Q900.741 26.1121 909.086 26.1121 Q913.218 26.1121 916.863 26.7198 Q920.509 27.3274 923.588 28.5427 Z\" fill=\"#000000\" fill-rule=\"evenodd\" fill-opacity=\"1\" /><path clip-path=\"url(#clip090)\" d=\"M996.828 49.9314 Q996.828 41.7081 993.426 37.0496 Q990.063 32.3505 984.149 32.3505 Q978.235 32.3505 974.832 37.0496 Q971.47 41.7081 971.47 49.9314 Q971.47 58.1548 974.832 62.8538 Q978.235 67.5124 984.149 67.5124 Q990.063 67.5124 993.426 62.8538 Q996.828 58.1548 996.828 49.9314 M971.47 34.0924 Q973.819 30.0415 977.384 28.0971 Q980.989 26.1121 985.972 26.1121 Q994.236 26.1121 999.38 32.6746 Q1004.57 39.2371 1004.57 49.9314 Q1004.57 60.6258 999.38 67.1883 Q994.236 73.7508 985.972 73.7508 Q980.989 73.7508 977.384 71.8063 Q973.819 69.8214 971.47 65.7705 L971.47 72.576 L963.976 72.576 L963.976 9.54393 L971.47 9.54393 L971.47 34.0924 Z\" fill=\"#000000\" fill-rule=\"evenodd\" fill-opacity=\"1\" /><path clip-path=\"url(#clip090)\" d=\"M1035.8 76.7889 Q1032.64 84.8907 1029.64 87.3618 Q1026.64 89.8329 1021.62 89.8329 L1015.67 89.8329 L1015.67 83.5945 L1020.04 83.5945 Q1023.12 83.5945 1024.82 82.1361 Q1026.52 80.6778 1028.59 75.2496 L1029.92 71.8468 L1011.57 27.2059 L1019.47 27.2059 L1033.65 62.6918 L1047.83 27.2059 L1055.73 27.2059 L1035.8 76.7889 Z\" fill=\"#000000\" fill-rule=\"evenodd\" fill-opacity=\"1\" /><path clip-path=\"url(#clip090)\" d=\"M1122.24 34.0924 L1122.24 9.54393 L1129.7 9.54393 L1129.7 72.576 L1122.24 72.576 L1122.24 65.7705 Q1119.89 69.8214 1116.29 71.8063 Q1112.72 73.7508 1107.7 73.7508 Q1099.48 73.7508 1094.29 67.1883 Q1089.15 60.6258 1089.15 49.9314 Q1089.15 39.2371 1094.29 32.6746 Q1099.48 26.1121 1107.7 26.1121 Q1112.72 26.1121 1116.29 28.0971 Q1119.89 30.0415 1122.24 34.0924 M1096.85 49.9314 Q1096.85 58.1548 1100.21 62.8538 Q1103.61 67.5124 1109.52 67.5124 Q1115.44 67.5124 1118.84 62.8538 Q1122.24 58.1548 1122.24 49.9314 Q1122.24 41.7081 1118.84 37.0496 Q1115.44 32.3505 1109.52 32.3505 Q1103.61 32.3505 1100.21 37.0496 Q1096.85 41.7081 1096.85 49.9314 Z\" fill=\"#000000\" fill-rule=\"evenodd\" fill-opacity=\"1\" /><path clip-path=\"url(#clip090)\" d=\"M1183.86 48.0275 L1183.86 51.6733 L1149.59 51.6733 Q1150.07 59.3701 1154.21 63.421 Q1158.38 67.4314 1165.79 67.4314 Q1170.09 67.4314 1174.1 66.3781 Q1178.15 65.3249 1182.12 63.2184 L1182.12 70.267 Q1178.11 71.9684 1173.89 72.8596 Q1169.68 73.7508 1165.35 73.7508 Q1154.49 73.7508 1148.13 67.4314 Q1141.81 61.1119 1141.81 50.3365 Q1141.81 39.1965 1147.81 32.6746 Q1153.84 26.1121 1164.05 26.1121 Q1173.2 26.1121 1178.51 32.0264 Q1183.86 37.9003 1183.86 48.0275 M1176.4 45.84 Q1176.32 39.7232 1172.96 36.0774 Q1169.64 32.4315 1164.13 32.4315 Q1157.89 32.4315 1154.12 35.9558 Q1150.4 39.4801 1149.83 45.8805 L1176.4 45.84 Z\" fill=\"#000000\" fill-rule=\"evenodd\" fill-opacity=\"1\" /><path clip-path=\"url(#clip090)\" d=\"M1228.74 28.9478 L1228.74 35.9153 Q1225.58 34.1734 1222.38 33.3227 Q1219.22 32.4315 1215.98 32.4315 Q1208.73 32.4315 1204.72 37.0496 Q1200.71 41.6271 1200.71 49.9314 Q1200.71 58.2358 1204.72 62.8538 Q1208.73 67.4314 1215.98 67.4314 Q1219.22 67.4314 1222.38 66.5807 Q1225.58 65.6895 1228.74 63.9476 L1228.74 70.8341 Q1225.62 72.2924 1222.26 73.0216 Q1218.94 73.7508 1215.17 73.7508 Q1204.92 73.7508 1198.89 67.3098 Q1192.85 60.8689 1192.85 49.9314 Q1192.85 38.832 1198.93 32.472 Q1205.04 26.1121 1215.66 26.1121 Q1219.1 26.1121 1222.38 26.8413 Q1225.66 27.5299 1228.74 28.9478 Z\" fill=\"#000000\" fill-rule=\"evenodd\" fill-opacity=\"1\" /><path clip-path=\"url(#clip090)\" d=\"M1241.71 27.2059 L1249.16 27.2059 L1249.16 72.576 L1241.71 72.576 L1241.71 27.2059 M1241.71 9.54393 L1249.16 9.54393 L1249.16 18.9825 L1241.71 18.9825 L1241.71 9.54393 Z\" fill=\"#000000\" fill-rule=\"evenodd\" fill-opacity=\"1\" /><path clip-path=\"url(#clip090)\" d=\"M1264.76 9.54393 L1272.21 9.54393 L1272.21 72.576 L1264.76 72.576 L1264.76 9.54393 Z\" fill=\"#000000\" fill-rule=\"evenodd\" fill-opacity=\"1\" /><path clip-path=\"url(#clip090)\" d=\"M1326.61 48.0275 L1326.61 51.6733 L1292.34 51.6733 Q1292.83 59.3701 1296.96 63.421 Q1301.13 67.4314 1308.55 67.4314 Q1312.84 67.4314 1316.85 66.3781 Q1320.9 65.3249 1324.87 63.2184 L1324.87 70.267 Q1320.86 71.9684 1316.65 72.8596 Q1312.43 73.7508 1308.1 73.7508 Q1297.24 73.7508 1290.88 67.4314 Q1284.56 61.1119 1284.56 50.3365 Q1284.56 39.1965 1290.56 32.6746 Q1296.6 26.1121 1306.8 26.1121 Q1315.96 26.1121 1321.27 32.0264 Q1326.61 37.9003 1326.61 48.0275 M1319.16 45.84 Q1319.08 39.7232 1315.72 36.0774 Q1312.39 32.4315 1306.88 32.4315 Q1300.65 32.4315 1296.88 35.9558 Q1293.15 39.4801 1292.58 45.8805 L1319.16 45.84 Z\" fill=\"#000000\" fill-rule=\"evenodd\" fill-opacity=\"1\" /><path clip-path=\"url(#clip090)\" d=\"M1367.77 28.5427 L1367.77 35.5912 Q1364.61 33.9709 1361.21 33.1607 Q1357.8 32.3505 1354.16 32.3505 Q1348.61 32.3505 1345.81 34.0519 Q1343.06 35.7533 1343.06 39.156 Q1343.06 41.7486 1345.04 43.2475 Q1347.03 44.7058 1353.02 46.0426 L1355.58 46.6097 Q1363.52 48.3111 1366.84 51.4303 Q1370.2 54.509 1370.2 60.0587 Q1370.2 66.3781 1365.18 70.0644 Q1360.19 73.7508 1351.44 73.7508 Q1347.8 73.7508 1343.83 73.0216 Q1339.9 72.3329 1335.52 70.9151 L1335.52 63.2184 Q1339.66 65.3654 1343.67 66.4591 Q1347.68 67.5124 1351.61 67.5124 Q1356.87 67.5124 1359.71 65.73 Q1362.54 63.9071 1362.54 60.6258 Q1362.54 57.5877 1360.48 55.9673 Q1358.45 54.3469 1351.53 52.8481 L1348.93 52.2405 Q1342.01 50.7821 1338.93 47.7845 Q1335.85 44.7463 1335.85 39.4801 Q1335.85 33.0797 1340.39 29.5959 Q1344.92 26.1121 1353.27 26.1121 Q1357.4 26.1121 1361.05 26.7198 Q1364.69 27.3274 1367.77 28.5427 Z\" fill=\"#000000\" fill-rule=\"evenodd\" fill-opacity=\"1\" /><path clip-path=\"url(#clip090)\" d=\"M1404.11 27.2059 L1411.56 27.2059 L1420.88 62.6108 L1430.15 27.2059 L1438.94 27.2059 L1448.26 62.6108 L1457.54 27.2059 L1464.99 27.2059 L1453.12 72.576 L1444.33 72.576 L1434.57 35.3887 L1424.77 72.576 L1415.98 72.576 L1404.11 27.2059 Z\" fill=\"#000000\" fill-rule=\"evenodd\" fill-opacity=\"1\" /><path clip-path=\"url(#clip090)\" d=\"M1476.29 27.2059 L1483.75 27.2059 L1483.75 72.576 L1476.29 72.576 L1476.29 27.2059 M1476.29 9.54393 L1483.75 9.54393 L1483.75 18.9825 L1476.29 18.9825 L1476.29 9.54393 Z\" fill=\"#000000\" fill-rule=\"evenodd\" fill-opacity=\"1\" /><path clip-path=\"url(#clip090)\" d=\"M1506.72 14.324 L1506.72 27.2059 L1522.07 27.2059 L1522.07 32.9987 L1506.72 32.9987 L1506.72 57.6282 Q1506.72 63.1779 1508.21 64.7578 Q1509.75 66.3376 1514.41 66.3376 L1522.07 66.3376 L1522.07 72.576 L1514.41 72.576 Q1505.78 72.576 1502.5 69.3758 Q1499.22 66.1351 1499.22 57.6282 L1499.22 32.9987 L1493.75 32.9987 L1493.75 27.2059 L1499.22 27.2059 L1499.22 14.324 L1506.72 14.324 Z\" fill=\"#000000\" fill-rule=\"evenodd\" fill-opacity=\"1\" /><path clip-path=\"url(#clip090)\" d=\"M1569.59 45.1919 L1569.59 72.576 L1562.13 72.576 L1562.13 45.4349 Q1562.13 38.994 1559.62 35.7938 Q1557.11 32.5936 1552.09 32.5936 Q1546.05 32.5936 1542.57 36.4419 Q1539.08 40.2903 1539.08 46.9338 L1539.08 72.576 L1531.59 72.576 L1531.59 9.54393 L1539.08 9.54393 L1539.08 34.2544 Q1541.76 30.163 1545.36 28.1376 Q1549.01 26.1121 1553.75 26.1121 Q1561.56 26.1121 1565.58 30.9732 Q1569.59 35.7938 1569.59 45.1919 Z\" fill=\"#000000\" fill-rule=\"evenodd\" fill-opacity=\"1\" /><path clip-path=\"url(#clip090)\" d=\"M1637.11 34.1734 Q1635.86 33.4443 1634.36 33.1202 Q1632.9 32.7556 1631.12 32.7556 Q1624.8 32.7556 1621.4 36.8875 Q1618.03 40.9789 1618.03 48.6757 L1618.03 72.576 L1610.54 72.576 L1610.54 27.2059 L1618.03 27.2059 L1618.03 34.2544 Q1620.38 30.1225 1624.15 28.1376 Q1627.92 26.1121 1633.31 26.1121 Q1634.08 26.1121 1635.01 26.2337 Q1635.94 26.3147 1637.07 26.5172 L1637.11 34.1734 Z\" fill=\"#000000\" fill-rule=\"evenodd\" fill-opacity=\"1\" /><path clip-path=\"url(#clip090)\" d=\"M1644.93 27.2059 L1652.39 27.2059 L1652.39 72.576 L1644.93 72.576 L1644.93 27.2059 M1644.93 9.54393 L1652.39 9.54393 L1652.39 18.9825 L1644.93 18.9825 L1644.93 9.54393 Z\" fill=\"#000000\" fill-rule=\"evenodd\" fill-opacity=\"1\" /><path clip-path=\"url(#clip090)\" d=\"M1697.84 49.3643 Q1697.84 41.2625 1694.48 36.8065 Q1691.15 32.3505 1685.12 32.3505 Q1679.12 32.3505 1675.76 36.8065 Q1672.44 41.2625 1672.44 49.3643 Q1672.44 57.4256 1675.76 61.8816 Q1679.12 66.3376 1685.12 66.3376 Q1691.15 66.3376 1694.48 61.8816 Q1697.84 57.4256 1697.84 49.3643 M1705.29 66.9452 Q1705.29 78.5308 1700.15 84.1616 Q1695 89.8329 1684.39 89.8329 Q1680.46 89.8329 1676.98 89.2252 Q1673.49 88.6581 1670.21 87.4428 L1670.21 80.1917 Q1673.49 81.9741 1676.69 82.8248 Q1679.89 83.6755 1683.21 83.6755 Q1690.55 83.6755 1694.19 79.8271 Q1697.84 76.0193 1697.84 68.282 L1697.84 64.5957 Q1695.53 68.6061 1691.92 70.5911 Q1688.32 72.576 1683.29 72.576 Q1674.95 72.576 1669.85 66.2161 Q1664.74 59.8562 1664.74 49.3643 Q1664.74 38.832 1669.85 32.472 Q1674.95 26.1121 1683.29 26.1121 Q1688.32 26.1121 1691.92 28.0971 Q1695.53 30.082 1697.84 34.0924 L1697.84 27.2059 L1705.29 27.2059 L1705.29 66.9452 Z\" fill=\"#000000\" fill-rule=\"evenodd\" fill-opacity=\"1\" /><path clip-path=\"url(#clip090)\" d=\"M1720.64 27.2059 L1728.1 27.2059 L1728.1 72.576 L1720.64 72.576 L1720.64 27.2059 M1720.64 9.54393 L1728.1 9.54393 L1728.1 18.9825 L1720.64 18.9825 L1720.64 9.54393 Z\" fill=\"#000000\" fill-rule=\"evenodd\" fill-opacity=\"1\" /><path clip-path=\"url(#clip090)\" d=\"M1773.55 34.0924 L1773.55 9.54393 L1781 9.54393 L1781 72.576 L1773.55 72.576 L1773.55 65.7705 Q1771.2 69.8214 1767.59 71.8063 Q1764.03 73.7508 1759.01 73.7508 Q1750.78 73.7508 1745.6 67.1883 Q1740.45 60.6258 1740.45 49.9314 Q1740.45 39.2371 1745.6 32.6746 Q1750.78 26.1121 1759.01 26.1121 Q1764.03 26.1121 1767.59 28.0971 Q1771.2 30.0415 1773.55 34.0924 M1748.15 49.9314 Q1748.15 58.1548 1751.51 62.8538 Q1754.91 67.5124 1760.83 67.5124 Q1766.74 67.5124 1770.15 62.8538 Q1773.55 58.1548 1773.55 49.9314 Q1773.55 41.7081 1770.15 37.0496 Q1766.74 32.3505 1760.83 32.3505 Q1754.91 32.3505 1751.51 37.0496 Q1748.15 41.7081 1748.15 49.9314 Z\" fill=\"#000000\" fill-rule=\"evenodd\" fill-opacity=\"1\" /><path clip-path=\"url(#clip090)\" d=\"M1818.39 27.2059 L1825.85 27.2059 L1835.16 62.6108 L1844.44 27.2059 L1853.23 27.2059 L1862.55 62.6108 L1871.82 27.2059 L1879.28 27.2059 L1867.41 72.576 L1858.62 72.576 L1848.86 35.3887 L1839.05 72.576 L1830.26 72.576 L1818.39 27.2059 Z\" fill=\"#000000\" fill-rule=\"evenodd\" fill-opacity=\"1\" /><path clip-path=\"url(#clip090)\" d=\"M1911.2 49.7694 Q1902.16 49.7694 1898.68 51.8354 Q1895.2 53.9013 1895.2 58.8839 Q1895.2 62.8538 1897.79 65.2034 Q1900.42 67.5124 1904.92 67.5124 Q1911.12 67.5124 1914.84 63.1374 Q1918.61 58.7219 1918.61 51.4303 L1918.61 49.7694 L1911.2 49.7694 M1926.07 46.6907 L1926.07 72.576 L1918.61 72.576 L1918.61 65.6895 Q1916.06 69.8214 1912.25 71.8063 Q1908.44 73.7508 1902.93 73.7508 Q1895.97 73.7508 1891.84 69.8619 Q1887.74 65.9325 1887.74 59.3701 Q1887.74 51.7138 1892.85 47.825 Q1897.99 43.9361 1908.16 43.9361 L1918.61 43.9361 L1918.61 43.2069 Q1918.61 38.0623 1915.21 35.2672 Q1911.85 32.4315 1905.73 32.4315 Q1901.84 32.4315 1898.15 33.3632 Q1894.47 34.295 1891.07 36.1584 L1891.07 29.2718 Q1895.16 27.692 1899.01 26.9223 Q1902.85 26.1121 1906.5 26.1121 Q1916.34 26.1121 1921.2 31.2163 Q1926.07 36.3204 1926.07 46.6907 Z\" fill=\"#000000\" fill-rule=\"evenodd\" fill-opacity=\"1\" /><path clip-path=\"url(#clip090)\" d=\"M1971.27 49.3643 Q1971.27 41.2625 1967.91 36.8065 Q1964.59 32.3505 1958.55 32.3505 Q1952.56 32.3505 1949.2 36.8065 Q1945.87 41.2625 1945.87 49.3643 Q1945.87 57.4256 1949.2 61.8816 Q1952.56 66.3376 1958.55 66.3376 Q1964.59 66.3376 1967.91 61.8816 Q1971.27 57.4256 1971.27 49.3643 M1978.73 66.9452 Q1978.73 78.5308 1973.58 84.1616 Q1968.44 89.8329 1957.82 89.8329 Q1953.89 89.8329 1950.41 89.2252 Q1946.93 88.6581 1943.65 87.4428 L1943.65 80.1917 Q1946.93 81.9741 1950.13 82.8248 Q1953.33 83.6755 1956.65 83.6755 Q1963.98 83.6755 1967.63 79.8271 Q1971.27 76.0193 1971.27 68.282 L1971.27 64.5957 Q1968.96 68.6061 1965.36 70.5911 Q1961.75 72.576 1956.73 72.576 Q1948.39 72.576 1943.28 66.2161 Q1938.18 59.8562 1938.18 49.3643 Q1938.18 38.832 1943.28 32.472 Q1948.39 26.1121 1956.73 26.1121 Q1961.75 26.1121 1965.36 28.0971 Q1968.96 30.082 1971.27 34.0924 L1971.27 27.2059 L1978.73 27.2059 L1978.73 66.9452 Z\" fill=\"#000000\" fill-rule=\"evenodd\" fill-opacity=\"1\" /><path clip-path=\"url(#clip090)\" d=\"M2032.89 48.0275 L2032.89 51.6733 L1998.62 51.6733 Q1999.1 59.3701 2003.23 63.421 Q2007.41 67.4314 2014.82 67.4314 Q2019.11 67.4314 2023.12 66.3781 Q2027.18 65.3249 2031.15 63.2184 L2031.15 70.267 Q2027.14 71.9684 2022.92 72.8596 Q2018.71 73.7508 2014.37 73.7508 Q2003.52 73.7508 1997.16 67.4314 Q1990.84 61.1119 1990.84 50.3365 Q1990.84 39.1965 1996.83 32.6746 Q2002.87 26.1121 2013.08 26.1121 Q2022.23 26.1121 2027.54 32.0264 Q2032.89 37.9003 2032.89 48.0275 M2025.43 45.84 Q2025.35 39.7232 2021.99 36.0774 Q2018.67 32.4315 2013.16 32.4315 Q2006.92 32.4315 2003.15 35.9558 Q1999.43 39.4801 1998.86 45.8805 L2025.43 45.84 Z\" fill=\"#000000\" fill-rule=\"evenodd\" fill-opacity=\"1\" /><polyline clip-path=\"url(#clip092)\" style=\"stroke:#009af9; stroke-linecap:butt; stroke-linejoin:round; stroke-width:4; stroke-opacity:1; fill:none\" points=\"\n  248.062,162.047 475.105,249.585 702.149,571.105 929.193,833.383 1156.24,931.968 1383.28,1047.05 1610.32,988.178 1837.37,1064.45 2064.41,1273.93 2291.45,1447.87 \n  \n  \"/>\n<path clip-path=\"url(#clip090)\" d=\"\nM1987.46 272.585 L2280.56 272.585 L2280.56 168.905 L1987.46 168.905  Z\n  \" fill=\"#ffffff\" fill-rule=\"evenodd\" fill-opacity=\"1\"/>\n<polyline clip-path=\"url(#clip090)\" style=\"stroke:#000000; stroke-linecap:butt; stroke-linejoin:round; stroke-width:4; stroke-opacity:1; fill:none\" points=\"\n  1987.46,272.585 2280.56,272.585 2280.56,168.905 1987.46,168.905 1987.46,272.585 \n  \"/>\n<polyline clip-path=\"url(#clip090)\" style=\"stroke:#009af9; stroke-linecap:butt; stroke-linejoin:round; stroke-width:4; stroke-opacity:1; fill:none\" points=\"\n  2011.53,220.745 2155.93,220.745 \n  \"/>\n<path clip-path=\"url(#clip090)\" d=\"M2193.84 240.432 Q2192.03 245.062 2190.32 246.474 Q2188.6 247.886 2185.73 247.886 L2182.33 247.886 L2182.33 244.321 L2184.83 244.321 Q2186.59 244.321 2187.56 243.488 Q2188.53 242.654 2189.71 239.552 L2190.48 237.608 L2179.99 212.099 L2184.51 212.099 L2192.61 232.377 L2200.71 212.099 L2205.22 212.099 L2193.84 240.432 Z\" fill=\"#000000\" fill-rule=\"evenodd\" fill-opacity=\"1\" /><path clip-path=\"url(#clip090)\" d=\"M2212.52 234.089 L2220.15 234.089 L2220.15 207.724 L2211.84 209.391 L2211.84 205.131 L2220.11 203.465 L2224.78 203.465 L2224.78 234.089 L2232.42 234.089 L2232.42 238.025 L2212.52 238.025 L2212.52 234.089 Z\" fill=\"#000000\" fill-rule=\"evenodd\" fill-opacity=\"1\" /></svg>\n",
      "text/html": [
       "<?xml version=\"1.0\" encoding=\"utf-8\"?>\n",
       "<svg xmlns=\"http://www.w3.org/2000/svg\" xmlns:xlink=\"http://www.w3.org/1999/xlink\" width=\"600\" height=\"400\" viewBox=\"0 0 2400 1600\">\n",
       "<defs>\n",
       "  <clipPath id=\"clip140\">\n",
       "    <rect x=\"0\" y=\"0\" width=\"2400\" height=\"1600\"/>\n",
       "  </clipPath>\n",
       "</defs>\n",
       "<path clip-path=\"url(#clip140)\" d=\"\n",
       "M0 1600 L2400 1600 L2400 0 L0 0  Z\n",
       "  \" fill=\"#ffffff\" fill-rule=\"evenodd\" fill-opacity=\"1\"/>\n",
       "<defs>\n",
       "  <clipPath id=\"clip141\">\n",
       "    <rect x=\"480\" y=\"0\" width=\"1681\" height=\"1600\"/>\n",
       "  </clipPath>\n",
       "</defs>\n",
       "<path clip-path=\"url(#clip140)\" d=\"\n",
       "M186.76 1486.45 L2352.76 1486.45 L2352.76 123.472 L186.76 123.472  Z\n",
       "  \" fill=\"#ffffff\" fill-rule=\"evenodd\" fill-opacity=\"1\"/>\n",
       "<defs>\n",
       "  <clipPath id=\"clip142\">\n",
       "    <rect x=\"186\" y=\"123\" width=\"2167\" height=\"1364\"/>\n",
       "  </clipPath>\n",
       "</defs>\n",
       "<polyline clip-path=\"url(#clip142)\" style=\"stroke:#000000; stroke-linecap:butt; stroke-linejoin:round; stroke-width:2; stroke-opacity:0.1; fill:none\" points=\"\n",
       "  475.105,1486.45 475.105,123.472 \n",
       "  \"/>\n",
       "<polyline clip-path=\"url(#clip142)\" style=\"stroke:#000000; stroke-linecap:butt; stroke-linejoin:round; stroke-width:2; stroke-opacity:0.1; fill:none\" points=\"\n",
       "  929.193,1486.45 929.193,123.472 \n",
       "  \"/>\n",
       "<polyline clip-path=\"url(#clip142)\" style=\"stroke:#000000; stroke-linecap:butt; stroke-linejoin:round; stroke-width:2; stroke-opacity:0.1; fill:none\" points=\"\n",
       "  1383.28,1486.45 1383.28,123.472 \n",
       "  \"/>\n",
       "<polyline clip-path=\"url(#clip142)\" style=\"stroke:#000000; stroke-linecap:butt; stroke-linejoin:round; stroke-width:2; stroke-opacity:0.1; fill:none\" points=\"\n",
       "  1837.37,1486.45 1837.37,123.472 \n",
       "  \"/>\n",
       "<polyline clip-path=\"url(#clip142)\" style=\"stroke:#000000; stroke-linecap:butt; stroke-linejoin:round; stroke-width:2; stroke-opacity:0.1; fill:none\" points=\"\n",
       "  2291.45,1486.45 2291.45,123.472 \n",
       "  \"/>\n",
       "<polyline clip-path=\"url(#clip140)\" style=\"stroke:#000000; stroke-linecap:butt; stroke-linejoin:round; stroke-width:4; stroke-opacity:1; fill:none\" points=\"\n",
       "  186.76,1486.45 2352.76,1486.45 \n",
       "  \"/>\n",
       "<polyline clip-path=\"url(#clip140)\" style=\"stroke:#000000; stroke-linecap:butt; stroke-linejoin:round; stroke-width:4; stroke-opacity:1; fill:none\" points=\"\n",
       "  475.105,1486.45 475.105,1467.55 \n",
       "  \"/>\n",
       "<polyline clip-path=\"url(#clip140)\" style=\"stroke:#000000; stroke-linecap:butt; stroke-linejoin:round; stroke-width:4; stroke-opacity:1; fill:none\" points=\"\n",
       "  929.193,1486.45 929.193,1467.55 \n",
       "  \"/>\n",
       "<polyline clip-path=\"url(#clip140)\" style=\"stroke:#000000; stroke-linecap:butt; stroke-linejoin:round; stroke-width:4; stroke-opacity:1; fill:none\" points=\"\n",
       "  1383.28,1486.45 1383.28,1467.55 \n",
       "  \"/>\n",
       "<polyline clip-path=\"url(#clip140)\" style=\"stroke:#000000; stroke-linecap:butt; stroke-linejoin:round; stroke-width:4; stroke-opacity:1; fill:none\" points=\"\n",
       "  1837.37,1486.45 1837.37,1467.55 \n",
       "  \"/>\n",
       "<polyline clip-path=\"url(#clip140)\" style=\"stroke:#000000; stroke-linecap:butt; stroke-linejoin:round; stroke-width:4; stroke-opacity:1; fill:none\" points=\"\n",
       "  2291.45,1486.45 2291.45,1467.55 \n",
       "  \"/>\n",
       "<path clip-path=\"url(#clip140)\" d=\"M469.758 1544.91 L486.078 1544.91 L486.078 1548.85 L464.133 1548.85 L464.133 1544.91 Q466.795 1542.16 471.379 1537.53 Q475.985 1532.88 477.166 1531.53 Q479.411 1529.01 480.291 1527.27 Q481.193 1525.51 481.193 1523.82 Q481.193 1521.07 479.249 1519.33 Q477.328 1517.6 474.226 1517.6 Q472.027 1517.6 469.573 1518.36 Q467.143 1519.13 464.365 1520.68 L464.365 1515.95 Q467.189 1514.82 469.643 1514.24 Q472.096 1513.66 474.133 1513.66 Q479.504 1513.66 482.698 1516.35 Q485.892 1519.03 485.892 1523.52 Q485.892 1525.65 485.082 1527.57 Q484.295 1529.47 482.189 1532.07 Q481.61 1532.74 478.508 1535.95 Q475.406 1539.15 469.758 1544.91 Z\" fill=\"#000000\" fill-rule=\"evenodd\" fill-opacity=\"1\" /><path clip-path=\"url(#clip140)\" d=\"M932.202 1518.36 L920.396 1536.81 L932.202 1536.81 L932.202 1518.36 M930.975 1514.29 L936.855 1514.29 L936.855 1536.81 L941.785 1536.81 L941.785 1540.7 L936.855 1540.7 L936.855 1548.85 L932.202 1548.85 L932.202 1540.7 L916.6 1540.7 L916.6 1536.19 L930.975 1514.29 Z\" fill=\"#000000\" fill-rule=\"evenodd\" fill-opacity=\"1\" /><path clip-path=\"url(#clip140)\" d=\"M1383.68 1529.7 Q1380.54 1529.7 1378.68 1531.86 Q1376.86 1534.01 1376.86 1537.76 Q1376.86 1541.49 1378.68 1543.66 Q1380.54 1545.82 1383.68 1545.82 Q1386.83 1545.82 1388.66 1543.66 Q1390.51 1541.49 1390.51 1537.76 Q1390.51 1534.01 1388.66 1531.86 Q1386.83 1529.7 1383.68 1529.7 M1392.97 1515.05 L1392.97 1519.31 Q1391.21 1518.48 1389.4 1518.04 Q1387.62 1517.6 1385.86 1517.6 Q1381.23 1517.6 1378.78 1520.72 Q1376.35 1523.85 1376 1530.17 Q1377.37 1528.15 1379.43 1527.09 Q1381.49 1526 1383.96 1526 Q1389.17 1526 1392.18 1529.17 Q1395.21 1532.32 1395.21 1537.76 Q1395.21 1543.08 1392.06 1546.3 Q1388.92 1549.52 1383.68 1549.52 Q1377.69 1549.52 1374.52 1544.94 Q1371.35 1540.33 1371.35 1531.6 Q1371.35 1523.41 1375.24 1518.55 Q1379.12 1513.66 1385.68 1513.66 Q1387.43 1513.66 1389.22 1514.01 Q1391.02 1514.36 1392.97 1515.05 Z\" fill=\"#000000\" fill-rule=\"evenodd\" fill-opacity=\"1\" /><path clip-path=\"url(#clip140)\" d=\"M1837.37 1532.44 Q1834.03 1532.44 1832.11 1534.22 Q1830.21 1536 1830.21 1539.13 Q1830.21 1542.25 1832.11 1544.03 Q1834.03 1545.82 1837.37 1545.82 Q1840.7 1545.82 1842.62 1544.03 Q1844.54 1542.23 1844.54 1539.13 Q1844.54 1536 1842.62 1534.22 Q1840.72 1532.44 1837.37 1532.44 M1832.69 1530.45 Q1829.68 1529.7 1827.99 1527.64 Q1826.33 1525.58 1826.33 1522.62 Q1826.33 1518.48 1829.27 1516.07 Q1832.23 1513.66 1837.37 1513.66 Q1842.53 1513.66 1845.47 1516.07 Q1848.41 1518.48 1848.41 1522.62 Q1848.41 1525.58 1846.72 1527.64 Q1845.05 1529.7 1842.07 1530.45 Q1845.45 1531.23 1847.32 1533.52 Q1849.22 1535.82 1849.22 1539.13 Q1849.22 1544.15 1846.14 1546.83 Q1843.08 1549.52 1837.37 1549.52 Q1831.65 1549.52 1828.57 1546.83 Q1825.52 1544.15 1825.52 1539.13 Q1825.52 1535.82 1827.41 1533.52 Q1829.31 1531.23 1832.69 1530.45 M1830.98 1523.06 Q1830.98 1525.75 1832.64 1527.25 Q1834.33 1528.76 1837.37 1528.76 Q1840.38 1528.76 1842.07 1527.25 Q1843.78 1525.75 1843.78 1523.06 Q1843.78 1520.38 1842.07 1518.87 Q1840.38 1517.37 1837.37 1517.37 Q1834.33 1517.37 1832.64 1518.87 Q1830.98 1520.38 1830.98 1523.06 Z\" fill=\"#000000\" fill-rule=\"evenodd\" fill-opacity=\"1\" /><path clip-path=\"url(#clip140)\" d=\"M2266.14 1544.91 L2273.78 1544.91 L2273.78 1518.55 L2265.47 1520.21 L2265.47 1515.95 L2273.73 1514.29 L2278.41 1514.29 L2278.41 1544.91 L2286.05 1544.91 L2286.05 1548.85 L2266.14 1548.85 L2266.14 1544.91 Z\" fill=\"#000000\" fill-rule=\"evenodd\" fill-opacity=\"1\" /><path clip-path=\"url(#clip140)\" d=\"M2305.49 1517.37 Q2301.88 1517.37 2300.05 1520.93 Q2298.25 1524.47 2298.25 1531.6 Q2298.25 1538.71 2300.05 1542.27 Q2301.88 1545.82 2305.49 1545.82 Q2309.13 1545.82 2310.93 1542.27 Q2312.76 1538.71 2312.76 1531.6 Q2312.76 1524.47 2310.93 1520.93 Q2309.13 1517.37 2305.49 1517.37 M2305.49 1513.66 Q2311.3 1513.66 2314.36 1518.27 Q2317.44 1522.85 2317.44 1531.6 Q2317.44 1540.33 2314.36 1544.94 Q2311.3 1549.52 2305.49 1549.52 Q2299.68 1549.52 2296.6 1544.94 Q2293.55 1540.33 2293.55 1531.6 Q2293.55 1522.85 2296.6 1518.27 Q2299.68 1513.66 2305.49 1513.66 Z\" fill=\"#000000\" fill-rule=\"evenodd\" fill-opacity=\"1\" /><polyline clip-path=\"url(#clip142)\" style=\"stroke:#000000; stroke-linecap:butt; stroke-linejoin:round; stroke-width:2; stroke-opacity:0.1; fill:none\" points=\"\n",
       "  186.76,1313.41 2352.76,1313.41 \n",
       "  \"/>\n",
       "<polyline clip-path=\"url(#clip142)\" style=\"stroke:#000000; stroke-linecap:butt; stroke-linejoin:round; stroke-width:2; stroke-opacity:0.1; fill:none\" points=\"\n",
       "  186.76,1128.05 2352.76,1128.05 \n",
       "  \"/>\n",
       "<polyline clip-path=\"url(#clip142)\" style=\"stroke:#000000; stroke-linecap:butt; stroke-linejoin:round; stroke-width:2; stroke-opacity:0.1; fill:none\" points=\"\n",
       "  186.76,942.694 2352.76,942.694 \n",
       "  \"/>\n",
       "<polyline clip-path=\"url(#clip142)\" style=\"stroke:#000000; stroke-linecap:butt; stroke-linejoin:round; stroke-width:2; stroke-opacity:0.1; fill:none\" points=\"\n",
       "  186.76,757.336 2352.76,757.336 \n",
       "  \"/>\n",
       "<polyline clip-path=\"url(#clip142)\" style=\"stroke:#000000; stroke-linecap:butt; stroke-linejoin:round; stroke-width:2; stroke-opacity:0.1; fill:none\" points=\"\n",
       "  186.76,571.978 2352.76,571.978 \n",
       "  \"/>\n",
       "<polyline clip-path=\"url(#clip142)\" style=\"stroke:#000000; stroke-linecap:butt; stroke-linejoin:round; stroke-width:2; stroke-opacity:0.1; fill:none\" points=\"\n",
       "  186.76,386.62 2352.76,386.62 \n",
       "  \"/>\n",
       "<polyline clip-path=\"url(#clip142)\" style=\"stroke:#000000; stroke-linecap:butt; stroke-linejoin:round; stroke-width:2; stroke-opacity:0.1; fill:none\" points=\"\n",
       "  186.76,201.262 2352.76,201.262 \n",
       "  \"/>\n",
       "<polyline clip-path=\"url(#clip140)\" style=\"stroke:#000000; stroke-linecap:butt; stroke-linejoin:round; stroke-width:4; stroke-opacity:1; fill:none\" points=\"\n",
       "  186.76,1486.45 186.76,123.472 \n",
       "  \"/>\n",
       "<polyline clip-path=\"url(#clip140)\" style=\"stroke:#000000; stroke-linecap:butt; stroke-linejoin:round; stroke-width:4; stroke-opacity:1; fill:none\" points=\"\n",
       "  186.76,1313.41 205.658,1313.41 \n",
       "  \"/>\n",
       "<polyline clip-path=\"url(#clip140)\" style=\"stroke:#000000; stroke-linecap:butt; stroke-linejoin:round; stroke-width:4; stroke-opacity:1; fill:none\" points=\"\n",
       "  186.76,1128.05 205.658,1128.05 \n",
       "  \"/>\n",
       "<polyline clip-path=\"url(#clip140)\" style=\"stroke:#000000; stroke-linecap:butt; stroke-linejoin:round; stroke-width:4; stroke-opacity:1; fill:none\" points=\"\n",
       "  186.76,942.694 205.658,942.694 \n",
       "  \"/>\n",
       "<polyline clip-path=\"url(#clip140)\" style=\"stroke:#000000; stroke-linecap:butt; stroke-linejoin:round; stroke-width:4; stroke-opacity:1; fill:none\" points=\"\n",
       "  186.76,757.336 205.658,757.336 \n",
       "  \"/>\n",
       "<polyline clip-path=\"url(#clip140)\" style=\"stroke:#000000; stroke-linecap:butt; stroke-linejoin:round; stroke-width:4; stroke-opacity:1; fill:none\" points=\"\n",
       "  186.76,571.978 205.658,571.978 \n",
       "  \"/>\n",
       "<polyline clip-path=\"url(#clip140)\" style=\"stroke:#000000; stroke-linecap:butt; stroke-linejoin:round; stroke-width:4; stroke-opacity:1; fill:none\" points=\"\n",
       "  186.76,386.62 205.658,386.62 \n",
       "  \"/>\n",
       "<polyline clip-path=\"url(#clip140)\" style=\"stroke:#000000; stroke-linecap:butt; stroke-linejoin:round; stroke-width:4; stroke-opacity:1; fill:none\" points=\"\n",
       "  186.76,201.262 205.658,201.262 \n",
       "  \"/>\n",
       "<path clip-path=\"url(#clip140)\" d=\"M65.0198 1299.21 Q61.4087 1299.21 59.58 1302.77 Q57.7745 1306.32 57.7745 1313.45 Q57.7745 1320.55 59.58 1324.12 Q61.4087 1327.66 65.0198 1327.66 Q68.6541 1327.66 70.4596 1324.12 Q72.2883 1320.55 72.2883 1313.45 Q72.2883 1306.32 70.4596 1302.77 Q68.6541 1299.21 65.0198 1299.21 M65.0198 1295.51 Q70.83 1295.51 73.8855 1300.11 Q76.9642 1304.7 76.9642 1313.45 Q76.9642 1322.17 73.8855 1326.78 Q70.83 1331.36 65.0198 1331.36 Q59.2097 1331.36 56.131 1326.78 Q53.0754 1322.17 53.0754 1313.45 Q53.0754 1304.7 56.131 1300.11 Q59.2097 1295.51 65.0198 1295.51 Z\" fill=\"#000000\" fill-rule=\"evenodd\" fill-opacity=\"1\" /><path clip-path=\"url(#clip140)\" d=\"M85.1818 1324.81 L90.066 1324.81 L90.066 1330.69 L85.1818 1330.69 L85.1818 1324.81 Z\" fill=\"#000000\" fill-rule=\"evenodd\" fill-opacity=\"1\" /><path clip-path=\"url(#clip140)\" d=\"M110.251 1299.21 Q106.64 1299.21 104.811 1302.77 Q103.006 1306.32 103.006 1313.45 Q103.006 1320.55 104.811 1324.12 Q106.64 1327.66 110.251 1327.66 Q113.885 1327.66 115.691 1324.12 Q117.52 1320.55 117.52 1313.45 Q117.52 1306.32 115.691 1302.77 Q113.885 1299.21 110.251 1299.21 M110.251 1295.51 Q116.061 1295.51 119.117 1300.11 Q122.195 1304.7 122.195 1313.45 Q122.195 1322.17 119.117 1326.78 Q116.061 1331.36 110.251 1331.36 Q104.441 1331.36 101.362 1326.78 Q98.3067 1322.17 98.3067 1313.45 Q98.3067 1304.7 101.362 1300.11 Q104.441 1295.51 110.251 1295.51 Z\" fill=\"#000000\" fill-rule=\"evenodd\" fill-opacity=\"1\" /><path clip-path=\"url(#clip140)\" d=\"M134.441 1326.76 L150.76 1326.76 L150.76 1330.69 L128.816 1330.69 L128.816 1326.76 Q131.478 1324 136.061 1319.37 Q140.668 1314.72 141.848 1313.38 Q144.093 1310.85 144.973 1309.12 Q145.876 1307.36 145.876 1305.67 Q145.876 1302.91 143.931 1301.18 Q142.01 1299.44 138.908 1299.44 Q136.709 1299.44 134.256 1300.2 Q131.825 1300.97 129.047 1302.52 L129.047 1297.8 Q131.871 1296.66 134.325 1296.08 Q136.779 1295.51 138.816 1295.51 Q144.186 1295.51 147.38 1298.19 Q150.575 1300.88 150.575 1305.37 Q150.575 1307.5 149.765 1309.42 Q148.978 1311.32 146.871 1313.91 Q146.293 1314.58 143.191 1317.8 Q140.089 1320.99 134.441 1326.76 Z\" fill=\"#000000\" fill-rule=\"evenodd\" fill-opacity=\"1\" /><path clip-path=\"url(#clip140)\" d=\"M64.0708 1113.85 Q60.4597 1113.85 58.631 1117.42 Q56.8254 1120.96 56.8254 1128.09 Q56.8254 1135.19 58.631 1138.76 Q60.4597 1142.3 64.0708 1142.3 Q67.705 1142.3 69.5105 1138.76 Q71.3392 1135.19 71.3392 1128.09 Q71.3392 1120.96 69.5105 1117.42 Q67.705 1113.85 64.0708 1113.85 M64.0708 1110.15 Q69.8809 1110.15 72.9365 1114.75 Q76.0151 1119.34 76.0151 1128.09 Q76.0151 1136.81 72.9365 1141.42 Q69.8809 1146 64.0708 1146 Q58.2606 1146 55.1819 1141.42 Q52.1264 1136.81 52.1264 1128.09 Q52.1264 1119.34 55.1819 1114.75 Q58.2606 1110.15 64.0708 1110.15 Z\" fill=\"#000000\" fill-rule=\"evenodd\" fill-opacity=\"1\" /><path clip-path=\"url(#clip140)\" d=\"M84.2327 1139.45 L89.1169 1139.45 L89.1169 1145.33 L84.2327 1145.33 L84.2327 1139.45 Z\" fill=\"#000000\" fill-rule=\"evenodd\" fill-opacity=\"1\" /><path clip-path=\"url(#clip140)\" d=\"M109.302 1113.85 Q105.691 1113.85 103.862 1117.42 Q102.057 1120.96 102.057 1128.09 Q102.057 1135.19 103.862 1138.76 Q105.691 1142.3 109.302 1142.3 Q112.936 1142.3 114.742 1138.76 Q116.57 1135.19 116.57 1128.09 Q116.57 1120.96 114.742 1117.42 Q112.936 1113.85 109.302 1113.85 M109.302 1110.15 Q115.112 1110.15 118.168 1114.75 Q121.246 1119.34 121.246 1128.09 Q121.246 1136.81 118.168 1141.42 Q115.112 1146 109.302 1146 Q103.492 1146 100.413 1141.42 Q97.3576 1136.81 97.3576 1128.09 Q97.3576 1119.34 100.413 1114.75 Q103.492 1110.15 109.302 1110.15 Z\" fill=\"#000000\" fill-rule=\"evenodd\" fill-opacity=\"1\" /><path clip-path=\"url(#clip140)\" d=\"M143.631 1126.7 Q146.987 1127.42 148.862 1129.68 Q150.76 1131.95 150.76 1135.29 Q150.76 1140.4 147.242 1143.2 Q143.723 1146 137.242 1146 Q135.066 1146 132.751 1145.56 Q130.459 1145.15 128.006 1144.29 L128.006 1139.78 Q129.95 1140.91 132.265 1141.49 Q134.58 1142.07 137.103 1142.07 Q141.501 1142.07 143.793 1140.33 Q146.107 1138.6 146.107 1135.29 Q146.107 1132.23 143.955 1130.52 Q141.825 1128.78 138.006 1128.78 L133.978 1128.78 L133.978 1124.94 L138.191 1124.94 Q141.64 1124.94 143.468 1123.57 Q145.297 1122.18 145.297 1119.59 Q145.297 1116.93 143.399 1115.52 Q141.524 1114.08 138.006 1114.08 Q136.084 1114.08 133.885 1114.5 Q131.686 1114.92 129.047 1115.8 L129.047 1111.63 Q131.709 1110.89 134.024 1110.52 Q136.362 1110.15 138.422 1110.15 Q143.746 1110.15 146.848 1112.58 Q149.95 1114.99 149.95 1119.11 Q149.95 1121.98 148.306 1123.97 Q146.663 1125.93 143.631 1126.7 Z\" fill=\"#000000\" fill-rule=\"evenodd\" fill-opacity=\"1\" /><path clip-path=\"url(#clip140)\" d=\"M62.9365 928.493 Q59.3254 928.493 57.4967 932.058 Q55.6912 935.6 55.6912 942.729 Q55.6912 949.836 57.4967 953.4 Q59.3254 956.942 62.9365 956.942 Q66.5707 956.942 68.3763 953.4 Q70.205 949.836 70.205 942.729 Q70.205 935.6 68.3763 932.058 Q66.5707 928.493 62.9365 928.493 M62.9365 924.789 Q68.7467 924.789 71.8022 929.396 Q74.8809 933.979 74.8809 942.729 Q74.8809 951.456 71.8022 956.062 Q68.7467 960.646 62.9365 960.646 Q57.1264 960.646 54.0477 956.062 Q50.9921 951.456 50.9921 942.729 Q50.9921 933.979 54.0477 929.396 Q57.1264 924.789 62.9365 924.789 Z\" fill=\"#000000\" fill-rule=\"evenodd\" fill-opacity=\"1\" /><path clip-path=\"url(#clip140)\" d=\"M83.0984 954.095 L87.9827 954.095 L87.9827 959.974 L83.0984 959.974 L83.0984 954.095 Z\" fill=\"#000000\" fill-rule=\"evenodd\" fill-opacity=\"1\" /><path clip-path=\"url(#clip140)\" d=\"M108.168 928.493 Q104.557 928.493 102.728 932.058 Q100.922 935.6 100.922 942.729 Q100.922 949.836 102.728 953.4 Q104.557 956.942 108.168 956.942 Q111.802 956.942 113.608 953.4 Q115.436 949.836 115.436 942.729 Q115.436 935.6 113.608 932.058 Q111.802 928.493 108.168 928.493 M108.168 924.789 Q113.978 924.789 117.033 929.396 Q120.112 933.979 120.112 942.729 Q120.112 951.456 117.033 956.062 Q113.978 960.646 108.168 960.646 Q102.358 960.646 99.2789 956.062 Q96.2234 951.456 96.2234 942.729 Q96.2234 933.979 99.2789 929.396 Q102.358 924.789 108.168 924.789 Z\" fill=\"#000000\" fill-rule=\"evenodd\" fill-opacity=\"1\" /><path clip-path=\"url(#clip140)\" d=\"M141.177 929.488 L129.371 947.937 L141.177 947.937 L141.177 929.488 M139.95 925.414 L145.83 925.414 L145.83 947.937 L150.76 947.937 L150.76 951.826 L145.83 951.826 L145.83 959.974 L141.177 959.974 L141.177 951.826 L125.575 951.826 L125.575 947.312 L139.95 925.414 Z\" fill=\"#000000\" fill-rule=\"evenodd\" fill-opacity=\"1\" /><path clip-path=\"url(#clip140)\" d=\"M64.418 743.135 Q60.8069 743.135 58.9782 746.7 Q57.1726 750.242 57.1726 757.371 Q57.1726 764.478 58.9782 768.042 Q60.8069 771.584 64.418 771.584 Q68.0522 771.584 69.8578 768.042 Q71.6865 764.478 71.6865 757.371 Q71.6865 750.242 69.8578 746.7 Q68.0522 743.135 64.418 743.135 M64.418 739.431 Q70.2281 739.431 73.2837 744.038 Q76.3624 748.621 76.3624 757.371 Q76.3624 766.098 73.2837 770.704 Q70.2281 775.288 64.418 775.288 Q58.6078 775.288 55.5291 770.704 Q52.4736 766.098 52.4736 757.371 Q52.4736 748.621 55.5291 744.038 Q58.6078 739.431 64.418 739.431 Z\" fill=\"#000000\" fill-rule=\"evenodd\" fill-opacity=\"1\" /><path clip-path=\"url(#clip140)\" d=\"M84.5799 768.737 L89.4641 768.737 L89.4641 774.616 L84.5799 774.616 L84.5799 768.737 Z\" fill=\"#000000\" fill-rule=\"evenodd\" fill-opacity=\"1\" /><path clip-path=\"url(#clip140)\" d=\"M109.649 743.135 Q106.038 743.135 104.209 746.7 Q102.404 750.242 102.404 757.371 Q102.404 764.478 104.209 768.042 Q106.038 771.584 109.649 771.584 Q113.283 771.584 115.089 768.042 Q116.918 764.478 116.918 757.371 Q116.918 750.242 115.089 746.7 Q113.283 743.135 109.649 743.135 M109.649 739.431 Q115.459 739.431 118.515 744.038 Q121.594 748.621 121.594 757.371 Q121.594 766.098 118.515 770.704 Q115.459 775.288 109.649 775.288 Q103.839 775.288 100.76 770.704 Q97.7048 766.098 97.7048 757.371 Q97.7048 748.621 100.76 744.038 Q103.839 739.431 109.649 739.431 Z\" fill=\"#000000\" fill-rule=\"evenodd\" fill-opacity=\"1\" /><path clip-path=\"url(#clip140)\" d=\"M129.857 740.056 L148.214 740.056 L148.214 743.992 L134.14 743.992 L134.14 752.464 Q135.158 752.116 136.177 751.954 Q137.195 751.769 138.214 751.769 Q144.001 751.769 147.38 754.941 Q150.76 758.112 150.76 763.528 Q150.76 769.107 147.288 772.209 Q143.816 775.288 137.496 775.288 Q135.32 775.288 133.052 774.917 Q130.807 774.547 128.399 773.806 L128.399 769.107 Q130.482 770.241 132.705 770.797 Q134.927 771.352 137.404 771.352 Q141.408 771.352 143.746 769.246 Q146.084 767.14 146.084 763.528 Q146.084 759.917 143.746 757.811 Q141.408 755.704 137.404 755.704 Q135.529 755.704 133.654 756.121 Q131.802 756.538 129.857 757.417 L129.857 740.056 Z\" fill=\"#000000\" fill-rule=\"evenodd\" fill-opacity=\"1\" /><path clip-path=\"url(#clip140)\" d=\"M63.2606 557.777 Q59.6495 557.777 57.8208 561.342 Q56.0152 564.883 56.0152 572.013 Q56.0152 579.119 57.8208 582.684 Q59.6495 586.226 63.2606 586.226 Q66.8948 586.226 68.7004 582.684 Q70.5291 579.119 70.5291 572.013 Q70.5291 564.883 68.7004 561.342 Q66.8948 557.777 63.2606 557.777 M63.2606 554.073 Q69.0707 554.073 72.1263 558.68 Q75.205 563.263 75.205 572.013 Q75.205 580.74 72.1263 585.346 Q69.0707 589.93 63.2606 589.93 Q57.4504 589.93 54.3717 585.346 Q51.3162 580.74 51.3162 572.013 Q51.3162 563.263 54.3717 558.68 Q57.4504 554.073 63.2606 554.073 Z\" fill=\"#000000\" fill-rule=\"evenodd\" fill-opacity=\"1\" /><path clip-path=\"url(#clip140)\" d=\"M83.4225 583.379 L88.3067 583.379 L88.3067 589.258 L83.4225 589.258 L83.4225 583.379 Z\" fill=\"#000000\" fill-rule=\"evenodd\" fill-opacity=\"1\" /><path clip-path=\"url(#clip140)\" d=\"M108.492 557.777 Q104.881 557.777 103.052 561.342 Q101.246 564.883 101.246 572.013 Q101.246 579.119 103.052 582.684 Q104.881 586.226 108.492 586.226 Q112.126 586.226 113.932 582.684 Q115.76 579.119 115.76 572.013 Q115.76 564.883 113.932 561.342 Q112.126 557.777 108.492 557.777 M108.492 554.073 Q114.302 554.073 117.358 558.68 Q120.436 563.263 120.436 572.013 Q120.436 580.74 117.358 585.346 Q114.302 589.93 108.492 589.93 Q102.682 589.93 99.603 585.346 Q96.5474 580.74 96.5474 572.013 Q96.5474 563.263 99.603 558.68 Q102.682 554.073 108.492 554.073 Z\" fill=\"#000000\" fill-rule=\"evenodd\" fill-opacity=\"1\" /><path clip-path=\"url(#clip140)\" d=\"M139.232 570.115 Q136.084 570.115 134.232 572.268 Q132.404 574.42 132.404 578.17 Q132.404 581.897 134.232 584.073 Q136.084 586.226 139.232 586.226 Q142.381 586.226 144.209 584.073 Q146.061 581.897 146.061 578.17 Q146.061 574.42 144.209 572.268 Q142.381 570.115 139.232 570.115 M148.515 555.462 L148.515 559.721 Q146.756 558.888 144.95 558.448 Q143.168 558.008 141.408 558.008 Q136.779 558.008 134.325 561.133 Q131.894 564.258 131.547 570.578 Q132.913 568.564 134.973 567.499 Q137.033 566.411 139.51 566.411 Q144.718 566.411 147.728 569.582 Q150.76 572.731 150.76 578.17 Q150.76 583.494 147.612 586.712 Q144.464 589.93 139.232 589.93 Q133.237 589.93 130.066 585.346 Q126.894 580.74 126.894 572.013 Q126.894 563.819 130.783 558.958 Q134.672 554.073 141.223 554.073 Q142.982 554.073 144.765 554.421 Q146.57 554.768 148.515 555.462 Z\" fill=\"#000000\" fill-rule=\"evenodd\" fill-opacity=\"1\" /><path clip-path=\"url(#clip140)\" d=\"M64.3254 372.419 Q60.7143 372.419 58.8856 375.984 Q57.0801 379.525 57.0801 386.655 Q57.0801 393.761 58.8856 397.326 Q60.7143 400.868 64.3254 400.868 Q67.9596 400.868 69.7652 397.326 Q71.5939 393.761 71.5939 386.655 Q71.5939 379.525 69.7652 375.984 Q67.9596 372.419 64.3254 372.419 M64.3254 368.715 Q70.1355 368.715 73.1911 373.322 Q76.2698 377.905 76.2698 386.655 Q76.2698 395.382 73.1911 399.988 Q70.1355 404.572 64.3254 404.572 Q58.5152 404.572 55.4365 399.988 Q52.381 395.382 52.381 386.655 Q52.381 377.905 55.4365 373.322 Q58.5152 368.715 64.3254 368.715 Z\" fill=\"#000000\" fill-rule=\"evenodd\" fill-opacity=\"1\" /><path clip-path=\"url(#clip140)\" d=\"M84.4873 398.021 L89.3715 398.021 L89.3715 403.9 L84.4873 403.9 L84.4873 398.021 Z\" fill=\"#000000\" fill-rule=\"evenodd\" fill-opacity=\"1\" /><path clip-path=\"url(#clip140)\" d=\"M109.557 372.419 Q105.946 372.419 104.117 375.984 Q102.311 379.525 102.311 386.655 Q102.311 393.761 104.117 397.326 Q105.946 400.868 109.557 400.868 Q113.191 400.868 114.996 397.326 Q116.825 393.761 116.825 386.655 Q116.825 379.525 114.996 375.984 Q113.191 372.419 109.557 372.419 M109.557 368.715 Q115.367 368.715 118.422 373.322 Q121.501 377.905 121.501 386.655 Q121.501 395.382 118.422 399.988 Q115.367 404.572 109.557 404.572 Q103.746 404.572 100.668 399.988 Q97.6122 395.382 97.6122 386.655 Q97.6122 377.905 100.668 373.322 Q103.746 368.715 109.557 368.715 Z\" fill=\"#000000\" fill-rule=\"evenodd\" fill-opacity=\"1\" /><path clip-path=\"url(#clip140)\" d=\"M128.538 369.34 L150.76 369.34 L150.76 371.331 L138.214 403.9 L133.33 403.9 L145.135 373.275 L128.538 373.275 L128.538 369.34 Z\" fill=\"#000000\" fill-rule=\"evenodd\" fill-opacity=\"1\" /><path clip-path=\"url(#clip140)\" d=\"M63.5152 187.061 Q59.9041 187.061 58.0754 190.626 Q56.2699 194.167 56.2699 201.297 Q56.2699 208.403 58.0754 211.968 Q59.9041 215.51 63.5152 215.51 Q67.1494 215.51 68.955 211.968 Q70.7837 208.403 70.7837 201.297 Q70.7837 194.167 68.955 190.626 Q67.1494 187.061 63.5152 187.061 M63.5152 183.357 Q69.3254 183.357 72.3809 187.964 Q75.4596 192.547 75.4596 201.297 Q75.4596 210.024 72.3809 214.63 Q69.3254 219.214 63.5152 219.214 Q57.7051 219.214 54.6264 214.63 Q51.5708 210.024 51.5708 201.297 Q51.5708 192.547 54.6264 187.964 Q57.7051 183.357 63.5152 183.357 Z\" fill=\"#000000\" fill-rule=\"evenodd\" fill-opacity=\"1\" /><path clip-path=\"url(#clip140)\" d=\"M83.6771 212.663 L88.5614 212.663 L88.5614 218.542 L83.6771 218.542 L83.6771 212.663 Z\" fill=\"#000000\" fill-rule=\"evenodd\" fill-opacity=\"1\" /><path clip-path=\"url(#clip140)\" d=\"M108.746 187.061 Q105.135 187.061 103.307 190.626 Q101.501 194.167 101.501 201.297 Q101.501 208.403 103.307 211.968 Q105.135 215.51 108.746 215.51 Q112.381 215.51 114.186 211.968 Q116.015 208.403 116.015 201.297 Q116.015 194.167 114.186 190.626 Q112.381 187.061 108.746 187.061 M108.746 183.357 Q114.557 183.357 117.612 187.964 Q120.691 192.547 120.691 201.297 Q120.691 210.024 117.612 214.63 Q114.557 219.214 108.746 219.214 Q102.936 219.214 99.8576 214.63 Q96.8021 210.024 96.8021 201.297 Q96.8021 192.547 99.8576 187.964 Q102.936 183.357 108.746 183.357 Z\" fill=\"#000000\" fill-rule=\"evenodd\" fill-opacity=\"1\" /><path clip-path=\"url(#clip140)\" d=\"M138.908 202.13 Q135.575 202.13 133.654 203.913 Q131.756 205.695 131.756 208.82 Q131.756 211.945 133.654 213.727 Q135.575 215.51 138.908 215.51 Q142.242 215.51 144.163 213.727 Q146.084 211.922 146.084 208.82 Q146.084 205.695 144.163 203.913 Q142.265 202.13 138.908 202.13 M134.232 200.14 Q131.223 199.399 129.533 197.339 Q127.867 195.278 127.867 192.316 Q127.867 188.172 130.807 185.765 Q133.769 183.357 138.908 183.357 Q144.07 183.357 147.01 185.765 Q149.95 188.172 149.95 192.316 Q149.95 195.278 148.26 197.339 Q146.593 199.399 143.607 200.14 Q146.987 200.927 148.862 203.218 Q150.76 205.51 150.76 208.82 Q150.76 213.843 147.681 216.528 Q144.626 219.214 138.908 219.214 Q133.191 219.214 130.112 216.528 Q127.057 213.843 127.057 208.82 Q127.057 205.51 128.955 203.218 Q130.853 200.927 134.232 200.14 M132.519 192.755 Q132.519 195.44 134.186 196.945 Q135.876 198.45 138.908 198.45 Q141.918 198.45 143.607 196.945 Q145.32 195.44 145.32 192.755 Q145.32 190.07 143.607 188.566 Q141.918 187.061 138.908 187.061 Q135.876 187.061 134.186 188.566 Q132.519 190.07 132.519 192.755 Z\" fill=\"#000000\" fill-rule=\"evenodd\" fill-opacity=\"1\" /><path clip-path=\"url(#clip140)\" d=\"M506.628 12.096 L514.852 12.096 L514.852 48.8377 Q514.852 58.5599 518.376 62.8538 Q521.9 67.1073 529.8 67.1073 Q537.658 67.1073 541.183 62.8538 Q544.707 58.5599 544.707 48.8377 L544.707 12.096 L552.93 12.096 L552.93 49.8504 Q552.93 61.6791 547.056 67.7149 Q541.223 73.7508 529.8 73.7508 Q518.336 73.7508 512.462 67.7149 Q506.628 61.6791 506.628 49.8504 L506.628 12.096 Z\" fill=\"#000000\" fill-rule=\"evenodd\" fill-opacity=\"1\" /><path clip-path=\"url(#clip140)\" d=\"M575.332 14.324 L575.332 27.2059 L590.685 27.2059 L590.685 32.9987 L575.332 32.9987 L575.332 57.6282 Q575.332 63.1779 576.831 64.7578 Q578.37 66.3376 583.028 66.3376 L590.685 66.3376 L590.685 72.576 L583.028 72.576 Q574.4 72.576 571.119 69.3758 Q567.838 66.1351 567.838 57.6282 L567.838 32.9987 L562.369 32.9987 L562.369 27.2059 L567.838 27.2059 L567.838 14.324 L575.332 14.324 Z\" fill=\"#000000\" fill-rule=\"evenodd\" fill-opacity=\"1\" /><path clip-path=\"url(#clip140)\" d=\"M600.488 27.2059 L607.942 27.2059 L607.942 72.576 L600.488 72.576 L600.488 27.2059 M600.488 9.54393 L607.942 9.54393 L607.942 18.9825 L600.488 18.9825 L600.488 9.54393 Z\" fill=\"#000000\" fill-rule=\"evenodd\" fill-opacity=\"1\" /><path clip-path=\"url(#clip140)\" d=\"M623.538 9.54393 L630.991 9.54393 L630.991 72.576 L623.538 72.576 L623.538 9.54393 Z\" fill=\"#000000\" fill-rule=\"evenodd\" fill-opacity=\"1\" /><path clip-path=\"url(#clip140)\" d=\"M646.587 27.2059 L654.041 27.2059 L654.041 72.576 L646.587 72.576 L646.587 27.2059 M646.587 9.54393 L654.041 9.54393 L654.041 18.9825 L646.587 18.9825 L646.587 9.54393 Z\" fill=\"#000000\" fill-rule=\"evenodd\" fill-opacity=\"1\" /><path clip-path=\"url(#clip140)\" d=\"M677.009 14.324 L677.009 27.2059 L692.362 27.2059 L692.362 32.9987 L677.009 32.9987 L677.009 57.6282 Q677.009 63.1779 678.508 64.7578 Q680.048 66.3376 684.706 66.3376 L692.362 66.3376 L692.362 72.576 L684.706 72.576 Q676.078 72.576 672.797 69.3758 Q669.515 66.1351 669.515 57.6282 L669.515 32.9987 L664.047 32.9987 L664.047 27.2059 L669.515 27.2059 L669.515 14.324 L677.009 14.324 Z\" fill=\"#000000\" fill-rule=\"evenodd\" fill-opacity=\"1\" /><path clip-path=\"url(#clip140)\" d=\"M721.043 76.7889 Q717.883 84.8907 714.885 87.3618 Q711.888 89.8329 706.865 89.8329 L700.91 89.8329 L700.91 83.5945 L705.285 83.5945 Q708.363 83.5945 710.065 82.1361 Q711.766 80.6778 713.832 75.2496 L715.169 71.8468 L696.818 27.2059 L704.718 27.2059 L718.896 62.6918 L733.074 27.2059 L740.973 27.2059 L721.043 76.7889 Z\" fill=\"#000000\" fill-rule=\"evenodd\" fill-opacity=\"1\" /><path clip-path=\"url(#clip140)\" d=\"M777.634 9.54393 L785.088 9.54393 L785.088 72.576 L777.634 72.576 L777.634 9.54393 Z\" fill=\"#000000\" fill-rule=\"evenodd\" fill-opacity=\"1\" /><path clip-path=\"url(#clip140)\" d=\"M818.264 32.4315 Q812.269 32.4315 808.785 37.1306 Q805.302 41.7891 805.302 49.9314 Q805.302 58.0738 808.745 62.7728 Q812.229 67.4314 818.264 67.4314 Q824.219 67.4314 827.703 62.7323 Q831.187 58.0333 831.187 49.9314 Q831.187 41.8701 827.703 37.1711 Q824.219 32.4315 818.264 32.4315 M818.264 26.1121 Q827.987 26.1121 833.536 32.4315 Q839.086 38.7509 839.086 49.9314 Q839.086 61.0714 833.536 67.4314 Q827.987 73.7508 818.264 73.7508 Q808.502 73.7508 802.952 67.4314 Q797.443 61.0714 797.443 49.9314 Q797.443 38.7509 802.952 32.4315 Q808.502 26.1121 818.264 26.1121 Z\" fill=\"#000000\" fill-rule=\"evenodd\" fill-opacity=\"1\" /><path clip-path=\"url(#clip140)\" d=\"M880.365 28.5427 L880.365 35.5912 Q877.205 33.9709 873.802 33.1607 Q870.4 32.3505 866.754 32.3505 Q861.204 32.3505 858.409 34.0519 Q855.654 35.7533 855.654 39.156 Q855.654 41.7486 857.639 43.2475 Q859.624 44.7058 865.62 46.0426 L868.172 46.6097 Q876.111 48.3111 879.433 51.4303 Q882.795 54.509 882.795 60.0587 Q882.795 66.3781 877.772 70.0644 Q872.79 73.7508 864.04 73.7508 Q860.394 73.7508 856.424 73.0216 Q852.495 72.3329 848.12 70.9151 L848.12 63.2184 Q852.252 65.3654 856.262 66.4591 Q860.272 67.5124 864.202 67.5124 Q869.468 67.5124 872.304 65.73 Q875.139 63.9071 875.139 60.6258 Q875.139 57.5877 873.073 55.9673 Q871.048 54.3469 864.121 52.8481 L861.528 52.2405 Q854.601 50.7821 851.522 47.7845 Q848.444 44.7463 848.444 39.4801 Q848.444 33.0797 852.981 29.5959 Q857.518 26.1121 865.863 26.1121 Q869.995 26.1121 873.64 26.7198 Q877.286 27.3274 880.365 28.5427 Z\" fill=\"#000000\" fill-rule=\"evenodd\" fill-opacity=\"1\" /><path clip-path=\"url(#clip140)\" d=\"M923.588 28.5427 L923.588 35.5912 Q920.428 33.9709 917.026 33.1607 Q913.623 32.3505 909.977 32.3505 Q904.427 32.3505 901.632 34.0519 Q898.877 35.7533 898.877 39.156 Q898.877 41.7486 900.862 43.2475 Q902.847 44.7058 908.843 46.0426 L911.395 46.6097 Q919.335 48.3111 922.656 51.4303 Q926.019 54.509 926.019 60.0587 Q926.019 66.3781 920.995 70.0644 Q916.013 73.7508 907.263 73.7508 Q903.617 73.7508 899.647 73.0216 Q895.718 72.3329 891.343 70.9151 L891.343 63.2184 Q895.475 65.3654 899.485 66.4591 Q903.496 67.5124 907.425 67.5124 Q912.691 67.5124 915.527 65.73 Q918.362 63.9071 918.362 60.6258 Q918.362 57.5877 916.296 55.9673 Q914.271 54.3469 907.344 52.8481 L904.751 52.2405 Q897.824 50.7821 894.746 47.7845 Q891.667 44.7463 891.667 39.4801 Q891.667 33.0797 896.204 29.5959 Q900.741 26.1121 909.086 26.1121 Q913.218 26.1121 916.863 26.7198 Q920.509 27.3274 923.588 28.5427 Z\" fill=\"#000000\" fill-rule=\"evenodd\" fill-opacity=\"1\" /><path clip-path=\"url(#clip140)\" d=\"M996.828 49.9314 Q996.828 41.7081 993.426 37.0496 Q990.063 32.3505 984.149 32.3505 Q978.235 32.3505 974.832 37.0496 Q971.47 41.7081 971.47 49.9314 Q971.47 58.1548 974.832 62.8538 Q978.235 67.5124 984.149 67.5124 Q990.063 67.5124 993.426 62.8538 Q996.828 58.1548 996.828 49.9314 M971.47 34.0924 Q973.819 30.0415 977.384 28.0971 Q980.989 26.1121 985.972 26.1121 Q994.236 26.1121 999.38 32.6746 Q1004.57 39.2371 1004.57 49.9314 Q1004.57 60.6258 999.38 67.1883 Q994.236 73.7508 985.972 73.7508 Q980.989 73.7508 977.384 71.8063 Q973.819 69.8214 971.47 65.7705 L971.47 72.576 L963.976 72.576 L963.976 9.54393 L971.47 9.54393 L971.47 34.0924 Z\" fill=\"#000000\" fill-rule=\"evenodd\" fill-opacity=\"1\" /><path clip-path=\"url(#clip140)\" d=\"M1035.8 76.7889 Q1032.64 84.8907 1029.64 87.3618 Q1026.64 89.8329 1021.62 89.8329 L1015.67 89.8329 L1015.67 83.5945 L1020.04 83.5945 Q1023.12 83.5945 1024.82 82.1361 Q1026.52 80.6778 1028.59 75.2496 L1029.92 71.8468 L1011.57 27.2059 L1019.47 27.2059 L1033.65 62.6918 L1047.83 27.2059 L1055.73 27.2059 L1035.8 76.7889 Z\" fill=\"#000000\" fill-rule=\"evenodd\" fill-opacity=\"1\" /><path clip-path=\"url(#clip140)\" d=\"M1122.24 34.0924 L1122.24 9.54393 L1129.7 9.54393 L1129.7 72.576 L1122.24 72.576 L1122.24 65.7705 Q1119.89 69.8214 1116.29 71.8063 Q1112.72 73.7508 1107.7 73.7508 Q1099.48 73.7508 1094.29 67.1883 Q1089.15 60.6258 1089.15 49.9314 Q1089.15 39.2371 1094.29 32.6746 Q1099.48 26.1121 1107.7 26.1121 Q1112.72 26.1121 1116.29 28.0971 Q1119.89 30.0415 1122.24 34.0924 M1096.85 49.9314 Q1096.85 58.1548 1100.21 62.8538 Q1103.61 67.5124 1109.52 67.5124 Q1115.44 67.5124 1118.84 62.8538 Q1122.24 58.1548 1122.24 49.9314 Q1122.24 41.7081 1118.84 37.0496 Q1115.44 32.3505 1109.52 32.3505 Q1103.61 32.3505 1100.21 37.0496 Q1096.85 41.7081 1096.85 49.9314 Z\" fill=\"#000000\" fill-rule=\"evenodd\" fill-opacity=\"1\" /><path clip-path=\"url(#clip140)\" d=\"M1183.86 48.0275 L1183.86 51.6733 L1149.59 51.6733 Q1150.07 59.3701 1154.21 63.421 Q1158.38 67.4314 1165.79 67.4314 Q1170.09 67.4314 1174.1 66.3781 Q1178.15 65.3249 1182.12 63.2184 L1182.12 70.267 Q1178.11 71.9684 1173.89 72.8596 Q1169.68 73.7508 1165.35 73.7508 Q1154.49 73.7508 1148.13 67.4314 Q1141.81 61.1119 1141.81 50.3365 Q1141.81 39.1965 1147.81 32.6746 Q1153.84 26.1121 1164.05 26.1121 Q1173.2 26.1121 1178.51 32.0264 Q1183.86 37.9003 1183.86 48.0275 M1176.4 45.84 Q1176.32 39.7232 1172.96 36.0774 Q1169.64 32.4315 1164.13 32.4315 Q1157.89 32.4315 1154.12 35.9558 Q1150.4 39.4801 1149.83 45.8805 L1176.4 45.84 Z\" fill=\"#000000\" fill-rule=\"evenodd\" fill-opacity=\"1\" /><path clip-path=\"url(#clip140)\" d=\"M1228.74 28.9478 L1228.74 35.9153 Q1225.58 34.1734 1222.38 33.3227 Q1219.22 32.4315 1215.98 32.4315 Q1208.73 32.4315 1204.72 37.0496 Q1200.71 41.6271 1200.71 49.9314 Q1200.71 58.2358 1204.72 62.8538 Q1208.73 67.4314 1215.98 67.4314 Q1219.22 67.4314 1222.38 66.5807 Q1225.58 65.6895 1228.74 63.9476 L1228.74 70.8341 Q1225.62 72.2924 1222.26 73.0216 Q1218.94 73.7508 1215.17 73.7508 Q1204.92 73.7508 1198.89 67.3098 Q1192.85 60.8689 1192.85 49.9314 Q1192.85 38.832 1198.93 32.472 Q1205.04 26.1121 1215.66 26.1121 Q1219.1 26.1121 1222.38 26.8413 Q1225.66 27.5299 1228.74 28.9478 Z\" fill=\"#000000\" fill-rule=\"evenodd\" fill-opacity=\"1\" /><path clip-path=\"url(#clip140)\" d=\"M1241.71 27.2059 L1249.16 27.2059 L1249.16 72.576 L1241.71 72.576 L1241.71 27.2059 M1241.71 9.54393 L1249.16 9.54393 L1249.16 18.9825 L1241.71 18.9825 L1241.71 9.54393 Z\" fill=\"#000000\" fill-rule=\"evenodd\" fill-opacity=\"1\" /><path clip-path=\"url(#clip140)\" d=\"M1264.76 9.54393 L1272.21 9.54393 L1272.21 72.576 L1264.76 72.576 L1264.76 9.54393 Z\" fill=\"#000000\" fill-rule=\"evenodd\" fill-opacity=\"1\" /><path clip-path=\"url(#clip140)\" d=\"M1326.61 48.0275 L1326.61 51.6733 L1292.34 51.6733 Q1292.83 59.3701 1296.96 63.421 Q1301.13 67.4314 1308.55 67.4314 Q1312.84 67.4314 1316.85 66.3781 Q1320.9 65.3249 1324.87 63.2184 L1324.87 70.267 Q1320.86 71.9684 1316.65 72.8596 Q1312.43 73.7508 1308.1 73.7508 Q1297.24 73.7508 1290.88 67.4314 Q1284.56 61.1119 1284.56 50.3365 Q1284.56 39.1965 1290.56 32.6746 Q1296.6 26.1121 1306.8 26.1121 Q1315.96 26.1121 1321.27 32.0264 Q1326.61 37.9003 1326.61 48.0275 M1319.16 45.84 Q1319.08 39.7232 1315.72 36.0774 Q1312.39 32.4315 1306.88 32.4315 Q1300.65 32.4315 1296.88 35.9558 Q1293.15 39.4801 1292.58 45.8805 L1319.16 45.84 Z\" fill=\"#000000\" fill-rule=\"evenodd\" fill-opacity=\"1\" /><path clip-path=\"url(#clip140)\" d=\"M1367.77 28.5427 L1367.77 35.5912 Q1364.61 33.9709 1361.21 33.1607 Q1357.8 32.3505 1354.16 32.3505 Q1348.61 32.3505 1345.81 34.0519 Q1343.06 35.7533 1343.06 39.156 Q1343.06 41.7486 1345.04 43.2475 Q1347.03 44.7058 1353.02 46.0426 L1355.58 46.6097 Q1363.52 48.3111 1366.84 51.4303 Q1370.2 54.509 1370.2 60.0587 Q1370.2 66.3781 1365.18 70.0644 Q1360.19 73.7508 1351.44 73.7508 Q1347.8 73.7508 1343.83 73.0216 Q1339.9 72.3329 1335.52 70.9151 L1335.52 63.2184 Q1339.66 65.3654 1343.67 66.4591 Q1347.68 67.5124 1351.61 67.5124 Q1356.87 67.5124 1359.71 65.73 Q1362.54 63.9071 1362.54 60.6258 Q1362.54 57.5877 1360.48 55.9673 Q1358.45 54.3469 1351.53 52.8481 L1348.93 52.2405 Q1342.01 50.7821 1338.93 47.7845 Q1335.85 44.7463 1335.85 39.4801 Q1335.85 33.0797 1340.39 29.5959 Q1344.92 26.1121 1353.27 26.1121 Q1357.4 26.1121 1361.05 26.7198 Q1364.69 27.3274 1367.77 28.5427 Z\" fill=\"#000000\" fill-rule=\"evenodd\" fill-opacity=\"1\" /><path clip-path=\"url(#clip140)\" d=\"M1404.11 27.2059 L1411.56 27.2059 L1420.88 62.6108 L1430.15 27.2059 L1438.94 27.2059 L1448.26 62.6108 L1457.54 27.2059 L1464.99 27.2059 L1453.12 72.576 L1444.33 72.576 L1434.57 35.3887 L1424.77 72.576 L1415.98 72.576 L1404.11 27.2059 Z\" fill=\"#000000\" fill-rule=\"evenodd\" fill-opacity=\"1\" /><path clip-path=\"url(#clip140)\" d=\"M1476.29 27.2059 L1483.75 27.2059 L1483.75 72.576 L1476.29 72.576 L1476.29 27.2059 M1476.29 9.54393 L1483.75 9.54393 L1483.75 18.9825 L1476.29 18.9825 L1476.29 9.54393 Z\" fill=\"#000000\" fill-rule=\"evenodd\" fill-opacity=\"1\" /><path clip-path=\"url(#clip140)\" d=\"M1506.72 14.324 L1506.72 27.2059 L1522.07 27.2059 L1522.07 32.9987 L1506.72 32.9987 L1506.72 57.6282 Q1506.72 63.1779 1508.21 64.7578 Q1509.75 66.3376 1514.41 66.3376 L1522.07 66.3376 L1522.07 72.576 L1514.41 72.576 Q1505.78 72.576 1502.5 69.3758 Q1499.22 66.1351 1499.22 57.6282 L1499.22 32.9987 L1493.75 32.9987 L1493.75 27.2059 L1499.22 27.2059 L1499.22 14.324 L1506.72 14.324 Z\" fill=\"#000000\" fill-rule=\"evenodd\" fill-opacity=\"1\" /><path clip-path=\"url(#clip140)\" d=\"M1569.59 45.1919 L1569.59 72.576 L1562.13 72.576 L1562.13 45.4349 Q1562.13 38.994 1559.62 35.7938 Q1557.11 32.5936 1552.09 32.5936 Q1546.05 32.5936 1542.57 36.4419 Q1539.08 40.2903 1539.08 46.9338 L1539.08 72.576 L1531.59 72.576 L1531.59 9.54393 L1539.08 9.54393 L1539.08 34.2544 Q1541.76 30.163 1545.36 28.1376 Q1549.01 26.1121 1553.75 26.1121 Q1561.56 26.1121 1565.58 30.9732 Q1569.59 35.7938 1569.59 45.1919 Z\" fill=\"#000000\" fill-rule=\"evenodd\" fill-opacity=\"1\" /><path clip-path=\"url(#clip140)\" d=\"M1637.11 34.1734 Q1635.86 33.4443 1634.36 33.1202 Q1632.9 32.7556 1631.12 32.7556 Q1624.8 32.7556 1621.4 36.8875 Q1618.03 40.9789 1618.03 48.6757 L1618.03 72.576 L1610.54 72.576 L1610.54 27.2059 L1618.03 27.2059 L1618.03 34.2544 Q1620.38 30.1225 1624.15 28.1376 Q1627.92 26.1121 1633.31 26.1121 Q1634.08 26.1121 1635.01 26.2337 Q1635.94 26.3147 1637.07 26.5172 L1637.11 34.1734 Z\" fill=\"#000000\" fill-rule=\"evenodd\" fill-opacity=\"1\" /><path clip-path=\"url(#clip140)\" d=\"M1644.93 27.2059 L1652.39 27.2059 L1652.39 72.576 L1644.93 72.576 L1644.93 27.2059 M1644.93 9.54393 L1652.39 9.54393 L1652.39 18.9825 L1644.93 18.9825 L1644.93 9.54393 Z\" fill=\"#000000\" fill-rule=\"evenodd\" fill-opacity=\"1\" /><path clip-path=\"url(#clip140)\" d=\"M1697.84 49.3643 Q1697.84 41.2625 1694.48 36.8065 Q1691.15 32.3505 1685.12 32.3505 Q1679.12 32.3505 1675.76 36.8065 Q1672.44 41.2625 1672.44 49.3643 Q1672.44 57.4256 1675.76 61.8816 Q1679.12 66.3376 1685.12 66.3376 Q1691.15 66.3376 1694.48 61.8816 Q1697.84 57.4256 1697.84 49.3643 M1705.29 66.9452 Q1705.29 78.5308 1700.15 84.1616 Q1695 89.8329 1684.39 89.8329 Q1680.46 89.8329 1676.98 89.2252 Q1673.49 88.6581 1670.21 87.4428 L1670.21 80.1917 Q1673.49 81.9741 1676.69 82.8248 Q1679.89 83.6755 1683.21 83.6755 Q1690.55 83.6755 1694.19 79.8271 Q1697.84 76.0193 1697.84 68.282 L1697.84 64.5957 Q1695.53 68.6061 1691.92 70.5911 Q1688.32 72.576 1683.29 72.576 Q1674.95 72.576 1669.85 66.2161 Q1664.74 59.8562 1664.74 49.3643 Q1664.74 38.832 1669.85 32.472 Q1674.95 26.1121 1683.29 26.1121 Q1688.32 26.1121 1691.92 28.0971 Q1695.53 30.082 1697.84 34.0924 L1697.84 27.2059 L1705.29 27.2059 L1705.29 66.9452 Z\" fill=\"#000000\" fill-rule=\"evenodd\" fill-opacity=\"1\" /><path clip-path=\"url(#clip140)\" d=\"M1720.64 27.2059 L1728.1 27.2059 L1728.1 72.576 L1720.64 72.576 L1720.64 27.2059 M1720.64 9.54393 L1728.1 9.54393 L1728.1 18.9825 L1720.64 18.9825 L1720.64 9.54393 Z\" fill=\"#000000\" fill-rule=\"evenodd\" fill-opacity=\"1\" /><path clip-path=\"url(#clip140)\" d=\"M1773.55 34.0924 L1773.55 9.54393 L1781 9.54393 L1781 72.576 L1773.55 72.576 L1773.55 65.7705 Q1771.2 69.8214 1767.59 71.8063 Q1764.03 73.7508 1759.01 73.7508 Q1750.78 73.7508 1745.6 67.1883 Q1740.45 60.6258 1740.45 49.9314 Q1740.45 39.2371 1745.6 32.6746 Q1750.78 26.1121 1759.01 26.1121 Q1764.03 26.1121 1767.59 28.0971 Q1771.2 30.0415 1773.55 34.0924 M1748.15 49.9314 Q1748.15 58.1548 1751.51 62.8538 Q1754.91 67.5124 1760.83 67.5124 Q1766.74 67.5124 1770.15 62.8538 Q1773.55 58.1548 1773.55 49.9314 Q1773.55 41.7081 1770.15 37.0496 Q1766.74 32.3505 1760.83 32.3505 Q1754.91 32.3505 1751.51 37.0496 Q1748.15 41.7081 1748.15 49.9314 Z\" fill=\"#000000\" fill-rule=\"evenodd\" fill-opacity=\"1\" /><path clip-path=\"url(#clip140)\" d=\"M1818.39 27.2059 L1825.85 27.2059 L1835.16 62.6108 L1844.44 27.2059 L1853.23 27.2059 L1862.55 62.6108 L1871.82 27.2059 L1879.28 27.2059 L1867.41 72.576 L1858.62 72.576 L1848.86 35.3887 L1839.05 72.576 L1830.26 72.576 L1818.39 27.2059 Z\" fill=\"#000000\" fill-rule=\"evenodd\" fill-opacity=\"1\" /><path clip-path=\"url(#clip140)\" d=\"M1911.2 49.7694 Q1902.16 49.7694 1898.68 51.8354 Q1895.2 53.9013 1895.2 58.8839 Q1895.2 62.8538 1897.79 65.2034 Q1900.42 67.5124 1904.92 67.5124 Q1911.12 67.5124 1914.84 63.1374 Q1918.61 58.7219 1918.61 51.4303 L1918.61 49.7694 L1911.2 49.7694 M1926.07 46.6907 L1926.07 72.576 L1918.61 72.576 L1918.61 65.6895 Q1916.06 69.8214 1912.25 71.8063 Q1908.44 73.7508 1902.93 73.7508 Q1895.97 73.7508 1891.84 69.8619 Q1887.74 65.9325 1887.74 59.3701 Q1887.74 51.7138 1892.85 47.825 Q1897.99 43.9361 1908.16 43.9361 L1918.61 43.9361 L1918.61 43.2069 Q1918.61 38.0623 1915.21 35.2672 Q1911.85 32.4315 1905.73 32.4315 Q1901.84 32.4315 1898.15 33.3632 Q1894.47 34.295 1891.07 36.1584 L1891.07 29.2718 Q1895.16 27.692 1899.01 26.9223 Q1902.85 26.1121 1906.5 26.1121 Q1916.34 26.1121 1921.2 31.2163 Q1926.07 36.3204 1926.07 46.6907 Z\" fill=\"#000000\" fill-rule=\"evenodd\" fill-opacity=\"1\" /><path clip-path=\"url(#clip140)\" d=\"M1971.27 49.3643 Q1971.27 41.2625 1967.91 36.8065 Q1964.59 32.3505 1958.55 32.3505 Q1952.56 32.3505 1949.2 36.8065 Q1945.87 41.2625 1945.87 49.3643 Q1945.87 57.4256 1949.2 61.8816 Q1952.56 66.3376 1958.55 66.3376 Q1964.59 66.3376 1967.91 61.8816 Q1971.27 57.4256 1971.27 49.3643 M1978.73 66.9452 Q1978.73 78.5308 1973.58 84.1616 Q1968.44 89.8329 1957.82 89.8329 Q1953.89 89.8329 1950.41 89.2252 Q1946.93 88.6581 1943.65 87.4428 L1943.65 80.1917 Q1946.93 81.9741 1950.13 82.8248 Q1953.33 83.6755 1956.65 83.6755 Q1963.98 83.6755 1967.63 79.8271 Q1971.27 76.0193 1971.27 68.282 L1971.27 64.5957 Q1968.96 68.6061 1965.36 70.5911 Q1961.75 72.576 1956.73 72.576 Q1948.39 72.576 1943.28 66.2161 Q1938.18 59.8562 1938.18 49.3643 Q1938.18 38.832 1943.28 32.472 Q1948.39 26.1121 1956.73 26.1121 Q1961.75 26.1121 1965.36 28.0971 Q1968.96 30.082 1971.27 34.0924 L1971.27 27.2059 L1978.73 27.2059 L1978.73 66.9452 Z\" fill=\"#000000\" fill-rule=\"evenodd\" fill-opacity=\"1\" /><path clip-path=\"url(#clip140)\" d=\"M2032.89 48.0275 L2032.89 51.6733 L1998.62 51.6733 Q1999.1 59.3701 2003.23 63.421 Q2007.41 67.4314 2014.82 67.4314 Q2019.11 67.4314 2023.12 66.3781 Q2027.18 65.3249 2031.15 63.2184 L2031.15 70.267 Q2027.14 71.9684 2022.92 72.8596 Q2018.71 73.7508 2014.37 73.7508 Q2003.52 73.7508 1997.16 67.4314 Q1990.84 61.1119 1990.84 50.3365 Q1990.84 39.1965 1996.83 32.6746 Q2002.87 26.1121 2013.08 26.1121 Q2022.23 26.1121 2027.54 32.0264 Q2032.89 37.9003 2032.89 48.0275 M2025.43 45.84 Q2025.35 39.7232 2021.99 36.0774 Q2018.67 32.4315 2013.16 32.4315 Q2006.92 32.4315 2003.15 35.9558 Q1999.43 39.4801 1998.86 45.8805 L2025.43 45.84 Z\" fill=\"#000000\" fill-rule=\"evenodd\" fill-opacity=\"1\" /><polyline clip-path=\"url(#clip142)\" style=\"stroke:#009af9; stroke-linecap:butt; stroke-linejoin:round; stroke-width:4; stroke-opacity:1; fill:none\" points=\"\n",
       "  248.062,162.047 475.105,249.585 702.149,571.105 929.193,833.383 1156.24,931.968 1383.28,1047.05 1610.32,988.178 1837.37,1064.45 2064.41,1273.93 2291.45,1447.87 \n",
       "  \n",
       "  \"/>\n",
       "<path clip-path=\"url(#clip140)\" d=\"\n",
       "M1987.46 272.585 L2280.56 272.585 L2280.56 168.905 L1987.46 168.905  Z\n",
       "  \" fill=\"#ffffff\" fill-rule=\"evenodd\" fill-opacity=\"1\"/>\n",
       "<polyline clip-path=\"url(#clip140)\" style=\"stroke:#000000; stroke-linecap:butt; stroke-linejoin:round; stroke-width:4; stroke-opacity:1; fill:none\" points=\"\n",
       "  1987.46,272.585 2280.56,272.585 2280.56,168.905 1987.46,168.905 1987.46,272.585 \n",
       "  \"/>\n",
       "<polyline clip-path=\"url(#clip140)\" style=\"stroke:#009af9; stroke-linecap:butt; stroke-linejoin:round; stroke-width:4; stroke-opacity:1; fill:none\" points=\"\n",
       "  2011.53,220.745 2155.93,220.745 \n",
       "  \"/>\n",
       "<path clip-path=\"url(#clip140)\" d=\"M2193.84 240.432 Q2192.03 245.062 2190.32 246.474 Q2188.6 247.886 2185.73 247.886 L2182.33 247.886 L2182.33 244.321 L2184.83 244.321 Q2186.59 244.321 2187.56 243.488 Q2188.53 242.654 2189.71 239.552 L2190.48 237.608 L2179.99 212.099 L2184.51 212.099 L2192.61 232.377 L2200.71 212.099 L2205.22 212.099 L2193.84 240.432 Z\" fill=\"#000000\" fill-rule=\"evenodd\" fill-opacity=\"1\" /><path clip-path=\"url(#clip140)\" d=\"M2212.52 234.089 L2220.15 234.089 L2220.15 207.724 L2211.84 209.391 L2211.84 205.131 L2220.11 203.465 L2224.78 203.465 L2224.78 234.089 L2232.42 234.089 L2232.42 238.025 L2212.52 238.025 L2212.52 234.089 Z\" fill=\"#000000\" fill-rule=\"evenodd\" fill-opacity=\"1\" /></svg>\n"
      ]
     },
     "metadata": {},
     "output_type": "display_data"
    }
   ],
   "source": [
    "na=30\n",
    "decile=10\n",
    "dec=reshape(Utility_loss,(na,decile))\n",
    "dec=mean(dec,dims=1)\n",
    "dec=transpose(dec)\n",
    "\n",
    "p2=plot(dec, title=\"Utility loss by deciles with rigid wage\")\n",
    "savefig(p2, \"Utility_loss_deciles.png\") # save the most recent fig as filename_string (such as \"output.png\")\n",
    "p2"
   ]
  }
 ],
 "metadata": {
  "kernelspec": {
   "display_name": "Julia 1.7.3",
   "language": "julia",
   "name": "julia-1.7"
  },
  "language_info": {
   "file_extension": ".jl",
   "mimetype": "application/julia",
   "name": "julia",
   "version": "1.7.3"
  },
  "orig_nbformat": 4,
  "vscode": {
   "interpreter": {
    "hash": "aee8b7b246df8f9039afb4144a1f6fd8d2ca17a180786b69acc140d282b71a49"
   }
  }
 },
 "nbformat": 4,
 "nbformat_minor": 2
}
