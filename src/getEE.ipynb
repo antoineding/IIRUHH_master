{
 "cells": [
  {
   "cell_type": "code",
   "execution_count": 1,
   "metadata": {},
   "outputs": [
    {
     "data": {
      "text/plain": [
       "Calibration\n",
       "  σ: Float64 0.5\n",
       "  ζ: Float64 2.0\n",
       "  θ: Float64 0.5\n",
       "  γ: Array{Float64}((3,)) [0.3333333333333333, 0.3333333333333333, 0.3333333333333333]\n",
       "  ϵ: Array{Float64}((3,)) [0.6, 1.0, 1.65]\n",
       "  ε: Array{Float64}((3,)) [0.6, 1.0, 1.65]\n",
       "  ρ: Float64 -1.0\n",
       "  β: Float64 0.96\n",
       "  α: Float64 0.4\n",
       "  δ: Float64 0.1\n",
       "  Z: Array{Float64}((3,)) [0.9, 1.0, 1.2]\n"
      ]
     },
     "metadata": {},
     "output_type": "display_data"
    }
   ],
   "source": [
    "using NLsolve, Plots, Parameters, Distributions, Statistics, StatsPlots, Interpolations\n",
    "include(\"discrete_normal.jl\")\n",
    "include(\"lininterp1.jl\")\n",
    "\n",
    "@with_kw struct Calibration\n",
    "    #Households\n",
    "    σ::Float64=0.5                      # elasticity of relative demand with respect to price sigma=0.5 completementary goods\n",
    "    ζ::Float64=2.0                      # Intertemporal elasticity of substitution\n",
    "    θ::Float64=1/ζ                      # Inverse of intertemporal elasticity of substitution \n",
    "    γ::Array{Float64}=[1/3, 1/3, 1/3]   # intensity in each good\n",
    "    ϵ::Array{Float64}=[0.6, 1.0, 1.65]  # elasticity of relative demand with respect to income in luxury good sector\n",
    "    ε::Array{Float64}=[ϵ[1]/ϵ[2], ϵ[2]/ϵ[2], ϵ[3]/ϵ[2] ]\n",
    "    ρ::Float64 =(σ-1)/σ                 \n",
    "    β::Float64 = 0.96                   # Discount factor\n",
    "\n",
    "    #Production\n",
    "    α::Float64=0.4                      # Capital share\n",
    "    δ::Float64=0.1                      # Capital depreciation\n",
    "    Z::Array{Float64}=[0.9, 1.0, 1.2]   # Sector productivity\n",
    "end\n",
    "cal = Calibration()"
   ]
  },
  {
   "cell_type": "code",
   "execution_count": 2,
   "metadata": {},
   "outputs": [
    {
     "data": {
      "text/plain": [
       "u1inv (generic function with 1 method)"
      ]
     },
     "metadata": {},
     "output_type": "display_data"
    }
   ],
   "source": [
    "@unpack σ, ζ, θ, γ, ϵ, ρ, β, α, δ, Z = cal\n",
    "if θ==1\n",
    "    u(c) = log.(c)\n",
    "else\n",
    "    u(c) = (c.^(1-θ).-1)./(1-θ)\n",
    "end \n",
    "\n",
    "u1(c) = c.^(-θ)\n",
    "u1inv(u) = u.^(-1 ./(θ))"
   ]
  },
  {
   "cell_type": "code",
   "execution_count": 63,
   "metadata": {},
   "outputs": [
    {
     "data": {
      "text/plain": [
       "1.2042882446158303"
      ]
     },
     "metadata": {},
     "output_type": "display_data"
    }
   ],
   "source": [
    "## income risk: discretized N(mu,sigma^2)\n",
    "mu_y = 1\n",
    "sd_y = 0.2\n",
    "ny = 10\n",
    "\n",
    "## asset grids\n",
    "na = 40\n",
    "amax = 50\n",
    "borrow_lim = 0\n",
    "agrid_par = 0.5 # 1 for linear, 0 for L-shaped\n",
    "\n",
    "## computation\n",
    "max_iter = 1000\n",
    "tol_iter = 1.0e-4\n",
    "Nsim = 50000\n",
    "Tsim = 500\n",
    "\n",
    "# OPTIONS\n",
    "Display = 1\n",
    "DoSimulate = 1\n",
    "MakePlots = 1\n",
    "\n",
    "## tolerance for non-linear solver\n",
    "TolX = 1.0e-2\n",
    "\n",
    "#comutation KL\n",
    "maxiter_KL = 70\n",
    "tol_KL = 1.0e-2\n",
    "step_KL = 0.005\n",
    "rguess = 1/β-1-0.001 # a bit lower than inverse of discount rate\n",
    "KLratioguess = ((rguess + δ)/α)^(1/(α-1))\n",
    "\n",
    "# SET UP GRIDS\n",
    "\n",
    "## assets\n",
    "agrid = range(0,1,length=na)\n",
    "agrid = agrid.^(1 ./ agrid_par)\n",
    "agrid = borrow_lim .+ (amax.-borrow_lim).*agrid\n",
    "\n",
    "## income: disretize normal distribution\n",
    "width = nlsolve(x -> discrete_normal(ny,mu_y,sd_y,x...)[1],[2.0]).zero\n",
    "temp, ygrid, ydist = discrete_normal(ny,mu_y,sd_y,width...)\n",
    "ycumdist = cumsum(ydist)\n",
    "\n",
    "# DRAW RANDOM NUMBERS\n",
    "yrand = rand(Nsim,Tsim)\n",
    "yindsim = zeros(Int,Nsim,Tsim)\n",
    "\n",
    "#Firms market value\n",
    "KLratio = KLratioguess\n",
    "r = α.*KLratio^(α-1) - δ\n",
    "R = 1+r\n",
    "wage = (1-α).* KLratio^α"
   ]
  },
  {
   "cell_type": "code",
   "execution_count": 64,
   "metadata": {},
   "outputs": [
    {
     "data": {
      "text/plain": [
       "NHUtilityEE (generic function with 1 method)"
      ]
     },
     "metadata": {},
     "output_type": "display_data"
    }
   ],
   "source": [
    "function solvingNHEE(u, cash::Float64, p_c::Vector{Float64}; cal=cal)\n",
    "    @unpack σ, ζ, γ, ϵ, ρ, β, α, δ, Z = cal\n",
    "    out=1-sum(γ[i]^(1/σ)*(((p_c[i]/cash)^(-σ)*γ[i])/u^((1-σ)*σ*ϵ[i]))^ρ for i=1:length(p_c))\n",
    "    return out\n",
    "end\n",
    "function NHUtilityEE(cash, p_c::Vector{Float64}; cal=cal)\n",
    "    @unpack σ, ζ, γ, ϵ, ρ, β, α, δ, Z = cal\n",
    "\n",
    "    #Utility level for given C endowment\n",
    "    res = nlsolve(u->[solvingNHEE(u[1], cash, p_c)], [1.0], xtol=TolX)\n",
    "    U=res.zero[1]\n",
    "\n",
    "    #Wealth and Minimum expenditure for the utility at given endowment level\n",
    "    E=cash\n",
    "    ExpNH=sum(γ[i]*U^(ϵ[i]*(1-σ)^2) * (p_c[i]^(1-σ)) for i = 1:length(p_c))^(1/(1-σ))\n",
    "    \n",
    "    #Optimal Demand with income effect\n",
    "    C1=γ[1]*U^(ϵ[1]*(1-σ)^2) * (p_c[1]/E)^(-σ)\n",
    "    C2=γ[2]*U^(ϵ[2]*(1-σ)^2) * (p_c[2]/E)^(-σ)\n",
    "    C3=γ[3]*U^(ϵ[3]*(1-σ)^2) * (p_c[3]/E)^(-σ)\n",
    "\n",
    "    #Expenditure share with income effect\n",
    "    ω_p=γ[1]*U^(ϵ[1]*(1-σ)^2) * (p_c[1]/E)^(1-σ)\n",
    "    ω_n=γ[2]*U^(ϵ[2]*(1-σ)^2) * (p_c[2]/E)^(1-σ)\n",
    "    ω_l=γ[3]*U^(ϵ[3]*(1-σ)^2) * (p_c[3]/E)^(1-σ)\n",
    "\n",
    "    ω=[ω_p ω_n ω_l]\n",
    "    return [C1, C2, C3, U, E, ω, ExpNH]#, U, E, ω]\n",
    "\n",
    "end"
   ]
  },
  {
   "cell_type": "code",
   "execution_count": 65,
   "metadata": {},
   "outputs": [],
   "source": [
    "p=[0.5, 1.0, 2.0]\n",
    "cash=zeros(na,ny)\n",
    "for i=1:ny\n",
    "    cash[:,i]=r.*agrid.+wage.*ygrid[i]\n",
    "end\n",
    "cash\n",
    "\n",
    "Uguess=zeros(na,ny)\n",
    "cashU=zeros(na,ny)\n",
    "for j=1:ny\n",
    "    for i=1:na\n",
    "        Uguess[i,j]=NHUtilityEE(cash[i,j], p)[4]\n",
    "        cashU[i,j]=NHUtilityEE(cash[i,j], p)[7]\n",
    "    end\n",
    "end"
   ]
  },
  {
   "cell_type": "code",
   "execution_count": 67,
   "metadata": {},
   "outputs": [
    {
     "data": {
      "text/plain": [
       "eulerdiff (generic function with 1 method)"
      ]
     },
     "metadata": {},
     "output_type": "display_data"
    }
   ],
   "source": [
    "eulerdiff(a)=u1(NHUtilityEE(cash.-a, p)[4])-β.*R.*(u1([lininterp1(agrid,Ulast[:,iy],a) for iy=1:ny])'*ydist)[1]\n"
   ]
  },
  {
   "cell_type": "code",
   "execution_count": 68,
   "metadata": {},
   "outputs": [
    {
     "name": "stdout",
     "output_type": "stream",
     "text": [
      "Iteration no. 1 max con fn diff is 1.6839105858442336\n",
      "Iteration no. 2"
     ]
    },
    {
     "name": "stdout",
     "output_type": "stream",
     "text": [
      " max con fn diff is 0.0974631810918396\n"
     ]
    },
    {
     "name": "stdout",
     "output_type": "stream",
     "text": [
      "Iteration no. 3 max con fn diff is 0.016602594948227578\n",
      "Iteration no. 4"
     ]
    },
    {
     "name": "stdout",
     "output_type": "stream",
     "text": [
      " max con fn diff is 0.011347344407806048\n"
     ]
    },
    {
     "name": "stdout",
     "output_type": "stream",
     "text": [
      "Iteration no. 5 max con fn diff is 0.010896392130086419\n",
      "Iteration no. 6"
     ]
    },
    {
     "name": "stdout",
     "output_type": "stream",
     "text": [
      " max con fn diff is 0.010461187851817932\n"
     ]
    },
    {
     "name": "stdout",
     "output_type": "stream",
     "text": [
      "Iteration no. 7 max con fn diff is 0.010041486002326572\n",
      "Iteration no. 8"
     ]
    },
    {
     "name": "stdout",
     "output_type": "stream",
     "text": [
      " max con fn diff is 0.009637001214008123\n"
     ]
    },
    {
     "name": "stdout",
     "output_type": "stream",
     "text": [
      "Iteration no. 9 max con fn diff is 0.009247403811156296\n",
      "Iteration no. 10"
     ]
    },
    {
     "name": "stdout",
     "output_type": "stream",
     "text": [
      " max con fn diff is 0.008872321145071638\n"
     ]
    },
    {
     "name": "stdout",
     "output_type": "stream",
     "text": [
      "Iteration no. 11 max con fn diff is 0.00851150631270059\n",
      "Iteration no. 12"
     ]
    },
    {
     "name": "stdout",
     "output_type": "stream",
     "text": [
      " max con fn diff is 0.008164482892257574\n"
     ]
    },
    {
     "name": "stdout",
     "output_type": "stream",
     "text": [
      "Iteration no. 13 max con fn diff is 0.007830873488904544\n",
      "Iteration no. 14"
     ]
    },
    {
     "name": "stdout",
     "output_type": "stream",
     "text": [
      " max con fn diff is 0.007510279601754988\n"
     ]
    },
    {
     "name": "stdout",
     "output_type": "stream",
     "text": [
      "Iteration no. 15 max con fn diff is 0.007202291910272329\n",
      "Iteration no. 16"
     ]
    },
    {
     "name": "stdout",
     "output_type": "stream",
     "text": [
      " max con fn diff is 0.006906506402878598\n"
     ]
    },
    {
     "name": "stdout",
     "output_type": "stream",
     "text": [
      "Iteration no. 17 max con fn diff is 0.006622516842604398\n",
      "Iteration no. 18"
     ]
    },
    {
     "name": "stdout",
     "output_type": "stream",
     "text": [
      " max con fn diff is 0.006349919455375108\n"
     ]
    },
    {
     "name": "stdout",
     "output_type": "stream",
     "text": [
      "Iteration no. 19 max con fn diff is 0.006088314640883219\n",
      "Iteration no. 20"
     ]
    },
    {
     "name": "stdout",
     "output_type": "stream",
     "text": [
      " max con fn diff is 0.005837308414489151\n"
     ]
    },
    {
     "name": "stdout",
     "output_type": "stream",
     "text": [
      "Iteration no. 21 max con fn diff is 0.005596513589711805\n",
      "Iteration no. 22"
     ]
    },
    {
     "name": "stdout",
     "output_type": "stream",
     "text": [
      " max con fn diff is 0.005365550843631439\n"
     ]
    },
    {
     "name": "stdout",
     "output_type": "stream",
     "text": [
      "Iteration no. 23 max con fn diff is 0.005144049196131206\n",
      "Iteration no. 24"
     ]
    },
    {
     "name": "stdout",
     "output_type": "stream",
     "text": [
      " max con fn diff is 0.004931646969771997\n"
     ]
    },
    {
     "name": "stdout",
     "output_type": "stream",
     "text": [
      "Iteration no. 25 max con fn diff is 0.004727992135634906\n",
      "Iteration no. 26"
     ]
    },
    {
     "name": "stdout",
     "output_type": "stream",
     "text": [
      " max con fn diff is 0.004532742657246125\n"
     ]
    },
    {
     "name": "stdout",
     "output_type": "stream",
     "text": [
      "Iteration no. 27 max con fn diff is 0.004345566738264139\n",
      "Iteration no. 28"
     ]
    },
    {
     "name": "stdout",
     "output_type": "stream",
     "text": [
      " max con fn diff is 0.004166142971163467\n"
     ]
    },
    {
     "name": "stdout",
     "output_type": "stream",
     "text": [
      "Iteration no. 29 max con fn diff is 0.003994160403692604\n",
      "Iteration no. 30"
     ]
    },
    {
     "name": "stdout",
     "output_type": "stream",
     "text": [
      " max con fn diff is 0.0038293185492799253\n"
     ]
    },
    {
     "name": "stdout",
     "output_type": "stream",
     "text": [
      "Iteration no. 31 max con fn diff is 0.0036713185104204626\n",
      "Iteration no. 32"
     ]
    },
    {
     "name": "stdout",
     "output_type": "stream",
     "text": [
      " max con fn diff is 0.0035199165302870483\n"
     ]
    },
    {
     "name": "stdout",
     "output_type": "stream",
     "text": [
      "Iteration no. 33 max con fn diff is 0.003374786073449876\n",
      "Iteration no. 34"
     ]
    },
    {
     "name": "stdout",
     "output_type": "stream",
     "text": [
      " max con fn diff is 0.003235708918157165\n"
     ]
    },
    {
     "name": "stdout",
     "output_type": "stream",
     "text": [
      "Iteration no. 35 max con fn diff is 0.0031024300558382123\n",
      "Iteration no. 36"
     ]
    },
    {
     "name": "stdout",
     "output_type": "stream",
     "text": [
      " max con fn diff is 0.0029749358750752464\n"
     ]
    },
    {
     "name": "stdout",
     "output_type": "stream",
     "text": [
      "Iteration no. 37 max con fn diff is 0.002852680210193803\n",
      "Iteration no. 38"
     ]
    },
    {
     "name": "stdout",
     "output_type": "stream",
     "text": [
      " max con fn diff is 0.002735461113435811\n"
     ]
    },
    {
     "name": "stdout",
     "output_type": "stream",
     "text": [
      "Iteration no. 39 max con fn diff is 0.0026230763914387722\n",
      "Iteration no. 40"
     ]
    },
    {
     "name": "stdout",
     "output_type": "stream",
     "text": [
      " max con fn diff is 0.0025153435207219133\n"
     ]
    },
    {
     "name": "stdout",
     "output_type": "stream",
     "text": [
      "Iteration no. 41 max con fn diff is 0.0024120677081516106\n",
      "Iteration no. 42"
     ]
    },
    {
     "name": "stdout",
     "output_type": "stream",
     "text": [
      " max con fn diff is 0.002313063227549428\n"
     ]
    },
    {
     "name": "stdout",
     "output_type": "stream",
     "text": [
      "Iteration no. 43 max con fn diff is 0.002218152225173853\n",
      "Iteration no. 44"
     ]
    },
    {
     "name": "stdout",
     "output_type": "stream",
     "text": [
      " max con fn diff is 0.002127165019521371\n"
     ]
    },
    {
     "name": "stdout",
     "output_type": "stream",
     "text": [
      "Iteration no. 45 max con fn diff is 0.002039938716342782\n",
      "Iteration no. 46"
     ]
    },
    {
     "name": "stdout",
     "output_type": "stream",
     "text": [
      " max con fn diff is 0.0019563170464129698\n"
     ]
    },
    {
     "name": "stdout",
     "output_type": "stream",
     "text": [
      "Iteration no. 47 max con fn diff is 0.0018761501122392943\n",
      "Iteration no. 48"
     ]
    },
    {
     "name": "stdout",
     "output_type": "stream",
     "text": [
      " max con fn diff is 0.0017992942004791956\n"
     ]
    },
    {
     "name": "stdout",
     "output_type": "stream",
     "text": [
      "Iteration no. 49 max con fn diff is 0.0017256115478110345\n",
      "Iteration no. 50"
     ]
    },
    {
     "name": "stdout",
     "output_type": "stream",
     "text": [
      " max con fn diff is 0.001654970108415199\n"
     ]
    },
    {
     "name": "stdout",
     "output_type": "stream",
     "text": [
      "Iteration no. 51 max con fn diff is 0.0015872433272772213\n",
      "Iteration no. 52"
     ]
    },
    {
     "name": "stdout",
     "output_type": "stream",
     "text": [
      " max con fn diff is 0.0015223099141286056\n"
     ]
    },
    {
     "name": "stdout",
     "output_type": "stream",
     "text": [
      "Iteration no. 53 max con fn diff is 0.0014600536372242345\n",
      "Iteration no. 54"
     ]
    },
    {
     "name": "stdout",
     "output_type": "stream",
     "text": [
      " max con fn diff is 0.0014003631146435325\n"
     ]
    },
    {
     "name": "stdout",
     "output_type": "stream",
     "text": [
      "Iteration no. 55 max con fn diff is 0.0013431316209624455\n",
      "Iteration no. 56"
     ]
    },
    {
     "name": "stdout",
     "output_type": "stream",
     "text": [
      " max con fn diff is 0.0012882568970047359\n"
     ]
    },
    {
     "name": "stdout",
     "output_type": "stream",
     "text": [
      "Iteration no. 57 max con fn diff is 0.0012356409652936051\n",
      "Iteration no. 58"
     ]
    },
    {
     "name": "stdout",
     "output_type": "stream",
     "text": [
      " max con fn diff is 0.0011851899514629949\n"
     ]
    },
    {
     "name": "stdout",
     "output_type": "stream",
     "text": [
      "Iteration no. 59 max con fn diff is 0.0011368139156546775\n",
      "Iteration no. 60"
     ]
    },
    {
     "name": "stdout",
     "output_type": "stream",
     "text": [
      " max con fn diff is 0.0010904266894957715\n"
     ]
    },
    {
     "name": "stdout",
     "output_type": "stream",
     "text": [
      "Iteration no. 61 max con fn diff is 0.0010459457159406327\n",
      "Iteration no. 62"
     ]
    },
    {
     "name": "stdout",
     "output_type": "stream",
     "text": [
      " max con fn diff is 0.0010032919017630704\n"
     ]
    },
    {
     "name": "stdout",
     "output_type": "stream",
     "text": [
      "Iteration no. 63 max con fn diff is 0.0009623894678139067\n",
      "Iteration no. 64"
     ]
    },
    {
     "name": "stdout",
     "output_type": "stream",
     "text": [
      " max con fn diff is 0.0009231658145898436\n"
     ]
    },
    {
     "name": "stdout",
     "output_type": "stream",
     "text": [
      "Iteration no. 65 max con fn diff is 0.0008855513832841666\n",
      "Iteration no. 66"
     ]
    },
    {
     "name": "stdout",
     "output_type": "stream",
     "text": [
      " max con fn diff is 0.000849479532896602\n"
     ]
    },
    {
     "name": "stdout",
     "output_type": "stream",
     "text": [
      "Iteration no. 67 max con fn diff is 0.0008148864132451195\n",
      "Iteration no. 68"
     ]
    },
    {
     "name": "stdout",
     "output_type": "stream",
     "text": [
      " max con fn diff is 0.0007817108471348533\n"
     ]
    },
    {
     "name": "stdout",
     "output_type": "stream",
     "text": [
      "Iteration no. 69 max con fn diff is 0.0007498942202897041\n",
      "Iteration no. 70"
     ]
    },
    {
     "name": "stdout",
     "output_type": "stream",
     "text": [
      " max con fn diff is 0.0007193803697749246\n"
     ]
    },
    {
     "name": "stdout",
     "output_type": "stream",
     "text": [
      "Iteration no. 71 max con fn diff is 0.0006901154815990296\n",
      "Iteration no. 72"
     ]
    },
    {
     "name": "stdout",
     "output_type": "stream",
     "text": [
      " max con fn diff is 0.0006620479919092759\n"
     ]
    },
    {
     "name": "stdout",
     "output_type": "stream",
     "text": [
      "Iteration no. 73 max con fn diff is 0.0006351284911341182\n",
      "Iteration no. 74"
     ]
    },
    {
     "name": "stdout",
     "output_type": "stream",
     "text": [
      " max con fn diff is 0.0006093096323480651\n"
     ]
    },
    {
     "name": "stdout",
     "output_type": "stream",
     "text": [
      "Iteration no. 75 max con fn diff is 0.0005845457946218602\n",
      "Iteration no. 76"
     ]
    },
    {
     "name": "stdout",
     "output_type": "stream",
     "text": [
      " max con fn diff is 0.0005607938595364459\n"
     ]
    },
    {
     "name": "stdout",
     "output_type": "stream",
     "text": [
      "Iteration no. 77 max con fn diff is 0.0005380121330427201\n",
      "Iteration no. 78"
     ]
    },
    {
     "name": "stdout",
     "output_type": "stream",
     "text": [
      " max con fn diff is 0.0005161606627259729\n"
     ]
    },
    {
     "name": "stdout",
     "output_type": "stream",
     "text": [
      "Iteration no. 79 max con fn diff is 0.0004952011613008622\n",
      "Iteration no. 80"
     ]
    },
    {
     "name": "stdout",
     "output_type": "stream",
     "text": [
      " max con fn diff is 0.0004750969402840255\n"
     ]
    },
    {
     "name": "stdout",
     "output_type": "stream",
     "text": [
      "Iteration no. 81 max con fn diff is 0.00045581283368534287\n",
      "Iteration no. 82"
     ]
    },
    {
     "name": "stdout",
     "output_type": "stream",
     "text": [
      " max con fn diff is 0.00043731514283695816\n"
     ]
    },
    {
     "name": "stdout",
     "output_type": "stream",
     "text": [
      "Iteration no. 83 max con fn diff is 0.00041957156861816003\n",
      "Iteration no. 84"
     ]
    },
    {
     "name": "stdout",
     "output_type": "stream",
     "text": [
      " max con fn diff is 0.0004025511520984182\n"
     ]
    },
    {
     "name": "stdout",
     "output_type": "stream",
     "text": [
      "Iteration no. 85 max con fn diff is 0.0003862242207111066\n",
      "Iteration no. 86"
     ]
    },
    {
     "name": "stdout",
     "output_type": "stream",
     "text": [
      " max con fn diff is 0.0003705623310681361\n"
     ]
    },
    {
     "name": "stdout",
     "output_type": "stream",
     "text": [
      "Iteration no. 87 max con fn diff is 0.00035553821983302925\n",
      "Iteration no. 88"
     ]
    },
    {
     "name": "stdout",
     "output_type": "stream",
     "text": [
      " max con fn diff is 0.0003411257520671285\n"
     ]
    },
    {
     "name": "stdout",
     "output_type": "stream",
     "text": [
      "Iteration no. 89 max con fn diff is 0.00032729987365964774\n",
      "Iteration no. 90"
     ]
    },
    {
     "name": "stdout",
     "output_type": "stream",
     "text": [
      " max con fn diff is 0.00031403656731665563\n"
     ]
    },
    {
     "name": "stdout",
     "output_type": "stream",
     "text": [
      "Iteration no. 91 max con fn diff is 0.0003013128081414962\n",
      "Iteration no. 92"
     ]
    },
    {
     "name": "stdout",
     "output_type": "stream",
     "text": [
      " max con fn diff is 0.00028910652182645435\n"
     ]
    },
    {
     "name": "stdout",
     "output_type": "stream",
     "text": [
      "Iteration no. 93 max con fn diff is 0.00027739654591218965\n",
      "Iteration no. 94"
     ]
    },
    {
     "name": "stdout",
     "output_type": "stream",
     "text": [
      " max con fn diff is 0.0002661625899440523\n"
     ]
    },
    {
     "name": "stdout",
     "output_type": "stream",
     "text": [
      "Iteration no. 95 max con fn diff is 0.0002553852008695401\n",
      "Iteration no. 96"
     ]
    },
    {
     "name": "stdout",
     "output_type": "stream",
     "text": [
      " max con fn diff is 0.00024504572680950076\n"
     ]
    },
    {
     "name": "stdout",
     "output_type": "stream",
     "text": [
      "Iteration no. 97 max con fn diff is 0.00023512628348587583\n",
      "Iteration no. 98"
     ]
    },
    {
     "name": "stdout",
     "output_type": "stream",
     "text": [
      " max con fn diff is 0.0002256097233663823\n"
     ]
    },
    {
     "name": "stdout",
     "output_type": "stream",
     "text": [
      "Iteration no. 99 max con fn diff is 0.00021647960342807693\n",
      "Iteration no. 100"
     ]
    },
    {
     "name": "stdout",
     "output_type": "stream",
     "text": [
      " max con fn diff is 0.00020772015821179934\n"
     ]
    },
    {
     "name": "stdout",
     "output_type": "stream",
     "text": [
      "Iteration no. 101 max con fn diff is 0.00019931626857161433\n",
      "Iteration no. 102"
     ]
    },
    {
     "name": "stdout",
     "output_type": "stream",
     "text": [
      " max con fn diff is 0.0001912534376646846\n"
     ]
    },
    {
     "name": "stdout",
     "output_type": "stream",
     "text": [
      "Iteration no. 103 max con fn diff is 0.00018351776142555565\n",
      "Iteration no. 104"
     ]
    },
    {
     "name": "stdout",
     "output_type": "stream",
     "text": [
      " max con fn diff is 0.00017609591065070873\n"
     ]
    },
    {
     "name": "stdout",
     "output_type": "stream",
     "text": [
      "Iteration no. 105 max con fn diff is 0.000168975097471602\n",
      "Iteration no. 106"
     ]
    },
    {
     "name": "stdout",
     "output_type": "stream",
     "text": [
      " max con fn diff is 0.00016214306300987857\n"
     ]
    },
    {
     "name": "stdout",
     "output_type": "stream",
     "text": [
      "Iteration no. 107 max con fn diff is 0.00015558804817050742\n",
      "Iteration no. 108"
     ]
    },
    {
     "name": "stdout",
     "output_type": "stream",
     "text": [
      " max con fn diff is 0.00014929877644132006\n"
     ]
    },
    {
     "name": "stdout",
     "output_type": "stream",
     "text": [
      "Iteration no. 109 max con fn diff is 0.0001432644316752274\n",
      "Iteration no. 110"
     ]
    },
    {
     "name": "stdout",
     "output_type": "stream",
     "text": [
      " max con fn diff is 0.0001374746438722596\n"
     ]
    },
    {
     "name": "stdout",
     "output_type": "stream",
     "text": [
      "Iteration no. 111 max con fn diff is 0.00013191946277490985\n",
      "Iteration no. 112"
     ]
    },
    {
     "name": "stdout",
     "output_type": "stream",
     "text": [
      " max con fn diff is 0.00012658934879361539\n"
     ]
    },
    {
     "name": "stdout",
     "output_type": "stream",
     "text": [
      "Iteration no. 113 max con fn diff is 0.00012147515099858452\n",
      "Iteration no. 114"
     ]
    },
    {
     "name": "stdout",
     "output_type": "stream",
     "text": [
      " max con fn diff is 0.00011656809080839992\n"
     ]
    },
    {
     "name": "stdout",
     "output_type": "stream",
     "text": [
      "Iteration no. 115 max con fn diff is 0.00011185975204419663\n",
      "Iteration no. 116"
     ]
    },
    {
     "name": "stdout",
     "output_type": "stream",
     "text": [
      " max con fn diff is 0.0001073420595210095\n"
     ]
    },
    {
     "name": "stdout",
     "output_type": "stream",
     "text": [
      "Iteration no. 117 max con fn diff is 0.00010300726734957522\n",
      "Iteration no. 118"
     ]
    },
    {
     "name": "stdout",
     "output_type": "stream",
     "text": [
      " max con fn diff is 9.884794864678526e-5\n"
     ]
    }
   ],
   "source": [
    "iter = 0\n",
    "cdiff = 1000\n",
    "U = copy(Uguess)\n",
    "global emuc = u1(U)*ydist\n",
    "\n",
    "while iter<=max_iter && cdiff>tol_iter\n",
    "    iter = iter + 1\n",
    "    global Ulast = copy(U)\n",
    "    global Elast = copy(cashU)\n",
    "    global sav = zeros(na,ny)\n",
    "    \n",
    "    ## loop over assets\n",
    "    for ia = 1:na     \n",
    "        ## loop over income\n",
    "        for iy = 1:ny\n",
    "            global cash = R.*agrid[ia] .+ wage.*ygrid[iy]\n",
    "                if u1(cash-borrow_lim) >= β.*R.*lininterp1(agrid,emuc,borrow_lim) # check if borrowing constrained\n",
    "                    sav[ia,iy] = borrow_lim\n",
    "                else\n",
    "                    sav[ia,iy] = nlsolve(x -> [u1(NHUtilityEE(cash.-x[1], p)[4]).-β.*R.*lininterp1(agrid,emuc,x[1])], [cash.-Elast[ia,iy]]).zero[1]\n",
    "                end\n",
    "            U[ia,iy] = NHUtilityEE(cash .- sav[ia,iy],p)[4]\n",
    "        end\n",
    "    end\n",
    "\n",
    "    emuc = u1(U)*ydist\n",
    "    \n",
    "    cdiff = maximum(abs.(U-Ulast))\n",
    "    println(\"Iteration no. \" * string(iter), \" max con fn diff is \" * string(cdiff))\n",
    "end"
   ]
  },
  {
   "cell_type": "code",
   "execution_count": 98,
   "metadata": {},
   "outputs": [],
   "source": [
    "yindsim = zeros(Int,Nsim,Tsim)\n",
    "asim = zeros(Nsim,Tsim)\n",
    "\n",
    "## create interpolating function\n",
    "savinterp = Array{Any}(undef,ny)\n",
    "for iy = 1:ny\n",
    "    savinterp[iy] = interpolate((agrid,), sav[:,iy], Gridded(Linear()))\n",
    "end"
   ]
  },
  {
   "cell_type": "code",
   "execution_count": 101,
   "metadata": {},
   "outputs": [
    {
     "ename": "BoundsError",
     "evalue": "BoundsError: attempt to access 40-element interpolate((::Vector{Float64},), ::Vector{Float64}, Gridded(Linear())) with element type Float64 at index [[0.0, 0.2599282105041987, -0.029979000095993746, 0.15638593339394866, 0.3693012463585231, 0.0, 0.15638593339394866, 0.2599282105041987, 0.2599282105041987, 0.5974692524046055, 0.15638593339394866, 0.2599282105041987, 0.3693012463585231, 0.15638593339394866, 0.0618122940072156, 0.0, -0.029979000095993746, 0.0, 0.0618122940072156, 0.5974692524046055, 0.0618122940072156, 0.0, 0.0, 0.0618122940072156, 0.0618122940072156, -0.029979000095993746, 0.5974692524046055, 0.15638593339394866, 0.0, 0.3693012463585231, 0.2599282105041987, 0.0618122940072156, 0.3693012463585231, 0.15638593339394866, -0.029979000095993746, 0.0, 0.0618122940072156, 0.2599282105041987, 0.3693012463585231, 0.3693012463585231, 0.0, 0.4817878708095713, 0.0618122940072156, 0.0, 0.3693012463585231, 0.0618122940072156, 0.15638593339394866, 0.3693012463585231, 0.0618122940072156, -0.029979000095993746, -0.029979000095993746, 0.15638593339394866, -0.029979000095993746, 0.0, -0.029979000095993746, 0.2599282105041987, 0.4817878708095713, 0.0, -0.029979000095993746, 0.0, 0.2599282105041987, 0.0, 0.15638593339394866, 0.0618122940072156, 0.0618122940072156, -0.029979000095993746, 0.3693012463585231, 0.3693012463585231, 0.0618122940072156, -0.029979000095993746, 0.0, 0.2599282105041987, 0.2599282105041987, 0.2599282105041987, 0.0618122940072156, 0.15638593339394866, 0.0618122940072156, 0.2599282105041987, 0.0618122940072156, 0.5974692524046055, 0.15638593339394866, 0.15638593339394866, 0.15638593339394866, 0.0618122940072156, 0.15638593339394866, 0.0618122940072156, 0.15638593339394866, 0.15638593339394866, 0.0, 0.2599282105041987, 0.3693012463585231, 0.0618122940072156, 0.0, -0.029979000095993746, 0.3693012463585231, -0.029979000095993746, 0.15638593339394866, 0.0618122940072156, 0.0, 0.2599282105041987, 0.0618122940072156, 0.3693012463585231, 0.0618122940072156, 0.15638593339394866, -0.029979000095993746, 0.0, -0.029979000095993746, 0.0, 0.0618122940072156, -0.029979000095993746, 0.15638593339394866, 0.0618122940072156, 0.2599282105041987, 0.0, 0.2599282105041987, 0.3693012463585231, 0.3693012463585231, 0.15638593339394866, -0.029979000095993746, 0.3693012463585231, 0.0618122940072156, 0.2599282105041987, 0.5974692524046055, 0.0, 0.2599282105041987, 0.15638593339394866, 0.15638593339394866, 0.15638593339394866, 0.2599282105041987, 0.15638593339394866, 0.15638593339394866, 0.2599282105041987, -0.029979000095993746, 0.2599282105041987, 0.4817878708095713, 0.5974692524046055, 0.15638593339394866, 0.2599282105041987, 0.4817878708095713, 0.5974692524046055, 0.3693012463585231, 0.0, 0.0618122940072156, 0.0, 0.2599282105041987, 0.3693012463585231, 0.15638593339394866, 0.15638593339394866, -0.029979000095993746, 0.0618122940072156, 0.2599282105041987, 0.4817878708095713, -0.029979000095993746, 0.0618122940072156, 0.0618122940072156, 0.0618122940072156, 0.2599282105041987, -0.029979000095993746, -0.029979000095993746, -0.029979000095993746, 0.5974692524046055, 0.2599282105041987, 0.15638593339394866, 0.0618122940072156, 0.3693012463585231, 0.3693012463585231, 0.3693012463585231, 0.2599282105041987, 0.15638593339394866, -0.029979000095993746, 0.0618122940072156, 0.15638593339394866, -0.029979000095993746, 0.15638593339394866, -0.029979000095993746, 0.5974692524046055, 0.4817878708095713, 0.2599282105041987, -0.029979000095993746, -0.029979000095993746, 0.0618122940072156, 0.0618122940072156, 0.0, 0.2599282105041987, 0.0618122940072156, 0.15638593339394866, 0.0618122940072156, 0.3693012463585231, -0.029979000095993746, 0.0618122940072156, 0.2599282105041987, 0.0, 0.0618122940072156, 0.0618122940072156, -0.029979000095993746, -0.029979000095993746, 0.15638593339394866, 0.0618122940072156, 0.2599282105041987, 0.0, 0.3693012463585231, 0.15638593339394866, 0.2599282105041987, 0.15638593339394866, 0.4817878708095713, 0.3693012463585231, 0.0618122940072156, 0.15638593339394866, 0.15638593339394866, 0.0618122940072156, 0.3693012463585231, 0.5974692524046055, 0.3693012463585231, 0.0, 0.0, 0.0, 0.15638593339394866, 0.15638593339394866, 0.0, 0.15638593339394866, 0.3693012463585231, -0.029979000095993746, 0.15638593339394866, -0.029979000095993746, 0.2599282105041987, -0.029979000095993746, 0.0618122940072156, 0.0618122940072156, 0.0618122940072156, 0.2599282105041987, 0.3693012463585231, 0.0618122940072156, 0.3693012463585231, 0.0, 0.0, 0.2599282105041987, 0.5974692524046055, -0.029979000095993746, 0.0618122940072156, 0.2599282105041987, 0.2599282105041987, 0.15638593339394866, -0.029979000095993746, 0.0618122940072156, 0.2599282105041987, 0.15638593339394866, 0.3693012463585231, 0.15638593339394866, -0.029979000095993746, 0.2599282105041987, 0.15638593339394866, 0.0618122940072156, 0.2599282105041987, 0.0618122940072156, -0.029979000095993746, 0.4817878708095713, 0.2599282105041987, 0.0618122940072156, -0.029979000095993746, 0.0, 0.15638593339394866, 0.2599282105041987, -0.029979000095993746, 0.3693012463585231, 0.5974692524046055, 0.0, -0.029979000095993746, 0.0618122940072156, 0.0618122940072156, 0.15638593339394866, 0.15638593339394866, 0.0, -0.029979000095993746, 0.4817878708095713, 0.0, 0.0618122940072156, -0.029979000095993746, 0.2599282105041987, -0.029979000095993746, 0.15638593339394866, 0.0, 0.15638593339394866, 0.0618122940072156, -0.029979000095993746, 0.3693012463585231, 0.15638593339394866, 0.2599282105041987, 0.0618122940072156, 0.3693012463585231, 0.0618122940072156, -0.029979000095993746, 0.4817878708095713, -0.029979000095993746, 0.0, 0.2599282105041987, -0.029979000095993746, -0.029979000095993746, 0.2599282105041987, -0.029979000095993746, 0.4817878708095713, 0.0, 0.2599282105041987, 0.2599282105041987, 0.3693012463585231, 0.2599282105041987, 0.0618122940072156, 0.3693012463585231, 0.0, 0.0618122940072156, 0.2599282105041987, 0.15638593339394866, 0.0, 0.3693012463585231, 0.3693012463585231, 0.15638593339394866, 0.2599282105041987, 0.15638593339394866, 0.0618122940072156, 0.4817878708095713, -0.029979000095993746, 0.0618122940072156, -0.029979000095993746, 0.0618122940072156, 0.0618122940072156, 0.0618122940072156, 0.0, 0.2599282105041987, 0.0618122940072156, 0.0, 0.15638593339394866, 0.0618122940072156, 0.0, 0.0618122940072156, -0.029979000095993746, 0.4817878708095713, 0.15638593339394866, 0.0618122940072156, 0.15638593339394866, 0.0, 0.2599282105041987, 0.15638593339394866, 0.0, 0.0618122940072156, -0.029979000095993746, 0.0, 0.15638593339394866, 0.15638593339394866, 0.0618122940072156, 0.0, 0.0, 0.15638593339394866, 0.2599282105041987, 0.3693012463585231, 0.15638593339394866, 0.0618122940072156, 0.15638593339394866, 0.4817878708095713, 0.0618122940072156, 0.15638593339394866, 0.4817878708095713, 0.15638593339394866, 0.2599282105041987, 0.0, 0.15638593339394866, 0.2599282105041987, 0.0618122940072156, 0.2599282105041987, 0.0, 0.0, 0.15638593339394866, 0.0618122940072156, 0.3693012463585231, 0.0618122940072156, 0.2599282105041987, 0.2599282105041987, 0.0, 0.15638593339394866, 0.0, -0.029979000095993746, 0.0, 0.2599282105041987, 0.0618122940072156, 0.0, 0.3693012463585231, 0.2599282105041987, 0.2599282105041987, 0.15638593339394866, 0.0618122940072156, 0.0618122940072156, 0.3693012463585231, 0.0, 0.2599282105041987, -0.029979000095993746, 0.0, 0.15638593339394866, 0.15638593339394866, 0.3693012463585231, 0.15638593339394866, -0.029979000095993746, 0.15638593339394866, 0.15638593339394866, 0.3693012463585231, 0.0618122940072156, 0.15638593339394866, 0.0618122940072156, 0.3693012463585231, 0.15638593339394866, 0.0, 0.15638593339394866, 0.0, 0.0618122940072156, 0.3693012463585231, 0.2599282105041987, 0.0618122940072156, 0.15638593339394866, 0.3693012463585231, 0.2599282105041987, 0.0618122940072156, 0.4817878708095713, 0.0618122940072156, 0.2599282105041987, 0.2599282105041987, 0.15638593339394866, 0.0618122940072156, 0.3693012463585231, 0.3693012463585231, 0.15638593339394866, 0.0618122940072156, 0.0618122940072156, 0.15638593339394866, 0.2599282105041987, 0.15638593339394866, 0.2599282105041987, 0.0618122940072156, 0.0618122940072156, 0.0, 0.5974692524046055, 0.0, 0.0618122940072156, 0.3693012463585231, -0.029979000095993746, 0.3693012463585231, -0.029979000095993746, 0.0618122940072156, 0.3693012463585231, 0.2599282105041987, 0.0618122940072156, -0.029979000095993746, -0.029979000095993746, 0.15638593339394866, -0.029979000095993746, 0.15638593339394866, 0.15638593339394866, -0.029979000095993746, 0.3693012463585231, 0.0, -0.029979000095993746, 0.0, -0.029979000095993746, 0.2599282105041987, 0.0, 0.2599282105041987, -0.029979000095993746, 0.0, -0.029979000095993746, 0.2599282105041987, 0.15638593339394866, 0.3693012463585231, 0.0, 0.15638593339394866, 0.0, 0.0, 0.5974692524046055, 0.0618122940072156, 0.4817878708095713, 0.2599282105041987, -0.029979000095993746, 0.2599282105041987, 0.0618122940072156, -0.029979000095993746, 0.2599282105041987, 0.0, 0.0618122940072156, 0.15638593339394866, 0.3693012463585231, 0.3693012463585231, 0.15638593339394866, 0.0, 0.3693012463585231, 0.3693012463585231, 0.2599282105041987, 0.3693012463585231, 0.2599282105041987, 0.15638593339394866, -0.029979000095993746, 0.0, -0.029979000095993746, 0.2599282105041987, 0.0, 0.0, 0.15638593339394866, 0.2599282105041987, -0.029979000095993746, 0.0618122940072156, 0.0618122940072156, 0.2599282105041987, 0.0, 0.2599282105041987, 0.0618122940072156, 0.0618122940072156, 0.15638593339394866, 0.0, 0.0618122940072156, 0.4817878708095713, 0.15638593339394866, 0.15638593339394866, 0.0, 0.15638593339394866, 0.0, 0.0, 0.15638593339394866, 0.3693012463585231, 0.0618122940072156, 0.0618122940072156, 0.0618122940072156, 0.15638593339394866, 0.0, 0.0, 0.0618122940072156, 0.15638593339394866, 0.15638593339394866, 0.0, 0.0, 0.0618122940072156, 0.0, 0.4817878708095713, -0.029979000095993746, 0.0618122940072156, 0.4817878708095713, -0.029979000095993746, -0.029979000095993746, 0.0618122940072156, 0.2599282105041987, 0.15638593339394866, 0.0618122940072156, 0.2599282105041987, 0.0, 0.0, -0.029979000095993746, 0.3693012463585231, 0.3693012463585231, 0.15638593339394866, 0.0618122940072156, 0.0618122940072156, 0.4817878708095713, 0.0, -0.029979000095993746, -0.029979000095993746, 0.3693012463585231, 0.0618122940072156, 0.0618122940072156, -0.029979000095993746, 0.0618122940072156, 0.0618122940072156, 0.0618122940072156, -0.029979000095993746, 0.15638593339394866, 0.4817878708095713, 0.15638593339394866, 0.0, -0.029979000095993746, 0.3693012463585231, 0.2599282105041987, 0.15638593339394866, 0.2599282105041987, -0.029979000095993746, 0.15638593339394866, 0.15638593339394866, 0.4817878708095713, 0.4817878708095713, 0.0, 0.3693012463585231, 0.15638593339394866, -0.029979000095993746, 0.0618122940072156, 0.0, 0.3693012463585231, -0.029979000095993746, 0.0618122940072156, -0.029979000095993746, 0.2599282105041987, 0.0618122940072156, -0.029979000095993746, 0.15638593339394866, 0.0618122940072156, 0.0, 0.0, 0.15638593339394866, 0.15638593339394866, 0.0618122940072156, 0.15638593339394866, -0.029979000095993746, 0.0, 0.2599282105041987, 0.15638593339394866, 0.0618122940072156, 0.15638593339394866, 0.0618122940072156, 0.2599282105041987, 0.3693012463585231, 0.3693012463585231, 0.0, 0.0, 0.15638593339394866, 0.2599282105041987, 0.0618122940072156, 0.15638593339394866, 0.3693012463585231, -0.029979000095993746, 0.3693012463585231, 0.0618122940072156, 0.0618122940072156, 0.2599282105041987, 0.0618122940072156, 0.0, 0.15638593339394866, 0.0, 0.15638593339394866, 0.0, 0.2599282105041987, 0.15638593339394866, 0.0618122940072156, 0.0618122940072156, 0.0, 0.0, 0.0618122940072156, 0.4817878708095713, 0.2599282105041987, 0.3693012463585231, 0.3693012463585231, 0.15638593339394866, 0.0618122940072156, 0.2599282105041987, -0.029979000095993746, -0.029979000095993746, 0.4817878708095713, -0.029979000095993746, 0.0618122940072156, 0.2599282105041987, 0.3693012463585231, 0.0618122940072156, 0.0618122940072156, 0.0, 0.15638593339394866, 0.2599282105041987, 0.2599282105041987, 0.3693012463585231, 0.0618122940072156, 0.2599282105041987, 0.0618122940072156, 0.15638593339394866, 0.0618122940072156, 0.5974692524046055, -0.029979000095993746, 0.2599282105041987, 0.15638593339394866, 0.2599282105041987, 0.0618122940072156, 0.3693012463585231, 0.0618122940072156, 0.0, 0.2599282105041987, 0.15638593339394866, -0.029979000095993746, 0.0618122940072156, -0.029979000095993746, -0.029979000095993746, 0.0618122940072156, 0.0, 0.15638593339394866, 0.2599282105041987, 0.2599282105041987, -0.029979000095993746, 0.15638593339394866, -0.029979000095993746, 0.0618122940072156, 0.0618122940072156, 0.3693012463585231, 0.0, 0.2599282105041987, 0.15638593339394866, -0.029979000095993746, -0.029979000095993746, 0.15638593339394866, -0.029979000095993746, 0.15638593339394866, 0.2599282105041987, -0.029979000095993746, 0.3693012463585231, 0.0618122940072156, 0.15638593339394866, 0.0618122940072156, 0.0618122940072156, 0.0, 0.3693012463585231, 0.15638593339394866, 0.0, 0.15638593339394866, -0.029979000095993746, -0.029979000095993746, 0.0618122940072156, 0.0, 0.15638593339394866, 0.3693012463585231, 0.0618122940072156, 0.4817878708095713, 0.15638593339394866, 0.0, 0.0, 0.0, 0.3693012463585231, 0.4817878708095713, 0.0, 0.0618122940072156, 0.15638593339394866, 0.0618122940072156, 0.3693012463585231, -0.029979000095993746, 0.0, 0.15638593339394866, 0.2599282105041987, 0.15638593339394866, 0.3693012463585231, 0.5974692524046055, 0.2599282105041987, 0.0618122940072156, 0.2599282105041987, 0.0618122940072156, 0.0, 0.0, 0.2599282105041987, -0.029979000095993746, 0.3693012463585231, 0.15638593339394866, -0.029979000095993746, 0.5974692524046055, -0.029979000095993746, 0.15638593339394866, 0.0, -0.029979000095993746, 0.2599282105041987]]",
     "output_type": "error",
     "traceback": [
      "BoundsError: attempt to access 40-element interpolate((::Vector{Float64},), ::Vector{Float64}, Gridded(Linear())) with element type Float64 at index [[0.0, 0.2599282105041987, -0.029979000095993746, 0.15638593339394866, 0.3693012463585231, 0.0, 0.15638593339394866, 0.2599282105041987, 0.2599282105041987, 0.5974692524046055, 0.15638593339394866, 0.2599282105041987, 0.3693012463585231, 0.15638593339394866, 0.0618122940072156, 0.0, -0.029979000095993746, 0.0, 0.0618122940072156, 0.5974692524046055, 0.0618122940072156, 0.0, 0.0, 0.0618122940072156, 0.0618122940072156, -0.029979000095993746, 0.5974692524046055, 0.15638593339394866, 0.0, 0.3693012463585231, 0.2599282105041987, 0.0618122940072156, 0.3693012463585231, 0.15638593339394866, -0.029979000095993746, 0.0, 0.0618122940072156, 0.2599282105041987, 0.3693012463585231, 0.3693012463585231, 0.0, 0.4817878708095713, 0.0618122940072156, 0.0, 0.3693012463585231, 0.0618122940072156, 0.15638593339394866, 0.3693012463585231, 0.0618122940072156, -0.029979000095993746, -0.029979000095993746, 0.15638593339394866, -0.029979000095993746, 0.0, -0.029979000095993746, 0.2599282105041987, 0.4817878708095713, 0.0, -0.029979000095993746, 0.0, 0.2599282105041987, 0.0, 0.15638593339394866, 0.0618122940072156, 0.0618122940072156, -0.029979000095993746, 0.3693012463585231, 0.3693012463585231, 0.0618122940072156, -0.029979000095993746, 0.0, 0.2599282105041987, 0.2599282105041987, 0.2599282105041987, 0.0618122940072156, 0.15638593339394866, 0.0618122940072156, 0.2599282105041987, 0.0618122940072156, 0.5974692524046055, 0.15638593339394866, 0.15638593339394866, 0.15638593339394866, 0.0618122940072156, 0.15638593339394866, 0.0618122940072156, 0.15638593339394866, 0.15638593339394866, 0.0, 0.2599282105041987, 0.3693012463585231, 0.0618122940072156, 0.0, -0.029979000095993746, 0.3693012463585231, -0.029979000095993746, 0.15638593339394866, 0.0618122940072156, 0.0, 0.2599282105041987, 0.0618122940072156, 0.3693012463585231, 0.0618122940072156, 0.15638593339394866, -0.029979000095993746, 0.0, -0.029979000095993746, 0.0, 0.0618122940072156, -0.029979000095993746, 0.15638593339394866, 0.0618122940072156, 0.2599282105041987, 0.0, 0.2599282105041987, 0.3693012463585231, 0.3693012463585231, 0.15638593339394866, -0.029979000095993746, 0.3693012463585231, 0.0618122940072156, 0.2599282105041987, 0.5974692524046055, 0.0, 0.2599282105041987, 0.15638593339394866, 0.15638593339394866, 0.15638593339394866, 0.2599282105041987, 0.15638593339394866, 0.15638593339394866, 0.2599282105041987, -0.029979000095993746, 0.2599282105041987, 0.4817878708095713, 0.5974692524046055, 0.15638593339394866, 0.2599282105041987, 0.4817878708095713, 0.5974692524046055, 0.3693012463585231, 0.0, 0.0618122940072156, 0.0, 0.2599282105041987, 0.3693012463585231, 0.15638593339394866, 0.15638593339394866, -0.029979000095993746, 0.0618122940072156, 0.2599282105041987, 0.4817878708095713, -0.029979000095993746, 0.0618122940072156, 0.0618122940072156, 0.0618122940072156, 0.2599282105041987, -0.029979000095993746, -0.029979000095993746, -0.029979000095993746, 0.5974692524046055, 0.2599282105041987, 0.15638593339394866, 0.0618122940072156, 0.3693012463585231, 0.3693012463585231, 0.3693012463585231, 0.2599282105041987, 0.15638593339394866, -0.029979000095993746, 0.0618122940072156, 0.15638593339394866, -0.029979000095993746, 0.15638593339394866, -0.029979000095993746, 0.5974692524046055, 0.4817878708095713, 0.2599282105041987, -0.029979000095993746, -0.029979000095993746, 0.0618122940072156, 0.0618122940072156, 0.0, 0.2599282105041987, 0.0618122940072156, 0.15638593339394866, 0.0618122940072156, 0.3693012463585231, -0.029979000095993746, 0.0618122940072156, 0.2599282105041987, 0.0, 0.0618122940072156, 0.0618122940072156, -0.029979000095993746, -0.029979000095993746, 0.15638593339394866, 0.0618122940072156, 0.2599282105041987, 0.0, 0.3693012463585231, 0.15638593339394866, 0.2599282105041987, 0.15638593339394866, 0.4817878708095713, 0.3693012463585231, 0.0618122940072156, 0.15638593339394866, 0.15638593339394866, 0.0618122940072156, 0.3693012463585231, 0.5974692524046055, 0.3693012463585231, 0.0, 0.0, 0.0, 0.15638593339394866, 0.15638593339394866, 0.0, 0.15638593339394866, 0.3693012463585231, -0.029979000095993746, 0.15638593339394866, -0.029979000095993746, 0.2599282105041987, -0.029979000095993746, 0.0618122940072156, 0.0618122940072156, 0.0618122940072156, 0.2599282105041987, 0.3693012463585231, 0.0618122940072156, 0.3693012463585231, 0.0, 0.0, 0.2599282105041987, 0.5974692524046055, -0.029979000095993746, 0.0618122940072156, 0.2599282105041987, 0.2599282105041987, 0.15638593339394866, -0.029979000095993746, 0.0618122940072156, 0.2599282105041987, 0.15638593339394866, 0.3693012463585231, 0.15638593339394866, -0.029979000095993746, 0.2599282105041987, 0.15638593339394866, 0.0618122940072156, 0.2599282105041987, 0.0618122940072156, -0.029979000095993746, 0.4817878708095713, 0.2599282105041987, 0.0618122940072156, -0.029979000095993746, 0.0, 0.15638593339394866, 0.2599282105041987, -0.029979000095993746, 0.3693012463585231, 0.5974692524046055, 0.0, -0.029979000095993746, 0.0618122940072156, 0.0618122940072156, 0.15638593339394866, 0.15638593339394866, 0.0, -0.029979000095993746, 0.4817878708095713, 0.0, 0.0618122940072156, -0.029979000095993746, 0.2599282105041987, -0.029979000095993746, 0.15638593339394866, 0.0, 0.15638593339394866, 0.0618122940072156, -0.029979000095993746, 0.3693012463585231, 0.15638593339394866, 0.2599282105041987, 0.0618122940072156, 0.3693012463585231, 0.0618122940072156, -0.029979000095993746, 0.4817878708095713, -0.029979000095993746, 0.0, 0.2599282105041987, -0.029979000095993746, -0.029979000095993746, 0.2599282105041987, -0.029979000095993746, 0.4817878708095713, 0.0, 0.2599282105041987, 0.2599282105041987, 0.3693012463585231, 0.2599282105041987, 0.0618122940072156, 0.3693012463585231, 0.0, 0.0618122940072156, 0.2599282105041987, 0.15638593339394866, 0.0, 0.3693012463585231, 0.3693012463585231, 0.15638593339394866, 0.2599282105041987, 0.15638593339394866, 0.0618122940072156, 0.4817878708095713, -0.029979000095993746, 0.0618122940072156, -0.029979000095993746, 0.0618122940072156, 0.0618122940072156, 0.0618122940072156, 0.0, 0.2599282105041987, 0.0618122940072156, 0.0, 0.15638593339394866, 0.0618122940072156, 0.0, 0.0618122940072156, -0.029979000095993746, 0.4817878708095713, 0.15638593339394866, 0.0618122940072156, 0.15638593339394866, 0.0, 0.2599282105041987, 0.15638593339394866, 0.0, 0.0618122940072156, -0.029979000095993746, 0.0, 0.15638593339394866, 0.15638593339394866, 0.0618122940072156, 0.0, 0.0, 0.15638593339394866, 0.2599282105041987, 0.3693012463585231, 0.15638593339394866, 0.0618122940072156, 0.15638593339394866, 0.4817878708095713, 0.0618122940072156, 0.15638593339394866, 0.4817878708095713, 0.15638593339394866, 0.2599282105041987, 0.0, 0.15638593339394866, 0.2599282105041987, 0.0618122940072156, 0.2599282105041987, 0.0, 0.0, 0.15638593339394866, 0.0618122940072156, 0.3693012463585231, 0.0618122940072156, 0.2599282105041987, 0.2599282105041987, 0.0, 0.15638593339394866, 0.0, -0.029979000095993746, 0.0, 0.2599282105041987, 0.0618122940072156, 0.0, 0.3693012463585231, 0.2599282105041987, 0.2599282105041987, 0.15638593339394866, 0.0618122940072156, 0.0618122940072156, 0.3693012463585231, 0.0, 0.2599282105041987, -0.029979000095993746, 0.0, 0.15638593339394866, 0.15638593339394866, 0.3693012463585231, 0.15638593339394866, -0.029979000095993746, 0.15638593339394866, 0.15638593339394866, 0.3693012463585231, 0.0618122940072156, 0.15638593339394866, 0.0618122940072156, 0.3693012463585231, 0.15638593339394866, 0.0, 0.15638593339394866, 0.0, 0.0618122940072156, 0.3693012463585231, 0.2599282105041987, 0.0618122940072156, 0.15638593339394866, 0.3693012463585231, 0.2599282105041987, 0.0618122940072156, 0.4817878708095713, 0.0618122940072156, 0.2599282105041987, 0.2599282105041987, 0.15638593339394866, 0.0618122940072156, 0.3693012463585231, 0.3693012463585231, 0.15638593339394866, 0.0618122940072156, 0.0618122940072156, 0.15638593339394866, 0.2599282105041987, 0.15638593339394866, 0.2599282105041987, 0.0618122940072156, 0.0618122940072156, 0.0, 0.5974692524046055, 0.0, 0.0618122940072156, 0.3693012463585231, -0.029979000095993746, 0.3693012463585231, -0.029979000095993746, 0.0618122940072156, 0.3693012463585231, 0.2599282105041987, 0.0618122940072156, -0.029979000095993746, -0.029979000095993746, 0.15638593339394866, -0.029979000095993746, 0.15638593339394866, 0.15638593339394866, -0.029979000095993746, 0.3693012463585231, 0.0, -0.029979000095993746, 0.0, -0.029979000095993746, 0.2599282105041987, 0.0, 0.2599282105041987, -0.029979000095993746, 0.0, -0.029979000095993746, 0.2599282105041987, 0.15638593339394866, 0.3693012463585231, 0.0, 0.15638593339394866, 0.0, 0.0, 0.5974692524046055, 0.0618122940072156, 0.4817878708095713, 0.2599282105041987, -0.029979000095993746, 0.2599282105041987, 0.0618122940072156, -0.029979000095993746, 0.2599282105041987, 0.0, 0.0618122940072156, 0.15638593339394866, 0.3693012463585231, 0.3693012463585231, 0.15638593339394866, 0.0, 0.3693012463585231, 0.3693012463585231, 0.2599282105041987, 0.3693012463585231, 0.2599282105041987, 0.15638593339394866, -0.029979000095993746, 0.0, -0.029979000095993746, 0.2599282105041987, 0.0, 0.0, 0.15638593339394866, 0.2599282105041987, -0.029979000095993746, 0.0618122940072156, 0.0618122940072156, 0.2599282105041987, 0.0, 0.2599282105041987, 0.0618122940072156, 0.0618122940072156, 0.15638593339394866, 0.0, 0.0618122940072156, 0.4817878708095713, 0.15638593339394866, 0.15638593339394866, 0.0, 0.15638593339394866, 0.0, 0.0, 0.15638593339394866, 0.3693012463585231, 0.0618122940072156, 0.0618122940072156, 0.0618122940072156, 0.15638593339394866, 0.0, 0.0, 0.0618122940072156, 0.15638593339394866, 0.15638593339394866, 0.0, 0.0, 0.0618122940072156, 0.0, 0.4817878708095713, -0.029979000095993746, 0.0618122940072156, 0.4817878708095713, -0.029979000095993746, -0.029979000095993746, 0.0618122940072156, 0.2599282105041987, 0.15638593339394866, 0.0618122940072156, 0.2599282105041987, 0.0, 0.0, -0.029979000095993746, 0.3693012463585231, 0.3693012463585231, 0.15638593339394866, 0.0618122940072156, 0.0618122940072156, 0.4817878708095713, 0.0, -0.029979000095993746, -0.029979000095993746, 0.3693012463585231, 0.0618122940072156, 0.0618122940072156, -0.029979000095993746, 0.0618122940072156, 0.0618122940072156, 0.0618122940072156, -0.029979000095993746, 0.15638593339394866, 0.4817878708095713, 0.15638593339394866, 0.0, -0.029979000095993746, 0.3693012463585231, 0.2599282105041987, 0.15638593339394866, 0.2599282105041987, -0.029979000095993746, 0.15638593339394866, 0.15638593339394866, 0.4817878708095713, 0.4817878708095713, 0.0, 0.3693012463585231, 0.15638593339394866, -0.029979000095993746, 0.0618122940072156, 0.0, 0.3693012463585231, -0.029979000095993746, 0.0618122940072156, -0.029979000095993746, 0.2599282105041987, 0.0618122940072156, -0.029979000095993746, 0.15638593339394866, 0.0618122940072156, 0.0, 0.0, 0.15638593339394866, 0.15638593339394866, 0.0618122940072156, 0.15638593339394866, -0.029979000095993746, 0.0, 0.2599282105041987, 0.15638593339394866, 0.0618122940072156, 0.15638593339394866, 0.0618122940072156, 0.2599282105041987, 0.3693012463585231, 0.3693012463585231, 0.0, 0.0, 0.15638593339394866, 0.2599282105041987, 0.0618122940072156, 0.15638593339394866, 0.3693012463585231, -0.029979000095993746, 0.3693012463585231, 0.0618122940072156, 0.0618122940072156, 0.2599282105041987, 0.0618122940072156, 0.0, 0.15638593339394866, 0.0, 0.15638593339394866, 0.0, 0.2599282105041987, 0.15638593339394866, 0.0618122940072156, 0.0618122940072156, 0.0, 0.0, 0.0618122940072156, 0.4817878708095713, 0.2599282105041987, 0.3693012463585231, 0.3693012463585231, 0.15638593339394866, 0.0618122940072156, 0.2599282105041987, -0.029979000095993746, -0.029979000095993746, 0.4817878708095713, -0.029979000095993746, 0.0618122940072156, 0.2599282105041987, 0.3693012463585231, 0.0618122940072156, 0.0618122940072156, 0.0, 0.15638593339394866, 0.2599282105041987, 0.2599282105041987, 0.3693012463585231, 0.0618122940072156, 0.2599282105041987, 0.0618122940072156, 0.15638593339394866, 0.0618122940072156, 0.5974692524046055, -0.029979000095993746, 0.2599282105041987, 0.15638593339394866, 0.2599282105041987, 0.0618122940072156, 0.3693012463585231, 0.0618122940072156, 0.0, 0.2599282105041987, 0.15638593339394866, -0.029979000095993746, 0.0618122940072156, -0.029979000095993746, -0.029979000095993746, 0.0618122940072156, 0.0, 0.15638593339394866, 0.2599282105041987, 0.2599282105041987, -0.029979000095993746, 0.15638593339394866, -0.029979000095993746, 0.0618122940072156, 0.0618122940072156, 0.3693012463585231, 0.0, 0.2599282105041987, 0.15638593339394866, -0.029979000095993746, -0.029979000095993746, 0.15638593339394866, -0.029979000095993746, 0.15638593339394866, 0.2599282105041987, -0.029979000095993746, 0.3693012463585231, 0.0618122940072156, 0.15638593339394866, 0.0618122940072156, 0.0618122940072156, 0.0, 0.3693012463585231, 0.15638593339394866, 0.0, 0.15638593339394866, -0.029979000095993746, -0.029979000095993746, 0.0618122940072156, 0.0, 0.15638593339394866, 0.3693012463585231, 0.0618122940072156, 0.4817878708095713, 0.15638593339394866, 0.0, 0.0, 0.0, 0.3693012463585231, 0.4817878708095713, 0.0, 0.0618122940072156, 0.15638593339394866, 0.0618122940072156, 0.3693012463585231, -0.029979000095993746, 0.0, 0.15638593339394866, 0.2599282105041987, 0.15638593339394866, 0.3693012463585231, 0.5974692524046055, 0.2599282105041987, 0.0618122940072156, 0.2599282105041987, 0.0618122940072156, 0.0, 0.0, 0.2599282105041987, -0.029979000095993746, 0.3693012463585231, 0.15638593339394866, -0.029979000095993746, 0.5974692524046055, -0.029979000095993746, 0.15638593339394866, 0.0, -0.029979000095993746, 0.2599282105041987]]\n",
      "\n",
      "Stacktrace:\n",
      " [1] throw_boundserror(A::Interpolations.GriddedInterpolation{Float64, 1, Float64, Gridded{Linear{Throw{OnGrid}}}, Tuple{Vector{Float64}}}, I::Tuple{Vector{Float64}})\n",
      "   @ Base ./abstractarray.jl:691\n",
      " [2] (::Interpolations.GriddedInterpolation{Float64, 1, Float64, Gridded{Linear{Throw{OnGrid}}}, Tuple{Vector{Float64}}})(x::Vector{Float64})\n",
      "   @ Interpolations ~/.julia/packages/Interpolations/y4lLj/src/gridded/indexing.jl:83\n",
      " [3] top-level scope\n",
      "   @ ~/Documents/GitHub/IIRUHH_master/src/getEE.ipynb:28"
     ]
    }
   ],
   "source": [
    "if DoSimulate==1\n",
    "\n",
    "    yindsim = zeros(Int,Nsim,Tsim)\n",
    "    asim = zeros(Nsim,Tsim)\n",
    "    \n",
    "    ## create interpolating function\n",
    "    savinterp = Array{Any}(undef,ny)\n",
    "    for iy = 1:ny\n",
    "        savinterp[iy] = interpolate((agrid,), sav[:,iy], Gridded(Linear()))\n",
    "    end\n",
    "    \n",
    "    ## loop over time periods\n",
    "    for it = 1:Tsim\n",
    "        if Display >=1 && mod(it,100)==0\n",
    "            println(\"Simulating, time period \" * string(it))\n",
    "        end\n",
    "        \n",
    "        ## income realization: note we vectorize simulations at once because\n",
    "        ## of matlab, in other languages we would loop over individuals\n",
    "        yindsim[yrand[:,it].<=ycumdist[1],it] .= 1\n",
    "        for iy = 2:ny\n",
    "            yindsim[(yrand[:,it].> ycumdist[iy-1]) .& (yrand[:,it].<=ycumdist[iy]),it] .= iy\n",
    "        end\n",
    "        \n",
    "        ## asset choice\n",
    "        if it<Tsim\n",
    "            for iy = 1:ny\n",
    "                asim[yindsim[:,it].==iy,it+1] = savinterp[iy](asim[yindsim[:,it].==iy,it])\n",
    "            end\n",
    "        end\n",
    "    end\n",
    "    \n",
    "    ## assign actual income values\n",
    "    ysim = ygrid[yindsim]\n",
    "\n",
    "end"
   ]
  },
  {
   "cell_type": "code",
   "execution_count": null,
   "metadata": {},
   "outputs": [],
   "source": []
  }
 ],
 "metadata": {
  "kernelspec": {
   "display_name": "Julia 1.7.3",
   "language": "julia",
   "name": "julia-1.7"
  },
  "language_info": {
   "file_extension": ".jl",
   "mimetype": "application/julia",
   "name": "julia",
   "version": "1.7.3"
  },
  "orig_nbformat": 4
 },
 "nbformat": 4,
 "nbformat_minor": 2
}
