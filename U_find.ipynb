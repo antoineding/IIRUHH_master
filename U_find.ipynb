{
 "cells": [
  {
   "cell_type": "markdown",
   "metadata": {},
   "source": [
    "Get the implicit utility function."
   ]
  },
  {
   "cell_type": "code",
   "execution_count": 1,
   "metadata": {},
   "outputs": [],
   "source": [
    "struct Calibration\n",
    "    σ::Float64           #elasticity of relative demand with respect to price         \n",
    "    γ::Vector{Float64}   #intensity in each good\n",
    "    ϵ::Vector{Float64}   #elasticity of relative demand with respect to income in luxury good sector\n",
    "    κ::Vector{Float64}   #For Stone and Geary\n",
    "end\n"
   ]
  },
  {
   "cell_type": "code",
   "execution_count": 2,
   "metadata": {},
   "outputs": [
    {
     "data": {
      "text/plain": [
       "Calibration(0.5, [0.3333333333333333, 0.3333333333333333, 0.3333333333333333], [0.7, 1.0, 1.25], [0.05, 0.03, 0.02])"
      ]
     },
     "metadata": {},
     "output_type": "display_data"
    }
   ],
   "source": [
    "cal = Calibration(\n",
    "    0.5,                    # sigma=0.5 completementary goods\n",
    "    [1/3, 1/3, 1/3],        #intensity\n",
    "    [0.7, 1.0, 1.25],       #ELASTICITIES\n",
    "    [0.05, 0.03, 0.02]      #For Stone and Geary\n",
    ")"
   ]
  },
  {
   "cell_type": "code",
   "execution_count": 3,
   "metadata": {},
   "outputs": [
    {
     "data": {
      "text/plain": [
       "-1.0"
      ]
     },
     "metadata": {},
     "output_type": "display_data"
    }
   ],
   "source": [
    "ρ=((cal.σ-1)/cal.σ)"
   ]
  },
  {
   "cell_type": "code",
   "execution_count": 4,
   "metadata": {},
   "outputs": [
    {
     "data": {
      "text/plain": [
       "CES (generic function with 1 method)"
      ]
     },
     "metadata": {},
     "output_type": "display_data"
    }
   ],
   "source": [
    "#Function CES\n",
    "function CES(C::Vector{Int64}, cal)\n",
    "    U=sum(cal.γ[i]*C[i]^ρ for i=1:length(C))^(1/ρ)\n",
    "    return U\n",
    "end"
   ]
  },
  {
   "cell_type": "code",
   "execution_count": 10,
   "metadata": {},
   "outputs": [
    {
     "data": {
      "text/plain": [
       "27×4 Matrix{Real}:\n",
       " 1.0      1  1  1\n",
       " 1.2      1  1  2\n",
       " 1.28571  1  1  3\n",
       " 1.2      1  2  1\n",
       " 1.5      1  2  2\n",
       " 1.63636  1  2  3\n",
       " 1.28571  1  3  1\n",
       " 1.63636  1  3  2\n",
       " 1.8      1  3  3\n",
       " 1.2      2  1  1\n",
       " ⋮              \n",
       " 1.28571  3  1  1\n",
       " 1.63636  3  1  2\n",
       " 1.8      3  1  3\n",
       " 1.63636  3  2  1\n",
       " 2.25     3  2  2\n",
       " 2.57143  3  2  3\n",
       " 1.8      3  3  1\n",
       " 2.57143  3  3  2\n",
       " 3.0      3  3  3"
      ]
     },
     "metadata": {},
     "output_type": "display_data"
    }
   ],
   "source": [
    "u=[]\n",
    "C_1=[]\n",
    "C_2=[]\n",
    "C_3=[]\n",
    "\n",
    "scale=3\n",
    "for i = 1:scale\n",
    "    for j=1:scale\n",
    "        for k =1:scale\n",
    "            res = CES([i,j,k],cal)\n",
    "            u=push!(u,res)\n",
    "            C_1=push!(C_1,i)\n",
    "            C_2=push!(C_2,j)\n",
    "            C_3=push!(C_3,k)\n",
    "        end\n",
    "    end\n",
    "end\n",
    "[u C_1 C_2 C_3]"
   ]
  },
  {
   "cell_type": "code",
   "execution_count": 5,
   "metadata": {},
   "outputs": [
    {
     "data": {
      "text/plain": [
       "SG (generic function with 1 method)"
      ]
     },
     "metadata": {},
     "output_type": "display_data"
    }
   ],
   "source": [
    "#Function Stone and Geary\n",
    "function SG(C::Vector{Int64}, cal)\n",
    "    U=sum(cal.γ[i]*(C[i]+cal.κ[i])^ρ for i=1:length(C))^(1/ρ)\n",
    "    return U\n",
    "end"
   ]
  },
  {
   "cell_type": "code",
   "execution_count": 11,
   "metadata": {},
   "outputs": [
    {
     "data": {
      "text/plain": [
       "27×4 Matrix{Real}:\n",
       " 1.03318  1  1  1\n",
       " 1.24054  1  1  2\n",
       " 1.33074  1  1  3\n",
       " 1.23692  1  2  1\n",
       " 1.54636  1  2  2\n",
       " 1.68908  1  2  3\n",
       " 1.32579  1  3  1\n",
       " 1.6878   1  3  2\n",
       " 1.85927  1  3  3\n",
       " 1.22998  2  1  1\n",
       " ⋮              \n",
       " 1.31629  3  1  1\n",
       " 1.67243  3  1  2\n",
       " 1.84064  3  1  3\n",
       " 1.66586  3  2  1\n",
       " 2.28045  3  2  2\n",
       " 2.60506  3  2  3\n",
       " 1.83117  3  3  1\n",
       " 2.60202  3  3  2\n",
       " 3.03328  3  3  3"
      ]
     },
     "metadata": {},
     "output_type": "display_data"
    }
   ],
   "source": [
    "u=[]\n",
    "C_1=[]\n",
    "C_2=[]\n",
    "C_3=[]\n",
    "\n",
    "scale=3\n",
    "for i = 1:scale\n",
    "    for j=1:scale\n",
    "        for k =1:scale\n",
    "            res = SG([i,j,k],cal)\n",
    "            u=push!(u,res)\n",
    "            C_1=push!(C_1,i)\n",
    "            C_2=push!(C_2,j)\n",
    "            C_3=push!(C_3,k)\n",
    "        end\n",
    "    end\n",
    "end\n",
    "[u C_1 C_2 C_3]"
   ]
  },
  {
   "cell_type": "code",
   "execution_count": 12,
   "metadata": {},
   "outputs": [
    {
     "data": {
      "text/plain": [
       "NH (generic function with 1 method)"
      ]
     },
     "metadata": {},
     "output_type": "display_data"
    }
   ],
   "source": [
    "using NLsolve\n",
    "function NH(u, C::Vector{Int64}, cal)\n",
    "    out=sum(cal.γ[i]^(1/cal.σ)*(C[i]/u^cal.ϵ[i])^ρ for i=1:length(C))-1\n",
    "    return out\n",
    "end"
   ]
  },
  {
   "cell_type": "code",
   "execution_count": 15,
   "metadata": {},
   "outputs": [
    {
     "data": {
      "text/plain": [
       "1000×4 Matrix{Any}:\n",
       " [2.96635]   1   1   1\n",
       " [3.80055]   1   1   2\n",
       " [4.23173]   1   1   3\n",
       " [4.49771]   1   1   4\n",
       " [4.67874]   1   1   5\n",
       " [4.81009]   1   1   6\n",
       " [4.90981]   1   1   7\n",
       " [4.98814]   1   1   8\n",
       " [5.05129]   1   1   9\n",
       " [5.10331]   1   1  10\n",
       " ⋮                  \n",
       " [8.86869]  10  10   2\n",
       " [11.7638]  10  10   3\n",
       " [14.2651]  10  10   4\n",
       " [16.4802]  10  10   5\n",
       " [18.4723]  10  10   6\n",
       " [20.2836]  10  10   7\n",
       " [21.9439]  10  10   8\n",
       " [23.4758]  10  10   9\n",
       " [24.8966]  10  10  10"
      ]
     },
     "metadata": {},
     "output_type": "display_data"
    }
   ],
   "source": [
    "u=[]\n",
    "C_1=[]\n",
    "C_2=[]\n",
    "C_3=[]\n",
    "\n",
    "scale=10\n",
    "for i = 1:scale\n",
    "    for j=1:scale\n",
    "        for k =1:scale\n",
    "            res = nlsolve(u->[NH(u[1], [i, j, k], cal)], [1.0])\n",
    "            U=res.zero\n",
    "            u=push!(u,U)\n",
    "            C_1=push!(C_1,i)\n",
    "            C_2=push!(C_2,j)\n",
    "            C_3=push!(C_3,k)\n",
    "        end\n",
    "    end\n",
    "end\n",
    "[u C_1 C_2 C_3]"
   ]
  },
  {
   "cell_type": "code",
   "execution_count": null,
   "metadata": {},
   "outputs": [],
   "source": []
  }
 ],
 "metadata": {
  "kernelspec": {
   "display_name": "Julia 1.6.3",
   "language": "julia",
   "name": "julia-1.6"
  },
  "language_info": {
   "file_extension": ".jl",
   "mimetype": "application/julia",
   "name": "julia",
   "version": "1.6.3"
  },
  "orig_nbformat": 4
 },
 "nbformat": 4,
 "nbformat_minor": 2
}
