{
 "cells": [
  {
   "cell_type": "markdown",
   "metadata": {},
   "source": [
    "Get the implicit utility function."
   ]
  },
  {
   "cell_type": "code",
   "execution_count": 1,
   "metadata": {},
   "outputs": [],
   "source": [
    "struct Calibration\n",
    "    σ::Float64           #elasticity of relative demand with respect to price         \n",
    "    γ::Vector{Float64}   #intensity in each good\n",
    "    ϵ::Vector{Float64}   #elasticity of relative demand with respect to income in luxury good sector\n",
    "    κ::Vector{Float64}   #For Stone and Geary\n",
    "    p::Vector{Float64}\n",
    "end\n"
   ]
  },
  {
   "cell_type": "code",
   "execution_count": 5,
   "metadata": {},
   "outputs": [
    {
     "data": {
      "text/plain": [
       "Calibration(0.5, [0.3333333333333333, 0.3333333333333333, 0.3333333333333333], [0.7, 1.0, 1.25], [0.05, 0.03, 0.02], [10.0, 20.0, 30.0])"
      ]
     },
     "metadata": {},
     "output_type": "display_data"
    }
   ],
   "source": [
    "cal = Calibration(\n",
    "    0.5,                    # sigma=0.5 completementary goods\n",
    "    [1/3, 1/3, 1/3],        #intensity\n",
    "    [0.7, 1.0, 1.25],       #ELASTICITIES\n",
    "    [0.05, 0.03, 0.02],     #For Stone and Geary\n",
    "    [10.0, 20.0, 30.0]\n",
    ")"
   ]
  },
  {
   "cell_type": "code",
   "execution_count": 6,
   "metadata": {},
   "outputs": [
    {
     "data": {
      "text/plain": [
       "-1.0"
      ]
     },
     "metadata": {},
     "output_type": "display_data"
    }
   ],
   "source": [
    "ρ=((cal.σ-1)/cal.σ)"
   ]
  },
  {
   "cell_type": "code",
   "execution_count": 4,
   "metadata": {},
   "outputs": [
    {
     "data": {
      "text/plain": [
       "CES (generic function with 1 method)"
      ]
     },
     "metadata": {},
     "output_type": "display_data"
    }
   ],
   "source": [
    "#Function CES\n",
    "function CES(C::Vector{Int64}, cal)\n",
    "    U=sum(cal.γ[i]*C[i]^ρ for i=1:length(C))^(1/ρ)\n",
    "    return U\n",
    "end"
   ]
  },
  {
   "cell_type": "code",
   "execution_count": 5,
   "metadata": {},
   "outputs": [
    {
     "data": {
      "text/plain": [
       "27×4 Matrix{Real}:\n",
       " 1.0      1  1  1\n",
       " 1.2      1  1  2\n",
       " 1.28571  1  1  3\n",
       " 1.2      1  2  1\n",
       " 1.5      1  2  2\n",
       " 1.63636  1  2  3\n",
       " 1.28571  1  3  1\n",
       " 1.63636  1  3  2\n",
       " 1.8      1  3  3\n",
       " 1.2      2  1  1\n",
       " ⋮              \n",
       " 1.28571  3  1  1\n",
       " 1.63636  3  1  2\n",
       " 1.8      3  1  3\n",
       " 1.63636  3  2  1\n",
       " 2.25     3  2  2\n",
       " 2.57143  3  2  3\n",
       " 1.8      3  3  1\n",
       " 2.57143  3  3  2\n",
       " 3.0      3  3  3"
      ]
     },
     "metadata": {},
     "output_type": "display_data"
    }
   ],
   "source": [
    "u=[]\n",
    "C_1=[]\n",
    "C_2=[]\n",
    "C_3=[]\n",
    "\n",
    "scale=3\n",
    "for i = 1:scale\n",
    "    for j=1:scale\n",
    "        for k =1:scale\n",
    "            res = CES([i,j,k],cal)\n",
    "            u=push!(u,res)\n",
    "            C_1=push!(C_1,i)\n",
    "            C_2=push!(C_2,j)\n",
    "            C_3=push!(C_3,k)\n",
    "        end\n",
    "    end\n",
    "end\n",
    "[u C_1 C_2 C_3]"
   ]
  },
  {
   "cell_type": "code",
   "execution_count": 6,
   "metadata": {},
   "outputs": [
    {
     "data": {
      "text/plain": [
       "SG (generic function with 1 method)"
      ]
     },
     "metadata": {},
     "output_type": "display_data"
    }
   ],
   "source": [
    "#Function Stone and Geary\n",
    "function SG(C::Vector{Int64}, cal)\n",
    "    U=sum(cal.γ[i]*(C[i]+cal.κ[i])^ρ for i=1:length(C))^(1/ρ)\n",
    "    return U\n",
    "end"
   ]
  },
  {
   "cell_type": "code",
   "execution_count": 7,
   "metadata": {},
   "outputs": [
    {
     "data": {
      "text/plain": [
       "27×4 Matrix{Real}:\n",
       " 1.03318  1  1  1\n",
       " 1.24054  1  1  2\n",
       " 1.33074  1  1  3\n",
       " 1.23692  1  2  1\n",
       " 1.54636  1  2  2\n",
       " 1.68908  1  2  3\n",
       " 1.32579  1  3  1\n",
       " 1.6878   1  3  2\n",
       " 1.85927  1  3  3\n",
       " 1.22998  2  1  1\n",
       " ⋮              \n",
       " 1.31629  3  1  1\n",
       " 1.67243  3  1  2\n",
       " 1.84064  3  1  3\n",
       " 1.66586  3  2  1\n",
       " 2.28045  3  2  2\n",
       " 2.60506  3  2  3\n",
       " 1.83117  3  3  1\n",
       " 2.60202  3  3  2\n",
       " 3.03328  3  3  3"
      ]
     },
     "metadata": {},
     "output_type": "display_data"
    }
   ],
   "source": [
    "u=[]\n",
    "C_1=[]\n",
    "C_2=[]\n",
    "C_3=[]\n",
    "\n",
    "scale=3\n",
    "for i = 1:scale\n",
    "    for j=1:scale\n",
    "        for k =1:scale\n",
    "            res = SG([i,j,k],cal)\n",
    "            u=push!(u,res)\n",
    "            C_1=push!(C_1,i)\n",
    "            C_2=push!(C_2,j)\n",
    "            C_3=push!(C_3,k)\n",
    "        end\n",
    "    end\n",
    "end\n",
    "[u C_1 C_2 C_3]"
   ]
  },
  {
   "cell_type": "code",
   "execution_count": 25,
   "metadata": {},
   "outputs": [
    {
     "data": {
      "text/plain": [
       "NHUtility (generic function with 1 method)"
      ]
     },
     "metadata": {},
     "output_type": "display_data"
    }
   ],
   "source": [
    "using NLsolve\n",
    "\n",
    "function solvingNH(u, C::Vector{Int64}, cal)\n",
    "    out=sum(cal.γ[i]^(1/cal.σ)*(C[i]/u^cal.ϵ[i])^ρ for i=1:length(C))-1\n",
    "    return out\n",
    "end\n",
    "\n",
    "function NHUtility(u,C::Vector{Int64},cal)\n",
    "    u=1.0\n",
    "    res = nlsolve(u->[solvingNH(u[1], C, cal)], [1.0])\n",
    "    U=res.zero[1]\n",
    "    return U\n",
    "end"
   ]
  },
  {
   "cell_type": "code",
   "execution_count": 20,
   "metadata": {},
   "outputs": [
    {
     "data": {
      "text/plain": [
       "8.786777521566817"
      ]
     },
     "metadata": {},
     "output_type": "display_data"
    }
   ],
   "source": []
  },
  {
   "cell_type": "code",
   "execution_count": null,
   "metadata": {},
   "outputs": [],
   "source": [
    "function solvingC_p(u,C::Vector{Int64},cal)\n",
    "    Expenditure=sum(NHUtility(u,C,cal)^cal.ϵ[i]*cal.p[i]^(1-cal.σ) for i = 1:length(C))\n",
    "    P=NHUtility[u,[c_p, c_n, c_l],cal]^cal.ϵ[1] * (cal.p[1]/NH_Exp)^(-cal.σ)-c_p\n",
    "    N=NHUtility[u,[c_p, c_n, c_l],cal]^cal.ϵ[2] * (cal.p[2]/NH_Exp)^(-cal.σ)-c_n\n",
    "    L=NHUtility[u,[c_p, c_n, c_l],cal]^cal.ϵ[3] * (cal.p[3]/NH_Exp)^(-cal.σ)-c_l\n",
    "    return out\n",
    "end\n"
   ]
  },
  {
   "cell_type": "code",
   "execution_count": 23,
   "metadata": {},
   "outputs": [
    {
     "data": {
      "text/plain": [
       "513.9359860367287"
      ]
     },
     "metadata": {},
     "output_type": "display_data"
    }
   ],
   "source": [
    "C=[c_p,c_l,c_l]\n",
    "NH_Exp=sum(NHUtility(u,C,cal)^cal.ϵ[i]*cal.p[i]^(1-cal.σ) for i = 1:length(C))\n",
    "\n",
    "c_p=NHUtility[u,[c_p,c_n,c_l],cal]^cal.ϵ[1] * (cal.p[1]/NH_Exp)^(-cal.σ)\n",
    "c_n=NHUtility[u,[c_p,c_n,c_l],cal]^cal.ϵ[2] * (cal.p[2]/NH_Exp)^(-cal.σ)\n",
    "c_l=NHUtility[u,[c_p,c_n,c_l],cal]^cal.ϵ[3] * (cal.p[3]/NH_Exp)^(-cal.σ)"
   ]
  },
  {
   "cell_type": "code",
   "execution_count": null,
   "metadata": {},
   "outputs": [],
   "source": [
    "c_p=NHUtility[u,[c_p,c_n,c_l],cal]^cal.ϵ[1] * (p[t,1]/NH_Exp[t,i])^(-cal.σ)\n",
    "c_p=NHUtility[u,[c_p,c_n,c_l],cal]^cal.ϵ[2] * (p[t,2]/NH_Exp[t,i])^(-cal.σ)\n",
    "c_p=NHUtility[u,[c_p,c_n,c_l],cal]^cal.ϵ[3] * (p[t,3]/NH_Exp[t,i])^(-cal.σ)\n"
   ]
  },
  {
   "cell_type": "code",
   "execution_count": 47,
   "metadata": {},
   "outputs": [
    {
     "data": {
      "text/plain": [
       "1000×4 Matrix{Real}:\n",
       "  2.96635   1   1   1\n",
       "  3.80055   1   1   2\n",
       "  4.23173   1   1   3\n",
       "  4.49771   1   1   4\n",
       "  4.67874   1   1   5\n",
       "  4.81009   1   1   6\n",
       "  4.90981   1   1   7\n",
       "  4.98814   1   1   8\n",
       "  5.05129   1   1   9\n",
       "  5.10331   1   1  10\n",
       "  ⋮                \n",
       "  8.86869  10  10   2\n",
       " 11.7638   10  10   3\n",
       " 14.2651   10  10   4\n",
       " 16.4802   10  10   5\n",
       " 18.4723   10  10   6\n",
       " 20.2836   10  10   7\n",
       " 21.9439   10  10   8\n",
       " 23.4758   10  10   9\n",
       " 24.8966   10  10  10"
      ]
     },
     "metadata": {},
     "output_type": "display_data"
    }
   ],
   "source": [
    "u=[]\n",
    "C_1=[]\n",
    "C_2=[]\n",
    "C_3=[]\n",
    "\n",
    "scale=10\n",
    "for i = 1:scale\n",
    "    for j=1:scale\n",
    "        for k =1:scale\n",
    "            res = nlsolve(u->[solvingNH(u[1], [i, j, k], cal)], [1.0])\n",
    "            U=res.zero[1]\n",
    "            u=push!(u,U)\n",
    "            C_1=push!(C_1,i)\n",
    "            C_2=push!(C_2,j)\n",
    "            C_3=push!(C_3,k)\n",
    "        end\n",
    "    end\n",
    "end\n",
    "[u C_1 C_2 C_3]"
   ]
  },
  {
   "cell_type": "code",
   "execution_count": 43,
   "metadata": {},
   "outputs": [
    {
     "data": {
      "image/png": "[encoded data removed]",
      "image/svg+xml": "<?xml version=\"1.0\" encoding=\"utf-8\"?>\n<svg xmlns=\"http://www.w3.org/2000/svg\" xmlns:xlink=\"http://www.w3.org/1999/xlink\" width=\"600\" height=\"400\" viewBox=\"0 0 2400 1600\">\n<defs>\n  <clipPath id=\"clip680\">\n    <rect x=\"0\" y=\"0\" width=\"2400\" height=\"1600\"/>\n  </clipPath>\n</defs>\n<path clip-path=\"url(#clip680)\" d=\"\nM0 1600 L2400 1600 L2400 0 L0 0  Z\n  \" fill=\"#ffffff\" fill-rule=\"evenodd\" fill-opacity=\"1\"/>\n<defs>\n  <clipPath id=\"clip681\">\n    <rect x=\"480\" y=\"0\" width=\"1681\" height=\"1600\"/>\n  </clipPath>\n</defs>\n<path clip-path=\"url(#clip680)\" d=\"\nM141.853 1486.45 L2352.76 1486.45 L2352.76 47.2441 L141.853 47.2441  Z\n  \" fill=\"#ffffff\" fill-rule=\"evenodd\" fill-opacity=\"1\"/>\n<defs>\n  <clipPath id=\"clip682\">\n    <rect x=\"141\" y=\"47\" width=\"2212\" height=\"1440\"/>\n  </clipPath>\n</defs>\n<polyline clip-path=\"url(#clip682)\" style=\"stroke:#000000; stroke-linecap:butt; stroke-linejoin:round; stroke-width:2; stroke-opacity:0.1; fill:none\" points=\"\n  263.457,1486.45 263.457,47.2441 \n  \"/>\n<polyline clip-path=\"url(#clip682)\" style=\"stroke:#000000; stroke-linecap:butt; stroke-linejoin:round; stroke-width:2; stroke-opacity:0.1; fill:none\" points=\"\n  656.996,1486.45 656.996,47.2441 \n  \"/>\n<polyline clip-path=\"url(#clip682)\" style=\"stroke:#000000; stroke-linecap:butt; stroke-linejoin:round; stroke-width:2; stroke-opacity:0.1; fill:none\" points=\"\n  1050.53,1486.45 1050.53,47.2441 \n  \"/>\n<polyline clip-path=\"url(#clip682)\" style=\"stroke:#000000; stroke-linecap:butt; stroke-linejoin:round; stroke-width:2; stroke-opacity:0.1; fill:none\" points=\"\n  1444.07,1486.45 1444.07,47.2441 \n  \"/>\n<polyline clip-path=\"url(#clip682)\" style=\"stroke:#000000; stroke-linecap:butt; stroke-linejoin:round; stroke-width:2; stroke-opacity:0.1; fill:none\" points=\"\n  1837.61,1486.45 1837.61,47.2441 \n  \"/>\n<polyline clip-path=\"url(#clip682)\" style=\"stroke:#000000; stroke-linecap:butt; stroke-linejoin:round; stroke-width:2; stroke-opacity:0.1; fill:none\" points=\"\n  2231.15,1486.45 2231.15,47.2441 \n  \"/>\n<polyline clip-path=\"url(#clip680)\" style=\"stroke:#000000; stroke-linecap:butt; stroke-linejoin:round; stroke-width:4; stroke-opacity:1; fill:none\" points=\"\n  141.853,1486.45 2352.76,1486.45 \n  \"/>\n<polyline clip-path=\"url(#clip680)\" style=\"stroke:#000000; stroke-linecap:butt; stroke-linejoin:round; stroke-width:4; stroke-opacity:1; fill:none\" points=\"\n  263.457,1486.45 263.457,1467.55 \n  \"/>\n<polyline clip-path=\"url(#clip680)\" style=\"stroke:#000000; stroke-linecap:butt; stroke-linejoin:round; stroke-width:4; stroke-opacity:1; fill:none\" points=\"\n  656.996,1486.45 656.996,1467.55 \n  \"/>\n<polyline clip-path=\"url(#clip680)\" style=\"stroke:#000000; stroke-linecap:butt; stroke-linejoin:round; stroke-width:4; stroke-opacity:1; fill:none\" points=\"\n  1050.53,1486.45 1050.53,1467.55 \n  \"/>\n<polyline clip-path=\"url(#clip680)\" style=\"stroke:#000000; stroke-linecap:butt; stroke-linejoin:round; stroke-width:4; stroke-opacity:1; fill:none\" points=\"\n  1444.07,1486.45 1444.07,1467.55 \n  \"/>\n<polyline clip-path=\"url(#clip680)\" style=\"stroke:#000000; stroke-linecap:butt; stroke-linejoin:round; stroke-width:4; stroke-opacity:1; fill:none\" points=\"\n  1837.61,1486.45 1837.61,1467.55 \n  \"/>\n<polyline clip-path=\"url(#clip680)\" style=\"stroke:#000000; stroke-linecap:butt; stroke-linejoin:round; stroke-width:4; stroke-opacity:1; fill:none\" points=\"\n  2231.15,1486.45 2231.15,1467.55 \n  \"/>\n<path clip-path=\"url(#clip680)\" d=\"M263.457 1517.37 Q259.845 1517.37 258.017 1520.93 Q256.211 1524.47 256.211 1531.6 Q256.211 1538.71 258.017 1542.27 Q259.845 1545.82 263.457 1545.82 Q267.091 1545.82 268.896 1542.27 Q270.725 1538.71 270.725 1531.6 Q270.725 1524.47 268.896 1520.93 Q267.091 1517.37 263.457 1517.37 M263.457 1513.66 Q269.267 1513.66 272.322 1518.27 Q275.401 1522.85 275.401 1531.6 Q275.401 1540.33 272.322 1544.94 Q269.267 1549.52 263.457 1549.52 Q257.646 1549.52 254.568 1544.94 Q251.512 1540.33 251.512 1531.6 Q251.512 1522.85 254.568 1518.27 Q257.646 1513.66 263.457 1513.66 Z\" fill=\"#000000\" fill-rule=\"evenodd\" fill-opacity=\"1\" /><path clip-path=\"url(#clip680)\" d=\"M647.274 1514.29 L665.63 1514.29 L665.63 1518.22 L651.556 1518.22 L651.556 1526.7 Q652.574 1526.35 653.593 1526.19 Q654.611 1526 655.63 1526 Q661.417 1526 664.797 1529.17 Q668.176 1532.34 668.176 1537.76 Q668.176 1543.34 664.704 1546.44 Q661.232 1549.52 654.912 1549.52 Q652.736 1549.52 650.468 1549.15 Q648.223 1548.78 645.815 1548.04 L645.815 1543.34 Q647.899 1544.47 650.121 1545.03 Q652.343 1545.58 654.82 1545.58 Q658.824 1545.58 661.162 1543.48 Q663.5 1541.37 663.5 1537.76 Q663.5 1534.15 661.162 1532.04 Q658.824 1529.94 654.82 1529.94 Q652.945 1529.94 651.07 1530.35 Q649.218 1530.77 647.274 1531.65 L647.274 1514.29 Z\" fill=\"#000000\" fill-rule=\"evenodd\" fill-opacity=\"1\" /><path clip-path=\"url(#clip680)\" d=\"M1025.22 1544.91 L1032.86 1544.91 L1032.86 1518.55 L1024.55 1520.21 L1024.55 1515.95 L1032.82 1514.29 L1037.49 1514.29 L1037.49 1544.91 L1045.13 1544.91 L1045.13 1548.85 L1025.22 1548.85 L1025.22 1544.91 Z\" fill=\"#000000\" fill-rule=\"evenodd\" fill-opacity=\"1\" /><path clip-path=\"url(#clip680)\" d=\"M1064.57 1517.37 Q1060.96 1517.37 1059.13 1520.93 Q1057.33 1524.47 1057.33 1531.6 Q1057.33 1538.71 1059.13 1542.27 Q1060.96 1545.82 1064.57 1545.82 Q1068.21 1545.82 1070.01 1542.27 Q1071.84 1538.71 1071.84 1531.6 Q1071.84 1524.47 1070.01 1520.93 Q1068.21 1517.37 1064.57 1517.37 M1064.57 1513.66 Q1070.38 1513.66 1073.44 1518.27 Q1076.52 1522.85 1076.52 1531.6 Q1076.52 1540.33 1073.44 1544.94 Q1070.38 1549.52 1064.57 1549.52 Q1058.76 1549.52 1055.69 1544.94 Q1052.63 1540.33 1052.63 1531.6 Q1052.63 1522.85 1055.69 1518.27 Q1058.76 1513.66 1064.57 1513.66 Z\" fill=\"#000000\" fill-rule=\"evenodd\" fill-opacity=\"1\" /><path clip-path=\"url(#clip680)\" d=\"M1419.26 1544.91 L1426.9 1544.91 L1426.9 1518.55 L1418.59 1520.21 L1418.59 1515.95 L1426.85 1514.29 L1431.53 1514.29 L1431.53 1544.91 L1439.17 1544.91 L1439.17 1548.85 L1419.26 1548.85 L1419.26 1544.91 Z\" fill=\"#000000\" fill-rule=\"evenodd\" fill-opacity=\"1\" /><path clip-path=\"url(#clip680)\" d=\"M1448.66 1514.29 L1467.01 1514.29 L1467.01 1518.22 L1452.94 1518.22 L1452.94 1526.7 Q1453.96 1526.35 1454.98 1526.19 Q1456 1526 1457.01 1526 Q1462.8 1526 1466.18 1529.17 Q1469.56 1532.34 1469.56 1537.76 Q1469.56 1543.34 1466.09 1546.44 Q1462.62 1549.52 1456.3 1549.52 Q1454.12 1549.52 1451.85 1549.15 Q1449.61 1548.78 1447.2 1548.04 L1447.2 1543.34 Q1449.28 1544.47 1451.5 1545.03 Q1453.73 1545.58 1456.2 1545.58 Q1460.21 1545.58 1462.55 1543.48 Q1464.88 1541.37 1464.88 1537.76 Q1464.88 1534.15 1462.55 1532.04 Q1460.21 1529.94 1456.2 1529.94 Q1454.33 1529.94 1452.45 1530.35 Q1450.6 1530.77 1448.66 1531.65 L1448.66 1514.29 Z\" fill=\"#000000\" fill-rule=\"evenodd\" fill-opacity=\"1\" /><path clip-path=\"url(#clip680)\" d=\"M1816.39 1544.91 L1832.71 1544.91 L1832.71 1548.85 L1810.76 1548.85 L1810.76 1544.91 Q1813.42 1542.16 1818.01 1537.53 Q1822.61 1532.88 1823.79 1531.53 Q1826.04 1529.01 1826.92 1527.27 Q1827.82 1525.51 1827.82 1523.82 Q1827.82 1521.07 1825.88 1519.33 Q1823.96 1517.6 1820.85 1517.6 Q1818.65 1517.6 1816.2 1518.36 Q1813.77 1519.13 1810.99 1520.68 L1810.99 1515.95 Q1813.82 1514.82 1816.27 1514.24 Q1818.72 1513.66 1820.76 1513.66 Q1826.13 1513.66 1829.33 1516.35 Q1832.52 1519.03 1832.52 1523.52 Q1832.52 1525.65 1831.71 1527.57 Q1830.92 1529.47 1828.82 1532.07 Q1828.24 1532.74 1825.14 1535.95 Q1822.03 1539.15 1816.39 1544.91 Z\" fill=\"#000000\" fill-rule=\"evenodd\" fill-opacity=\"1\" /><path clip-path=\"url(#clip680)\" d=\"M1852.52 1517.37 Q1848.91 1517.37 1847.08 1520.93 Q1845.28 1524.47 1845.28 1531.6 Q1845.28 1538.71 1847.08 1542.27 Q1848.91 1545.82 1852.52 1545.82 Q1856.15 1545.82 1857.96 1542.27 Q1859.79 1538.71 1859.79 1531.6 Q1859.79 1524.47 1857.96 1520.93 Q1856.15 1517.37 1852.52 1517.37 M1852.52 1513.66 Q1858.33 1513.66 1861.39 1518.27 Q1864.46 1522.85 1864.46 1531.6 Q1864.46 1540.33 1861.39 1544.94 Q1858.33 1549.52 1852.52 1549.52 Q1846.71 1549.52 1843.63 1544.94 Q1840.58 1540.33 1840.58 1531.6 Q1840.58 1522.85 1843.63 1518.27 Q1846.71 1513.66 1852.52 1513.66 Z\" fill=\"#000000\" fill-rule=\"evenodd\" fill-opacity=\"1\" /><path clip-path=\"url(#clip680)\" d=\"M2210.42 1544.91 L2226.74 1544.91 L2226.74 1548.85 L2204.8 1548.85 L2204.8 1544.91 Q2207.46 1542.16 2212.04 1537.53 Q2216.65 1532.88 2217.83 1531.53 Q2220.08 1529.01 2220.96 1527.27 Q2221.86 1525.51 2221.86 1523.82 Q2221.86 1521.07 2219.91 1519.33 Q2217.99 1517.6 2214.89 1517.6 Q2212.69 1517.6 2210.24 1518.36 Q2207.81 1519.13 2205.03 1520.68 L2205.03 1515.95 Q2207.85 1514.82 2210.31 1514.24 Q2212.76 1513.66 2214.8 1513.66 Q2220.17 1513.66 2223.36 1516.35 Q2226.56 1519.03 2226.56 1523.52 Q2226.56 1525.65 2225.75 1527.57 Q2224.96 1529.47 2222.85 1532.07 Q2222.28 1532.74 2219.17 1535.95 Q2216.07 1539.15 2210.42 1544.91 Z\" fill=\"#000000\" fill-rule=\"evenodd\" fill-opacity=\"1\" /><path clip-path=\"url(#clip680)\" d=\"M2236.6 1514.29 L2254.96 1514.29 L2254.96 1518.22 L2240.89 1518.22 L2240.89 1526.7 Q2241.9 1526.35 2242.92 1526.19 Q2243.94 1526 2244.96 1526 Q2250.75 1526 2254.13 1529.17 Q2257.51 1532.34 2257.51 1537.76 Q2257.51 1543.34 2254.03 1546.44 Q2250.56 1549.52 2244.24 1549.52 Q2242.07 1549.52 2239.8 1549.15 Q2237.55 1548.78 2235.15 1548.04 L2235.15 1543.34 Q2237.23 1544.47 2239.45 1545.03 Q2241.67 1545.58 2244.15 1545.58 Q2248.15 1545.58 2250.49 1543.48 Q2252.83 1541.37 2252.83 1537.76 Q2252.83 1534.15 2250.49 1532.04 Q2248.15 1529.94 2244.15 1529.94 Q2242.27 1529.94 2240.4 1530.35 Q2238.55 1530.77 2236.6 1531.65 L2236.6 1514.29 Z\" fill=\"#000000\" fill-rule=\"evenodd\" fill-opacity=\"1\" /><polyline clip-path=\"url(#clip682)\" style=\"stroke:#000000; stroke-linecap:butt; stroke-linejoin:round; stroke-width:2; stroke-opacity:0.1; fill:none\" points=\"\n  141.853,1445.72 2352.76,1445.72 \n  \"/>\n<polyline clip-path=\"url(#clip682)\" style=\"stroke:#000000; stroke-linecap:butt; stroke-linejoin:round; stroke-width:2; stroke-opacity:0.1; fill:none\" points=\"\n  141.853,1093.06 2352.76,1093.06 \n  \"/>\n<polyline clip-path=\"url(#clip682)\" style=\"stroke:#000000; stroke-linecap:butt; stroke-linejoin:round; stroke-width:2; stroke-opacity:0.1; fill:none\" points=\"\n  141.853,740.397 2352.76,740.397 \n  \"/>\n<polyline clip-path=\"url(#clip682)\" style=\"stroke:#000000; stroke-linecap:butt; stroke-linejoin:round; stroke-width:2; stroke-opacity:0.1; fill:none\" points=\"\n  141.853,387.737 2352.76,387.737 \n  \"/>\n<polyline clip-path=\"url(#clip680)\" style=\"stroke:#000000; stroke-linecap:butt; stroke-linejoin:round; stroke-width:4; stroke-opacity:1; fill:none\" points=\"\n  141.853,1486.45 141.853,47.2441 \n  \"/>\n<polyline clip-path=\"url(#clip680)\" style=\"stroke:#000000; stroke-linecap:butt; stroke-linejoin:round; stroke-width:4; stroke-opacity:1; fill:none\" points=\"\n  141.853,1445.72 160.751,1445.72 \n  \"/>\n<polyline clip-path=\"url(#clip680)\" style=\"stroke:#000000; stroke-linecap:butt; stroke-linejoin:round; stroke-width:4; stroke-opacity:1; fill:none\" points=\"\n  141.853,1093.06 160.751,1093.06 \n  \"/>\n<polyline clip-path=\"url(#clip680)\" style=\"stroke:#000000; stroke-linecap:butt; stroke-linejoin:round; stroke-width:4; stroke-opacity:1; fill:none\" points=\"\n  141.853,740.397 160.751,740.397 \n  \"/>\n<polyline clip-path=\"url(#clip680)\" style=\"stroke:#000000; stroke-linecap:butt; stroke-linejoin:round; stroke-width:4; stroke-opacity:1; fill:none\" points=\"\n  141.853,387.737 160.751,387.737 \n  \"/>\n<path clip-path=\"url(#clip680)\" d=\"M93.9086 1431.51 Q90.2975 1431.51 88.4688 1435.08 Q86.6632 1438.62 86.6632 1445.75 Q86.6632 1452.86 88.4688 1456.42 Q90.2975 1459.96 93.9086 1459.96 Q97.5428 1459.96 99.3483 1456.42 Q101.177 1452.86 101.177 1445.75 Q101.177 1438.62 99.3483 1435.08 Q97.5428 1431.51 93.9086 1431.51 M93.9086 1427.81 Q99.7187 1427.81 102.774 1432.42 Q105.853 1437 105.853 1445.75 Q105.853 1454.48 102.774 1459.08 Q99.7187 1463.67 93.9086 1463.67 Q88.0984 1463.67 85.0197 1459.08 Q81.9642 1454.48 81.9642 1445.75 Q81.9642 1437 85.0197 1432.42 Q88.0984 1427.81 93.9086 1427.81 Z\" fill=\"#000000\" fill-rule=\"evenodd\" fill-opacity=\"1\" /><path clip-path=\"url(#clip680)\" d=\"M57.7745 1106.4 L74.0939 1106.4 L74.0939 1110.34 L52.1495 1110.34 L52.1495 1106.4 Q54.8115 1103.65 59.3949 1099.02 Q64.0013 1094.36 65.1819 1093.02 Q67.4272 1090.5 68.3068 1088.76 Q69.2096 1087 69.2096 1085.31 Q69.2096 1082.56 67.2652 1080.82 Q65.3439 1079.09 62.2421 1079.09 Q60.043 1079.09 57.5893 1079.85 Q55.1588 1080.61 52.381 1082.16 L52.381 1077.44 Q55.2051 1076.31 57.6588 1075.73 Q60.1124 1075.15 62.1495 1075.15 Q67.5198 1075.15 70.7142 1077.84 Q73.9087 1080.52 73.9087 1085.01 Q73.9087 1087.14 73.0985 1089.06 Q72.3115 1090.96 70.205 1093.55 Q69.6263 1094.23 66.5245 1097.44 Q63.4226 1100.64 57.7745 1106.4 Z\" fill=\"#000000\" fill-rule=\"evenodd\" fill-opacity=\"1\" /><path clip-path=\"url(#clip680)\" d=\"M93.9086 1078.85 Q90.2975 1078.85 88.4688 1082.42 Q86.6632 1085.96 86.6632 1093.09 Q86.6632 1100.2 88.4688 1103.76 Q90.2975 1107.3 93.9086 1107.3 Q97.5428 1107.3 99.3483 1103.76 Q101.177 1100.2 101.177 1093.09 Q101.177 1085.96 99.3483 1082.42 Q97.5428 1078.85 93.9086 1078.85 M93.9086 1075.15 Q99.7187 1075.15 102.774 1079.76 Q105.853 1084.34 105.853 1093.09 Q105.853 1101.82 102.774 1106.42 Q99.7187 1111.01 93.9086 1111.01 Q88.0984 1111.01 85.0197 1106.42 Q81.9642 1101.82 81.9642 1093.09 Q81.9642 1084.34 85.0197 1079.76 Q88.0984 1075.15 93.9086 1075.15 Z\" fill=\"#000000\" fill-rule=\"evenodd\" fill-opacity=\"1\" /><path clip-path=\"url(#clip680)\" d=\"M66.5939 727.191 L54.7884 745.64 L66.5939 745.64 L66.5939 727.191 M65.367 723.117 L71.2466 723.117 L71.2466 745.64 L76.1772 745.64 L76.1772 749.528 L71.2466 749.528 L71.2466 757.677 L66.5939 757.677 L66.5939 749.528 L50.9921 749.528 L50.9921 745.015 L65.367 723.117 Z\" fill=\"#000000\" fill-rule=\"evenodd\" fill-opacity=\"1\" /><path clip-path=\"url(#clip680)\" d=\"M93.9086 726.195 Q90.2975 726.195 88.4688 729.76 Q86.6632 733.302 86.6632 740.431 Q86.6632 747.538 88.4688 751.102 Q90.2975 754.644 93.9086 754.644 Q97.5428 754.644 99.3483 751.102 Q101.177 747.538 101.177 740.431 Q101.177 733.302 99.3483 729.76 Q97.5428 726.195 93.9086 726.195 M93.9086 722.492 Q99.7187 722.492 102.774 727.098 Q105.853 731.681 105.853 740.431 Q105.853 749.158 102.774 753.764 Q99.7187 758.348 93.9086 758.348 Q88.0984 758.348 85.0197 753.764 Q81.9642 749.158 81.9642 740.431 Q81.9642 731.681 85.0197 727.098 Q88.0984 722.492 93.9086 722.492 Z\" fill=\"#000000\" fill-rule=\"evenodd\" fill-opacity=\"1\" /><path clip-path=\"url(#clip680)\" d=\"M64.3254 385.874 Q61.1773 385.874 59.3254 388.026 Q57.4967 390.179 57.4967 393.929 Q57.4967 397.656 59.3254 399.832 Q61.1773 401.985 64.3254 401.985 Q67.4735 401.985 69.3022 399.832 Q71.1541 397.656 71.1541 393.929 Q71.1541 390.179 69.3022 388.026 Q67.4735 385.874 64.3254 385.874 M73.6077 371.221 L73.6077 375.48 Q71.8485 374.647 70.0429 374.207 Q68.2606 373.767 66.5013 373.767 Q61.8717 373.767 59.418 376.892 Q56.9875 380.017 56.6402 386.336 Q58.006 384.323 60.0662 383.258 Q62.1263 382.17 64.6032 382.17 Q69.8115 382.17 72.8207 385.341 Q75.8531 388.489 75.8531 393.929 Q75.8531 399.253 72.705 402.471 Q69.5568 405.688 64.3254 405.688 Q58.33 405.688 55.1588 401.105 Q51.9875 396.498 51.9875 387.772 Q51.9875 379.577 55.8764 374.716 Q59.7652 369.832 66.3161 369.832 Q68.0754 369.832 69.8578 370.179 Q71.6633 370.526 73.6077 371.221 Z\" fill=\"#000000\" fill-rule=\"evenodd\" fill-opacity=\"1\" /><path clip-path=\"url(#clip680)\" d=\"M93.9086 373.536 Q90.2975 373.536 88.4688 377.1 Q86.6632 380.642 86.6632 387.772 Q86.6632 394.878 88.4688 398.443 Q90.2975 401.985 93.9086 401.985 Q97.5428 401.985 99.3483 398.443 Q101.177 394.878 101.177 387.772 Q101.177 380.642 99.3483 377.1 Q97.5428 373.536 93.9086 373.536 M93.9086 369.832 Q99.7187 369.832 102.774 374.438 Q105.853 379.022 105.853 387.772 Q105.853 396.498 102.774 401.105 Q99.7187 405.688 93.9086 405.688 Q88.0984 405.688 85.0197 401.105 Q81.9642 396.498 81.9642 387.772 Q81.9642 379.022 85.0197 374.438 Q88.0984 369.832 93.9086 369.832 Z\" fill=\"#000000\" fill-rule=\"evenodd\" fill-opacity=\"1\" /><path clip-path=\"url(#clip682)\" d=\"\nM263.457 1445.72 L263.457 1445.72 L342.164 1445.72 L342.164 1445.72 L263.457 1445.72 L263.457 1445.72  Z\n  \" fill=\"#009af9\" fill-rule=\"evenodd\" fill-opacity=\"1\"/>\n<polyline clip-path=\"url(#clip682)\" style=\"stroke:#000000; stroke-linecap:butt; stroke-linejoin:round; stroke-width:4; stroke-opacity:1; fill:none\" points=\"\n  263.457,1445.72 263.457,1445.72 342.164,1445.72 263.457,1445.72 \n  \"/>\n<path clip-path=\"url(#clip682)\" d=\"\nM342.164 1445.72 L342.164 1445.72 L420.872 1445.72 L420.872 1445.72 L342.164 1445.72 L342.164 1445.72  Z\n  \" fill=\"#009af9\" fill-rule=\"evenodd\" fill-opacity=\"1\"/>\n<polyline clip-path=\"url(#clip682)\" style=\"stroke:#000000; stroke-linecap:butt; stroke-linejoin:round; stroke-width:4; stroke-opacity:1; fill:none\" points=\"\n  342.164,1445.72 342.164,1445.72 420.872,1445.72 342.164,1445.72 \n  \"/>\n<path clip-path=\"url(#clip682)\" d=\"\nM420.872 1428.08 L420.872 1445.72 L499.58 1445.72 L499.58 1428.08 L420.872 1428.08 L420.872 1428.08  Z\n  \" fill=\"#009af9\" fill-rule=\"evenodd\" fill-opacity=\"1\"/>\n<polyline clip-path=\"url(#clip682)\" style=\"stroke:#000000; stroke-linecap:butt; stroke-linejoin:round; stroke-width:4; stroke-opacity:1; fill:none\" points=\"\n  420.872,1428.08 420.872,1445.72 499.58,1445.72 499.58,1428.08 420.872,1428.08 \n  \"/>\n<path clip-path=\"url(#clip682)\" d=\"\nM499.58 1198.85 L499.58 1445.72 L578.288 1445.72 L578.288 1198.85 L499.58 1198.85 L499.58 1198.85  Z\n  \" fill=\"#009af9\" fill-rule=\"evenodd\" fill-opacity=\"1\"/>\n<polyline clip-path=\"url(#clip682)\" style=\"stroke:#000000; stroke-linecap:butt; stroke-linejoin:round; stroke-width:4; stroke-opacity:1; fill:none\" points=\"\n  499.58,1198.85 499.58,1445.72 578.288,1445.72 578.288,1198.85 499.58,1198.85 \n  \"/>\n<path clip-path=\"url(#clip682)\" d=\"\nM578.288 317.205 L578.288 1445.72 L656.996 1445.72 L656.996 317.205 L578.288 317.205 L578.288 317.205  Z\n  \" fill=\"#009af9\" fill-rule=\"evenodd\" fill-opacity=\"1\"/>\n<polyline clip-path=\"url(#clip682)\" style=\"stroke:#000000; stroke-linecap:butt; stroke-linejoin:round; stroke-width:4; stroke-opacity:1; fill:none\" points=\"\n  578.288,317.205 578.288,1445.72 656.996,1445.72 656.996,317.205 578.288,317.205 \n  \"/>\n<path clip-path=\"url(#clip682)\" d=\"\nM656.996 317.205 L656.996 1445.72 L735.704 1445.72 L735.704 317.205 L656.996 317.205 L656.996 317.205  Z\n  \" fill=\"#009af9\" fill-rule=\"evenodd\" fill-opacity=\"1\"/>\n<polyline clip-path=\"url(#clip682)\" style=\"stroke:#000000; stroke-linecap:butt; stroke-linejoin:round; stroke-width:4; stroke-opacity:1; fill:none\" points=\"\n  656.996,317.205 656.996,1445.72 735.704,1445.72 735.704,317.205 656.996,317.205 \n  \"/>\n<path clip-path=\"url(#clip682)\" d=\"\nM735.704 299.572 L735.704 1445.72 L814.411 1445.72 L814.411 299.572 L735.704 299.572 L735.704 299.572  Z\n  \" fill=\"#009af9\" fill-rule=\"evenodd\" fill-opacity=\"1\"/>\n<polyline clip-path=\"url(#clip682)\" style=\"stroke:#000000; stroke-linecap:butt; stroke-linejoin:round; stroke-width:4; stroke-opacity:1; fill:none\" points=\"\n  735.704,299.572 735.704,1445.72 814.411,1445.72 814.411,299.572 735.704,299.572 \n  \"/>\n<path clip-path=\"url(#clip682)\" d=\"\nM814.411 334.838 L814.411 1445.72 L893.119 1445.72 L893.119 334.838 L814.411 334.838 L814.411 334.838  Z\n  \" fill=\"#009af9\" fill-rule=\"evenodd\" fill-opacity=\"1\"/>\n<polyline clip-path=\"url(#clip682)\" style=\"stroke:#000000; stroke-linecap:butt; stroke-linejoin:round; stroke-width:4; stroke-opacity:1; fill:none\" points=\"\n  814.411,334.838 814.411,1445.72 893.119,1445.72 893.119,334.838 814.411,334.838 \n  \"/>\n<path clip-path=\"url(#clip682)\" d=\"\nM893.119 158.508 L893.119 1445.72 L971.827 1445.72 L971.827 158.508 L893.119 158.508 L893.119 158.508  Z\n  \" fill=\"#009af9\" fill-rule=\"evenodd\" fill-opacity=\"1\"/>\n<polyline clip-path=\"url(#clip682)\" style=\"stroke:#000000; stroke-linecap:butt; stroke-linejoin:round; stroke-width:4; stroke-opacity:1; fill:none\" points=\"\n  893.119,158.508 893.119,1445.72 971.827,1445.72 971.827,158.508 893.119,158.508 \n  \"/>\n<path clip-path=\"url(#clip682)\" d=\"\nM971.827 528.801 L971.827 1445.72 L1050.53 1445.72 L1050.53 528.801 L971.827 528.801 L971.827 528.801  Z\n  \" fill=\"#009af9\" fill-rule=\"evenodd\" fill-opacity=\"1\"/>\n<polyline clip-path=\"url(#clip682)\" style=\"stroke:#000000; stroke-linecap:butt; stroke-linejoin:round; stroke-width:4; stroke-opacity:1; fill:none\" points=\"\n  971.827,528.801 971.827,1445.72 1050.53,1445.72 1050.53,528.801 971.827,528.801 \n  \"/>\n<path clip-path=\"url(#clip682)\" d=\"\nM1050.53 140.875 L1050.53 1445.72 L1129.24 1445.72 L1129.24 140.875 L1050.53 140.875 L1050.53 140.875  Z\n  \" fill=\"#009af9\" fill-rule=\"evenodd\" fill-opacity=\"1\"/>\n<polyline clip-path=\"url(#clip682)\" style=\"stroke:#000000; stroke-linecap:butt; stroke-linejoin:round; stroke-width:4; stroke-opacity:1; fill:none\" points=\"\n  1050.53,140.875 1050.53,1445.72 1129.24,1445.72 1129.24,140.875 1050.53,140.875 \n  \"/>\n<path clip-path=\"url(#clip682)\" d=\"\nM1129.24 87.9763 L1129.24 1445.72 L1207.95 1445.72 L1207.95 87.9763 L1129.24 87.9763 L1129.24 87.9763  Z\n  \" fill=\"#009af9\" fill-rule=\"evenodd\" fill-opacity=\"1\"/>\n<polyline clip-path=\"url(#clip682)\" style=\"stroke:#000000; stroke-linecap:butt; stroke-linejoin:round; stroke-width:4; stroke-opacity:1; fill:none\" points=\"\n  1129.24,87.9763 1129.24,1445.72 1207.95,1445.72 1207.95,87.9763 1129.24,87.9763 \n  \"/>\n<path clip-path=\"url(#clip682)\" d=\"\nM1207.95 599.333 L1207.95 1445.72 L1286.66 1445.72 L1286.66 599.333 L1207.95 599.333 L1207.95 599.333  Z\n  \" fill=\"#009af9\" fill-rule=\"evenodd\" fill-opacity=\"1\"/>\n<polyline clip-path=\"url(#clip682)\" style=\"stroke:#000000; stroke-linecap:butt; stroke-linejoin:round; stroke-width:4; stroke-opacity:1; fill:none\" points=\"\n  1207.95,599.333 1207.95,1445.72 1286.66,1445.72 1286.66,599.333 1207.95,599.333 \n  \"/>\n<path clip-path=\"url(#clip682)\" d=\"\nM1286.66 475.902 L1286.66 1445.72 L1365.37 1445.72 L1365.37 475.902 L1286.66 475.902 L1286.66 475.902  Z\n  \" fill=\"#009af9\" fill-rule=\"evenodd\" fill-opacity=\"1\"/>\n<polyline clip-path=\"url(#clip682)\" style=\"stroke:#000000; stroke-linecap:butt; stroke-linejoin:round; stroke-width:4; stroke-opacity:1; fill:none\" points=\"\n  1286.66,475.902 1286.66,1445.72 1365.37,1445.72 1365.37,475.902 1286.66,475.902 \n  \"/>\n<path clip-path=\"url(#clip682)\" d=\"\nM1365.37 458.269 L1365.37 1445.72 L1444.07 1445.72 L1444.07 458.269 L1365.37 458.269 L1365.37 458.269  Z\n  \" fill=\"#009af9\" fill-rule=\"evenodd\" fill-opacity=\"1\"/>\n<polyline clip-path=\"url(#clip682)\" style=\"stroke:#000000; stroke-linecap:butt; stroke-linejoin:round; stroke-width:4; stroke-opacity:1; fill:none\" points=\"\n  1365.37,458.269 1365.37,1445.72 1444.07,1445.72 1444.07,458.269 1365.37,458.269 \n  \"/>\n<path clip-path=\"url(#clip682)\" d=\"\nM1444.07 546.434 L1444.07 1445.72 L1522.78 1445.72 L1522.78 546.434 L1444.07 546.434 L1444.07 546.434  Z\n  \" fill=\"#009af9\" fill-rule=\"evenodd\" fill-opacity=\"1\"/>\n<polyline clip-path=\"url(#clip682)\" style=\"stroke:#000000; stroke-linecap:butt; stroke-linejoin:round; stroke-width:4; stroke-opacity:1; fill:none\" points=\"\n  1444.07,546.434 1444.07,1445.72 1522.78,1445.72 1522.78,546.434 1444.07,546.434 \n  \"/>\n<path clip-path=\"url(#clip682)\" d=\"\nM1522.78 581.7 L1522.78 1445.72 L1601.49 1445.72 L1601.49 581.7 L1522.78 581.7 L1522.78 581.7  Z\n  \" fill=\"#009af9\" fill-rule=\"evenodd\" fill-opacity=\"1\"/>\n<polyline clip-path=\"url(#clip682)\" style=\"stroke:#000000; stroke-linecap:butt; stroke-linejoin:round; stroke-width:4; stroke-opacity:1; fill:none\" points=\"\n  1522.78,581.7 1522.78,1445.72 1601.49,1445.72 1601.49,581.7 1522.78,581.7 \n  \"/>\n<path clip-path=\"url(#clip682)\" d=\"\nM1601.49 634.599 L1601.49 1445.72 L1680.2 1445.72 L1680.2 634.599 L1601.49 634.599 L1601.49 634.599  Z\n  \" fill=\"#009af9\" fill-rule=\"evenodd\" fill-opacity=\"1\"/>\n<polyline clip-path=\"url(#clip682)\" style=\"stroke:#000000; stroke-linecap:butt; stroke-linejoin:round; stroke-width:4; stroke-opacity:1; fill:none\" points=\"\n  1601.49,634.599 1601.49,1445.72 1680.2,1445.72 1680.2,634.599 1601.49,634.599 \n  \"/>\n<path clip-path=\"url(#clip682)\" d=\"\nM1680.2 810.928 L1680.2 1445.72 L1758.91 1445.72 L1758.91 810.928 L1680.2 810.928 L1680.2 810.928  Z\n  \" fill=\"#009af9\" fill-rule=\"evenodd\" fill-opacity=\"1\"/>\n<polyline clip-path=\"url(#clip682)\" style=\"stroke:#000000; stroke-linecap:butt; stroke-linejoin:round; stroke-width:4; stroke-opacity:1; fill:none\" points=\"\n  1680.2,810.928 1680.2,1445.72 1758.91,1445.72 1758.91,810.928 1680.2,810.928 \n  \"/>\n<path clip-path=\"url(#clip682)\" d=\"\nM1758.91 846.194 L1758.91 1445.72 L1837.61 1445.72 L1837.61 846.194 L1758.91 846.194 L1758.91 846.194  Z\n  \" fill=\"#009af9\" fill-rule=\"evenodd\" fill-opacity=\"1\"/>\n<polyline clip-path=\"url(#clip682)\" style=\"stroke:#000000; stroke-linecap:butt; stroke-linejoin:round; stroke-width:4; stroke-opacity:1; fill:none\" points=\"\n  1758.91,846.194 1758.91,1445.72 1837.61,1445.72 1837.61,846.194 1758.91,846.194 \n  \"/>\n<path clip-path=\"url(#clip682)\" d=\"\nM1837.61 951.992 L1837.61 1445.72 L1916.32 1445.72 L1916.32 951.992 L1837.61 951.992 L1837.61 951.992  Z\n  \" fill=\"#009af9\" fill-rule=\"evenodd\" fill-opacity=\"1\"/>\n<polyline clip-path=\"url(#clip682)\" style=\"stroke:#000000; stroke-linecap:butt; stroke-linejoin:round; stroke-width:4; stroke-opacity:1; fill:none\" points=\"\n  1837.61,951.992 1837.61,1445.72 1916.32,1445.72 1916.32,951.992 1837.61,951.992 \n  \"/>\n<path clip-path=\"url(#clip682)\" d=\"\nM1916.32 1093.06 L1916.32 1445.72 L1995.03 1445.72 L1995.03 1093.06 L1916.32 1093.06 L1916.32 1093.06  Z\n  \" fill=\"#009af9\" fill-rule=\"evenodd\" fill-opacity=\"1\"/>\n<polyline clip-path=\"url(#clip682)\" style=\"stroke:#000000; stroke-linecap:butt; stroke-linejoin:round; stroke-width:4; stroke-opacity:1; fill:none\" points=\"\n  1916.32,1093.06 1916.32,1445.72 1995.03,1445.72 1995.03,1093.06 1916.32,1093.06 \n  \"/>\n<path clip-path=\"url(#clip682)\" d=\"\nM1995.03 1145.96 L1995.03 1445.72 L2073.74 1445.72 L2073.74 1145.96 L1995.03 1145.96 L1995.03 1145.96  Z\n  \" fill=\"#009af9\" fill-rule=\"evenodd\" fill-opacity=\"1\"/>\n<polyline clip-path=\"url(#clip682)\" style=\"stroke:#000000; stroke-linecap:butt; stroke-linejoin:round; stroke-width:4; stroke-opacity:1; fill:none\" points=\"\n  1995.03,1145.96 1995.03,1445.72 2073.74,1445.72 2073.74,1145.96 1995.03,1145.96 \n  \"/>\n<path clip-path=\"url(#clip682)\" d=\"\nM2073.74 1287.02 L2073.74 1445.72 L2152.44 1445.72 L2152.44 1287.02 L2073.74 1287.02 L2073.74 1287.02  Z\n  \" fill=\"#009af9\" fill-rule=\"evenodd\" fill-opacity=\"1\"/>\n<polyline clip-path=\"url(#clip682)\" style=\"stroke:#000000; stroke-linecap:butt; stroke-linejoin:round; stroke-width:4; stroke-opacity:1; fill:none\" points=\"\n  2073.74,1287.02 2073.74,1445.72 2152.44,1445.72 2152.44,1287.02 2073.74,1287.02 \n  \"/>\n<path clip-path=\"url(#clip682)\" d=\"\nM2152.44 1375.18 L2152.44 1445.72 L2231.15 1445.72 L2231.15 1375.18 L2152.44 1375.18 L2152.44 1375.18  Z\n  \" fill=\"#009af9\" fill-rule=\"evenodd\" fill-opacity=\"1\"/>\n<polyline clip-path=\"url(#clip682)\" style=\"stroke:#000000; stroke-linecap:butt; stroke-linejoin:round; stroke-width:4; stroke-opacity:1; fill:none\" points=\"\n  2152.44,1375.18 2152.44,1445.72 2231.15,1445.72 2231.15,1375.18 2152.44,1375.18 \n  \"/>\n<circle clip-path=\"url(#clip682)\" style=\"fill:#009af9; stroke:none; fill-opacity:0\" cx=\"302.81\" cy=\"1445.72\" r=\"2\"/>\n<circle clip-path=\"url(#clip682)\" style=\"fill:#009af9; stroke:none; fill-opacity:0\" cx=\"381.518\" cy=\"1445.72\" r=\"2\"/>\n<circle clip-path=\"url(#clip682)\" style=\"fill:#009af9; stroke:none; fill-opacity:0\" cx=\"460.226\" cy=\"1428.08\" r=\"2\"/>\n<circle clip-path=\"url(#clip682)\" style=\"fill:#009af9; stroke:none; fill-opacity:0\" cx=\"538.934\" cy=\"1198.85\" r=\"2\"/>\n<circle clip-path=\"url(#clip682)\" style=\"fill:#009af9; stroke:none; fill-opacity:0\" cx=\"617.642\" cy=\"317.205\" r=\"2\"/>\n<circle clip-path=\"url(#clip682)\" style=\"fill:#009af9; stroke:none; fill-opacity:0\" cx=\"696.35\" cy=\"317.205\" r=\"2\"/>\n<circle clip-path=\"url(#clip682)\" style=\"fill:#009af9; stroke:none; fill-opacity:0\" cx=\"775.057\" cy=\"299.572\" r=\"2\"/>\n<circle clip-path=\"url(#clip682)\" style=\"fill:#009af9; stroke:none; fill-opacity:0\" cx=\"853.765\" cy=\"334.838\" r=\"2\"/>\n<circle clip-path=\"url(#clip682)\" style=\"fill:#009af9; stroke:none; fill-opacity:0\" cx=\"932.473\" cy=\"158.508\" r=\"2\"/>\n<circle clip-path=\"url(#clip682)\" style=\"fill:#009af9; stroke:none; fill-opacity:0\" cx=\"1011.18\" cy=\"528.801\" r=\"2\"/>\n<circle clip-path=\"url(#clip682)\" style=\"fill:#009af9; stroke:none; fill-opacity:0\" cx=\"1089.89\" cy=\"140.875\" r=\"2\"/>\n<circle clip-path=\"url(#clip682)\" style=\"fill:#009af9; stroke:none; fill-opacity:0\" cx=\"1168.6\" cy=\"87.9763\" r=\"2\"/>\n<circle clip-path=\"url(#clip682)\" style=\"fill:#009af9; stroke:none; fill-opacity:0\" cx=\"1247.3\" cy=\"599.333\" r=\"2\"/>\n<circle clip-path=\"url(#clip682)\" style=\"fill:#009af9; stroke:none; fill-opacity:0\" cx=\"1326.01\" cy=\"475.902\" r=\"2\"/>\n<circle clip-path=\"url(#clip682)\" style=\"fill:#009af9; stroke:none; fill-opacity:0\" cx=\"1404.72\" cy=\"458.269\" r=\"2\"/>\n<circle clip-path=\"url(#clip682)\" style=\"fill:#009af9; stroke:none; fill-opacity:0\" cx=\"1483.43\" cy=\"546.434\" r=\"2\"/>\n<circle clip-path=\"url(#clip682)\" style=\"fill:#009af9; stroke:none; fill-opacity:0\" cx=\"1562.14\" cy=\"581.7\" r=\"2\"/>\n<circle clip-path=\"url(#clip682)\" style=\"fill:#009af9; stroke:none; fill-opacity:0\" cx=\"1640.84\" cy=\"634.599\" r=\"2\"/>\n<circle clip-path=\"url(#clip682)\" style=\"fill:#009af9; stroke:none; fill-opacity:0\" cx=\"1719.55\" cy=\"810.928\" r=\"2\"/>\n<circle clip-path=\"url(#clip682)\" style=\"fill:#009af9; stroke:none; fill-opacity:0\" cx=\"1798.26\" cy=\"846.194\" r=\"2\"/>\n<circle clip-path=\"url(#clip682)\" style=\"fill:#009af9; stroke:none; fill-opacity:0\" cx=\"1876.97\" cy=\"951.992\" r=\"2\"/>\n<circle clip-path=\"url(#clip682)\" style=\"fill:#009af9; stroke:none; fill-opacity:0\" cx=\"1955.67\" cy=\"1093.06\" r=\"2\"/>\n<circle clip-path=\"url(#clip682)\" style=\"fill:#009af9; stroke:none; fill-opacity:0\" cx=\"2034.38\" cy=\"1145.96\" r=\"2\"/>\n<circle clip-path=\"url(#clip682)\" style=\"fill:#009af9; stroke:none; fill-opacity:0\" cx=\"2113.09\" cy=\"1287.02\" r=\"2\"/>\n<circle clip-path=\"url(#clip682)\" style=\"fill:#009af9; stroke:none; fill-opacity:0\" cx=\"2191.8\" cy=\"1375.18\" r=\"2\"/>\n<path clip-path=\"url(#clip680)\" d=\"\nM1980.97 198.898 L2279.06 198.898 L2279.06 95.2176 L1980.97 95.2176  Z\n  \" fill=\"#ffffff\" fill-rule=\"evenodd\" fill-opacity=\"1\"/>\n<polyline clip-path=\"url(#clip680)\" style=\"stroke:#000000; stroke-linecap:butt; stroke-linejoin:round; stroke-width:4; stroke-opacity:1; fill:none\" points=\"\n  1980.97,198.898 2279.06,198.898 2279.06,95.2176 1980.97,95.2176 1980.97,198.898 \n  \"/>\n<path clip-path=\"url(#clip680)\" d=\"\nM2005.54 167.794 L2152.93 167.794 L2152.93 126.322 L2005.54 126.322 L2005.54 167.794  Z\n  \" fill=\"#009af9\" fill-rule=\"evenodd\" fill-opacity=\"1\"/>\n<polyline clip-path=\"url(#clip680)\" style=\"stroke:#000000; stroke-linecap:butt; stroke-linejoin:round; stroke-width:4; stroke-opacity:1; fill:none\" points=\"\n  2005.54,167.794 2152.93,167.794 2152.93,126.322 2005.54,126.322 2005.54,167.794 \n  \"/>\n<path clip-path=\"url(#clip680)\" d=\"M2191.34 166.745 Q2189.53 171.375 2187.82 172.787 Q2186.11 174.199 2183.24 174.199 L2179.84 174.199 L2179.84 170.634 L2182.34 170.634 Q2184.09 170.634 2185.07 169.8 Q2186.04 168.967 2187.22 165.865 L2187.98 163.921 L2177.5 138.412 L2182.01 138.412 L2190.11 158.689 L2198.22 138.412 L2202.73 138.412 L2191.34 166.745 Z\" fill=\"#000000\" fill-rule=\"evenodd\" fill-opacity=\"1\" /><path clip-path=\"url(#clip680)\" d=\"M2210.02 160.402 L2217.66 160.402 L2217.66 134.037 L2209.35 135.703 L2209.35 131.444 L2217.61 129.778 L2222.29 129.778 L2222.29 160.402 L2229.93 160.402 L2229.93 164.338 L2210.02 164.338 L2210.02 160.402 Z\" fill=\"#000000\" fill-rule=\"evenodd\" fill-opacity=\"1\" /></svg>\n",
      "text/html": [
       "<?xml version=\"1.0\" encoding=\"utf-8\"?>\n",
       "<svg xmlns=\"http://www.w3.org/2000/svg\" xmlns:xlink=\"http://www.w3.org/1999/xlink\" width=\"600\" height=\"400\" viewBox=\"0 0 2400 1600\">\n",
       "<defs>\n",
       "  <clipPath id=\"clip730\">\n",
       "    <rect x=\"0\" y=\"0\" width=\"2400\" height=\"1600\"/>\n",
       "  </clipPath>\n",
       "</defs>\n",
       "<path clip-path=\"url(#clip730)\" d=\"\n",
       "M0 1600 L2400 1600 L2400 0 L0 0  Z\n",
       "  \" fill=\"#ffffff\" fill-rule=\"evenodd\" fill-opacity=\"1\"/>\n",
       "<defs>\n",
       "  <clipPath id=\"clip731\">\n",
       "    <rect x=\"480\" y=\"0\" width=\"1681\" height=\"1600\"/>\n",
       "  </clipPath>\n",
       "</defs>\n",
       "<path clip-path=\"url(#clip730)\" d=\"\n",
       "M141.853 1486.45 L2352.76 1486.45 L2352.76 47.2441 L141.853 47.2441  Z\n",
       "  \" fill=\"#ffffff\" fill-rule=\"evenodd\" fill-opacity=\"1\"/>\n",
       "<defs>\n",
       "  <clipPath id=\"clip732\">\n",
       "    <rect x=\"141\" y=\"47\" width=\"2212\" height=\"1440\"/>\n",
       "  </clipPath>\n",
       "</defs>\n",
       "<polyline clip-path=\"url(#clip732)\" style=\"stroke:#000000; stroke-linecap:butt; stroke-linejoin:round; stroke-width:2; stroke-opacity:0.1; fill:none\" points=\"\n",
       "  263.457,1486.45 263.457,47.2441 \n",
       "  \"/>\n",
       "<polyline clip-path=\"url(#clip732)\" style=\"stroke:#000000; stroke-linecap:butt; stroke-linejoin:round; stroke-width:2; stroke-opacity:0.1; fill:none\" points=\"\n",
       "  656.996,1486.45 656.996,47.2441 \n",
       "  \"/>\n",
       "<polyline clip-path=\"url(#clip732)\" style=\"stroke:#000000; stroke-linecap:butt; stroke-linejoin:round; stroke-width:2; stroke-opacity:0.1; fill:none\" points=\"\n",
       "  1050.53,1486.45 1050.53,47.2441 \n",
       "  \"/>\n",
       "<polyline clip-path=\"url(#clip732)\" style=\"stroke:#000000; stroke-linecap:butt; stroke-linejoin:round; stroke-width:2; stroke-opacity:0.1; fill:none\" points=\"\n",
       "  1444.07,1486.45 1444.07,47.2441 \n",
       "  \"/>\n",
       "<polyline clip-path=\"url(#clip732)\" style=\"stroke:#000000; stroke-linecap:butt; stroke-linejoin:round; stroke-width:2; stroke-opacity:0.1; fill:none\" points=\"\n",
       "  1837.61,1486.45 1837.61,47.2441 \n",
       "  \"/>\n",
       "<polyline clip-path=\"url(#clip732)\" style=\"stroke:#000000; stroke-linecap:butt; stroke-linejoin:round; stroke-width:2; stroke-opacity:0.1; fill:none\" points=\"\n",
       "  2231.15,1486.45 2231.15,47.2441 \n",
       "  \"/>\n",
       "<polyline clip-path=\"url(#clip730)\" style=\"stroke:#000000; stroke-linecap:butt; stroke-linejoin:round; stroke-width:4; stroke-opacity:1; fill:none\" points=\"\n",
       "  141.853,1486.45 2352.76,1486.45 \n",
       "  \"/>\n",
       "<polyline clip-path=\"url(#clip730)\" style=\"stroke:#000000; stroke-linecap:butt; stroke-linejoin:round; stroke-width:4; stroke-opacity:1; fill:none\" points=\"\n",
       "  263.457,1486.45 263.457,1467.55 \n",
       "  \"/>\n",
       "<polyline clip-path=\"url(#clip730)\" style=\"stroke:#000000; stroke-linecap:butt; stroke-linejoin:round; stroke-width:4; stroke-opacity:1; fill:none\" points=\"\n",
       "  656.996,1486.45 656.996,1467.55 \n",
       "  \"/>\n",
       "<polyline clip-path=\"url(#clip730)\" style=\"stroke:#000000; stroke-linecap:butt; stroke-linejoin:round; stroke-width:4; stroke-opacity:1; fill:none\" points=\"\n",
       "  1050.53,1486.45 1050.53,1467.55 \n",
       "  \"/>\n",
       "<polyline clip-path=\"url(#clip730)\" style=\"stroke:#000000; stroke-linecap:butt; stroke-linejoin:round; stroke-width:4; stroke-opacity:1; fill:none\" points=\"\n",
       "  1444.07,1486.45 1444.07,1467.55 \n",
       "  \"/>\n",
       "<polyline clip-path=\"url(#clip730)\" style=\"stroke:#000000; stroke-linecap:butt; stroke-linejoin:round; stroke-width:4; stroke-opacity:1; fill:none\" points=\"\n",
       "  1837.61,1486.45 1837.61,1467.55 \n",
       "  \"/>\n",
       "<polyline clip-path=\"url(#clip730)\" style=\"stroke:#000000; stroke-linecap:butt; stroke-linejoin:round; stroke-width:4; stroke-opacity:1; fill:none\" points=\"\n",
       "  2231.15,1486.45 2231.15,1467.55 \n",
       "  \"/>\n",
       "<path clip-path=\"url(#clip730)\" d=\"M263.457 1517.37 Q259.845 1517.37 258.017 1520.93 Q256.211 1524.47 256.211 1531.6 Q256.211 1538.71 258.017 1542.27 Q259.845 1545.82 263.457 1545.82 Q267.091 1545.82 268.896 1542.27 Q270.725 1538.71 270.725 1531.6 Q270.725 1524.47 268.896 1520.93 Q267.091 1517.37 263.457 1517.37 M263.457 1513.66 Q269.267 1513.66 272.322 1518.27 Q275.401 1522.85 275.401 1531.6 Q275.401 1540.33 272.322 1544.94 Q269.267 1549.52 263.457 1549.52 Q257.646 1549.52 254.568 1544.94 Q251.512 1540.33 251.512 1531.6 Q251.512 1522.85 254.568 1518.27 Q257.646 1513.66 263.457 1513.66 Z\" fill=\"#000000\" fill-rule=\"evenodd\" fill-opacity=\"1\" /><path clip-path=\"url(#clip730)\" d=\"M647.274 1514.29 L665.63 1514.29 L665.63 1518.22 L651.556 1518.22 L651.556 1526.7 Q652.574 1526.35 653.593 1526.19 Q654.611 1526 655.63 1526 Q661.417 1526 664.797 1529.17 Q668.176 1532.34 668.176 1537.76 Q668.176 1543.34 664.704 1546.44 Q661.232 1549.52 654.912 1549.52 Q652.736 1549.52 650.468 1549.15 Q648.223 1548.78 645.815 1548.04 L645.815 1543.34 Q647.899 1544.47 650.121 1545.03 Q652.343 1545.58 654.82 1545.58 Q658.824 1545.58 661.162 1543.48 Q663.5 1541.37 663.5 1537.76 Q663.5 1534.15 661.162 1532.04 Q658.824 1529.94 654.82 1529.94 Q652.945 1529.94 651.07 1530.35 Q649.218 1530.77 647.274 1531.65 L647.274 1514.29 Z\" fill=\"#000000\" fill-rule=\"evenodd\" fill-opacity=\"1\" /><path clip-path=\"url(#clip730)\" d=\"M1025.22 1544.91 L1032.86 1544.91 L1032.86 1518.55 L1024.55 1520.21 L1024.55 1515.95 L1032.82 1514.29 L1037.49 1514.29 L1037.49 1544.91 L1045.13 1544.91 L1045.13 1548.85 L1025.22 1548.85 L1025.22 1544.91 Z\" fill=\"#000000\" fill-rule=\"evenodd\" fill-opacity=\"1\" /><path clip-path=\"url(#clip730)\" d=\"M1064.57 1517.37 Q1060.96 1517.37 1059.13 1520.93 Q1057.33 1524.47 1057.33 1531.6 Q1057.33 1538.71 1059.13 1542.27 Q1060.96 1545.82 1064.57 1545.82 Q1068.21 1545.82 1070.01 1542.27 Q1071.84 1538.71 1071.84 1531.6 Q1071.84 1524.47 1070.01 1520.93 Q1068.21 1517.37 1064.57 1517.37 M1064.57 1513.66 Q1070.38 1513.66 1073.44 1518.27 Q1076.52 1522.85 1076.52 1531.6 Q1076.52 1540.33 1073.44 1544.94 Q1070.38 1549.52 1064.57 1549.52 Q1058.76 1549.52 1055.69 1544.94 Q1052.63 1540.33 1052.63 1531.6 Q1052.63 1522.85 1055.69 1518.27 Q1058.76 1513.66 1064.57 1513.66 Z\" fill=\"#000000\" fill-rule=\"evenodd\" fill-opacity=\"1\" /><path clip-path=\"url(#clip730)\" d=\"M1419.26 1544.91 L1426.9 1544.91 L1426.9 1518.55 L1418.59 1520.21 L1418.59 1515.95 L1426.85 1514.29 L1431.53 1514.29 L1431.53 1544.91 L1439.17 1544.91 L1439.17 1548.85 L1419.26 1548.85 L1419.26 1544.91 Z\" fill=\"#000000\" fill-rule=\"evenodd\" fill-opacity=\"1\" /><path clip-path=\"url(#clip730)\" d=\"M1448.66 1514.29 L1467.01 1514.29 L1467.01 1518.22 L1452.94 1518.22 L1452.94 1526.7 Q1453.96 1526.35 1454.98 1526.19 Q1456 1526 1457.01 1526 Q1462.8 1526 1466.18 1529.17 Q1469.56 1532.34 1469.56 1537.76 Q1469.56 1543.34 1466.09 1546.44 Q1462.62 1549.52 1456.3 1549.52 Q1454.12 1549.52 1451.85 1549.15 Q1449.61 1548.78 1447.2 1548.04 L1447.2 1543.34 Q1449.28 1544.47 1451.5 1545.03 Q1453.73 1545.58 1456.2 1545.58 Q1460.21 1545.58 1462.55 1543.48 Q1464.88 1541.37 1464.88 1537.76 Q1464.88 1534.15 1462.55 1532.04 Q1460.21 1529.94 1456.2 1529.94 Q1454.33 1529.94 1452.45 1530.35 Q1450.6 1530.77 1448.66 1531.65 L1448.66 1514.29 Z\" fill=\"#000000\" fill-rule=\"evenodd\" fill-opacity=\"1\" /><path clip-path=\"url(#clip730)\" d=\"M1816.39 1544.91 L1832.71 1544.91 L1832.71 1548.85 L1810.76 1548.85 L1810.76 1544.91 Q1813.42 1542.16 1818.01 1537.53 Q1822.61 1532.88 1823.79 1531.53 Q1826.04 1529.01 1826.92 1527.27 Q1827.82 1525.51 1827.82 1523.82 Q1827.82 1521.07 1825.88 1519.33 Q1823.96 1517.6 1820.85 1517.6 Q1818.65 1517.6 1816.2 1518.36 Q1813.77 1519.13 1810.99 1520.68 L1810.99 1515.95 Q1813.82 1514.82 1816.27 1514.24 Q1818.72 1513.66 1820.76 1513.66 Q1826.13 1513.66 1829.33 1516.35 Q1832.52 1519.03 1832.52 1523.52 Q1832.52 1525.65 1831.71 1527.57 Q1830.92 1529.47 1828.82 1532.07 Q1828.24 1532.74 1825.14 1535.95 Q1822.03 1539.15 1816.39 1544.91 Z\" fill=\"#000000\" fill-rule=\"evenodd\" fill-opacity=\"1\" /><path clip-path=\"url(#clip730)\" d=\"M1852.52 1517.37 Q1848.91 1517.37 1847.08 1520.93 Q1845.28 1524.47 1845.28 1531.6 Q1845.28 1538.71 1847.08 1542.27 Q1848.91 1545.82 1852.52 1545.82 Q1856.15 1545.82 1857.96 1542.27 Q1859.79 1538.71 1859.79 1531.6 Q1859.79 1524.47 1857.96 1520.93 Q1856.15 1517.37 1852.52 1517.37 M1852.52 1513.66 Q1858.33 1513.66 1861.39 1518.27 Q1864.46 1522.85 1864.46 1531.6 Q1864.46 1540.33 1861.39 1544.94 Q1858.33 1549.52 1852.52 1549.52 Q1846.71 1549.52 1843.63 1544.94 Q1840.58 1540.33 1840.58 1531.6 Q1840.58 1522.85 1843.63 1518.27 Q1846.71 1513.66 1852.52 1513.66 Z\" fill=\"#000000\" fill-rule=\"evenodd\" fill-opacity=\"1\" /><path clip-path=\"url(#clip730)\" d=\"M2210.42 1544.91 L2226.74 1544.91 L2226.74 1548.85 L2204.8 1548.85 L2204.8 1544.91 Q2207.46 1542.16 2212.04 1537.53 Q2216.65 1532.88 2217.83 1531.53 Q2220.08 1529.01 2220.96 1527.27 Q2221.86 1525.51 2221.86 1523.82 Q2221.86 1521.07 2219.91 1519.33 Q2217.99 1517.6 2214.89 1517.6 Q2212.69 1517.6 2210.24 1518.36 Q2207.81 1519.13 2205.03 1520.68 L2205.03 1515.95 Q2207.85 1514.82 2210.31 1514.24 Q2212.76 1513.66 2214.8 1513.66 Q2220.17 1513.66 2223.36 1516.35 Q2226.56 1519.03 2226.56 1523.52 Q2226.56 1525.65 2225.75 1527.57 Q2224.96 1529.47 2222.85 1532.07 Q2222.28 1532.74 2219.17 1535.95 Q2216.07 1539.15 2210.42 1544.91 Z\" fill=\"#000000\" fill-rule=\"evenodd\" fill-opacity=\"1\" /><path clip-path=\"url(#clip730)\" d=\"M2236.6 1514.29 L2254.96 1514.29 L2254.96 1518.22 L2240.89 1518.22 L2240.89 1526.7 Q2241.9 1526.35 2242.92 1526.19 Q2243.94 1526 2244.96 1526 Q2250.75 1526 2254.13 1529.17 Q2257.51 1532.34 2257.51 1537.76 Q2257.51 1543.34 2254.03 1546.44 Q2250.56 1549.52 2244.24 1549.52 Q2242.07 1549.52 2239.8 1549.15 Q2237.55 1548.78 2235.15 1548.04 L2235.15 1543.34 Q2237.23 1544.47 2239.45 1545.03 Q2241.67 1545.58 2244.15 1545.58 Q2248.15 1545.58 2250.49 1543.48 Q2252.83 1541.37 2252.83 1537.76 Q2252.83 1534.15 2250.49 1532.04 Q2248.15 1529.94 2244.15 1529.94 Q2242.27 1529.94 2240.4 1530.35 Q2238.55 1530.77 2236.6 1531.65 L2236.6 1514.29 Z\" fill=\"#000000\" fill-rule=\"evenodd\" fill-opacity=\"1\" /><polyline clip-path=\"url(#clip732)\" style=\"stroke:#000000; stroke-linecap:butt; stroke-linejoin:round; stroke-width:2; stroke-opacity:0.1; fill:none\" points=\"\n",
       "  141.853,1445.72 2352.76,1445.72 \n",
       "  \"/>\n",
       "<polyline clip-path=\"url(#clip732)\" style=\"stroke:#000000; stroke-linecap:butt; stroke-linejoin:round; stroke-width:2; stroke-opacity:0.1; fill:none\" points=\"\n",
       "  141.853,1093.06 2352.76,1093.06 \n",
       "  \"/>\n",
       "<polyline clip-path=\"url(#clip732)\" style=\"stroke:#000000; stroke-linecap:butt; stroke-linejoin:round; stroke-width:2; stroke-opacity:0.1; fill:none\" points=\"\n",
       "  141.853,740.397 2352.76,740.397 \n",
       "  \"/>\n",
       "<polyline clip-path=\"url(#clip732)\" style=\"stroke:#000000; stroke-linecap:butt; stroke-linejoin:round; stroke-width:2; stroke-opacity:0.1; fill:none\" points=\"\n",
       "  141.853,387.737 2352.76,387.737 \n",
       "  \"/>\n",
       "<polyline clip-path=\"url(#clip730)\" style=\"stroke:#000000; stroke-linecap:butt; stroke-linejoin:round; stroke-width:4; stroke-opacity:1; fill:none\" points=\"\n",
       "  141.853,1486.45 141.853,47.2441 \n",
       "  \"/>\n",
       "<polyline clip-path=\"url(#clip730)\" style=\"stroke:#000000; stroke-linecap:butt; stroke-linejoin:round; stroke-width:4; stroke-opacity:1; fill:none\" points=\"\n",
       "  141.853,1445.72 160.751,1445.72 \n",
       "  \"/>\n",
       "<polyline clip-path=\"url(#clip730)\" style=\"stroke:#000000; stroke-linecap:butt; stroke-linejoin:round; stroke-width:4; stroke-opacity:1; fill:none\" points=\"\n",
       "  141.853,1093.06 160.751,1093.06 \n",
       "  \"/>\n",
       "<polyline clip-path=\"url(#clip730)\" style=\"stroke:#000000; stroke-linecap:butt; stroke-linejoin:round; stroke-width:4; stroke-opacity:1; fill:none\" points=\"\n",
       "  141.853,740.397 160.751,740.397 \n",
       "  \"/>\n",
       "<polyline clip-path=\"url(#clip730)\" style=\"stroke:#000000; stroke-linecap:butt; stroke-linejoin:round; stroke-width:4; stroke-opacity:1; fill:none\" points=\"\n",
       "  141.853,387.737 160.751,387.737 \n",
       "  \"/>\n",
       "<path clip-path=\"url(#clip730)\" d=\"M93.9086 1431.51 Q90.2975 1431.51 88.4688 1435.08 Q86.6632 1438.62 86.6632 1445.75 Q86.6632 1452.86 88.4688 1456.42 Q90.2975 1459.96 93.9086 1459.96 Q97.5428 1459.96 99.3483 1456.42 Q101.177 1452.86 101.177 1445.75 Q101.177 1438.62 99.3483 1435.08 Q97.5428 1431.51 93.9086 1431.51 M93.9086 1427.81 Q99.7187 1427.81 102.774 1432.42 Q105.853 1437 105.853 1445.75 Q105.853 1454.48 102.774 1459.08 Q99.7187 1463.67 93.9086 1463.67 Q88.0984 1463.67 85.0197 1459.08 Q81.9642 1454.48 81.9642 1445.75 Q81.9642 1437 85.0197 1432.42 Q88.0984 1427.81 93.9086 1427.81 Z\" fill=\"#000000\" fill-rule=\"evenodd\" fill-opacity=\"1\" /><path clip-path=\"url(#clip730)\" d=\"M57.7745 1106.4 L74.0939 1106.4 L74.0939 1110.34 L52.1495 1110.34 L52.1495 1106.4 Q54.8115 1103.65 59.3949 1099.02 Q64.0013 1094.36 65.1819 1093.02 Q67.4272 1090.5 68.3068 1088.76 Q69.2096 1087 69.2096 1085.31 Q69.2096 1082.56 67.2652 1080.82 Q65.3439 1079.09 62.2421 1079.09 Q60.043 1079.09 57.5893 1079.85 Q55.1588 1080.61 52.381 1082.16 L52.381 1077.44 Q55.2051 1076.31 57.6588 1075.73 Q60.1124 1075.15 62.1495 1075.15 Q67.5198 1075.15 70.7142 1077.84 Q73.9087 1080.52 73.9087 1085.01 Q73.9087 1087.14 73.0985 1089.06 Q72.3115 1090.96 70.205 1093.55 Q69.6263 1094.23 66.5245 1097.44 Q63.4226 1100.64 57.7745 1106.4 Z\" fill=\"#000000\" fill-rule=\"evenodd\" fill-opacity=\"1\" /><path clip-path=\"url(#clip730)\" d=\"M93.9086 1078.85 Q90.2975 1078.85 88.4688 1082.42 Q86.6632 1085.96 86.6632 1093.09 Q86.6632 1100.2 88.4688 1103.76 Q90.2975 1107.3 93.9086 1107.3 Q97.5428 1107.3 99.3483 1103.76 Q101.177 1100.2 101.177 1093.09 Q101.177 1085.96 99.3483 1082.42 Q97.5428 1078.85 93.9086 1078.85 M93.9086 1075.15 Q99.7187 1075.15 102.774 1079.76 Q105.853 1084.34 105.853 1093.09 Q105.853 1101.82 102.774 1106.42 Q99.7187 1111.01 93.9086 1111.01 Q88.0984 1111.01 85.0197 1106.42 Q81.9642 1101.82 81.9642 1093.09 Q81.9642 1084.34 85.0197 1079.76 Q88.0984 1075.15 93.9086 1075.15 Z\" fill=\"#000000\" fill-rule=\"evenodd\" fill-opacity=\"1\" /><path clip-path=\"url(#clip730)\" d=\"M66.5939 727.191 L54.7884 745.64 L66.5939 745.64 L66.5939 727.191 M65.367 723.117 L71.2466 723.117 L71.2466 745.64 L76.1772 745.64 L76.1772 749.528 L71.2466 749.528 L71.2466 757.677 L66.5939 757.677 L66.5939 749.528 L50.9921 749.528 L50.9921 745.015 L65.367 723.117 Z\" fill=\"#000000\" fill-rule=\"evenodd\" fill-opacity=\"1\" /><path clip-path=\"url(#clip730)\" d=\"M93.9086 726.195 Q90.2975 726.195 88.4688 729.76 Q86.6632 733.302 86.6632 740.431 Q86.6632 747.538 88.4688 751.102 Q90.2975 754.644 93.9086 754.644 Q97.5428 754.644 99.3483 751.102 Q101.177 747.538 101.177 740.431 Q101.177 733.302 99.3483 729.76 Q97.5428 726.195 93.9086 726.195 M93.9086 722.492 Q99.7187 722.492 102.774 727.098 Q105.853 731.681 105.853 740.431 Q105.853 749.158 102.774 753.764 Q99.7187 758.348 93.9086 758.348 Q88.0984 758.348 85.0197 753.764 Q81.9642 749.158 81.9642 740.431 Q81.9642 731.681 85.0197 727.098 Q88.0984 722.492 93.9086 722.492 Z\" fill=\"#000000\" fill-rule=\"evenodd\" fill-opacity=\"1\" /><path clip-path=\"url(#clip730)\" d=\"M64.3254 385.874 Q61.1773 385.874 59.3254 388.026 Q57.4967 390.179 57.4967 393.929 Q57.4967 397.656 59.3254 399.832 Q61.1773 401.985 64.3254 401.985 Q67.4735 401.985 69.3022 399.832 Q71.1541 397.656 71.1541 393.929 Q71.1541 390.179 69.3022 388.026 Q67.4735 385.874 64.3254 385.874 M73.6077 371.221 L73.6077 375.48 Q71.8485 374.647 70.0429 374.207 Q68.2606 373.767 66.5013 373.767 Q61.8717 373.767 59.418 376.892 Q56.9875 380.017 56.6402 386.336 Q58.006 384.323 60.0662 383.258 Q62.1263 382.17 64.6032 382.17 Q69.8115 382.17 72.8207 385.341 Q75.8531 388.489 75.8531 393.929 Q75.8531 399.253 72.705 402.471 Q69.5568 405.688 64.3254 405.688 Q58.33 405.688 55.1588 401.105 Q51.9875 396.498 51.9875 387.772 Q51.9875 379.577 55.8764 374.716 Q59.7652 369.832 66.3161 369.832 Q68.0754 369.832 69.8578 370.179 Q71.6633 370.526 73.6077 371.221 Z\" fill=\"#000000\" fill-rule=\"evenodd\" fill-opacity=\"1\" /><path clip-path=\"url(#clip730)\" d=\"M93.9086 373.536 Q90.2975 373.536 88.4688 377.1 Q86.6632 380.642 86.6632 387.772 Q86.6632 394.878 88.4688 398.443 Q90.2975 401.985 93.9086 401.985 Q97.5428 401.985 99.3483 398.443 Q101.177 394.878 101.177 387.772 Q101.177 380.642 99.3483 377.1 Q97.5428 373.536 93.9086 373.536 M93.9086 369.832 Q99.7187 369.832 102.774 374.438 Q105.853 379.022 105.853 387.772 Q105.853 396.498 102.774 401.105 Q99.7187 405.688 93.9086 405.688 Q88.0984 405.688 85.0197 401.105 Q81.9642 396.498 81.9642 387.772 Q81.9642 379.022 85.0197 374.438 Q88.0984 369.832 93.9086 369.832 Z\" fill=\"#000000\" fill-rule=\"evenodd\" fill-opacity=\"1\" /><path clip-path=\"url(#clip732)\" d=\"\n",
       "M263.457 1445.72 L263.457 1445.72 L342.164 1445.72 L342.164 1445.72 L263.457 1445.72 L263.457 1445.72  Z\n",
       "  \" fill=\"#009af9\" fill-rule=\"evenodd\" fill-opacity=\"1\"/>\n",
       "<polyline clip-path=\"url(#clip732)\" style=\"stroke:#000000; stroke-linecap:butt; stroke-linejoin:round; stroke-width:4; stroke-opacity:1; fill:none\" points=\"\n",
       "  263.457,1445.72 263.457,1445.72 342.164,1445.72 263.457,1445.72 \n",
       "  \"/>\n",
       "<path clip-path=\"url(#clip732)\" d=\"\n",
       "M342.164 1445.72 L342.164 1445.72 L420.872 1445.72 L420.872 1445.72 L342.164 1445.72 L342.164 1445.72  Z\n",
       "  \" fill=\"#009af9\" fill-rule=\"evenodd\" fill-opacity=\"1\"/>\n",
       "<polyline clip-path=\"url(#clip732)\" style=\"stroke:#000000; stroke-linecap:butt; stroke-linejoin:round; stroke-width:4; stroke-opacity:1; fill:none\" points=\"\n",
       "  342.164,1445.72 342.164,1445.72 420.872,1445.72 342.164,1445.72 \n",
       "  \"/>\n",
       "<path clip-path=\"url(#clip732)\" d=\"\n",
       "M420.872 1428.08 L420.872 1445.72 L499.58 1445.72 L499.58 1428.08 L420.872 1428.08 L420.872 1428.08  Z\n",
       "  \" fill=\"#009af9\" fill-rule=\"evenodd\" fill-opacity=\"1\"/>\n",
       "<polyline clip-path=\"url(#clip732)\" style=\"stroke:#000000; stroke-linecap:butt; stroke-linejoin:round; stroke-width:4; stroke-opacity:1; fill:none\" points=\"\n",
       "  420.872,1428.08 420.872,1445.72 499.58,1445.72 499.58,1428.08 420.872,1428.08 \n",
       "  \"/>\n",
       "<path clip-path=\"url(#clip732)\" d=\"\n",
       "M499.58 1198.85 L499.58 1445.72 L578.288 1445.72 L578.288 1198.85 L499.58 1198.85 L499.58 1198.85  Z\n",
       "  \" fill=\"#009af9\" fill-rule=\"evenodd\" fill-opacity=\"1\"/>\n",
       "<polyline clip-path=\"url(#clip732)\" style=\"stroke:#000000; stroke-linecap:butt; stroke-linejoin:round; stroke-width:4; stroke-opacity:1; fill:none\" points=\"\n",
       "  499.58,1198.85 499.58,1445.72 578.288,1445.72 578.288,1198.85 499.58,1198.85 \n",
       "  \"/>\n",
       "<path clip-path=\"url(#clip732)\" d=\"\n",
       "M578.288 317.205 L578.288 1445.72 L656.996 1445.72 L656.996 317.205 L578.288 317.205 L578.288 317.205  Z\n",
       "  \" fill=\"#009af9\" fill-rule=\"evenodd\" fill-opacity=\"1\"/>\n",
       "<polyline clip-path=\"url(#clip732)\" style=\"stroke:#000000; stroke-linecap:butt; stroke-linejoin:round; stroke-width:4; stroke-opacity:1; fill:none\" points=\"\n",
       "  578.288,317.205 578.288,1445.72 656.996,1445.72 656.996,317.205 578.288,317.205 \n",
       "  \"/>\n",
       "<path clip-path=\"url(#clip732)\" d=\"\n",
       "M656.996 317.205 L656.996 1445.72 L735.704 1445.72 L735.704 317.205 L656.996 317.205 L656.996 317.205  Z\n",
       "  \" fill=\"#009af9\" fill-rule=\"evenodd\" fill-opacity=\"1\"/>\n",
       "<polyline clip-path=\"url(#clip732)\" style=\"stroke:#000000; stroke-linecap:butt; stroke-linejoin:round; stroke-width:4; stroke-opacity:1; fill:none\" points=\"\n",
       "  656.996,317.205 656.996,1445.72 735.704,1445.72 735.704,317.205 656.996,317.205 \n",
       "  \"/>\n",
       "<path clip-path=\"url(#clip732)\" d=\"\n",
       "M735.704 299.572 L735.704 1445.72 L814.411 1445.72 L814.411 299.572 L735.704 299.572 L735.704 299.572  Z\n",
       "  \" fill=\"#009af9\" fill-rule=\"evenodd\" fill-opacity=\"1\"/>\n",
       "<polyline clip-path=\"url(#clip732)\" style=\"stroke:#000000; stroke-linecap:butt; stroke-linejoin:round; stroke-width:4; stroke-opacity:1; fill:none\" points=\"\n",
       "  735.704,299.572 735.704,1445.72 814.411,1445.72 814.411,299.572 735.704,299.572 \n",
       "  \"/>\n",
       "<path clip-path=\"url(#clip732)\" d=\"\n",
       "M814.411 334.838 L814.411 1445.72 L893.119 1445.72 L893.119 334.838 L814.411 334.838 L814.411 334.838  Z\n",
       "  \" fill=\"#009af9\" fill-rule=\"evenodd\" fill-opacity=\"1\"/>\n",
       "<polyline clip-path=\"url(#clip732)\" style=\"stroke:#000000; stroke-linecap:butt; stroke-linejoin:round; stroke-width:4; stroke-opacity:1; fill:none\" points=\"\n",
       "  814.411,334.838 814.411,1445.72 893.119,1445.72 893.119,334.838 814.411,334.838 \n",
       "  \"/>\n",
       "<path clip-path=\"url(#clip732)\" d=\"\n",
       "M893.119 158.508 L893.119 1445.72 L971.827 1445.72 L971.827 158.508 L893.119 158.508 L893.119 158.508  Z\n",
       "  \" fill=\"#009af9\" fill-rule=\"evenodd\" fill-opacity=\"1\"/>\n",
       "<polyline clip-path=\"url(#clip732)\" style=\"stroke:#000000; stroke-linecap:butt; stroke-linejoin:round; stroke-width:4; stroke-opacity:1; fill:none\" points=\"\n",
       "  893.119,158.508 893.119,1445.72 971.827,1445.72 971.827,158.508 893.119,158.508 \n",
       "  \"/>\n",
       "<path clip-path=\"url(#clip732)\" d=\"\n",
       "M971.827 528.801 L971.827 1445.72 L1050.53 1445.72 L1050.53 528.801 L971.827 528.801 L971.827 528.801  Z\n",
       "  \" fill=\"#009af9\" fill-rule=\"evenodd\" fill-opacity=\"1\"/>\n",
       "<polyline clip-path=\"url(#clip732)\" style=\"stroke:#000000; stroke-linecap:butt; stroke-linejoin:round; stroke-width:4; stroke-opacity:1; fill:none\" points=\"\n",
       "  971.827,528.801 971.827,1445.72 1050.53,1445.72 1050.53,528.801 971.827,528.801 \n",
       "  \"/>\n",
       "<path clip-path=\"url(#clip732)\" d=\"\n",
       "M1050.53 140.875 L1050.53 1445.72 L1129.24 1445.72 L1129.24 140.875 L1050.53 140.875 L1050.53 140.875  Z\n",
       "  \" fill=\"#009af9\" fill-rule=\"evenodd\" fill-opacity=\"1\"/>\n",
       "<polyline clip-path=\"url(#clip732)\" style=\"stroke:#000000; stroke-linecap:butt; stroke-linejoin:round; stroke-width:4; stroke-opacity:1; fill:none\" points=\"\n",
       "  1050.53,140.875 1050.53,1445.72 1129.24,1445.72 1129.24,140.875 1050.53,140.875 \n",
       "  \"/>\n",
       "<path clip-path=\"url(#clip732)\" d=\"\n",
       "M1129.24 87.9763 L1129.24 1445.72 L1207.95 1445.72 L1207.95 87.9763 L1129.24 87.9763 L1129.24 87.9763  Z\n",
       "  \" fill=\"#009af9\" fill-rule=\"evenodd\" fill-opacity=\"1\"/>\n",
       "<polyline clip-path=\"url(#clip732)\" style=\"stroke:#000000; stroke-linecap:butt; stroke-linejoin:round; stroke-width:4; stroke-opacity:1; fill:none\" points=\"\n",
       "  1129.24,87.9763 1129.24,1445.72 1207.95,1445.72 1207.95,87.9763 1129.24,87.9763 \n",
       "  \"/>\n",
       "<path clip-path=\"url(#clip732)\" d=\"\n",
       "M1207.95 599.333 L1207.95 1445.72 L1286.66 1445.72 L1286.66 599.333 L1207.95 599.333 L1207.95 599.333  Z\n",
       "  \" fill=\"#009af9\" fill-rule=\"evenodd\" fill-opacity=\"1\"/>\n",
       "<polyline clip-path=\"url(#clip732)\" style=\"stroke:#000000; stroke-linecap:butt; stroke-linejoin:round; stroke-width:4; stroke-opacity:1; fill:none\" points=\"\n",
       "  1207.95,599.333 1207.95,1445.72 1286.66,1445.72 1286.66,599.333 1207.95,599.333 \n",
       "  \"/>\n",
       "<path clip-path=\"url(#clip732)\" d=\"\n",
       "M1286.66 475.902 L1286.66 1445.72 L1365.37 1445.72 L1365.37 475.902 L1286.66 475.902 L1286.66 475.902  Z\n",
       "  \" fill=\"#009af9\" fill-rule=\"evenodd\" fill-opacity=\"1\"/>\n",
       "<polyline clip-path=\"url(#clip732)\" style=\"stroke:#000000; stroke-linecap:butt; stroke-linejoin:round; stroke-width:4; stroke-opacity:1; fill:none\" points=\"\n",
       "  1286.66,475.902 1286.66,1445.72 1365.37,1445.72 1365.37,475.902 1286.66,475.902 \n",
       "  \"/>\n",
       "<path clip-path=\"url(#clip732)\" d=\"\n",
       "M1365.37 458.269 L1365.37 1445.72 L1444.07 1445.72 L1444.07 458.269 L1365.37 458.269 L1365.37 458.269  Z\n",
       "  \" fill=\"#009af9\" fill-rule=\"evenodd\" fill-opacity=\"1\"/>\n",
       "<polyline clip-path=\"url(#clip732)\" style=\"stroke:#000000; stroke-linecap:butt; stroke-linejoin:round; stroke-width:4; stroke-opacity:1; fill:none\" points=\"\n",
       "  1365.37,458.269 1365.37,1445.72 1444.07,1445.72 1444.07,458.269 1365.37,458.269 \n",
       "  \"/>\n",
       "<path clip-path=\"url(#clip732)\" d=\"\n",
       "M1444.07 546.434 L1444.07 1445.72 L1522.78 1445.72 L1522.78 546.434 L1444.07 546.434 L1444.07 546.434  Z\n",
       "  \" fill=\"#009af9\" fill-rule=\"evenodd\" fill-opacity=\"1\"/>\n",
       "<polyline clip-path=\"url(#clip732)\" style=\"stroke:#000000; stroke-linecap:butt; stroke-linejoin:round; stroke-width:4; stroke-opacity:1; fill:none\" points=\"\n",
       "  1444.07,546.434 1444.07,1445.72 1522.78,1445.72 1522.78,546.434 1444.07,546.434 \n",
       "  \"/>\n",
       "<path clip-path=\"url(#clip732)\" d=\"\n",
       "M1522.78 581.7 L1522.78 1445.72 L1601.49 1445.72 L1601.49 581.7 L1522.78 581.7 L1522.78 581.7  Z\n",
       "  \" fill=\"#009af9\" fill-rule=\"evenodd\" fill-opacity=\"1\"/>\n",
       "<polyline clip-path=\"url(#clip732)\" style=\"stroke:#000000; stroke-linecap:butt; stroke-linejoin:round; stroke-width:4; stroke-opacity:1; fill:none\" points=\"\n",
       "  1522.78,581.7 1522.78,1445.72 1601.49,1445.72 1601.49,581.7 1522.78,581.7 \n",
       "  \"/>\n",
       "<path clip-path=\"url(#clip732)\" d=\"\n",
       "M1601.49 634.599 L1601.49 1445.72 L1680.2 1445.72 L1680.2 634.599 L1601.49 634.599 L1601.49 634.599  Z\n",
       "  \" fill=\"#009af9\" fill-rule=\"evenodd\" fill-opacity=\"1\"/>\n",
       "<polyline clip-path=\"url(#clip732)\" style=\"stroke:#000000; stroke-linecap:butt; stroke-linejoin:round; stroke-width:4; stroke-opacity:1; fill:none\" points=\"\n",
       "  1601.49,634.599 1601.49,1445.72 1680.2,1445.72 1680.2,634.599 1601.49,634.599 \n",
       "  \"/>\n",
       "<path clip-path=\"url(#clip732)\" d=\"\n",
       "M1680.2 810.928 L1680.2 1445.72 L1758.91 1445.72 L1758.91 810.928 L1680.2 810.928 L1680.2 810.928  Z\n",
       "  \" fill=\"#009af9\" fill-rule=\"evenodd\" fill-opacity=\"1\"/>\n",
       "<polyline clip-path=\"url(#clip732)\" style=\"stroke:#000000; stroke-linecap:butt; stroke-linejoin:round; stroke-width:4; stroke-opacity:1; fill:none\" points=\"\n",
       "  1680.2,810.928 1680.2,1445.72 1758.91,1445.72 1758.91,810.928 1680.2,810.928 \n",
       "  \"/>\n",
       "<path clip-path=\"url(#clip732)\" d=\"\n",
       "M1758.91 846.194 L1758.91 1445.72 L1837.61 1445.72 L1837.61 846.194 L1758.91 846.194 L1758.91 846.194  Z\n",
       "  \" fill=\"#009af9\" fill-rule=\"evenodd\" fill-opacity=\"1\"/>\n",
       "<polyline clip-path=\"url(#clip732)\" style=\"stroke:#000000; stroke-linecap:butt; stroke-linejoin:round; stroke-width:4; stroke-opacity:1; fill:none\" points=\"\n",
       "  1758.91,846.194 1758.91,1445.72 1837.61,1445.72 1837.61,846.194 1758.91,846.194 \n",
       "  \"/>\n",
       "<path clip-path=\"url(#clip732)\" d=\"\n",
       "M1837.61 951.992 L1837.61 1445.72 L1916.32 1445.72 L1916.32 951.992 L1837.61 951.992 L1837.61 951.992  Z\n",
       "  \" fill=\"#009af9\" fill-rule=\"evenodd\" fill-opacity=\"1\"/>\n",
       "<polyline clip-path=\"url(#clip732)\" style=\"stroke:#000000; stroke-linecap:butt; stroke-linejoin:round; stroke-width:4; stroke-opacity:1; fill:none\" points=\"\n",
       "  1837.61,951.992 1837.61,1445.72 1916.32,1445.72 1916.32,951.992 1837.61,951.992 \n",
       "  \"/>\n",
       "<path clip-path=\"url(#clip732)\" d=\"\n",
       "M1916.32 1093.06 L1916.32 1445.72 L1995.03 1445.72 L1995.03 1093.06 L1916.32 1093.06 L1916.32 1093.06  Z\n",
       "  \" fill=\"#009af9\" fill-rule=\"evenodd\" fill-opacity=\"1\"/>\n",
       "<polyline clip-path=\"url(#clip732)\" style=\"stroke:#000000; stroke-linecap:butt; stroke-linejoin:round; stroke-width:4; stroke-opacity:1; fill:none\" points=\"\n",
       "  1916.32,1093.06 1916.32,1445.72 1995.03,1445.72 1995.03,1093.06 1916.32,1093.06 \n",
       "  \"/>\n",
       "<path clip-path=\"url(#clip732)\" d=\"\n",
       "M1995.03 1145.96 L1995.03 1445.72 L2073.74 1445.72 L2073.74 1145.96 L1995.03 1145.96 L1995.03 1145.96  Z\n",
       "  \" fill=\"#009af9\" fill-rule=\"evenodd\" fill-opacity=\"1\"/>\n",
       "<polyline clip-path=\"url(#clip732)\" style=\"stroke:#000000; stroke-linecap:butt; stroke-linejoin:round; stroke-width:4; stroke-opacity:1; fill:none\" points=\"\n",
       "  1995.03,1145.96 1995.03,1445.72 2073.74,1445.72 2073.74,1145.96 1995.03,1145.96 \n",
       "  \"/>\n",
       "<path clip-path=\"url(#clip732)\" d=\"\n",
       "M2073.74 1287.02 L2073.74 1445.72 L2152.44 1445.72 L2152.44 1287.02 L2073.74 1287.02 L2073.74 1287.02  Z\n",
       "  \" fill=\"#009af9\" fill-rule=\"evenodd\" fill-opacity=\"1\"/>\n",
       "<polyline clip-path=\"url(#clip732)\" style=\"stroke:#000000; stroke-linecap:butt; stroke-linejoin:round; stroke-width:4; stroke-opacity:1; fill:none\" points=\"\n",
       "  2073.74,1287.02 2073.74,1445.72 2152.44,1445.72 2152.44,1287.02 2073.74,1287.02 \n",
       "  \"/>\n",
       "<path clip-path=\"url(#clip732)\" d=\"\n",
       "M2152.44 1375.18 L2152.44 1445.72 L2231.15 1445.72 L2231.15 1375.18 L2152.44 1375.18 L2152.44 1375.18  Z\n",
       "  \" fill=\"#009af9\" fill-rule=\"evenodd\" fill-opacity=\"1\"/>\n",
       "<polyline clip-path=\"url(#clip732)\" style=\"stroke:#000000; stroke-linecap:butt; stroke-linejoin:round; stroke-width:4; stroke-opacity:1; fill:none\" points=\"\n",
       "  2152.44,1375.18 2152.44,1445.72 2231.15,1445.72 2231.15,1375.18 2152.44,1375.18 \n",
       "  \"/>\n",
       "<circle clip-path=\"url(#clip732)\" style=\"fill:#009af9; stroke:none; fill-opacity:0\" cx=\"302.81\" cy=\"1445.72\" r=\"2\"/>\n",
       "<circle clip-path=\"url(#clip732)\" style=\"fill:#009af9; stroke:none; fill-opacity:0\" cx=\"381.518\" cy=\"1445.72\" r=\"2\"/>\n",
       "<circle clip-path=\"url(#clip732)\" style=\"fill:#009af9; stroke:none; fill-opacity:0\" cx=\"460.226\" cy=\"1428.08\" r=\"2\"/>\n",
       "<circle clip-path=\"url(#clip732)\" style=\"fill:#009af9; stroke:none; fill-opacity:0\" cx=\"538.934\" cy=\"1198.85\" r=\"2\"/>\n",
       "<circle clip-path=\"url(#clip732)\" style=\"fill:#009af9; stroke:none; fill-opacity:0\" cx=\"617.642\" cy=\"317.205\" r=\"2\"/>\n",
       "<circle clip-path=\"url(#clip732)\" style=\"fill:#009af9; stroke:none; fill-opacity:0\" cx=\"696.35\" cy=\"317.205\" r=\"2\"/>\n",
       "<circle clip-path=\"url(#clip732)\" style=\"fill:#009af9; stroke:none; fill-opacity:0\" cx=\"775.057\" cy=\"299.572\" r=\"2\"/>\n",
       "<circle clip-path=\"url(#clip732)\" style=\"fill:#009af9; stroke:none; fill-opacity:0\" cx=\"853.765\" cy=\"334.838\" r=\"2\"/>\n",
       "<circle clip-path=\"url(#clip732)\" style=\"fill:#009af9; stroke:none; fill-opacity:0\" cx=\"932.473\" cy=\"158.508\" r=\"2\"/>\n",
       "<circle clip-path=\"url(#clip732)\" style=\"fill:#009af9; stroke:none; fill-opacity:0\" cx=\"1011.18\" cy=\"528.801\" r=\"2\"/>\n",
       "<circle clip-path=\"url(#clip732)\" style=\"fill:#009af9; stroke:none; fill-opacity:0\" cx=\"1089.89\" cy=\"140.875\" r=\"2\"/>\n",
       "<circle clip-path=\"url(#clip732)\" style=\"fill:#009af9; stroke:none; fill-opacity:0\" cx=\"1168.6\" cy=\"87.9763\" r=\"2\"/>\n",
       "<circle clip-path=\"url(#clip732)\" style=\"fill:#009af9; stroke:none; fill-opacity:0\" cx=\"1247.3\" cy=\"599.333\" r=\"2\"/>\n",
       "<circle clip-path=\"url(#clip732)\" style=\"fill:#009af9; stroke:none; fill-opacity:0\" cx=\"1326.01\" cy=\"475.902\" r=\"2\"/>\n",
       "<circle clip-path=\"url(#clip732)\" style=\"fill:#009af9; stroke:none; fill-opacity:0\" cx=\"1404.72\" cy=\"458.269\" r=\"2\"/>\n",
       "<circle clip-path=\"url(#clip732)\" style=\"fill:#009af9; stroke:none; fill-opacity:0\" cx=\"1483.43\" cy=\"546.434\" r=\"2\"/>\n",
       "<circle clip-path=\"url(#clip732)\" style=\"fill:#009af9; stroke:none; fill-opacity:0\" cx=\"1562.14\" cy=\"581.7\" r=\"2\"/>\n",
       "<circle clip-path=\"url(#clip732)\" style=\"fill:#009af9; stroke:none; fill-opacity:0\" cx=\"1640.84\" cy=\"634.599\" r=\"2\"/>\n",
       "<circle clip-path=\"url(#clip732)\" style=\"fill:#009af9; stroke:none; fill-opacity:0\" cx=\"1719.55\" cy=\"810.928\" r=\"2\"/>\n",
       "<circle clip-path=\"url(#clip732)\" style=\"fill:#009af9; stroke:none; fill-opacity:0\" cx=\"1798.26\" cy=\"846.194\" r=\"2\"/>\n",
       "<circle clip-path=\"url(#clip732)\" style=\"fill:#009af9; stroke:none; fill-opacity:0\" cx=\"1876.97\" cy=\"951.992\" r=\"2\"/>\n",
       "<circle clip-path=\"url(#clip732)\" style=\"fill:#009af9; stroke:none; fill-opacity:0\" cx=\"1955.67\" cy=\"1093.06\" r=\"2\"/>\n",
       "<circle clip-path=\"url(#clip732)\" style=\"fill:#009af9; stroke:none; fill-opacity:0\" cx=\"2034.38\" cy=\"1145.96\" r=\"2\"/>\n",
       "<circle clip-path=\"url(#clip732)\" style=\"fill:#009af9; stroke:none; fill-opacity:0\" cx=\"2113.09\" cy=\"1287.02\" r=\"2\"/>\n",
       "<circle clip-path=\"url(#clip732)\" style=\"fill:#009af9; stroke:none; fill-opacity:0\" cx=\"2191.8\" cy=\"1375.18\" r=\"2\"/>\n",
       "<path clip-path=\"url(#clip730)\" d=\"\n",
       "M1980.97 198.898 L2279.06 198.898 L2279.06 95.2176 L1980.97 95.2176  Z\n",
       "  \" fill=\"#ffffff\" fill-rule=\"evenodd\" fill-opacity=\"1\"/>\n",
       "<polyline clip-path=\"url(#clip730)\" style=\"stroke:#000000; stroke-linecap:butt; stroke-linejoin:round; stroke-width:4; stroke-opacity:1; fill:none\" points=\"\n",
       "  1980.97,198.898 2279.06,198.898 2279.06,95.2176 1980.97,95.2176 1980.97,198.898 \n",
       "  \"/>\n",
       "<path clip-path=\"url(#clip730)\" d=\"\n",
       "M2005.54 167.794 L2152.93 167.794 L2152.93 126.322 L2005.54 126.322 L2005.54 167.794  Z\n",
       "  \" fill=\"#009af9\" fill-rule=\"evenodd\" fill-opacity=\"1\"/>\n",
       "<polyline clip-path=\"url(#clip730)\" style=\"stroke:#000000; stroke-linecap:butt; stroke-linejoin:round; stroke-width:4; stroke-opacity:1; fill:none\" points=\"\n",
       "  2005.54,167.794 2152.93,167.794 2152.93,126.322 2005.54,126.322 2005.54,167.794 \n",
       "  \"/>\n",
       "<path clip-path=\"url(#clip730)\" d=\"M2191.34 166.745 Q2189.53 171.375 2187.82 172.787 Q2186.11 174.199 2183.24 174.199 L2179.84 174.199 L2179.84 170.634 L2182.34 170.634 Q2184.09 170.634 2185.07 169.8 Q2186.04 168.967 2187.22 165.865 L2187.98 163.921 L2177.5 138.412 L2182.01 138.412 L2190.11 158.689 L2198.22 138.412 L2202.73 138.412 L2191.34 166.745 Z\" fill=\"#000000\" fill-rule=\"evenodd\" fill-opacity=\"1\" /><path clip-path=\"url(#clip730)\" d=\"M2210.02 160.402 L2217.66 160.402 L2217.66 134.037 L2209.35 135.703 L2209.35 131.444 L2217.61 129.778 L2222.29 129.778 L2222.29 160.402 L2229.93 160.402 L2229.93 164.338 L2210.02 164.338 L2210.02 160.402 Z\" fill=\"#000000\" fill-rule=\"evenodd\" fill-opacity=\"1\" /></svg>\n"
      ]
     },
     "metadata": {},
     "output_type": "display_data"
    }
   ],
   "source": [
    "using Plots, Distributions\n",
    "plot(u)\n",
    "histogram(u; bins = 0:1:25)\n"
   ]
  },
  {
   "cell_type": "code",
   "execution_count": null,
   "metadata": {},
   "outputs": [],
   "source": [
    "c_p=u[i]^cal.ϵ_p * (p[t,1]/NH_Exp[t,i])^(-cal.σ)\n",
    "c_n=u[i]^cal.ϵ_n * (p[t,2]/NH_Exp[t,i])^(-cal.σ)\n",
    "c_l=u[i]^cal.ϵ_l * (p[t,3]/NH_Exp[t,i])^(-cal.σ)"
   ]
  }
 ],
 "metadata": {
  "kernelspec": {
   "display_name": "Julia 1.6.3",
   "language": "julia",
   "name": "julia-1.6"
  },
  "language_info": {
   "file_extension": ".jl",
   "mimetype": "application/julia",
   "name": "julia",
   "version": "1.6.3"
  },
  "orig_nbformat": 4
 },
 "nbformat": 4,
 "nbformat_minor": 2
}
